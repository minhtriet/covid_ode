{
 "cells": [
  {
   "cell_type": "code",
   "execution_count": 1,
   "id": "2bb3e3b8-442c-4b75-8c1f-863f02bde29a",
   "metadata": {
    "execution": {
     "iopub.execute_input": "2022-08-31T23:42:27.078758Z",
     "iopub.status.busy": "2022-08-31T23:42:27.078146Z",
     "iopub.status.idle": "2022-08-31T23:42:32.037158Z",
     "shell.execute_reply": "2022-08-31T23:42:32.035979Z",
     "shell.execute_reply.started": "2022-08-31T23:42:27.078678Z"
    },
    "tags": []
   },
   "outputs": [],
   "source": [
    "import torch\n",
    "import torch.nn as nn\n",
    "import os\n",
    "from covid_ode import sidartha_ode\n",
    "#from ode_nn import Dataset, train_epoch, eval_epoch, get_lr\n",
    "import numpy as np\n",
    "import pandas as pd\n",
    "import torch.nn.functional as F\n",
    "from torch.utils import data\n",
    "import matplotlib.pyplot as plt\n",
    "import random\n",
    "import warnings\n",
    "# from ode_nn import Dataset_graph, train_epoch_graph, eval_epoch_graph, get_lr\n",
    "device = torch.device(\"cuda\" if torch.cuda.is_available() else \"cpu\")"
   ]
  },
  {
   "cell_type": "code",
   "execution_count": 2,
   "id": "92f384c5-3b0b-41ce-8688-bf9ad652fbc1",
   "metadata": {
    "execution": {
     "iopub.execute_input": "2022-08-31T23:42:32.039283Z",
     "iopub.status.busy": "2022-08-31T23:42:32.038940Z",
     "iopub.status.idle": "2022-08-31T23:42:32.068416Z",
     "shell.execute_reply": "2022-08-31T23:42:32.067714Z",
     "shell.execute_reply.started": "2022-08-31T23:42:32.039240Z"
    },
    "tags": []
   },
   "outputs": [],
   "source": [
    "canada = pd.read_csv('canada.csv')"
   ]
  },
  {
   "cell_type": "code",
   "execution_count": 3,
   "id": "920e90ef-5f1a-4091-bbfd-7e546d8793f8",
   "metadata": {
    "execution": {
     "iopub.execute_input": "2022-08-31T23:42:32.069393Z",
     "iopub.status.busy": "2022-08-31T23:42:32.069229Z",
     "iopub.status.idle": "2022-08-31T23:42:32.077438Z",
     "shell.execute_reply": "2022-08-31T23:42:32.076061Z",
     "shell.execute_reply.started": "2022-08-31T23:42:32.069371Z"
    },
    "tags": []
   },
   "outputs": [
    {
     "data": {
      "text/plain": [
       "(555, 4)"
      ]
     },
     "execution_count": 3,
     "metadata": {},
     "output_type": "execute_result"
    }
   ],
   "source": [
    "canada.shape"
   ]
  },
  {
   "cell_type": "code",
   "execution_count": 4,
   "id": "0489017c-94f1-41a5-b54b-5c4629f0110d",
   "metadata": {
    "execution": {
     "iopub.execute_input": "2022-08-31T23:42:32.079781Z",
     "iopub.status.busy": "2022-08-31T23:42:32.079292Z",
     "iopub.status.idle": "2022-08-31T23:42:32.115622Z",
     "shell.execute_reply": "2022-08-31T23:42:32.114787Z",
     "shell.execute_reply.started": "2022-08-31T23:42:32.079736Z"
    },
    "tags": []
   },
   "outputs": [
    {
     "data": {
      "text/html": [
       "<div>\n",
       "<style scoped>\n",
       "    .dataframe tbody tr th:only-of-type {\n",
       "        vertical-align: middle;\n",
       "    }\n",
       "\n",
       "    .dataframe tbody tr th {\n",
       "        vertical-align: top;\n",
       "    }\n",
       "\n",
       "    .dataframe thead th {\n",
       "        text-align: right;\n",
       "    }\n",
       "</style>\n",
       "<table border=\"1\" class=\"dataframe\">\n",
       "  <thead>\n",
       "    <tr style=\"text-align: right;\">\n",
       "      <th></th>\n",
       "      <th>Confirmed</th>\n",
       "      <th>Recovered</th>\n",
       "      <th>Deaths</th>\n",
       "      <th>Last_Update</th>\n",
       "    </tr>\n",
       "  </thead>\n",
       "  <tbody>\n",
       "    <tr>\n",
       "      <th>0</th>\n",
       "      <td>4.0</td>\n",
       "      <td>0.0</td>\n",
       "      <td>0.0</td>\n",
       "      <td>2020-01-28 23:00:00</td>\n",
       "    </tr>\n",
       "    <tr>\n",
       "      <th>1</th>\n",
       "      <td>4.0</td>\n",
       "      <td>0.0</td>\n",
       "      <td>0.0</td>\n",
       "      <td>2020-01-29 19:30:00</td>\n",
       "    </tr>\n",
       "    <tr>\n",
       "      <th>2</th>\n",
       "      <td>4.0</td>\n",
       "      <td>0.0</td>\n",
       "      <td>0.0</td>\n",
       "      <td>2020-01-30 16:00:00</td>\n",
       "    </tr>\n",
       "    <tr>\n",
       "      <th>3</th>\n",
       "      <td>4.0</td>\n",
       "      <td>0.0</td>\n",
       "      <td>0.0</td>\n",
       "      <td>2020-01-31 23:59:00</td>\n",
       "    </tr>\n",
       "    <tr>\n",
       "      <th>4</th>\n",
       "      <td>4.0</td>\n",
       "      <td>0.0</td>\n",
       "      <td>0.0</td>\n",
       "      <td>2020-02-01 18:12:00</td>\n",
       "    </tr>\n",
       "    <tr>\n",
       "      <th>...</th>\n",
       "      <td>...</td>\n",
       "      <td>...</td>\n",
       "      <td>...</td>\n",
       "      <td>...</td>\n",
       "    </tr>\n",
       "    <tr>\n",
       "      <th>550</th>\n",
       "      <td>1434967.0</td>\n",
       "      <td>1404107.0</td>\n",
       "      <td>26599.0</td>\n",
       "      <td>2021-08-01 04:21:50</td>\n",
       "    </tr>\n",
       "    <tr>\n",
       "      <th>551</th>\n",
       "      <td>1435347.0</td>\n",
       "      <td>1404244.0</td>\n",
       "      <td>26601.0</td>\n",
       "      <td>2021-08-02 04:21:36</td>\n",
       "    </tr>\n",
       "    <tr>\n",
       "      <th>552</th>\n",
       "      <td>1435683.0</td>\n",
       "      <td>1404327.0</td>\n",
       "      <td>26602.0</td>\n",
       "      <td>2021-08-03 04:21:39</td>\n",
       "    </tr>\n",
       "    <tr>\n",
       "      <th>553</th>\n",
       "      <td>1437713.0</td>\n",
       "      <td>1405529.0</td>\n",
       "      <td>26608.0</td>\n",
       "      <td>2021-08-04 04:21:25</td>\n",
       "    </tr>\n",
       "    <tr>\n",
       "      <th>554</th>\n",
       "      <td>1438806.0</td>\n",
       "      <td>1405971.0</td>\n",
       "      <td>26619.0</td>\n",
       "      <td>2021-08-05 04:21:51</td>\n",
       "    </tr>\n",
       "  </tbody>\n",
       "</table>\n",
       "<p>555 rows × 4 columns</p>\n",
       "</div>"
      ],
      "text/plain": [
       "     Confirmed  Recovered   Deaths          Last_Update\n",
       "0          4.0        0.0      0.0  2020-01-28 23:00:00\n",
       "1          4.0        0.0      0.0  2020-01-29 19:30:00\n",
       "2          4.0        0.0      0.0  2020-01-30 16:00:00\n",
       "3          4.0        0.0      0.0  2020-01-31 23:59:00\n",
       "4          4.0        0.0      0.0  2020-02-01 18:12:00\n",
       "..         ...        ...      ...                  ...\n",
       "550  1434967.0  1404107.0  26599.0  2021-08-01 04:21:50\n",
       "551  1435347.0  1404244.0  26601.0  2021-08-02 04:21:36\n",
       "552  1435683.0  1404327.0  26602.0  2021-08-03 04:21:39\n",
       "553  1437713.0  1405529.0  26608.0  2021-08-04 04:21:25\n",
       "554  1438806.0  1405971.0  26619.0  2021-08-05 04:21:51\n",
       "\n",
       "[555 rows x 4 columns]"
      ]
     },
     "execution_count": 4,
     "metadata": {},
     "output_type": "execute_result"
    }
   ],
   "source": [
    "canada"
   ]
  },
  {
   "cell_type": "code",
   "execution_count": 5,
   "id": "2258e7da-b747-4cfc-a5b2-056e2603fd11",
   "metadata": {
    "execution": {
     "iopub.execute_input": "2022-08-31T23:42:32.117313Z",
     "iopub.status.busy": "2022-08-31T23:42:32.117020Z",
     "iopub.status.idle": "2022-08-31T23:42:32.123180Z",
     "shell.execute_reply": "2022-08-31T23:42:32.121742Z",
     "shell.execute_reply.started": "2022-08-31T23:42:32.117271Z"
    },
    "tags": []
   },
   "outputs": [],
   "source": [
    "canada = canada.values[:, 0:3]"
   ]
  },
  {
   "cell_type": "code",
   "execution_count": 6,
   "id": "819fdc06-bc14-4c99-91b6-e4a5914ddfed",
   "metadata": {
    "execution": {
     "iopub.execute_input": "2022-08-31T23:42:32.126049Z",
     "iopub.status.busy": "2022-08-31T23:42:32.125622Z",
     "iopub.status.idle": "2022-08-31T23:42:32.131574Z",
     "shell.execute_reply": "2022-08-31T23:42:32.130278Z",
     "shell.execute_reply.started": "2022-08-31T23:42:32.125973Z"
    },
    "tags": []
   },
   "outputs": [
    {
     "data": {
      "text/plain": [
       "array([[4.0, 0.0, 0.0],\n",
       "       [4.0, 0.0, 0.0],\n",
       "       [4.0, 0.0, 0.0],\n",
       "       ...,\n",
       "       [1435683.0, 1404327.0, 26602.0],\n",
       "       [1437713.0, 1405529.0, 26608.0],\n",
       "       [1438806.0, 1405971.0, 26619.0]], dtype=object)"
      ]
     },
     "execution_count": 6,
     "metadata": {},
     "output_type": "execute_result"
    }
   ],
   "source": [
    "canada[:, 0:3]"
   ]
  },
  {
   "cell_type": "code",
   "execution_count": 7,
   "id": "44d1eff5-701d-49ab-8406-3753966d0dea",
   "metadata": {
    "execution": {
     "iopub.execute_input": "2022-08-31T23:42:32.135972Z",
     "iopub.status.busy": "2022-08-31T23:42:32.135753Z",
     "iopub.status.idle": "2022-08-31T23:42:32.376801Z",
     "shell.execute_reply": "2022-08-31T23:42:32.375611Z",
     "shell.execute_reply.started": "2022-08-31T23:42:32.135949Z"
    },
    "tags": []
   },
   "outputs": [
    {
     "name": "stderr",
     "output_type": "stream",
     "text": [
      "/Users/minh.chau/miniconda3/envs/chem/lib/python3.7/site-packages/torch/optim/lr_scheduler.py:134: UserWarning: Detected call of `lr_scheduler.step()` before `optimizer.step()`. In PyTorch 1.1.0 and later, you should call them in the opposite order: `optimizer.step()` before `lr_scheduler.step()`.  Failure to do this will result in PyTorch skipping the first value of the learning rate schedule. See more details at https://pytorch.org/docs/stable/optim.html#how-to-adjust-learning-rate\n",
      "  \"https://pytorch.org/docs/stable/optim.html#how-to-adjust-learning-rate\", UserWarning)\n"
     ]
    },
    {
     "ename": "RuntimeError",
     "evalue": "Can't call numpy() on Tensor that requires grad. Use tensor.detach().numpy() instead.",
     "output_type": "error",
     "traceback": [
      "\u001b[0;31m---------------------------------------------------------------------------\u001b[0m",
      "\u001b[0;31mRuntimeError\u001b[0m                              Traceback (most recent call last)",
      "\u001b[0;32m<ipython-input-7-7f08c324603b>\u001b[0m in \u001b[0;36m<module>\u001b[0;34m\u001b[0m\n\u001b[1;32m     31\u001b[0m \u001b[0;32mfor\u001b[0m \u001b[0me\u001b[0m \u001b[0;32min\u001b[0m \u001b[0mrange\u001b[0m\u001b[0;34m(\u001b[0m\u001b[0mnum_epochs\u001b[0m\u001b[0;34m)\u001b[0m\u001b[0;34m:\u001b[0m\u001b[0;34m\u001b[0m\u001b[0;34m\u001b[0m\u001b[0m\n\u001b[1;32m     32\u001b[0m     \u001b[0mscheduler\u001b[0m\u001b[0;34m.\u001b[0m\u001b[0mstep\u001b[0m\u001b[0;34m(\u001b[0m\u001b[0;34m)\u001b[0m\u001b[0;34m\u001b[0m\u001b[0;34m\u001b[0m\u001b[0m\n\u001b[0;32m---> 33\u001b[0;31m     \u001b[0my_approx\u001b[0m \u001b[0;34m=\u001b[0m \u001b[0mmodel\u001b[0m\u001b[0;34m(\u001b[0m\u001b[0minput_steps\u001b[0m\u001b[0;34m)\u001b[0m\u001b[0;34m\u001b[0m\u001b[0;34m\u001b[0m\u001b[0m\n\u001b[0m\u001b[1;32m     34\u001b[0m     \u001b[0mloss\u001b[0m \u001b[0;34m=\u001b[0m \u001b[0mloss_fun\u001b[0m\u001b[0;34m(\u001b[0m\u001b[0my_approx\u001b[0m\u001b[0;34m[\u001b[0m\u001b[0;34m:\u001b[0m\u001b[0;34m,\u001b[0m\u001b[0;34m:\u001b[0m\u001b[0;34m,\u001b[0m\u001b[0;34m-\u001b[0m\u001b[0;36m3\u001b[0m\u001b[0;34m:\u001b[0m\u001b[0;34m]\u001b[0m\u001b[0;34m,\u001b[0m \u001b[0my_exact\u001b[0m\u001b[0;34m[\u001b[0m\u001b[0;34m:\u001b[0m\u001b[0;34m,\u001b[0m\u001b[0;34m:\u001b[0m\u001b[0minput_steps\u001b[0m\u001b[0;34m,\u001b[0m\u001b[0;34m-\u001b[0m\u001b[0;36m3\u001b[0m\u001b[0;34m:\u001b[0m\u001b[0;34m]\u001b[0m\u001b[0;34m)\u001b[0m\u001b[0;34m\u001b[0m\u001b[0;34m\u001b[0m\u001b[0m\n\u001b[1;32m     35\u001b[0m \u001b[0;34m\u001b[0m\u001b[0m\n",
      "\u001b[0;32m~/miniconda3/envs/chem/lib/python3.7/site-packages/torch/nn/modules/module.py\u001b[0m in \u001b[0;36m_call_impl\u001b[0;34m(self, *input, **kwargs)\u001b[0m\n\u001b[1;32m   1100\u001b[0m         if not (self._backward_hooks or self._forward_hooks or self._forward_pre_hooks or _global_backward_hooks\n\u001b[1;32m   1101\u001b[0m                 or _global_forward_hooks or _global_forward_pre_hooks):\n\u001b[0;32m-> 1102\u001b[0;31m             \u001b[0;32mreturn\u001b[0m \u001b[0mforward_call\u001b[0m\u001b[0;34m(\u001b[0m\u001b[0;34m*\u001b[0m\u001b[0minput\u001b[0m\u001b[0;34m,\u001b[0m \u001b[0;34m**\u001b[0m\u001b[0mkwargs\u001b[0m\u001b[0;34m)\u001b[0m\u001b[0;34m\u001b[0m\u001b[0;34m\u001b[0m\u001b[0m\n\u001b[0m\u001b[1;32m   1103\u001b[0m         \u001b[0;31m# Do not call functions when jit is used\u001b[0m\u001b[0;34m\u001b[0m\u001b[0;34m\u001b[0m\u001b[0;34m\u001b[0m\u001b[0m\n\u001b[1;32m   1104\u001b[0m         \u001b[0mfull_backward_hooks\u001b[0m\u001b[0;34m,\u001b[0m \u001b[0mnon_full_backward_hooks\u001b[0m \u001b[0;34m=\u001b[0m \u001b[0;34m[\u001b[0m\u001b[0;34m]\u001b[0m\u001b[0;34m,\u001b[0m \u001b[0;34m[\u001b[0m\u001b[0;34m]\u001b[0m\u001b[0;34m\u001b[0m\u001b[0;34m\u001b[0m\u001b[0m\n",
      "\u001b[0;32m~/code/covid_ode/covid_ode/sidartha_ode.py\u001b[0m in \u001b[0;36mforward\u001b[0;34m(self, input_steps)\u001b[0m\n\u001b[1;32m     98\u001b[0m \u001b[0;34m\u001b[0m\u001b[0m\n\u001b[1;32m     99\u001b[0m         \u001b[0;32mfor\u001b[0m \u001b[0mt\u001b[0m \u001b[0;32min\u001b[0m \u001b[0mrange\u001b[0m\u001b[0;34m(\u001b[0m\u001b[0minput_steps\u001b[0m \u001b[0;34m-\u001b[0m \u001b[0;36m1\u001b[0m\u001b[0;34m)\u001b[0m\u001b[0;34m:\u001b[0m\u001b[0;34m\u001b[0m\u001b[0;34m\u001b[0m\u001b[0m\n\u001b[0;32m--> 100\u001b[0;31m             \u001b[0mS_pred\u001b[0m\u001b[0;34m.\u001b[0m\u001b[0mappend\u001b[0m\u001b[0;34m(\u001b[0m\u001b[0modeint\u001b[0m\u001b[0;34m(\u001b[0m\u001b[0mself\u001b[0m\u001b[0;34m.\u001b[0m\u001b[0mdSdt\u001b[0m\u001b[0;34m(\u001b[0m\u001b[0mt\u001b[0m\u001b[0;34m)\u001b[0m\u001b[0;34m,\u001b[0m \u001b[0mt0\u001b[0m\u001b[0;34m=\u001b[0m\u001b[0mt\u001b[0m\u001b[0;34m,\u001b[0m \u001b[0my0\u001b[0m\u001b[0;34m=\u001b[0m\u001b[0mS_pred\u001b[0m\u001b[0;34m)\u001b[0m\u001b[0;34m)\u001b[0m\u001b[0;34m\u001b[0m\u001b[0;34m\u001b[0m\u001b[0m\n\u001b[0m\u001b[1;32m    101\u001b[0m             \u001b[0mI_pred\u001b[0m\u001b[0;34m.\u001b[0m\u001b[0mappend\u001b[0m\u001b[0;34m(\u001b[0m\u001b[0modeint\u001b[0m\u001b[0;34m(\u001b[0m\u001b[0mself\u001b[0m\u001b[0;34m.\u001b[0m\u001b[0mdIdt\u001b[0m\u001b[0;34m(\u001b[0m\u001b[0mt\u001b[0m\u001b[0;34m)\u001b[0m\u001b[0;34m,\u001b[0m \u001b[0mt0\u001b[0m\u001b[0;34m=\u001b[0m\u001b[0mt\u001b[0m\u001b[0;34m,\u001b[0m \u001b[0my0\u001b[0m\u001b[0;34m=\u001b[0m\u001b[0mI_pred\u001b[0m\u001b[0;34m)\u001b[0m\u001b[0;34m)\u001b[0m\u001b[0;34m\u001b[0m\u001b[0;34m\u001b[0m\u001b[0m\n\u001b[1;32m    102\u001b[0m             \u001b[0mD_pred\u001b[0m\u001b[0;34m.\u001b[0m\u001b[0mappend\u001b[0m\u001b[0;34m(\u001b[0m\u001b[0modeint\u001b[0m\u001b[0;34m(\u001b[0m\u001b[0mself\u001b[0m\u001b[0;34m.\u001b[0m\u001b[0mdDdt\u001b[0m\u001b[0;34m(\u001b[0m\u001b[0mt\u001b[0m\u001b[0;34m)\u001b[0m\u001b[0;34m,\u001b[0m \u001b[0mt0\u001b[0m\u001b[0;34m=\u001b[0m\u001b[0mt\u001b[0m\u001b[0;34m,\u001b[0m \u001b[0my0\u001b[0m\u001b[0;34m=\u001b[0m\u001b[0mD_pred\u001b[0m\u001b[0;34m)\u001b[0m\u001b[0;34m)\u001b[0m\u001b[0;34m\u001b[0m\u001b[0;34m\u001b[0m\u001b[0m\n",
      "\u001b[0;32m~/code/covid_ode/covid_ode/sidartha_ode.py\u001b[0m in \u001b[0;36mdSdt\u001b[0;34m(self, t)\u001b[0m\n\u001b[1;32m     61\u001b[0m     \u001b[0;31m# The following d*d* function will be discretized and apply RK45 method\u001b[0m\u001b[0;34m\u001b[0m\u001b[0;34m\u001b[0m\u001b[0;34m\u001b[0m\u001b[0m\n\u001b[1;32m     62\u001b[0m     \u001b[0;32mdef\u001b[0m \u001b[0mdSdt\u001b[0m\u001b[0;34m(\u001b[0m\u001b[0mself\u001b[0m\u001b[0;34m,\u001b[0m \u001b[0mt\u001b[0m\u001b[0;34m)\u001b[0m\u001b[0;34m:\u001b[0m\u001b[0;34m\u001b[0m\u001b[0;34m\u001b[0m\u001b[0m\n\u001b[0;32m---> 63\u001b[0;31m         \u001b[0;32mreturn\u001b[0m \u001b[0;34m-\u001b[0m\u001b[0mself\u001b[0m\u001b[0;34m.\u001b[0m\u001b[0mS\u001b[0m\u001b[0;34m[\u001b[0m\u001b[0mt\u001b[0m\u001b[0;34m]\u001b[0m\u001b[0;34m*\u001b[0m\u001b[0;34m(\u001b[0m\u001b[0mself\u001b[0m\u001b[0;34m.\u001b[0m\u001b[0malpha\u001b[0m\u001b[0;34m*\u001b[0m\u001b[0mself\u001b[0m\u001b[0;34m.\u001b[0m\u001b[0mI\u001b[0m\u001b[0;34m[\u001b[0m\u001b[0mt\u001b[0m\u001b[0;34m]\u001b[0m \u001b[0;34m+\u001b[0m \u001b[0mself\u001b[0m\u001b[0;34m.\u001b[0m\u001b[0mbeta\u001b[0m\u001b[0;34m*\u001b[0m\u001b[0mself\u001b[0m\u001b[0;34m.\u001b[0m\u001b[0mD\u001b[0m\u001b[0;34m[\u001b[0m\u001b[0mt\u001b[0m\u001b[0;34m]\u001b[0m \u001b[0;34m+\u001b[0m \u001b[0mself\u001b[0m\u001b[0;34m.\u001b[0m\u001b[0mgamma\u001b[0m\u001b[0;34m*\u001b[0m\u001b[0mself\u001b[0m\u001b[0;34m.\u001b[0m\u001b[0mA\u001b[0m\u001b[0;34m[\u001b[0m\u001b[0mt\u001b[0m\u001b[0;34m]\u001b[0m \u001b[0;34m+\u001b[0m \u001b[0mself\u001b[0m\u001b[0;34m.\u001b[0m\u001b[0mdelta\u001b[0m\u001b[0;34m*\u001b[0m\u001b[0mself\u001b[0m\u001b[0;34m.\u001b[0m\u001b[0mR\u001b[0m\u001b[0;34m[\u001b[0m\u001b[0mt\u001b[0m\u001b[0;34m]\u001b[0m\u001b[0;34m)\u001b[0m\u001b[0;34m.\u001b[0m\u001b[0mnumpy\u001b[0m\u001b[0;34m(\u001b[0m\u001b[0;34m)\u001b[0m\u001b[0;34m\u001b[0m\u001b[0;34m\u001b[0m\u001b[0m\n\u001b[0m\u001b[1;32m     64\u001b[0m \u001b[0;34m\u001b[0m\u001b[0m\n\u001b[1;32m     65\u001b[0m     \u001b[0;32mdef\u001b[0m \u001b[0mdIdt\u001b[0m\u001b[0;34m(\u001b[0m\u001b[0mself\u001b[0m\u001b[0;34m,\u001b[0m \u001b[0mt\u001b[0m\u001b[0;34m)\u001b[0m\u001b[0;34m:\u001b[0m\u001b[0;34m\u001b[0m\u001b[0;34m\u001b[0m\u001b[0m\n",
      "\u001b[0;31mRuntimeError\u001b[0m: Can't call numpy() on Tensor that requires grad. Use tensor.detach().numpy() instead."
     ]
    }
   ],
   "source": [
    "##################################################################\n",
    "test_idx = 131\n",
    "\n",
    "# Learning Rate\n",
    "lr = 0.01\n",
    "\n",
    "# number of historic data points for fitting\n",
    "input_steps = 10 \n",
    "\n",
    "# forecasting horizon\n",
    "output_steps = 7\n",
    "\n",
    "# number of epochs for training\n",
    "num_epochs = 20000\n",
    "\n",
    "# select data for training\n",
    "data = canada[test_idx-input_steps:test_idx+output_steps]   # only 1 training sample\n",
    "y_exact = data[:,:input_steps]\n",
    "\n",
    "##################################################################\n",
    "\n",
    "model = sidartha_ode.AutoOdeSIDARTHE(len_data = output_steps+input_steps).to(device)\n",
    "\n",
    "optimizer = torch.optim.Adam(model.parameters(), lr)\n",
    "scheduler = torch.optim.lr_scheduler.StepLR(optimizer, step_size= 1000, gamma=0.9)\n",
    "loss_fun = torch.nn.MSELoss()\n",
    "min_loss = 1\n",
    "\n",
    "##################################################################\n",
    "\n",
    "for e in range(num_epochs):\n",
    "    scheduler.step()\n",
    "    y_approx = model(input_steps)\n",
    "    loss = loss_fun(y_approx[:,:,-3:], y_exact[:,:input_steps,-3:])\n",
    "    \n",
    "######## Weighted Loss ########\n",
    "#     loss_weight = weight_fun(input_steps, function = \"sqrt\", feat_weight = True)\n",
    "#     loss = torch.mean(loss_weight*loss_fun(y_approx[:,:,-3:], y_exact[:,:input_steps,-3:])) \n",
    "\n",
    "######## A few constraints that can potential improve the model ########\n",
    "#     positive_constraint = loss_fun(F.relu(-model.beta), torch.tensor(0.0).float().to(device))\n",
    "#     diagonal_constraint = loss_fun(torch.diagonal(model.A, 0),torch.tensor(1.0).float().to(device))\n",
    "#     initial_constraint = loss_fun(model.init_S + model.init_E + model.init_I + model.init_R + model.init_U, torch.tensor(1.0).float().to(device))\n",
    "#     loss += initial_constraint + positive_constraint + diagonal_constraint \n",
    "   \n",
    "    if loss.item() < min_loss:\n",
    "        best_model = model\n",
    "        min_loss = loss.item()\n",
    "    optimizer.zero_grad()\n",
    "    loss.backward(retain_graph=True)\n",
    "    optimizer.step()\n",
    "#     if e%1000 == 0:\n",
    "#         y_approx2 = model(data.shape[1]).data.numpy()\n",
    "#         y_exact2 = data.data.numpy()\n",
    "#         print(list_csv[test_idx][:10])\n",
    "#         #torch.mean(torch.abs(y_approx - y_exact)[:,-7:]).data, torch.mean(torch.abs(y_approx - y_exact)[:,30:]).data\n",
    "#         for i in range(3):\n",
    "#             print(np.mean(np.abs(y_approx2*scaler - y_exact2*scaler)[:,-7:, i]))\n",
    "\n",
    "########################################################################\n",
    "name = \"autoode-covid\"\n",
    "y_approx = best_model(data.shape[1]).data.numpy()\n",
    "y_exact = data.data.numpy()\n",
    "print(list_csv[test_idx][:10])\n",
    "#torch.mean(torch.abs(y_approx - y_exact)[:,-7:]).data, torch.mean(torch.abs(y_approx - y_exact)[:,30:]).data\n",
    "for i in range(3):\n",
    "    print(np.mean(np.abs(y_approx*scaler - y_exact*scaler)[:,-7:, i]))\n",
    "\n",
    "torch.save({\"model\": best_model,\n",
    "            \"preds\": y_approx*scaler,\n",
    "            \"trues\": y_exact*scaler},\n",
    "            \".pt\")"
   ]
  },
  {
   "cell_type": "code",
   "execution_count": null,
   "id": "1e9f3f02-5ac7-48ea-ab40-49ef5ee95136",
   "metadata": {
    "execution": {
     "iopub.status.busy": "2022-08-31T23:42:32.377743Z",
     "iopub.status.idle": "2022-08-31T23:42:32.377996Z",
     "shell.execute_reply": "2022-08-31T23:42:32.377861Z"
    },
    "tags": []
   },
   "outputs": [],
   "source": [
    "data, y_exact"
   ]
  }
 ],
 "metadata": {
  "kernelspec": {
   "display_name": "Python 3",
   "language": "python",
   "name": "python3"
  },
  "language_info": {
   "codemirror_mode": {
    "name": "ipython",
    "version": 3
   },
   "file_extension": ".py",
   "mimetype": "text/x-python",
   "name": "python",
   "nbconvert_exporter": "python",
   "pygments_lexer": "ipython3",
   "version": "3.7.9"
  }
 },
 "nbformat": 4,
 "nbformat_minor": 5
}
