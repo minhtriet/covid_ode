{
 "cells": [
  {
   "cell_type": "markdown",
   "id": "eb47dd40-2bfa-49eb-99ac-afc0376fb141",
   "metadata": {},
   "source": [
    "#todo\n",
    "\n",
    "minmax scaler\n",
    "min: 0\n",
    "max: Canada population"
   ]
  },
  {
   "cell_type": "code",
   "execution_count": 2,
   "id": "2bb3e3b8-442c-4b75-8c1f-863f02bde29a",
   "metadata": {
    "execution": {
     "iopub.execute_input": "2022-09-15T00:29:29.821048Z",
     "iopub.status.busy": "2022-09-15T00:29:29.820626Z",
     "iopub.status.idle": "2022-09-15T00:29:36.582096Z",
     "shell.execute_reply": "2022-09-15T00:29:36.580858Z",
     "shell.execute_reply.started": "2022-09-15T00:29:29.820998Z"
    },
    "tags": []
   },
   "outputs": [],
   "source": [
    "import torch\n",
    "import torch.nn as nn\n",
    "import os\n",
    "from covid_ode import sidartha_ode\n",
    "#from ode_nn import Dataset, train_epoch, eval_epoch, get_lr\n",
    "import numpy as np\n",
    "import pandas as pd\n",
    "import torch.nn.functional as F\n",
    "from torch.utils import data\n",
    "import matplotlib.pyplot as plt\n",
    "import random\n",
    "import warnings\n",
    "\n",
    "from \n",
    "\n",
    "from tqdm.notebook import tqdm\n",
    "# from ode_nn import Dataset_graph, train_epoch_graph, eval_epoch_graph, get_lr\n",
    "device = torch.device(\"cuda\" if torch.cuda.is_available() else \"cpu\")"
   ]
  },
  {
   "cell_type": "code",
   "execution_count": 3,
   "id": "92f384c5-3b0b-41ce-8688-bf9ad652fbc1",
   "metadata": {
    "execution": {
     "iopub.execute_input": "2022-09-15T00:29:36.585598Z",
     "iopub.status.busy": "2022-09-15T00:29:36.585245Z",
     "iopub.status.idle": "2022-09-15T00:29:36.600312Z",
     "shell.execute_reply": "2022-09-15T00:29:36.599369Z",
     "shell.execute_reply.started": "2022-09-15T00:29:36.585562Z"
    },
    "tags": []
   },
   "outputs": [],
   "source": [
    "canada = pd.read_csv('canada.csv')"
   ]
  },
  {
   "cell_type": "code",
   "execution_count": 4,
   "id": "ed7cdb24-fa5d-4b71-a723-841fd3f5e7c5",
   "metadata": {
    "execution": {
     "iopub.execute_input": "2022-09-15T00:29:36.605547Z",
     "iopub.status.busy": "2022-09-15T00:29:36.604843Z",
     "iopub.status.idle": "2022-09-15T00:29:36.611621Z",
     "shell.execute_reply": "2022-09-15T00:29:36.610006Z",
     "shell.execute_reply.started": "2022-09-15T00:29:36.605487Z"
    },
    "tags": []
   },
   "outputs": [],
   "source": [
    "CANADA_POPULATION = 38.01e6"
   ]
  },
  {
   "cell_type": "code",
   "execution_count": 5,
   "id": "920e90ef-5f1a-4091-bbfd-7e546d8793f8",
   "metadata": {
    "execution": {
     "iopub.execute_input": "2022-09-15T00:29:36.615506Z",
     "iopub.status.busy": "2022-09-15T00:29:36.614956Z",
     "iopub.status.idle": "2022-09-15T00:29:36.626306Z",
     "shell.execute_reply": "2022-09-15T00:29:36.624955Z",
     "shell.execute_reply.started": "2022-09-15T00:29:36.615414Z"
    },
    "tags": []
   },
   "outputs": [
    {
     "data": {
      "text/plain": [
       "(555, 4)"
      ]
     },
     "execution_count": 5,
     "metadata": {},
     "output_type": "execute_result"
    }
   ],
   "source": [
    "canada.shape"
   ]
  },
  {
   "cell_type": "code",
   "execution_count": 6,
   "id": "852e3a5f-690b-4fd4-96a9-4cdcc1366240",
   "metadata": {
    "execution": {
     "iopub.execute_input": "2022-09-15T00:29:36.629831Z",
     "iopub.status.busy": "2022-09-15T00:29:36.629121Z",
     "iopub.status.idle": "2022-09-15T00:29:36.635435Z",
     "shell.execute_reply": "2022-09-15T00:29:36.633893Z",
     "shell.execute_reply.started": "2022-09-15T00:29:36.629773Z"
    },
    "tags": []
   },
   "outputs": [],
   "source": [
    "TRAIN_IDX = int(canada.shape[0]*.5)\n",
    "VAL_IDX = TRAIN_IDX + int(canada.shape[0]*.1)"
   ]
  },
  {
   "cell_type": "code",
   "execution_count": 7,
   "id": "927931fe-29dd-41ea-af79-6a72e9a851bb",
   "metadata": {
    "execution": {
     "iopub.execute_input": "2022-09-15T00:29:42.115175Z",
     "iopub.status.busy": "2022-09-15T00:29:42.114822Z",
     "iopub.status.idle": "2022-09-15T00:29:42.121534Z",
     "shell.execute_reply": "2022-09-15T00:29:42.120131Z",
     "shell.execute_reply.started": "2022-09-15T00:29:42.115135Z"
    },
    "tags": []
   },
   "outputs": [
    {
     "data": {
      "text/plain": [
       "(277, 332)"
      ]
     },
     "execution_count": 7,
     "metadata": {},
     "output_type": "execute_result"
    }
   ],
   "source": [
    "TRAIN_IDX, VAL_IDX"
   ]
  },
  {
   "cell_type": "code",
   "execution_count": 5,
   "id": "0489017c-94f1-41a5-b54b-5c4629f0110d",
   "metadata": {
    "execution": {
     "iopub.execute_input": "2022-09-14T09:52:49.127680Z",
     "iopub.status.busy": "2022-09-14T09:52:49.127249Z",
     "iopub.status.idle": "2022-09-14T09:52:49.149075Z",
     "shell.execute_reply": "2022-09-14T09:52:49.147949Z",
     "shell.execute_reply.started": "2022-09-14T09:52:49.127643Z"
    },
    "tags": []
   },
   "outputs": [
    {
     "data": {
      "text/html": [
       "<div>\n",
       "<style scoped>\n",
       "    .dataframe tbody tr th:only-of-type {\n",
       "        vertical-align: middle;\n",
       "    }\n",
       "\n",
       "    .dataframe tbody tr th {\n",
       "        vertical-align: top;\n",
       "    }\n",
       "\n",
       "    .dataframe thead th {\n",
       "        text-align: right;\n",
       "    }\n",
       "</style>\n",
       "<table border=\"1\" class=\"dataframe\">\n",
       "  <thead>\n",
       "    <tr style=\"text-align: right;\">\n",
       "      <th></th>\n",
       "      <th>Confirmed</th>\n",
       "      <th>Recovered</th>\n",
       "      <th>Deaths</th>\n",
       "      <th>Last_Update</th>\n",
       "    </tr>\n",
       "  </thead>\n",
       "  <tbody>\n",
       "    <tr>\n",
       "      <th>0</th>\n",
       "      <td>4.0</td>\n",
       "      <td>0.0</td>\n",
       "      <td>0.0</td>\n",
       "      <td>2020-01-28 23:00:00</td>\n",
       "    </tr>\n",
       "    <tr>\n",
       "      <th>1</th>\n",
       "      <td>4.0</td>\n",
       "      <td>0.0</td>\n",
       "      <td>0.0</td>\n",
       "      <td>2020-01-29 19:30:00</td>\n",
       "    </tr>\n",
       "    <tr>\n",
       "      <th>2</th>\n",
       "      <td>4.0</td>\n",
       "      <td>0.0</td>\n",
       "      <td>0.0</td>\n",
       "      <td>2020-01-30 16:00:00</td>\n",
       "    </tr>\n",
       "    <tr>\n",
       "      <th>3</th>\n",
       "      <td>4.0</td>\n",
       "      <td>0.0</td>\n",
       "      <td>0.0</td>\n",
       "      <td>2020-01-31 23:59:00</td>\n",
       "    </tr>\n",
       "    <tr>\n",
       "      <th>4</th>\n",
       "      <td>4.0</td>\n",
       "      <td>0.0</td>\n",
       "      <td>0.0</td>\n",
       "      <td>2020-02-01 18:12:00</td>\n",
       "    </tr>\n",
       "    <tr>\n",
       "      <th>...</th>\n",
       "      <td>...</td>\n",
       "      <td>...</td>\n",
       "      <td>...</td>\n",
       "      <td>...</td>\n",
       "    </tr>\n",
       "    <tr>\n",
       "      <th>550</th>\n",
       "      <td>1434967.0</td>\n",
       "      <td>1404107.0</td>\n",
       "      <td>26599.0</td>\n",
       "      <td>2021-08-01 04:21:50</td>\n",
       "    </tr>\n",
       "    <tr>\n",
       "      <th>551</th>\n",
       "      <td>1435347.0</td>\n",
       "      <td>1404244.0</td>\n",
       "      <td>26601.0</td>\n",
       "      <td>2021-08-02 04:21:36</td>\n",
       "    </tr>\n",
       "    <tr>\n",
       "      <th>552</th>\n",
       "      <td>1435683.0</td>\n",
       "      <td>1404327.0</td>\n",
       "      <td>26602.0</td>\n",
       "      <td>2021-08-03 04:21:39</td>\n",
       "    </tr>\n",
       "    <tr>\n",
       "      <th>553</th>\n",
       "      <td>1437713.0</td>\n",
       "      <td>1405529.0</td>\n",
       "      <td>26608.0</td>\n",
       "      <td>2021-08-04 04:21:25</td>\n",
       "    </tr>\n",
       "    <tr>\n",
       "      <th>554</th>\n",
       "      <td>1438806.0</td>\n",
       "      <td>1405971.0</td>\n",
       "      <td>26619.0</td>\n",
       "      <td>2021-08-05 04:21:51</td>\n",
       "    </tr>\n",
       "  </tbody>\n",
       "</table>\n",
       "<p>555 rows × 4 columns</p>\n",
       "</div>"
      ],
      "text/plain": [
       "     Confirmed  Recovered   Deaths          Last_Update\n",
       "0          4.0        0.0      0.0  2020-01-28 23:00:00\n",
       "1          4.0        0.0      0.0  2020-01-29 19:30:00\n",
       "2          4.0        0.0      0.0  2020-01-30 16:00:00\n",
       "3          4.0        0.0      0.0  2020-01-31 23:59:00\n",
       "4          4.0        0.0      0.0  2020-02-01 18:12:00\n",
       "..         ...        ...      ...                  ...\n",
       "550  1434967.0  1404107.0  26599.0  2021-08-01 04:21:50\n",
       "551  1435347.0  1404244.0  26601.0  2021-08-02 04:21:36\n",
       "552  1435683.0  1404327.0  26602.0  2021-08-03 04:21:39\n",
       "553  1437713.0  1405529.0  26608.0  2021-08-04 04:21:25\n",
       "554  1438806.0  1405971.0  26619.0  2021-08-05 04:21:51\n",
       "\n",
       "[555 rows x 4 columns]"
      ]
     },
     "execution_count": 5,
     "metadata": {},
     "output_type": "execute_result"
    }
   ],
   "source": [
    "canada"
   ]
  },
  {
   "cell_type": "code",
   "execution_count": 6,
   "id": "2258e7da-b747-4cfc-a5b2-056e2603fd11",
   "metadata": {
    "execution": {
     "iopub.execute_input": "2022-09-14T09:52:49.151661Z",
     "iopub.status.busy": "2022-09-14T09:52:49.151328Z",
     "iopub.status.idle": "2022-09-14T09:52:49.156607Z",
     "shell.execute_reply": "2022-09-14T09:52:49.155404Z",
     "shell.execute_reply.started": "2022-09-14T09:52:49.151631Z"
    },
    "tags": []
   },
   "outputs": [],
   "source": [
    "canada = canada.values[:, 0:3] / CANADA_POPULATION"
   ]
  },
  {
   "cell_type": "code",
   "execution_count": 7,
   "id": "819fdc06-bc14-4c99-91b6-e4a5914ddfed",
   "metadata": {
    "execution": {
     "iopub.execute_input": "2022-09-14T09:52:49.161693Z",
     "iopub.status.busy": "2022-09-14T09:52:49.161335Z",
     "iopub.status.idle": "2022-09-14T09:52:49.168037Z",
     "shell.execute_reply": "2022-09-14T09:52:49.166733Z",
     "shell.execute_reply.started": "2022-09-14T09:52:49.161651Z"
    },
    "tags": []
   },
   "outputs": [
    {
     "data": {
      "text/plain": [
       "array([[1.0523546435148645e-07, 0.0, 0.0],\n",
       "       [1.0523546435148645e-07, 0.0, 0.0],\n",
       "       [1.0523546435148645e-07, 0.0, 0.0],\n",
       "       ...,\n",
       "       [0.03777119179163378, 0.036946250986582475, 0.0006998684556695607],\n",
       "       [0.03782459878979216, 0.0369778742436201, 0.0007000263088660878],\n",
       "       [0.0378533543804262, 0.03698950276243094, 0.0007003157063930545]],\n",
       "      dtype=object)"
      ]
     },
     "execution_count": 7,
     "metadata": {},
     "output_type": "execute_result"
    }
   ],
   "source": [
    "canada[:, 0:3]"
   ]
  },
  {
   "cell_type": "code",
   "execution_count": 8,
   "id": "7190f0b0-abf6-4a22-aa60-3a92d6e3ec64",
   "metadata": {
    "execution": {
     "iopub.execute_input": "2022-09-14T09:52:49.170918Z",
     "iopub.status.busy": "2022-09-14T09:52:49.170516Z",
     "iopub.status.idle": "2022-09-14T09:52:49.176147Z",
     "shell.execute_reply": "2022-09-14T09:52:49.174958Z",
     "shell.execute_reply.started": "2022-09-14T09:52:49.170795Z"
    },
    "tags": []
   },
   "outputs": [],
   "source": [
    "test_idx = 131\n",
    "\n",
    "# Learning Rate\n",
    "lr = 0.01\n",
    "\n",
    "# number of historic data points for fitting\n",
    "input_steps = 6\n",
    "\n",
    "# forecasting horizon\n",
    "output_steps = 7\n",
    "\n",
    "# number of epochs for training\n",
    "num_epochs = 20000\n",
    "\n",
    "# select data for training\n",
    "data = canada[test_idx-input_steps:test_idx+output_steps]   # only 1 training sample\n",
    "y_exact = data[:,:input_steps]"
   ]
  },
  {
   "cell_type": "code",
   "execution_count": 9,
   "id": "44d1eff5-701d-49ab-8406-3753966d0dea",
   "metadata": {
    "execution": {
     "iopub.execute_input": "2022-09-14T09:52:49.178835Z",
     "iopub.status.busy": "2022-09-14T09:52:49.178228Z",
     "iopub.status.idle": "2022-09-14T10:20:28.696569Z",
     "shell.execute_reply": "2022-09-14T10:20:28.694851Z",
     "shell.execute_reply.started": "2022-09-14T09:52:49.178766Z"
    },
    "tags": []
   },
   "outputs": [
    {
     "data": {
      "application/vnd.jupyter.widget-view+json": {
       "model_id": "a6f36e6fb6304eccb8b03d80aaed8e7b",
       "version_major": 2,
       "version_minor": 0
      },
      "text/plain": [
       "  0%|          | 0/20000 [00:00<?, ?it/s]"
      ]
     },
     "metadata": {},
     "output_type": "display_data"
    },
    {
     "name": "stdout",
     "output_type": "stream",
     "text": [
      "> \u001b[0;32m/Users/minh.chau/code/covid_ode/covid_ode/sidartha_ode.py\u001b[0m(85)\u001b[0;36mforward\u001b[0;34m()\u001b[0m\n",
      "\u001b[0;32m     83 \u001b[0;31m        \u001b[0mself\u001b[0m\u001b[0;34m.\u001b[0m\u001b[0my0\u001b[0m\u001b[0;34m[\u001b[0m\u001b[0;36m6\u001b[0m\u001b[0;34m]\u001b[0m \u001b[0;34m=\u001b[0m \u001b[0mtorch\u001b[0m\u001b[0;34m.\u001b[0m\u001b[0mTensor\u001b[0m\u001b[0;34m(\u001b[0m\u001b[0;34m[\u001b[0m\u001b[0mH0\u001b[0m\u001b[0;34m]\u001b[0m\u001b[0;34m)\u001b[0m \u001b[0;32mif\u001b[0m \u001b[0mH0\u001b[0m \u001b[0;32melse\u001b[0m \u001b[0mself\u001b[0m\u001b[0;34m.\u001b[0m\u001b[0my0\u001b[0m\u001b[0;34m[\u001b[0m\u001b[0;36m6\u001b[0m\u001b[0;34m]\u001b[0m\u001b[0;34m\u001b[0m\u001b[0;34m\u001b[0m\u001b[0m\n",
      "\u001b[0m\u001b[0;32m     84 \u001b[0;31m        \u001b[0;32mimport\u001b[0m \u001b[0mpdb\u001b[0m\u001b[0;34m;\u001b[0m \u001b[0mpdb\u001b[0m\u001b[0;34m.\u001b[0m\u001b[0mset_trace\u001b[0m\u001b[0;34m(\u001b[0m\u001b[0;34m)\u001b[0m\u001b[0;34m\u001b[0m\u001b[0;34m\u001b[0m\u001b[0m\n",
      "\u001b[0m\u001b[0;32m---> 85 \u001b[0;31m        \u001b[0mtime_range\u001b[0m \u001b[0;34m=\u001b[0m \u001b[0mtorch\u001b[0m\u001b[0;34m.\u001b[0m\u001b[0mlinspace\u001b[0m\u001b[0;34m(\u001b[0m\u001b[0;36m0\u001b[0m\u001b[0;34m,\u001b[0m \u001b[0mself\u001b[0m\u001b[0;34m.\u001b[0m\u001b[0mlen_data\u001b[0m\u001b[0;34m,\u001b[0m \u001b[0mself\u001b[0m\u001b[0;34m.\u001b[0m\u001b[0mlen_data\u001b[0m\u001b[0;34m+\u001b[0m\u001b[0;36m1\u001b[0m\u001b[0;34m)\u001b[0m\u001b[0;34m\u001b[0m\u001b[0;34m\u001b[0m\u001b[0m\n",
      "\u001b[0m\u001b[0;32m     86 \u001b[0;31m        \u001b[0;32mreturn\u001b[0m \u001b[0modeint\u001b[0m\u001b[0;34m(\u001b[0m\u001b[0mself\u001b[0m\u001b[0;34m.\u001b[0m\u001b[0mf\u001b[0m\u001b[0;34m,\u001b[0m \u001b[0mt\u001b[0m\u001b[0;34m=\u001b[0m\u001b[0mtime_range\u001b[0m\u001b[0;34m,\u001b[0m \u001b[0my0\u001b[0m\u001b[0;34m=\u001b[0m\u001b[0mself\u001b[0m\u001b[0;34m.\u001b[0m\u001b[0my0\u001b[0m\u001b[0;34m,\u001b[0m \u001b[0mmethod\u001b[0m\u001b[0;34m=\u001b[0m\u001b[0;34m'rk4'\u001b[0m\u001b[0;34m)\u001b[0m\u001b[0;34m\u001b[0m\u001b[0;34m\u001b[0m\u001b[0m\n",
      "\u001b[0m\u001b[0;32m     87 \u001b[0;31m\u001b[0;34m\u001b[0m\u001b[0m\n",
      "\u001b[0m\n"
     ]
    },
    {
     "name": "stdin",
     "output_type": "stream",
     "text": [
      "ipdb>  self.y0\n"
     ]
    },
    {
     "name": "stdout",
     "output_type": "stream",
     "text": [
      "tensor([5.0000e-01, 2.4431e-03, 5.0000e-01, 5.0000e-01, 5.0000e-01, 5.0000e-01,\n",
      "        2.0718e-04, 1.3178e-03])\n"
     ]
    },
    {
     "name": "stdin",
     "output_type": "stream",
     "text": [
      "ipdb>  c\n"
     ]
    },
    {
     "ename": "IndexError",
     "evalue": "too many indices for tensor of dimension 2",
     "output_type": "error",
     "traceback": [
      "\u001b[0;31m---------------------------------------------------------------------------\u001b[0m",
      "\u001b[0;31mIndexError\u001b[0m                                Traceback (most recent call last)",
      "\u001b[0;32m<ipython-input-9-aa62a7fc5e65>\u001b[0m in \u001b[0;36m<module>\u001b[0;34m\u001b[0m\n\u001b[1;32m     11\u001b[0m \u001b[0;34m\u001b[0m\u001b[0m\n\u001b[1;32m     12\u001b[0m     \u001b[0my_approx\u001b[0m \u001b[0;34m=\u001b[0m \u001b[0mmodel\u001b[0m\u001b[0;34m(\u001b[0m\u001b[0mI0\u001b[0m\u001b[0;34m=\u001b[0m\u001b[0mdata\u001b[0m\u001b[0;34m[\u001b[0m\u001b[0;36m0\u001b[0m\u001b[0;34m,\u001b[0m \u001b[0;36m0\u001b[0m\u001b[0;34m]\u001b[0m\u001b[0;34m,\u001b[0m \u001b[0mE0\u001b[0m\u001b[0;34m=\u001b[0m\u001b[0mdata\u001b[0m\u001b[0;34m[\u001b[0m\u001b[0;36m0\u001b[0m\u001b[0;34m,\u001b[0m \u001b[0;36m1\u001b[0m\u001b[0;34m]\u001b[0m\u001b[0;34m,\u001b[0m \u001b[0mH0\u001b[0m\u001b[0;34m=\u001b[0m\u001b[0mdata\u001b[0m\u001b[0;34m[\u001b[0m\u001b[0;36m0\u001b[0m\u001b[0;34m,\u001b[0m \u001b[0;36m2\u001b[0m\u001b[0;34m]\u001b[0m\u001b[0;34m)\u001b[0m\u001b[0;34m\u001b[0m\u001b[0;34m\u001b[0m\u001b[0m\n\u001b[0;32m---> 13\u001b[0;31m     \u001b[0mloss\u001b[0m \u001b[0;34m=\u001b[0m \u001b[0mloss_fun\u001b[0m\u001b[0;34m(\u001b[0m\u001b[0my_approx\u001b[0m\u001b[0;34m[\u001b[0m\u001b[0;34m:\u001b[0m\u001b[0;34m,\u001b[0m\u001b[0;34m:\u001b[0m\u001b[0;34m,\u001b[0m\u001b[0;34m-\u001b[0m\u001b[0;36m3\u001b[0m\u001b[0;34m:\u001b[0m\u001b[0;34m]\u001b[0m\u001b[0;34m,\u001b[0m \u001b[0my_exact\u001b[0m\u001b[0;34m[\u001b[0m\u001b[0;34m:\u001b[0m\u001b[0;34m,\u001b[0m\u001b[0;34m:\u001b[0m\u001b[0minput_steps\u001b[0m\u001b[0;34m,\u001b[0m\u001b[0;34m-\u001b[0m\u001b[0;36m3\u001b[0m\u001b[0;34m:\u001b[0m\u001b[0;34m]\u001b[0m\u001b[0;34m)\u001b[0m\u001b[0;34m\u001b[0m\u001b[0;34m\u001b[0m\u001b[0m\n\u001b[0m\u001b[1;32m     14\u001b[0m     \u001b[0mloss\u001b[0m\u001b[0;34m.\u001b[0m\u001b[0mbackward\u001b[0m\u001b[0;34m(\u001b[0m\u001b[0;34m)\u001b[0m\u001b[0;34m\u001b[0m\u001b[0;34m\u001b[0m\u001b[0m\n\u001b[1;32m     15\u001b[0m     \u001b[0moptimizer\u001b[0m\u001b[0;34m.\u001b[0m\u001b[0mstep\u001b[0m\u001b[0;34m(\u001b[0m\u001b[0;34m)\u001b[0m\u001b[0;34m\u001b[0m\u001b[0;34m\u001b[0m\u001b[0m\n",
      "\u001b[0;31mIndexError\u001b[0m: too many indices for tensor of dimension 2"
     ]
    }
   ],
   "source": [
    "model = sidartha_ode.AutoOdeSIDARTHE(len_data = output_steps+input_steps).to(device)\n",
    "\n",
    "optimizer = torch.optim.Adam(model.parameters(), lr)\n",
    "scheduler = torch.optim.lr_scheduler.StepLR(optimizer, step_size= 1000, gamma=0.9)\n",
    "loss_fun = torch.nn.MSELoss()\n",
    "min_loss = 1\n",
    "\n",
    "##################################################################\n",
    "for e in tqdm(range(num_epochs)):\n",
    "    optimizer.zero_grad()    \n",
    "    y_approx = model(I0=data[0, 0], E0=data[0, 2], H0=data[0, 1])\n",
    "    loss = loss_fun(y_approx[:,:,-3:], y_exact[:,:input_steps,-3:])\n",
    "    loss.backward()\n",
    "    optimizer.step()\n",
    "    scheduler.step()\n",
    "######## Weighted Loss ########\n",
    "#     loss_weight = weight_fun(input_steps, function = \"sqrt\", feat_weight = True)\n",
    "#     loss = torch.mean(loss_weight*loss_fun(y_approx[:,:,-3:], y_exact[:,:input_steps,-3:])) \n",
    "\n",
    "######## A few constraints that can potential improve the model ########\n",
    "#     positive_constraint = loss_fun(F.relu(-model.beta), torch.tensor(0.0).float().to(device))\n",
    "#     diagonal_constraint = loss_fun(torch.diagonal(model.A, 0),torch.tensor(1.0).float().to(device))\n",
    "#     initial_constraint = loss_fun(model.init_S + model.init_E + model.init_I + model.init_R + model.init_U, torch.tensor(1.0).float().to(device))\n",
    "#     loss += initial_constraint + positive_constraint + diagonal_constraint \n",
    "   \n",
    "    if loss.item() < min_loss:\n",
    "        best_model = model\n",
    "        min_loss = loss.item()\n",
    "    optimizer.zero_grad()\n",
    "    loss.backward(retain_graph=True)\n",
    "    optimizer.step()\n",
    "#     if e%1000 == 0:\n",
    "#         y_approx2 = model(data.shape[1]).data.numpy()\n",
    "#         y_exact2 = data.data.numpy()\n",
    "#         print(list_csv[test_idx][:10])\n",
    "#         #torch.mean(torch.abs(y_approx - y_exact)[:,-7:]).data, torch.mean(torch.abs(y_approx - y_exact)[:,30:]).data\n",
    "#         for i in range(3):\n",
    "#             print(np.mean(np.abs(y_approx2*scaler - y_exact2*scaler)[:,-7:, i]))\n",
    "\n"
   ]
  },
  {
   "cell_type": "code",
   "execution_count": null,
   "id": "1e9f3f02-5ac7-48ea-ab40-49ef5ee95136",
   "metadata": {
    "execution": {
     "iopub.status.busy": "2022-09-14T10:20:28.697499Z",
     "iopub.status.idle": "2022-09-14T10:20:28.697897Z",
     "shell.execute_reply": "2022-09-14T10:20:28.697721Z"
    },
    "tags": []
   },
   "outputs": [],
   "source": [
    "data, y_exact"
   ]
  }
 ],
 "metadata": {
  "kernelspec": {
   "display_name": "Python 3",
   "language": "python",
   "name": "python3"
  },
  "language_info": {
   "codemirror_mode": {
    "name": "ipython",
    "version": 3
   },
   "file_extension": ".py",
   "mimetype": "text/x-python",
   "name": "python",
   "nbconvert_exporter": "python",
   "pygments_lexer": "ipython3",
   "version": "3.7.9"
  }
 },
 "nbformat": 4,
 "nbformat_minor": 5
}
