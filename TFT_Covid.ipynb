{
 "cells": [
  {
   "cell_type": "markdown",
   "id": "0e01e89f-a3ba-4cb1-b386-662a823e7273",
   "metadata": {},
   "source": [
    "### Temporal Fusion Transformers"
   ]
  },
  {
   "cell_type": "code",
   "execution_count": 104,
   "id": "8e98e3d6",
   "metadata": {
    "execution": {
     "iopub.execute_input": "2022-10-02T01:24:31.771768Z",
     "iopub.status.busy": "2022-10-02T01:24:31.771206Z",
     "iopub.status.idle": "2022-10-02T01:24:31.795835Z",
     "shell.execute_reply": "2022-10-02T01:24:31.794906Z",
     "shell.execute_reply.started": "2022-10-02T01:24:31.771712Z"
    },
    "lines_to_next_cell": 2,
    "tags": []
   },
   "outputs": [],
   "source": [
    "import pickle\n",
    "import pandas as pd\n",
    "from sklearn.preprocessing import StandardScaler\n",
    "import numpy as np\n",
    "\n",
    "import warnings\n",
    "warnings.filterwarnings('ignore')\n",
    "\n",
    "import torch\n",
    "from darts import TimeSeries\n",
    "from darts.metrics import rmse\n",
    "from sklearn.metrics import mean_squared_error\n",
    "\n",
    "torch.manual_seed(3407)\n",
    "device = torch.device(\"cuda\" if torch.cuda.is_available() else \"cpu\")\n",
    "import matplotlib.pyplot as plt\n",
    "\n",
    "from darts.models import TFTModel "
   ]
  },
  {
   "cell_type": "code",
   "execution_count": 5,
   "id": "bcb867e2-a37b-46b1-9c78-5d7918f90768",
   "metadata": {
    "execution": {
     "iopub.execute_input": "2022-10-01T13:51:31.435839Z",
     "iopub.status.busy": "2022-10-01T13:51:31.435656Z",
     "iopub.status.idle": "2022-10-01T13:51:31.439804Z",
     "shell.execute_reply": "2022-10-01T13:51:31.438701Z",
     "shell.execute_reply.started": "2022-10-01T13:51:31.435818Z"
    },
    "tags": []
   },
   "outputs": [],
   "source": [
    "mm_scaler = StandardScaler()"
   ]
  },
  {
   "cell_type": "code",
   "execution_count": 8,
   "id": "d77b3b7d",
   "metadata": {
    "execution": {
     "iopub.execute_input": "2022-10-01T14:18:10.979293Z",
     "iopub.status.busy": "2022-10-01T14:18:10.979037Z",
     "iopub.status.idle": "2022-10-01T14:18:10.989863Z",
     "shell.execute_reply": "2022-10-01T14:18:10.988728Z",
     "shell.execute_reply.started": "2022-10-01T14:18:10.979266Z"
    },
    "lines_to_next_cell": 2,
    "tags": []
   },
   "outputs": [],
   "source": [
    "canada = pd.read_csv('canada.csv')\n",
    "canada = canada.values[:, 0:3].astype(float)\n",
    "\n",
    "TRAIN_IDX = int(canada.shape[0]*.5)\n",
    "VAL_IDX = TRAIN_IDX + int(canada.shape[0]*.1)"
   ]
  },
  {
   "cell_type": "code",
   "execution_count": 9,
   "id": "bb4a4153-511c-4dfd-b4e7-14ebed1e4311",
   "metadata": {
    "execution": {
     "iopub.execute_input": "2022-10-01T14:18:16.945855Z",
     "iopub.status.busy": "2022-10-01T14:18:16.945222Z",
     "iopub.status.idle": "2022-10-01T14:18:16.955668Z",
     "shell.execute_reply": "2022-10-01T14:18:16.954520Z",
     "shell.execute_reply.started": "2022-10-01T14:18:16.945806Z"
    },
    "tags": []
   },
   "outputs": [],
   "source": [
    "canada[:TRAIN_IDX] = mm_scaler.fit_transform(canada[:TRAIN_IDX])\n",
    "canada[TRAIN_IDX:VAL_IDX] = mm_scaler.transform(canada[TRAIN_IDX:VAL_IDX])\n",
    "canada_train_val = canada[:VAL_IDX]\n",
    "\n",
    "time_series = TimeSeries.from_values(canada_train_val)"
   ]
  },
  {
   "cell_type": "code",
   "execution_count": 10,
   "id": "70e1e818",
   "metadata": {
    "execution": {
     "iopub.execute_input": "2022-10-01T14:18:16.958900Z",
     "iopub.status.busy": "2022-10-01T14:18:16.958569Z",
     "iopub.status.idle": "2022-10-01T15:23:33.981339Z",
     "shell.execute_reply": "2022-10-01T15:23:33.980213Z",
     "shell.execute_reply.started": "2022-10-01T14:18:16.958862Z"
    },
    "lines_to_next_cell": 2,
    "tags": []
   },
   "outputs": [
    {
     "data": {
      "application/vnd.jupyter.widget-view+json": {
       "model_id": "9c51f27a25b1440980f1b08273fea755",
       "version_major": 2,
       "version_minor": 0
      },
      "text/plain": [
       "  0%|          | 0/216 [00:00<?, ?it/s]"
      ]
     },
     "metadata": {},
     "output_type": "display_data"
    },
    {
     "name": "stderr",
     "output_type": "stream",
     "text": [
      "[2022-10-01 16:23:33,949] INFO | darts.models.forecasting.forecasting_model | Chosen parameters: {'hidden_continuous_size': 8, 'lstm_layers': 2, 'dropout': 0.1, 'batch_size': 4, 'input_chunk_length': 32, 'output_chunk_length': 2, 'n_epochs': 24, 'num_attention_heads': 2, 'add_relative_index': True}\n",
      "[2022-10-01 16:23:33,949] INFO | darts.models.forecasting.forecasting_model | Chosen parameters: {'hidden_continuous_size': 8, 'lstm_layers': 2, 'dropout': 0.1, 'batch_size': 4, 'input_chunk_length': 32, 'output_chunk_length': 2, 'n_epochs': 24, 'num_attention_heads': 2, 'add_relative_index': True}\n",
      "2022-10-01 16:23:33 darts.models.forecasting.forecasting_model INFO: Chosen parameters: {'hidden_continuous_size': 8, 'lstm_layers': 2, 'dropout': 0.1, 'batch_size': 4, 'input_chunk_length': 32, 'output_chunk_length': 2, 'n_epochs': 24, 'num_attention_heads': 2, 'add_relative_index': True}\n"
     ]
    }
   ],
   "source": [
    "OUTPUT_STEP = 2  # predict |OUTPUT_STEP| steps as output\n",
    "\n",
    "parameters = {\n",
    "    \"hidden_continuous_size\": [2, 4, 8],\n",
    "    \"lstm_layers\": [2, 4],\n",
    "    \"dropout\": [0.1, 0.3],   \n",
    "    \"batch_size\": [2,4],\n",
    "    \"input_chunk_length\": [16,32,64],\n",
    "    \"output_chunk_length\": [OUTPUT_STEP],\n",
    "    \"n_epochs\": [24],\n",
    "    \"num_attention_heads\": [2, 4, 8],   # divisible by number of features\n",
    "    \"add_relative_index\": [True]\n",
    "}\n",
    "\n",
    "best_model, _, _ = TFTModel.gridsearch(\n",
    "    parameters = parameters,\n",
    "    series = time_series[:TRAIN_IDX],\n",
    "    val_series = time_series[TRAIN_IDX:VAL_IDX],\n",
    "    metric = rmse,\n",
    "    n_jobs=16,\n",
    "    verbose=True)"
   ]
  },
  {
   "cell_type": "code",
   "execution_count": 11,
   "id": "992b43ce",
   "metadata": {
    "execution": {
     "iopub.execute_input": "2022-10-01T15:23:33.985827Z",
     "iopub.status.busy": "2022-10-01T15:23:33.985528Z",
     "iopub.status.idle": "2022-10-01T15:24:17.308856Z",
     "shell.execute_reply": "2022-10-01T15:24:17.307429Z",
     "shell.execute_reply.started": "2022-10-01T15:23:33.985790Z"
    },
    "lines_to_next_cell": 2,
    "tags": []
   },
   "outputs": [
    {
     "name": "stderr",
     "output_type": "stream",
     "text": [
      "[2022-10-01 16:23:33,995] INFO | darts.models.forecasting.torch_forecasting_model | Train dataset contains 244 samples.\n",
      "[2022-10-01 16:23:33,995] INFO | darts.models.forecasting.torch_forecasting_model | Train dataset contains 244 samples.\n",
      "2022-10-01 16:23:33 darts.models.forecasting.torch_forecasting_model INFO: Train dataset contains 244 samples.\n",
      "[2022-10-01 16:23:34,046] INFO | darts.models.forecasting.torch_forecasting_model | Time series values are 64-bits; casting model to float64.\n",
      "[2022-10-01 16:23:34,046] INFO | darts.models.forecasting.torch_forecasting_model | Time series values are 64-bits; casting model to float64.\n",
      "2022-10-01 16:23:34 darts.models.forecasting.torch_forecasting_model INFO: Time series values are 64-bits; casting model to float64.\n",
      "2022-10-01 16:23:34 pytorch_lightning.utilities.distributed INFO: GPU available: False, used: False\n",
      "2022-10-01 16:23:34 pytorch_lightning.utilities.distributed INFO: TPU available: False, using: 0 TPU cores\n",
      "2022-10-01 16:23:34 pytorch_lightning.utilities.distributed INFO: IPU available: False, using: 0 IPUs\n",
      "2022-10-01 16:23:34 pytorch_lightning.callbacks.model_summary INFO: \n",
      "   | Name                              | Type                             | Params\n",
      "----------------------------------------------------------------------------------------\n",
      "0  | static_covariates_vsn             | _VariableSelectionNetwork        | 0     \n",
      "1  | encoder_vsn                       | _VariableSelectionNetwork        | 2.4 K \n",
      "2  | decoder_vsn                       | _VariableSelectionNetwork        | 528   \n",
      "3  | static_context_grn                | _GatedResidualNetwork            | 1.1 K \n",
      "4  | static_context_hidden_encoder_grn | _GatedResidualNetwork            | 1.1 K \n",
      "5  | static_context_cell_encoder_grn   | _GatedResidualNetwork            | 1.1 K \n",
      "6  | static_context_enrichment         | _GatedResidualNetwork            | 1.1 K \n",
      "7  | lstm_encoder                      | LSTM                             | 4.4 K \n",
      "8  | lstm_decoder                      | LSTM                             | 4.4 K \n",
      "9  | post_lstm_gan                     | _GateAddNorm                     | 576   \n",
      "10 | static_enrichment_grn             | _GatedResidualNetwork            | 1.4 K \n",
      "11 | multihead_attn                    | _InterpretableMultiHeadAttention | 808   \n",
      "12 | post_attn_gan                     | _GateAddNorm                     | 576   \n",
      "13 | positionwise_feedforward_grn      | _GatedResidualNetwork            | 1.1 K \n",
      "14 | pre_output_gan                    | _GateAddNorm                     | 576   \n",
      "15 | output_layer                      | Linear                           | 867   \n",
      "----------------------------------------------------------------------------------------\n",
      "22.0 K    Trainable params\n",
      "0         Non-trainable params\n",
      "22.0 K    Total params\n",
      "0.176     Total estimated model params size (MB)\n"
     ]
    },
    {
     "data": {
      "application/vnd.jupyter.widget-view+json": {
       "model_id": "4939874e23df48818d92c08b9c406679",
       "version_major": 2,
       "version_minor": 0
      },
      "text/plain": [
       "Training: 0it [00:00, ?it/s]"
      ]
     },
     "metadata": {},
     "output_type": "display_data"
    },
    {
     "data": {
      "text/plain": [
       "<darts.models.forecasting.tft_model.TFTModel at 0x7fe84eff0d90>"
      ]
     },
     "execution_count": 11,
     "metadata": {},
     "output_type": "execute_result"
    }
   ],
   "source": [
    "best_model.fit(time_series[:TRAIN_IDX]) "
   ]
  },
  {
   "cell_type": "code",
   "execution_count": 12,
   "id": "4e03b28e-77f6-4117-b295-d47699bd49d5",
   "metadata": {
    "execution": {
     "iopub.execute_input": "2022-10-01T15:24:17.312594Z",
     "iopub.status.busy": "2022-10-01T15:24:17.312102Z",
     "iopub.status.idle": "2022-10-01T15:24:17.523957Z",
     "shell.execute_reply": "2022-10-01T15:24:17.523062Z",
     "shell.execute_reply.started": "2022-10-01T15:24:17.312542Z"
    },
    "tags": []
   },
   "outputs": [],
   "source": [
    "best_model.save_model('tft_train_val.pth.tar')"
   ]
  },
  {
   "cell_type": "code",
   "execution_count": 125,
   "id": "6e42e4c3-ec78-40c0-bc52-5f16452f5dcc",
   "metadata": {
    "execution": {
     "iopub.execute_input": "2022-10-02T10:15:07.572261Z",
     "iopub.status.busy": "2022-10-02T10:15:07.570398Z",
     "iopub.status.idle": "2022-10-02T10:15:07.688132Z",
     "shell.execute_reply": "2022-10-02T10:15:07.687165Z",
     "shell.execute_reply.started": "2022-10-02T10:15:07.572160Z"
    },
    "tags": []
   },
   "outputs": [],
   "source": [
    "best_model = TFTModel.load_model('tft_train_val.pth.tar')"
   ]
  },
  {
   "cell_type": "code",
   "execution_count": 126,
   "id": "b4f8f2ae-4d11-48bc-a968-aaef41fde05d",
   "metadata": {
    "execution": {
     "iopub.execute_input": "2022-10-02T10:15:07.690269Z",
     "iopub.status.busy": "2022-10-02T10:15:07.690045Z",
     "iopub.status.idle": "2022-10-02T10:15:07.917680Z",
     "shell.execute_reply": "2022-10-02T10:15:07.916968Z",
     "shell.execute_reply.started": "2022-10-02T10:15:07.690240Z"
    },
    "tags": []
   },
   "outputs": [
    {
     "name": "stderr",
     "output_type": "stream",
     "text": [
      "2022-10-02 11:15:07 pytorch_lightning.utilities.distributed INFO: GPU available: False, used: False\n",
      "2022-10-02 11:15:07 pytorch_lightning.utilities.distributed INFO: TPU available: False, using: 0 TPU cores\n",
      "2022-10-02 11:15:07 pytorch_lightning.utilities.distributed INFO: IPU available: False, using: 0 IPUs\n"
     ]
    },
    {
     "data": {
      "application/vnd.jupyter.widget-view+json": {
       "model_id": "1d5825710756466c99b44aeecefae9a3",
       "version_major": 2,
       "version_minor": 0
      },
      "text/plain": [
       "Predicting: 0it [00:00, ?it/s]"
      ]
     },
     "metadata": {},
     "output_type": "display_data"
    },
    {
     "name": "stdout",
     "output_type": "stream",
     "text": [
      "1.996590845529638\n"
     ]
    }
   ],
   "source": [
    "predict = best_model.predict(VAL_IDX-TRAIN_IDX)\n",
    "print(rmse(predict, time_series[TRAIN_IDX:VAL_IDX]))"
   ]
  },
  {
   "cell_type": "code",
   "execution_count": 127,
   "id": "6e475d11-a18d-4a15-8b60-bda48d5627f4",
   "metadata": {
    "execution": {
     "iopub.execute_input": "2022-10-02T10:15:07.920391Z",
     "iopub.status.busy": "2022-10-02T10:15:07.920155Z",
     "iopub.status.idle": "2022-10-02T10:15:07.924966Z",
     "shell.execute_reply": "2022-10-02T10:15:07.924005Z",
     "shell.execute_reply.started": "2022-10-02T10:15:07.920364Z"
    },
    "tags": []
   },
   "outputs": [],
   "source": [
    "inversed_predict=mm_scaler.inverse_transform(predict.values())"
   ]
  },
  {
   "cell_type": "code",
   "execution_count": 128,
   "id": "7faf8be9-be97-4a7a-bbfa-7851970758d4",
   "metadata": {
    "execution": {
     "iopub.execute_input": "2022-10-02T10:15:07.927625Z",
     "iopub.status.busy": "2022-10-02T10:15:07.927190Z",
     "iopub.status.idle": "2022-10-02T10:15:07.932289Z",
     "shell.execute_reply": "2022-10-02T10:15:07.931220Z",
     "shell.execute_reply.started": "2022-10-02T10:15:07.927592Z"
    },
    "tags": []
   },
   "outputs": [],
   "source": [
    "true_value=mm_scaler.inverse_transform(time_series[TRAIN_IDX:VAL_IDX].values())"
   ]
  },
  {
   "cell_type": "code",
   "execution_count": 129,
   "id": "0f66db1a-b6b2-4b04-b84f-05db964bda7e",
   "metadata": {
    "execution": {
     "iopub.execute_input": "2022-10-02T10:15:07.934663Z",
     "iopub.status.busy": "2022-10-02T10:15:07.934164Z",
     "iopub.status.idle": "2022-10-02T10:15:08.105754Z",
     "shell.execute_reply": "2022-10-02T10:15:08.104972Z",
     "shell.execute_reply.started": "2022-10-02T10:15:07.934615Z"
    },
    "tags": []
   },
   "outputs": [
    {
     "data": {
      "image/png": "[encoded data removed]",
      "text/plain": [
       "<Figure size 432x288 with 1 Axes>"
      ]
     },
     "metadata": {
      "needs_background": "light"
     },
     "output_type": "display_data"
    }
   ],
   "source": [
    "import matplotlib.pyplot as plt\n",
    "\n",
    "x = range(len(inversed_predict))\n",
    "\n",
    "plt.plot(x, inversed_predict[:,0], label ='predict infected')\n",
    "plt.plot(x, true_value[:,0], '-.', label ='actual infected')\n",
    "plt.plot(x, inversed_predict[:,1], label ='predict recovered')\n",
    "plt.plot(x, true_value[:,1], '-.', label ='actual recovered')\n",
    "\n",
    "plt.xlabel(\"date\")\n",
    "plt.ylabel(\"number of infected\")\n",
    "plt.legend()\n",
    "plt.show()"
   ]
  },
  {
   "cell_type": "code",
   "execution_count": 130,
   "id": "d95da207-0841-4a4f-9059-21b59d998a63",
   "metadata": {
    "execution": {
     "iopub.execute_input": "2022-10-02T10:15:08.107459Z",
     "iopub.status.busy": "2022-10-02T10:15:08.107174Z",
     "iopub.status.idle": "2022-10-02T10:15:08.114099Z",
     "shell.execute_reply": "2022-10-02T10:15:08.113289Z",
     "shell.execute_reply.started": "2022-10-02T10:15:08.107429Z"
    },
    "tags": []
   },
   "outputs": [
    {
     "data": {
      "text/plain": [
       "178626.20636945663"
      ]
     },
     "execution_count": 130,
     "metadata": {},
     "output_type": "execute_result"
    }
   ],
   "source": [
    "mean_squared_error(inversed_predict[:,0], true_value[:,0], squared=False)"
   ]
  },
  {
   "cell_type": "code",
   "execution_count": 131,
   "id": "69df9bb3-2473-493c-a482-15575d0c89d3",
   "metadata": {
    "execution": {
     "iopub.execute_input": "2022-10-02T10:15:08.115431Z",
     "iopub.status.busy": "2022-10-02T10:15:08.115078Z",
     "iopub.status.idle": "2022-10-02T10:15:08.121113Z",
     "shell.execute_reply": "2022-10-02T10:15:08.120058Z",
     "shell.execute_reply.started": "2022-10-02T10:15:08.115395Z"
    },
    "tags": []
   },
   "outputs": [],
   "source": [
    "canada_test = canada[VAL_IDX-best_model.input_chunk_length:]  # start to predict from here\n",
    "test_time_transforms = TimeSeries.from_values(mm_scaler.transform(canada_test))"
   ]
  },
  {
   "cell_type": "code",
   "execution_count": 132,
   "id": "caede684-c4c7-4ef4-9027-4c779eaaa823",
   "metadata": {
    "execution": {
     "iopub.execute_input": "2022-10-02T10:15:08.123259Z",
     "iopub.status.busy": "2022-10-02T10:15:08.122832Z",
     "iopub.status.idle": "2022-10-02T10:19:47.908633Z",
     "shell.execute_reply": "2022-10-02T10:19:47.907861Z",
     "shell.execute_reply.started": "2022-10-02T10:15:08.123213Z"
    },
    "tags": []
   },
   "outputs": [
    {
     "data": {
      "application/vnd.jupyter.widget-view+json": {
       "model_id": "9e6190bd784244529ea6fdd3bf30cc48",
       "version_major": 2,
       "version_minor": 0
      },
      "text/plain": [
       "Predicting: 0it [00:00, ?it/s]"
      ]
     },
     "metadata": {},
     "output_type": "display_data"
    },
    {
     "name": "stderr",
     "output_type": "stream",
     "text": [
      "[2022-10-02 11:15:08,181] INFO | darts.models.forecasting.torch_forecasting_model | Train dataset contains 31 samples.\n",
      "[2022-10-02 11:15:08,181] INFO | darts.models.forecasting.torch_forecasting_model | Train dataset contains 31 samples.\n",
      "2022-10-02 11:15:08 darts.models.forecasting.torch_forecasting_model INFO: Train dataset contains 31 samples.\n",
      "2022-10-02 11:15:08 pytorch_lightning.utilities.distributed INFO: GPU available: False, used: False\n",
      "2022-10-02 11:15:08 pytorch_lightning.utilities.distributed INFO: TPU available: False, using: 0 TPU cores\n",
      "2022-10-02 11:15:08 pytorch_lightning.utilities.distributed INFO: IPU available: False, using: 0 IPUs\n",
      "2022-10-02 11:15:08 pytorch_lightning.callbacks.model_summary INFO: \n",
      "   | Name                              | Type                             | Params\n",
      "----------------------------------------------------------------------------------------\n",
      "0  | static_covariates_vsn             | _VariableSelectionNetwork        | 0     \n",
      "1  | encoder_vsn                       | _VariableSelectionNetwork        | 2.4 K \n",
      "2  | decoder_vsn                       | _VariableSelectionNetwork        | 528   \n",
      "3  | static_context_grn                | _GatedResidualNetwork            | 1.1 K \n",
      "4  | static_context_hidden_encoder_grn | _GatedResidualNetwork            | 1.1 K \n",
      "5  | static_context_cell_encoder_grn   | _GatedResidualNetwork            | 1.1 K \n",
      "6  | static_context_enrichment         | _GatedResidualNetwork            | 1.1 K \n",
      "7  | lstm_encoder                      | LSTM                             | 4.4 K \n",
      "8  | lstm_decoder                      | LSTM                             | 4.4 K \n",
      "9  | post_lstm_gan                     | _GateAddNorm                     | 576   \n",
      "10 | static_enrichment_grn             | _GatedResidualNetwork            | 1.4 K \n",
      "11 | multihead_attn                    | _InterpretableMultiHeadAttention | 808   \n",
      "12 | post_attn_gan                     | _GateAddNorm                     | 576   \n",
      "13 | positionwise_feedforward_grn      | _GatedResidualNetwork            | 1.1 K \n",
      "14 | pre_output_gan                    | _GateAddNorm                     | 576   \n",
      "15 | output_layer                      | Linear                           | 867   \n",
      "----------------------------------------------------------------------------------------\n",
      "22.0 K    Trainable params\n",
      "0         Non-trainable params\n",
      "22.0 K    Total params\n",
      "0.176     Total estimated model params size (MB)\n"
     ]
    },
    {
     "name": "stdout",
     "output_type": "stream",
     "text": [
      "0\n"
     ]
    },
    {
     "data": {
      "application/vnd.jupyter.widget-view+json": {
       "model_id": "e540131063d14bcb8433fd6d979d0ca9",
       "version_major": 2,
       "version_minor": 0
      },
      "text/plain": [
       "Training: 0it [00:00, ?it/s]"
      ]
     },
     "metadata": {},
     "output_type": "display_data"
    },
    {
     "data": {
      "application/vnd.jupyter.widget-view+json": {
       "model_id": "ddbfbc30f7904c5ab47a9d04a17deec9",
       "version_major": 2,
       "version_minor": 0
      },
      "text/plain": [
       "Predicting: 8it [00:00, ?it/s]"
      ]
     },
     "metadata": {},
     "output_type": "display_data"
    },
    {
     "name": "stderr",
     "output_type": "stream",
     "text": [
      "[2022-10-02 11:15:08,557] INFO | darts.models.forecasting.torch_forecasting_model | Train dataset contains 32 samples.\n",
      "[2022-10-02 11:15:08,557] INFO | darts.models.forecasting.torch_forecasting_model | Train dataset contains 32 samples.\n",
      "2022-10-02 11:15:08 darts.models.forecasting.torch_forecasting_model INFO: Train dataset contains 32 samples.\n",
      "2022-10-02 11:15:08 pytorch_lightning.utilities.distributed INFO: GPU available: False, used: False\n",
      "2022-10-02 11:15:08 pytorch_lightning.utilities.distributed INFO: TPU available: False, using: 0 TPU cores\n",
      "2022-10-02 11:15:08 pytorch_lightning.utilities.distributed INFO: IPU available: False, using: 0 IPUs\n",
      "[2022-10-02 11:15:08,564] WARNING | darts.models.forecasting.torch_forecasting_model | Attempting to retrain the model without resuming from a checkpoint. This is currently discouraged. Consider setting `save_checkpoints` to `True` and specifying `model_name` at model creation. Then call `model = TFTModel.load_from_checkpoint(model_name, best=False)`. Finally, train the model with `model.fit(..., epochs=new_epochs)` where `new_epochs` is the sum of (epochs already trained + some additional epochs).\n",
      "[2022-10-02 11:15:08,564] WARNING | darts.models.forecasting.torch_forecasting_model | Attempting to retrain the model without resuming from a checkpoint. This is currently discouraged. Consider setting `save_checkpoints` to `True` and specifying `model_name` at model creation. Then call `model = TFTModel.load_from_checkpoint(model_name, best=False)`. Finally, train the model with `model.fit(..., epochs=new_epochs)` where `new_epochs` is the sum of (epochs already trained + some additional epochs).\n",
      "2022-10-02 11:15:08 darts.models.forecasting.torch_forecasting_model WARNING: Attempting to retrain the model without resuming from a checkpoint. This is currently discouraged. Consider setting `save_checkpoints` to `True` and specifying `model_name` at model creation. Then call `model = TFTModel.load_from_checkpoint(model_name, best=False)`. Finally, train the model with `model.fit(..., epochs=new_epochs)` where `new_epochs` is the sum of (epochs already trained + some additional epochs).\n"
     ]
    },
    {
     "name": "stdout",
     "output_type": "stream",
     "text": [
      "1\n"
     ]
    },
    {
     "data": {
      "application/vnd.jupyter.widget-view+json": {
       "model_id": "056f492b65d84b0086ebd5aaa1fa43b0",
       "version_major": 2,
       "version_minor": 0
      },
      "text/plain": [
       "Training: 0it [00:00, ?it/s]"
      ]
     },
     "metadata": {},
     "output_type": "display_data"
    },
    {
     "data": {
      "application/vnd.jupyter.widget-view+json": {
       "model_id": "a0e624975f90420c9197148d56b1782e",
       "version_major": 2,
       "version_minor": 0
      },
      "text/plain": [
       "Predicting: 8it [00:00, ?it/s]"
      ]
     },
     "metadata": {},
     "output_type": "display_data"
    },
    {
     "name": "stderr",
     "output_type": "stream",
     "text": [
      "[2022-10-02 11:15:08,924] INFO | darts.models.forecasting.torch_forecasting_model | Train dataset contains 33 samples.\n",
      "[2022-10-02 11:15:08,924] INFO | darts.models.forecasting.torch_forecasting_model | Train dataset contains 33 samples.\n",
      "2022-10-02 11:15:08 darts.models.forecasting.torch_forecasting_model INFO: Train dataset contains 33 samples.\n",
      "2022-10-02 11:15:08 pytorch_lightning.utilities.distributed INFO: GPU available: False, used: False\n",
      "2022-10-02 11:15:08 pytorch_lightning.utilities.distributed INFO: TPU available: False, using: 0 TPU cores\n",
      "2022-10-02 11:15:08 pytorch_lightning.utilities.distributed INFO: IPU available: False, using: 0 IPUs\n",
      "[2022-10-02 11:15:08,931] WARNING | darts.models.forecasting.torch_forecasting_model | Attempting to retrain the model without resuming from a checkpoint. This is currently discouraged. Consider setting `save_checkpoints` to `True` and specifying `model_name` at model creation. Then call `model = TFTModel.load_from_checkpoint(model_name, best=False)`. Finally, train the model with `model.fit(..., epochs=new_epochs)` where `new_epochs` is the sum of (epochs already trained + some additional epochs).\n",
      "[2022-10-02 11:15:08,931] WARNING | darts.models.forecasting.torch_forecasting_model | Attempting to retrain the model without resuming from a checkpoint. This is currently discouraged. Consider setting `save_checkpoints` to `True` and specifying `model_name` at model creation. Then call `model = TFTModel.load_from_checkpoint(model_name, best=False)`. Finally, train the model with `model.fit(..., epochs=new_epochs)` where `new_epochs` is the sum of (epochs already trained + some additional epochs).\n",
      "2022-10-02 11:15:08 darts.models.forecasting.torch_forecasting_model WARNING: Attempting to retrain the model without resuming from a checkpoint. This is currently discouraged. Consider setting `save_checkpoints` to `True` and specifying `model_name` at model creation. Then call `model = TFTModel.load_from_checkpoint(model_name, best=False)`. Finally, train the model with `model.fit(..., epochs=new_epochs)` where `new_epochs` is the sum of (epochs already trained + some additional epochs).\n"
     ]
    },
    {
     "name": "stdout",
     "output_type": "stream",
     "text": [
      "2\n"
     ]
    },
    {
     "data": {
      "application/vnd.jupyter.widget-view+json": {
       "model_id": "1c269f43217d4c9bb13eb4dbb59aa3c8",
       "version_major": 2,
       "version_minor": 0
      },
      "text/plain": [
       "Training: 0it [00:00, ?it/s]"
      ]
     },
     "metadata": {},
     "output_type": "display_data"
    },
    {
     "data": {
      "application/vnd.jupyter.widget-view+json": {
       "model_id": "9a034291c27c423c87ebaf97d77f05c7",
       "version_major": 2,
       "version_minor": 0
      },
      "text/plain": [
       "Predicting: 9it [00:00, ?it/s]"
      ]
     },
     "metadata": {},
     "output_type": "display_data"
    },
    {
     "name": "stderr",
     "output_type": "stream",
     "text": [
      "[2022-10-02 11:15:09,314] INFO | darts.models.forecasting.torch_forecasting_model | Train dataset contains 34 samples.\n",
      "[2022-10-02 11:15:09,314] INFO | darts.models.forecasting.torch_forecasting_model | Train dataset contains 34 samples.\n",
      "2022-10-02 11:15:09 darts.models.forecasting.torch_forecasting_model INFO: Train dataset contains 34 samples.\n",
      "2022-10-02 11:15:09 pytorch_lightning.utilities.distributed INFO: GPU available: False, used: False\n",
      "2022-10-02 11:15:09 pytorch_lightning.utilities.distributed INFO: TPU available: False, using: 0 TPU cores\n",
      "2022-10-02 11:15:09 pytorch_lightning.utilities.distributed INFO: IPU available: False, using: 0 IPUs\n",
      "[2022-10-02 11:15:09,322] WARNING | darts.models.forecasting.torch_forecasting_model | Attempting to retrain the model without resuming from a checkpoint. This is currently discouraged. Consider setting `save_checkpoints` to `True` and specifying `model_name` at model creation. Then call `model = TFTModel.load_from_checkpoint(model_name, best=False)`. Finally, train the model with `model.fit(..., epochs=new_epochs)` where `new_epochs` is the sum of (epochs already trained + some additional epochs).\n",
      "[2022-10-02 11:15:09,322] WARNING | darts.models.forecasting.torch_forecasting_model | Attempting to retrain the model without resuming from a checkpoint. This is currently discouraged. Consider setting `save_checkpoints` to `True` and specifying `model_name` at model creation. Then call `model = TFTModel.load_from_checkpoint(model_name, best=False)`. Finally, train the model with `model.fit(..., epochs=new_epochs)` where `new_epochs` is the sum of (epochs already trained + some additional epochs).\n",
      "2022-10-02 11:15:09 darts.models.forecasting.torch_forecasting_model WARNING: Attempting to retrain the model without resuming from a checkpoint. This is currently discouraged. Consider setting `save_checkpoints` to `True` and specifying `model_name` at model creation. Then call `model = TFTModel.load_from_checkpoint(model_name, best=False)`. Finally, train the model with `model.fit(..., epochs=new_epochs)` where `new_epochs` is the sum of (epochs already trained + some additional epochs).\n"
     ]
    },
    {
     "name": "stdout",
     "output_type": "stream",
     "text": [
      "3\n"
     ]
    },
    {
     "data": {
      "application/vnd.jupyter.widget-view+json": {
       "model_id": "fd20e17989b2464f99b931c7ef0d41a5",
       "version_major": 2,
       "version_minor": 0
      },
      "text/plain": [
       "Training: 0it [00:00, ?it/s]"
      ]
     },
     "metadata": {},
     "output_type": "display_data"
    },
    {
     "data": {
      "application/vnd.jupyter.widget-view+json": {
       "model_id": "8b9799c8be294adeac26e49a81962d1f",
       "version_major": 2,
       "version_minor": 0
      },
      "text/plain": [
       "Predicting: 9it [00:00, ?it/s]"
      ]
     },
     "metadata": {},
     "output_type": "display_data"
    },
    {
     "name": "stderr",
     "output_type": "stream",
     "text": [
      "[2022-10-02 11:15:09,695] INFO | darts.models.forecasting.torch_forecasting_model | Train dataset contains 35 samples.\n",
      "[2022-10-02 11:15:09,695] INFO | darts.models.forecasting.torch_forecasting_model | Train dataset contains 35 samples.\n",
      "2022-10-02 11:15:09 darts.models.forecasting.torch_forecasting_model INFO: Train dataset contains 35 samples.\n",
      "2022-10-02 11:15:09 pytorch_lightning.utilities.distributed INFO: GPU available: False, used: False\n",
      "2022-10-02 11:15:09 pytorch_lightning.utilities.distributed INFO: TPU available: False, using: 0 TPU cores\n",
      "2022-10-02 11:15:09 pytorch_lightning.utilities.distributed INFO: IPU available: False, using: 0 IPUs\n",
      "[2022-10-02 11:15:09,703] WARNING | darts.models.forecasting.torch_forecasting_model | Attempting to retrain the model without resuming from a checkpoint. This is currently discouraged. Consider setting `save_checkpoints` to `True` and specifying `model_name` at model creation. Then call `model = TFTModel.load_from_checkpoint(model_name, best=False)`. Finally, train the model with `model.fit(..., epochs=new_epochs)` where `new_epochs` is the sum of (epochs already trained + some additional epochs).\n",
      "[2022-10-02 11:15:09,703] WARNING | darts.models.forecasting.torch_forecasting_model | Attempting to retrain the model without resuming from a checkpoint. This is currently discouraged. Consider setting `save_checkpoints` to `True` and specifying `model_name` at model creation. Then call `model = TFTModel.load_from_checkpoint(model_name, best=False)`. Finally, train the model with `model.fit(..., epochs=new_epochs)` where `new_epochs` is the sum of (epochs already trained + some additional epochs).\n",
      "2022-10-02 11:15:09 darts.models.forecasting.torch_forecasting_model WARNING: Attempting to retrain the model without resuming from a checkpoint. This is currently discouraged. Consider setting `save_checkpoints` to `True` and specifying `model_name` at model creation. Then call `model = TFTModel.load_from_checkpoint(model_name, best=False)`. Finally, train the model with `model.fit(..., epochs=new_epochs)` where `new_epochs` is the sum of (epochs already trained + some additional epochs).\n"
     ]
    },
    {
     "name": "stdout",
     "output_type": "stream",
     "text": [
      "4\n"
     ]
    },
    {
     "data": {
      "application/vnd.jupyter.widget-view+json": {
       "model_id": "4db6027bc52841fe8d3f8c8a5d085687",
       "version_major": 2,
       "version_minor": 0
      },
      "text/plain": [
       "Training: 0it [00:00, ?it/s]"
      ]
     },
     "metadata": {},
     "output_type": "display_data"
    },
    {
     "data": {
      "application/vnd.jupyter.widget-view+json": {
       "model_id": "8a172f3c05584efebd73c09153b2951b",
       "version_major": 2,
       "version_minor": 0
      },
      "text/plain": [
       "Predicting: 9it [00:00, ?it/s]"
      ]
     },
     "metadata": {},
     "output_type": "display_data"
    },
    {
     "name": "stderr",
     "output_type": "stream",
     "text": [
      "[2022-10-02 11:15:10,095] INFO | darts.models.forecasting.torch_forecasting_model | Train dataset contains 36 samples.\n",
      "[2022-10-02 11:15:10,095] INFO | darts.models.forecasting.torch_forecasting_model | Train dataset contains 36 samples.\n",
      "2022-10-02 11:15:10 darts.models.forecasting.torch_forecasting_model INFO: Train dataset contains 36 samples.\n",
      "2022-10-02 11:15:10 pytorch_lightning.utilities.distributed INFO: GPU available: False, used: False\n",
      "2022-10-02 11:15:10 pytorch_lightning.utilities.distributed INFO: TPU available: False, using: 0 TPU cores\n",
      "2022-10-02 11:15:10 pytorch_lightning.utilities.distributed INFO: IPU available: False, using: 0 IPUs\n",
      "[2022-10-02 11:15:10,102] WARNING | darts.models.forecasting.torch_forecasting_model | Attempting to retrain the model without resuming from a checkpoint. This is currently discouraged. Consider setting `save_checkpoints` to `True` and specifying `model_name` at model creation. Then call `model = TFTModel.load_from_checkpoint(model_name, best=False)`. Finally, train the model with `model.fit(..., epochs=new_epochs)` where `new_epochs` is the sum of (epochs already trained + some additional epochs).\n",
      "[2022-10-02 11:15:10,102] WARNING | darts.models.forecasting.torch_forecasting_model | Attempting to retrain the model without resuming from a checkpoint. This is currently discouraged. Consider setting `save_checkpoints` to `True` and specifying `model_name` at model creation. Then call `model = TFTModel.load_from_checkpoint(model_name, best=False)`. Finally, train the model with `model.fit(..., epochs=new_epochs)` where `new_epochs` is the sum of (epochs already trained + some additional epochs).\n",
      "2022-10-02 11:15:10 darts.models.forecasting.torch_forecasting_model WARNING: Attempting to retrain the model without resuming from a checkpoint. This is currently discouraged. Consider setting `save_checkpoints` to `True` and specifying `model_name` at model creation. Then call `model = TFTModel.load_from_checkpoint(model_name, best=False)`. Finally, train the model with `model.fit(..., epochs=new_epochs)` where `new_epochs` is the sum of (epochs already trained + some additional epochs).\n"
     ]
    },
    {
     "name": "stdout",
     "output_type": "stream",
     "text": [
      "5\n"
     ]
    },
    {
     "data": {
      "application/vnd.jupyter.widget-view+json": {
       "model_id": "64e4bb135d834df2a95f7dfac36a09d1",
       "version_major": 2,
       "version_minor": 0
      },
      "text/plain": [
       "Training: 0it [00:00, ?it/s]"
      ]
     },
     "metadata": {},
     "output_type": "display_data"
    },
    {
     "data": {
      "application/vnd.jupyter.widget-view+json": {
       "model_id": "69ab157fd9b04a1788622e9d2133f376",
       "version_major": 2,
       "version_minor": 0
      },
      "text/plain": [
       "Predicting: 9it [00:00, ?it/s]"
      ]
     },
     "metadata": {},
     "output_type": "display_data"
    },
    {
     "name": "stderr",
     "output_type": "stream",
     "text": [
      "[2022-10-02 11:15:10,483] INFO | darts.models.forecasting.torch_forecasting_model | Train dataset contains 37 samples.\n",
      "[2022-10-02 11:15:10,483] INFO | darts.models.forecasting.torch_forecasting_model | Train dataset contains 37 samples.\n",
      "2022-10-02 11:15:10 darts.models.forecasting.torch_forecasting_model INFO: Train dataset contains 37 samples.\n",
      "2022-10-02 11:15:10 pytorch_lightning.utilities.distributed INFO: GPU available: False, used: False\n",
      "2022-10-02 11:15:10 pytorch_lightning.utilities.distributed INFO: TPU available: False, using: 0 TPU cores\n",
      "2022-10-02 11:15:10 pytorch_lightning.utilities.distributed INFO: IPU available: False, using: 0 IPUs\n",
      "[2022-10-02 11:15:10,491] WARNING | darts.models.forecasting.torch_forecasting_model | Attempting to retrain the model without resuming from a checkpoint. This is currently discouraged. Consider setting `save_checkpoints` to `True` and specifying `model_name` at model creation. Then call `model = TFTModel.load_from_checkpoint(model_name, best=False)`. Finally, train the model with `model.fit(..., epochs=new_epochs)` where `new_epochs` is the sum of (epochs already trained + some additional epochs).\n",
      "[2022-10-02 11:15:10,491] WARNING | darts.models.forecasting.torch_forecasting_model | Attempting to retrain the model without resuming from a checkpoint. This is currently discouraged. Consider setting `save_checkpoints` to `True` and specifying `model_name` at model creation. Then call `model = TFTModel.load_from_checkpoint(model_name, best=False)`. Finally, train the model with `model.fit(..., epochs=new_epochs)` where `new_epochs` is the sum of (epochs already trained + some additional epochs).\n",
      "2022-10-02 11:15:10 darts.models.forecasting.torch_forecasting_model WARNING: Attempting to retrain the model without resuming from a checkpoint. This is currently discouraged. Consider setting `save_checkpoints` to `True` and specifying `model_name` at model creation. Then call `model = TFTModel.load_from_checkpoint(model_name, best=False)`. Finally, train the model with `model.fit(..., epochs=new_epochs)` where `new_epochs` is the sum of (epochs already trained + some additional epochs).\n"
     ]
    },
    {
     "name": "stdout",
     "output_type": "stream",
     "text": [
      "6\n"
     ]
    },
    {
     "data": {
      "application/vnd.jupyter.widget-view+json": {
       "model_id": "9236705754c74073b8a43f608d943878",
       "version_major": 2,
       "version_minor": 0
      },
      "text/plain": [
       "Training: 0it [00:00, ?it/s]"
      ]
     },
     "metadata": {},
     "output_type": "display_data"
    },
    {
     "data": {
      "application/vnd.jupyter.widget-view+json": {
       "model_id": "626f1a42f6f54266aa46033fabb3f837",
       "version_major": 2,
       "version_minor": 0
      },
      "text/plain": [
       "Predicting: 10it [00:00, ?it/s]"
      ]
     },
     "metadata": {},
     "output_type": "display_data"
    },
    {
     "name": "stderr",
     "output_type": "stream",
     "text": [
      "[2022-10-02 11:15:10,880] INFO | darts.models.forecasting.torch_forecasting_model | Train dataset contains 38 samples.\n",
      "[2022-10-02 11:15:10,880] INFO | darts.models.forecasting.torch_forecasting_model | Train dataset contains 38 samples.\n",
      "2022-10-02 11:15:10 darts.models.forecasting.torch_forecasting_model INFO: Train dataset contains 38 samples.\n",
      "2022-10-02 11:15:10 pytorch_lightning.utilities.distributed INFO: GPU available: False, used: False\n",
      "2022-10-02 11:15:10 pytorch_lightning.utilities.distributed INFO: TPU available: False, using: 0 TPU cores\n",
      "2022-10-02 11:15:10 pytorch_lightning.utilities.distributed INFO: IPU available: False, using: 0 IPUs\n",
      "[2022-10-02 11:15:10,887] WARNING | darts.models.forecasting.torch_forecasting_model | Attempting to retrain the model without resuming from a checkpoint. This is currently discouraged. Consider setting `save_checkpoints` to `True` and specifying `model_name` at model creation. Then call `model = TFTModel.load_from_checkpoint(model_name, best=False)`. Finally, train the model with `model.fit(..., epochs=new_epochs)` where `new_epochs` is the sum of (epochs already trained + some additional epochs).\n",
      "[2022-10-02 11:15:10,887] WARNING | darts.models.forecasting.torch_forecasting_model | Attempting to retrain the model without resuming from a checkpoint. This is currently discouraged. Consider setting `save_checkpoints` to `True` and specifying `model_name` at model creation. Then call `model = TFTModel.load_from_checkpoint(model_name, best=False)`. Finally, train the model with `model.fit(..., epochs=new_epochs)` where `new_epochs` is the sum of (epochs already trained + some additional epochs).\n",
      "2022-10-02 11:15:10 darts.models.forecasting.torch_forecasting_model WARNING: Attempting to retrain the model without resuming from a checkpoint. This is currently discouraged. Consider setting `save_checkpoints` to `True` and specifying `model_name` at model creation. Then call `model = TFTModel.load_from_checkpoint(model_name, best=False)`. Finally, train the model with `model.fit(..., epochs=new_epochs)` where `new_epochs` is the sum of (epochs already trained + some additional epochs).\n"
     ]
    },
    {
     "name": "stdout",
     "output_type": "stream",
     "text": [
      "7\n"
     ]
    },
    {
     "data": {
      "application/vnd.jupyter.widget-view+json": {
       "model_id": "991d78f2301e49c383339dc0458ed89b",
       "version_major": 2,
       "version_minor": 0
      },
      "text/plain": [
       "Training: 0it [00:00, ?it/s]"
      ]
     },
     "metadata": {},
     "output_type": "display_data"
    },
    {
     "data": {
      "application/vnd.jupyter.widget-view+json": {
       "model_id": "7176a1e13b484db3923eea599c911634",
       "version_major": 2,
       "version_minor": 0
      },
      "text/plain": [
       "Predicting: 10it [00:00, ?it/s]"
      ]
     },
     "metadata": {},
     "output_type": "display_data"
    },
    {
     "name": "stderr",
     "output_type": "stream",
     "text": [
      "[2022-10-02 11:15:11,305] INFO | darts.models.forecasting.torch_forecasting_model | Train dataset contains 39 samples.\n",
      "[2022-10-02 11:15:11,305] INFO | darts.models.forecasting.torch_forecasting_model | Train dataset contains 39 samples.\n",
      "2022-10-02 11:15:11 darts.models.forecasting.torch_forecasting_model INFO: Train dataset contains 39 samples.\n",
      "2022-10-02 11:15:11 pytorch_lightning.utilities.distributed INFO: GPU available: False, used: False\n",
      "2022-10-02 11:15:11 pytorch_lightning.utilities.distributed INFO: TPU available: False, using: 0 TPU cores\n",
      "2022-10-02 11:15:11 pytorch_lightning.utilities.distributed INFO: IPU available: False, using: 0 IPUs\n",
      "[2022-10-02 11:15:11,313] WARNING | darts.models.forecasting.torch_forecasting_model | Attempting to retrain the model without resuming from a checkpoint. This is currently discouraged. Consider setting `save_checkpoints` to `True` and specifying `model_name` at model creation. Then call `model = TFTModel.load_from_checkpoint(model_name, best=False)`. Finally, train the model with `model.fit(..., epochs=new_epochs)` where `new_epochs` is the sum of (epochs already trained + some additional epochs).\n",
      "[2022-10-02 11:15:11,313] WARNING | darts.models.forecasting.torch_forecasting_model | Attempting to retrain the model without resuming from a checkpoint. This is currently discouraged. Consider setting `save_checkpoints` to `True` and specifying `model_name` at model creation. Then call `model = TFTModel.load_from_checkpoint(model_name, best=False)`. Finally, train the model with `model.fit(..., epochs=new_epochs)` where `new_epochs` is the sum of (epochs already trained + some additional epochs).\n",
      "2022-10-02 11:15:11 darts.models.forecasting.torch_forecasting_model WARNING: Attempting to retrain the model without resuming from a checkpoint. This is currently discouraged. Consider setting `save_checkpoints` to `True` and specifying `model_name` at model creation. Then call `model = TFTModel.load_from_checkpoint(model_name, best=False)`. Finally, train the model with `model.fit(..., epochs=new_epochs)` where `new_epochs` is the sum of (epochs already trained + some additional epochs).\n"
     ]
    },
    {
     "name": "stdout",
     "output_type": "stream",
     "text": [
      "8\n"
     ]
    },
    {
     "data": {
      "application/vnd.jupyter.widget-view+json": {
       "model_id": "f887879e4ffb400d9ec5a80b6de2b436",
       "version_major": 2,
       "version_minor": 0
      },
      "text/plain": [
       "Training: 0it [00:00, ?it/s]"
      ]
     },
     "metadata": {},
     "output_type": "display_data"
    },
    {
     "data": {
      "application/vnd.jupyter.widget-view+json": {
       "model_id": "2f31c76534784deb9d34e0f807e30401",
       "version_major": 2,
       "version_minor": 0
      },
      "text/plain": [
       "Predicting: 10it [00:00, ?it/s]"
      ]
     },
     "metadata": {},
     "output_type": "display_data"
    },
    {
     "name": "stderr",
     "output_type": "stream",
     "text": [
      "[2022-10-02 11:15:11,743] INFO | darts.models.forecasting.torch_forecasting_model | Train dataset contains 40 samples.\n",
      "[2022-10-02 11:15:11,743] INFO | darts.models.forecasting.torch_forecasting_model | Train dataset contains 40 samples.\n",
      "2022-10-02 11:15:11 darts.models.forecasting.torch_forecasting_model INFO: Train dataset contains 40 samples.\n",
      "2022-10-02 11:15:11 pytorch_lightning.utilities.distributed INFO: GPU available: False, used: False\n",
      "2022-10-02 11:15:11 pytorch_lightning.utilities.distributed INFO: TPU available: False, using: 0 TPU cores\n",
      "2022-10-02 11:15:11 pytorch_lightning.utilities.distributed INFO: IPU available: False, using: 0 IPUs\n",
      "[2022-10-02 11:15:11,753] WARNING | darts.models.forecasting.torch_forecasting_model | Attempting to retrain the model without resuming from a checkpoint. This is currently discouraged. Consider setting `save_checkpoints` to `True` and specifying `model_name` at model creation. Then call `model = TFTModel.load_from_checkpoint(model_name, best=False)`. Finally, train the model with `model.fit(..., epochs=new_epochs)` where `new_epochs` is the sum of (epochs already trained + some additional epochs).\n",
      "[2022-10-02 11:15:11,753] WARNING | darts.models.forecasting.torch_forecasting_model | Attempting to retrain the model without resuming from a checkpoint. This is currently discouraged. Consider setting `save_checkpoints` to `True` and specifying `model_name` at model creation. Then call `model = TFTModel.load_from_checkpoint(model_name, best=False)`. Finally, train the model with `model.fit(..., epochs=new_epochs)` where `new_epochs` is the sum of (epochs already trained + some additional epochs).\n",
      "2022-10-02 11:15:11 darts.models.forecasting.torch_forecasting_model WARNING: Attempting to retrain the model without resuming from a checkpoint. This is currently discouraged. Consider setting `save_checkpoints` to `True` and specifying `model_name` at model creation. Then call `model = TFTModel.load_from_checkpoint(model_name, best=False)`. Finally, train the model with `model.fit(..., epochs=new_epochs)` where `new_epochs` is the sum of (epochs already trained + some additional epochs).\n"
     ]
    },
    {
     "name": "stdout",
     "output_type": "stream",
     "text": [
      "9\n"
     ]
    },
    {
     "data": {
      "application/vnd.jupyter.widget-view+json": {
       "model_id": "029fd3cc5c354abf9dc2d6496c3fcaa5",
       "version_major": 2,
       "version_minor": 0
      },
      "text/plain": [
       "Training: 0it [00:00, ?it/s]"
      ]
     },
     "metadata": {},
     "output_type": "display_data"
    },
    {
     "data": {
      "application/vnd.jupyter.widget-view+json": {
       "model_id": "646ba0e142dd4265b6b0f9213f29c278",
       "version_major": 2,
       "version_minor": 0
      },
      "text/plain": [
       "Predicting: 10it [00:00, ?it/s]"
      ]
     },
     "metadata": {},
     "output_type": "display_data"
    },
    {
     "name": "stderr",
     "output_type": "stream",
     "text": [
      "[2022-10-02 11:15:12,177] INFO | darts.models.forecasting.torch_forecasting_model | Train dataset contains 41 samples.\n",
      "[2022-10-02 11:15:12,177] INFO | darts.models.forecasting.torch_forecasting_model | Train dataset contains 41 samples.\n",
      "2022-10-02 11:15:12 darts.models.forecasting.torch_forecasting_model INFO: Train dataset contains 41 samples.\n",
      "2022-10-02 11:15:12 pytorch_lightning.utilities.distributed INFO: GPU available: False, used: False\n",
      "2022-10-02 11:15:12 pytorch_lightning.utilities.distributed INFO: TPU available: False, using: 0 TPU cores\n",
      "2022-10-02 11:15:12 pytorch_lightning.utilities.distributed INFO: IPU available: False, using: 0 IPUs\n",
      "[2022-10-02 11:15:12,184] WARNING | darts.models.forecasting.torch_forecasting_model | Attempting to retrain the model without resuming from a checkpoint. This is currently discouraged. Consider setting `save_checkpoints` to `True` and specifying `model_name` at model creation. Then call `model = TFTModel.load_from_checkpoint(model_name, best=False)`. Finally, train the model with `model.fit(..., epochs=new_epochs)` where `new_epochs` is the sum of (epochs already trained + some additional epochs).\n",
      "[2022-10-02 11:15:12,184] WARNING | darts.models.forecasting.torch_forecasting_model | Attempting to retrain the model without resuming from a checkpoint. This is currently discouraged. Consider setting `save_checkpoints` to `True` and specifying `model_name` at model creation. Then call `model = TFTModel.load_from_checkpoint(model_name, best=False)`. Finally, train the model with `model.fit(..., epochs=new_epochs)` where `new_epochs` is the sum of (epochs already trained + some additional epochs).\n",
      "2022-10-02 11:15:12 darts.models.forecasting.torch_forecasting_model WARNING: Attempting to retrain the model without resuming from a checkpoint. This is currently discouraged. Consider setting `save_checkpoints` to `True` and specifying `model_name` at model creation. Then call `model = TFTModel.load_from_checkpoint(model_name, best=False)`. Finally, train the model with `model.fit(..., epochs=new_epochs)` where `new_epochs` is the sum of (epochs already trained + some additional epochs).\n"
     ]
    },
    {
     "name": "stdout",
     "output_type": "stream",
     "text": [
      "10\n"
     ]
    },
    {
     "data": {
      "application/vnd.jupyter.widget-view+json": {
       "model_id": "1c0f0707aa814ac6a4bab9f9147bbdd5",
       "version_major": 2,
       "version_minor": 0
      },
      "text/plain": [
       "Training: 0it [00:00, ?it/s]"
      ]
     },
     "metadata": {},
     "output_type": "display_data"
    },
    {
     "data": {
      "application/vnd.jupyter.widget-view+json": {
       "model_id": "ab825b11c4b64a4fbeba32550dc13801",
       "version_major": 2,
       "version_minor": 0
      },
      "text/plain": [
       "Predicting: 11it [00:00, ?it/s]"
      ]
     },
     "metadata": {},
     "output_type": "display_data"
    },
    {
     "name": "stderr",
     "output_type": "stream",
     "text": [
      "[2022-10-02 11:15:12,616] INFO | darts.models.forecasting.torch_forecasting_model | Train dataset contains 42 samples.\n",
      "[2022-10-02 11:15:12,616] INFO | darts.models.forecasting.torch_forecasting_model | Train dataset contains 42 samples.\n",
      "2022-10-02 11:15:12 darts.models.forecasting.torch_forecasting_model INFO: Train dataset contains 42 samples.\n",
      "2022-10-02 11:15:12 pytorch_lightning.utilities.distributed INFO: GPU available: False, used: False\n",
      "2022-10-02 11:15:12 pytorch_lightning.utilities.distributed INFO: TPU available: False, using: 0 TPU cores\n",
      "2022-10-02 11:15:12 pytorch_lightning.utilities.distributed INFO: IPU available: False, using: 0 IPUs\n",
      "[2022-10-02 11:15:12,624] WARNING | darts.models.forecasting.torch_forecasting_model | Attempting to retrain the model without resuming from a checkpoint. This is currently discouraged. Consider setting `save_checkpoints` to `True` and specifying `model_name` at model creation. Then call `model = TFTModel.load_from_checkpoint(model_name, best=False)`. Finally, train the model with `model.fit(..., epochs=new_epochs)` where `new_epochs` is the sum of (epochs already trained + some additional epochs).\n",
      "[2022-10-02 11:15:12,624] WARNING | darts.models.forecasting.torch_forecasting_model | Attempting to retrain the model without resuming from a checkpoint. This is currently discouraged. Consider setting `save_checkpoints` to `True` and specifying `model_name` at model creation. Then call `model = TFTModel.load_from_checkpoint(model_name, best=False)`. Finally, train the model with `model.fit(..., epochs=new_epochs)` where `new_epochs` is the sum of (epochs already trained + some additional epochs).\n",
      "2022-10-02 11:15:12 darts.models.forecasting.torch_forecasting_model WARNING: Attempting to retrain the model without resuming from a checkpoint. This is currently discouraged. Consider setting `save_checkpoints` to `True` and specifying `model_name` at model creation. Then call `model = TFTModel.load_from_checkpoint(model_name, best=False)`. Finally, train the model with `model.fit(..., epochs=new_epochs)` where `new_epochs` is the sum of (epochs already trained + some additional epochs).\n"
     ]
    },
    {
     "name": "stdout",
     "output_type": "stream",
     "text": [
      "11\n"
     ]
    },
    {
     "data": {
      "application/vnd.jupyter.widget-view+json": {
       "model_id": "09ab8f1a853b42f59d230f30dfb276ac",
       "version_major": 2,
       "version_minor": 0
      },
      "text/plain": [
       "Training: 0it [00:00, ?it/s]"
      ]
     },
     "metadata": {},
     "output_type": "display_data"
    },
    {
     "data": {
      "application/vnd.jupyter.widget-view+json": {
       "model_id": "f99ea85b6bc74585a7e9cad0b234ca63",
       "version_major": 2,
       "version_minor": 0
      },
      "text/plain": [
       "Predicting: 11it [00:00, ?it/s]"
      ]
     },
     "metadata": {},
     "output_type": "display_data"
    },
    {
     "name": "stderr",
     "output_type": "stream",
     "text": [
      "[2022-10-02 11:15:13,065] INFO | darts.models.forecasting.torch_forecasting_model | Train dataset contains 43 samples.\n",
      "[2022-10-02 11:15:13,065] INFO | darts.models.forecasting.torch_forecasting_model | Train dataset contains 43 samples.\n",
      "2022-10-02 11:15:13 darts.models.forecasting.torch_forecasting_model INFO: Train dataset contains 43 samples.\n",
      "2022-10-02 11:15:13 pytorch_lightning.utilities.distributed INFO: GPU available: False, used: False\n",
      "2022-10-02 11:15:13 pytorch_lightning.utilities.distributed INFO: TPU available: False, using: 0 TPU cores\n",
      "2022-10-02 11:15:13 pytorch_lightning.utilities.distributed INFO: IPU available: False, using: 0 IPUs\n",
      "[2022-10-02 11:15:13,073] WARNING | darts.models.forecasting.torch_forecasting_model | Attempting to retrain the model without resuming from a checkpoint. This is currently discouraged. Consider setting `save_checkpoints` to `True` and specifying `model_name` at model creation. Then call `model = TFTModel.load_from_checkpoint(model_name, best=False)`. Finally, train the model with `model.fit(..., epochs=new_epochs)` where `new_epochs` is the sum of (epochs already trained + some additional epochs).\n",
      "[2022-10-02 11:15:13,073] WARNING | darts.models.forecasting.torch_forecasting_model | Attempting to retrain the model without resuming from a checkpoint. This is currently discouraged. Consider setting `save_checkpoints` to `True` and specifying `model_name` at model creation. Then call `model = TFTModel.load_from_checkpoint(model_name, best=False)`. Finally, train the model with `model.fit(..., epochs=new_epochs)` where `new_epochs` is the sum of (epochs already trained + some additional epochs).\n",
      "2022-10-02 11:15:13 darts.models.forecasting.torch_forecasting_model WARNING: Attempting to retrain the model without resuming from a checkpoint. This is currently discouraged. Consider setting `save_checkpoints` to `True` and specifying `model_name` at model creation. Then call `model = TFTModel.load_from_checkpoint(model_name, best=False)`. Finally, train the model with `model.fit(..., epochs=new_epochs)` where `new_epochs` is the sum of (epochs already trained + some additional epochs).\n"
     ]
    },
    {
     "name": "stdout",
     "output_type": "stream",
     "text": [
      "12\n"
     ]
    },
    {
     "data": {
      "application/vnd.jupyter.widget-view+json": {
       "model_id": "2b4e95fdcb80439ab2ab3a34e3f72f0a",
       "version_major": 2,
       "version_minor": 0
      },
      "text/plain": [
       "Training: 0it [00:00, ?it/s]"
      ]
     },
     "metadata": {},
     "output_type": "display_data"
    },
    {
     "data": {
      "application/vnd.jupyter.widget-view+json": {
       "model_id": "1770a3f6718a44cfaf0681d823bc551b",
       "version_major": 2,
       "version_minor": 0
      },
      "text/plain": [
       "Predicting: 11it [00:00, ?it/s]"
      ]
     },
     "metadata": {},
     "output_type": "display_data"
    },
    {
     "name": "stderr",
     "output_type": "stream",
     "text": [
      "[2022-10-02 11:15:13,519] INFO | darts.models.forecasting.torch_forecasting_model | Train dataset contains 44 samples.\n",
      "[2022-10-02 11:15:13,519] INFO | darts.models.forecasting.torch_forecasting_model | Train dataset contains 44 samples.\n",
      "2022-10-02 11:15:13 darts.models.forecasting.torch_forecasting_model INFO: Train dataset contains 44 samples.\n",
      "2022-10-02 11:15:13 pytorch_lightning.utilities.distributed INFO: GPU available: False, used: False\n",
      "2022-10-02 11:15:13 pytorch_lightning.utilities.distributed INFO: TPU available: False, using: 0 TPU cores\n",
      "2022-10-02 11:15:13 pytorch_lightning.utilities.distributed INFO: IPU available: False, using: 0 IPUs\n",
      "[2022-10-02 11:15:13,526] WARNING | darts.models.forecasting.torch_forecasting_model | Attempting to retrain the model without resuming from a checkpoint. This is currently discouraged. Consider setting `save_checkpoints` to `True` and specifying `model_name` at model creation. Then call `model = TFTModel.load_from_checkpoint(model_name, best=False)`. Finally, train the model with `model.fit(..., epochs=new_epochs)` where `new_epochs` is the sum of (epochs already trained + some additional epochs).\n",
      "[2022-10-02 11:15:13,526] WARNING | darts.models.forecasting.torch_forecasting_model | Attempting to retrain the model without resuming from a checkpoint. This is currently discouraged. Consider setting `save_checkpoints` to `True` and specifying `model_name` at model creation. Then call `model = TFTModel.load_from_checkpoint(model_name, best=False)`. Finally, train the model with `model.fit(..., epochs=new_epochs)` where `new_epochs` is the sum of (epochs already trained + some additional epochs).\n",
      "2022-10-02 11:15:13 darts.models.forecasting.torch_forecasting_model WARNING: Attempting to retrain the model without resuming from a checkpoint. This is currently discouraged. Consider setting `save_checkpoints` to `True` and specifying `model_name` at model creation. Then call `model = TFTModel.load_from_checkpoint(model_name, best=False)`. Finally, train the model with `model.fit(..., epochs=new_epochs)` where `new_epochs` is the sum of (epochs already trained + some additional epochs).\n"
     ]
    },
    {
     "name": "stdout",
     "output_type": "stream",
     "text": [
      "13\n"
     ]
    },
    {
     "data": {
      "application/vnd.jupyter.widget-view+json": {
       "model_id": "25b30a6f8e974e9ba7f20f12a6bf0534",
       "version_major": 2,
       "version_minor": 0
      },
      "text/plain": [
       "Training: 0it [00:00, ?it/s]"
      ]
     },
     "metadata": {},
     "output_type": "display_data"
    },
    {
     "data": {
      "application/vnd.jupyter.widget-view+json": {
       "model_id": "5909011a075343bd92ab04e931cb4516",
       "version_major": 2,
       "version_minor": 0
      },
      "text/plain": [
       "Predicting: 11it [00:00, ?it/s]"
      ]
     },
     "metadata": {},
     "output_type": "display_data"
    },
    {
     "name": "stderr",
     "output_type": "stream",
     "text": [
      "[2022-10-02 11:15:13,942] INFO | darts.models.forecasting.torch_forecasting_model | Train dataset contains 45 samples.\n",
      "[2022-10-02 11:15:13,942] INFO | darts.models.forecasting.torch_forecasting_model | Train dataset contains 45 samples.\n",
      "2022-10-02 11:15:13 darts.models.forecasting.torch_forecasting_model INFO: Train dataset contains 45 samples.\n",
      "2022-10-02 11:15:13 pytorch_lightning.utilities.distributed INFO: GPU available: False, used: False\n",
      "2022-10-02 11:15:13 pytorch_lightning.utilities.distributed INFO: TPU available: False, using: 0 TPU cores\n",
      "2022-10-02 11:15:13 pytorch_lightning.utilities.distributed INFO: IPU available: False, using: 0 IPUs\n",
      "[2022-10-02 11:15:13,949] WARNING | darts.models.forecasting.torch_forecasting_model | Attempting to retrain the model without resuming from a checkpoint. This is currently discouraged. Consider setting `save_checkpoints` to `True` and specifying `model_name` at model creation. Then call `model = TFTModel.load_from_checkpoint(model_name, best=False)`. Finally, train the model with `model.fit(..., epochs=new_epochs)` where `new_epochs` is the sum of (epochs already trained + some additional epochs).\n",
      "[2022-10-02 11:15:13,949] WARNING | darts.models.forecasting.torch_forecasting_model | Attempting to retrain the model without resuming from a checkpoint. This is currently discouraged. Consider setting `save_checkpoints` to `True` and specifying `model_name` at model creation. Then call `model = TFTModel.load_from_checkpoint(model_name, best=False)`. Finally, train the model with `model.fit(..., epochs=new_epochs)` where `new_epochs` is the sum of (epochs already trained + some additional epochs).\n",
      "2022-10-02 11:15:13 darts.models.forecasting.torch_forecasting_model WARNING: Attempting to retrain the model without resuming from a checkpoint. This is currently discouraged. Consider setting `save_checkpoints` to `True` and specifying `model_name` at model creation. Then call `model = TFTModel.load_from_checkpoint(model_name, best=False)`. Finally, train the model with `model.fit(..., epochs=new_epochs)` where `new_epochs` is the sum of (epochs already trained + some additional epochs).\n"
     ]
    },
    {
     "name": "stdout",
     "output_type": "stream",
     "text": [
      "14\n"
     ]
    },
    {
     "data": {
      "application/vnd.jupyter.widget-view+json": {
       "model_id": "84e17b45fcf84b77b76f390f26c4d189",
       "version_major": 2,
       "version_minor": 0
      },
      "text/plain": [
       "Training: 0it [00:00, ?it/s]"
      ]
     },
     "metadata": {},
     "output_type": "display_data"
    },
    {
     "data": {
      "application/vnd.jupyter.widget-view+json": {
       "model_id": "b3361545c8344cf88d6c2774b882bd41",
       "version_major": 2,
       "version_minor": 0
      },
      "text/plain": [
       "Predicting: 12it [00:00, ?it/s]"
      ]
     },
     "metadata": {},
     "output_type": "display_data"
    },
    {
     "name": "stderr",
     "output_type": "stream",
     "text": [
      "[2022-10-02 11:15:14,392] INFO | darts.models.forecasting.torch_forecasting_model | Train dataset contains 46 samples.\n",
      "[2022-10-02 11:15:14,392] INFO | darts.models.forecasting.torch_forecasting_model | Train dataset contains 46 samples.\n",
      "2022-10-02 11:15:14 darts.models.forecasting.torch_forecasting_model INFO: Train dataset contains 46 samples.\n",
      "2022-10-02 11:15:14 pytorch_lightning.utilities.distributed INFO: GPU available: False, used: False\n",
      "2022-10-02 11:15:14 pytorch_lightning.utilities.distributed INFO: TPU available: False, using: 0 TPU cores\n",
      "2022-10-02 11:15:14 pytorch_lightning.utilities.distributed INFO: IPU available: False, using: 0 IPUs\n",
      "[2022-10-02 11:15:14,399] WARNING | darts.models.forecasting.torch_forecasting_model | Attempting to retrain the model without resuming from a checkpoint. This is currently discouraged. Consider setting `save_checkpoints` to `True` and specifying `model_name` at model creation. Then call `model = TFTModel.load_from_checkpoint(model_name, best=False)`. Finally, train the model with `model.fit(..., epochs=new_epochs)` where `new_epochs` is the sum of (epochs already trained + some additional epochs).\n",
      "[2022-10-02 11:15:14,399] WARNING | darts.models.forecasting.torch_forecasting_model | Attempting to retrain the model without resuming from a checkpoint. This is currently discouraged. Consider setting `save_checkpoints` to `True` and specifying `model_name` at model creation. Then call `model = TFTModel.load_from_checkpoint(model_name, best=False)`. Finally, train the model with `model.fit(..., epochs=new_epochs)` where `new_epochs` is the sum of (epochs already trained + some additional epochs).\n",
      "2022-10-02 11:15:14 darts.models.forecasting.torch_forecasting_model WARNING: Attempting to retrain the model without resuming from a checkpoint. This is currently discouraged. Consider setting `save_checkpoints` to `True` and specifying `model_name` at model creation. Then call `model = TFTModel.load_from_checkpoint(model_name, best=False)`. Finally, train the model with `model.fit(..., epochs=new_epochs)` where `new_epochs` is the sum of (epochs already trained + some additional epochs).\n"
     ]
    },
    {
     "name": "stdout",
     "output_type": "stream",
     "text": [
      "15\n"
     ]
    },
    {
     "data": {
      "application/vnd.jupyter.widget-view+json": {
       "model_id": "d2286efd8d8a4d0caf027ced5622a40c",
       "version_major": 2,
       "version_minor": 0
      },
      "text/plain": [
       "Training: 0it [00:00, ?it/s]"
      ]
     },
     "metadata": {},
     "output_type": "display_data"
    },
    {
     "data": {
      "application/vnd.jupyter.widget-view+json": {
       "model_id": "9f26c322f2354d1c8d1fc12b5f9b8cd0",
       "version_major": 2,
       "version_minor": 0
      },
      "text/plain": [
       "Predicting: 12it [00:00, ?it/s]"
      ]
     },
     "metadata": {},
     "output_type": "display_data"
    },
    {
     "name": "stderr",
     "output_type": "stream",
     "text": [
      "[2022-10-02 11:15:14,856] INFO | darts.models.forecasting.torch_forecasting_model | Train dataset contains 47 samples.\n",
      "[2022-10-02 11:15:14,856] INFO | darts.models.forecasting.torch_forecasting_model | Train dataset contains 47 samples.\n",
      "2022-10-02 11:15:14 darts.models.forecasting.torch_forecasting_model INFO: Train dataset contains 47 samples.\n",
      "2022-10-02 11:15:14 pytorch_lightning.utilities.distributed INFO: GPU available: False, used: False\n",
      "2022-10-02 11:15:14 pytorch_lightning.utilities.distributed INFO: TPU available: False, using: 0 TPU cores\n",
      "2022-10-02 11:15:14 pytorch_lightning.utilities.distributed INFO: IPU available: False, using: 0 IPUs\n",
      "[2022-10-02 11:15:14,862] WARNING | darts.models.forecasting.torch_forecasting_model | Attempting to retrain the model without resuming from a checkpoint. This is currently discouraged. Consider setting `save_checkpoints` to `True` and specifying `model_name` at model creation. Then call `model = TFTModel.load_from_checkpoint(model_name, best=False)`. Finally, train the model with `model.fit(..., epochs=new_epochs)` where `new_epochs` is the sum of (epochs already trained + some additional epochs).\n",
      "[2022-10-02 11:15:14,862] WARNING | darts.models.forecasting.torch_forecasting_model | Attempting to retrain the model without resuming from a checkpoint. This is currently discouraged. Consider setting `save_checkpoints` to `True` and specifying `model_name` at model creation. Then call `model = TFTModel.load_from_checkpoint(model_name, best=False)`. Finally, train the model with `model.fit(..., epochs=new_epochs)` where `new_epochs` is the sum of (epochs already trained + some additional epochs).\n",
      "2022-10-02 11:15:14 darts.models.forecasting.torch_forecasting_model WARNING: Attempting to retrain the model without resuming from a checkpoint. This is currently discouraged. Consider setting `save_checkpoints` to `True` and specifying `model_name` at model creation. Then call `model = TFTModel.load_from_checkpoint(model_name, best=False)`. Finally, train the model with `model.fit(..., epochs=new_epochs)` where `new_epochs` is the sum of (epochs already trained + some additional epochs).\n"
     ]
    },
    {
     "name": "stdout",
     "output_type": "stream",
     "text": [
      "16\n"
     ]
    },
    {
     "data": {
      "application/vnd.jupyter.widget-view+json": {
       "model_id": "609949613bdc4801b6b58d798a3330cc",
       "version_major": 2,
       "version_minor": 0
      },
      "text/plain": [
       "Training: 0it [00:00, ?it/s]"
      ]
     },
     "metadata": {},
     "output_type": "display_data"
    },
    {
     "data": {
      "application/vnd.jupyter.widget-view+json": {
       "model_id": "7a3fd140d55248e0ae3a97a167eb6c28",
       "version_major": 2,
       "version_minor": 0
      },
      "text/plain": [
       "Predicting: 12it [00:00, ?it/s]"
      ]
     },
     "metadata": {},
     "output_type": "display_data"
    },
    {
     "name": "stderr",
     "output_type": "stream",
     "text": [
      "[2022-10-02 11:15:15,318] INFO | darts.models.forecasting.torch_forecasting_model | Train dataset contains 48 samples.\n",
      "[2022-10-02 11:15:15,318] INFO | darts.models.forecasting.torch_forecasting_model | Train dataset contains 48 samples.\n",
      "2022-10-02 11:15:15 darts.models.forecasting.torch_forecasting_model INFO: Train dataset contains 48 samples.\n",
      "2022-10-02 11:15:15 pytorch_lightning.utilities.distributed INFO: GPU available: False, used: False\n",
      "2022-10-02 11:15:15 pytorch_lightning.utilities.distributed INFO: TPU available: False, using: 0 TPU cores\n",
      "2022-10-02 11:15:15 pytorch_lightning.utilities.distributed INFO: IPU available: False, using: 0 IPUs\n",
      "[2022-10-02 11:15:15,325] WARNING | darts.models.forecasting.torch_forecasting_model | Attempting to retrain the model without resuming from a checkpoint. This is currently discouraged. Consider setting `save_checkpoints` to `True` and specifying `model_name` at model creation. Then call `model = TFTModel.load_from_checkpoint(model_name, best=False)`. Finally, train the model with `model.fit(..., epochs=new_epochs)` where `new_epochs` is the sum of (epochs already trained + some additional epochs).\n",
      "[2022-10-02 11:15:15,325] WARNING | darts.models.forecasting.torch_forecasting_model | Attempting to retrain the model without resuming from a checkpoint. This is currently discouraged. Consider setting `save_checkpoints` to `True` and specifying `model_name` at model creation. Then call `model = TFTModel.load_from_checkpoint(model_name, best=False)`. Finally, train the model with `model.fit(..., epochs=new_epochs)` where `new_epochs` is the sum of (epochs already trained + some additional epochs).\n",
      "2022-10-02 11:15:15 darts.models.forecasting.torch_forecasting_model WARNING: Attempting to retrain the model without resuming from a checkpoint. This is currently discouraged. Consider setting `save_checkpoints` to `True` and specifying `model_name` at model creation. Then call `model = TFTModel.load_from_checkpoint(model_name, best=False)`. Finally, train the model with `model.fit(..., epochs=new_epochs)` where `new_epochs` is the sum of (epochs already trained + some additional epochs).\n"
     ]
    },
    {
     "name": "stdout",
     "output_type": "stream",
     "text": [
      "17\n"
     ]
    },
    {
     "data": {
      "application/vnd.jupyter.widget-view+json": {
       "model_id": "f97bf0c58e0e4c7697af2687ff75e8bf",
       "version_major": 2,
       "version_minor": 0
      },
      "text/plain": [
       "Training: 0it [00:00, ?it/s]"
      ]
     },
     "metadata": {},
     "output_type": "display_data"
    },
    {
     "data": {
      "application/vnd.jupyter.widget-view+json": {
       "model_id": "116e2302b2e743b7b407f78c2f970a37",
       "version_major": 2,
       "version_minor": 0
      },
      "text/plain": [
       "Predicting: 12it [00:00, ?it/s]"
      ]
     },
     "metadata": {},
     "output_type": "display_data"
    },
    {
     "name": "stderr",
     "output_type": "stream",
     "text": [
      "[2022-10-02 11:15:15,813] INFO | darts.models.forecasting.torch_forecasting_model | Train dataset contains 49 samples.\n",
      "[2022-10-02 11:15:15,813] INFO | darts.models.forecasting.torch_forecasting_model | Train dataset contains 49 samples.\n",
      "2022-10-02 11:15:15 darts.models.forecasting.torch_forecasting_model INFO: Train dataset contains 49 samples.\n",
      "2022-10-02 11:15:15 pytorch_lightning.utilities.distributed INFO: GPU available: False, used: False\n",
      "2022-10-02 11:15:15 pytorch_lightning.utilities.distributed INFO: TPU available: False, using: 0 TPU cores\n",
      "2022-10-02 11:15:15 pytorch_lightning.utilities.distributed INFO: IPU available: False, using: 0 IPUs\n",
      "[2022-10-02 11:15:15,820] WARNING | darts.models.forecasting.torch_forecasting_model | Attempting to retrain the model without resuming from a checkpoint. This is currently discouraged. Consider setting `save_checkpoints` to `True` and specifying `model_name` at model creation. Then call `model = TFTModel.load_from_checkpoint(model_name, best=False)`. Finally, train the model with `model.fit(..., epochs=new_epochs)` where `new_epochs` is the sum of (epochs already trained + some additional epochs).\n",
      "[2022-10-02 11:15:15,820] WARNING | darts.models.forecasting.torch_forecasting_model | Attempting to retrain the model without resuming from a checkpoint. This is currently discouraged. Consider setting `save_checkpoints` to `True` and specifying `model_name` at model creation. Then call `model = TFTModel.load_from_checkpoint(model_name, best=False)`. Finally, train the model with `model.fit(..., epochs=new_epochs)` where `new_epochs` is the sum of (epochs already trained + some additional epochs).\n",
      "2022-10-02 11:15:15 darts.models.forecasting.torch_forecasting_model WARNING: Attempting to retrain the model without resuming from a checkpoint. This is currently discouraged. Consider setting `save_checkpoints` to `True` and specifying `model_name` at model creation. Then call `model = TFTModel.load_from_checkpoint(model_name, best=False)`. Finally, train the model with `model.fit(..., epochs=new_epochs)` where `new_epochs` is the sum of (epochs already trained + some additional epochs).\n"
     ]
    },
    {
     "name": "stdout",
     "output_type": "stream",
     "text": [
      "18\n"
     ]
    },
    {
     "data": {
      "application/vnd.jupyter.widget-view+json": {
       "model_id": "f023e22801944397a6bea8fa80421231",
       "version_major": 2,
       "version_minor": 0
      },
      "text/plain": [
       "Training: 0it [00:00, ?it/s]"
      ]
     },
     "metadata": {},
     "output_type": "display_data"
    },
    {
     "data": {
      "application/vnd.jupyter.widget-view+json": {
       "model_id": "b9db274bfc1045a7b5b8ccf092a43194",
       "version_major": 2,
       "version_minor": 0
      },
      "text/plain": [
       "Predicting: 13it [00:00, ?it/s]"
      ]
     },
     "metadata": {},
     "output_type": "display_data"
    },
    {
     "name": "stderr",
     "output_type": "stream",
     "text": [
      "[2022-10-02 11:15:16,321] INFO | darts.models.forecasting.torch_forecasting_model | Train dataset contains 50 samples.\n",
      "[2022-10-02 11:15:16,321] INFO | darts.models.forecasting.torch_forecasting_model | Train dataset contains 50 samples.\n",
      "2022-10-02 11:15:16 darts.models.forecasting.torch_forecasting_model INFO: Train dataset contains 50 samples.\n",
      "2022-10-02 11:15:16 pytorch_lightning.utilities.distributed INFO: GPU available: False, used: False\n",
      "2022-10-02 11:15:16 pytorch_lightning.utilities.distributed INFO: TPU available: False, using: 0 TPU cores\n",
      "2022-10-02 11:15:16 pytorch_lightning.utilities.distributed INFO: IPU available: False, using: 0 IPUs\n",
      "[2022-10-02 11:15:16,327] WARNING | darts.models.forecasting.torch_forecasting_model | Attempting to retrain the model without resuming from a checkpoint. This is currently discouraged. Consider setting `save_checkpoints` to `True` and specifying `model_name` at model creation. Then call `model = TFTModel.load_from_checkpoint(model_name, best=False)`. Finally, train the model with `model.fit(..., epochs=new_epochs)` where `new_epochs` is the sum of (epochs already trained + some additional epochs).\n",
      "[2022-10-02 11:15:16,327] WARNING | darts.models.forecasting.torch_forecasting_model | Attempting to retrain the model without resuming from a checkpoint. This is currently discouraged. Consider setting `save_checkpoints` to `True` and specifying `model_name` at model creation. Then call `model = TFTModel.load_from_checkpoint(model_name, best=False)`. Finally, train the model with `model.fit(..., epochs=new_epochs)` where `new_epochs` is the sum of (epochs already trained + some additional epochs).\n",
      "2022-10-02 11:15:16 darts.models.forecasting.torch_forecasting_model WARNING: Attempting to retrain the model without resuming from a checkpoint. This is currently discouraged. Consider setting `save_checkpoints` to `True` and specifying `model_name` at model creation. Then call `model = TFTModel.load_from_checkpoint(model_name, best=False)`. Finally, train the model with `model.fit(..., epochs=new_epochs)` where `new_epochs` is the sum of (epochs already trained + some additional epochs).\n"
     ]
    },
    {
     "name": "stdout",
     "output_type": "stream",
     "text": [
      "19\n"
     ]
    },
    {
     "data": {
      "application/vnd.jupyter.widget-view+json": {
       "model_id": "c23c21961beb41d5985aa91bc557844d",
       "version_major": 2,
       "version_minor": 0
      },
      "text/plain": [
       "Training: 0it [00:00, ?it/s]"
      ]
     },
     "metadata": {},
     "output_type": "display_data"
    },
    {
     "data": {
      "application/vnd.jupyter.widget-view+json": {
       "model_id": "4c1d2ca7c5aa46fdad762df1156b8ff3",
       "version_major": 2,
       "version_minor": 0
      },
      "text/plain": [
       "Predicting: 13it [00:00, ?it/s]"
      ]
     },
     "metadata": {},
     "output_type": "display_data"
    },
    {
     "name": "stderr",
     "output_type": "stream",
     "text": [
      "[2022-10-02 11:15:16,804] INFO | darts.models.forecasting.torch_forecasting_model | Train dataset contains 51 samples.\n",
      "[2022-10-02 11:15:16,804] INFO | darts.models.forecasting.torch_forecasting_model | Train dataset contains 51 samples.\n",
      "2022-10-02 11:15:16 darts.models.forecasting.torch_forecasting_model INFO: Train dataset contains 51 samples.\n",
      "2022-10-02 11:15:16 pytorch_lightning.utilities.distributed INFO: GPU available: False, used: False\n",
      "2022-10-02 11:15:16 pytorch_lightning.utilities.distributed INFO: TPU available: False, using: 0 TPU cores\n",
      "2022-10-02 11:15:16 pytorch_lightning.utilities.distributed INFO: IPU available: False, using: 0 IPUs\n",
      "[2022-10-02 11:15:16,812] WARNING | darts.models.forecasting.torch_forecasting_model | Attempting to retrain the model without resuming from a checkpoint. This is currently discouraged. Consider setting `save_checkpoints` to `True` and specifying `model_name` at model creation. Then call `model = TFTModel.load_from_checkpoint(model_name, best=False)`. Finally, train the model with `model.fit(..., epochs=new_epochs)` where `new_epochs` is the sum of (epochs already trained + some additional epochs).\n",
      "[2022-10-02 11:15:16,812] WARNING | darts.models.forecasting.torch_forecasting_model | Attempting to retrain the model without resuming from a checkpoint. This is currently discouraged. Consider setting `save_checkpoints` to `True` and specifying `model_name` at model creation. Then call `model = TFTModel.load_from_checkpoint(model_name, best=False)`. Finally, train the model with `model.fit(..., epochs=new_epochs)` where `new_epochs` is the sum of (epochs already trained + some additional epochs).\n",
      "2022-10-02 11:15:16 darts.models.forecasting.torch_forecasting_model WARNING: Attempting to retrain the model without resuming from a checkpoint. This is currently discouraged. Consider setting `save_checkpoints` to `True` and specifying `model_name` at model creation. Then call `model = TFTModel.load_from_checkpoint(model_name, best=False)`. Finally, train the model with `model.fit(..., epochs=new_epochs)` where `new_epochs` is the sum of (epochs already trained + some additional epochs).\n"
     ]
    },
    {
     "name": "stdout",
     "output_type": "stream",
     "text": [
      "20\n"
     ]
    },
    {
     "data": {
      "application/vnd.jupyter.widget-view+json": {
       "model_id": "26b1910a261b4c5a8771d3d6613b21fb",
       "version_major": 2,
       "version_minor": 0
      },
      "text/plain": [
       "Training: 0it [00:00, ?it/s]"
      ]
     },
     "metadata": {},
     "output_type": "display_data"
    },
    {
     "data": {
      "application/vnd.jupyter.widget-view+json": {
       "model_id": "0029d212414c46119344fc3f614b88ff",
       "version_major": 2,
       "version_minor": 0
      },
      "text/plain": [
       "Predicting: 13it [00:00, ?it/s]"
      ]
     },
     "metadata": {},
     "output_type": "display_data"
    },
    {
     "name": "stderr",
     "output_type": "stream",
     "text": [
      "[2022-10-02 11:15:17,340] INFO | darts.models.forecasting.torch_forecasting_model | Train dataset contains 52 samples.\n",
      "[2022-10-02 11:15:17,340] INFO | darts.models.forecasting.torch_forecasting_model | Train dataset contains 52 samples.\n",
      "2022-10-02 11:15:17 darts.models.forecasting.torch_forecasting_model INFO: Train dataset contains 52 samples.\n",
      "2022-10-02 11:15:17 pytorch_lightning.utilities.distributed INFO: GPU available: False, used: False\n",
      "2022-10-02 11:15:17 pytorch_lightning.utilities.distributed INFO: TPU available: False, using: 0 TPU cores\n",
      "2022-10-02 11:15:17 pytorch_lightning.utilities.distributed INFO: IPU available: False, using: 0 IPUs\n",
      "[2022-10-02 11:15:17,347] WARNING | darts.models.forecasting.torch_forecasting_model | Attempting to retrain the model without resuming from a checkpoint. This is currently discouraged. Consider setting `save_checkpoints` to `True` and specifying `model_name` at model creation. Then call `model = TFTModel.load_from_checkpoint(model_name, best=False)`. Finally, train the model with `model.fit(..., epochs=new_epochs)` where `new_epochs` is the sum of (epochs already trained + some additional epochs).\n",
      "[2022-10-02 11:15:17,347] WARNING | darts.models.forecasting.torch_forecasting_model | Attempting to retrain the model without resuming from a checkpoint. This is currently discouraged. Consider setting `save_checkpoints` to `True` and specifying `model_name` at model creation. Then call `model = TFTModel.load_from_checkpoint(model_name, best=False)`. Finally, train the model with `model.fit(..., epochs=new_epochs)` where `new_epochs` is the sum of (epochs already trained + some additional epochs).\n",
      "2022-10-02 11:15:17 darts.models.forecasting.torch_forecasting_model WARNING: Attempting to retrain the model without resuming from a checkpoint. This is currently discouraged. Consider setting `save_checkpoints` to `True` and specifying `model_name` at model creation. Then call `model = TFTModel.load_from_checkpoint(model_name, best=False)`. Finally, train the model with `model.fit(..., epochs=new_epochs)` where `new_epochs` is the sum of (epochs already trained + some additional epochs).\n"
     ]
    },
    {
     "name": "stdout",
     "output_type": "stream",
     "text": [
      "21\n"
     ]
    },
    {
     "data": {
      "application/vnd.jupyter.widget-view+json": {
       "model_id": "0776a5ee3ea04fef8ff2200c165b118e",
       "version_major": 2,
       "version_minor": 0
      },
      "text/plain": [
       "Training: 0it [00:00, ?it/s]"
      ]
     },
     "metadata": {},
     "output_type": "display_data"
    },
    {
     "data": {
      "application/vnd.jupyter.widget-view+json": {
       "model_id": "14242b17ddf5466fb067614d4c4af4ec",
       "version_major": 2,
       "version_minor": 0
      },
      "text/plain": [
       "Predicting: 13it [00:00, ?it/s]"
      ]
     },
     "metadata": {},
     "output_type": "display_data"
    },
    {
     "name": "stderr",
     "output_type": "stream",
     "text": [
      "[2022-10-02 11:15:17,873] INFO | darts.models.forecasting.torch_forecasting_model | Train dataset contains 53 samples.\n",
      "[2022-10-02 11:15:17,873] INFO | darts.models.forecasting.torch_forecasting_model | Train dataset contains 53 samples.\n",
      "2022-10-02 11:15:17 darts.models.forecasting.torch_forecasting_model INFO: Train dataset contains 53 samples.\n",
      "2022-10-02 11:15:17 pytorch_lightning.utilities.distributed INFO: GPU available: False, used: False\n",
      "2022-10-02 11:15:17 pytorch_lightning.utilities.distributed INFO: TPU available: False, using: 0 TPU cores\n",
      "2022-10-02 11:15:17 pytorch_lightning.utilities.distributed INFO: IPU available: False, using: 0 IPUs\n",
      "[2022-10-02 11:15:17,880] WARNING | darts.models.forecasting.torch_forecasting_model | Attempting to retrain the model without resuming from a checkpoint. This is currently discouraged. Consider setting `save_checkpoints` to `True` and specifying `model_name` at model creation. Then call `model = TFTModel.load_from_checkpoint(model_name, best=False)`. Finally, train the model with `model.fit(..., epochs=new_epochs)` where `new_epochs` is the sum of (epochs already trained + some additional epochs).\n",
      "[2022-10-02 11:15:17,880] WARNING | darts.models.forecasting.torch_forecasting_model | Attempting to retrain the model without resuming from a checkpoint. This is currently discouraged. Consider setting `save_checkpoints` to `True` and specifying `model_name` at model creation. Then call `model = TFTModel.load_from_checkpoint(model_name, best=False)`. Finally, train the model with `model.fit(..., epochs=new_epochs)` where `new_epochs` is the sum of (epochs already trained + some additional epochs).\n",
      "2022-10-02 11:15:17 darts.models.forecasting.torch_forecasting_model WARNING: Attempting to retrain the model without resuming from a checkpoint. This is currently discouraged. Consider setting `save_checkpoints` to `True` and specifying `model_name` at model creation. Then call `model = TFTModel.load_from_checkpoint(model_name, best=False)`. Finally, train the model with `model.fit(..., epochs=new_epochs)` where `new_epochs` is the sum of (epochs already trained + some additional epochs).\n"
     ]
    },
    {
     "name": "stdout",
     "output_type": "stream",
     "text": [
      "22\n"
     ]
    },
    {
     "data": {
      "application/vnd.jupyter.widget-view+json": {
       "model_id": "0c01849c4cfb48b79c509f9d6a07b888",
       "version_major": 2,
       "version_minor": 0
      },
      "text/plain": [
       "Training: 0it [00:00, ?it/s]"
      ]
     },
     "metadata": {},
     "output_type": "display_data"
    },
    {
     "data": {
      "application/vnd.jupyter.widget-view+json": {
       "model_id": "d888f1ee9c394f87bca051c6597924d4",
       "version_major": 2,
       "version_minor": 0
      },
      "text/plain": [
       "Predicting: 14it [00:00, ?it/s]"
      ]
     },
     "metadata": {},
     "output_type": "display_data"
    },
    {
     "name": "stderr",
     "output_type": "stream",
     "text": [
      "[2022-10-02 11:15:18,392] INFO | darts.models.forecasting.torch_forecasting_model | Train dataset contains 54 samples.\n",
      "[2022-10-02 11:15:18,392] INFO | darts.models.forecasting.torch_forecasting_model | Train dataset contains 54 samples.\n",
      "2022-10-02 11:15:18 darts.models.forecasting.torch_forecasting_model INFO: Train dataset contains 54 samples.\n",
      "2022-10-02 11:15:18 pytorch_lightning.utilities.distributed INFO: GPU available: False, used: False\n",
      "2022-10-02 11:15:18 pytorch_lightning.utilities.distributed INFO: TPU available: False, using: 0 TPU cores\n",
      "2022-10-02 11:15:18 pytorch_lightning.utilities.distributed INFO: IPU available: False, using: 0 IPUs\n",
      "[2022-10-02 11:15:18,399] WARNING | darts.models.forecasting.torch_forecasting_model | Attempting to retrain the model without resuming from a checkpoint. This is currently discouraged. Consider setting `save_checkpoints` to `True` and specifying `model_name` at model creation. Then call `model = TFTModel.load_from_checkpoint(model_name, best=False)`. Finally, train the model with `model.fit(..., epochs=new_epochs)` where `new_epochs` is the sum of (epochs already trained + some additional epochs).\n",
      "[2022-10-02 11:15:18,399] WARNING | darts.models.forecasting.torch_forecasting_model | Attempting to retrain the model without resuming from a checkpoint. This is currently discouraged. Consider setting `save_checkpoints` to `True` and specifying `model_name` at model creation. Then call `model = TFTModel.load_from_checkpoint(model_name, best=False)`. Finally, train the model with `model.fit(..., epochs=new_epochs)` where `new_epochs` is the sum of (epochs already trained + some additional epochs).\n",
      "2022-10-02 11:15:18 darts.models.forecasting.torch_forecasting_model WARNING: Attempting to retrain the model without resuming from a checkpoint. This is currently discouraged. Consider setting `save_checkpoints` to `True` and specifying `model_name` at model creation. Then call `model = TFTModel.load_from_checkpoint(model_name, best=False)`. Finally, train the model with `model.fit(..., epochs=new_epochs)` where `new_epochs` is the sum of (epochs already trained + some additional epochs).\n"
     ]
    },
    {
     "name": "stdout",
     "output_type": "stream",
     "text": [
      "23\n"
     ]
    },
    {
     "data": {
      "application/vnd.jupyter.widget-view+json": {
       "model_id": "9a948cb20ce04195a6b252bcd3242607",
       "version_major": 2,
       "version_minor": 0
      },
      "text/plain": [
       "Training: 0it [00:00, ?it/s]"
      ]
     },
     "metadata": {},
     "output_type": "display_data"
    },
    {
     "data": {
      "application/vnd.jupyter.widget-view+json": {
       "model_id": "c0790e9867dd47c6881362049928fd44",
       "version_major": 2,
       "version_minor": 0
      },
      "text/plain": [
       "Predicting: 14it [00:00, ?it/s]"
      ]
     },
     "metadata": {},
     "output_type": "display_data"
    },
    {
     "name": "stderr",
     "output_type": "stream",
     "text": [
      "[2022-10-02 11:15:18,935] INFO | darts.models.forecasting.torch_forecasting_model | Train dataset contains 55 samples.\n",
      "[2022-10-02 11:15:18,935] INFO | darts.models.forecasting.torch_forecasting_model | Train dataset contains 55 samples.\n",
      "2022-10-02 11:15:18 darts.models.forecasting.torch_forecasting_model INFO: Train dataset contains 55 samples.\n",
      "2022-10-02 11:15:18 pytorch_lightning.utilities.distributed INFO: GPU available: False, used: False\n",
      "2022-10-02 11:15:18 pytorch_lightning.utilities.distributed INFO: TPU available: False, using: 0 TPU cores\n",
      "2022-10-02 11:15:18 pytorch_lightning.utilities.distributed INFO: IPU available: False, using: 0 IPUs\n",
      "[2022-10-02 11:15:18,942] WARNING | darts.models.forecasting.torch_forecasting_model | Attempting to retrain the model without resuming from a checkpoint. This is currently discouraged. Consider setting `save_checkpoints` to `True` and specifying `model_name` at model creation. Then call `model = TFTModel.load_from_checkpoint(model_name, best=False)`. Finally, train the model with `model.fit(..., epochs=new_epochs)` where `new_epochs` is the sum of (epochs already trained + some additional epochs).\n",
      "[2022-10-02 11:15:18,942] WARNING | darts.models.forecasting.torch_forecasting_model | Attempting to retrain the model without resuming from a checkpoint. This is currently discouraged. Consider setting `save_checkpoints` to `True` and specifying `model_name` at model creation. Then call `model = TFTModel.load_from_checkpoint(model_name, best=False)`. Finally, train the model with `model.fit(..., epochs=new_epochs)` where `new_epochs` is the sum of (epochs already trained + some additional epochs).\n",
      "2022-10-02 11:15:18 darts.models.forecasting.torch_forecasting_model WARNING: Attempting to retrain the model without resuming from a checkpoint. This is currently discouraged. Consider setting `save_checkpoints` to `True` and specifying `model_name` at model creation. Then call `model = TFTModel.load_from_checkpoint(model_name, best=False)`. Finally, train the model with `model.fit(..., epochs=new_epochs)` where `new_epochs` is the sum of (epochs already trained + some additional epochs).\n"
     ]
    },
    {
     "name": "stdout",
     "output_type": "stream",
     "text": [
      "24\n"
     ]
    },
    {
     "data": {
      "application/vnd.jupyter.widget-view+json": {
       "model_id": "11ca10fa41ef4966a1784fde6bddc8ca",
       "version_major": 2,
       "version_minor": 0
      },
      "text/plain": [
       "Training: 0it [00:00, ?it/s]"
      ]
     },
     "metadata": {},
     "output_type": "display_data"
    },
    {
     "data": {
      "application/vnd.jupyter.widget-view+json": {
       "model_id": "d2e8c53038a548aa9f573f86340bb6da",
       "version_major": 2,
       "version_minor": 0
      },
      "text/plain": [
       "Predicting: 14it [00:00, ?it/s]"
      ]
     },
     "metadata": {},
     "output_type": "display_data"
    },
    {
     "name": "stderr",
     "output_type": "stream",
     "text": [
      "[2022-10-02 11:15:19,442] INFO | darts.models.forecasting.torch_forecasting_model | Train dataset contains 56 samples.\n",
      "[2022-10-02 11:15:19,442] INFO | darts.models.forecasting.torch_forecasting_model | Train dataset contains 56 samples.\n",
      "2022-10-02 11:15:19 darts.models.forecasting.torch_forecasting_model INFO: Train dataset contains 56 samples.\n",
      "2022-10-02 11:15:19 pytorch_lightning.utilities.distributed INFO: GPU available: False, used: False\n",
      "2022-10-02 11:15:19 pytorch_lightning.utilities.distributed INFO: TPU available: False, using: 0 TPU cores\n",
      "2022-10-02 11:15:19 pytorch_lightning.utilities.distributed INFO: IPU available: False, using: 0 IPUs\n",
      "[2022-10-02 11:15:19,449] WARNING | darts.models.forecasting.torch_forecasting_model | Attempting to retrain the model without resuming from a checkpoint. This is currently discouraged. Consider setting `save_checkpoints` to `True` and specifying `model_name` at model creation. Then call `model = TFTModel.load_from_checkpoint(model_name, best=False)`. Finally, train the model with `model.fit(..., epochs=new_epochs)` where `new_epochs` is the sum of (epochs already trained + some additional epochs).\n",
      "[2022-10-02 11:15:19,449] WARNING | darts.models.forecasting.torch_forecasting_model | Attempting to retrain the model without resuming from a checkpoint. This is currently discouraged. Consider setting `save_checkpoints` to `True` and specifying `model_name` at model creation. Then call `model = TFTModel.load_from_checkpoint(model_name, best=False)`. Finally, train the model with `model.fit(..., epochs=new_epochs)` where `new_epochs` is the sum of (epochs already trained + some additional epochs).\n",
      "2022-10-02 11:15:19 darts.models.forecasting.torch_forecasting_model WARNING: Attempting to retrain the model without resuming from a checkpoint. This is currently discouraged. Consider setting `save_checkpoints` to `True` and specifying `model_name` at model creation. Then call `model = TFTModel.load_from_checkpoint(model_name, best=False)`. Finally, train the model with `model.fit(..., epochs=new_epochs)` where `new_epochs` is the sum of (epochs already trained + some additional epochs).\n"
     ]
    },
    {
     "name": "stdout",
     "output_type": "stream",
     "text": [
      "25\n"
     ]
    },
    {
     "data": {
      "application/vnd.jupyter.widget-view+json": {
       "model_id": "3cceed1d82e54f69acb09c08d3dae043",
       "version_major": 2,
       "version_minor": 0
      },
      "text/plain": [
       "Training: 0it [00:00, ?it/s]"
      ]
     },
     "metadata": {},
     "output_type": "display_data"
    },
    {
     "data": {
      "application/vnd.jupyter.widget-view+json": {
       "model_id": "44680b8d7e19474095733a10c83918de",
       "version_major": 2,
       "version_minor": 0
      },
      "text/plain": [
       "Predicting: 14it [00:00, ?it/s]"
      ]
     },
     "metadata": {},
     "output_type": "display_data"
    },
    {
     "name": "stderr",
     "output_type": "stream",
     "text": [
      "[2022-10-02 11:15:19,956] INFO | darts.models.forecasting.torch_forecasting_model | Train dataset contains 57 samples.\n",
      "[2022-10-02 11:15:19,956] INFO | darts.models.forecasting.torch_forecasting_model | Train dataset contains 57 samples.\n",
      "2022-10-02 11:15:19 darts.models.forecasting.torch_forecasting_model INFO: Train dataset contains 57 samples.\n",
      "2022-10-02 11:15:19 pytorch_lightning.utilities.distributed INFO: GPU available: False, used: False\n",
      "2022-10-02 11:15:19 pytorch_lightning.utilities.distributed INFO: TPU available: False, using: 0 TPU cores\n",
      "2022-10-02 11:15:19 pytorch_lightning.utilities.distributed INFO: IPU available: False, using: 0 IPUs\n",
      "[2022-10-02 11:15:19,967] WARNING | darts.models.forecasting.torch_forecasting_model | Attempting to retrain the model without resuming from a checkpoint. This is currently discouraged. Consider setting `save_checkpoints` to `True` and specifying `model_name` at model creation. Then call `model = TFTModel.load_from_checkpoint(model_name, best=False)`. Finally, train the model with `model.fit(..., epochs=new_epochs)` where `new_epochs` is the sum of (epochs already trained + some additional epochs).\n",
      "[2022-10-02 11:15:19,967] WARNING | darts.models.forecasting.torch_forecasting_model | Attempting to retrain the model without resuming from a checkpoint. This is currently discouraged. Consider setting `save_checkpoints` to `True` and specifying `model_name` at model creation. Then call `model = TFTModel.load_from_checkpoint(model_name, best=False)`. Finally, train the model with `model.fit(..., epochs=new_epochs)` where `new_epochs` is the sum of (epochs already trained + some additional epochs).\n",
      "2022-10-02 11:15:19 darts.models.forecasting.torch_forecasting_model WARNING: Attempting to retrain the model without resuming from a checkpoint. This is currently discouraged. Consider setting `save_checkpoints` to `True` and specifying `model_name` at model creation. Then call `model = TFTModel.load_from_checkpoint(model_name, best=False)`. Finally, train the model with `model.fit(..., epochs=new_epochs)` where `new_epochs` is the sum of (epochs already trained + some additional epochs).\n"
     ]
    },
    {
     "name": "stdout",
     "output_type": "stream",
     "text": [
      "26\n"
     ]
    },
    {
     "data": {
      "application/vnd.jupyter.widget-view+json": {
       "model_id": "65ec7a7c64c8429994f3df4b43349efc",
       "version_major": 2,
       "version_minor": 0
      },
      "text/plain": [
       "Training: 0it [00:00, ?it/s]"
      ]
     },
     "metadata": {},
     "output_type": "display_data"
    },
    {
     "data": {
      "application/vnd.jupyter.widget-view+json": {
       "model_id": "2e1d6c59c2c44d47ac43e591c9caa2dc",
       "version_major": 2,
       "version_minor": 0
      },
      "text/plain": [
       "Predicting: 15it [00:00, ?it/s]"
      ]
     },
     "metadata": {},
     "output_type": "display_data"
    },
    {
     "name": "stderr",
     "output_type": "stream",
     "text": [
      "[2022-10-02 11:15:20,551] INFO | darts.models.forecasting.torch_forecasting_model | Train dataset contains 58 samples.\n",
      "[2022-10-02 11:15:20,551] INFO | darts.models.forecasting.torch_forecasting_model | Train dataset contains 58 samples.\n",
      "2022-10-02 11:15:20 darts.models.forecasting.torch_forecasting_model INFO: Train dataset contains 58 samples.\n",
      "2022-10-02 11:15:20 pytorch_lightning.utilities.distributed INFO: GPU available: False, used: False\n",
      "2022-10-02 11:15:20 pytorch_lightning.utilities.distributed INFO: TPU available: False, using: 0 TPU cores\n",
      "2022-10-02 11:15:20 pytorch_lightning.utilities.distributed INFO: IPU available: False, using: 0 IPUs\n",
      "[2022-10-02 11:15:20,558] WARNING | darts.models.forecasting.torch_forecasting_model | Attempting to retrain the model without resuming from a checkpoint. This is currently discouraged. Consider setting `save_checkpoints` to `True` and specifying `model_name` at model creation. Then call `model = TFTModel.load_from_checkpoint(model_name, best=False)`. Finally, train the model with `model.fit(..., epochs=new_epochs)` where `new_epochs` is the sum of (epochs already trained + some additional epochs).\n",
      "[2022-10-02 11:15:20,558] WARNING | darts.models.forecasting.torch_forecasting_model | Attempting to retrain the model without resuming from a checkpoint. This is currently discouraged. Consider setting `save_checkpoints` to `True` and specifying `model_name` at model creation. Then call `model = TFTModel.load_from_checkpoint(model_name, best=False)`. Finally, train the model with `model.fit(..., epochs=new_epochs)` where `new_epochs` is the sum of (epochs already trained + some additional epochs).\n",
      "2022-10-02 11:15:20 darts.models.forecasting.torch_forecasting_model WARNING: Attempting to retrain the model without resuming from a checkpoint. This is currently discouraged. Consider setting `save_checkpoints` to `True` and specifying `model_name` at model creation. Then call `model = TFTModel.load_from_checkpoint(model_name, best=False)`. Finally, train the model with `model.fit(..., epochs=new_epochs)` where `new_epochs` is the sum of (epochs already trained + some additional epochs).\n"
     ]
    },
    {
     "name": "stdout",
     "output_type": "stream",
     "text": [
      "27\n"
     ]
    },
    {
     "data": {
      "application/vnd.jupyter.widget-view+json": {
       "model_id": "7e142dc1a1914bf4a5af91e803e7b3d3",
       "version_major": 2,
       "version_minor": 0
      },
      "text/plain": [
       "Training: 0it [00:00, ?it/s]"
      ]
     },
     "metadata": {},
     "output_type": "display_data"
    },
    {
     "data": {
      "application/vnd.jupyter.widget-view+json": {
       "model_id": "b5e8c097931f426187e181c5582cfca2",
       "version_major": 2,
       "version_minor": 0
      },
      "text/plain": [
       "Predicting: 15it [00:00, ?it/s]"
      ]
     },
     "metadata": {},
     "output_type": "display_data"
    },
    {
     "name": "stderr",
     "output_type": "stream",
     "text": [
      "[2022-10-02 11:15:21,134] INFO | darts.models.forecasting.torch_forecasting_model | Train dataset contains 59 samples.\n",
      "[2022-10-02 11:15:21,134] INFO | darts.models.forecasting.torch_forecasting_model | Train dataset contains 59 samples.\n",
      "2022-10-02 11:15:21 darts.models.forecasting.torch_forecasting_model INFO: Train dataset contains 59 samples.\n",
      "2022-10-02 11:15:21 pytorch_lightning.utilities.distributed INFO: GPU available: False, used: False\n",
      "2022-10-02 11:15:21 pytorch_lightning.utilities.distributed INFO: TPU available: False, using: 0 TPU cores\n",
      "2022-10-02 11:15:21 pytorch_lightning.utilities.distributed INFO: IPU available: False, using: 0 IPUs\n",
      "[2022-10-02 11:15:21,141] WARNING | darts.models.forecasting.torch_forecasting_model | Attempting to retrain the model without resuming from a checkpoint. This is currently discouraged. Consider setting `save_checkpoints` to `True` and specifying `model_name` at model creation. Then call `model = TFTModel.load_from_checkpoint(model_name, best=False)`. Finally, train the model with `model.fit(..., epochs=new_epochs)` where `new_epochs` is the sum of (epochs already trained + some additional epochs).\n",
      "[2022-10-02 11:15:21,141] WARNING | darts.models.forecasting.torch_forecasting_model | Attempting to retrain the model without resuming from a checkpoint. This is currently discouraged. Consider setting `save_checkpoints` to `True` and specifying `model_name` at model creation. Then call `model = TFTModel.load_from_checkpoint(model_name, best=False)`. Finally, train the model with `model.fit(..., epochs=new_epochs)` where `new_epochs` is the sum of (epochs already trained + some additional epochs).\n",
      "2022-10-02 11:15:21 darts.models.forecasting.torch_forecasting_model WARNING: Attempting to retrain the model without resuming from a checkpoint. This is currently discouraged. Consider setting `save_checkpoints` to `True` and specifying `model_name` at model creation. Then call `model = TFTModel.load_from_checkpoint(model_name, best=False)`. Finally, train the model with `model.fit(..., epochs=new_epochs)` where `new_epochs` is the sum of (epochs already trained + some additional epochs).\n"
     ]
    },
    {
     "name": "stdout",
     "output_type": "stream",
     "text": [
      "28\n"
     ]
    },
    {
     "data": {
      "application/vnd.jupyter.widget-view+json": {
       "model_id": "845be3a5166141d891eb3971cc1c8ac4",
       "version_major": 2,
       "version_minor": 0
      },
      "text/plain": [
       "Training: 0it [00:00, ?it/s]"
      ]
     },
     "metadata": {},
     "output_type": "display_data"
    },
    {
     "data": {
      "application/vnd.jupyter.widget-view+json": {
       "model_id": "843bd2f1dd0b49b18165ced8567ded7f",
       "version_major": 2,
       "version_minor": 0
      },
      "text/plain": [
       "Predicting: 15it [00:00, ?it/s]"
      ]
     },
     "metadata": {},
     "output_type": "display_data"
    },
    {
     "name": "stderr",
     "output_type": "stream",
     "text": [
      "[2022-10-02 11:15:21,678] INFO | darts.models.forecasting.torch_forecasting_model | Train dataset contains 60 samples.\n",
      "[2022-10-02 11:15:21,678] INFO | darts.models.forecasting.torch_forecasting_model | Train dataset contains 60 samples.\n",
      "2022-10-02 11:15:21 darts.models.forecasting.torch_forecasting_model INFO: Train dataset contains 60 samples.\n",
      "2022-10-02 11:15:21 pytorch_lightning.utilities.distributed INFO: GPU available: False, used: False\n",
      "2022-10-02 11:15:21 pytorch_lightning.utilities.distributed INFO: TPU available: False, using: 0 TPU cores\n",
      "2022-10-02 11:15:21 pytorch_lightning.utilities.distributed INFO: IPU available: False, using: 0 IPUs\n",
      "[2022-10-02 11:15:21,685] WARNING | darts.models.forecasting.torch_forecasting_model | Attempting to retrain the model without resuming from a checkpoint. This is currently discouraged. Consider setting `save_checkpoints` to `True` and specifying `model_name` at model creation. Then call `model = TFTModel.load_from_checkpoint(model_name, best=False)`. Finally, train the model with `model.fit(..., epochs=new_epochs)` where `new_epochs` is the sum of (epochs already trained + some additional epochs).\n",
      "[2022-10-02 11:15:21,685] WARNING | darts.models.forecasting.torch_forecasting_model | Attempting to retrain the model without resuming from a checkpoint. This is currently discouraged. Consider setting `save_checkpoints` to `True` and specifying `model_name` at model creation. Then call `model = TFTModel.load_from_checkpoint(model_name, best=False)`. Finally, train the model with `model.fit(..., epochs=new_epochs)` where `new_epochs` is the sum of (epochs already trained + some additional epochs).\n",
      "2022-10-02 11:15:21 darts.models.forecasting.torch_forecasting_model WARNING: Attempting to retrain the model without resuming from a checkpoint. This is currently discouraged. Consider setting `save_checkpoints` to `True` and specifying `model_name` at model creation. Then call `model = TFTModel.load_from_checkpoint(model_name, best=False)`. Finally, train the model with `model.fit(..., epochs=new_epochs)` where `new_epochs` is the sum of (epochs already trained + some additional epochs).\n"
     ]
    },
    {
     "name": "stdout",
     "output_type": "stream",
     "text": [
      "29\n"
     ]
    },
    {
     "data": {
      "application/vnd.jupyter.widget-view+json": {
       "model_id": "00c48fc9f402407594264762acd56b55",
       "version_major": 2,
       "version_minor": 0
      },
      "text/plain": [
       "Training: 0it [00:00, ?it/s]"
      ]
     },
     "metadata": {},
     "output_type": "display_data"
    },
    {
     "data": {
      "application/vnd.jupyter.widget-view+json": {
       "model_id": "e7e5d5bc387d44ee945e7ab7bd154df4",
       "version_major": 2,
       "version_minor": 0
      },
      "text/plain": [
       "Predicting: 15it [00:00, ?it/s]"
      ]
     },
     "metadata": {},
     "output_type": "display_data"
    },
    {
     "name": "stderr",
     "output_type": "stream",
     "text": [
      "[2022-10-02 11:15:22,244] INFO | darts.models.forecasting.torch_forecasting_model | Train dataset contains 61 samples.\n",
      "[2022-10-02 11:15:22,244] INFO | darts.models.forecasting.torch_forecasting_model | Train dataset contains 61 samples.\n",
      "2022-10-02 11:15:22 darts.models.forecasting.torch_forecasting_model INFO: Train dataset contains 61 samples.\n",
      "2022-10-02 11:15:22 pytorch_lightning.utilities.distributed INFO: GPU available: False, used: False\n",
      "2022-10-02 11:15:22 pytorch_lightning.utilities.distributed INFO: TPU available: False, using: 0 TPU cores\n",
      "2022-10-02 11:15:22 pytorch_lightning.utilities.distributed INFO: IPU available: False, using: 0 IPUs\n",
      "[2022-10-02 11:15:22,250] WARNING | darts.models.forecasting.torch_forecasting_model | Attempting to retrain the model without resuming from a checkpoint. This is currently discouraged. Consider setting `save_checkpoints` to `True` and specifying `model_name` at model creation. Then call `model = TFTModel.load_from_checkpoint(model_name, best=False)`. Finally, train the model with `model.fit(..., epochs=new_epochs)` where `new_epochs` is the sum of (epochs already trained + some additional epochs).\n",
      "[2022-10-02 11:15:22,250] WARNING | darts.models.forecasting.torch_forecasting_model | Attempting to retrain the model without resuming from a checkpoint. This is currently discouraged. Consider setting `save_checkpoints` to `True` and specifying `model_name` at model creation. Then call `model = TFTModel.load_from_checkpoint(model_name, best=False)`. Finally, train the model with `model.fit(..., epochs=new_epochs)` where `new_epochs` is the sum of (epochs already trained + some additional epochs).\n",
      "2022-10-02 11:15:22 darts.models.forecasting.torch_forecasting_model WARNING: Attempting to retrain the model without resuming from a checkpoint. This is currently discouraged. Consider setting `save_checkpoints` to `True` and specifying `model_name` at model creation. Then call `model = TFTModel.load_from_checkpoint(model_name, best=False)`. Finally, train the model with `model.fit(..., epochs=new_epochs)` where `new_epochs` is the sum of (epochs already trained + some additional epochs).\n"
     ]
    },
    {
     "name": "stdout",
     "output_type": "stream",
     "text": [
      "30\n"
     ]
    },
    {
     "data": {
      "application/vnd.jupyter.widget-view+json": {
       "model_id": "1680862a1da749a9a1fc9568b19e9387",
       "version_major": 2,
       "version_minor": 0
      },
      "text/plain": [
       "Training: 0it [00:00, ?it/s]"
      ]
     },
     "metadata": {},
     "output_type": "display_data"
    },
    {
     "data": {
      "application/vnd.jupyter.widget-view+json": {
       "model_id": "75d8cc9e61d04972bb4ae186bf4db454",
       "version_major": 2,
       "version_minor": 0
      },
      "text/plain": [
       "Predicting: 16it [00:00, ?it/s]"
      ]
     },
     "metadata": {},
     "output_type": "display_data"
    },
    {
     "name": "stderr",
     "output_type": "stream",
     "text": [
      "[2022-10-02 11:15:22,854] INFO | darts.models.forecasting.torch_forecasting_model | Train dataset contains 62 samples.\n",
      "[2022-10-02 11:15:22,854] INFO | darts.models.forecasting.torch_forecasting_model | Train dataset contains 62 samples.\n",
      "2022-10-02 11:15:22 darts.models.forecasting.torch_forecasting_model INFO: Train dataset contains 62 samples.\n",
      "2022-10-02 11:15:22 pytorch_lightning.utilities.distributed INFO: GPU available: False, used: False\n",
      "2022-10-02 11:15:22 pytorch_lightning.utilities.distributed INFO: TPU available: False, using: 0 TPU cores\n",
      "2022-10-02 11:15:22 pytorch_lightning.utilities.distributed INFO: IPU available: False, using: 0 IPUs\n",
      "[2022-10-02 11:15:22,861] WARNING | darts.models.forecasting.torch_forecasting_model | Attempting to retrain the model without resuming from a checkpoint. This is currently discouraged. Consider setting `save_checkpoints` to `True` and specifying `model_name` at model creation. Then call `model = TFTModel.load_from_checkpoint(model_name, best=False)`. Finally, train the model with `model.fit(..., epochs=new_epochs)` where `new_epochs` is the sum of (epochs already trained + some additional epochs).\n",
      "[2022-10-02 11:15:22,861] WARNING | darts.models.forecasting.torch_forecasting_model | Attempting to retrain the model without resuming from a checkpoint. This is currently discouraged. Consider setting `save_checkpoints` to `True` and specifying `model_name` at model creation. Then call `model = TFTModel.load_from_checkpoint(model_name, best=False)`. Finally, train the model with `model.fit(..., epochs=new_epochs)` where `new_epochs` is the sum of (epochs already trained + some additional epochs).\n",
      "2022-10-02 11:15:22 darts.models.forecasting.torch_forecasting_model WARNING: Attempting to retrain the model without resuming from a checkpoint. This is currently discouraged. Consider setting `save_checkpoints` to `True` and specifying `model_name` at model creation. Then call `model = TFTModel.load_from_checkpoint(model_name, best=False)`. Finally, train the model with `model.fit(..., epochs=new_epochs)` where `new_epochs` is the sum of (epochs already trained + some additional epochs).\n"
     ]
    },
    {
     "name": "stdout",
     "output_type": "stream",
     "text": [
      "31\n"
     ]
    },
    {
     "data": {
      "application/vnd.jupyter.widget-view+json": {
       "model_id": "b430a22bbfbd4e08b3c723b6273270b1",
       "version_major": 2,
       "version_minor": 0
      },
      "text/plain": [
       "Training: 0it [00:00, ?it/s]"
      ]
     },
     "metadata": {},
     "output_type": "display_data"
    },
    {
     "data": {
      "application/vnd.jupyter.widget-view+json": {
       "model_id": "14adafb327144cbea8a4e9e4838ef5bd",
       "version_major": 2,
       "version_minor": 0
      },
      "text/plain": [
       "Predicting: 16it [00:00, ?it/s]"
      ]
     },
     "metadata": {},
     "output_type": "display_data"
    },
    {
     "name": "stderr",
     "output_type": "stream",
     "text": [
      "[2022-10-02 11:15:23,439] INFO | darts.models.forecasting.torch_forecasting_model | Train dataset contains 63 samples.\n",
      "[2022-10-02 11:15:23,439] INFO | darts.models.forecasting.torch_forecasting_model | Train dataset contains 63 samples.\n",
      "2022-10-02 11:15:23 darts.models.forecasting.torch_forecasting_model INFO: Train dataset contains 63 samples.\n",
      "2022-10-02 11:15:23 pytorch_lightning.utilities.distributed INFO: GPU available: False, used: False\n",
      "2022-10-02 11:15:23 pytorch_lightning.utilities.distributed INFO: TPU available: False, using: 0 TPU cores\n",
      "2022-10-02 11:15:23 pytorch_lightning.utilities.distributed INFO: IPU available: False, using: 0 IPUs\n",
      "[2022-10-02 11:15:23,447] WARNING | darts.models.forecasting.torch_forecasting_model | Attempting to retrain the model without resuming from a checkpoint. This is currently discouraged. Consider setting `save_checkpoints` to `True` and specifying `model_name` at model creation. Then call `model = TFTModel.load_from_checkpoint(model_name, best=False)`. Finally, train the model with `model.fit(..., epochs=new_epochs)` where `new_epochs` is the sum of (epochs already trained + some additional epochs).\n",
      "[2022-10-02 11:15:23,447] WARNING | darts.models.forecasting.torch_forecasting_model | Attempting to retrain the model without resuming from a checkpoint. This is currently discouraged. Consider setting `save_checkpoints` to `True` and specifying `model_name` at model creation. Then call `model = TFTModel.load_from_checkpoint(model_name, best=False)`. Finally, train the model with `model.fit(..., epochs=new_epochs)` where `new_epochs` is the sum of (epochs already trained + some additional epochs).\n",
      "2022-10-02 11:15:23 darts.models.forecasting.torch_forecasting_model WARNING: Attempting to retrain the model without resuming from a checkpoint. This is currently discouraged. Consider setting `save_checkpoints` to `True` and specifying `model_name` at model creation. Then call `model = TFTModel.load_from_checkpoint(model_name, best=False)`. Finally, train the model with `model.fit(..., epochs=new_epochs)` where `new_epochs` is the sum of (epochs already trained + some additional epochs).\n"
     ]
    },
    {
     "name": "stdout",
     "output_type": "stream",
     "text": [
      "32\n"
     ]
    },
    {
     "data": {
      "application/vnd.jupyter.widget-view+json": {
       "model_id": "312a87bcdd174f3c8dd7b8a848cebe4a",
       "version_major": 2,
       "version_minor": 0
      },
      "text/plain": [
       "Training: 0it [00:00, ?it/s]"
      ]
     },
     "metadata": {},
     "output_type": "display_data"
    },
    {
     "data": {
      "application/vnd.jupyter.widget-view+json": {
       "model_id": "8d8374219efe4c10b763bd414d661f84",
       "version_major": 2,
       "version_minor": 0
      },
      "text/plain": [
       "Predicting: 16it [00:00, ?it/s]"
      ]
     },
     "metadata": {},
     "output_type": "display_data"
    },
    {
     "name": "stderr",
     "output_type": "stream",
     "text": [
      "[2022-10-02 11:15:24,005] INFO | darts.models.forecasting.torch_forecasting_model | Train dataset contains 64 samples.\n",
      "[2022-10-02 11:15:24,005] INFO | darts.models.forecasting.torch_forecasting_model | Train dataset contains 64 samples.\n",
      "2022-10-02 11:15:24 darts.models.forecasting.torch_forecasting_model INFO: Train dataset contains 64 samples.\n",
      "2022-10-02 11:15:24 pytorch_lightning.utilities.distributed INFO: GPU available: False, used: False\n",
      "2022-10-02 11:15:24 pytorch_lightning.utilities.distributed INFO: TPU available: False, using: 0 TPU cores\n",
      "2022-10-02 11:15:24 pytorch_lightning.utilities.distributed INFO: IPU available: False, using: 0 IPUs\n",
      "[2022-10-02 11:15:24,013] WARNING | darts.models.forecasting.torch_forecasting_model | Attempting to retrain the model without resuming from a checkpoint. This is currently discouraged. Consider setting `save_checkpoints` to `True` and specifying `model_name` at model creation. Then call `model = TFTModel.load_from_checkpoint(model_name, best=False)`. Finally, train the model with `model.fit(..., epochs=new_epochs)` where `new_epochs` is the sum of (epochs already trained + some additional epochs).\n",
      "[2022-10-02 11:15:24,013] WARNING | darts.models.forecasting.torch_forecasting_model | Attempting to retrain the model without resuming from a checkpoint. This is currently discouraged. Consider setting `save_checkpoints` to `True` and specifying `model_name` at model creation. Then call `model = TFTModel.load_from_checkpoint(model_name, best=False)`. Finally, train the model with `model.fit(..., epochs=new_epochs)` where `new_epochs` is the sum of (epochs already trained + some additional epochs).\n",
      "2022-10-02 11:15:24 darts.models.forecasting.torch_forecasting_model WARNING: Attempting to retrain the model without resuming from a checkpoint. This is currently discouraged. Consider setting `save_checkpoints` to `True` and specifying `model_name` at model creation. Then call `model = TFTModel.load_from_checkpoint(model_name, best=False)`. Finally, train the model with `model.fit(..., epochs=new_epochs)` where `new_epochs` is the sum of (epochs already trained + some additional epochs).\n"
     ]
    },
    {
     "name": "stdout",
     "output_type": "stream",
     "text": [
      "33\n"
     ]
    },
    {
     "data": {
      "application/vnd.jupyter.widget-view+json": {
       "model_id": "51bde54043c241699f4e4df9ec4d2d54",
       "version_major": 2,
       "version_minor": 0
      },
      "text/plain": [
       "Training: 0it [00:00, ?it/s]"
      ]
     },
     "metadata": {},
     "output_type": "display_data"
    },
    {
     "data": {
      "application/vnd.jupyter.widget-view+json": {
       "model_id": "59f7a7c5e8ae4281811308acc43872fe",
       "version_major": 2,
       "version_minor": 0
      },
      "text/plain": [
       "Predicting: 16it [00:00, ?it/s]"
      ]
     },
     "metadata": {},
     "output_type": "display_data"
    },
    {
     "name": "stderr",
     "output_type": "stream",
     "text": [
      "[2022-10-02 11:15:24,566] INFO | darts.models.forecasting.torch_forecasting_model | Train dataset contains 65 samples.\n",
      "[2022-10-02 11:15:24,566] INFO | darts.models.forecasting.torch_forecasting_model | Train dataset contains 65 samples.\n",
      "2022-10-02 11:15:24 darts.models.forecasting.torch_forecasting_model INFO: Train dataset contains 65 samples.\n",
      "2022-10-02 11:15:24 pytorch_lightning.utilities.distributed INFO: GPU available: False, used: False\n",
      "2022-10-02 11:15:24 pytorch_lightning.utilities.distributed INFO: TPU available: False, using: 0 TPU cores\n",
      "2022-10-02 11:15:24 pytorch_lightning.utilities.distributed INFO: IPU available: False, using: 0 IPUs\n",
      "[2022-10-02 11:15:24,573] WARNING | darts.models.forecasting.torch_forecasting_model | Attempting to retrain the model without resuming from a checkpoint. This is currently discouraged. Consider setting `save_checkpoints` to `True` and specifying `model_name` at model creation. Then call `model = TFTModel.load_from_checkpoint(model_name, best=False)`. Finally, train the model with `model.fit(..., epochs=new_epochs)` where `new_epochs` is the sum of (epochs already trained + some additional epochs).\n",
      "[2022-10-02 11:15:24,573] WARNING | darts.models.forecasting.torch_forecasting_model | Attempting to retrain the model without resuming from a checkpoint. This is currently discouraged. Consider setting `save_checkpoints` to `True` and specifying `model_name` at model creation. Then call `model = TFTModel.load_from_checkpoint(model_name, best=False)`. Finally, train the model with `model.fit(..., epochs=new_epochs)` where `new_epochs` is the sum of (epochs already trained + some additional epochs).\n",
      "2022-10-02 11:15:24 darts.models.forecasting.torch_forecasting_model WARNING: Attempting to retrain the model without resuming from a checkpoint. This is currently discouraged. Consider setting `save_checkpoints` to `True` and specifying `model_name` at model creation. Then call `model = TFTModel.load_from_checkpoint(model_name, best=False)`. Finally, train the model with `model.fit(..., epochs=new_epochs)` where `new_epochs` is the sum of (epochs already trained + some additional epochs).\n"
     ]
    },
    {
     "name": "stdout",
     "output_type": "stream",
     "text": [
      "34\n"
     ]
    },
    {
     "data": {
      "application/vnd.jupyter.widget-view+json": {
       "model_id": "b597bb800b9f4c7cb6a1775af4116a2c",
       "version_major": 2,
       "version_minor": 0
      },
      "text/plain": [
       "Training: 0it [00:00, ?it/s]"
      ]
     },
     "metadata": {},
     "output_type": "display_data"
    },
    {
     "data": {
      "application/vnd.jupyter.widget-view+json": {
       "model_id": "05967eab3bd34e4ca1fc35dfe4eb6dc7",
       "version_major": 2,
       "version_minor": 0
      },
      "text/plain": [
       "Predicting: 17it [00:00, ?it/s]"
      ]
     },
     "metadata": {},
     "output_type": "display_data"
    },
    {
     "name": "stderr",
     "output_type": "stream",
     "text": [
      "[2022-10-02 11:15:25,216] INFO | darts.models.forecasting.torch_forecasting_model | Train dataset contains 66 samples.\n",
      "[2022-10-02 11:15:25,216] INFO | darts.models.forecasting.torch_forecasting_model | Train dataset contains 66 samples.\n",
      "2022-10-02 11:15:25 darts.models.forecasting.torch_forecasting_model INFO: Train dataset contains 66 samples.\n",
      "2022-10-02 11:15:25 pytorch_lightning.utilities.distributed INFO: GPU available: False, used: False\n",
      "2022-10-02 11:15:25 pytorch_lightning.utilities.distributed INFO: TPU available: False, using: 0 TPU cores\n",
      "2022-10-02 11:15:25 pytorch_lightning.utilities.distributed INFO: IPU available: False, using: 0 IPUs\n",
      "[2022-10-02 11:15:25,223] WARNING | darts.models.forecasting.torch_forecasting_model | Attempting to retrain the model without resuming from a checkpoint. This is currently discouraged. Consider setting `save_checkpoints` to `True` and specifying `model_name` at model creation. Then call `model = TFTModel.load_from_checkpoint(model_name, best=False)`. Finally, train the model with `model.fit(..., epochs=new_epochs)` where `new_epochs` is the sum of (epochs already trained + some additional epochs).\n",
      "[2022-10-02 11:15:25,223] WARNING | darts.models.forecasting.torch_forecasting_model | Attempting to retrain the model without resuming from a checkpoint. This is currently discouraged. Consider setting `save_checkpoints` to `True` and specifying `model_name` at model creation. Then call `model = TFTModel.load_from_checkpoint(model_name, best=False)`. Finally, train the model with `model.fit(..., epochs=new_epochs)` where `new_epochs` is the sum of (epochs already trained + some additional epochs).\n",
      "2022-10-02 11:15:25 darts.models.forecasting.torch_forecasting_model WARNING: Attempting to retrain the model without resuming from a checkpoint. This is currently discouraged. Consider setting `save_checkpoints` to `True` and specifying `model_name` at model creation. Then call `model = TFTModel.load_from_checkpoint(model_name, best=False)`. Finally, train the model with `model.fit(..., epochs=new_epochs)` where `new_epochs` is the sum of (epochs already trained + some additional epochs).\n"
     ]
    },
    {
     "name": "stdout",
     "output_type": "stream",
     "text": [
      "35\n"
     ]
    },
    {
     "data": {
      "application/vnd.jupyter.widget-view+json": {
       "model_id": "7a547851cc33413d8d71cfa687d0a4bf",
       "version_major": 2,
       "version_minor": 0
      },
      "text/plain": [
       "Training: 0it [00:00, ?it/s]"
      ]
     },
     "metadata": {},
     "output_type": "display_data"
    },
    {
     "data": {
      "application/vnd.jupyter.widget-view+json": {
       "model_id": "e25cc0f96d424462bf1f68138fc5aebc",
       "version_major": 2,
       "version_minor": 0
      },
      "text/plain": [
       "Predicting: 17it [00:00, ?it/s]"
      ]
     },
     "metadata": {},
     "output_type": "display_data"
    },
    {
     "name": "stderr",
     "output_type": "stream",
     "text": [
      "[2022-10-02 11:15:25,820] INFO | darts.models.forecasting.torch_forecasting_model | Train dataset contains 67 samples.\n",
      "[2022-10-02 11:15:25,820] INFO | darts.models.forecasting.torch_forecasting_model | Train dataset contains 67 samples.\n",
      "2022-10-02 11:15:25 darts.models.forecasting.torch_forecasting_model INFO: Train dataset contains 67 samples.\n",
      "2022-10-02 11:15:25 pytorch_lightning.utilities.distributed INFO: GPU available: False, used: False\n",
      "2022-10-02 11:15:25 pytorch_lightning.utilities.distributed INFO: TPU available: False, using: 0 TPU cores\n",
      "2022-10-02 11:15:25 pytorch_lightning.utilities.distributed INFO: IPU available: False, using: 0 IPUs\n",
      "[2022-10-02 11:15:25,827] WARNING | darts.models.forecasting.torch_forecasting_model | Attempting to retrain the model without resuming from a checkpoint. This is currently discouraged. Consider setting `save_checkpoints` to `True` and specifying `model_name` at model creation. Then call `model = TFTModel.load_from_checkpoint(model_name, best=False)`. Finally, train the model with `model.fit(..., epochs=new_epochs)` where `new_epochs` is the sum of (epochs already trained + some additional epochs).\n",
      "[2022-10-02 11:15:25,827] WARNING | darts.models.forecasting.torch_forecasting_model | Attempting to retrain the model without resuming from a checkpoint. This is currently discouraged. Consider setting `save_checkpoints` to `True` and specifying `model_name` at model creation. Then call `model = TFTModel.load_from_checkpoint(model_name, best=False)`. Finally, train the model with `model.fit(..., epochs=new_epochs)` where `new_epochs` is the sum of (epochs already trained + some additional epochs).\n",
      "2022-10-02 11:15:25 darts.models.forecasting.torch_forecasting_model WARNING: Attempting to retrain the model without resuming from a checkpoint. This is currently discouraged. Consider setting `save_checkpoints` to `True` and specifying `model_name` at model creation. Then call `model = TFTModel.load_from_checkpoint(model_name, best=False)`. Finally, train the model with `model.fit(..., epochs=new_epochs)` where `new_epochs` is the sum of (epochs already trained + some additional epochs).\n"
     ]
    },
    {
     "name": "stdout",
     "output_type": "stream",
     "text": [
      "36\n"
     ]
    },
    {
     "data": {
      "application/vnd.jupyter.widget-view+json": {
       "model_id": "efe1c297766c4ef991e377c3b9a19f91",
       "version_major": 2,
       "version_minor": 0
      },
      "text/plain": [
       "Training: 0it [00:00, ?it/s]"
      ]
     },
     "metadata": {},
     "output_type": "display_data"
    },
    {
     "data": {
      "application/vnd.jupyter.widget-view+json": {
       "model_id": "5f30785dbcc2492daabfda8022ee4478",
       "version_major": 2,
       "version_minor": 0
      },
      "text/plain": [
       "Predicting: 17it [00:00, ?it/s]"
      ]
     },
     "metadata": {},
     "output_type": "display_data"
    },
    {
     "name": "stderr",
     "output_type": "stream",
     "text": [
      "[2022-10-02 11:15:26,451] INFO | darts.models.forecasting.torch_forecasting_model | Train dataset contains 68 samples.\n",
      "[2022-10-02 11:15:26,451] INFO | darts.models.forecasting.torch_forecasting_model | Train dataset contains 68 samples.\n",
      "2022-10-02 11:15:26 darts.models.forecasting.torch_forecasting_model INFO: Train dataset contains 68 samples.\n",
      "2022-10-02 11:15:26 pytorch_lightning.utilities.distributed INFO: GPU available: False, used: False\n",
      "2022-10-02 11:15:26 pytorch_lightning.utilities.distributed INFO: TPU available: False, using: 0 TPU cores\n",
      "2022-10-02 11:15:26 pytorch_lightning.utilities.distributed INFO: IPU available: False, using: 0 IPUs\n",
      "[2022-10-02 11:15:26,458] WARNING | darts.models.forecasting.torch_forecasting_model | Attempting to retrain the model without resuming from a checkpoint. This is currently discouraged. Consider setting `save_checkpoints` to `True` and specifying `model_name` at model creation. Then call `model = TFTModel.load_from_checkpoint(model_name, best=False)`. Finally, train the model with `model.fit(..., epochs=new_epochs)` where `new_epochs` is the sum of (epochs already trained + some additional epochs).\n",
      "[2022-10-02 11:15:26,458] WARNING | darts.models.forecasting.torch_forecasting_model | Attempting to retrain the model without resuming from a checkpoint. This is currently discouraged. Consider setting `save_checkpoints` to `True` and specifying `model_name` at model creation. Then call `model = TFTModel.load_from_checkpoint(model_name, best=False)`. Finally, train the model with `model.fit(..., epochs=new_epochs)` where `new_epochs` is the sum of (epochs already trained + some additional epochs).\n",
      "2022-10-02 11:15:26 darts.models.forecasting.torch_forecasting_model WARNING: Attempting to retrain the model without resuming from a checkpoint. This is currently discouraged. Consider setting `save_checkpoints` to `True` and specifying `model_name` at model creation. Then call `model = TFTModel.load_from_checkpoint(model_name, best=False)`. Finally, train the model with `model.fit(..., epochs=new_epochs)` where `new_epochs` is the sum of (epochs already trained + some additional epochs).\n"
     ]
    },
    {
     "name": "stdout",
     "output_type": "stream",
     "text": [
      "37\n"
     ]
    },
    {
     "data": {
      "application/vnd.jupyter.widget-view+json": {
       "model_id": "16621d19749c4cc996f7bc382ec98f12",
       "version_major": 2,
       "version_minor": 0
      },
      "text/plain": [
       "Training: 0it [00:00, ?it/s]"
      ]
     },
     "metadata": {},
     "output_type": "display_data"
    },
    {
     "data": {
      "application/vnd.jupyter.widget-view+json": {
       "model_id": "76a3fb0504ee414a841e695d2450886b",
       "version_major": 2,
       "version_minor": 0
      },
      "text/plain": [
       "Predicting: 17it [00:00, ?it/s]"
      ]
     },
     "metadata": {},
     "output_type": "display_data"
    },
    {
     "name": "stderr",
     "output_type": "stream",
     "text": [
      "[2022-10-02 11:15:27,091] INFO | darts.models.forecasting.torch_forecasting_model | Train dataset contains 69 samples.\n",
      "[2022-10-02 11:15:27,091] INFO | darts.models.forecasting.torch_forecasting_model | Train dataset contains 69 samples.\n",
      "2022-10-02 11:15:27 darts.models.forecasting.torch_forecasting_model INFO: Train dataset contains 69 samples.\n",
      "2022-10-02 11:15:27 pytorch_lightning.utilities.distributed INFO: GPU available: False, used: False\n",
      "2022-10-02 11:15:27 pytorch_lightning.utilities.distributed INFO: TPU available: False, using: 0 TPU cores\n",
      "2022-10-02 11:15:27 pytorch_lightning.utilities.distributed INFO: IPU available: False, using: 0 IPUs\n",
      "[2022-10-02 11:15:27,099] WARNING | darts.models.forecasting.torch_forecasting_model | Attempting to retrain the model without resuming from a checkpoint. This is currently discouraged. Consider setting `save_checkpoints` to `True` and specifying `model_name` at model creation. Then call `model = TFTModel.load_from_checkpoint(model_name, best=False)`. Finally, train the model with `model.fit(..., epochs=new_epochs)` where `new_epochs` is the sum of (epochs already trained + some additional epochs).\n",
      "[2022-10-02 11:15:27,099] WARNING | darts.models.forecasting.torch_forecasting_model | Attempting to retrain the model without resuming from a checkpoint. This is currently discouraged. Consider setting `save_checkpoints` to `True` and specifying `model_name` at model creation. Then call `model = TFTModel.load_from_checkpoint(model_name, best=False)`. Finally, train the model with `model.fit(..., epochs=new_epochs)` where `new_epochs` is the sum of (epochs already trained + some additional epochs).\n",
      "2022-10-02 11:15:27 darts.models.forecasting.torch_forecasting_model WARNING: Attempting to retrain the model without resuming from a checkpoint. This is currently discouraged. Consider setting `save_checkpoints` to `True` and specifying `model_name` at model creation. Then call `model = TFTModel.load_from_checkpoint(model_name, best=False)`. Finally, train the model with `model.fit(..., epochs=new_epochs)` where `new_epochs` is the sum of (epochs already trained + some additional epochs).\n"
     ]
    },
    {
     "name": "stdout",
     "output_type": "stream",
     "text": [
      "38\n"
     ]
    },
    {
     "data": {
      "application/vnd.jupyter.widget-view+json": {
       "model_id": "7b2e9483af794f298bbb4ec4d6ae4457",
       "version_major": 2,
       "version_minor": 0
      },
      "text/plain": [
       "Training: 0it [00:00, ?it/s]"
      ]
     },
     "metadata": {},
     "output_type": "display_data"
    },
    {
     "data": {
      "application/vnd.jupyter.widget-view+json": {
       "model_id": "433e19cf0feb478ab2d7efa4e42f9c2b",
       "version_major": 2,
       "version_minor": 0
      },
      "text/plain": [
       "Predicting: 18it [00:00, ?it/s]"
      ]
     },
     "metadata": {},
     "output_type": "display_data"
    },
    {
     "name": "stderr",
     "output_type": "stream",
     "text": [
      "[2022-10-02 11:15:27,719] INFO | darts.models.forecasting.torch_forecasting_model | Train dataset contains 70 samples.\n",
      "[2022-10-02 11:15:27,719] INFO | darts.models.forecasting.torch_forecasting_model | Train dataset contains 70 samples.\n",
      "2022-10-02 11:15:27 darts.models.forecasting.torch_forecasting_model INFO: Train dataset contains 70 samples.\n",
      "2022-10-02 11:15:27 pytorch_lightning.utilities.distributed INFO: GPU available: False, used: False\n",
      "2022-10-02 11:15:27 pytorch_lightning.utilities.distributed INFO: TPU available: False, using: 0 TPU cores\n",
      "2022-10-02 11:15:27 pytorch_lightning.utilities.distributed INFO: IPU available: False, using: 0 IPUs\n",
      "[2022-10-02 11:15:27,726] WARNING | darts.models.forecasting.torch_forecasting_model | Attempting to retrain the model without resuming from a checkpoint. This is currently discouraged. Consider setting `save_checkpoints` to `True` and specifying `model_name` at model creation. Then call `model = TFTModel.load_from_checkpoint(model_name, best=False)`. Finally, train the model with `model.fit(..., epochs=new_epochs)` where `new_epochs` is the sum of (epochs already trained + some additional epochs).\n",
      "[2022-10-02 11:15:27,726] WARNING | darts.models.forecasting.torch_forecasting_model | Attempting to retrain the model without resuming from a checkpoint. This is currently discouraged. Consider setting `save_checkpoints` to `True` and specifying `model_name` at model creation. Then call `model = TFTModel.load_from_checkpoint(model_name, best=False)`. Finally, train the model with `model.fit(..., epochs=new_epochs)` where `new_epochs` is the sum of (epochs already trained + some additional epochs).\n",
      "2022-10-02 11:15:27 darts.models.forecasting.torch_forecasting_model WARNING: Attempting to retrain the model without resuming from a checkpoint. This is currently discouraged. Consider setting `save_checkpoints` to `True` and specifying `model_name` at model creation. Then call `model = TFTModel.load_from_checkpoint(model_name, best=False)`. Finally, train the model with `model.fit(..., epochs=new_epochs)` where `new_epochs` is the sum of (epochs already trained + some additional epochs).\n"
     ]
    },
    {
     "name": "stdout",
     "output_type": "stream",
     "text": [
      "39\n"
     ]
    },
    {
     "data": {
      "application/vnd.jupyter.widget-view+json": {
       "model_id": "77a9682f037c4bb5979f56239d8c5dba",
       "version_major": 2,
       "version_minor": 0
      },
      "text/plain": [
       "Training: 0it [00:00, ?it/s]"
      ]
     },
     "metadata": {},
     "output_type": "display_data"
    },
    {
     "data": {
      "application/vnd.jupyter.widget-view+json": {
       "model_id": "70b2eb297a4a4127a4ee34ec4e01915e",
       "version_major": 2,
       "version_minor": 0
      },
      "text/plain": [
       "Predicting: 18it [00:00, ?it/s]"
      ]
     },
     "metadata": {},
     "output_type": "display_data"
    },
    {
     "name": "stderr",
     "output_type": "stream",
     "text": [
      "[2022-10-02 11:15:28,329] INFO | darts.models.forecasting.torch_forecasting_model | Train dataset contains 71 samples.\n",
      "[2022-10-02 11:15:28,329] INFO | darts.models.forecasting.torch_forecasting_model | Train dataset contains 71 samples.\n",
      "2022-10-02 11:15:28 darts.models.forecasting.torch_forecasting_model INFO: Train dataset contains 71 samples.\n",
      "2022-10-02 11:15:28 pytorch_lightning.utilities.distributed INFO: GPU available: False, used: False\n",
      "2022-10-02 11:15:28 pytorch_lightning.utilities.distributed INFO: TPU available: False, using: 0 TPU cores\n",
      "2022-10-02 11:15:28 pytorch_lightning.utilities.distributed INFO: IPU available: False, using: 0 IPUs\n",
      "[2022-10-02 11:15:28,336] WARNING | darts.models.forecasting.torch_forecasting_model | Attempting to retrain the model without resuming from a checkpoint. This is currently discouraged. Consider setting `save_checkpoints` to `True` and specifying `model_name` at model creation. Then call `model = TFTModel.load_from_checkpoint(model_name, best=False)`. Finally, train the model with `model.fit(..., epochs=new_epochs)` where `new_epochs` is the sum of (epochs already trained + some additional epochs).\n",
      "[2022-10-02 11:15:28,336] WARNING | darts.models.forecasting.torch_forecasting_model | Attempting to retrain the model without resuming from a checkpoint. This is currently discouraged. Consider setting `save_checkpoints` to `True` and specifying `model_name` at model creation. Then call `model = TFTModel.load_from_checkpoint(model_name, best=False)`. Finally, train the model with `model.fit(..., epochs=new_epochs)` where `new_epochs` is the sum of (epochs already trained + some additional epochs).\n",
      "2022-10-02 11:15:28 darts.models.forecasting.torch_forecasting_model WARNING: Attempting to retrain the model without resuming from a checkpoint. This is currently discouraged. Consider setting `save_checkpoints` to `True` and specifying `model_name` at model creation. Then call `model = TFTModel.load_from_checkpoint(model_name, best=False)`. Finally, train the model with `model.fit(..., epochs=new_epochs)` where `new_epochs` is the sum of (epochs already trained + some additional epochs).\n"
     ]
    },
    {
     "name": "stdout",
     "output_type": "stream",
     "text": [
      "40\n"
     ]
    },
    {
     "data": {
      "application/vnd.jupyter.widget-view+json": {
       "model_id": "1c6e99b5d3af47bdad376e1ff97b178d",
       "version_major": 2,
       "version_minor": 0
      },
      "text/plain": [
       "Training: 0it [00:00, ?it/s]"
      ]
     },
     "metadata": {},
     "output_type": "display_data"
    },
    {
     "data": {
      "application/vnd.jupyter.widget-view+json": {
       "model_id": "0db54a3dcd644e6e9719a3de32d3d9fa",
       "version_major": 2,
       "version_minor": 0
      },
      "text/plain": [
       "Predicting: 18it [00:00, ?it/s]"
      ]
     },
     "metadata": {},
     "output_type": "display_data"
    },
    {
     "name": "stderr",
     "output_type": "stream",
     "text": [
      "[2022-10-02 11:15:28,981] INFO | darts.models.forecasting.torch_forecasting_model | Train dataset contains 72 samples.\n",
      "[2022-10-02 11:15:28,981] INFO | darts.models.forecasting.torch_forecasting_model | Train dataset contains 72 samples.\n",
      "2022-10-02 11:15:28 darts.models.forecasting.torch_forecasting_model INFO: Train dataset contains 72 samples.\n",
      "2022-10-02 11:15:28 pytorch_lightning.utilities.distributed INFO: GPU available: False, used: False\n",
      "2022-10-02 11:15:28 pytorch_lightning.utilities.distributed INFO: TPU available: False, using: 0 TPU cores\n",
      "2022-10-02 11:15:28 pytorch_lightning.utilities.distributed INFO: IPU available: False, using: 0 IPUs\n",
      "[2022-10-02 11:15:28,987] WARNING | darts.models.forecasting.torch_forecasting_model | Attempting to retrain the model without resuming from a checkpoint. This is currently discouraged. Consider setting `save_checkpoints` to `True` and specifying `model_name` at model creation. Then call `model = TFTModel.load_from_checkpoint(model_name, best=False)`. Finally, train the model with `model.fit(..., epochs=new_epochs)` where `new_epochs` is the sum of (epochs already trained + some additional epochs).\n",
      "[2022-10-02 11:15:28,987] WARNING | darts.models.forecasting.torch_forecasting_model | Attempting to retrain the model without resuming from a checkpoint. This is currently discouraged. Consider setting `save_checkpoints` to `True` and specifying `model_name` at model creation. Then call `model = TFTModel.load_from_checkpoint(model_name, best=False)`. Finally, train the model with `model.fit(..., epochs=new_epochs)` where `new_epochs` is the sum of (epochs already trained + some additional epochs).\n",
      "2022-10-02 11:15:28 darts.models.forecasting.torch_forecasting_model WARNING: Attempting to retrain the model without resuming from a checkpoint. This is currently discouraged. Consider setting `save_checkpoints` to `True` and specifying `model_name` at model creation. Then call `model = TFTModel.load_from_checkpoint(model_name, best=False)`. Finally, train the model with `model.fit(..., epochs=new_epochs)` where `new_epochs` is the sum of (epochs already trained + some additional epochs).\n"
     ]
    },
    {
     "name": "stdout",
     "output_type": "stream",
     "text": [
      "41\n"
     ]
    },
    {
     "data": {
      "application/vnd.jupyter.widget-view+json": {
       "model_id": "beffd9c43f834713b7adcdad4a50036d",
       "version_major": 2,
       "version_minor": 0
      },
      "text/plain": [
       "Training: 0it [00:00, ?it/s]"
      ]
     },
     "metadata": {},
     "output_type": "display_data"
    },
    {
     "data": {
      "application/vnd.jupyter.widget-view+json": {
       "model_id": "1bade87a2669471b81ec1f9788b5c02d",
       "version_major": 2,
       "version_minor": 0
      },
      "text/plain": [
       "Predicting: 18it [00:00, ?it/s]"
      ]
     },
     "metadata": {},
     "output_type": "display_data"
    },
    {
     "name": "stderr",
     "output_type": "stream",
     "text": [
      "[2022-10-02 11:15:29,597] INFO | darts.models.forecasting.torch_forecasting_model | Train dataset contains 73 samples.\n",
      "[2022-10-02 11:15:29,597] INFO | darts.models.forecasting.torch_forecasting_model | Train dataset contains 73 samples.\n",
      "2022-10-02 11:15:29 darts.models.forecasting.torch_forecasting_model INFO: Train dataset contains 73 samples.\n",
      "2022-10-02 11:15:29 pytorch_lightning.utilities.distributed INFO: GPU available: False, used: False\n",
      "2022-10-02 11:15:29 pytorch_lightning.utilities.distributed INFO: TPU available: False, using: 0 TPU cores\n",
      "2022-10-02 11:15:29 pytorch_lightning.utilities.distributed INFO: IPU available: False, using: 0 IPUs\n",
      "[2022-10-02 11:15:29,604] WARNING | darts.models.forecasting.torch_forecasting_model | Attempting to retrain the model without resuming from a checkpoint. This is currently discouraged. Consider setting `save_checkpoints` to `True` and specifying `model_name` at model creation. Then call `model = TFTModel.load_from_checkpoint(model_name, best=False)`. Finally, train the model with `model.fit(..., epochs=new_epochs)` where `new_epochs` is the sum of (epochs already trained + some additional epochs).\n",
      "[2022-10-02 11:15:29,604] WARNING | darts.models.forecasting.torch_forecasting_model | Attempting to retrain the model without resuming from a checkpoint. This is currently discouraged. Consider setting `save_checkpoints` to `True` and specifying `model_name` at model creation. Then call `model = TFTModel.load_from_checkpoint(model_name, best=False)`. Finally, train the model with `model.fit(..., epochs=new_epochs)` where `new_epochs` is the sum of (epochs already trained + some additional epochs).\n",
      "2022-10-02 11:15:29 darts.models.forecasting.torch_forecasting_model WARNING: Attempting to retrain the model without resuming from a checkpoint. This is currently discouraged. Consider setting `save_checkpoints` to `True` and specifying `model_name` at model creation. Then call `model = TFTModel.load_from_checkpoint(model_name, best=False)`. Finally, train the model with `model.fit(..., epochs=new_epochs)` where `new_epochs` is the sum of (epochs already trained + some additional epochs).\n"
     ]
    },
    {
     "name": "stdout",
     "output_type": "stream",
     "text": [
      "42\n"
     ]
    },
    {
     "data": {
      "application/vnd.jupyter.widget-view+json": {
       "model_id": "f430ce1c78ee4acc9ba982aa6eb97fa1",
       "version_major": 2,
       "version_minor": 0
      },
      "text/plain": [
       "Training: 0it [00:00, ?it/s]"
      ]
     },
     "metadata": {},
     "output_type": "display_data"
    },
    {
     "data": {
      "application/vnd.jupyter.widget-view+json": {
       "model_id": "cb3dad53b0b14fcd82c6caeac1a3f546",
       "version_major": 2,
       "version_minor": 0
      },
      "text/plain": [
       "Predicting: 19it [00:00, ?it/s]"
      ]
     },
     "metadata": {},
     "output_type": "display_data"
    },
    {
     "name": "stderr",
     "output_type": "stream",
     "text": [
      "[2022-10-02 11:15:30,238] INFO | darts.models.forecasting.torch_forecasting_model | Train dataset contains 74 samples.\n",
      "[2022-10-02 11:15:30,238] INFO | darts.models.forecasting.torch_forecasting_model | Train dataset contains 74 samples.\n",
      "2022-10-02 11:15:30 darts.models.forecasting.torch_forecasting_model INFO: Train dataset contains 74 samples.\n",
      "2022-10-02 11:15:30 pytorch_lightning.utilities.distributed INFO: GPU available: False, used: False\n",
      "2022-10-02 11:15:30 pytorch_lightning.utilities.distributed INFO: TPU available: False, using: 0 TPU cores\n",
      "2022-10-02 11:15:30 pytorch_lightning.utilities.distributed INFO: IPU available: False, using: 0 IPUs\n",
      "[2022-10-02 11:15:30,245] WARNING | darts.models.forecasting.torch_forecasting_model | Attempting to retrain the model without resuming from a checkpoint. This is currently discouraged. Consider setting `save_checkpoints` to `True` and specifying `model_name` at model creation. Then call `model = TFTModel.load_from_checkpoint(model_name, best=False)`. Finally, train the model with `model.fit(..., epochs=new_epochs)` where `new_epochs` is the sum of (epochs already trained + some additional epochs).\n",
      "[2022-10-02 11:15:30,245] WARNING | darts.models.forecasting.torch_forecasting_model | Attempting to retrain the model without resuming from a checkpoint. This is currently discouraged. Consider setting `save_checkpoints` to `True` and specifying `model_name` at model creation. Then call `model = TFTModel.load_from_checkpoint(model_name, best=False)`. Finally, train the model with `model.fit(..., epochs=new_epochs)` where `new_epochs` is the sum of (epochs already trained + some additional epochs).\n",
      "2022-10-02 11:15:30 darts.models.forecasting.torch_forecasting_model WARNING: Attempting to retrain the model without resuming from a checkpoint. This is currently discouraged. Consider setting `save_checkpoints` to `True` and specifying `model_name` at model creation. Then call `model = TFTModel.load_from_checkpoint(model_name, best=False)`. Finally, train the model with `model.fit(..., epochs=new_epochs)` where `new_epochs` is the sum of (epochs already trained + some additional epochs).\n"
     ]
    },
    {
     "name": "stdout",
     "output_type": "stream",
     "text": [
      "43\n"
     ]
    },
    {
     "data": {
      "application/vnd.jupyter.widget-view+json": {
       "model_id": "9b93be5f1eef4732b8ba215a3ca7fb44",
       "version_major": 2,
       "version_minor": 0
      },
      "text/plain": [
       "Training: 0it [00:00, ?it/s]"
      ]
     },
     "metadata": {},
     "output_type": "display_data"
    },
    {
     "data": {
      "application/vnd.jupyter.widget-view+json": {
       "model_id": "2505691a86e84f33bad34b268a1d57e5",
       "version_major": 2,
       "version_minor": 0
      },
      "text/plain": [
       "Predicting: 19it [00:00, ?it/s]"
      ]
     },
     "metadata": {},
     "output_type": "display_data"
    },
    {
     "name": "stderr",
     "output_type": "stream",
     "text": [
      "[2022-10-02 11:15:30,876] INFO | darts.models.forecasting.torch_forecasting_model | Train dataset contains 75 samples.\n",
      "[2022-10-02 11:15:30,876] INFO | darts.models.forecasting.torch_forecasting_model | Train dataset contains 75 samples.\n",
      "2022-10-02 11:15:30 darts.models.forecasting.torch_forecasting_model INFO: Train dataset contains 75 samples.\n",
      "2022-10-02 11:15:30 pytorch_lightning.utilities.distributed INFO: GPU available: False, used: False\n",
      "2022-10-02 11:15:30 pytorch_lightning.utilities.distributed INFO: TPU available: False, using: 0 TPU cores\n",
      "2022-10-02 11:15:30 pytorch_lightning.utilities.distributed INFO: IPU available: False, using: 0 IPUs\n",
      "[2022-10-02 11:15:30,883] WARNING | darts.models.forecasting.torch_forecasting_model | Attempting to retrain the model without resuming from a checkpoint. This is currently discouraged. Consider setting `save_checkpoints` to `True` and specifying `model_name` at model creation. Then call `model = TFTModel.load_from_checkpoint(model_name, best=False)`. Finally, train the model with `model.fit(..., epochs=new_epochs)` where `new_epochs` is the sum of (epochs already trained + some additional epochs).\n",
      "[2022-10-02 11:15:30,883] WARNING | darts.models.forecasting.torch_forecasting_model | Attempting to retrain the model without resuming from a checkpoint. This is currently discouraged. Consider setting `save_checkpoints` to `True` and specifying `model_name` at model creation. Then call `model = TFTModel.load_from_checkpoint(model_name, best=False)`. Finally, train the model with `model.fit(..., epochs=new_epochs)` where `new_epochs` is the sum of (epochs already trained + some additional epochs).\n",
      "2022-10-02 11:15:30 darts.models.forecasting.torch_forecasting_model WARNING: Attempting to retrain the model without resuming from a checkpoint. This is currently discouraged. Consider setting `save_checkpoints` to `True` and specifying `model_name` at model creation. Then call `model = TFTModel.load_from_checkpoint(model_name, best=False)`. Finally, train the model with `model.fit(..., epochs=new_epochs)` where `new_epochs` is the sum of (epochs already trained + some additional epochs).\n"
     ]
    },
    {
     "name": "stdout",
     "output_type": "stream",
     "text": [
      "44\n"
     ]
    },
    {
     "data": {
      "application/vnd.jupyter.widget-view+json": {
       "model_id": "7a6ff49d9c2640538fcfcda323e63041",
       "version_major": 2,
       "version_minor": 0
      },
      "text/plain": [
       "Training: 0it [00:00, ?it/s]"
      ]
     },
     "metadata": {},
     "output_type": "display_data"
    },
    {
     "data": {
      "application/vnd.jupyter.widget-view+json": {
       "model_id": "d865c4fcc3604e71b833bf322b9096aa",
       "version_major": 2,
       "version_minor": 0
      },
      "text/plain": [
       "Predicting: 19it [00:00, ?it/s]"
      ]
     },
     "metadata": {},
     "output_type": "display_data"
    },
    {
     "name": "stderr",
     "output_type": "stream",
     "text": [
      "[2022-10-02 11:15:31,536] INFO | darts.models.forecasting.torch_forecasting_model | Train dataset contains 76 samples.\n",
      "[2022-10-02 11:15:31,536] INFO | darts.models.forecasting.torch_forecasting_model | Train dataset contains 76 samples.\n",
      "2022-10-02 11:15:31 darts.models.forecasting.torch_forecasting_model INFO: Train dataset contains 76 samples.\n",
      "2022-10-02 11:15:31 pytorch_lightning.utilities.distributed INFO: GPU available: False, used: False\n",
      "2022-10-02 11:15:31 pytorch_lightning.utilities.distributed INFO: TPU available: False, using: 0 TPU cores\n",
      "2022-10-02 11:15:31 pytorch_lightning.utilities.distributed INFO: IPU available: False, using: 0 IPUs\n",
      "[2022-10-02 11:15:31,543] WARNING | darts.models.forecasting.torch_forecasting_model | Attempting to retrain the model without resuming from a checkpoint. This is currently discouraged. Consider setting `save_checkpoints` to `True` and specifying `model_name` at model creation. Then call `model = TFTModel.load_from_checkpoint(model_name, best=False)`. Finally, train the model with `model.fit(..., epochs=new_epochs)` where `new_epochs` is the sum of (epochs already trained + some additional epochs).\n",
      "[2022-10-02 11:15:31,543] WARNING | darts.models.forecasting.torch_forecasting_model | Attempting to retrain the model without resuming from a checkpoint. This is currently discouraged. Consider setting `save_checkpoints` to `True` and specifying `model_name` at model creation. Then call `model = TFTModel.load_from_checkpoint(model_name, best=False)`. Finally, train the model with `model.fit(..., epochs=new_epochs)` where `new_epochs` is the sum of (epochs already trained + some additional epochs).\n",
      "2022-10-02 11:15:31 darts.models.forecasting.torch_forecasting_model WARNING: Attempting to retrain the model without resuming from a checkpoint. This is currently discouraged. Consider setting `save_checkpoints` to `True` and specifying `model_name` at model creation. Then call `model = TFTModel.load_from_checkpoint(model_name, best=False)`. Finally, train the model with `model.fit(..., epochs=new_epochs)` where `new_epochs` is the sum of (epochs already trained + some additional epochs).\n"
     ]
    },
    {
     "name": "stdout",
     "output_type": "stream",
     "text": [
      "45\n"
     ]
    },
    {
     "data": {
      "application/vnd.jupyter.widget-view+json": {
       "model_id": "771d8f3b4a0a404e869c7b33234d8117",
       "version_major": 2,
       "version_minor": 0
      },
      "text/plain": [
       "Training: 0it [00:00, ?it/s]"
      ]
     },
     "metadata": {},
     "output_type": "display_data"
    },
    {
     "data": {
      "application/vnd.jupyter.widget-view+json": {
       "model_id": "69be56f2ba29482eb83338d9ed86ca0e",
       "version_major": 2,
       "version_minor": 0
      },
      "text/plain": [
       "Predicting: 19it [00:00, ?it/s]"
      ]
     },
     "metadata": {},
     "output_type": "display_data"
    },
    {
     "name": "stderr",
     "output_type": "stream",
     "text": [
      "[2022-10-02 11:15:32,220] INFO | darts.models.forecasting.torch_forecasting_model | Train dataset contains 77 samples.\n",
      "[2022-10-02 11:15:32,220] INFO | darts.models.forecasting.torch_forecasting_model | Train dataset contains 77 samples.\n",
      "2022-10-02 11:15:32 darts.models.forecasting.torch_forecasting_model INFO: Train dataset contains 77 samples.\n",
      "2022-10-02 11:15:32 pytorch_lightning.utilities.distributed INFO: GPU available: False, used: False\n",
      "2022-10-02 11:15:32 pytorch_lightning.utilities.distributed INFO: TPU available: False, using: 0 TPU cores\n",
      "2022-10-02 11:15:32 pytorch_lightning.utilities.distributed INFO: IPU available: False, using: 0 IPUs\n",
      "[2022-10-02 11:15:32,227] WARNING | darts.models.forecasting.torch_forecasting_model | Attempting to retrain the model without resuming from a checkpoint. This is currently discouraged. Consider setting `save_checkpoints` to `True` and specifying `model_name` at model creation. Then call `model = TFTModel.load_from_checkpoint(model_name, best=False)`. Finally, train the model with `model.fit(..., epochs=new_epochs)` where `new_epochs` is the sum of (epochs already trained + some additional epochs).\n",
      "[2022-10-02 11:15:32,227] WARNING | darts.models.forecasting.torch_forecasting_model | Attempting to retrain the model without resuming from a checkpoint. This is currently discouraged. Consider setting `save_checkpoints` to `True` and specifying `model_name` at model creation. Then call `model = TFTModel.load_from_checkpoint(model_name, best=False)`. Finally, train the model with `model.fit(..., epochs=new_epochs)` where `new_epochs` is the sum of (epochs already trained + some additional epochs).\n",
      "2022-10-02 11:15:32 darts.models.forecasting.torch_forecasting_model WARNING: Attempting to retrain the model without resuming from a checkpoint. This is currently discouraged. Consider setting `save_checkpoints` to `True` and specifying `model_name` at model creation. Then call `model = TFTModel.load_from_checkpoint(model_name, best=False)`. Finally, train the model with `model.fit(..., epochs=new_epochs)` where `new_epochs` is the sum of (epochs already trained + some additional epochs).\n"
     ]
    },
    {
     "name": "stdout",
     "output_type": "stream",
     "text": [
      "46\n"
     ]
    },
    {
     "data": {
      "application/vnd.jupyter.widget-view+json": {
       "model_id": "4c7c692313234d6db68eb02cd71fecc4",
       "version_major": 2,
       "version_minor": 0
      },
      "text/plain": [
       "Training: 0it [00:00, ?it/s]"
      ]
     },
     "metadata": {},
     "output_type": "display_data"
    },
    {
     "data": {
      "application/vnd.jupyter.widget-view+json": {
       "model_id": "6c7a57ba597143c08bc0e7d967a40e5e",
       "version_major": 2,
       "version_minor": 0
      },
      "text/plain": [
       "Predicting: 20it [00:00, ?it/s]"
      ]
     },
     "metadata": {},
     "output_type": "display_data"
    },
    {
     "name": "stderr",
     "output_type": "stream",
     "text": [
      "[2022-10-02 11:15:32,906] INFO | darts.models.forecasting.torch_forecasting_model | Train dataset contains 78 samples.\n",
      "[2022-10-02 11:15:32,906] INFO | darts.models.forecasting.torch_forecasting_model | Train dataset contains 78 samples.\n",
      "2022-10-02 11:15:32 darts.models.forecasting.torch_forecasting_model INFO: Train dataset contains 78 samples.\n",
      "2022-10-02 11:15:32 pytorch_lightning.utilities.distributed INFO: GPU available: False, used: False\n",
      "2022-10-02 11:15:32 pytorch_lightning.utilities.distributed INFO: TPU available: False, using: 0 TPU cores\n",
      "2022-10-02 11:15:32 pytorch_lightning.utilities.distributed INFO: IPU available: False, using: 0 IPUs\n",
      "[2022-10-02 11:15:32,912] WARNING | darts.models.forecasting.torch_forecasting_model | Attempting to retrain the model without resuming from a checkpoint. This is currently discouraged. Consider setting `save_checkpoints` to `True` and specifying `model_name` at model creation. Then call `model = TFTModel.load_from_checkpoint(model_name, best=False)`. Finally, train the model with `model.fit(..., epochs=new_epochs)` where `new_epochs` is the sum of (epochs already trained + some additional epochs).\n",
      "[2022-10-02 11:15:32,912] WARNING | darts.models.forecasting.torch_forecasting_model | Attempting to retrain the model without resuming from a checkpoint. This is currently discouraged. Consider setting `save_checkpoints` to `True` and specifying `model_name` at model creation. Then call `model = TFTModel.load_from_checkpoint(model_name, best=False)`. Finally, train the model with `model.fit(..., epochs=new_epochs)` where `new_epochs` is the sum of (epochs already trained + some additional epochs).\n",
      "2022-10-02 11:15:32 darts.models.forecasting.torch_forecasting_model WARNING: Attempting to retrain the model without resuming from a checkpoint. This is currently discouraged. Consider setting `save_checkpoints` to `True` and specifying `model_name` at model creation. Then call `model = TFTModel.load_from_checkpoint(model_name, best=False)`. Finally, train the model with `model.fit(..., epochs=new_epochs)` where `new_epochs` is the sum of (epochs already trained + some additional epochs).\n"
     ]
    },
    {
     "name": "stdout",
     "output_type": "stream",
     "text": [
      "47\n"
     ]
    },
    {
     "data": {
      "application/vnd.jupyter.widget-view+json": {
       "model_id": "e712d01ba74741f987e0ed33567bcf02",
       "version_major": 2,
       "version_minor": 0
      },
      "text/plain": [
       "Training: 0it [00:00, ?it/s]"
      ]
     },
     "metadata": {},
     "output_type": "display_data"
    },
    {
     "data": {
      "application/vnd.jupyter.widget-view+json": {
       "model_id": "eb9aafe8584146639d188adcdb5a7c5f",
       "version_major": 2,
       "version_minor": 0
      },
      "text/plain": [
       "Predicting: 20it [00:00, ?it/s]"
      ]
     },
     "metadata": {},
     "output_type": "display_data"
    },
    {
     "name": "stderr",
     "output_type": "stream",
     "text": [
      "[2022-10-02 11:15:33,574] INFO | darts.models.forecasting.torch_forecasting_model | Train dataset contains 79 samples.\n",
      "[2022-10-02 11:15:33,574] INFO | darts.models.forecasting.torch_forecasting_model | Train dataset contains 79 samples.\n",
      "2022-10-02 11:15:33 darts.models.forecasting.torch_forecasting_model INFO: Train dataset contains 79 samples.\n",
      "2022-10-02 11:15:33 pytorch_lightning.utilities.distributed INFO: GPU available: False, used: False\n",
      "2022-10-02 11:15:33 pytorch_lightning.utilities.distributed INFO: TPU available: False, using: 0 TPU cores\n",
      "2022-10-02 11:15:33 pytorch_lightning.utilities.distributed INFO: IPU available: False, using: 0 IPUs\n",
      "[2022-10-02 11:15:33,581] WARNING | darts.models.forecasting.torch_forecasting_model | Attempting to retrain the model without resuming from a checkpoint. This is currently discouraged. Consider setting `save_checkpoints` to `True` and specifying `model_name` at model creation. Then call `model = TFTModel.load_from_checkpoint(model_name, best=False)`. Finally, train the model with `model.fit(..., epochs=new_epochs)` where `new_epochs` is the sum of (epochs already trained + some additional epochs).\n",
      "[2022-10-02 11:15:33,581] WARNING | darts.models.forecasting.torch_forecasting_model | Attempting to retrain the model without resuming from a checkpoint. This is currently discouraged. Consider setting `save_checkpoints` to `True` and specifying `model_name` at model creation. Then call `model = TFTModel.load_from_checkpoint(model_name, best=False)`. Finally, train the model with `model.fit(..., epochs=new_epochs)` where `new_epochs` is the sum of (epochs already trained + some additional epochs).\n",
      "2022-10-02 11:15:33 darts.models.forecasting.torch_forecasting_model WARNING: Attempting to retrain the model without resuming from a checkpoint. This is currently discouraged. Consider setting `save_checkpoints` to `True` and specifying `model_name` at model creation. Then call `model = TFTModel.load_from_checkpoint(model_name, best=False)`. Finally, train the model with `model.fit(..., epochs=new_epochs)` where `new_epochs` is the sum of (epochs already trained + some additional epochs).\n"
     ]
    },
    {
     "name": "stdout",
     "output_type": "stream",
     "text": [
      "48\n"
     ]
    },
    {
     "data": {
      "application/vnd.jupyter.widget-view+json": {
       "model_id": "f3dd3f6e43b44a1eb4d228ec301eeaeb",
       "version_major": 2,
       "version_minor": 0
      },
      "text/plain": [
       "Training: 0it [00:00, ?it/s]"
      ]
     },
     "metadata": {},
     "output_type": "display_data"
    },
    {
     "data": {
      "application/vnd.jupyter.widget-view+json": {
       "model_id": "6448898868c748f4a86265c1512a300d",
       "version_major": 2,
       "version_minor": 0
      },
      "text/plain": [
       "Predicting: 20it [00:00, ?it/s]"
      ]
     },
     "metadata": {},
     "output_type": "display_data"
    },
    {
     "name": "stderr",
     "output_type": "stream",
     "text": [
      "[2022-10-02 11:15:34,245] INFO | darts.models.forecasting.torch_forecasting_model | Train dataset contains 80 samples.\n",
      "[2022-10-02 11:15:34,245] INFO | darts.models.forecasting.torch_forecasting_model | Train dataset contains 80 samples.\n",
      "2022-10-02 11:15:34 darts.models.forecasting.torch_forecasting_model INFO: Train dataset contains 80 samples.\n",
      "2022-10-02 11:15:34 pytorch_lightning.utilities.distributed INFO: GPU available: False, used: False\n",
      "2022-10-02 11:15:34 pytorch_lightning.utilities.distributed INFO: TPU available: False, using: 0 TPU cores\n",
      "2022-10-02 11:15:34 pytorch_lightning.utilities.distributed INFO: IPU available: False, using: 0 IPUs\n",
      "[2022-10-02 11:15:34,254] WARNING | darts.models.forecasting.torch_forecasting_model | Attempting to retrain the model without resuming from a checkpoint. This is currently discouraged. Consider setting `save_checkpoints` to `True` and specifying `model_name` at model creation. Then call `model = TFTModel.load_from_checkpoint(model_name, best=False)`. Finally, train the model with `model.fit(..., epochs=new_epochs)` where `new_epochs` is the sum of (epochs already trained + some additional epochs).\n",
      "[2022-10-02 11:15:34,254] WARNING | darts.models.forecasting.torch_forecasting_model | Attempting to retrain the model without resuming from a checkpoint. This is currently discouraged. Consider setting `save_checkpoints` to `True` and specifying `model_name` at model creation. Then call `model = TFTModel.load_from_checkpoint(model_name, best=False)`. Finally, train the model with `model.fit(..., epochs=new_epochs)` where `new_epochs` is the sum of (epochs already trained + some additional epochs).\n",
      "2022-10-02 11:15:34 darts.models.forecasting.torch_forecasting_model WARNING: Attempting to retrain the model without resuming from a checkpoint. This is currently discouraged. Consider setting `save_checkpoints` to `True` and specifying `model_name` at model creation. Then call `model = TFTModel.load_from_checkpoint(model_name, best=False)`. Finally, train the model with `model.fit(..., epochs=new_epochs)` where `new_epochs` is the sum of (epochs already trained + some additional epochs).\n"
     ]
    },
    {
     "name": "stdout",
     "output_type": "stream",
     "text": [
      "49\n"
     ]
    },
    {
     "data": {
      "application/vnd.jupyter.widget-view+json": {
       "model_id": "a64a994397f04aaca3965b5d7f682a8f",
       "version_major": 2,
       "version_minor": 0
      },
      "text/plain": [
       "Training: 0it [00:00, ?it/s]"
      ]
     },
     "metadata": {},
     "output_type": "display_data"
    },
    {
     "data": {
      "application/vnd.jupyter.widget-view+json": {
       "model_id": "d4c27cd4754f4a4b976a92e82535ec4c",
       "version_major": 2,
       "version_minor": 0
      },
      "text/plain": [
       "Predicting: 20it [00:00, ?it/s]"
      ]
     },
     "metadata": {},
     "output_type": "display_data"
    },
    {
     "name": "stderr",
     "output_type": "stream",
     "text": [
      "[2022-10-02 11:15:34,963] INFO | darts.models.forecasting.torch_forecasting_model | Train dataset contains 81 samples.\n",
      "[2022-10-02 11:15:34,963] INFO | darts.models.forecasting.torch_forecasting_model | Train dataset contains 81 samples.\n",
      "2022-10-02 11:15:34 darts.models.forecasting.torch_forecasting_model INFO: Train dataset contains 81 samples.\n",
      "2022-10-02 11:15:34 pytorch_lightning.utilities.distributed INFO: GPU available: False, used: False\n",
      "2022-10-02 11:15:34 pytorch_lightning.utilities.distributed INFO: TPU available: False, using: 0 TPU cores\n",
      "2022-10-02 11:15:34 pytorch_lightning.utilities.distributed INFO: IPU available: False, using: 0 IPUs\n",
      "[2022-10-02 11:15:34,970] WARNING | darts.models.forecasting.torch_forecasting_model | Attempting to retrain the model without resuming from a checkpoint. This is currently discouraged. Consider setting `save_checkpoints` to `True` and specifying `model_name` at model creation. Then call `model = TFTModel.load_from_checkpoint(model_name, best=False)`. Finally, train the model with `model.fit(..., epochs=new_epochs)` where `new_epochs` is the sum of (epochs already trained + some additional epochs).\n",
      "[2022-10-02 11:15:34,970] WARNING | darts.models.forecasting.torch_forecasting_model | Attempting to retrain the model without resuming from a checkpoint. This is currently discouraged. Consider setting `save_checkpoints` to `True` and specifying `model_name` at model creation. Then call `model = TFTModel.load_from_checkpoint(model_name, best=False)`. Finally, train the model with `model.fit(..., epochs=new_epochs)` where `new_epochs` is the sum of (epochs already trained + some additional epochs).\n",
      "2022-10-02 11:15:34 darts.models.forecasting.torch_forecasting_model WARNING: Attempting to retrain the model without resuming from a checkpoint. This is currently discouraged. Consider setting `save_checkpoints` to `True` and specifying `model_name` at model creation. Then call `model = TFTModel.load_from_checkpoint(model_name, best=False)`. Finally, train the model with `model.fit(..., epochs=new_epochs)` where `new_epochs` is the sum of (epochs already trained + some additional epochs).\n"
     ]
    },
    {
     "name": "stdout",
     "output_type": "stream",
     "text": [
      "50\n"
     ]
    },
    {
     "data": {
      "application/vnd.jupyter.widget-view+json": {
       "model_id": "638af1f3344d42dfbd2d76fdba31f040",
       "version_major": 2,
       "version_minor": 0
      },
      "text/plain": [
       "Training: 0it [00:00, ?it/s]"
      ]
     },
     "metadata": {},
     "output_type": "display_data"
    },
    {
     "data": {
      "application/vnd.jupyter.widget-view+json": {
       "model_id": "4c19f8dfd0bd4cf6b01d6111673a2502",
       "version_major": 2,
       "version_minor": 0
      },
      "text/plain": [
       "Predicting: 21it [00:00, ?it/s]"
      ]
     },
     "metadata": {},
     "output_type": "display_data"
    },
    {
     "name": "stderr",
     "output_type": "stream",
     "text": [
      "[2022-10-02 11:15:35,705] INFO | darts.models.forecasting.torch_forecasting_model | Train dataset contains 82 samples.\n",
      "[2022-10-02 11:15:35,705] INFO | darts.models.forecasting.torch_forecasting_model | Train dataset contains 82 samples.\n",
      "2022-10-02 11:15:35 darts.models.forecasting.torch_forecasting_model INFO: Train dataset contains 82 samples.\n",
      "2022-10-02 11:15:35 pytorch_lightning.utilities.distributed INFO: GPU available: False, used: False\n",
      "2022-10-02 11:15:35 pytorch_lightning.utilities.distributed INFO: TPU available: False, using: 0 TPU cores\n",
      "2022-10-02 11:15:35 pytorch_lightning.utilities.distributed INFO: IPU available: False, using: 0 IPUs\n",
      "[2022-10-02 11:15:35,713] WARNING | darts.models.forecasting.torch_forecasting_model | Attempting to retrain the model without resuming from a checkpoint. This is currently discouraged. Consider setting `save_checkpoints` to `True` and specifying `model_name` at model creation. Then call `model = TFTModel.load_from_checkpoint(model_name, best=False)`. Finally, train the model with `model.fit(..., epochs=new_epochs)` where `new_epochs` is the sum of (epochs already trained + some additional epochs).\n",
      "[2022-10-02 11:15:35,713] WARNING | darts.models.forecasting.torch_forecasting_model | Attempting to retrain the model without resuming from a checkpoint. This is currently discouraged. Consider setting `save_checkpoints` to `True` and specifying `model_name` at model creation. Then call `model = TFTModel.load_from_checkpoint(model_name, best=False)`. Finally, train the model with `model.fit(..., epochs=new_epochs)` where `new_epochs` is the sum of (epochs already trained + some additional epochs).\n",
      "2022-10-02 11:15:35 darts.models.forecasting.torch_forecasting_model WARNING: Attempting to retrain the model without resuming from a checkpoint. This is currently discouraged. Consider setting `save_checkpoints` to `True` and specifying `model_name` at model creation. Then call `model = TFTModel.load_from_checkpoint(model_name, best=False)`. Finally, train the model with `model.fit(..., epochs=new_epochs)` where `new_epochs` is the sum of (epochs already trained + some additional epochs).\n"
     ]
    },
    {
     "name": "stdout",
     "output_type": "stream",
     "text": [
      "51\n"
     ]
    },
    {
     "data": {
      "application/vnd.jupyter.widget-view+json": {
       "model_id": "add201fb6e4b456aa96579e3d1c7cfc2",
       "version_major": 2,
       "version_minor": 0
      },
      "text/plain": [
       "Training: 0it [00:00, ?it/s]"
      ]
     },
     "metadata": {},
     "output_type": "display_data"
    },
    {
     "data": {
      "application/vnd.jupyter.widget-view+json": {
       "model_id": "c46d1b7927684eeb88f225b9f7275def",
       "version_major": 2,
       "version_minor": 0
      },
      "text/plain": [
       "Predicting: 21it [00:00, ?it/s]"
      ]
     },
     "metadata": {},
     "output_type": "display_data"
    },
    {
     "name": "stderr",
     "output_type": "stream",
     "text": [
      "[2022-10-02 11:15:36,436] INFO | darts.models.forecasting.torch_forecasting_model | Train dataset contains 83 samples.\n",
      "[2022-10-02 11:15:36,436] INFO | darts.models.forecasting.torch_forecasting_model | Train dataset contains 83 samples.\n",
      "2022-10-02 11:15:36 darts.models.forecasting.torch_forecasting_model INFO: Train dataset contains 83 samples.\n",
      "2022-10-02 11:15:36 pytorch_lightning.utilities.distributed INFO: GPU available: False, used: False\n",
      "2022-10-02 11:15:36 pytorch_lightning.utilities.distributed INFO: TPU available: False, using: 0 TPU cores\n",
      "2022-10-02 11:15:36 pytorch_lightning.utilities.distributed INFO: IPU available: False, using: 0 IPUs\n",
      "[2022-10-02 11:15:36,443] WARNING | darts.models.forecasting.torch_forecasting_model | Attempting to retrain the model without resuming from a checkpoint. This is currently discouraged. Consider setting `save_checkpoints` to `True` and specifying `model_name` at model creation. Then call `model = TFTModel.load_from_checkpoint(model_name, best=False)`. Finally, train the model with `model.fit(..., epochs=new_epochs)` where `new_epochs` is the sum of (epochs already trained + some additional epochs).\n",
      "[2022-10-02 11:15:36,443] WARNING | darts.models.forecasting.torch_forecasting_model | Attempting to retrain the model without resuming from a checkpoint. This is currently discouraged. Consider setting `save_checkpoints` to `True` and specifying `model_name` at model creation. Then call `model = TFTModel.load_from_checkpoint(model_name, best=False)`. Finally, train the model with `model.fit(..., epochs=new_epochs)` where `new_epochs` is the sum of (epochs already trained + some additional epochs).\n",
      "2022-10-02 11:15:36 darts.models.forecasting.torch_forecasting_model WARNING: Attempting to retrain the model without resuming from a checkpoint. This is currently discouraged. Consider setting `save_checkpoints` to `True` and specifying `model_name` at model creation. Then call `model = TFTModel.load_from_checkpoint(model_name, best=False)`. Finally, train the model with `model.fit(..., epochs=new_epochs)` where `new_epochs` is the sum of (epochs already trained + some additional epochs).\n"
     ]
    },
    {
     "name": "stdout",
     "output_type": "stream",
     "text": [
      "52\n"
     ]
    },
    {
     "data": {
      "application/vnd.jupyter.widget-view+json": {
       "model_id": "a65788a1d1264bc3b7fa5716ceabe4dc",
       "version_major": 2,
       "version_minor": 0
      },
      "text/plain": [
       "Training: 0it [00:00, ?it/s]"
      ]
     },
     "metadata": {},
     "output_type": "display_data"
    },
    {
     "data": {
      "application/vnd.jupyter.widget-view+json": {
       "model_id": "352197ac82364e40a951aca6b08256b4",
       "version_major": 2,
       "version_minor": 0
      },
      "text/plain": [
       "Predicting: 21it [00:00, ?it/s]"
      ]
     },
     "metadata": {},
     "output_type": "display_data"
    },
    {
     "name": "stderr",
     "output_type": "stream",
     "text": [
      "[2022-10-02 11:15:37,272] INFO | darts.models.forecasting.torch_forecasting_model | Train dataset contains 84 samples.\n",
      "[2022-10-02 11:15:37,272] INFO | darts.models.forecasting.torch_forecasting_model | Train dataset contains 84 samples.\n",
      "2022-10-02 11:15:37 darts.models.forecasting.torch_forecasting_model INFO: Train dataset contains 84 samples.\n",
      "2022-10-02 11:15:37 pytorch_lightning.utilities.distributed INFO: GPU available: False, used: False\n",
      "2022-10-02 11:15:37 pytorch_lightning.utilities.distributed INFO: TPU available: False, using: 0 TPU cores\n",
      "2022-10-02 11:15:37 pytorch_lightning.utilities.distributed INFO: IPU available: False, using: 0 IPUs\n",
      "[2022-10-02 11:15:37,282] WARNING | darts.models.forecasting.torch_forecasting_model | Attempting to retrain the model without resuming from a checkpoint. This is currently discouraged. Consider setting `save_checkpoints` to `True` and specifying `model_name` at model creation. Then call `model = TFTModel.load_from_checkpoint(model_name, best=False)`. Finally, train the model with `model.fit(..., epochs=new_epochs)` where `new_epochs` is the sum of (epochs already trained + some additional epochs).\n",
      "[2022-10-02 11:15:37,282] WARNING | darts.models.forecasting.torch_forecasting_model | Attempting to retrain the model without resuming from a checkpoint. This is currently discouraged. Consider setting `save_checkpoints` to `True` and specifying `model_name` at model creation. Then call `model = TFTModel.load_from_checkpoint(model_name, best=False)`. Finally, train the model with `model.fit(..., epochs=new_epochs)` where `new_epochs` is the sum of (epochs already trained + some additional epochs).\n",
      "2022-10-02 11:15:37 darts.models.forecasting.torch_forecasting_model WARNING: Attempting to retrain the model without resuming from a checkpoint. This is currently discouraged. Consider setting `save_checkpoints` to `True` and specifying `model_name` at model creation. Then call `model = TFTModel.load_from_checkpoint(model_name, best=False)`. Finally, train the model with `model.fit(..., epochs=new_epochs)` where `new_epochs` is the sum of (epochs already trained + some additional epochs).\n"
     ]
    },
    {
     "name": "stdout",
     "output_type": "stream",
     "text": [
      "53\n"
     ]
    },
    {
     "data": {
      "application/vnd.jupyter.widget-view+json": {
       "model_id": "2a8e484a6adf4b7db2df0d0e9b746453",
       "version_major": 2,
       "version_minor": 0
      },
      "text/plain": [
       "Training: 0it [00:00, ?it/s]"
      ]
     },
     "metadata": {},
     "output_type": "display_data"
    },
    {
     "data": {
      "application/vnd.jupyter.widget-view+json": {
       "model_id": "4d93fd1ee2374937a6d591c436f7a83c",
       "version_major": 2,
       "version_minor": 0
      },
      "text/plain": [
       "Predicting: 21it [00:00, ?it/s]"
      ]
     },
     "metadata": {},
     "output_type": "display_data"
    },
    {
     "name": "stderr",
     "output_type": "stream",
     "text": [
      "[2022-10-02 11:15:38,025] INFO | darts.models.forecasting.torch_forecasting_model | Train dataset contains 85 samples.\n",
      "[2022-10-02 11:15:38,025] INFO | darts.models.forecasting.torch_forecasting_model | Train dataset contains 85 samples.\n",
      "2022-10-02 11:15:38 darts.models.forecasting.torch_forecasting_model INFO: Train dataset contains 85 samples.\n",
      "2022-10-02 11:15:38 pytorch_lightning.utilities.distributed INFO: GPU available: False, used: False\n",
      "2022-10-02 11:15:38 pytorch_lightning.utilities.distributed INFO: TPU available: False, using: 0 TPU cores\n",
      "2022-10-02 11:15:38 pytorch_lightning.utilities.distributed INFO: IPU available: False, using: 0 IPUs\n",
      "[2022-10-02 11:15:38,032] WARNING | darts.models.forecasting.torch_forecasting_model | Attempting to retrain the model without resuming from a checkpoint. This is currently discouraged. Consider setting `save_checkpoints` to `True` and specifying `model_name` at model creation. Then call `model = TFTModel.load_from_checkpoint(model_name, best=False)`. Finally, train the model with `model.fit(..., epochs=new_epochs)` where `new_epochs` is the sum of (epochs already trained + some additional epochs).\n",
      "[2022-10-02 11:15:38,032] WARNING | darts.models.forecasting.torch_forecasting_model | Attempting to retrain the model without resuming from a checkpoint. This is currently discouraged. Consider setting `save_checkpoints` to `True` and specifying `model_name` at model creation. Then call `model = TFTModel.load_from_checkpoint(model_name, best=False)`. Finally, train the model with `model.fit(..., epochs=new_epochs)` where `new_epochs` is the sum of (epochs already trained + some additional epochs).\n",
      "2022-10-02 11:15:38 darts.models.forecasting.torch_forecasting_model WARNING: Attempting to retrain the model without resuming from a checkpoint. This is currently discouraged. Consider setting `save_checkpoints` to `True` and specifying `model_name` at model creation. Then call `model = TFTModel.load_from_checkpoint(model_name, best=False)`. Finally, train the model with `model.fit(..., epochs=new_epochs)` where `new_epochs` is the sum of (epochs already trained + some additional epochs).\n"
     ]
    },
    {
     "name": "stdout",
     "output_type": "stream",
     "text": [
      "54\n"
     ]
    },
    {
     "data": {
      "application/vnd.jupyter.widget-view+json": {
       "model_id": "475843228dbf4af082cbe67ea11ccc75",
       "version_major": 2,
       "version_minor": 0
      },
      "text/plain": [
       "Training: 0it [00:00, ?it/s]"
      ]
     },
     "metadata": {},
     "output_type": "display_data"
    },
    {
     "data": {
      "application/vnd.jupyter.widget-view+json": {
       "model_id": "eadb544ef6c04a1c9220c8df194fced7",
       "version_major": 2,
       "version_minor": 0
      },
      "text/plain": [
       "Predicting: 22it [00:00, ?it/s]"
      ]
     },
     "metadata": {},
     "output_type": "display_data"
    },
    {
     "name": "stderr",
     "output_type": "stream",
     "text": [
      "[2022-10-02 11:15:38,787] INFO | darts.models.forecasting.torch_forecasting_model | Train dataset contains 86 samples.\n",
      "[2022-10-02 11:15:38,787] INFO | darts.models.forecasting.torch_forecasting_model | Train dataset contains 86 samples.\n",
      "2022-10-02 11:15:38 darts.models.forecasting.torch_forecasting_model INFO: Train dataset contains 86 samples.\n",
      "2022-10-02 11:15:38 pytorch_lightning.utilities.distributed INFO: GPU available: False, used: False\n",
      "2022-10-02 11:15:38 pytorch_lightning.utilities.distributed INFO: TPU available: False, using: 0 TPU cores\n",
      "2022-10-02 11:15:38 pytorch_lightning.utilities.distributed INFO: IPU available: False, using: 0 IPUs\n",
      "[2022-10-02 11:15:38,795] WARNING | darts.models.forecasting.torch_forecasting_model | Attempting to retrain the model without resuming from a checkpoint. This is currently discouraged. Consider setting `save_checkpoints` to `True` and specifying `model_name` at model creation. Then call `model = TFTModel.load_from_checkpoint(model_name, best=False)`. Finally, train the model with `model.fit(..., epochs=new_epochs)` where `new_epochs` is the sum of (epochs already trained + some additional epochs).\n",
      "[2022-10-02 11:15:38,795] WARNING | darts.models.forecasting.torch_forecasting_model | Attempting to retrain the model without resuming from a checkpoint. This is currently discouraged. Consider setting `save_checkpoints` to `True` and specifying `model_name` at model creation. Then call `model = TFTModel.load_from_checkpoint(model_name, best=False)`. Finally, train the model with `model.fit(..., epochs=new_epochs)` where `new_epochs` is the sum of (epochs already trained + some additional epochs).\n",
      "2022-10-02 11:15:38 darts.models.forecasting.torch_forecasting_model WARNING: Attempting to retrain the model without resuming from a checkpoint. This is currently discouraged. Consider setting `save_checkpoints` to `True` and specifying `model_name` at model creation. Then call `model = TFTModel.load_from_checkpoint(model_name, best=False)`. Finally, train the model with `model.fit(..., epochs=new_epochs)` where `new_epochs` is the sum of (epochs already trained + some additional epochs).\n"
     ]
    },
    {
     "name": "stdout",
     "output_type": "stream",
     "text": [
      "55\n"
     ]
    },
    {
     "data": {
      "application/vnd.jupyter.widget-view+json": {
       "model_id": "6ab39ad4002a48dc9f1961d9f3aeb22f",
       "version_major": 2,
       "version_minor": 0
      },
      "text/plain": [
       "Training: 0it [00:00, ?it/s]"
      ]
     },
     "metadata": {},
     "output_type": "display_data"
    },
    {
     "data": {
      "application/vnd.jupyter.widget-view+json": {
       "model_id": "956c7a2dd93b4d12a02c70d3c1cbe2ff",
       "version_major": 2,
       "version_minor": 0
      },
      "text/plain": [
       "Predicting: 22it [00:00, ?it/s]"
      ]
     },
     "metadata": {},
     "output_type": "display_data"
    },
    {
     "name": "stderr",
     "output_type": "stream",
     "text": [
      "[2022-10-02 11:15:39,531] INFO | darts.models.forecasting.torch_forecasting_model | Train dataset contains 87 samples.\n",
      "[2022-10-02 11:15:39,531] INFO | darts.models.forecasting.torch_forecasting_model | Train dataset contains 87 samples.\n",
      "2022-10-02 11:15:39 darts.models.forecasting.torch_forecasting_model INFO: Train dataset contains 87 samples.\n",
      "2022-10-02 11:15:39 pytorch_lightning.utilities.distributed INFO: GPU available: False, used: False\n",
      "2022-10-02 11:15:39 pytorch_lightning.utilities.distributed INFO: TPU available: False, using: 0 TPU cores\n",
      "2022-10-02 11:15:39 pytorch_lightning.utilities.distributed INFO: IPU available: False, using: 0 IPUs\n",
      "[2022-10-02 11:15:39,537] WARNING | darts.models.forecasting.torch_forecasting_model | Attempting to retrain the model without resuming from a checkpoint. This is currently discouraged. Consider setting `save_checkpoints` to `True` and specifying `model_name` at model creation. Then call `model = TFTModel.load_from_checkpoint(model_name, best=False)`. Finally, train the model with `model.fit(..., epochs=new_epochs)` where `new_epochs` is the sum of (epochs already trained + some additional epochs).\n",
      "[2022-10-02 11:15:39,537] WARNING | darts.models.forecasting.torch_forecasting_model | Attempting to retrain the model without resuming from a checkpoint. This is currently discouraged. Consider setting `save_checkpoints` to `True` and specifying `model_name` at model creation. Then call `model = TFTModel.load_from_checkpoint(model_name, best=False)`. Finally, train the model with `model.fit(..., epochs=new_epochs)` where `new_epochs` is the sum of (epochs already trained + some additional epochs).\n",
      "2022-10-02 11:15:39 darts.models.forecasting.torch_forecasting_model WARNING: Attempting to retrain the model without resuming from a checkpoint. This is currently discouraged. Consider setting `save_checkpoints` to `True` and specifying `model_name` at model creation. Then call `model = TFTModel.load_from_checkpoint(model_name, best=False)`. Finally, train the model with `model.fit(..., epochs=new_epochs)` where `new_epochs` is the sum of (epochs already trained + some additional epochs).\n"
     ]
    },
    {
     "name": "stdout",
     "output_type": "stream",
     "text": [
      "56\n"
     ]
    },
    {
     "data": {
      "application/vnd.jupyter.widget-view+json": {
       "model_id": "6b6da571917f4263a65ef70eba5be06a",
       "version_major": 2,
       "version_minor": 0
      },
      "text/plain": [
       "Training: 0it [00:00, ?it/s]"
      ]
     },
     "metadata": {},
     "output_type": "display_data"
    },
    {
     "data": {
      "application/vnd.jupyter.widget-view+json": {
       "model_id": "190fb10bfa3a48fb95e13f25aca935cc",
       "version_major": 2,
       "version_minor": 0
      },
      "text/plain": [
       "Predicting: 22it [00:00, ?it/s]"
      ]
     },
     "metadata": {},
     "output_type": "display_data"
    },
    {
     "name": "stderr",
     "output_type": "stream",
     "text": [
      "[2022-10-02 11:15:40,378] INFO | darts.models.forecasting.torch_forecasting_model | Train dataset contains 88 samples.\n",
      "[2022-10-02 11:15:40,378] INFO | darts.models.forecasting.torch_forecasting_model | Train dataset contains 88 samples.\n",
      "2022-10-02 11:15:40 darts.models.forecasting.torch_forecasting_model INFO: Train dataset contains 88 samples.\n",
      "2022-10-02 11:15:40 pytorch_lightning.utilities.distributed INFO: GPU available: False, used: False\n",
      "2022-10-02 11:15:40 pytorch_lightning.utilities.distributed INFO: TPU available: False, using: 0 TPU cores\n",
      "2022-10-02 11:15:40 pytorch_lightning.utilities.distributed INFO: IPU available: False, using: 0 IPUs\n",
      "[2022-10-02 11:15:40,388] WARNING | darts.models.forecasting.torch_forecasting_model | Attempting to retrain the model without resuming from a checkpoint. This is currently discouraged. Consider setting `save_checkpoints` to `True` and specifying `model_name` at model creation. Then call `model = TFTModel.load_from_checkpoint(model_name, best=False)`. Finally, train the model with `model.fit(..., epochs=new_epochs)` where `new_epochs` is the sum of (epochs already trained + some additional epochs).\n",
      "[2022-10-02 11:15:40,388] WARNING | darts.models.forecasting.torch_forecasting_model | Attempting to retrain the model without resuming from a checkpoint. This is currently discouraged. Consider setting `save_checkpoints` to `True` and specifying `model_name` at model creation. Then call `model = TFTModel.load_from_checkpoint(model_name, best=False)`. Finally, train the model with `model.fit(..., epochs=new_epochs)` where `new_epochs` is the sum of (epochs already trained + some additional epochs).\n",
      "2022-10-02 11:15:40 darts.models.forecasting.torch_forecasting_model WARNING: Attempting to retrain the model without resuming from a checkpoint. This is currently discouraged. Consider setting `save_checkpoints` to `True` and specifying `model_name` at model creation. Then call `model = TFTModel.load_from_checkpoint(model_name, best=False)`. Finally, train the model with `model.fit(..., epochs=new_epochs)` where `new_epochs` is the sum of (epochs already trained + some additional epochs).\n"
     ]
    },
    {
     "name": "stdout",
     "output_type": "stream",
     "text": [
      "57\n"
     ]
    },
    {
     "data": {
      "application/vnd.jupyter.widget-view+json": {
       "model_id": "f11e0b03cffd46a3a693c65f5f676a56",
       "version_major": 2,
       "version_minor": 0
      },
      "text/plain": [
       "Training: 0it [00:00, ?it/s]"
      ]
     },
     "metadata": {},
     "output_type": "display_data"
    },
    {
     "data": {
      "application/vnd.jupyter.widget-view+json": {
       "model_id": "d0c80fd327534f358dd2e2d0572d3123",
       "version_major": 2,
       "version_minor": 0
      },
      "text/plain": [
       "Predicting: 22it [00:00, ?it/s]"
      ]
     },
     "metadata": {},
     "output_type": "display_data"
    },
    {
     "name": "stderr",
     "output_type": "stream",
     "text": [
      "[2022-10-02 11:15:41,688] INFO | darts.models.forecasting.torch_forecasting_model | Train dataset contains 89 samples.\n",
      "[2022-10-02 11:15:41,688] INFO | darts.models.forecasting.torch_forecasting_model | Train dataset contains 89 samples.\n",
      "2022-10-02 11:15:41 darts.models.forecasting.torch_forecasting_model INFO: Train dataset contains 89 samples.\n",
      "2022-10-02 11:15:41 pytorch_lightning.utilities.distributed INFO: GPU available: False, used: False\n",
      "2022-10-02 11:15:41 pytorch_lightning.utilities.distributed INFO: TPU available: False, using: 0 TPU cores\n",
      "2022-10-02 11:15:41 pytorch_lightning.utilities.distributed INFO: IPU available: False, using: 0 IPUs\n",
      "[2022-10-02 11:15:41,697] WARNING | darts.models.forecasting.torch_forecasting_model | Attempting to retrain the model without resuming from a checkpoint. This is currently discouraged. Consider setting `save_checkpoints` to `True` and specifying `model_name` at model creation. Then call `model = TFTModel.load_from_checkpoint(model_name, best=False)`. Finally, train the model with `model.fit(..., epochs=new_epochs)` where `new_epochs` is the sum of (epochs already trained + some additional epochs).\n",
      "[2022-10-02 11:15:41,697] WARNING | darts.models.forecasting.torch_forecasting_model | Attempting to retrain the model without resuming from a checkpoint. This is currently discouraged. Consider setting `save_checkpoints` to `True` and specifying `model_name` at model creation. Then call `model = TFTModel.load_from_checkpoint(model_name, best=False)`. Finally, train the model with `model.fit(..., epochs=new_epochs)` where `new_epochs` is the sum of (epochs already trained + some additional epochs).\n",
      "2022-10-02 11:15:41 darts.models.forecasting.torch_forecasting_model WARNING: Attempting to retrain the model without resuming from a checkpoint. This is currently discouraged. Consider setting `save_checkpoints` to `True` and specifying `model_name` at model creation. Then call `model = TFTModel.load_from_checkpoint(model_name, best=False)`. Finally, train the model with `model.fit(..., epochs=new_epochs)` where `new_epochs` is the sum of (epochs already trained + some additional epochs).\n"
     ]
    },
    {
     "name": "stdout",
     "output_type": "stream",
     "text": [
      "58\n"
     ]
    },
    {
     "data": {
      "application/vnd.jupyter.widget-view+json": {
       "model_id": "33e1d546612d4454b69ac8d6ba044a7a",
       "version_major": 2,
       "version_minor": 0
      },
      "text/plain": [
       "Training: 0it [00:00, ?it/s]"
      ]
     },
     "metadata": {},
     "output_type": "display_data"
    },
    {
     "data": {
      "application/vnd.jupyter.widget-view+json": {
       "model_id": "80338829ef394bccb1e2e63703da6df9",
       "version_major": 2,
       "version_minor": 0
      },
      "text/plain": [
       "Predicting: 23it [00:00, ?it/s]"
      ]
     },
     "metadata": {},
     "output_type": "display_data"
    },
    {
     "name": "stderr",
     "output_type": "stream",
     "text": [
      "[2022-10-02 11:15:42,863] INFO | darts.models.forecasting.torch_forecasting_model | Train dataset contains 90 samples.\n",
      "[2022-10-02 11:15:42,863] INFO | darts.models.forecasting.torch_forecasting_model | Train dataset contains 90 samples.\n",
      "2022-10-02 11:15:42 darts.models.forecasting.torch_forecasting_model INFO: Train dataset contains 90 samples.\n",
      "2022-10-02 11:15:42 pytorch_lightning.utilities.distributed INFO: GPU available: False, used: False\n",
      "2022-10-02 11:15:42 pytorch_lightning.utilities.distributed INFO: TPU available: False, using: 0 TPU cores\n",
      "2022-10-02 11:15:42 pytorch_lightning.utilities.distributed INFO: IPU available: False, using: 0 IPUs\n",
      "[2022-10-02 11:15:42,874] WARNING | darts.models.forecasting.torch_forecasting_model | Attempting to retrain the model without resuming from a checkpoint. This is currently discouraged. Consider setting `save_checkpoints` to `True` and specifying `model_name` at model creation. Then call `model = TFTModel.load_from_checkpoint(model_name, best=False)`. Finally, train the model with `model.fit(..., epochs=new_epochs)` where `new_epochs` is the sum of (epochs already trained + some additional epochs).\n",
      "[2022-10-02 11:15:42,874] WARNING | darts.models.forecasting.torch_forecasting_model | Attempting to retrain the model without resuming from a checkpoint. This is currently discouraged. Consider setting `save_checkpoints` to `True` and specifying `model_name` at model creation. Then call `model = TFTModel.load_from_checkpoint(model_name, best=False)`. Finally, train the model with `model.fit(..., epochs=new_epochs)` where `new_epochs` is the sum of (epochs already trained + some additional epochs).\n",
      "2022-10-02 11:15:42 darts.models.forecasting.torch_forecasting_model WARNING: Attempting to retrain the model without resuming from a checkpoint. This is currently discouraged. Consider setting `save_checkpoints` to `True` and specifying `model_name` at model creation. Then call `model = TFTModel.load_from_checkpoint(model_name, best=False)`. Finally, train the model with `model.fit(..., epochs=new_epochs)` where `new_epochs` is the sum of (epochs already trained + some additional epochs).\n"
     ]
    },
    {
     "name": "stdout",
     "output_type": "stream",
     "text": [
      "59\n"
     ]
    },
    {
     "data": {
      "application/vnd.jupyter.widget-view+json": {
       "model_id": "ecf06e8e29e04a05ab11c4f85c2e298b",
       "version_major": 2,
       "version_minor": 0
      },
      "text/plain": [
       "Training: 0it [00:00, ?it/s]"
      ]
     },
     "metadata": {},
     "output_type": "display_data"
    },
    {
     "data": {
      "application/vnd.jupyter.widget-view+json": {
       "model_id": "9cdd3ad8ebeb4ba2882cbcb97354828c",
       "version_major": 2,
       "version_minor": 0
      },
      "text/plain": [
       "Predicting: 23it [00:00, ?it/s]"
      ]
     },
     "metadata": {},
     "output_type": "display_data"
    },
    {
     "name": "stderr",
     "output_type": "stream",
     "text": [
      "[2022-10-02 11:15:43,789] INFO | darts.models.forecasting.torch_forecasting_model | Train dataset contains 91 samples.\n",
      "[2022-10-02 11:15:43,789] INFO | darts.models.forecasting.torch_forecasting_model | Train dataset contains 91 samples.\n",
      "2022-10-02 11:15:43 darts.models.forecasting.torch_forecasting_model INFO: Train dataset contains 91 samples.\n",
      "2022-10-02 11:15:43 pytorch_lightning.utilities.distributed INFO: GPU available: False, used: False\n",
      "2022-10-02 11:15:43 pytorch_lightning.utilities.distributed INFO: TPU available: False, using: 0 TPU cores\n",
      "2022-10-02 11:15:43 pytorch_lightning.utilities.distributed INFO: IPU available: False, using: 0 IPUs\n",
      "[2022-10-02 11:15:43,796] WARNING | darts.models.forecasting.torch_forecasting_model | Attempting to retrain the model without resuming from a checkpoint. This is currently discouraged. Consider setting `save_checkpoints` to `True` and specifying `model_name` at model creation. Then call `model = TFTModel.load_from_checkpoint(model_name, best=False)`. Finally, train the model with `model.fit(..., epochs=new_epochs)` where `new_epochs` is the sum of (epochs already trained + some additional epochs).\n",
      "[2022-10-02 11:15:43,796] WARNING | darts.models.forecasting.torch_forecasting_model | Attempting to retrain the model without resuming from a checkpoint. This is currently discouraged. Consider setting `save_checkpoints` to `True` and specifying `model_name` at model creation. Then call `model = TFTModel.load_from_checkpoint(model_name, best=False)`. Finally, train the model with `model.fit(..., epochs=new_epochs)` where `new_epochs` is the sum of (epochs already trained + some additional epochs).\n",
      "2022-10-02 11:15:43 darts.models.forecasting.torch_forecasting_model WARNING: Attempting to retrain the model without resuming from a checkpoint. This is currently discouraged. Consider setting `save_checkpoints` to `True` and specifying `model_name` at model creation. Then call `model = TFTModel.load_from_checkpoint(model_name, best=False)`. Finally, train the model with `model.fit(..., epochs=new_epochs)` where `new_epochs` is the sum of (epochs already trained + some additional epochs).\n"
     ]
    },
    {
     "name": "stdout",
     "output_type": "stream",
     "text": [
      "60\n"
     ]
    },
    {
     "data": {
      "application/vnd.jupyter.widget-view+json": {
       "model_id": "02971e98bd66459eae759af292e8cce6",
       "version_major": 2,
       "version_minor": 0
      },
      "text/plain": [
       "Training: 0it [00:00, ?it/s]"
      ]
     },
     "metadata": {},
     "output_type": "display_data"
    },
    {
     "data": {
      "application/vnd.jupyter.widget-view+json": {
       "model_id": "12a962323d894d949b3a746af5b3112f",
       "version_major": 2,
       "version_minor": 0
      },
      "text/plain": [
       "Predicting: 23it [00:00, ?it/s]"
      ]
     },
     "metadata": {},
     "output_type": "display_data"
    },
    {
     "name": "stderr",
     "output_type": "stream",
     "text": [
      "[2022-10-02 11:15:44,675] INFO | darts.models.forecasting.torch_forecasting_model | Train dataset contains 92 samples.\n",
      "[2022-10-02 11:15:44,675] INFO | darts.models.forecasting.torch_forecasting_model | Train dataset contains 92 samples.\n",
      "2022-10-02 11:15:44 darts.models.forecasting.torch_forecasting_model INFO: Train dataset contains 92 samples.\n",
      "2022-10-02 11:15:44 pytorch_lightning.utilities.distributed INFO: GPU available: False, used: False\n",
      "2022-10-02 11:15:44 pytorch_lightning.utilities.distributed INFO: TPU available: False, using: 0 TPU cores\n",
      "2022-10-02 11:15:44 pytorch_lightning.utilities.distributed INFO: IPU available: False, using: 0 IPUs\n",
      "[2022-10-02 11:15:44,682] WARNING | darts.models.forecasting.torch_forecasting_model | Attempting to retrain the model without resuming from a checkpoint. This is currently discouraged. Consider setting `save_checkpoints` to `True` and specifying `model_name` at model creation. Then call `model = TFTModel.load_from_checkpoint(model_name, best=False)`. Finally, train the model with `model.fit(..., epochs=new_epochs)` where `new_epochs` is the sum of (epochs already trained + some additional epochs).\n",
      "[2022-10-02 11:15:44,682] WARNING | darts.models.forecasting.torch_forecasting_model | Attempting to retrain the model without resuming from a checkpoint. This is currently discouraged. Consider setting `save_checkpoints` to `True` and specifying `model_name` at model creation. Then call `model = TFTModel.load_from_checkpoint(model_name, best=False)`. Finally, train the model with `model.fit(..., epochs=new_epochs)` where `new_epochs` is the sum of (epochs already trained + some additional epochs).\n",
      "2022-10-02 11:15:44 darts.models.forecasting.torch_forecasting_model WARNING: Attempting to retrain the model without resuming from a checkpoint. This is currently discouraged. Consider setting `save_checkpoints` to `True` and specifying `model_name` at model creation. Then call `model = TFTModel.load_from_checkpoint(model_name, best=False)`. Finally, train the model with `model.fit(..., epochs=new_epochs)` where `new_epochs` is the sum of (epochs already trained + some additional epochs).\n"
     ]
    },
    {
     "name": "stdout",
     "output_type": "stream",
     "text": [
      "61\n"
     ]
    },
    {
     "data": {
      "application/vnd.jupyter.widget-view+json": {
       "model_id": "8c41b2eaabcc45d78ba194bc699d3887",
       "version_major": 2,
       "version_minor": 0
      },
      "text/plain": [
       "Training: 0it [00:00, ?it/s]"
      ]
     },
     "metadata": {},
     "output_type": "display_data"
    },
    {
     "data": {
      "application/vnd.jupyter.widget-view+json": {
       "model_id": "2c06fa65efed4b6791e13c41f4c53b1e",
       "version_major": 2,
       "version_minor": 0
      },
      "text/plain": [
       "Predicting: 23it [00:00, ?it/s]"
      ]
     },
     "metadata": {},
     "output_type": "display_data"
    },
    {
     "name": "stderr",
     "output_type": "stream",
     "text": [
      "[2022-10-02 11:15:45,638] INFO | darts.models.forecasting.torch_forecasting_model | Train dataset contains 93 samples.\n",
      "[2022-10-02 11:15:45,638] INFO | darts.models.forecasting.torch_forecasting_model | Train dataset contains 93 samples.\n",
      "2022-10-02 11:15:45 darts.models.forecasting.torch_forecasting_model INFO: Train dataset contains 93 samples.\n",
      "2022-10-02 11:15:45 pytorch_lightning.utilities.distributed INFO: GPU available: False, used: False\n",
      "2022-10-02 11:15:45 pytorch_lightning.utilities.distributed INFO: TPU available: False, using: 0 TPU cores\n",
      "2022-10-02 11:15:45 pytorch_lightning.utilities.distributed INFO: IPU available: False, using: 0 IPUs\n",
      "[2022-10-02 11:15:45,648] WARNING | darts.models.forecasting.torch_forecasting_model | Attempting to retrain the model without resuming from a checkpoint. This is currently discouraged. Consider setting `save_checkpoints` to `True` and specifying `model_name` at model creation. Then call `model = TFTModel.load_from_checkpoint(model_name, best=False)`. Finally, train the model with `model.fit(..., epochs=new_epochs)` where `new_epochs` is the sum of (epochs already trained + some additional epochs).\n",
      "[2022-10-02 11:15:45,648] WARNING | darts.models.forecasting.torch_forecasting_model | Attempting to retrain the model without resuming from a checkpoint. This is currently discouraged. Consider setting `save_checkpoints` to `True` and specifying `model_name` at model creation. Then call `model = TFTModel.load_from_checkpoint(model_name, best=False)`. Finally, train the model with `model.fit(..., epochs=new_epochs)` where `new_epochs` is the sum of (epochs already trained + some additional epochs).\n",
      "2022-10-02 11:15:45 darts.models.forecasting.torch_forecasting_model WARNING: Attempting to retrain the model without resuming from a checkpoint. This is currently discouraged. Consider setting `save_checkpoints` to `True` and specifying `model_name` at model creation. Then call `model = TFTModel.load_from_checkpoint(model_name, best=False)`. Finally, train the model with `model.fit(..., epochs=new_epochs)` where `new_epochs` is the sum of (epochs already trained + some additional epochs).\n"
     ]
    },
    {
     "name": "stdout",
     "output_type": "stream",
     "text": [
      "62\n"
     ]
    },
    {
     "data": {
      "application/vnd.jupyter.widget-view+json": {
       "model_id": "8a474d50bddb4d748793922fe0e07c49",
       "version_major": 2,
       "version_minor": 0
      },
      "text/plain": [
       "Training: 0it [00:00, ?it/s]"
      ]
     },
     "metadata": {},
     "output_type": "display_data"
    },
    {
     "data": {
      "application/vnd.jupyter.widget-view+json": {
       "model_id": "de8ea96a5d3246a294b7705d96ef8084",
       "version_major": 2,
       "version_minor": 0
      },
      "text/plain": [
       "Predicting: 24it [00:00, ?it/s]"
      ]
     },
     "metadata": {},
     "output_type": "display_data"
    },
    {
     "name": "stderr",
     "output_type": "stream",
     "text": [
      "[2022-10-02 11:15:46,630] INFO | darts.models.forecasting.torch_forecasting_model | Train dataset contains 94 samples.\n",
      "[2022-10-02 11:15:46,630] INFO | darts.models.forecasting.torch_forecasting_model | Train dataset contains 94 samples.\n",
      "2022-10-02 11:15:46 darts.models.forecasting.torch_forecasting_model INFO: Train dataset contains 94 samples.\n",
      "2022-10-02 11:15:46 pytorch_lightning.utilities.distributed INFO: GPU available: False, used: False\n",
      "2022-10-02 11:15:46 pytorch_lightning.utilities.distributed INFO: TPU available: False, using: 0 TPU cores\n",
      "2022-10-02 11:15:46 pytorch_lightning.utilities.distributed INFO: IPU available: False, using: 0 IPUs\n",
      "[2022-10-02 11:15:46,637] WARNING | darts.models.forecasting.torch_forecasting_model | Attempting to retrain the model without resuming from a checkpoint. This is currently discouraged. Consider setting `save_checkpoints` to `True` and specifying `model_name` at model creation. Then call `model = TFTModel.load_from_checkpoint(model_name, best=False)`. Finally, train the model with `model.fit(..., epochs=new_epochs)` where `new_epochs` is the sum of (epochs already trained + some additional epochs).\n",
      "[2022-10-02 11:15:46,637] WARNING | darts.models.forecasting.torch_forecasting_model | Attempting to retrain the model without resuming from a checkpoint. This is currently discouraged. Consider setting `save_checkpoints` to `True` and specifying `model_name` at model creation. Then call `model = TFTModel.load_from_checkpoint(model_name, best=False)`. Finally, train the model with `model.fit(..., epochs=new_epochs)` where `new_epochs` is the sum of (epochs already trained + some additional epochs).\n",
      "2022-10-02 11:15:46 darts.models.forecasting.torch_forecasting_model WARNING: Attempting to retrain the model without resuming from a checkpoint. This is currently discouraged. Consider setting `save_checkpoints` to `True` and specifying `model_name` at model creation. Then call `model = TFTModel.load_from_checkpoint(model_name, best=False)`. Finally, train the model with `model.fit(..., epochs=new_epochs)` where `new_epochs` is the sum of (epochs already trained + some additional epochs).\n"
     ]
    },
    {
     "name": "stdout",
     "output_type": "stream",
     "text": [
      "63\n"
     ]
    },
    {
     "data": {
      "application/vnd.jupyter.widget-view+json": {
       "model_id": "1fa05595b3d64c7eb7345426617745df",
       "version_major": 2,
       "version_minor": 0
      },
      "text/plain": [
       "Training: 0it [00:00, ?it/s]"
      ]
     },
     "metadata": {},
     "output_type": "display_data"
    },
    {
     "data": {
      "application/vnd.jupyter.widget-view+json": {
       "model_id": "01938b632a704412b34bc02e2c63d6bb",
       "version_major": 2,
       "version_minor": 0
      },
      "text/plain": [
       "Predicting: 24it [00:00, ?it/s]"
      ]
     },
     "metadata": {},
     "output_type": "display_data"
    },
    {
     "name": "stderr",
     "output_type": "stream",
     "text": [
      "[2022-10-02 11:15:47,563] INFO | darts.models.forecasting.torch_forecasting_model | Train dataset contains 95 samples.\n",
      "[2022-10-02 11:15:47,563] INFO | darts.models.forecasting.torch_forecasting_model | Train dataset contains 95 samples.\n",
      "2022-10-02 11:15:47 darts.models.forecasting.torch_forecasting_model INFO: Train dataset contains 95 samples.\n",
      "2022-10-02 11:15:47 pytorch_lightning.utilities.distributed INFO: GPU available: False, used: False\n",
      "2022-10-02 11:15:47 pytorch_lightning.utilities.distributed INFO: TPU available: False, using: 0 TPU cores\n",
      "2022-10-02 11:15:47 pytorch_lightning.utilities.distributed INFO: IPU available: False, using: 0 IPUs\n",
      "[2022-10-02 11:15:47,573] WARNING | darts.models.forecasting.torch_forecasting_model | Attempting to retrain the model without resuming from a checkpoint. This is currently discouraged. Consider setting `save_checkpoints` to `True` and specifying `model_name` at model creation. Then call `model = TFTModel.load_from_checkpoint(model_name, best=False)`. Finally, train the model with `model.fit(..., epochs=new_epochs)` where `new_epochs` is the sum of (epochs already trained + some additional epochs).\n",
      "[2022-10-02 11:15:47,573] WARNING | darts.models.forecasting.torch_forecasting_model | Attempting to retrain the model without resuming from a checkpoint. This is currently discouraged. Consider setting `save_checkpoints` to `True` and specifying `model_name` at model creation. Then call `model = TFTModel.load_from_checkpoint(model_name, best=False)`. Finally, train the model with `model.fit(..., epochs=new_epochs)` where `new_epochs` is the sum of (epochs already trained + some additional epochs).\n",
      "2022-10-02 11:15:47 darts.models.forecasting.torch_forecasting_model WARNING: Attempting to retrain the model without resuming from a checkpoint. This is currently discouraged. Consider setting `save_checkpoints` to `True` and specifying `model_name` at model creation. Then call `model = TFTModel.load_from_checkpoint(model_name, best=False)`. Finally, train the model with `model.fit(..., epochs=new_epochs)` where `new_epochs` is the sum of (epochs already trained + some additional epochs).\n"
     ]
    },
    {
     "name": "stdout",
     "output_type": "stream",
     "text": [
      "64\n"
     ]
    },
    {
     "data": {
      "application/vnd.jupyter.widget-view+json": {
       "model_id": "8e8cc02fe69245dfa0950be2a4a6da86",
       "version_major": 2,
       "version_minor": 0
      },
      "text/plain": [
       "Training: 0it [00:00, ?it/s]"
      ]
     },
     "metadata": {},
     "output_type": "display_data"
    },
    {
     "data": {
      "application/vnd.jupyter.widget-view+json": {
       "model_id": "6a22e8106101403eb6fa0e6052c0b880",
       "version_major": 2,
       "version_minor": 0
      },
      "text/plain": [
       "Predicting: 24it [00:00, ?it/s]"
      ]
     },
     "metadata": {},
     "output_type": "display_data"
    },
    {
     "name": "stderr",
     "output_type": "stream",
     "text": [
      "[2022-10-02 11:15:48,444] INFO | darts.models.forecasting.torch_forecasting_model | Train dataset contains 96 samples.\n",
      "[2022-10-02 11:15:48,444] INFO | darts.models.forecasting.torch_forecasting_model | Train dataset contains 96 samples.\n",
      "2022-10-02 11:15:48 darts.models.forecasting.torch_forecasting_model INFO: Train dataset contains 96 samples.\n",
      "2022-10-02 11:15:48 pytorch_lightning.utilities.distributed INFO: GPU available: False, used: False\n",
      "2022-10-02 11:15:48 pytorch_lightning.utilities.distributed INFO: TPU available: False, using: 0 TPU cores\n",
      "2022-10-02 11:15:48 pytorch_lightning.utilities.distributed INFO: IPU available: False, using: 0 IPUs\n",
      "[2022-10-02 11:15:48,451] WARNING | darts.models.forecasting.torch_forecasting_model | Attempting to retrain the model without resuming from a checkpoint. This is currently discouraged. Consider setting `save_checkpoints` to `True` and specifying `model_name` at model creation. Then call `model = TFTModel.load_from_checkpoint(model_name, best=False)`. Finally, train the model with `model.fit(..., epochs=new_epochs)` where `new_epochs` is the sum of (epochs already trained + some additional epochs).\n",
      "[2022-10-02 11:15:48,451] WARNING | darts.models.forecasting.torch_forecasting_model | Attempting to retrain the model without resuming from a checkpoint. This is currently discouraged. Consider setting `save_checkpoints` to `True` and specifying `model_name` at model creation. Then call `model = TFTModel.load_from_checkpoint(model_name, best=False)`. Finally, train the model with `model.fit(..., epochs=new_epochs)` where `new_epochs` is the sum of (epochs already trained + some additional epochs).\n",
      "2022-10-02 11:15:48 darts.models.forecasting.torch_forecasting_model WARNING: Attempting to retrain the model without resuming from a checkpoint. This is currently discouraged. Consider setting `save_checkpoints` to `True` and specifying `model_name` at model creation. Then call `model = TFTModel.load_from_checkpoint(model_name, best=False)`. Finally, train the model with `model.fit(..., epochs=new_epochs)` where `new_epochs` is the sum of (epochs already trained + some additional epochs).\n"
     ]
    },
    {
     "name": "stdout",
     "output_type": "stream",
     "text": [
      "65\n"
     ]
    },
    {
     "data": {
      "application/vnd.jupyter.widget-view+json": {
       "model_id": "013800ad12a44e2494bf3cdb734d0921",
       "version_major": 2,
       "version_minor": 0
      },
      "text/plain": [
       "Training: 0it [00:00, ?it/s]"
      ]
     },
     "metadata": {},
     "output_type": "display_data"
    },
    {
     "data": {
      "application/vnd.jupyter.widget-view+json": {
       "model_id": "f3d73d26d48644d89d2839a3e22697b1",
       "version_major": 2,
       "version_minor": 0
      },
      "text/plain": [
       "Predicting: 24it [00:00, ?it/s]"
      ]
     },
     "metadata": {},
     "output_type": "display_data"
    },
    {
     "name": "stderr",
     "output_type": "stream",
     "text": [
      "[2022-10-02 11:15:49,361] INFO | darts.models.forecasting.torch_forecasting_model | Train dataset contains 97 samples.\n",
      "[2022-10-02 11:15:49,361] INFO | darts.models.forecasting.torch_forecasting_model | Train dataset contains 97 samples.\n",
      "2022-10-02 11:15:49 darts.models.forecasting.torch_forecasting_model INFO: Train dataset contains 97 samples.\n",
      "2022-10-02 11:15:49 pytorch_lightning.utilities.distributed INFO: GPU available: False, used: False\n",
      "2022-10-02 11:15:49 pytorch_lightning.utilities.distributed INFO: TPU available: False, using: 0 TPU cores\n",
      "2022-10-02 11:15:49 pytorch_lightning.utilities.distributed INFO: IPU available: False, using: 0 IPUs\n",
      "[2022-10-02 11:15:49,370] WARNING | darts.models.forecasting.torch_forecasting_model | Attempting to retrain the model without resuming from a checkpoint. This is currently discouraged. Consider setting `save_checkpoints` to `True` and specifying `model_name` at model creation. Then call `model = TFTModel.load_from_checkpoint(model_name, best=False)`. Finally, train the model with `model.fit(..., epochs=new_epochs)` where `new_epochs` is the sum of (epochs already trained + some additional epochs).\n",
      "[2022-10-02 11:15:49,370] WARNING | darts.models.forecasting.torch_forecasting_model | Attempting to retrain the model without resuming from a checkpoint. This is currently discouraged. Consider setting `save_checkpoints` to `True` and specifying `model_name` at model creation. Then call `model = TFTModel.load_from_checkpoint(model_name, best=False)`. Finally, train the model with `model.fit(..., epochs=new_epochs)` where `new_epochs` is the sum of (epochs already trained + some additional epochs).\n",
      "2022-10-02 11:15:49 darts.models.forecasting.torch_forecasting_model WARNING: Attempting to retrain the model without resuming from a checkpoint. This is currently discouraged. Consider setting `save_checkpoints` to `True` and specifying `model_name` at model creation. Then call `model = TFTModel.load_from_checkpoint(model_name, best=False)`. Finally, train the model with `model.fit(..., epochs=new_epochs)` where `new_epochs` is the sum of (epochs already trained + some additional epochs).\n"
     ]
    },
    {
     "name": "stdout",
     "output_type": "stream",
     "text": [
      "66\n"
     ]
    },
    {
     "data": {
      "application/vnd.jupyter.widget-view+json": {
       "model_id": "d7a28379b6fe400f95de343b19809293",
       "version_major": 2,
       "version_minor": 0
      },
      "text/plain": [
       "Training: 0it [00:00, ?it/s]"
      ]
     },
     "metadata": {},
     "output_type": "display_data"
    },
    {
     "data": {
      "application/vnd.jupyter.widget-view+json": {
       "model_id": "0dc1ca80ae7248879a4b49c48d88a17e",
       "version_major": 2,
       "version_minor": 0
      },
      "text/plain": [
       "Predicting: 25it [00:00, ?it/s]"
      ]
     },
     "metadata": {},
     "output_type": "display_data"
    },
    {
     "name": "stderr",
     "output_type": "stream",
     "text": [
      "[2022-10-02 11:15:50,336] INFO | darts.models.forecasting.torch_forecasting_model | Train dataset contains 98 samples.\n",
      "[2022-10-02 11:15:50,336] INFO | darts.models.forecasting.torch_forecasting_model | Train dataset contains 98 samples.\n",
      "2022-10-02 11:15:50 darts.models.forecasting.torch_forecasting_model INFO: Train dataset contains 98 samples.\n",
      "2022-10-02 11:15:50 pytorch_lightning.utilities.distributed INFO: GPU available: False, used: False\n",
      "2022-10-02 11:15:50 pytorch_lightning.utilities.distributed INFO: TPU available: False, using: 0 TPU cores\n",
      "2022-10-02 11:15:50 pytorch_lightning.utilities.distributed INFO: IPU available: False, using: 0 IPUs\n",
      "[2022-10-02 11:15:50,349] WARNING | darts.models.forecasting.torch_forecasting_model | Attempting to retrain the model without resuming from a checkpoint. This is currently discouraged. Consider setting `save_checkpoints` to `True` and specifying `model_name` at model creation. Then call `model = TFTModel.load_from_checkpoint(model_name, best=False)`. Finally, train the model with `model.fit(..., epochs=new_epochs)` where `new_epochs` is the sum of (epochs already trained + some additional epochs).\n",
      "[2022-10-02 11:15:50,349] WARNING | darts.models.forecasting.torch_forecasting_model | Attempting to retrain the model without resuming from a checkpoint. This is currently discouraged. Consider setting `save_checkpoints` to `True` and specifying `model_name` at model creation. Then call `model = TFTModel.load_from_checkpoint(model_name, best=False)`. Finally, train the model with `model.fit(..., epochs=new_epochs)` where `new_epochs` is the sum of (epochs already trained + some additional epochs).\n",
      "2022-10-02 11:15:50 darts.models.forecasting.torch_forecasting_model WARNING: Attempting to retrain the model without resuming from a checkpoint. This is currently discouraged. Consider setting `save_checkpoints` to `True` and specifying `model_name` at model creation. Then call `model = TFTModel.load_from_checkpoint(model_name, best=False)`. Finally, train the model with `model.fit(..., epochs=new_epochs)` where `new_epochs` is the sum of (epochs already trained + some additional epochs).\n"
     ]
    },
    {
     "name": "stdout",
     "output_type": "stream",
     "text": [
      "67\n"
     ]
    },
    {
     "data": {
      "application/vnd.jupyter.widget-view+json": {
       "model_id": "ad48cb3e64464469badeb01cef354d4e",
       "version_major": 2,
       "version_minor": 0
      },
      "text/plain": [
       "Training: 0it [00:00, ?it/s]"
      ]
     },
     "metadata": {},
     "output_type": "display_data"
    },
    {
     "data": {
      "application/vnd.jupyter.widget-view+json": {
       "model_id": "8cef1f82ae594e9a8713eb17f9698050",
       "version_major": 2,
       "version_minor": 0
      },
      "text/plain": [
       "Predicting: 25it [00:00, ?it/s]"
      ]
     },
     "metadata": {},
     "output_type": "display_data"
    },
    {
     "name": "stderr",
     "output_type": "stream",
     "text": [
      "[2022-10-02 11:15:51,432] INFO | darts.models.forecasting.torch_forecasting_model | Train dataset contains 99 samples.\n",
      "[2022-10-02 11:15:51,432] INFO | darts.models.forecasting.torch_forecasting_model | Train dataset contains 99 samples.\n",
      "2022-10-02 11:15:51 darts.models.forecasting.torch_forecasting_model INFO: Train dataset contains 99 samples.\n",
      "2022-10-02 11:15:51 pytorch_lightning.utilities.distributed INFO: GPU available: False, used: False\n",
      "2022-10-02 11:15:51 pytorch_lightning.utilities.distributed INFO: TPU available: False, using: 0 TPU cores\n",
      "2022-10-02 11:15:51 pytorch_lightning.utilities.distributed INFO: IPU available: False, using: 0 IPUs\n",
      "[2022-10-02 11:15:51,444] WARNING | darts.models.forecasting.torch_forecasting_model | Attempting to retrain the model without resuming from a checkpoint. This is currently discouraged. Consider setting `save_checkpoints` to `True` and specifying `model_name` at model creation. Then call `model = TFTModel.load_from_checkpoint(model_name, best=False)`. Finally, train the model with `model.fit(..., epochs=new_epochs)` where `new_epochs` is the sum of (epochs already trained + some additional epochs).\n",
      "[2022-10-02 11:15:51,444] WARNING | darts.models.forecasting.torch_forecasting_model | Attempting to retrain the model without resuming from a checkpoint. This is currently discouraged. Consider setting `save_checkpoints` to `True` and specifying `model_name` at model creation. Then call `model = TFTModel.load_from_checkpoint(model_name, best=False)`. Finally, train the model with `model.fit(..., epochs=new_epochs)` where `new_epochs` is the sum of (epochs already trained + some additional epochs).\n",
      "2022-10-02 11:15:51 darts.models.forecasting.torch_forecasting_model WARNING: Attempting to retrain the model without resuming from a checkpoint. This is currently discouraged. Consider setting `save_checkpoints` to `True` and specifying `model_name` at model creation. Then call `model = TFTModel.load_from_checkpoint(model_name, best=False)`. Finally, train the model with `model.fit(..., epochs=new_epochs)` where `new_epochs` is the sum of (epochs already trained + some additional epochs).\n"
     ]
    },
    {
     "name": "stdout",
     "output_type": "stream",
     "text": [
      "68\n"
     ]
    },
    {
     "data": {
      "application/vnd.jupyter.widget-view+json": {
       "model_id": "ccee78d5c88144e0a6ecbd1aa4ea04dc",
       "version_major": 2,
       "version_minor": 0
      },
      "text/plain": [
       "Training: 0it [00:00, ?it/s]"
      ]
     },
     "metadata": {},
     "output_type": "display_data"
    },
    {
     "data": {
      "application/vnd.jupyter.widget-view+json": {
       "model_id": "ad615c7334564c71a64347cdda6bd7f8",
       "version_major": 2,
       "version_minor": 0
      },
      "text/plain": [
       "Predicting: 25it [00:00, ?it/s]"
      ]
     },
     "metadata": {},
     "output_type": "display_data"
    },
    {
     "name": "stderr",
     "output_type": "stream",
     "text": [
      "[2022-10-02 11:15:52,421] INFO | darts.models.forecasting.torch_forecasting_model | Train dataset contains 100 samples.\n",
      "[2022-10-02 11:15:52,421] INFO | darts.models.forecasting.torch_forecasting_model | Train dataset contains 100 samples.\n",
      "2022-10-02 11:15:52 darts.models.forecasting.torch_forecasting_model INFO: Train dataset contains 100 samples.\n",
      "2022-10-02 11:15:52 pytorch_lightning.utilities.distributed INFO: GPU available: False, used: False\n",
      "2022-10-02 11:15:52 pytorch_lightning.utilities.distributed INFO: TPU available: False, using: 0 TPU cores\n",
      "2022-10-02 11:15:52 pytorch_lightning.utilities.distributed INFO: IPU available: False, using: 0 IPUs\n",
      "[2022-10-02 11:15:52,429] WARNING | darts.models.forecasting.torch_forecasting_model | Attempting to retrain the model without resuming from a checkpoint. This is currently discouraged. Consider setting `save_checkpoints` to `True` and specifying `model_name` at model creation. Then call `model = TFTModel.load_from_checkpoint(model_name, best=False)`. Finally, train the model with `model.fit(..., epochs=new_epochs)` where `new_epochs` is the sum of (epochs already trained + some additional epochs).\n",
      "[2022-10-02 11:15:52,429] WARNING | darts.models.forecasting.torch_forecasting_model | Attempting to retrain the model without resuming from a checkpoint. This is currently discouraged. Consider setting `save_checkpoints` to `True` and specifying `model_name` at model creation. Then call `model = TFTModel.load_from_checkpoint(model_name, best=False)`. Finally, train the model with `model.fit(..., epochs=new_epochs)` where `new_epochs` is the sum of (epochs already trained + some additional epochs).\n",
      "2022-10-02 11:15:52 darts.models.forecasting.torch_forecasting_model WARNING: Attempting to retrain the model without resuming from a checkpoint. This is currently discouraged. Consider setting `save_checkpoints` to `True` and specifying `model_name` at model creation. Then call `model = TFTModel.load_from_checkpoint(model_name, best=False)`. Finally, train the model with `model.fit(..., epochs=new_epochs)` where `new_epochs` is the sum of (epochs already trained + some additional epochs).\n"
     ]
    },
    {
     "name": "stdout",
     "output_type": "stream",
     "text": [
      "69\n"
     ]
    },
    {
     "data": {
      "application/vnd.jupyter.widget-view+json": {
       "model_id": "814565c632224af79b433c16419bc40d",
       "version_major": 2,
       "version_minor": 0
      },
      "text/plain": [
       "Training: 0it [00:00, ?it/s]"
      ]
     },
     "metadata": {},
     "output_type": "display_data"
    },
    {
     "data": {
      "application/vnd.jupyter.widget-view+json": {
       "model_id": "27bd214d884a41f9b32b82791d4e48f9",
       "version_major": 2,
       "version_minor": 0
      },
      "text/plain": [
       "Predicting: 25it [00:00, ?it/s]"
      ]
     },
     "metadata": {},
     "output_type": "display_data"
    },
    {
     "name": "stderr",
     "output_type": "stream",
     "text": [
      "[2022-10-02 11:15:53,338] INFO | darts.models.forecasting.torch_forecasting_model | Train dataset contains 101 samples.\n",
      "[2022-10-02 11:15:53,338] INFO | darts.models.forecasting.torch_forecasting_model | Train dataset contains 101 samples.\n",
      "2022-10-02 11:15:53 darts.models.forecasting.torch_forecasting_model INFO: Train dataset contains 101 samples.\n",
      "2022-10-02 11:15:53 pytorch_lightning.utilities.distributed INFO: GPU available: False, used: False\n",
      "2022-10-02 11:15:53 pytorch_lightning.utilities.distributed INFO: TPU available: False, using: 0 TPU cores\n",
      "2022-10-02 11:15:53 pytorch_lightning.utilities.distributed INFO: IPU available: False, using: 0 IPUs\n",
      "[2022-10-02 11:15:53,344] WARNING | darts.models.forecasting.torch_forecasting_model | Attempting to retrain the model without resuming from a checkpoint. This is currently discouraged. Consider setting `save_checkpoints` to `True` and specifying `model_name` at model creation. Then call `model = TFTModel.load_from_checkpoint(model_name, best=False)`. Finally, train the model with `model.fit(..., epochs=new_epochs)` where `new_epochs` is the sum of (epochs already trained + some additional epochs).\n",
      "[2022-10-02 11:15:53,344] WARNING | darts.models.forecasting.torch_forecasting_model | Attempting to retrain the model without resuming from a checkpoint. This is currently discouraged. Consider setting `save_checkpoints` to `True` and specifying `model_name` at model creation. Then call `model = TFTModel.load_from_checkpoint(model_name, best=False)`. Finally, train the model with `model.fit(..., epochs=new_epochs)` where `new_epochs` is the sum of (epochs already trained + some additional epochs).\n",
      "2022-10-02 11:15:53 darts.models.forecasting.torch_forecasting_model WARNING: Attempting to retrain the model without resuming from a checkpoint. This is currently discouraged. Consider setting `save_checkpoints` to `True` and specifying `model_name` at model creation. Then call `model = TFTModel.load_from_checkpoint(model_name, best=False)`. Finally, train the model with `model.fit(..., epochs=new_epochs)` where `new_epochs` is the sum of (epochs already trained + some additional epochs).\n"
     ]
    },
    {
     "name": "stdout",
     "output_type": "stream",
     "text": [
      "70\n"
     ]
    },
    {
     "data": {
      "application/vnd.jupyter.widget-view+json": {
       "model_id": "46f15b11533a431c97843d05e88c93c5",
       "version_major": 2,
       "version_minor": 0
      },
      "text/plain": [
       "Training: 0it [00:00, ?it/s]"
      ]
     },
     "metadata": {},
     "output_type": "display_data"
    },
    {
     "data": {
      "application/vnd.jupyter.widget-view+json": {
       "model_id": "d620d90e207449f7a408b6c63f1b518a",
       "version_major": 2,
       "version_minor": 0
      },
      "text/plain": [
       "Predicting: 26it [00:00, ?it/s]"
      ]
     },
     "metadata": {},
     "output_type": "display_data"
    },
    {
     "name": "stderr",
     "output_type": "stream",
     "text": [
      "[2022-10-02 11:15:54,234] INFO | darts.models.forecasting.torch_forecasting_model | Train dataset contains 102 samples.\n",
      "[2022-10-02 11:15:54,234] INFO | darts.models.forecasting.torch_forecasting_model | Train dataset contains 102 samples.\n",
      "2022-10-02 11:15:54 darts.models.forecasting.torch_forecasting_model INFO: Train dataset contains 102 samples.\n",
      "2022-10-02 11:15:54 pytorch_lightning.utilities.distributed INFO: GPU available: False, used: False\n",
      "2022-10-02 11:15:54 pytorch_lightning.utilities.distributed INFO: TPU available: False, using: 0 TPU cores\n",
      "2022-10-02 11:15:54 pytorch_lightning.utilities.distributed INFO: IPU available: False, using: 0 IPUs\n",
      "[2022-10-02 11:15:54,241] WARNING | darts.models.forecasting.torch_forecasting_model | Attempting to retrain the model without resuming from a checkpoint. This is currently discouraged. Consider setting `save_checkpoints` to `True` and specifying `model_name` at model creation. Then call `model = TFTModel.load_from_checkpoint(model_name, best=False)`. Finally, train the model with `model.fit(..., epochs=new_epochs)` where `new_epochs` is the sum of (epochs already trained + some additional epochs).\n",
      "[2022-10-02 11:15:54,241] WARNING | darts.models.forecasting.torch_forecasting_model | Attempting to retrain the model without resuming from a checkpoint. This is currently discouraged. Consider setting `save_checkpoints` to `True` and specifying `model_name` at model creation. Then call `model = TFTModel.load_from_checkpoint(model_name, best=False)`. Finally, train the model with `model.fit(..., epochs=new_epochs)` where `new_epochs` is the sum of (epochs already trained + some additional epochs).\n",
      "2022-10-02 11:15:54 darts.models.forecasting.torch_forecasting_model WARNING: Attempting to retrain the model without resuming from a checkpoint. This is currently discouraged. Consider setting `save_checkpoints` to `True` and specifying `model_name` at model creation. Then call `model = TFTModel.load_from_checkpoint(model_name, best=False)`. Finally, train the model with `model.fit(..., epochs=new_epochs)` where `new_epochs` is the sum of (epochs already trained + some additional epochs).\n"
     ]
    },
    {
     "name": "stdout",
     "output_type": "stream",
     "text": [
      "71\n"
     ]
    },
    {
     "data": {
      "application/vnd.jupyter.widget-view+json": {
       "model_id": "919737bdbebb440283f4519d7547a52a",
       "version_major": 2,
       "version_minor": 0
      },
      "text/plain": [
       "Training: 0it [00:00, ?it/s]"
      ]
     },
     "metadata": {},
     "output_type": "display_data"
    },
    {
     "data": {
      "application/vnd.jupyter.widget-view+json": {
       "model_id": "625a1d1a5e714f49864a834e3749c82e",
       "version_major": 2,
       "version_minor": 0
      },
      "text/plain": [
       "Predicting: 26it [00:00, ?it/s]"
      ]
     },
     "metadata": {},
     "output_type": "display_data"
    },
    {
     "name": "stderr",
     "output_type": "stream",
     "text": [
      "[2022-10-02 11:15:55,154] INFO | darts.models.forecasting.torch_forecasting_model | Train dataset contains 103 samples.\n",
      "[2022-10-02 11:15:55,154] INFO | darts.models.forecasting.torch_forecasting_model | Train dataset contains 103 samples.\n",
      "2022-10-02 11:15:55 darts.models.forecasting.torch_forecasting_model INFO: Train dataset contains 103 samples.\n",
      "2022-10-02 11:15:55 pytorch_lightning.utilities.distributed INFO: GPU available: False, used: False\n",
      "2022-10-02 11:15:55 pytorch_lightning.utilities.distributed INFO: TPU available: False, using: 0 TPU cores\n",
      "2022-10-02 11:15:55 pytorch_lightning.utilities.distributed INFO: IPU available: False, using: 0 IPUs\n",
      "[2022-10-02 11:15:55,162] WARNING | darts.models.forecasting.torch_forecasting_model | Attempting to retrain the model without resuming from a checkpoint. This is currently discouraged. Consider setting `save_checkpoints` to `True` and specifying `model_name` at model creation. Then call `model = TFTModel.load_from_checkpoint(model_name, best=False)`. Finally, train the model with `model.fit(..., epochs=new_epochs)` where `new_epochs` is the sum of (epochs already trained + some additional epochs).\n",
      "[2022-10-02 11:15:55,162] WARNING | darts.models.forecasting.torch_forecasting_model | Attempting to retrain the model without resuming from a checkpoint. This is currently discouraged. Consider setting `save_checkpoints` to `True` and specifying `model_name` at model creation. Then call `model = TFTModel.load_from_checkpoint(model_name, best=False)`. Finally, train the model with `model.fit(..., epochs=new_epochs)` where `new_epochs` is the sum of (epochs already trained + some additional epochs).\n",
      "2022-10-02 11:15:55 darts.models.forecasting.torch_forecasting_model WARNING: Attempting to retrain the model without resuming from a checkpoint. This is currently discouraged. Consider setting `save_checkpoints` to `True` and specifying `model_name` at model creation. Then call `model = TFTModel.load_from_checkpoint(model_name, best=False)`. Finally, train the model with `model.fit(..., epochs=new_epochs)` where `new_epochs` is the sum of (epochs already trained + some additional epochs).\n"
     ]
    },
    {
     "name": "stdout",
     "output_type": "stream",
     "text": [
      "72\n"
     ]
    },
    {
     "data": {
      "application/vnd.jupyter.widget-view+json": {
       "model_id": "85d8a7e9305d4a3597c9708187d64920",
       "version_major": 2,
       "version_minor": 0
      },
      "text/plain": [
       "Training: 0it [00:00, ?it/s]"
      ]
     },
     "metadata": {},
     "output_type": "display_data"
    },
    {
     "data": {
      "application/vnd.jupyter.widget-view+json": {
       "model_id": "e40e5227a84a481d932918515b620dc8",
       "version_major": 2,
       "version_minor": 0
      },
      "text/plain": [
       "Predicting: 26it [00:00, ?it/s]"
      ]
     },
     "metadata": {},
     "output_type": "display_data"
    },
    {
     "name": "stderr",
     "output_type": "stream",
     "text": [
      "[2022-10-02 11:15:56,152] INFO | darts.models.forecasting.torch_forecasting_model | Train dataset contains 104 samples.\n",
      "[2022-10-02 11:15:56,152] INFO | darts.models.forecasting.torch_forecasting_model | Train dataset contains 104 samples.\n",
      "2022-10-02 11:15:56 darts.models.forecasting.torch_forecasting_model INFO: Train dataset contains 104 samples.\n",
      "2022-10-02 11:15:56 pytorch_lightning.utilities.distributed INFO: GPU available: False, used: False\n",
      "2022-10-02 11:15:56 pytorch_lightning.utilities.distributed INFO: TPU available: False, using: 0 TPU cores\n",
      "2022-10-02 11:15:56 pytorch_lightning.utilities.distributed INFO: IPU available: False, using: 0 IPUs\n",
      "[2022-10-02 11:15:56,160] WARNING | darts.models.forecasting.torch_forecasting_model | Attempting to retrain the model without resuming from a checkpoint. This is currently discouraged. Consider setting `save_checkpoints` to `True` and specifying `model_name` at model creation. Then call `model = TFTModel.load_from_checkpoint(model_name, best=False)`. Finally, train the model with `model.fit(..., epochs=new_epochs)` where `new_epochs` is the sum of (epochs already trained + some additional epochs).\n",
      "[2022-10-02 11:15:56,160] WARNING | darts.models.forecasting.torch_forecasting_model | Attempting to retrain the model without resuming from a checkpoint. This is currently discouraged. Consider setting `save_checkpoints` to `True` and specifying `model_name` at model creation. Then call `model = TFTModel.load_from_checkpoint(model_name, best=False)`. Finally, train the model with `model.fit(..., epochs=new_epochs)` where `new_epochs` is the sum of (epochs already trained + some additional epochs).\n",
      "2022-10-02 11:15:56 darts.models.forecasting.torch_forecasting_model WARNING: Attempting to retrain the model without resuming from a checkpoint. This is currently discouraged. Consider setting `save_checkpoints` to `True` and specifying `model_name` at model creation. Then call `model = TFTModel.load_from_checkpoint(model_name, best=False)`. Finally, train the model with `model.fit(..., epochs=new_epochs)` where `new_epochs` is the sum of (epochs already trained + some additional epochs).\n"
     ]
    },
    {
     "name": "stdout",
     "output_type": "stream",
     "text": [
      "73\n"
     ]
    },
    {
     "data": {
      "application/vnd.jupyter.widget-view+json": {
       "model_id": "7cef3e50b1914edba00846e5a1556f65",
       "version_major": 2,
       "version_minor": 0
      },
      "text/plain": [
       "Training: 0it [00:00, ?it/s]"
      ]
     },
     "metadata": {},
     "output_type": "display_data"
    },
    {
     "data": {
      "application/vnd.jupyter.widget-view+json": {
       "model_id": "f98299021bf64dc49c8ba6a55eb6dcca",
       "version_major": 2,
       "version_minor": 0
      },
      "text/plain": [
       "Predicting: 26it [00:00, ?it/s]"
      ]
     },
     "metadata": {},
     "output_type": "display_data"
    },
    {
     "name": "stderr",
     "output_type": "stream",
     "text": [
      "[2022-10-02 11:15:57,290] INFO | darts.models.forecasting.torch_forecasting_model | Train dataset contains 105 samples.\n",
      "[2022-10-02 11:15:57,290] INFO | darts.models.forecasting.torch_forecasting_model | Train dataset contains 105 samples.\n",
      "2022-10-02 11:15:57 darts.models.forecasting.torch_forecasting_model INFO: Train dataset contains 105 samples.\n",
      "2022-10-02 11:15:57 pytorch_lightning.utilities.distributed INFO: GPU available: False, used: False\n",
      "2022-10-02 11:15:57 pytorch_lightning.utilities.distributed INFO: TPU available: False, using: 0 TPU cores\n",
      "2022-10-02 11:15:57 pytorch_lightning.utilities.distributed INFO: IPU available: False, using: 0 IPUs\n",
      "[2022-10-02 11:15:57,308] WARNING | darts.models.forecasting.torch_forecasting_model | Attempting to retrain the model without resuming from a checkpoint. This is currently discouraged. Consider setting `save_checkpoints` to `True` and specifying `model_name` at model creation. Then call `model = TFTModel.load_from_checkpoint(model_name, best=False)`. Finally, train the model with `model.fit(..., epochs=new_epochs)` where `new_epochs` is the sum of (epochs already trained + some additional epochs).\n",
      "[2022-10-02 11:15:57,308] WARNING | darts.models.forecasting.torch_forecasting_model | Attempting to retrain the model without resuming from a checkpoint. This is currently discouraged. Consider setting `save_checkpoints` to `True` and specifying `model_name` at model creation. Then call `model = TFTModel.load_from_checkpoint(model_name, best=False)`. Finally, train the model with `model.fit(..., epochs=new_epochs)` where `new_epochs` is the sum of (epochs already trained + some additional epochs).\n",
      "2022-10-02 11:15:57 darts.models.forecasting.torch_forecasting_model WARNING: Attempting to retrain the model without resuming from a checkpoint. This is currently discouraged. Consider setting `save_checkpoints` to `True` and specifying `model_name` at model creation. Then call `model = TFTModel.load_from_checkpoint(model_name, best=False)`. Finally, train the model with `model.fit(..., epochs=new_epochs)` where `new_epochs` is the sum of (epochs already trained + some additional epochs).\n"
     ]
    },
    {
     "name": "stdout",
     "output_type": "stream",
     "text": [
      "74\n"
     ]
    },
    {
     "data": {
      "application/vnd.jupyter.widget-view+json": {
       "model_id": "10f443177d4644b3addd177b8c565d44",
       "version_major": 2,
       "version_minor": 0
      },
      "text/plain": [
       "Training: 0it [00:00, ?it/s]"
      ]
     },
     "metadata": {},
     "output_type": "display_data"
    },
    {
     "data": {
      "application/vnd.jupyter.widget-view+json": {
       "model_id": "7524bea61821495299a58cccb073fda6",
       "version_major": 2,
       "version_minor": 0
      },
      "text/plain": [
       "Predicting: 27it [00:00, ?it/s]"
      ]
     },
     "metadata": {},
     "output_type": "display_data"
    },
    {
     "name": "stderr",
     "output_type": "stream",
     "text": [
      "[2022-10-02 11:15:58,617] INFO | darts.models.forecasting.torch_forecasting_model | Train dataset contains 106 samples.\n",
      "[2022-10-02 11:15:58,617] INFO | darts.models.forecasting.torch_forecasting_model | Train dataset contains 106 samples.\n",
      "2022-10-02 11:15:58 darts.models.forecasting.torch_forecasting_model INFO: Train dataset contains 106 samples.\n",
      "2022-10-02 11:15:58 pytorch_lightning.utilities.distributed INFO: GPU available: False, used: False\n",
      "2022-10-02 11:15:58 pytorch_lightning.utilities.distributed INFO: TPU available: False, using: 0 TPU cores\n",
      "2022-10-02 11:15:58 pytorch_lightning.utilities.distributed INFO: IPU available: False, using: 0 IPUs\n",
      "[2022-10-02 11:15:58,627] WARNING | darts.models.forecasting.torch_forecasting_model | Attempting to retrain the model without resuming from a checkpoint. This is currently discouraged. Consider setting `save_checkpoints` to `True` and specifying `model_name` at model creation. Then call `model = TFTModel.load_from_checkpoint(model_name, best=False)`. Finally, train the model with `model.fit(..., epochs=new_epochs)` where `new_epochs` is the sum of (epochs already trained + some additional epochs).\n",
      "[2022-10-02 11:15:58,627] WARNING | darts.models.forecasting.torch_forecasting_model | Attempting to retrain the model without resuming from a checkpoint. This is currently discouraged. Consider setting `save_checkpoints` to `True` and specifying `model_name` at model creation. Then call `model = TFTModel.load_from_checkpoint(model_name, best=False)`. Finally, train the model with `model.fit(..., epochs=new_epochs)` where `new_epochs` is the sum of (epochs already trained + some additional epochs).\n",
      "2022-10-02 11:15:58 darts.models.forecasting.torch_forecasting_model WARNING: Attempting to retrain the model without resuming from a checkpoint. This is currently discouraged. Consider setting `save_checkpoints` to `True` and specifying `model_name` at model creation. Then call `model = TFTModel.load_from_checkpoint(model_name, best=False)`. Finally, train the model with `model.fit(..., epochs=new_epochs)` where `new_epochs` is the sum of (epochs already trained + some additional epochs).\n"
     ]
    },
    {
     "name": "stdout",
     "output_type": "stream",
     "text": [
      "75\n"
     ]
    },
    {
     "data": {
      "application/vnd.jupyter.widget-view+json": {
       "model_id": "7dadeb3bd39e45ca9f8e2f6e1a2369b8",
       "version_major": 2,
       "version_minor": 0
      },
      "text/plain": [
       "Training: 0it [00:00, ?it/s]"
      ]
     },
     "metadata": {},
     "output_type": "display_data"
    },
    {
     "data": {
      "application/vnd.jupyter.widget-view+json": {
       "model_id": "f13def906f284e9d83ccba47b9b78a73",
       "version_major": 2,
       "version_minor": 0
      },
      "text/plain": [
       "Predicting: 27it [00:00, ?it/s]"
      ]
     },
     "metadata": {},
     "output_type": "display_data"
    },
    {
     "name": "stderr",
     "output_type": "stream",
     "text": [
      "[2022-10-02 11:15:59,953] INFO | darts.models.forecasting.torch_forecasting_model | Train dataset contains 107 samples.\n",
      "[2022-10-02 11:15:59,953] INFO | darts.models.forecasting.torch_forecasting_model | Train dataset contains 107 samples.\n",
      "2022-10-02 11:15:59 darts.models.forecasting.torch_forecasting_model INFO: Train dataset contains 107 samples.\n",
      "2022-10-02 11:15:59 pytorch_lightning.utilities.distributed INFO: GPU available: False, used: False\n",
      "2022-10-02 11:15:59 pytorch_lightning.utilities.distributed INFO: TPU available: False, using: 0 TPU cores\n",
      "2022-10-02 11:15:59 pytorch_lightning.utilities.distributed INFO: IPU available: False, using: 0 IPUs\n",
      "[2022-10-02 11:15:59,964] WARNING | darts.models.forecasting.torch_forecasting_model | Attempting to retrain the model without resuming from a checkpoint. This is currently discouraged. Consider setting `save_checkpoints` to `True` and specifying `model_name` at model creation. Then call `model = TFTModel.load_from_checkpoint(model_name, best=False)`. Finally, train the model with `model.fit(..., epochs=new_epochs)` where `new_epochs` is the sum of (epochs already trained + some additional epochs).\n",
      "[2022-10-02 11:15:59,964] WARNING | darts.models.forecasting.torch_forecasting_model | Attempting to retrain the model without resuming from a checkpoint. This is currently discouraged. Consider setting `save_checkpoints` to `True` and specifying `model_name` at model creation. Then call `model = TFTModel.load_from_checkpoint(model_name, best=False)`. Finally, train the model with `model.fit(..., epochs=new_epochs)` where `new_epochs` is the sum of (epochs already trained + some additional epochs).\n",
      "2022-10-02 11:15:59 darts.models.forecasting.torch_forecasting_model WARNING: Attempting to retrain the model without resuming from a checkpoint. This is currently discouraged. Consider setting `save_checkpoints` to `True` and specifying `model_name` at model creation. Then call `model = TFTModel.load_from_checkpoint(model_name, best=False)`. Finally, train the model with `model.fit(..., epochs=new_epochs)` where `new_epochs` is the sum of (epochs already trained + some additional epochs).\n"
     ]
    },
    {
     "name": "stdout",
     "output_type": "stream",
     "text": [
      "76\n"
     ]
    },
    {
     "data": {
      "application/vnd.jupyter.widget-view+json": {
       "model_id": "bfa27172d99e4efc8f61c600ebf1cfad",
       "version_major": 2,
       "version_minor": 0
      },
      "text/plain": [
       "Training: 0it [00:00, ?it/s]"
      ]
     },
     "metadata": {},
     "output_type": "display_data"
    },
    {
     "data": {
      "application/vnd.jupyter.widget-view+json": {
       "model_id": "5bc6b0f3deed4d6bb097aa88c8ab0806",
       "version_major": 2,
       "version_minor": 0
      },
      "text/plain": [
       "Predicting: 27it [00:00, ?it/s]"
      ]
     },
     "metadata": {},
     "output_type": "display_data"
    },
    {
     "name": "stderr",
     "output_type": "stream",
     "text": [
      "[2022-10-02 11:16:01,090] INFO | darts.models.forecasting.torch_forecasting_model | Train dataset contains 108 samples.\n",
      "[2022-10-02 11:16:01,090] INFO | darts.models.forecasting.torch_forecasting_model | Train dataset contains 108 samples.\n",
      "2022-10-02 11:16:01 darts.models.forecasting.torch_forecasting_model INFO: Train dataset contains 108 samples.\n",
      "2022-10-02 11:16:01 pytorch_lightning.utilities.distributed INFO: GPU available: False, used: False\n",
      "2022-10-02 11:16:01 pytorch_lightning.utilities.distributed INFO: TPU available: False, using: 0 TPU cores\n",
      "2022-10-02 11:16:01 pytorch_lightning.utilities.distributed INFO: IPU available: False, using: 0 IPUs\n",
      "[2022-10-02 11:16:01,099] WARNING | darts.models.forecasting.torch_forecasting_model | Attempting to retrain the model without resuming from a checkpoint. This is currently discouraged. Consider setting `save_checkpoints` to `True` and specifying `model_name` at model creation. Then call `model = TFTModel.load_from_checkpoint(model_name, best=False)`. Finally, train the model with `model.fit(..., epochs=new_epochs)` where `new_epochs` is the sum of (epochs already trained + some additional epochs).\n",
      "[2022-10-02 11:16:01,099] WARNING | darts.models.forecasting.torch_forecasting_model | Attempting to retrain the model without resuming from a checkpoint. This is currently discouraged. Consider setting `save_checkpoints` to `True` and specifying `model_name` at model creation. Then call `model = TFTModel.load_from_checkpoint(model_name, best=False)`. Finally, train the model with `model.fit(..., epochs=new_epochs)` where `new_epochs` is the sum of (epochs already trained + some additional epochs).\n",
      "2022-10-02 11:16:01 darts.models.forecasting.torch_forecasting_model WARNING: Attempting to retrain the model without resuming from a checkpoint. This is currently discouraged. Consider setting `save_checkpoints` to `True` and specifying `model_name` at model creation. Then call `model = TFTModel.load_from_checkpoint(model_name, best=False)`. Finally, train the model with `model.fit(..., epochs=new_epochs)` where `new_epochs` is the sum of (epochs already trained + some additional epochs).\n"
     ]
    },
    {
     "name": "stdout",
     "output_type": "stream",
     "text": [
      "77\n"
     ]
    },
    {
     "data": {
      "application/vnd.jupyter.widget-view+json": {
       "model_id": "59553baa56024171a1846db38f6221d2",
       "version_major": 2,
       "version_minor": 0
      },
      "text/plain": [
       "Training: 0it [00:00, ?it/s]"
      ]
     },
     "metadata": {},
     "output_type": "display_data"
    },
    {
     "data": {
      "application/vnd.jupyter.widget-view+json": {
       "model_id": "80a951e5a57e49f894d0cebd3573d9cc",
       "version_major": 2,
       "version_minor": 0
      },
      "text/plain": [
       "Predicting: 27it [00:00, ?it/s]"
      ]
     },
     "metadata": {},
     "output_type": "display_data"
    },
    {
     "name": "stderr",
     "output_type": "stream",
     "text": [
      "[2022-10-02 11:16:02,118] INFO | darts.models.forecasting.torch_forecasting_model | Train dataset contains 109 samples.\n",
      "[2022-10-02 11:16:02,118] INFO | darts.models.forecasting.torch_forecasting_model | Train dataset contains 109 samples.\n",
      "2022-10-02 11:16:02 darts.models.forecasting.torch_forecasting_model INFO: Train dataset contains 109 samples.\n",
      "2022-10-02 11:16:02 pytorch_lightning.utilities.distributed INFO: GPU available: False, used: False\n",
      "2022-10-02 11:16:02 pytorch_lightning.utilities.distributed INFO: TPU available: False, using: 0 TPU cores\n",
      "2022-10-02 11:16:02 pytorch_lightning.utilities.distributed INFO: IPU available: False, using: 0 IPUs\n",
      "[2022-10-02 11:16:02,129] WARNING | darts.models.forecasting.torch_forecasting_model | Attempting to retrain the model without resuming from a checkpoint. This is currently discouraged. Consider setting `save_checkpoints` to `True` and specifying `model_name` at model creation. Then call `model = TFTModel.load_from_checkpoint(model_name, best=False)`. Finally, train the model with `model.fit(..., epochs=new_epochs)` where `new_epochs` is the sum of (epochs already trained + some additional epochs).\n",
      "[2022-10-02 11:16:02,129] WARNING | darts.models.forecasting.torch_forecasting_model | Attempting to retrain the model without resuming from a checkpoint. This is currently discouraged. Consider setting `save_checkpoints` to `True` and specifying `model_name` at model creation. Then call `model = TFTModel.load_from_checkpoint(model_name, best=False)`. Finally, train the model with `model.fit(..., epochs=new_epochs)` where `new_epochs` is the sum of (epochs already trained + some additional epochs).\n",
      "2022-10-02 11:16:02 darts.models.forecasting.torch_forecasting_model WARNING: Attempting to retrain the model without resuming from a checkpoint. This is currently discouraged. Consider setting `save_checkpoints` to `True` and specifying `model_name` at model creation. Then call `model = TFTModel.load_from_checkpoint(model_name, best=False)`. Finally, train the model with `model.fit(..., epochs=new_epochs)` where `new_epochs` is the sum of (epochs already trained + some additional epochs).\n"
     ]
    },
    {
     "name": "stdout",
     "output_type": "stream",
     "text": [
      "78\n"
     ]
    },
    {
     "data": {
      "application/vnd.jupyter.widget-view+json": {
       "model_id": "cd0dd1b7182947beacf2a3c6faadb751",
       "version_major": 2,
       "version_minor": 0
      },
      "text/plain": [
       "Training: 0it [00:00, ?it/s]"
      ]
     },
     "metadata": {},
     "output_type": "display_data"
    },
    {
     "data": {
      "application/vnd.jupyter.widget-view+json": {
       "model_id": "6850fd84b78d4737be16d6c658b9dced",
       "version_major": 2,
       "version_minor": 0
      },
      "text/plain": [
       "Predicting: 28it [00:00, ?it/s]"
      ]
     },
     "metadata": {},
     "output_type": "display_data"
    },
    {
     "name": "stderr",
     "output_type": "stream",
     "text": [
      "[2022-10-02 11:16:03,263] INFO | darts.models.forecasting.torch_forecasting_model | Train dataset contains 110 samples.\n",
      "[2022-10-02 11:16:03,263] INFO | darts.models.forecasting.torch_forecasting_model | Train dataset contains 110 samples.\n",
      "2022-10-02 11:16:03 darts.models.forecasting.torch_forecasting_model INFO: Train dataset contains 110 samples.\n",
      "2022-10-02 11:16:03 pytorch_lightning.utilities.distributed INFO: GPU available: False, used: False\n",
      "2022-10-02 11:16:03 pytorch_lightning.utilities.distributed INFO: TPU available: False, using: 0 TPU cores\n",
      "2022-10-02 11:16:03 pytorch_lightning.utilities.distributed INFO: IPU available: False, using: 0 IPUs\n",
      "[2022-10-02 11:16:03,272] WARNING | darts.models.forecasting.torch_forecasting_model | Attempting to retrain the model without resuming from a checkpoint. This is currently discouraged. Consider setting `save_checkpoints` to `True` and specifying `model_name` at model creation. Then call `model = TFTModel.load_from_checkpoint(model_name, best=False)`. Finally, train the model with `model.fit(..., epochs=new_epochs)` where `new_epochs` is the sum of (epochs already trained + some additional epochs).\n",
      "[2022-10-02 11:16:03,272] WARNING | darts.models.forecasting.torch_forecasting_model | Attempting to retrain the model without resuming from a checkpoint. This is currently discouraged. Consider setting `save_checkpoints` to `True` and specifying `model_name` at model creation. Then call `model = TFTModel.load_from_checkpoint(model_name, best=False)`. Finally, train the model with `model.fit(..., epochs=new_epochs)` where `new_epochs` is the sum of (epochs already trained + some additional epochs).\n",
      "2022-10-02 11:16:03 darts.models.forecasting.torch_forecasting_model WARNING: Attempting to retrain the model without resuming from a checkpoint. This is currently discouraged. Consider setting `save_checkpoints` to `True` and specifying `model_name` at model creation. Then call `model = TFTModel.load_from_checkpoint(model_name, best=False)`. Finally, train the model with `model.fit(..., epochs=new_epochs)` where `new_epochs` is the sum of (epochs already trained + some additional epochs).\n"
     ]
    },
    {
     "name": "stdout",
     "output_type": "stream",
     "text": [
      "79\n"
     ]
    },
    {
     "data": {
      "application/vnd.jupyter.widget-view+json": {
       "model_id": "18be7c9d16b5458c964ddf0811104c64",
       "version_major": 2,
       "version_minor": 0
      },
      "text/plain": [
       "Training: 0it [00:00, ?it/s]"
      ]
     },
     "metadata": {},
     "output_type": "display_data"
    },
    {
     "data": {
      "application/vnd.jupyter.widget-view+json": {
       "model_id": "04fb2c26b3b64a8d95d32db69089ac3b",
       "version_major": 2,
       "version_minor": 0
      },
      "text/plain": [
       "Predicting: 28it [00:00, ?it/s]"
      ]
     },
     "metadata": {},
     "output_type": "display_data"
    },
    {
     "name": "stderr",
     "output_type": "stream",
     "text": [
      "[2022-10-02 11:16:04,300] INFO | darts.models.forecasting.torch_forecasting_model | Train dataset contains 111 samples.\n",
      "[2022-10-02 11:16:04,300] INFO | darts.models.forecasting.torch_forecasting_model | Train dataset contains 111 samples.\n",
      "2022-10-02 11:16:04 darts.models.forecasting.torch_forecasting_model INFO: Train dataset contains 111 samples.\n",
      "2022-10-02 11:16:04 pytorch_lightning.utilities.distributed INFO: GPU available: False, used: False\n",
      "2022-10-02 11:16:04 pytorch_lightning.utilities.distributed INFO: TPU available: False, using: 0 TPU cores\n",
      "2022-10-02 11:16:04 pytorch_lightning.utilities.distributed INFO: IPU available: False, using: 0 IPUs\n",
      "[2022-10-02 11:16:04,313] WARNING | darts.models.forecasting.torch_forecasting_model | Attempting to retrain the model without resuming from a checkpoint. This is currently discouraged. Consider setting `save_checkpoints` to `True` and specifying `model_name` at model creation. Then call `model = TFTModel.load_from_checkpoint(model_name, best=False)`. Finally, train the model with `model.fit(..., epochs=new_epochs)` where `new_epochs` is the sum of (epochs already trained + some additional epochs).\n",
      "[2022-10-02 11:16:04,313] WARNING | darts.models.forecasting.torch_forecasting_model | Attempting to retrain the model without resuming from a checkpoint. This is currently discouraged. Consider setting `save_checkpoints` to `True` and specifying `model_name` at model creation. Then call `model = TFTModel.load_from_checkpoint(model_name, best=False)`. Finally, train the model with `model.fit(..., epochs=new_epochs)` where `new_epochs` is the sum of (epochs already trained + some additional epochs).\n",
      "2022-10-02 11:16:04 darts.models.forecasting.torch_forecasting_model WARNING: Attempting to retrain the model without resuming from a checkpoint. This is currently discouraged. Consider setting `save_checkpoints` to `True` and specifying `model_name` at model creation. Then call `model = TFTModel.load_from_checkpoint(model_name, best=False)`. Finally, train the model with `model.fit(..., epochs=new_epochs)` where `new_epochs` is the sum of (epochs already trained + some additional epochs).\n"
     ]
    },
    {
     "name": "stdout",
     "output_type": "stream",
     "text": [
      "80\n"
     ]
    },
    {
     "data": {
      "application/vnd.jupyter.widget-view+json": {
       "model_id": "75fd462955d545c6894e4b8ff352bb03",
       "version_major": 2,
       "version_minor": 0
      },
      "text/plain": [
       "Training: 0it [00:00, ?it/s]"
      ]
     },
     "metadata": {},
     "output_type": "display_data"
    },
    {
     "data": {
      "application/vnd.jupyter.widget-view+json": {
       "model_id": "2a8dcb68c20f46fe829520f55f590d2a",
       "version_major": 2,
       "version_minor": 0
      },
      "text/plain": [
       "Predicting: 28it [00:00, ?it/s]"
      ]
     },
     "metadata": {},
     "output_type": "display_data"
    },
    {
     "name": "stderr",
     "output_type": "stream",
     "text": [
      "[2022-10-02 11:16:05,361] INFO | darts.models.forecasting.torch_forecasting_model | Train dataset contains 112 samples.\n",
      "[2022-10-02 11:16:05,361] INFO | darts.models.forecasting.torch_forecasting_model | Train dataset contains 112 samples.\n",
      "2022-10-02 11:16:05 darts.models.forecasting.torch_forecasting_model INFO: Train dataset contains 112 samples.\n",
      "2022-10-02 11:16:05 pytorch_lightning.utilities.distributed INFO: GPU available: False, used: False\n",
      "2022-10-02 11:16:05 pytorch_lightning.utilities.distributed INFO: TPU available: False, using: 0 TPU cores\n",
      "2022-10-02 11:16:05 pytorch_lightning.utilities.distributed INFO: IPU available: False, using: 0 IPUs\n",
      "[2022-10-02 11:16:05,369] WARNING | darts.models.forecasting.torch_forecasting_model | Attempting to retrain the model without resuming from a checkpoint. This is currently discouraged. Consider setting `save_checkpoints` to `True` and specifying `model_name` at model creation. Then call `model = TFTModel.load_from_checkpoint(model_name, best=False)`. Finally, train the model with `model.fit(..., epochs=new_epochs)` where `new_epochs` is the sum of (epochs already trained + some additional epochs).\n",
      "[2022-10-02 11:16:05,369] WARNING | darts.models.forecasting.torch_forecasting_model | Attempting to retrain the model without resuming from a checkpoint. This is currently discouraged. Consider setting `save_checkpoints` to `True` and specifying `model_name` at model creation. Then call `model = TFTModel.load_from_checkpoint(model_name, best=False)`. Finally, train the model with `model.fit(..., epochs=new_epochs)` where `new_epochs` is the sum of (epochs already trained + some additional epochs).\n",
      "2022-10-02 11:16:05 darts.models.forecasting.torch_forecasting_model WARNING: Attempting to retrain the model without resuming from a checkpoint. This is currently discouraged. Consider setting `save_checkpoints` to `True` and specifying `model_name` at model creation. Then call `model = TFTModel.load_from_checkpoint(model_name, best=False)`. Finally, train the model with `model.fit(..., epochs=new_epochs)` where `new_epochs` is the sum of (epochs already trained + some additional epochs).\n"
     ]
    },
    {
     "name": "stdout",
     "output_type": "stream",
     "text": [
      "81\n"
     ]
    },
    {
     "data": {
      "application/vnd.jupyter.widget-view+json": {
       "model_id": "7cb38a9b287e4cce91ea92986915ac49",
       "version_major": 2,
       "version_minor": 0
      },
      "text/plain": [
       "Training: 0it [00:00, ?it/s]"
      ]
     },
     "metadata": {},
     "output_type": "display_data"
    },
    {
     "data": {
      "application/vnd.jupyter.widget-view+json": {
       "model_id": "9925e3b0b9d9443495a0ad6307e4e55f",
       "version_major": 2,
       "version_minor": 0
      },
      "text/plain": [
       "Predicting: 28it [00:00, ?it/s]"
      ]
     },
     "metadata": {},
     "output_type": "display_data"
    },
    {
     "name": "stderr",
     "output_type": "stream",
     "text": [
      "[2022-10-02 11:16:06,764] INFO | darts.models.forecasting.torch_forecasting_model | Train dataset contains 113 samples.\n",
      "[2022-10-02 11:16:06,764] INFO | darts.models.forecasting.torch_forecasting_model | Train dataset contains 113 samples.\n",
      "2022-10-02 11:16:06 darts.models.forecasting.torch_forecasting_model INFO: Train dataset contains 113 samples.\n",
      "2022-10-02 11:16:06 pytorch_lightning.utilities.distributed INFO: GPU available: False, used: False\n",
      "2022-10-02 11:16:06 pytorch_lightning.utilities.distributed INFO: TPU available: False, using: 0 TPU cores\n",
      "2022-10-02 11:16:06 pytorch_lightning.utilities.distributed INFO: IPU available: False, using: 0 IPUs\n",
      "[2022-10-02 11:16:06,781] WARNING | darts.models.forecasting.torch_forecasting_model | Attempting to retrain the model without resuming from a checkpoint. This is currently discouraged. Consider setting `save_checkpoints` to `True` and specifying `model_name` at model creation. Then call `model = TFTModel.load_from_checkpoint(model_name, best=False)`. Finally, train the model with `model.fit(..., epochs=new_epochs)` where `new_epochs` is the sum of (epochs already trained + some additional epochs).\n",
      "[2022-10-02 11:16:06,781] WARNING | darts.models.forecasting.torch_forecasting_model | Attempting to retrain the model without resuming from a checkpoint. This is currently discouraged. Consider setting `save_checkpoints` to `True` and specifying `model_name` at model creation. Then call `model = TFTModel.load_from_checkpoint(model_name, best=False)`. Finally, train the model with `model.fit(..., epochs=new_epochs)` where `new_epochs` is the sum of (epochs already trained + some additional epochs).\n",
      "2022-10-02 11:16:06 darts.models.forecasting.torch_forecasting_model WARNING: Attempting to retrain the model without resuming from a checkpoint. This is currently discouraged. Consider setting `save_checkpoints` to `True` and specifying `model_name` at model creation. Then call `model = TFTModel.load_from_checkpoint(model_name, best=False)`. Finally, train the model with `model.fit(..., epochs=new_epochs)` where `new_epochs` is the sum of (epochs already trained + some additional epochs).\n"
     ]
    },
    {
     "name": "stdout",
     "output_type": "stream",
     "text": [
      "82\n"
     ]
    },
    {
     "data": {
      "application/vnd.jupyter.widget-view+json": {
       "model_id": "eaad3aa5a149482db0cea8c8a9d45ec5",
       "version_major": 2,
       "version_minor": 0
      },
      "text/plain": [
       "Training: 0it [00:00, ?it/s]"
      ]
     },
     "metadata": {},
     "output_type": "display_data"
    },
    {
     "data": {
      "application/vnd.jupyter.widget-view+json": {
       "model_id": "f12903a38bee4472b8b38c3583d4f970",
       "version_major": 2,
       "version_minor": 0
      },
      "text/plain": [
       "Predicting: 29it [00:00, ?it/s]"
      ]
     },
     "metadata": {},
     "output_type": "display_data"
    },
    {
     "name": "stderr",
     "output_type": "stream",
     "text": [
      "[2022-10-02 11:16:08,398] INFO | darts.models.forecasting.torch_forecasting_model | Train dataset contains 114 samples.\n",
      "[2022-10-02 11:16:08,398] INFO | darts.models.forecasting.torch_forecasting_model | Train dataset contains 114 samples.\n",
      "2022-10-02 11:16:08 darts.models.forecasting.torch_forecasting_model INFO: Train dataset contains 114 samples.\n",
      "2022-10-02 11:16:08 pytorch_lightning.utilities.distributed INFO: GPU available: False, used: False\n",
      "2022-10-02 11:16:08 pytorch_lightning.utilities.distributed INFO: TPU available: False, using: 0 TPU cores\n",
      "2022-10-02 11:16:08 pytorch_lightning.utilities.distributed INFO: IPU available: False, using: 0 IPUs\n",
      "[2022-10-02 11:16:08,409] WARNING | darts.models.forecasting.torch_forecasting_model | Attempting to retrain the model without resuming from a checkpoint. This is currently discouraged. Consider setting `save_checkpoints` to `True` and specifying `model_name` at model creation. Then call `model = TFTModel.load_from_checkpoint(model_name, best=False)`. Finally, train the model with `model.fit(..., epochs=new_epochs)` where `new_epochs` is the sum of (epochs already trained + some additional epochs).\n",
      "[2022-10-02 11:16:08,409] WARNING | darts.models.forecasting.torch_forecasting_model | Attempting to retrain the model without resuming from a checkpoint. This is currently discouraged. Consider setting `save_checkpoints` to `True` and specifying `model_name` at model creation. Then call `model = TFTModel.load_from_checkpoint(model_name, best=False)`. Finally, train the model with `model.fit(..., epochs=new_epochs)` where `new_epochs` is the sum of (epochs already trained + some additional epochs).\n",
      "2022-10-02 11:16:08 darts.models.forecasting.torch_forecasting_model WARNING: Attempting to retrain the model without resuming from a checkpoint. This is currently discouraged. Consider setting `save_checkpoints` to `True` and specifying `model_name` at model creation. Then call `model = TFTModel.load_from_checkpoint(model_name, best=False)`. Finally, train the model with `model.fit(..., epochs=new_epochs)` where `new_epochs` is the sum of (epochs already trained + some additional epochs).\n"
     ]
    },
    {
     "name": "stdout",
     "output_type": "stream",
     "text": [
      "83\n"
     ]
    },
    {
     "data": {
      "application/vnd.jupyter.widget-view+json": {
       "model_id": "463e957a23c14221aa7dccd6400fafea",
       "version_major": 2,
       "version_minor": 0
      },
      "text/plain": [
       "Training: 0it [00:00, ?it/s]"
      ]
     },
     "metadata": {},
     "output_type": "display_data"
    },
    {
     "data": {
      "application/vnd.jupyter.widget-view+json": {
       "model_id": "f34f91f4cdd9405a818de8f8307d0e8a",
       "version_major": 2,
       "version_minor": 0
      },
      "text/plain": [
       "Predicting: 29it [00:00, ?it/s]"
      ]
     },
     "metadata": {},
     "output_type": "display_data"
    },
    {
     "name": "stderr",
     "output_type": "stream",
     "text": [
      "[2022-10-02 11:16:09,569] INFO | darts.models.forecasting.torch_forecasting_model | Train dataset contains 115 samples.\n",
      "[2022-10-02 11:16:09,569] INFO | darts.models.forecasting.torch_forecasting_model | Train dataset contains 115 samples.\n",
      "2022-10-02 11:16:09 darts.models.forecasting.torch_forecasting_model INFO: Train dataset contains 115 samples.\n",
      "2022-10-02 11:16:09 pytorch_lightning.utilities.distributed INFO: GPU available: False, used: False\n",
      "2022-10-02 11:16:09 pytorch_lightning.utilities.distributed INFO: TPU available: False, using: 0 TPU cores\n",
      "2022-10-02 11:16:09 pytorch_lightning.utilities.distributed INFO: IPU available: False, using: 0 IPUs\n",
      "[2022-10-02 11:16:09,577] WARNING | darts.models.forecasting.torch_forecasting_model | Attempting to retrain the model without resuming from a checkpoint. This is currently discouraged. Consider setting `save_checkpoints` to `True` and specifying `model_name` at model creation. Then call `model = TFTModel.load_from_checkpoint(model_name, best=False)`. Finally, train the model with `model.fit(..., epochs=new_epochs)` where `new_epochs` is the sum of (epochs already trained + some additional epochs).\n",
      "[2022-10-02 11:16:09,577] WARNING | darts.models.forecasting.torch_forecasting_model | Attempting to retrain the model without resuming from a checkpoint. This is currently discouraged. Consider setting `save_checkpoints` to `True` and specifying `model_name` at model creation. Then call `model = TFTModel.load_from_checkpoint(model_name, best=False)`. Finally, train the model with `model.fit(..., epochs=new_epochs)` where `new_epochs` is the sum of (epochs already trained + some additional epochs).\n",
      "2022-10-02 11:16:09 darts.models.forecasting.torch_forecasting_model WARNING: Attempting to retrain the model without resuming from a checkpoint. This is currently discouraged. Consider setting `save_checkpoints` to `True` and specifying `model_name` at model creation. Then call `model = TFTModel.load_from_checkpoint(model_name, best=False)`. Finally, train the model with `model.fit(..., epochs=new_epochs)` where `new_epochs` is the sum of (epochs already trained + some additional epochs).\n"
     ]
    },
    {
     "name": "stdout",
     "output_type": "stream",
     "text": [
      "84\n"
     ]
    },
    {
     "data": {
      "application/vnd.jupyter.widget-view+json": {
       "model_id": "ad4b12565f504536826cc01d6d56ece3",
       "version_major": 2,
       "version_minor": 0
      },
      "text/plain": [
       "Training: 0it [00:00, ?it/s]"
      ]
     },
     "metadata": {},
     "output_type": "display_data"
    },
    {
     "data": {
      "application/vnd.jupyter.widget-view+json": {
       "model_id": "119e2613f6364fe4a3df226c610554fb",
       "version_major": 2,
       "version_minor": 0
      },
      "text/plain": [
       "Predicting: 29it [00:00, ?it/s]"
      ]
     },
     "metadata": {},
     "output_type": "display_data"
    },
    {
     "name": "stderr",
     "output_type": "stream",
     "text": [
      "[2022-10-02 11:16:10,821] INFO | darts.models.forecasting.torch_forecasting_model | Train dataset contains 116 samples.\n",
      "[2022-10-02 11:16:10,821] INFO | darts.models.forecasting.torch_forecasting_model | Train dataset contains 116 samples.\n",
      "2022-10-02 11:16:10 darts.models.forecasting.torch_forecasting_model INFO: Train dataset contains 116 samples.\n",
      "2022-10-02 11:16:10 pytorch_lightning.utilities.distributed INFO: GPU available: False, used: False\n",
      "2022-10-02 11:16:10 pytorch_lightning.utilities.distributed INFO: TPU available: False, using: 0 TPU cores\n",
      "2022-10-02 11:16:10 pytorch_lightning.utilities.distributed INFO: IPU available: False, using: 0 IPUs\n",
      "[2022-10-02 11:16:10,832] WARNING | darts.models.forecasting.torch_forecasting_model | Attempting to retrain the model without resuming from a checkpoint. This is currently discouraged. Consider setting `save_checkpoints` to `True` and specifying `model_name` at model creation. Then call `model = TFTModel.load_from_checkpoint(model_name, best=False)`. Finally, train the model with `model.fit(..., epochs=new_epochs)` where `new_epochs` is the sum of (epochs already trained + some additional epochs).\n",
      "[2022-10-02 11:16:10,832] WARNING | darts.models.forecasting.torch_forecasting_model | Attempting to retrain the model without resuming from a checkpoint. This is currently discouraged. Consider setting `save_checkpoints` to `True` and specifying `model_name` at model creation. Then call `model = TFTModel.load_from_checkpoint(model_name, best=False)`. Finally, train the model with `model.fit(..., epochs=new_epochs)` where `new_epochs` is the sum of (epochs already trained + some additional epochs).\n",
      "2022-10-02 11:16:10 darts.models.forecasting.torch_forecasting_model WARNING: Attempting to retrain the model without resuming from a checkpoint. This is currently discouraged. Consider setting `save_checkpoints` to `True` and specifying `model_name` at model creation. Then call `model = TFTModel.load_from_checkpoint(model_name, best=False)`. Finally, train the model with `model.fit(..., epochs=new_epochs)` where `new_epochs` is the sum of (epochs already trained + some additional epochs).\n"
     ]
    },
    {
     "name": "stdout",
     "output_type": "stream",
     "text": [
      "85\n"
     ]
    },
    {
     "data": {
      "application/vnd.jupyter.widget-view+json": {
       "model_id": "91c54ab3f33b44668285a7bd22eb1e81",
       "version_major": 2,
       "version_minor": 0
      },
      "text/plain": [
       "Training: 0it [00:00, ?it/s]"
      ]
     },
     "metadata": {},
     "output_type": "display_data"
    },
    {
     "data": {
      "application/vnd.jupyter.widget-view+json": {
       "model_id": "9f037aabf3c14b49a61a55a7b798d2aa",
       "version_major": 2,
       "version_minor": 0
      },
      "text/plain": [
       "Predicting: 29it [00:00, ?it/s]"
      ]
     },
     "metadata": {},
     "output_type": "display_data"
    },
    {
     "name": "stderr",
     "output_type": "stream",
     "text": [
      "[2022-10-02 11:16:12,023] INFO | darts.models.forecasting.torch_forecasting_model | Train dataset contains 117 samples.\n",
      "[2022-10-02 11:16:12,023] INFO | darts.models.forecasting.torch_forecasting_model | Train dataset contains 117 samples.\n",
      "2022-10-02 11:16:12 darts.models.forecasting.torch_forecasting_model INFO: Train dataset contains 117 samples.\n",
      "2022-10-02 11:16:12 pytorch_lightning.utilities.distributed INFO: GPU available: False, used: False\n",
      "2022-10-02 11:16:12 pytorch_lightning.utilities.distributed INFO: TPU available: False, using: 0 TPU cores\n",
      "2022-10-02 11:16:12 pytorch_lightning.utilities.distributed INFO: IPU available: False, using: 0 IPUs\n",
      "[2022-10-02 11:16:12,032] WARNING | darts.models.forecasting.torch_forecasting_model | Attempting to retrain the model without resuming from a checkpoint. This is currently discouraged. Consider setting `save_checkpoints` to `True` and specifying `model_name` at model creation. Then call `model = TFTModel.load_from_checkpoint(model_name, best=False)`. Finally, train the model with `model.fit(..., epochs=new_epochs)` where `new_epochs` is the sum of (epochs already trained + some additional epochs).\n",
      "[2022-10-02 11:16:12,032] WARNING | darts.models.forecasting.torch_forecasting_model | Attempting to retrain the model without resuming from a checkpoint. This is currently discouraged. Consider setting `save_checkpoints` to `True` and specifying `model_name` at model creation. Then call `model = TFTModel.load_from_checkpoint(model_name, best=False)`. Finally, train the model with `model.fit(..., epochs=new_epochs)` where `new_epochs` is the sum of (epochs already trained + some additional epochs).\n",
      "2022-10-02 11:16:12 darts.models.forecasting.torch_forecasting_model WARNING: Attempting to retrain the model without resuming from a checkpoint. This is currently discouraged. Consider setting `save_checkpoints` to `True` and specifying `model_name` at model creation. Then call `model = TFTModel.load_from_checkpoint(model_name, best=False)`. Finally, train the model with `model.fit(..., epochs=new_epochs)` where `new_epochs` is the sum of (epochs already trained + some additional epochs).\n"
     ]
    },
    {
     "name": "stdout",
     "output_type": "stream",
     "text": [
      "86\n"
     ]
    },
    {
     "data": {
      "application/vnd.jupyter.widget-view+json": {
       "model_id": "1f3a259f072242df958fd0e6cfc34953",
       "version_major": 2,
       "version_minor": 0
      },
      "text/plain": [
       "Training: 0it [00:00, ?it/s]"
      ]
     },
     "metadata": {},
     "output_type": "display_data"
    },
    {
     "data": {
      "application/vnd.jupyter.widget-view+json": {
       "model_id": "b90e19e09a334f73a68fb85376386b48",
       "version_major": 2,
       "version_minor": 0
      },
      "text/plain": [
       "Predicting: 30it [00:00, ?it/s]"
      ]
     },
     "metadata": {},
     "output_type": "display_data"
    },
    {
     "name": "stderr",
     "output_type": "stream",
     "text": [
      "[2022-10-02 11:16:13,106] INFO | darts.models.forecasting.torch_forecasting_model | Train dataset contains 118 samples.\n",
      "[2022-10-02 11:16:13,106] INFO | darts.models.forecasting.torch_forecasting_model | Train dataset contains 118 samples.\n",
      "2022-10-02 11:16:13 darts.models.forecasting.torch_forecasting_model INFO: Train dataset contains 118 samples.\n",
      "2022-10-02 11:16:13 pytorch_lightning.utilities.distributed INFO: GPU available: False, used: False\n",
      "2022-10-02 11:16:13 pytorch_lightning.utilities.distributed INFO: TPU available: False, using: 0 TPU cores\n",
      "2022-10-02 11:16:13 pytorch_lightning.utilities.distributed INFO: IPU available: False, using: 0 IPUs\n",
      "[2022-10-02 11:16:13,115] WARNING | darts.models.forecasting.torch_forecasting_model | Attempting to retrain the model without resuming from a checkpoint. This is currently discouraged. Consider setting `save_checkpoints` to `True` and specifying `model_name` at model creation. Then call `model = TFTModel.load_from_checkpoint(model_name, best=False)`. Finally, train the model with `model.fit(..., epochs=new_epochs)` where `new_epochs` is the sum of (epochs already trained + some additional epochs).\n",
      "[2022-10-02 11:16:13,115] WARNING | darts.models.forecasting.torch_forecasting_model | Attempting to retrain the model without resuming from a checkpoint. This is currently discouraged. Consider setting `save_checkpoints` to `True` and specifying `model_name` at model creation. Then call `model = TFTModel.load_from_checkpoint(model_name, best=False)`. Finally, train the model with `model.fit(..., epochs=new_epochs)` where `new_epochs` is the sum of (epochs already trained + some additional epochs).\n",
      "2022-10-02 11:16:13 darts.models.forecasting.torch_forecasting_model WARNING: Attempting to retrain the model without resuming from a checkpoint. This is currently discouraged. Consider setting `save_checkpoints` to `True` and specifying `model_name` at model creation. Then call `model = TFTModel.load_from_checkpoint(model_name, best=False)`. Finally, train the model with `model.fit(..., epochs=new_epochs)` where `new_epochs` is the sum of (epochs already trained + some additional epochs).\n"
     ]
    },
    {
     "name": "stdout",
     "output_type": "stream",
     "text": [
      "87\n"
     ]
    },
    {
     "data": {
      "application/vnd.jupyter.widget-view+json": {
       "model_id": "27783d892427453290109cfc4f9d43f5",
       "version_major": 2,
       "version_minor": 0
      },
      "text/plain": [
       "Training: 0it [00:00, ?it/s]"
      ]
     },
     "metadata": {},
     "output_type": "display_data"
    },
    {
     "data": {
      "application/vnd.jupyter.widget-view+json": {
       "model_id": "90babdc86a7b460e90817f57015a3cfd",
       "version_major": 2,
       "version_minor": 0
      },
      "text/plain": [
       "Predicting: 30it [00:00, ?it/s]"
      ]
     },
     "metadata": {},
     "output_type": "display_data"
    },
    {
     "name": "stderr",
     "output_type": "stream",
     "text": [
      "[2022-10-02 11:16:14,183] INFO | darts.models.forecasting.torch_forecasting_model | Train dataset contains 119 samples.\n",
      "[2022-10-02 11:16:14,183] INFO | darts.models.forecasting.torch_forecasting_model | Train dataset contains 119 samples.\n",
      "2022-10-02 11:16:14 darts.models.forecasting.torch_forecasting_model INFO: Train dataset contains 119 samples.\n",
      "2022-10-02 11:16:14 pytorch_lightning.utilities.distributed INFO: GPU available: False, used: False\n",
      "2022-10-02 11:16:14 pytorch_lightning.utilities.distributed INFO: TPU available: False, using: 0 TPU cores\n",
      "2022-10-02 11:16:14 pytorch_lightning.utilities.distributed INFO: IPU available: False, using: 0 IPUs\n",
      "[2022-10-02 11:16:14,192] WARNING | darts.models.forecasting.torch_forecasting_model | Attempting to retrain the model without resuming from a checkpoint. This is currently discouraged. Consider setting `save_checkpoints` to `True` and specifying `model_name` at model creation. Then call `model = TFTModel.load_from_checkpoint(model_name, best=False)`. Finally, train the model with `model.fit(..., epochs=new_epochs)` where `new_epochs` is the sum of (epochs already trained + some additional epochs).\n",
      "[2022-10-02 11:16:14,192] WARNING | darts.models.forecasting.torch_forecasting_model | Attempting to retrain the model without resuming from a checkpoint. This is currently discouraged. Consider setting `save_checkpoints` to `True` and specifying `model_name` at model creation. Then call `model = TFTModel.load_from_checkpoint(model_name, best=False)`. Finally, train the model with `model.fit(..., epochs=new_epochs)` where `new_epochs` is the sum of (epochs already trained + some additional epochs).\n",
      "2022-10-02 11:16:14 darts.models.forecasting.torch_forecasting_model WARNING: Attempting to retrain the model without resuming from a checkpoint. This is currently discouraged. Consider setting `save_checkpoints` to `True` and specifying `model_name` at model creation. Then call `model = TFTModel.load_from_checkpoint(model_name, best=False)`. Finally, train the model with `model.fit(..., epochs=new_epochs)` where `new_epochs` is the sum of (epochs already trained + some additional epochs).\n"
     ]
    },
    {
     "name": "stdout",
     "output_type": "stream",
     "text": [
      "88\n"
     ]
    },
    {
     "data": {
      "application/vnd.jupyter.widget-view+json": {
       "model_id": "9de7b2e78c0e49628b418123437ab219",
       "version_major": 2,
       "version_minor": 0
      },
      "text/plain": [
       "Training: 0it [00:00, ?it/s]"
      ]
     },
     "metadata": {},
     "output_type": "display_data"
    },
    {
     "data": {
      "application/vnd.jupyter.widget-view+json": {
       "model_id": "aa58f376dd4b4e03a56da09cfa75b0ab",
       "version_major": 2,
       "version_minor": 0
      },
      "text/plain": [
       "Predicting: 30it [00:00, ?it/s]"
      ]
     },
     "metadata": {},
     "output_type": "display_data"
    },
    {
     "name": "stderr",
     "output_type": "stream",
     "text": [
      "[2022-10-02 11:16:15,303] INFO | darts.models.forecasting.torch_forecasting_model | Train dataset contains 120 samples.\n",
      "[2022-10-02 11:16:15,303] INFO | darts.models.forecasting.torch_forecasting_model | Train dataset contains 120 samples.\n",
      "2022-10-02 11:16:15 darts.models.forecasting.torch_forecasting_model INFO: Train dataset contains 120 samples.\n",
      "2022-10-02 11:16:15 pytorch_lightning.utilities.distributed INFO: GPU available: False, used: False\n",
      "2022-10-02 11:16:15 pytorch_lightning.utilities.distributed INFO: TPU available: False, using: 0 TPU cores\n",
      "2022-10-02 11:16:15 pytorch_lightning.utilities.distributed INFO: IPU available: False, using: 0 IPUs\n",
      "[2022-10-02 11:16:15,313] WARNING | darts.models.forecasting.torch_forecasting_model | Attempting to retrain the model without resuming from a checkpoint. This is currently discouraged. Consider setting `save_checkpoints` to `True` and specifying `model_name` at model creation. Then call `model = TFTModel.load_from_checkpoint(model_name, best=False)`. Finally, train the model with `model.fit(..., epochs=new_epochs)` where `new_epochs` is the sum of (epochs already trained + some additional epochs).\n",
      "[2022-10-02 11:16:15,313] WARNING | darts.models.forecasting.torch_forecasting_model | Attempting to retrain the model without resuming from a checkpoint. This is currently discouraged. Consider setting `save_checkpoints` to `True` and specifying `model_name` at model creation. Then call `model = TFTModel.load_from_checkpoint(model_name, best=False)`. Finally, train the model with `model.fit(..., epochs=new_epochs)` where `new_epochs` is the sum of (epochs already trained + some additional epochs).\n",
      "2022-10-02 11:16:15 darts.models.forecasting.torch_forecasting_model WARNING: Attempting to retrain the model without resuming from a checkpoint. This is currently discouraged. Consider setting `save_checkpoints` to `True` and specifying `model_name` at model creation. Then call `model = TFTModel.load_from_checkpoint(model_name, best=False)`. Finally, train the model with `model.fit(..., epochs=new_epochs)` where `new_epochs` is the sum of (epochs already trained + some additional epochs).\n"
     ]
    },
    {
     "name": "stdout",
     "output_type": "stream",
     "text": [
      "89\n"
     ]
    },
    {
     "data": {
      "application/vnd.jupyter.widget-view+json": {
       "model_id": "a1580795af02400cacd1eef1caa03a17",
       "version_major": 2,
       "version_minor": 0
      },
      "text/plain": [
       "Training: 0it [00:00, ?it/s]"
      ]
     },
     "metadata": {},
     "output_type": "display_data"
    },
    {
     "data": {
      "application/vnd.jupyter.widget-view+json": {
       "model_id": "f496c2927be546ebb63d471210320140",
       "version_major": 2,
       "version_minor": 0
      },
      "text/plain": [
       "Predicting: 30it [00:00, ?it/s]"
      ]
     },
     "metadata": {},
     "output_type": "display_data"
    },
    {
     "name": "stderr",
     "output_type": "stream",
     "text": [
      "[2022-10-02 11:16:16,401] INFO | darts.models.forecasting.torch_forecasting_model | Train dataset contains 121 samples.\n",
      "[2022-10-02 11:16:16,401] INFO | darts.models.forecasting.torch_forecasting_model | Train dataset contains 121 samples.\n",
      "2022-10-02 11:16:16 darts.models.forecasting.torch_forecasting_model INFO: Train dataset contains 121 samples.\n",
      "2022-10-02 11:16:16 pytorch_lightning.utilities.distributed INFO: GPU available: False, used: False\n",
      "2022-10-02 11:16:16 pytorch_lightning.utilities.distributed INFO: TPU available: False, using: 0 TPU cores\n",
      "2022-10-02 11:16:16 pytorch_lightning.utilities.distributed INFO: IPU available: False, using: 0 IPUs\n",
      "[2022-10-02 11:16:16,410] WARNING | darts.models.forecasting.torch_forecasting_model | Attempting to retrain the model without resuming from a checkpoint. This is currently discouraged. Consider setting `save_checkpoints` to `True` and specifying `model_name` at model creation. Then call `model = TFTModel.load_from_checkpoint(model_name, best=False)`. Finally, train the model with `model.fit(..., epochs=new_epochs)` where `new_epochs` is the sum of (epochs already trained + some additional epochs).\n",
      "[2022-10-02 11:16:16,410] WARNING | darts.models.forecasting.torch_forecasting_model | Attempting to retrain the model without resuming from a checkpoint. This is currently discouraged. Consider setting `save_checkpoints` to `True` and specifying `model_name` at model creation. Then call `model = TFTModel.load_from_checkpoint(model_name, best=False)`. Finally, train the model with `model.fit(..., epochs=new_epochs)` where `new_epochs` is the sum of (epochs already trained + some additional epochs).\n",
      "2022-10-02 11:16:16 darts.models.forecasting.torch_forecasting_model WARNING: Attempting to retrain the model without resuming from a checkpoint. This is currently discouraged. Consider setting `save_checkpoints` to `True` and specifying `model_name` at model creation. Then call `model = TFTModel.load_from_checkpoint(model_name, best=False)`. Finally, train the model with `model.fit(..., epochs=new_epochs)` where `new_epochs` is the sum of (epochs already trained + some additional epochs).\n"
     ]
    },
    {
     "name": "stdout",
     "output_type": "stream",
     "text": [
      "90\n"
     ]
    },
    {
     "data": {
      "application/vnd.jupyter.widget-view+json": {
       "model_id": "df0741ff614b4d5fb9cd1ad40ca401a9",
       "version_major": 2,
       "version_minor": 0
      },
      "text/plain": [
       "Training: 0it [00:00, ?it/s]"
      ]
     },
     "metadata": {},
     "output_type": "display_data"
    },
    {
     "data": {
      "application/vnd.jupyter.widget-view+json": {
       "model_id": "7ceaf03b74cf475fbe4c77b992db8ec4",
       "version_major": 2,
       "version_minor": 0
      },
      "text/plain": [
       "Predicting: 31it [00:00, ?it/s]"
      ]
     },
     "metadata": {},
     "output_type": "display_data"
    },
    {
     "name": "stderr",
     "output_type": "stream",
     "text": [
      "[2022-10-02 11:16:17,546] INFO | darts.models.forecasting.torch_forecasting_model | Train dataset contains 122 samples.\n",
      "[2022-10-02 11:16:17,546] INFO | darts.models.forecasting.torch_forecasting_model | Train dataset contains 122 samples.\n",
      "2022-10-02 11:16:17 darts.models.forecasting.torch_forecasting_model INFO: Train dataset contains 122 samples.\n",
      "2022-10-02 11:16:17 pytorch_lightning.utilities.distributed INFO: GPU available: False, used: False\n",
      "2022-10-02 11:16:17 pytorch_lightning.utilities.distributed INFO: TPU available: False, using: 0 TPU cores\n",
      "2022-10-02 11:16:17 pytorch_lightning.utilities.distributed INFO: IPU available: False, using: 0 IPUs\n",
      "[2022-10-02 11:16:17,554] WARNING | darts.models.forecasting.torch_forecasting_model | Attempting to retrain the model without resuming from a checkpoint. This is currently discouraged. Consider setting `save_checkpoints` to `True` and specifying `model_name` at model creation. Then call `model = TFTModel.load_from_checkpoint(model_name, best=False)`. Finally, train the model with `model.fit(..., epochs=new_epochs)` where `new_epochs` is the sum of (epochs already trained + some additional epochs).\n",
      "[2022-10-02 11:16:17,554] WARNING | darts.models.forecasting.torch_forecasting_model | Attempting to retrain the model without resuming from a checkpoint. This is currently discouraged. Consider setting `save_checkpoints` to `True` and specifying `model_name` at model creation. Then call `model = TFTModel.load_from_checkpoint(model_name, best=False)`. Finally, train the model with `model.fit(..., epochs=new_epochs)` where `new_epochs` is the sum of (epochs already trained + some additional epochs).\n",
      "2022-10-02 11:16:17 darts.models.forecasting.torch_forecasting_model WARNING: Attempting to retrain the model without resuming from a checkpoint. This is currently discouraged. Consider setting `save_checkpoints` to `True` and specifying `model_name` at model creation. Then call `model = TFTModel.load_from_checkpoint(model_name, best=False)`. Finally, train the model with `model.fit(..., epochs=new_epochs)` where `new_epochs` is the sum of (epochs already trained + some additional epochs).\n"
     ]
    },
    {
     "name": "stdout",
     "output_type": "stream",
     "text": [
      "91\n"
     ]
    },
    {
     "data": {
      "application/vnd.jupyter.widget-view+json": {
       "model_id": "6d0084b7606b4ca99828f2bda7256528",
       "version_major": 2,
       "version_minor": 0
      },
      "text/plain": [
       "Training: 0it [00:00, ?it/s]"
      ]
     },
     "metadata": {},
     "output_type": "display_data"
    },
    {
     "data": {
      "application/vnd.jupyter.widget-view+json": {
       "model_id": "e2741bf3f8bc466f9cfab0c31834e1ab",
       "version_major": 2,
       "version_minor": 0
      },
      "text/plain": [
       "Predicting: 31it [00:00, ?it/s]"
      ]
     },
     "metadata": {},
     "output_type": "display_data"
    },
    {
     "name": "stderr",
     "output_type": "stream",
     "text": [
      "[2022-10-02 11:16:18,666] INFO | darts.models.forecasting.torch_forecasting_model | Train dataset contains 123 samples.\n",
      "[2022-10-02 11:16:18,666] INFO | darts.models.forecasting.torch_forecasting_model | Train dataset contains 123 samples.\n",
      "2022-10-02 11:16:18 darts.models.forecasting.torch_forecasting_model INFO: Train dataset contains 123 samples.\n",
      "2022-10-02 11:16:18 pytorch_lightning.utilities.distributed INFO: GPU available: False, used: False\n",
      "2022-10-02 11:16:18 pytorch_lightning.utilities.distributed INFO: TPU available: False, using: 0 TPU cores\n",
      "2022-10-02 11:16:18 pytorch_lightning.utilities.distributed INFO: IPU available: False, using: 0 IPUs\n",
      "[2022-10-02 11:16:18,674] WARNING | darts.models.forecasting.torch_forecasting_model | Attempting to retrain the model without resuming from a checkpoint. This is currently discouraged. Consider setting `save_checkpoints` to `True` and specifying `model_name` at model creation. Then call `model = TFTModel.load_from_checkpoint(model_name, best=False)`. Finally, train the model with `model.fit(..., epochs=new_epochs)` where `new_epochs` is the sum of (epochs already trained + some additional epochs).\n",
      "[2022-10-02 11:16:18,674] WARNING | darts.models.forecasting.torch_forecasting_model | Attempting to retrain the model without resuming from a checkpoint. This is currently discouraged. Consider setting `save_checkpoints` to `True` and specifying `model_name` at model creation. Then call `model = TFTModel.load_from_checkpoint(model_name, best=False)`. Finally, train the model with `model.fit(..., epochs=new_epochs)` where `new_epochs` is the sum of (epochs already trained + some additional epochs).\n",
      "2022-10-02 11:16:18 darts.models.forecasting.torch_forecasting_model WARNING: Attempting to retrain the model without resuming from a checkpoint. This is currently discouraged. Consider setting `save_checkpoints` to `True` and specifying `model_name` at model creation. Then call `model = TFTModel.load_from_checkpoint(model_name, best=False)`. Finally, train the model with `model.fit(..., epochs=new_epochs)` where `new_epochs` is the sum of (epochs already trained + some additional epochs).\n"
     ]
    },
    {
     "name": "stdout",
     "output_type": "stream",
     "text": [
      "92\n"
     ]
    },
    {
     "data": {
      "application/vnd.jupyter.widget-view+json": {
       "model_id": "729c9ac0a8374dfc844314abfc6dabea",
       "version_major": 2,
       "version_minor": 0
      },
      "text/plain": [
       "Training: 0it [00:00, ?it/s]"
      ]
     },
     "metadata": {},
     "output_type": "display_data"
    },
    {
     "data": {
      "application/vnd.jupyter.widget-view+json": {
       "model_id": "39eef02aaae546b5ad932bdb9d37b907",
       "version_major": 2,
       "version_minor": 0
      },
      "text/plain": [
       "Predicting: 31it [00:00, ?it/s]"
      ]
     },
     "metadata": {},
     "output_type": "display_data"
    },
    {
     "name": "stderr",
     "output_type": "stream",
     "text": [
      "[2022-10-02 11:16:19,861] INFO | darts.models.forecasting.torch_forecasting_model | Train dataset contains 124 samples.\n",
      "[2022-10-02 11:16:19,861] INFO | darts.models.forecasting.torch_forecasting_model | Train dataset contains 124 samples.\n",
      "2022-10-02 11:16:19 darts.models.forecasting.torch_forecasting_model INFO: Train dataset contains 124 samples.\n",
      "2022-10-02 11:16:19 pytorch_lightning.utilities.distributed INFO: GPU available: False, used: False\n",
      "2022-10-02 11:16:19 pytorch_lightning.utilities.distributed INFO: TPU available: False, using: 0 TPU cores\n",
      "2022-10-02 11:16:19 pytorch_lightning.utilities.distributed INFO: IPU available: False, using: 0 IPUs\n",
      "[2022-10-02 11:16:19,870] WARNING | darts.models.forecasting.torch_forecasting_model | Attempting to retrain the model without resuming from a checkpoint. This is currently discouraged. Consider setting `save_checkpoints` to `True` and specifying `model_name` at model creation. Then call `model = TFTModel.load_from_checkpoint(model_name, best=False)`. Finally, train the model with `model.fit(..., epochs=new_epochs)` where `new_epochs` is the sum of (epochs already trained + some additional epochs).\n",
      "[2022-10-02 11:16:19,870] WARNING | darts.models.forecasting.torch_forecasting_model | Attempting to retrain the model without resuming from a checkpoint. This is currently discouraged. Consider setting `save_checkpoints` to `True` and specifying `model_name` at model creation. Then call `model = TFTModel.load_from_checkpoint(model_name, best=False)`. Finally, train the model with `model.fit(..., epochs=new_epochs)` where `new_epochs` is the sum of (epochs already trained + some additional epochs).\n",
      "2022-10-02 11:16:19 darts.models.forecasting.torch_forecasting_model WARNING: Attempting to retrain the model without resuming from a checkpoint. This is currently discouraged. Consider setting `save_checkpoints` to `True` and specifying `model_name` at model creation. Then call `model = TFTModel.load_from_checkpoint(model_name, best=False)`. Finally, train the model with `model.fit(..., epochs=new_epochs)` where `new_epochs` is the sum of (epochs already trained + some additional epochs).\n"
     ]
    },
    {
     "name": "stdout",
     "output_type": "stream",
     "text": [
      "93\n"
     ]
    },
    {
     "data": {
      "application/vnd.jupyter.widget-view+json": {
       "model_id": "f3ecac067ff9438981da091eeadb629a",
       "version_major": 2,
       "version_minor": 0
      },
      "text/plain": [
       "Training: 0it [00:00, ?it/s]"
      ]
     },
     "metadata": {},
     "output_type": "display_data"
    },
    {
     "data": {
      "application/vnd.jupyter.widget-view+json": {
       "model_id": "20ad40dee00045d1bc9bf1025ef865d1",
       "version_major": 2,
       "version_minor": 0
      },
      "text/plain": [
       "Predicting: 31it [00:00, ?it/s]"
      ]
     },
     "metadata": {},
     "output_type": "display_data"
    },
    {
     "name": "stderr",
     "output_type": "stream",
     "text": [
      "[2022-10-02 11:16:21,062] INFO | darts.models.forecasting.torch_forecasting_model | Train dataset contains 125 samples.\n",
      "[2022-10-02 11:16:21,062] INFO | darts.models.forecasting.torch_forecasting_model | Train dataset contains 125 samples.\n",
      "2022-10-02 11:16:21 darts.models.forecasting.torch_forecasting_model INFO: Train dataset contains 125 samples.\n",
      "2022-10-02 11:16:21 pytorch_lightning.utilities.distributed INFO: GPU available: False, used: False\n",
      "2022-10-02 11:16:21 pytorch_lightning.utilities.distributed INFO: TPU available: False, using: 0 TPU cores\n",
      "2022-10-02 11:16:21 pytorch_lightning.utilities.distributed INFO: IPU available: False, using: 0 IPUs\n",
      "[2022-10-02 11:16:21,071] WARNING | darts.models.forecasting.torch_forecasting_model | Attempting to retrain the model without resuming from a checkpoint. This is currently discouraged. Consider setting `save_checkpoints` to `True` and specifying `model_name` at model creation. Then call `model = TFTModel.load_from_checkpoint(model_name, best=False)`. Finally, train the model with `model.fit(..., epochs=new_epochs)` where `new_epochs` is the sum of (epochs already trained + some additional epochs).\n",
      "[2022-10-02 11:16:21,071] WARNING | darts.models.forecasting.torch_forecasting_model | Attempting to retrain the model without resuming from a checkpoint. This is currently discouraged. Consider setting `save_checkpoints` to `True` and specifying `model_name` at model creation. Then call `model = TFTModel.load_from_checkpoint(model_name, best=False)`. Finally, train the model with `model.fit(..., epochs=new_epochs)` where `new_epochs` is the sum of (epochs already trained + some additional epochs).\n",
      "2022-10-02 11:16:21 darts.models.forecasting.torch_forecasting_model WARNING: Attempting to retrain the model without resuming from a checkpoint. This is currently discouraged. Consider setting `save_checkpoints` to `True` and specifying `model_name` at model creation. Then call `model = TFTModel.load_from_checkpoint(model_name, best=False)`. Finally, train the model with `model.fit(..., epochs=new_epochs)` where `new_epochs` is the sum of (epochs already trained + some additional epochs).\n"
     ]
    },
    {
     "name": "stdout",
     "output_type": "stream",
     "text": [
      "94\n"
     ]
    },
    {
     "data": {
      "application/vnd.jupyter.widget-view+json": {
       "model_id": "02f09477044e4e5fafd37a44bbd497fa",
       "version_major": 2,
       "version_minor": 0
      },
      "text/plain": [
       "Training: 0it [00:00, ?it/s]"
      ]
     },
     "metadata": {},
     "output_type": "display_data"
    },
    {
     "data": {
      "application/vnd.jupyter.widget-view+json": {
       "model_id": "8f71030458ff41bc8acd448c7b10272f",
       "version_major": 2,
       "version_minor": 0
      },
      "text/plain": [
       "Predicting: 32it [00:00, ?it/s]"
      ]
     },
     "metadata": {},
     "output_type": "display_data"
    },
    {
     "name": "stderr",
     "output_type": "stream",
     "text": [
      "[2022-10-02 11:16:22,254] INFO | darts.models.forecasting.torch_forecasting_model | Train dataset contains 126 samples.\n",
      "[2022-10-02 11:16:22,254] INFO | darts.models.forecasting.torch_forecasting_model | Train dataset contains 126 samples.\n",
      "2022-10-02 11:16:22 darts.models.forecasting.torch_forecasting_model INFO: Train dataset contains 126 samples.\n",
      "2022-10-02 11:16:22 pytorch_lightning.utilities.distributed INFO: GPU available: False, used: False\n",
      "2022-10-02 11:16:22 pytorch_lightning.utilities.distributed INFO: TPU available: False, using: 0 TPU cores\n",
      "2022-10-02 11:16:22 pytorch_lightning.utilities.distributed INFO: IPU available: False, using: 0 IPUs\n",
      "[2022-10-02 11:16:22,261] WARNING | darts.models.forecasting.torch_forecasting_model | Attempting to retrain the model without resuming from a checkpoint. This is currently discouraged. Consider setting `save_checkpoints` to `True` and specifying `model_name` at model creation. Then call `model = TFTModel.load_from_checkpoint(model_name, best=False)`. Finally, train the model with `model.fit(..., epochs=new_epochs)` where `new_epochs` is the sum of (epochs already trained + some additional epochs).\n",
      "[2022-10-02 11:16:22,261] WARNING | darts.models.forecasting.torch_forecasting_model | Attempting to retrain the model without resuming from a checkpoint. This is currently discouraged. Consider setting `save_checkpoints` to `True` and specifying `model_name` at model creation. Then call `model = TFTModel.load_from_checkpoint(model_name, best=False)`. Finally, train the model with `model.fit(..., epochs=new_epochs)` where `new_epochs` is the sum of (epochs already trained + some additional epochs).\n",
      "2022-10-02 11:16:22 darts.models.forecasting.torch_forecasting_model WARNING: Attempting to retrain the model without resuming from a checkpoint. This is currently discouraged. Consider setting `save_checkpoints` to `True` and specifying `model_name` at model creation. Then call `model = TFTModel.load_from_checkpoint(model_name, best=False)`. Finally, train the model with `model.fit(..., epochs=new_epochs)` where `new_epochs` is the sum of (epochs already trained + some additional epochs).\n"
     ]
    },
    {
     "name": "stdout",
     "output_type": "stream",
     "text": [
      "95\n"
     ]
    },
    {
     "data": {
      "application/vnd.jupyter.widget-view+json": {
       "model_id": "c615b98088114f07ab56b455555dac35",
       "version_major": 2,
       "version_minor": 0
      },
      "text/plain": [
       "Training: 0it [00:00, ?it/s]"
      ]
     },
     "metadata": {},
     "output_type": "display_data"
    },
    {
     "data": {
      "application/vnd.jupyter.widget-view+json": {
       "model_id": "ba1d7e0eae0946b18112749a1cfba814",
       "version_major": 2,
       "version_minor": 0
      },
      "text/plain": [
       "Predicting: 32it [00:00, ?it/s]"
      ]
     },
     "metadata": {},
     "output_type": "display_data"
    },
    {
     "name": "stderr",
     "output_type": "stream",
     "text": [
      "[2022-10-02 11:16:23,483] INFO | darts.models.forecasting.torch_forecasting_model | Train dataset contains 127 samples.\n",
      "[2022-10-02 11:16:23,483] INFO | darts.models.forecasting.torch_forecasting_model | Train dataset contains 127 samples.\n",
      "2022-10-02 11:16:23 darts.models.forecasting.torch_forecasting_model INFO: Train dataset contains 127 samples.\n",
      "2022-10-02 11:16:23 pytorch_lightning.utilities.distributed INFO: GPU available: False, used: False\n",
      "2022-10-02 11:16:23 pytorch_lightning.utilities.distributed INFO: TPU available: False, using: 0 TPU cores\n",
      "2022-10-02 11:16:23 pytorch_lightning.utilities.distributed INFO: IPU available: False, using: 0 IPUs\n",
      "[2022-10-02 11:16:23,492] WARNING | darts.models.forecasting.torch_forecasting_model | Attempting to retrain the model without resuming from a checkpoint. This is currently discouraged. Consider setting `save_checkpoints` to `True` and specifying `model_name` at model creation. Then call `model = TFTModel.load_from_checkpoint(model_name, best=False)`. Finally, train the model with `model.fit(..., epochs=new_epochs)` where `new_epochs` is the sum of (epochs already trained + some additional epochs).\n",
      "[2022-10-02 11:16:23,492] WARNING | darts.models.forecasting.torch_forecasting_model | Attempting to retrain the model without resuming from a checkpoint. This is currently discouraged. Consider setting `save_checkpoints` to `True` and specifying `model_name` at model creation. Then call `model = TFTModel.load_from_checkpoint(model_name, best=False)`. Finally, train the model with `model.fit(..., epochs=new_epochs)` where `new_epochs` is the sum of (epochs already trained + some additional epochs).\n",
      "2022-10-02 11:16:23 darts.models.forecasting.torch_forecasting_model WARNING: Attempting to retrain the model without resuming from a checkpoint. This is currently discouraged. Consider setting `save_checkpoints` to `True` and specifying `model_name` at model creation. Then call `model = TFTModel.load_from_checkpoint(model_name, best=False)`. Finally, train the model with `model.fit(..., epochs=new_epochs)` where `new_epochs` is the sum of (epochs already trained + some additional epochs).\n"
     ]
    },
    {
     "name": "stdout",
     "output_type": "stream",
     "text": [
      "96\n"
     ]
    },
    {
     "data": {
      "application/vnd.jupyter.widget-view+json": {
       "model_id": "d4e8e81bf3154ffea818f6be0d4aadc3",
       "version_major": 2,
       "version_minor": 0
      },
      "text/plain": [
       "Training: 0it [00:00, ?it/s]"
      ]
     },
     "metadata": {},
     "output_type": "display_data"
    },
    {
     "data": {
      "application/vnd.jupyter.widget-view+json": {
       "model_id": "2ce48468e4b24b2ba2ef5db40cf73e15",
       "version_major": 2,
       "version_minor": 0
      },
      "text/plain": [
       "Predicting: 32it [00:00, ?it/s]"
      ]
     },
     "metadata": {},
     "output_type": "display_data"
    },
    {
     "name": "stderr",
     "output_type": "stream",
     "text": [
      "[2022-10-02 11:16:24,652] INFO | darts.models.forecasting.torch_forecasting_model | Train dataset contains 128 samples.\n",
      "[2022-10-02 11:16:24,652] INFO | darts.models.forecasting.torch_forecasting_model | Train dataset contains 128 samples.\n",
      "2022-10-02 11:16:24 darts.models.forecasting.torch_forecasting_model INFO: Train dataset contains 128 samples.\n",
      "2022-10-02 11:16:24 pytorch_lightning.utilities.distributed INFO: GPU available: False, used: False\n",
      "2022-10-02 11:16:24 pytorch_lightning.utilities.distributed INFO: TPU available: False, using: 0 TPU cores\n",
      "2022-10-02 11:16:24 pytorch_lightning.utilities.distributed INFO: IPU available: False, using: 0 IPUs\n",
      "[2022-10-02 11:16:24,659] WARNING | darts.models.forecasting.torch_forecasting_model | Attempting to retrain the model without resuming from a checkpoint. This is currently discouraged. Consider setting `save_checkpoints` to `True` and specifying `model_name` at model creation. Then call `model = TFTModel.load_from_checkpoint(model_name, best=False)`. Finally, train the model with `model.fit(..., epochs=new_epochs)` where `new_epochs` is the sum of (epochs already trained + some additional epochs).\n",
      "[2022-10-02 11:16:24,659] WARNING | darts.models.forecasting.torch_forecasting_model | Attempting to retrain the model without resuming from a checkpoint. This is currently discouraged. Consider setting `save_checkpoints` to `True` and specifying `model_name` at model creation. Then call `model = TFTModel.load_from_checkpoint(model_name, best=False)`. Finally, train the model with `model.fit(..., epochs=new_epochs)` where `new_epochs` is the sum of (epochs already trained + some additional epochs).\n",
      "2022-10-02 11:16:24 darts.models.forecasting.torch_forecasting_model WARNING: Attempting to retrain the model without resuming from a checkpoint. This is currently discouraged. Consider setting `save_checkpoints` to `True` and specifying `model_name` at model creation. Then call `model = TFTModel.load_from_checkpoint(model_name, best=False)`. Finally, train the model with `model.fit(..., epochs=new_epochs)` where `new_epochs` is the sum of (epochs already trained + some additional epochs).\n"
     ]
    },
    {
     "name": "stdout",
     "output_type": "stream",
     "text": [
      "97\n"
     ]
    },
    {
     "data": {
      "application/vnd.jupyter.widget-view+json": {
       "model_id": "4c757344e5a141cba2f3b0de05dc3484",
       "version_major": 2,
       "version_minor": 0
      },
      "text/plain": [
       "Training: 0it [00:00, ?it/s]"
      ]
     },
     "metadata": {},
     "output_type": "display_data"
    },
    {
     "data": {
      "application/vnd.jupyter.widget-view+json": {
       "model_id": "2125d8030d2f40818ef977a78bc7cbfb",
       "version_major": 2,
       "version_minor": 0
      },
      "text/plain": [
       "Predicting: 32it [00:00, ?it/s]"
      ]
     },
     "metadata": {},
     "output_type": "display_data"
    },
    {
     "name": "stderr",
     "output_type": "stream",
     "text": [
      "[2022-10-02 11:16:25,833] INFO | darts.models.forecasting.torch_forecasting_model | Train dataset contains 129 samples.\n",
      "[2022-10-02 11:16:25,833] INFO | darts.models.forecasting.torch_forecasting_model | Train dataset contains 129 samples.\n",
      "2022-10-02 11:16:25 darts.models.forecasting.torch_forecasting_model INFO: Train dataset contains 129 samples.\n",
      "2022-10-02 11:16:25 pytorch_lightning.utilities.distributed INFO: GPU available: False, used: False\n",
      "2022-10-02 11:16:25 pytorch_lightning.utilities.distributed INFO: TPU available: False, using: 0 TPU cores\n",
      "2022-10-02 11:16:25 pytorch_lightning.utilities.distributed INFO: IPU available: False, using: 0 IPUs\n",
      "[2022-10-02 11:16:25,842] WARNING | darts.models.forecasting.torch_forecasting_model | Attempting to retrain the model without resuming from a checkpoint. This is currently discouraged. Consider setting `save_checkpoints` to `True` and specifying `model_name` at model creation. Then call `model = TFTModel.load_from_checkpoint(model_name, best=False)`. Finally, train the model with `model.fit(..., epochs=new_epochs)` where `new_epochs` is the sum of (epochs already trained + some additional epochs).\n",
      "[2022-10-02 11:16:25,842] WARNING | darts.models.forecasting.torch_forecasting_model | Attempting to retrain the model without resuming from a checkpoint. This is currently discouraged. Consider setting `save_checkpoints` to `True` and specifying `model_name` at model creation. Then call `model = TFTModel.load_from_checkpoint(model_name, best=False)`. Finally, train the model with `model.fit(..., epochs=new_epochs)` where `new_epochs` is the sum of (epochs already trained + some additional epochs).\n",
      "2022-10-02 11:16:25 darts.models.forecasting.torch_forecasting_model WARNING: Attempting to retrain the model without resuming from a checkpoint. This is currently discouraged. Consider setting `save_checkpoints` to `True` and specifying `model_name` at model creation. Then call `model = TFTModel.load_from_checkpoint(model_name, best=False)`. Finally, train the model with `model.fit(..., epochs=new_epochs)` where `new_epochs` is the sum of (epochs already trained + some additional epochs).\n"
     ]
    },
    {
     "name": "stdout",
     "output_type": "stream",
     "text": [
      "98\n"
     ]
    },
    {
     "data": {
      "application/vnd.jupyter.widget-view+json": {
       "model_id": "7fc063db8ebb4d37a8d7fc915df1e37b",
       "version_major": 2,
       "version_minor": 0
      },
      "text/plain": [
       "Training: 0it [00:00, ?it/s]"
      ]
     },
     "metadata": {},
     "output_type": "display_data"
    },
    {
     "data": {
      "application/vnd.jupyter.widget-view+json": {
       "model_id": "b5d4b18b561445f3a411a113e8c61be1",
       "version_major": 2,
       "version_minor": 0
      },
      "text/plain": [
       "Predicting: 33it [00:00, ?it/s]"
      ]
     },
     "metadata": {},
     "output_type": "display_data"
    },
    {
     "name": "stderr",
     "output_type": "stream",
     "text": [
      "[2022-10-02 11:16:27,000] INFO | darts.models.forecasting.torch_forecasting_model | Train dataset contains 130 samples.\n",
      "[2022-10-02 11:16:27,000] INFO | darts.models.forecasting.torch_forecasting_model | Train dataset contains 130 samples.\n",
      "2022-10-02 11:16:27 darts.models.forecasting.torch_forecasting_model INFO: Train dataset contains 130 samples.\n",
      "2022-10-02 11:16:27 pytorch_lightning.utilities.distributed INFO: GPU available: False, used: False\n",
      "2022-10-02 11:16:27 pytorch_lightning.utilities.distributed INFO: TPU available: False, using: 0 TPU cores\n",
      "2022-10-02 11:16:27 pytorch_lightning.utilities.distributed INFO: IPU available: False, using: 0 IPUs\n",
      "[2022-10-02 11:16:27,010] WARNING | darts.models.forecasting.torch_forecasting_model | Attempting to retrain the model without resuming from a checkpoint. This is currently discouraged. Consider setting `save_checkpoints` to `True` and specifying `model_name` at model creation. Then call `model = TFTModel.load_from_checkpoint(model_name, best=False)`. Finally, train the model with `model.fit(..., epochs=new_epochs)` where `new_epochs` is the sum of (epochs already trained + some additional epochs).\n",
      "[2022-10-02 11:16:27,010] WARNING | darts.models.forecasting.torch_forecasting_model | Attempting to retrain the model without resuming from a checkpoint. This is currently discouraged. Consider setting `save_checkpoints` to `True` and specifying `model_name` at model creation. Then call `model = TFTModel.load_from_checkpoint(model_name, best=False)`. Finally, train the model with `model.fit(..., epochs=new_epochs)` where `new_epochs` is the sum of (epochs already trained + some additional epochs).\n",
      "2022-10-02 11:16:27 darts.models.forecasting.torch_forecasting_model WARNING: Attempting to retrain the model without resuming from a checkpoint. This is currently discouraged. Consider setting `save_checkpoints` to `True` and specifying `model_name` at model creation. Then call `model = TFTModel.load_from_checkpoint(model_name, best=False)`. Finally, train the model with `model.fit(..., epochs=new_epochs)` where `new_epochs` is the sum of (epochs already trained + some additional epochs).\n"
     ]
    },
    {
     "name": "stdout",
     "output_type": "stream",
     "text": [
      "99\n"
     ]
    },
    {
     "data": {
      "application/vnd.jupyter.widget-view+json": {
       "model_id": "0ccfdce9184f4261927a42ec7d40aa06",
       "version_major": 2,
       "version_minor": 0
      },
      "text/plain": [
       "Training: 0it [00:00, ?it/s]"
      ]
     },
     "metadata": {},
     "output_type": "display_data"
    },
    {
     "data": {
      "application/vnd.jupyter.widget-view+json": {
       "model_id": "1b9ee6732c0848b080bb437afb7e6e85",
       "version_major": 2,
       "version_minor": 0
      },
      "text/plain": [
       "Predicting: 33it [00:00, ?it/s]"
      ]
     },
     "metadata": {},
     "output_type": "display_data"
    },
    {
     "name": "stderr",
     "output_type": "stream",
     "text": [
      "[2022-10-02 11:16:28,171] INFO | darts.models.forecasting.torch_forecasting_model | Train dataset contains 131 samples.\n",
      "[2022-10-02 11:16:28,171] INFO | darts.models.forecasting.torch_forecasting_model | Train dataset contains 131 samples.\n",
      "2022-10-02 11:16:28 darts.models.forecasting.torch_forecasting_model INFO: Train dataset contains 131 samples.\n",
      "2022-10-02 11:16:28 pytorch_lightning.utilities.distributed INFO: GPU available: False, used: False\n",
      "2022-10-02 11:16:28 pytorch_lightning.utilities.distributed INFO: TPU available: False, using: 0 TPU cores\n",
      "2022-10-02 11:16:28 pytorch_lightning.utilities.distributed INFO: IPU available: False, using: 0 IPUs\n",
      "[2022-10-02 11:16:28,181] WARNING | darts.models.forecasting.torch_forecasting_model | Attempting to retrain the model without resuming from a checkpoint. This is currently discouraged. Consider setting `save_checkpoints` to `True` and specifying `model_name` at model creation. Then call `model = TFTModel.load_from_checkpoint(model_name, best=False)`. Finally, train the model with `model.fit(..., epochs=new_epochs)` where `new_epochs` is the sum of (epochs already trained + some additional epochs).\n",
      "[2022-10-02 11:16:28,181] WARNING | darts.models.forecasting.torch_forecasting_model | Attempting to retrain the model without resuming from a checkpoint. This is currently discouraged. Consider setting `save_checkpoints` to `True` and specifying `model_name` at model creation. Then call `model = TFTModel.load_from_checkpoint(model_name, best=False)`. Finally, train the model with `model.fit(..., epochs=new_epochs)` where `new_epochs` is the sum of (epochs already trained + some additional epochs).\n",
      "2022-10-02 11:16:28 darts.models.forecasting.torch_forecasting_model WARNING: Attempting to retrain the model without resuming from a checkpoint. This is currently discouraged. Consider setting `save_checkpoints` to `True` and specifying `model_name` at model creation. Then call `model = TFTModel.load_from_checkpoint(model_name, best=False)`. Finally, train the model with `model.fit(..., epochs=new_epochs)` where `new_epochs` is the sum of (epochs already trained + some additional epochs).\n"
     ]
    },
    {
     "name": "stdout",
     "output_type": "stream",
     "text": [
      "100\n"
     ]
    },
    {
     "data": {
      "application/vnd.jupyter.widget-view+json": {
       "model_id": "2c5d711adfe14a96a2dc3a58316feac0",
       "version_major": 2,
       "version_minor": 0
      },
      "text/plain": [
       "Training: 0it [00:00, ?it/s]"
      ]
     },
     "metadata": {},
     "output_type": "display_data"
    },
    {
     "data": {
      "application/vnd.jupyter.widget-view+json": {
       "model_id": "786cff5e2f124ff8a0cac09aa66164f4",
       "version_major": 2,
       "version_minor": 0
      },
      "text/plain": [
       "Predicting: 33it [00:00, ?it/s]"
      ]
     },
     "metadata": {},
     "output_type": "display_data"
    },
    {
     "name": "stderr",
     "output_type": "stream",
     "text": [
      "[2022-10-02 11:16:29,383] INFO | darts.models.forecasting.torch_forecasting_model | Train dataset contains 132 samples.\n",
      "[2022-10-02 11:16:29,383] INFO | darts.models.forecasting.torch_forecasting_model | Train dataset contains 132 samples.\n",
      "2022-10-02 11:16:29 darts.models.forecasting.torch_forecasting_model INFO: Train dataset contains 132 samples.\n",
      "2022-10-02 11:16:29 pytorch_lightning.utilities.distributed INFO: GPU available: False, used: False\n",
      "2022-10-02 11:16:29 pytorch_lightning.utilities.distributed INFO: TPU available: False, using: 0 TPU cores\n",
      "2022-10-02 11:16:29 pytorch_lightning.utilities.distributed INFO: IPU available: False, using: 0 IPUs\n",
      "[2022-10-02 11:16:29,391] WARNING | darts.models.forecasting.torch_forecasting_model | Attempting to retrain the model without resuming from a checkpoint. This is currently discouraged. Consider setting `save_checkpoints` to `True` and specifying `model_name` at model creation. Then call `model = TFTModel.load_from_checkpoint(model_name, best=False)`. Finally, train the model with `model.fit(..., epochs=new_epochs)` where `new_epochs` is the sum of (epochs already trained + some additional epochs).\n",
      "[2022-10-02 11:16:29,391] WARNING | darts.models.forecasting.torch_forecasting_model | Attempting to retrain the model without resuming from a checkpoint. This is currently discouraged. Consider setting `save_checkpoints` to `True` and specifying `model_name` at model creation. Then call `model = TFTModel.load_from_checkpoint(model_name, best=False)`. Finally, train the model with `model.fit(..., epochs=new_epochs)` where `new_epochs` is the sum of (epochs already trained + some additional epochs).\n",
      "2022-10-02 11:16:29 darts.models.forecasting.torch_forecasting_model WARNING: Attempting to retrain the model without resuming from a checkpoint. This is currently discouraged. Consider setting `save_checkpoints` to `True` and specifying `model_name` at model creation. Then call `model = TFTModel.load_from_checkpoint(model_name, best=False)`. Finally, train the model with `model.fit(..., epochs=new_epochs)` where `new_epochs` is the sum of (epochs already trained + some additional epochs).\n"
     ]
    },
    {
     "name": "stdout",
     "output_type": "stream",
     "text": [
      "101\n"
     ]
    },
    {
     "data": {
      "application/vnd.jupyter.widget-view+json": {
       "model_id": "a0b76abae8fc4e2285307ea5ba09e02e",
       "version_major": 2,
       "version_minor": 0
      },
      "text/plain": [
       "Training: 0it [00:00, ?it/s]"
      ]
     },
     "metadata": {},
     "output_type": "display_data"
    },
    {
     "data": {
      "application/vnd.jupyter.widget-view+json": {
       "model_id": "963e27a18ccf4c058defb06338b7679e",
       "version_major": 2,
       "version_minor": 0
      },
      "text/plain": [
       "Predicting: 33it [00:00, ?it/s]"
      ]
     },
     "metadata": {},
     "output_type": "display_data"
    },
    {
     "name": "stderr",
     "output_type": "stream",
     "text": [
      "[2022-10-02 11:16:30,572] INFO | darts.models.forecasting.torch_forecasting_model | Train dataset contains 133 samples.\n",
      "[2022-10-02 11:16:30,572] INFO | darts.models.forecasting.torch_forecasting_model | Train dataset contains 133 samples.\n",
      "2022-10-02 11:16:30 darts.models.forecasting.torch_forecasting_model INFO: Train dataset contains 133 samples.\n",
      "2022-10-02 11:16:30 pytorch_lightning.utilities.distributed INFO: GPU available: False, used: False\n",
      "2022-10-02 11:16:30 pytorch_lightning.utilities.distributed INFO: TPU available: False, using: 0 TPU cores\n",
      "2022-10-02 11:16:30 pytorch_lightning.utilities.distributed INFO: IPU available: False, using: 0 IPUs\n",
      "[2022-10-02 11:16:30,582] WARNING | darts.models.forecasting.torch_forecasting_model | Attempting to retrain the model without resuming from a checkpoint. This is currently discouraged. Consider setting `save_checkpoints` to `True` and specifying `model_name` at model creation. Then call `model = TFTModel.load_from_checkpoint(model_name, best=False)`. Finally, train the model with `model.fit(..., epochs=new_epochs)` where `new_epochs` is the sum of (epochs already trained + some additional epochs).\n",
      "[2022-10-02 11:16:30,582] WARNING | darts.models.forecasting.torch_forecasting_model | Attempting to retrain the model without resuming from a checkpoint. This is currently discouraged. Consider setting `save_checkpoints` to `True` and specifying `model_name` at model creation. Then call `model = TFTModel.load_from_checkpoint(model_name, best=False)`. Finally, train the model with `model.fit(..., epochs=new_epochs)` where `new_epochs` is the sum of (epochs already trained + some additional epochs).\n",
      "2022-10-02 11:16:30 darts.models.forecasting.torch_forecasting_model WARNING: Attempting to retrain the model without resuming from a checkpoint. This is currently discouraged. Consider setting `save_checkpoints` to `True` and specifying `model_name` at model creation. Then call `model = TFTModel.load_from_checkpoint(model_name, best=False)`. Finally, train the model with `model.fit(..., epochs=new_epochs)` where `new_epochs` is the sum of (epochs already trained + some additional epochs).\n"
     ]
    },
    {
     "name": "stdout",
     "output_type": "stream",
     "text": [
      "102\n"
     ]
    },
    {
     "data": {
      "application/vnd.jupyter.widget-view+json": {
       "model_id": "9e4e4a0559c6451f9f9647fe27da7d00",
       "version_major": 2,
       "version_minor": 0
      },
      "text/plain": [
       "Training: 0it [00:00, ?it/s]"
      ]
     },
     "metadata": {},
     "output_type": "display_data"
    },
    {
     "data": {
      "application/vnd.jupyter.widget-view+json": {
       "model_id": "c43e9fde9a5a408198ae509eabd5f39e",
       "version_major": 2,
       "version_minor": 0
      },
      "text/plain": [
       "Predicting: 34it [00:00, ?it/s]"
      ]
     },
     "metadata": {},
     "output_type": "display_data"
    },
    {
     "name": "stderr",
     "output_type": "stream",
     "text": [
      "[2022-10-02 11:16:31,820] INFO | darts.models.forecasting.torch_forecasting_model | Train dataset contains 134 samples.\n",
      "[2022-10-02 11:16:31,820] INFO | darts.models.forecasting.torch_forecasting_model | Train dataset contains 134 samples.\n",
      "2022-10-02 11:16:31 darts.models.forecasting.torch_forecasting_model INFO: Train dataset contains 134 samples.\n",
      "2022-10-02 11:16:31 pytorch_lightning.utilities.distributed INFO: GPU available: False, used: False\n",
      "2022-10-02 11:16:31 pytorch_lightning.utilities.distributed INFO: TPU available: False, using: 0 TPU cores\n",
      "2022-10-02 11:16:31 pytorch_lightning.utilities.distributed INFO: IPU available: False, using: 0 IPUs\n",
      "[2022-10-02 11:16:31,831] WARNING | darts.models.forecasting.torch_forecasting_model | Attempting to retrain the model without resuming from a checkpoint. This is currently discouraged. Consider setting `save_checkpoints` to `True` and specifying `model_name` at model creation. Then call `model = TFTModel.load_from_checkpoint(model_name, best=False)`. Finally, train the model with `model.fit(..., epochs=new_epochs)` where `new_epochs` is the sum of (epochs already trained + some additional epochs).\n",
      "[2022-10-02 11:16:31,831] WARNING | darts.models.forecasting.torch_forecasting_model | Attempting to retrain the model without resuming from a checkpoint. This is currently discouraged. Consider setting `save_checkpoints` to `True` and specifying `model_name` at model creation. Then call `model = TFTModel.load_from_checkpoint(model_name, best=False)`. Finally, train the model with `model.fit(..., epochs=new_epochs)` where `new_epochs` is the sum of (epochs already trained + some additional epochs).\n",
      "2022-10-02 11:16:31 darts.models.forecasting.torch_forecasting_model WARNING: Attempting to retrain the model without resuming from a checkpoint. This is currently discouraged. Consider setting `save_checkpoints` to `True` and specifying `model_name` at model creation. Then call `model = TFTModel.load_from_checkpoint(model_name, best=False)`. Finally, train the model with `model.fit(..., epochs=new_epochs)` where `new_epochs` is the sum of (epochs already trained + some additional epochs).\n"
     ]
    },
    {
     "name": "stdout",
     "output_type": "stream",
     "text": [
      "103\n"
     ]
    },
    {
     "data": {
      "application/vnd.jupyter.widget-view+json": {
       "model_id": "7ef4e392e6b7460ba7b0e95436261b97",
       "version_major": 2,
       "version_minor": 0
      },
      "text/plain": [
       "Training: 0it [00:00, ?it/s]"
      ]
     },
     "metadata": {},
     "output_type": "display_data"
    },
    {
     "data": {
      "application/vnd.jupyter.widget-view+json": {
       "model_id": "3b705935f4be420ea76374e70aafa7f9",
       "version_major": 2,
       "version_minor": 0
      },
      "text/plain": [
       "Predicting: 34it [00:00, ?it/s]"
      ]
     },
     "metadata": {},
     "output_type": "display_data"
    },
    {
     "name": "stderr",
     "output_type": "stream",
     "text": [
      "[2022-10-02 11:16:33,058] INFO | darts.models.forecasting.torch_forecasting_model | Train dataset contains 135 samples.\n",
      "[2022-10-02 11:16:33,058] INFO | darts.models.forecasting.torch_forecasting_model | Train dataset contains 135 samples.\n",
      "2022-10-02 11:16:33 darts.models.forecasting.torch_forecasting_model INFO: Train dataset contains 135 samples.\n",
      "2022-10-02 11:16:33 pytorch_lightning.utilities.distributed INFO: GPU available: False, used: False\n",
      "2022-10-02 11:16:33 pytorch_lightning.utilities.distributed INFO: TPU available: False, using: 0 TPU cores\n",
      "2022-10-02 11:16:33 pytorch_lightning.utilities.distributed INFO: IPU available: False, using: 0 IPUs\n",
      "[2022-10-02 11:16:33,067] WARNING | darts.models.forecasting.torch_forecasting_model | Attempting to retrain the model without resuming from a checkpoint. This is currently discouraged. Consider setting `save_checkpoints` to `True` and specifying `model_name` at model creation. Then call `model = TFTModel.load_from_checkpoint(model_name, best=False)`. Finally, train the model with `model.fit(..., epochs=new_epochs)` where `new_epochs` is the sum of (epochs already trained + some additional epochs).\n",
      "[2022-10-02 11:16:33,067] WARNING | darts.models.forecasting.torch_forecasting_model | Attempting to retrain the model without resuming from a checkpoint. This is currently discouraged. Consider setting `save_checkpoints` to `True` and specifying `model_name` at model creation. Then call `model = TFTModel.load_from_checkpoint(model_name, best=False)`. Finally, train the model with `model.fit(..., epochs=new_epochs)` where `new_epochs` is the sum of (epochs already trained + some additional epochs).\n",
      "2022-10-02 11:16:33 darts.models.forecasting.torch_forecasting_model WARNING: Attempting to retrain the model without resuming from a checkpoint. This is currently discouraged. Consider setting `save_checkpoints` to `True` and specifying `model_name` at model creation. Then call `model = TFTModel.load_from_checkpoint(model_name, best=False)`. Finally, train the model with `model.fit(..., epochs=new_epochs)` where `new_epochs` is the sum of (epochs already trained + some additional epochs).\n"
     ]
    },
    {
     "name": "stdout",
     "output_type": "stream",
     "text": [
      "104\n"
     ]
    },
    {
     "data": {
      "application/vnd.jupyter.widget-view+json": {
       "model_id": "12b341de09a3411494f94f15c8d2a8e8",
       "version_major": 2,
       "version_minor": 0
      },
      "text/plain": [
       "Training: 0it [00:00, ?it/s]"
      ]
     },
     "metadata": {},
     "output_type": "display_data"
    },
    {
     "data": {
      "application/vnd.jupyter.widget-view+json": {
       "model_id": "1b0a98c8e030415399e83cefe824ab6c",
       "version_major": 2,
       "version_minor": 0
      },
      "text/plain": [
       "Predicting: 34it [00:00, ?it/s]"
      ]
     },
     "metadata": {},
     "output_type": "display_data"
    },
    {
     "name": "stderr",
     "output_type": "stream",
     "text": [
      "[2022-10-02 11:16:34,262] INFO | darts.models.forecasting.torch_forecasting_model | Train dataset contains 136 samples.\n",
      "[2022-10-02 11:16:34,262] INFO | darts.models.forecasting.torch_forecasting_model | Train dataset contains 136 samples.\n",
      "2022-10-02 11:16:34 darts.models.forecasting.torch_forecasting_model INFO: Train dataset contains 136 samples.\n",
      "2022-10-02 11:16:34 pytorch_lightning.utilities.distributed INFO: GPU available: False, used: False\n",
      "2022-10-02 11:16:34 pytorch_lightning.utilities.distributed INFO: TPU available: False, using: 0 TPU cores\n",
      "2022-10-02 11:16:34 pytorch_lightning.utilities.distributed INFO: IPU available: False, using: 0 IPUs\n",
      "[2022-10-02 11:16:34,271] WARNING | darts.models.forecasting.torch_forecasting_model | Attempting to retrain the model without resuming from a checkpoint. This is currently discouraged. Consider setting `save_checkpoints` to `True` and specifying `model_name` at model creation. Then call `model = TFTModel.load_from_checkpoint(model_name, best=False)`. Finally, train the model with `model.fit(..., epochs=new_epochs)` where `new_epochs` is the sum of (epochs already trained + some additional epochs).\n",
      "[2022-10-02 11:16:34,271] WARNING | darts.models.forecasting.torch_forecasting_model | Attempting to retrain the model without resuming from a checkpoint. This is currently discouraged. Consider setting `save_checkpoints` to `True` and specifying `model_name` at model creation. Then call `model = TFTModel.load_from_checkpoint(model_name, best=False)`. Finally, train the model with `model.fit(..., epochs=new_epochs)` where `new_epochs` is the sum of (epochs already trained + some additional epochs).\n",
      "2022-10-02 11:16:34 darts.models.forecasting.torch_forecasting_model WARNING: Attempting to retrain the model without resuming from a checkpoint. This is currently discouraged. Consider setting `save_checkpoints` to `True` and specifying `model_name` at model creation. Then call `model = TFTModel.load_from_checkpoint(model_name, best=False)`. Finally, train the model with `model.fit(..., epochs=new_epochs)` where `new_epochs` is the sum of (epochs already trained + some additional epochs).\n"
     ]
    },
    {
     "name": "stdout",
     "output_type": "stream",
     "text": [
      "105\n"
     ]
    },
    {
     "data": {
      "application/vnd.jupyter.widget-view+json": {
       "model_id": "43bbfc15e78340fdbb4f91fd44446e06",
       "version_major": 2,
       "version_minor": 0
      },
      "text/plain": [
       "Training: 0it [00:00, ?it/s]"
      ]
     },
     "metadata": {},
     "output_type": "display_data"
    },
    {
     "data": {
      "application/vnd.jupyter.widget-view+json": {
       "model_id": "7cec878617524eaca1dd8d2c7ffba9a2",
       "version_major": 2,
       "version_minor": 0
      },
      "text/plain": [
       "Predicting: 34it [00:00, ?it/s]"
      ]
     },
     "metadata": {},
     "output_type": "display_data"
    },
    {
     "name": "stderr",
     "output_type": "stream",
     "text": [
      "[2022-10-02 11:16:35,483] INFO | darts.models.forecasting.torch_forecasting_model | Train dataset contains 137 samples.\n",
      "[2022-10-02 11:16:35,483] INFO | darts.models.forecasting.torch_forecasting_model | Train dataset contains 137 samples.\n",
      "2022-10-02 11:16:35 darts.models.forecasting.torch_forecasting_model INFO: Train dataset contains 137 samples.\n",
      "2022-10-02 11:16:35 pytorch_lightning.utilities.distributed INFO: GPU available: False, used: False\n",
      "2022-10-02 11:16:35 pytorch_lightning.utilities.distributed INFO: TPU available: False, using: 0 TPU cores\n",
      "2022-10-02 11:16:35 pytorch_lightning.utilities.distributed INFO: IPU available: False, using: 0 IPUs\n",
      "[2022-10-02 11:16:35,490] WARNING | darts.models.forecasting.torch_forecasting_model | Attempting to retrain the model without resuming from a checkpoint. This is currently discouraged. Consider setting `save_checkpoints` to `True` and specifying `model_name` at model creation. Then call `model = TFTModel.load_from_checkpoint(model_name, best=False)`. Finally, train the model with `model.fit(..., epochs=new_epochs)` where `new_epochs` is the sum of (epochs already trained + some additional epochs).\n",
      "[2022-10-02 11:16:35,490] WARNING | darts.models.forecasting.torch_forecasting_model | Attempting to retrain the model without resuming from a checkpoint. This is currently discouraged. Consider setting `save_checkpoints` to `True` and specifying `model_name` at model creation. Then call `model = TFTModel.load_from_checkpoint(model_name, best=False)`. Finally, train the model with `model.fit(..., epochs=new_epochs)` where `new_epochs` is the sum of (epochs already trained + some additional epochs).\n",
      "2022-10-02 11:16:35 darts.models.forecasting.torch_forecasting_model WARNING: Attempting to retrain the model without resuming from a checkpoint. This is currently discouraged. Consider setting `save_checkpoints` to `True` and specifying `model_name` at model creation. Then call `model = TFTModel.load_from_checkpoint(model_name, best=False)`. Finally, train the model with `model.fit(..., epochs=new_epochs)` where `new_epochs` is the sum of (epochs already trained + some additional epochs).\n"
     ]
    },
    {
     "name": "stdout",
     "output_type": "stream",
     "text": [
      "106\n"
     ]
    },
    {
     "data": {
      "application/vnd.jupyter.widget-view+json": {
       "model_id": "bba777469810431e8dda174d1c72bab7",
       "version_major": 2,
       "version_minor": 0
      },
      "text/plain": [
       "Training: 0it [00:00, ?it/s]"
      ]
     },
     "metadata": {},
     "output_type": "display_data"
    },
    {
     "data": {
      "application/vnd.jupyter.widget-view+json": {
       "model_id": "94f4f24623404aa6b8f0612465c0ee37",
       "version_major": 2,
       "version_minor": 0
      },
      "text/plain": [
       "Predicting: 35it [00:00, ?it/s]"
      ]
     },
     "metadata": {},
     "output_type": "display_data"
    },
    {
     "name": "stderr",
     "output_type": "stream",
     "text": [
      "[2022-10-02 11:16:36,844] INFO | darts.models.forecasting.torch_forecasting_model | Train dataset contains 138 samples.\n",
      "[2022-10-02 11:16:36,844] INFO | darts.models.forecasting.torch_forecasting_model | Train dataset contains 138 samples.\n",
      "2022-10-02 11:16:36 darts.models.forecasting.torch_forecasting_model INFO: Train dataset contains 138 samples.\n",
      "2022-10-02 11:16:36 pytorch_lightning.utilities.distributed INFO: GPU available: False, used: False\n",
      "2022-10-02 11:16:36 pytorch_lightning.utilities.distributed INFO: TPU available: False, using: 0 TPU cores\n",
      "2022-10-02 11:16:36 pytorch_lightning.utilities.distributed INFO: IPU available: False, using: 0 IPUs\n",
      "[2022-10-02 11:16:36,855] WARNING | darts.models.forecasting.torch_forecasting_model | Attempting to retrain the model without resuming from a checkpoint. This is currently discouraged. Consider setting `save_checkpoints` to `True` and specifying `model_name` at model creation. Then call `model = TFTModel.load_from_checkpoint(model_name, best=False)`. Finally, train the model with `model.fit(..., epochs=new_epochs)` where `new_epochs` is the sum of (epochs already trained + some additional epochs).\n",
      "[2022-10-02 11:16:36,855] WARNING | darts.models.forecasting.torch_forecasting_model | Attempting to retrain the model without resuming from a checkpoint. This is currently discouraged. Consider setting `save_checkpoints` to `True` and specifying `model_name` at model creation. Then call `model = TFTModel.load_from_checkpoint(model_name, best=False)`. Finally, train the model with `model.fit(..., epochs=new_epochs)` where `new_epochs` is the sum of (epochs already trained + some additional epochs).\n",
      "2022-10-02 11:16:36 darts.models.forecasting.torch_forecasting_model WARNING: Attempting to retrain the model without resuming from a checkpoint. This is currently discouraged. Consider setting `save_checkpoints` to `True` and specifying `model_name` at model creation. Then call `model = TFTModel.load_from_checkpoint(model_name, best=False)`. Finally, train the model with `model.fit(..., epochs=new_epochs)` where `new_epochs` is the sum of (epochs already trained + some additional epochs).\n"
     ]
    },
    {
     "name": "stdout",
     "output_type": "stream",
     "text": [
      "107\n"
     ]
    },
    {
     "data": {
      "application/vnd.jupyter.widget-view+json": {
       "model_id": "08455aed12ed4af8b01431763aaecfad",
       "version_major": 2,
       "version_minor": 0
      },
      "text/plain": [
       "Training: 0it [00:00, ?it/s]"
      ]
     },
     "metadata": {},
     "output_type": "display_data"
    },
    {
     "data": {
      "application/vnd.jupyter.widget-view+json": {
       "model_id": "9e541065a25c46a3b34f523784cd375a",
       "version_major": 2,
       "version_minor": 0
      },
      "text/plain": [
       "Predicting: 35it [00:00, ?it/s]"
      ]
     },
     "metadata": {},
     "output_type": "display_data"
    },
    {
     "name": "stderr",
     "output_type": "stream",
     "text": [
      "[2022-10-02 11:16:38,118] INFO | darts.models.forecasting.torch_forecasting_model | Train dataset contains 139 samples.\n",
      "[2022-10-02 11:16:38,118] INFO | darts.models.forecasting.torch_forecasting_model | Train dataset contains 139 samples.\n",
      "2022-10-02 11:16:38 darts.models.forecasting.torch_forecasting_model INFO: Train dataset contains 139 samples.\n",
      "2022-10-02 11:16:38 pytorch_lightning.utilities.distributed INFO: GPU available: False, used: False\n",
      "2022-10-02 11:16:38 pytorch_lightning.utilities.distributed INFO: TPU available: False, using: 0 TPU cores\n",
      "2022-10-02 11:16:38 pytorch_lightning.utilities.distributed INFO: IPU available: False, using: 0 IPUs\n",
      "[2022-10-02 11:16:38,127] WARNING | darts.models.forecasting.torch_forecasting_model | Attempting to retrain the model without resuming from a checkpoint. This is currently discouraged. Consider setting `save_checkpoints` to `True` and specifying `model_name` at model creation. Then call `model = TFTModel.load_from_checkpoint(model_name, best=False)`. Finally, train the model with `model.fit(..., epochs=new_epochs)` where `new_epochs` is the sum of (epochs already trained + some additional epochs).\n",
      "[2022-10-02 11:16:38,127] WARNING | darts.models.forecasting.torch_forecasting_model | Attempting to retrain the model without resuming from a checkpoint. This is currently discouraged. Consider setting `save_checkpoints` to `True` and specifying `model_name` at model creation. Then call `model = TFTModel.load_from_checkpoint(model_name, best=False)`. Finally, train the model with `model.fit(..., epochs=new_epochs)` where `new_epochs` is the sum of (epochs already trained + some additional epochs).\n",
      "2022-10-02 11:16:38 darts.models.forecasting.torch_forecasting_model WARNING: Attempting to retrain the model without resuming from a checkpoint. This is currently discouraged. Consider setting `save_checkpoints` to `True` and specifying `model_name` at model creation. Then call `model = TFTModel.load_from_checkpoint(model_name, best=False)`. Finally, train the model with `model.fit(..., epochs=new_epochs)` where `new_epochs` is the sum of (epochs already trained + some additional epochs).\n"
     ]
    },
    {
     "name": "stdout",
     "output_type": "stream",
     "text": [
      "108\n"
     ]
    },
    {
     "data": {
      "application/vnd.jupyter.widget-view+json": {
       "model_id": "f2493ab745544ba0af2bb9eb25353826",
       "version_major": 2,
       "version_minor": 0
      },
      "text/plain": [
       "Training: 0it [00:00, ?it/s]"
      ]
     },
     "metadata": {},
     "output_type": "display_data"
    },
    {
     "data": {
      "application/vnd.jupyter.widget-view+json": {
       "model_id": "a8fa91579c834f91859f1ab9559a8478",
       "version_major": 2,
       "version_minor": 0
      },
      "text/plain": [
       "Predicting: 35it [00:00, ?it/s]"
      ]
     },
     "metadata": {},
     "output_type": "display_data"
    },
    {
     "name": "stderr",
     "output_type": "stream",
     "text": [
      "[2022-10-02 11:16:39,386] INFO | darts.models.forecasting.torch_forecasting_model | Train dataset contains 140 samples.\n",
      "[2022-10-02 11:16:39,386] INFO | darts.models.forecasting.torch_forecasting_model | Train dataset contains 140 samples.\n",
      "2022-10-02 11:16:39 darts.models.forecasting.torch_forecasting_model INFO: Train dataset contains 140 samples.\n",
      "2022-10-02 11:16:39 pytorch_lightning.utilities.distributed INFO: GPU available: False, used: False\n",
      "2022-10-02 11:16:39 pytorch_lightning.utilities.distributed INFO: TPU available: False, using: 0 TPU cores\n",
      "2022-10-02 11:16:39 pytorch_lightning.utilities.distributed INFO: IPU available: False, using: 0 IPUs\n",
      "[2022-10-02 11:16:39,395] WARNING | darts.models.forecasting.torch_forecasting_model | Attempting to retrain the model without resuming from a checkpoint. This is currently discouraged. Consider setting `save_checkpoints` to `True` and specifying `model_name` at model creation. Then call `model = TFTModel.load_from_checkpoint(model_name, best=False)`. Finally, train the model with `model.fit(..., epochs=new_epochs)` where `new_epochs` is the sum of (epochs already trained + some additional epochs).\n",
      "[2022-10-02 11:16:39,395] WARNING | darts.models.forecasting.torch_forecasting_model | Attempting to retrain the model without resuming from a checkpoint. This is currently discouraged. Consider setting `save_checkpoints` to `True` and specifying `model_name` at model creation. Then call `model = TFTModel.load_from_checkpoint(model_name, best=False)`. Finally, train the model with `model.fit(..., epochs=new_epochs)` where `new_epochs` is the sum of (epochs already trained + some additional epochs).\n",
      "2022-10-02 11:16:39 darts.models.forecasting.torch_forecasting_model WARNING: Attempting to retrain the model without resuming from a checkpoint. This is currently discouraged. Consider setting `save_checkpoints` to `True` and specifying `model_name` at model creation. Then call `model = TFTModel.load_from_checkpoint(model_name, best=False)`. Finally, train the model with `model.fit(..., epochs=new_epochs)` where `new_epochs` is the sum of (epochs already trained + some additional epochs).\n"
     ]
    },
    {
     "name": "stdout",
     "output_type": "stream",
     "text": [
      "109\n"
     ]
    },
    {
     "data": {
      "application/vnd.jupyter.widget-view+json": {
       "model_id": "585e1797211b4799ab92231c5bd1954c",
       "version_major": 2,
       "version_minor": 0
      },
      "text/plain": [
       "Training: 0it [00:00, ?it/s]"
      ]
     },
     "metadata": {},
     "output_type": "display_data"
    },
    {
     "data": {
      "application/vnd.jupyter.widget-view+json": {
       "model_id": "9984af5560d34ca0b7e2a5e46d055ca7",
       "version_major": 2,
       "version_minor": 0
      },
      "text/plain": [
       "Predicting: 35it [00:00, ?it/s]"
      ]
     },
     "metadata": {},
     "output_type": "display_data"
    },
    {
     "name": "stderr",
     "output_type": "stream",
     "text": [
      "[2022-10-02 11:16:40,640] INFO | darts.models.forecasting.torch_forecasting_model | Train dataset contains 141 samples.\n",
      "[2022-10-02 11:16:40,640] INFO | darts.models.forecasting.torch_forecasting_model | Train dataset contains 141 samples.\n",
      "2022-10-02 11:16:40 darts.models.forecasting.torch_forecasting_model INFO: Train dataset contains 141 samples.\n",
      "2022-10-02 11:16:40 pytorch_lightning.utilities.distributed INFO: GPU available: False, used: False\n",
      "2022-10-02 11:16:40 pytorch_lightning.utilities.distributed INFO: TPU available: False, using: 0 TPU cores\n",
      "2022-10-02 11:16:40 pytorch_lightning.utilities.distributed INFO: IPU available: False, using: 0 IPUs\n",
      "[2022-10-02 11:16:40,648] WARNING | darts.models.forecasting.torch_forecasting_model | Attempting to retrain the model without resuming from a checkpoint. This is currently discouraged. Consider setting `save_checkpoints` to `True` and specifying `model_name` at model creation. Then call `model = TFTModel.load_from_checkpoint(model_name, best=False)`. Finally, train the model with `model.fit(..., epochs=new_epochs)` where `new_epochs` is the sum of (epochs already trained + some additional epochs).\n",
      "[2022-10-02 11:16:40,648] WARNING | darts.models.forecasting.torch_forecasting_model | Attempting to retrain the model without resuming from a checkpoint. This is currently discouraged. Consider setting `save_checkpoints` to `True` and specifying `model_name` at model creation. Then call `model = TFTModel.load_from_checkpoint(model_name, best=False)`. Finally, train the model with `model.fit(..., epochs=new_epochs)` where `new_epochs` is the sum of (epochs already trained + some additional epochs).\n",
      "2022-10-02 11:16:40 darts.models.forecasting.torch_forecasting_model WARNING: Attempting to retrain the model without resuming from a checkpoint. This is currently discouraged. Consider setting `save_checkpoints` to `True` and specifying `model_name` at model creation. Then call `model = TFTModel.load_from_checkpoint(model_name, best=False)`. Finally, train the model with `model.fit(..., epochs=new_epochs)` where `new_epochs` is the sum of (epochs already trained + some additional epochs).\n"
     ]
    },
    {
     "name": "stdout",
     "output_type": "stream",
     "text": [
      "110\n"
     ]
    },
    {
     "data": {
      "application/vnd.jupyter.widget-view+json": {
       "model_id": "b562f6f04ede40f3b16b0a269c3dc536",
       "version_major": 2,
       "version_minor": 0
      },
      "text/plain": [
       "Training: 0it [00:00, ?it/s]"
      ]
     },
     "metadata": {},
     "output_type": "display_data"
    },
    {
     "data": {
      "application/vnd.jupyter.widget-view+json": {
       "model_id": "c1fe2ff49e264f3bb340f8dc1a3c7fb1",
       "version_major": 2,
       "version_minor": 0
      },
      "text/plain": [
       "Predicting: 36it [00:00, ?it/s]"
      ]
     },
     "metadata": {},
     "output_type": "display_data"
    },
    {
     "name": "stderr",
     "output_type": "stream",
     "text": [
      "[2022-10-02 11:16:41,955] INFO | darts.models.forecasting.torch_forecasting_model | Train dataset contains 142 samples.\n",
      "[2022-10-02 11:16:41,955] INFO | darts.models.forecasting.torch_forecasting_model | Train dataset contains 142 samples.\n",
      "2022-10-02 11:16:41 darts.models.forecasting.torch_forecasting_model INFO: Train dataset contains 142 samples.\n",
      "2022-10-02 11:16:41 pytorch_lightning.utilities.distributed INFO: GPU available: False, used: False\n",
      "2022-10-02 11:16:41 pytorch_lightning.utilities.distributed INFO: TPU available: False, using: 0 TPU cores\n",
      "2022-10-02 11:16:41 pytorch_lightning.utilities.distributed INFO: IPU available: False, using: 0 IPUs\n",
      "[2022-10-02 11:16:41,966] WARNING | darts.models.forecasting.torch_forecasting_model | Attempting to retrain the model without resuming from a checkpoint. This is currently discouraged. Consider setting `save_checkpoints` to `True` and specifying `model_name` at model creation. Then call `model = TFTModel.load_from_checkpoint(model_name, best=False)`. Finally, train the model with `model.fit(..., epochs=new_epochs)` where `new_epochs` is the sum of (epochs already trained + some additional epochs).\n",
      "[2022-10-02 11:16:41,966] WARNING | darts.models.forecasting.torch_forecasting_model | Attempting to retrain the model without resuming from a checkpoint. This is currently discouraged. Consider setting `save_checkpoints` to `True` and specifying `model_name` at model creation. Then call `model = TFTModel.load_from_checkpoint(model_name, best=False)`. Finally, train the model with `model.fit(..., epochs=new_epochs)` where `new_epochs` is the sum of (epochs already trained + some additional epochs).\n",
      "2022-10-02 11:16:41 darts.models.forecasting.torch_forecasting_model WARNING: Attempting to retrain the model without resuming from a checkpoint. This is currently discouraged. Consider setting `save_checkpoints` to `True` and specifying `model_name` at model creation. Then call `model = TFTModel.load_from_checkpoint(model_name, best=False)`. Finally, train the model with `model.fit(..., epochs=new_epochs)` where `new_epochs` is the sum of (epochs already trained + some additional epochs).\n"
     ]
    },
    {
     "name": "stdout",
     "output_type": "stream",
     "text": [
      "111\n"
     ]
    },
    {
     "data": {
      "application/vnd.jupyter.widget-view+json": {
       "model_id": "26ff1c4b8b0e4c47bc8df0c533ebcc65",
       "version_major": 2,
       "version_minor": 0
      },
      "text/plain": [
       "Training: 0it [00:00, ?it/s]"
      ]
     },
     "metadata": {},
     "output_type": "display_data"
    },
    {
     "data": {
      "application/vnd.jupyter.widget-view+json": {
       "model_id": "589a78f4da5c4216b5ba27e61d65b4b9",
       "version_major": 2,
       "version_minor": 0
      },
      "text/plain": [
       "Predicting: 36it [00:00, ?it/s]"
      ]
     },
     "metadata": {},
     "output_type": "display_data"
    },
    {
     "name": "stderr",
     "output_type": "stream",
     "text": [
      "[2022-10-02 11:16:43,273] INFO | darts.models.forecasting.torch_forecasting_model | Train dataset contains 143 samples.\n",
      "[2022-10-02 11:16:43,273] INFO | darts.models.forecasting.torch_forecasting_model | Train dataset contains 143 samples.\n",
      "2022-10-02 11:16:43 darts.models.forecasting.torch_forecasting_model INFO: Train dataset contains 143 samples.\n",
      "2022-10-02 11:16:43 pytorch_lightning.utilities.distributed INFO: GPU available: False, used: False\n",
      "2022-10-02 11:16:43 pytorch_lightning.utilities.distributed INFO: TPU available: False, using: 0 TPU cores\n",
      "2022-10-02 11:16:43 pytorch_lightning.utilities.distributed INFO: IPU available: False, using: 0 IPUs\n",
      "[2022-10-02 11:16:43,281] WARNING | darts.models.forecasting.torch_forecasting_model | Attempting to retrain the model without resuming from a checkpoint. This is currently discouraged. Consider setting `save_checkpoints` to `True` and specifying `model_name` at model creation. Then call `model = TFTModel.load_from_checkpoint(model_name, best=False)`. Finally, train the model with `model.fit(..., epochs=new_epochs)` where `new_epochs` is the sum of (epochs already trained + some additional epochs).\n",
      "[2022-10-02 11:16:43,281] WARNING | darts.models.forecasting.torch_forecasting_model | Attempting to retrain the model without resuming from a checkpoint. This is currently discouraged. Consider setting `save_checkpoints` to `True` and specifying `model_name` at model creation. Then call `model = TFTModel.load_from_checkpoint(model_name, best=False)`. Finally, train the model with `model.fit(..., epochs=new_epochs)` where `new_epochs` is the sum of (epochs already trained + some additional epochs).\n",
      "2022-10-02 11:16:43 darts.models.forecasting.torch_forecasting_model WARNING: Attempting to retrain the model without resuming from a checkpoint. This is currently discouraged. Consider setting `save_checkpoints` to `True` and specifying `model_name` at model creation. Then call `model = TFTModel.load_from_checkpoint(model_name, best=False)`. Finally, train the model with `model.fit(..., epochs=new_epochs)` where `new_epochs` is the sum of (epochs already trained + some additional epochs).\n"
     ]
    },
    {
     "name": "stdout",
     "output_type": "stream",
     "text": [
      "112\n"
     ]
    },
    {
     "data": {
      "application/vnd.jupyter.widget-view+json": {
       "model_id": "b476045c73784560a1f309b0d0d18150",
       "version_major": 2,
       "version_minor": 0
      },
      "text/plain": [
       "Training: 0it [00:00, ?it/s]"
      ]
     },
     "metadata": {},
     "output_type": "display_data"
    },
    {
     "data": {
      "application/vnd.jupyter.widget-view+json": {
       "model_id": "dcaec6a174664d4aa81ef8d1209c2804",
       "version_major": 2,
       "version_minor": 0
      },
      "text/plain": [
       "Predicting: 36it [00:00, ?it/s]"
      ]
     },
     "metadata": {},
     "output_type": "display_data"
    },
    {
     "name": "stderr",
     "output_type": "stream",
     "text": [
      "[2022-10-02 11:16:44,593] INFO | darts.models.forecasting.torch_forecasting_model | Train dataset contains 144 samples.\n",
      "[2022-10-02 11:16:44,593] INFO | darts.models.forecasting.torch_forecasting_model | Train dataset contains 144 samples.\n",
      "2022-10-02 11:16:44 darts.models.forecasting.torch_forecasting_model INFO: Train dataset contains 144 samples.\n",
      "2022-10-02 11:16:44 pytorch_lightning.utilities.distributed INFO: GPU available: False, used: False\n",
      "2022-10-02 11:16:44 pytorch_lightning.utilities.distributed INFO: TPU available: False, using: 0 TPU cores\n",
      "2022-10-02 11:16:44 pytorch_lightning.utilities.distributed INFO: IPU available: False, using: 0 IPUs\n",
      "[2022-10-02 11:16:44,601] WARNING | darts.models.forecasting.torch_forecasting_model | Attempting to retrain the model without resuming from a checkpoint. This is currently discouraged. Consider setting `save_checkpoints` to `True` and specifying `model_name` at model creation. Then call `model = TFTModel.load_from_checkpoint(model_name, best=False)`. Finally, train the model with `model.fit(..., epochs=new_epochs)` where `new_epochs` is the sum of (epochs already trained + some additional epochs).\n",
      "[2022-10-02 11:16:44,601] WARNING | darts.models.forecasting.torch_forecasting_model | Attempting to retrain the model without resuming from a checkpoint. This is currently discouraged. Consider setting `save_checkpoints` to `True` and specifying `model_name` at model creation. Then call `model = TFTModel.load_from_checkpoint(model_name, best=False)`. Finally, train the model with `model.fit(..., epochs=new_epochs)` where `new_epochs` is the sum of (epochs already trained + some additional epochs).\n",
      "2022-10-02 11:16:44 darts.models.forecasting.torch_forecasting_model WARNING: Attempting to retrain the model without resuming from a checkpoint. This is currently discouraged. Consider setting `save_checkpoints` to `True` and specifying `model_name` at model creation. Then call `model = TFTModel.load_from_checkpoint(model_name, best=False)`. Finally, train the model with `model.fit(..., epochs=new_epochs)` where `new_epochs` is the sum of (epochs already trained + some additional epochs).\n"
     ]
    },
    {
     "name": "stdout",
     "output_type": "stream",
     "text": [
      "113\n"
     ]
    },
    {
     "data": {
      "application/vnd.jupyter.widget-view+json": {
       "model_id": "08e6bb724b604e2ca42a17aee7c7c3bf",
       "version_major": 2,
       "version_minor": 0
      },
      "text/plain": [
       "Training: 0it [00:00, ?it/s]"
      ]
     },
     "metadata": {},
     "output_type": "display_data"
    },
    {
     "data": {
      "application/vnd.jupyter.widget-view+json": {
       "model_id": "8f8e109fdbf2495da54da56478ae24a2",
       "version_major": 2,
       "version_minor": 0
      },
      "text/plain": [
       "Predicting: 36it [00:00, ?it/s]"
      ]
     },
     "metadata": {},
     "output_type": "display_data"
    },
    {
     "name": "stderr",
     "output_type": "stream",
     "text": [
      "[2022-10-02 11:16:45,936] INFO | darts.models.forecasting.torch_forecasting_model | Train dataset contains 145 samples.\n",
      "[2022-10-02 11:16:45,936] INFO | darts.models.forecasting.torch_forecasting_model | Train dataset contains 145 samples.\n",
      "2022-10-02 11:16:45 darts.models.forecasting.torch_forecasting_model INFO: Train dataset contains 145 samples.\n",
      "2022-10-02 11:16:45 pytorch_lightning.utilities.distributed INFO: GPU available: False, used: False\n",
      "2022-10-02 11:16:45 pytorch_lightning.utilities.distributed INFO: TPU available: False, using: 0 TPU cores\n",
      "2022-10-02 11:16:45 pytorch_lightning.utilities.distributed INFO: IPU available: False, using: 0 IPUs\n",
      "[2022-10-02 11:16:45,944] WARNING | darts.models.forecasting.torch_forecasting_model | Attempting to retrain the model without resuming from a checkpoint. This is currently discouraged. Consider setting `save_checkpoints` to `True` and specifying `model_name` at model creation. Then call `model = TFTModel.load_from_checkpoint(model_name, best=False)`. Finally, train the model with `model.fit(..., epochs=new_epochs)` where `new_epochs` is the sum of (epochs already trained + some additional epochs).\n",
      "[2022-10-02 11:16:45,944] WARNING | darts.models.forecasting.torch_forecasting_model | Attempting to retrain the model without resuming from a checkpoint. This is currently discouraged. Consider setting `save_checkpoints` to `True` and specifying `model_name` at model creation. Then call `model = TFTModel.load_from_checkpoint(model_name, best=False)`. Finally, train the model with `model.fit(..., epochs=new_epochs)` where `new_epochs` is the sum of (epochs already trained + some additional epochs).\n",
      "2022-10-02 11:16:45 darts.models.forecasting.torch_forecasting_model WARNING: Attempting to retrain the model without resuming from a checkpoint. This is currently discouraged. Consider setting `save_checkpoints` to `True` and specifying `model_name` at model creation. Then call `model = TFTModel.load_from_checkpoint(model_name, best=False)`. Finally, train the model with `model.fit(..., epochs=new_epochs)` where `new_epochs` is the sum of (epochs already trained + some additional epochs).\n"
     ]
    },
    {
     "name": "stdout",
     "output_type": "stream",
     "text": [
      "114\n"
     ]
    },
    {
     "data": {
      "application/vnd.jupyter.widget-view+json": {
       "model_id": "e7c89670dc824e078369389c33b268fe",
       "version_major": 2,
       "version_minor": 0
      },
      "text/plain": [
       "Training: 0it [00:00, ?it/s]"
      ]
     },
     "metadata": {},
     "output_type": "display_data"
    },
    {
     "data": {
      "application/vnd.jupyter.widget-view+json": {
       "model_id": "3dced8163f754158a9b04999613a0143",
       "version_major": 2,
       "version_minor": 0
      },
      "text/plain": [
       "Predicting: 37it [00:00, ?it/s]"
      ]
     },
     "metadata": {},
     "output_type": "display_data"
    },
    {
     "name": "stderr",
     "output_type": "stream",
     "text": [
      "[2022-10-02 11:16:47,255] INFO | darts.models.forecasting.torch_forecasting_model | Train dataset contains 146 samples.\n",
      "[2022-10-02 11:16:47,255] INFO | darts.models.forecasting.torch_forecasting_model | Train dataset contains 146 samples.\n",
      "2022-10-02 11:16:47 darts.models.forecasting.torch_forecasting_model INFO: Train dataset contains 146 samples.\n",
      "2022-10-02 11:16:47 pytorch_lightning.utilities.distributed INFO: GPU available: False, used: False\n",
      "2022-10-02 11:16:47 pytorch_lightning.utilities.distributed INFO: TPU available: False, using: 0 TPU cores\n",
      "2022-10-02 11:16:47 pytorch_lightning.utilities.distributed INFO: IPU available: False, using: 0 IPUs\n",
      "[2022-10-02 11:16:47,265] WARNING | darts.models.forecasting.torch_forecasting_model | Attempting to retrain the model without resuming from a checkpoint. This is currently discouraged. Consider setting `save_checkpoints` to `True` and specifying `model_name` at model creation. Then call `model = TFTModel.load_from_checkpoint(model_name, best=False)`. Finally, train the model with `model.fit(..., epochs=new_epochs)` where `new_epochs` is the sum of (epochs already trained + some additional epochs).\n",
      "[2022-10-02 11:16:47,265] WARNING | darts.models.forecasting.torch_forecasting_model | Attempting to retrain the model without resuming from a checkpoint. This is currently discouraged. Consider setting `save_checkpoints` to `True` and specifying `model_name` at model creation. Then call `model = TFTModel.load_from_checkpoint(model_name, best=False)`. Finally, train the model with `model.fit(..., epochs=new_epochs)` where `new_epochs` is the sum of (epochs already trained + some additional epochs).\n",
      "2022-10-02 11:16:47 darts.models.forecasting.torch_forecasting_model WARNING: Attempting to retrain the model without resuming from a checkpoint. This is currently discouraged. Consider setting `save_checkpoints` to `True` and specifying `model_name` at model creation. Then call `model = TFTModel.load_from_checkpoint(model_name, best=False)`. Finally, train the model with `model.fit(..., epochs=new_epochs)` where `new_epochs` is the sum of (epochs already trained + some additional epochs).\n"
     ]
    },
    {
     "name": "stdout",
     "output_type": "stream",
     "text": [
      "115\n"
     ]
    },
    {
     "data": {
      "application/vnd.jupyter.widget-view+json": {
       "model_id": "2b73db3542f74e149cf7b34a92104bc2",
       "version_major": 2,
       "version_minor": 0
      },
      "text/plain": [
       "Training: 0it [00:00, ?it/s]"
      ]
     },
     "metadata": {},
     "output_type": "display_data"
    },
    {
     "data": {
      "application/vnd.jupyter.widget-view+json": {
       "model_id": "5e1e6313b7ee414292de16d53058655d",
       "version_major": 2,
       "version_minor": 0
      },
      "text/plain": [
       "Predicting: 37it [00:00, ?it/s]"
      ]
     },
     "metadata": {},
     "output_type": "display_data"
    },
    {
     "name": "stderr",
     "output_type": "stream",
     "text": [
      "[2022-10-02 11:16:48,560] INFO | darts.models.forecasting.torch_forecasting_model | Train dataset contains 147 samples.\n",
      "[2022-10-02 11:16:48,560] INFO | darts.models.forecasting.torch_forecasting_model | Train dataset contains 147 samples.\n",
      "2022-10-02 11:16:48 darts.models.forecasting.torch_forecasting_model INFO: Train dataset contains 147 samples.\n",
      "2022-10-02 11:16:48 pytorch_lightning.utilities.distributed INFO: GPU available: False, used: False\n",
      "2022-10-02 11:16:48 pytorch_lightning.utilities.distributed INFO: TPU available: False, using: 0 TPU cores\n",
      "2022-10-02 11:16:48 pytorch_lightning.utilities.distributed INFO: IPU available: False, using: 0 IPUs\n",
      "[2022-10-02 11:16:48,571] WARNING | darts.models.forecasting.torch_forecasting_model | Attempting to retrain the model without resuming from a checkpoint. This is currently discouraged. Consider setting `save_checkpoints` to `True` and specifying `model_name` at model creation. Then call `model = TFTModel.load_from_checkpoint(model_name, best=False)`. Finally, train the model with `model.fit(..., epochs=new_epochs)` where `new_epochs` is the sum of (epochs already trained + some additional epochs).\n",
      "[2022-10-02 11:16:48,571] WARNING | darts.models.forecasting.torch_forecasting_model | Attempting to retrain the model without resuming from a checkpoint. This is currently discouraged. Consider setting `save_checkpoints` to `True` and specifying `model_name` at model creation. Then call `model = TFTModel.load_from_checkpoint(model_name, best=False)`. Finally, train the model with `model.fit(..., epochs=new_epochs)` where `new_epochs` is the sum of (epochs already trained + some additional epochs).\n",
      "2022-10-02 11:16:48 darts.models.forecasting.torch_forecasting_model WARNING: Attempting to retrain the model without resuming from a checkpoint. This is currently discouraged. Consider setting `save_checkpoints` to `True` and specifying `model_name` at model creation. Then call `model = TFTModel.load_from_checkpoint(model_name, best=False)`. Finally, train the model with `model.fit(..., epochs=new_epochs)` where `new_epochs` is the sum of (epochs already trained + some additional epochs).\n"
     ]
    },
    {
     "name": "stdout",
     "output_type": "stream",
     "text": [
      "116\n"
     ]
    },
    {
     "data": {
      "application/vnd.jupyter.widget-view+json": {
       "model_id": "4f0c742ba35f40cf88863d66681e58f4",
       "version_major": 2,
       "version_minor": 0
      },
      "text/plain": [
       "Training: 0it [00:00, ?it/s]"
      ]
     },
     "metadata": {},
     "output_type": "display_data"
    },
    {
     "data": {
      "application/vnd.jupyter.widget-view+json": {
       "model_id": "16e6c75fecac4a0bb6217cf944bc8d0c",
       "version_major": 2,
       "version_minor": 0
      },
      "text/plain": [
       "Predicting: 37it [00:00, ?it/s]"
      ]
     },
     "metadata": {},
     "output_type": "display_data"
    },
    {
     "name": "stderr",
     "output_type": "stream",
     "text": [
      "[2022-10-02 11:16:49,867] INFO | darts.models.forecasting.torch_forecasting_model | Train dataset contains 148 samples.\n",
      "[2022-10-02 11:16:49,867] INFO | darts.models.forecasting.torch_forecasting_model | Train dataset contains 148 samples.\n",
      "2022-10-02 11:16:49 darts.models.forecasting.torch_forecasting_model INFO: Train dataset contains 148 samples.\n",
      "2022-10-02 11:16:49 pytorch_lightning.utilities.distributed INFO: GPU available: False, used: False\n",
      "2022-10-02 11:16:49 pytorch_lightning.utilities.distributed INFO: TPU available: False, using: 0 TPU cores\n",
      "2022-10-02 11:16:49 pytorch_lightning.utilities.distributed INFO: IPU available: False, using: 0 IPUs\n",
      "[2022-10-02 11:16:49,876] WARNING | darts.models.forecasting.torch_forecasting_model | Attempting to retrain the model without resuming from a checkpoint. This is currently discouraged. Consider setting `save_checkpoints` to `True` and specifying `model_name` at model creation. Then call `model = TFTModel.load_from_checkpoint(model_name, best=False)`. Finally, train the model with `model.fit(..., epochs=new_epochs)` where `new_epochs` is the sum of (epochs already trained + some additional epochs).\n",
      "[2022-10-02 11:16:49,876] WARNING | darts.models.forecasting.torch_forecasting_model | Attempting to retrain the model without resuming from a checkpoint. This is currently discouraged. Consider setting `save_checkpoints` to `True` and specifying `model_name` at model creation. Then call `model = TFTModel.load_from_checkpoint(model_name, best=False)`. Finally, train the model with `model.fit(..., epochs=new_epochs)` where `new_epochs` is the sum of (epochs already trained + some additional epochs).\n",
      "2022-10-02 11:16:49 darts.models.forecasting.torch_forecasting_model WARNING: Attempting to retrain the model without resuming from a checkpoint. This is currently discouraged. Consider setting `save_checkpoints` to `True` and specifying `model_name` at model creation. Then call `model = TFTModel.load_from_checkpoint(model_name, best=False)`. Finally, train the model with `model.fit(..., epochs=new_epochs)` where `new_epochs` is the sum of (epochs already trained + some additional epochs).\n"
     ]
    },
    {
     "name": "stdout",
     "output_type": "stream",
     "text": [
      "117\n"
     ]
    },
    {
     "data": {
      "application/vnd.jupyter.widget-view+json": {
       "model_id": "03b8e81098234f73bfed2d73d0b20a7b",
       "version_major": 2,
       "version_minor": 0
      },
      "text/plain": [
       "Training: 0it [00:00, ?it/s]"
      ]
     },
     "metadata": {},
     "output_type": "display_data"
    },
    {
     "data": {
      "application/vnd.jupyter.widget-view+json": {
       "model_id": "508a89382d35412b90d0d0e081ba612c",
       "version_major": 2,
       "version_minor": 0
      },
      "text/plain": [
       "Predicting: 37it [00:00, ?it/s]"
      ]
     },
     "metadata": {},
     "output_type": "display_data"
    },
    {
     "name": "stderr",
     "output_type": "stream",
     "text": [
      "[2022-10-02 11:16:51,230] INFO | darts.models.forecasting.torch_forecasting_model | Train dataset contains 149 samples.\n",
      "[2022-10-02 11:16:51,230] INFO | darts.models.forecasting.torch_forecasting_model | Train dataset contains 149 samples.\n",
      "2022-10-02 11:16:51 darts.models.forecasting.torch_forecasting_model INFO: Train dataset contains 149 samples.\n",
      "2022-10-02 11:16:51 pytorch_lightning.utilities.distributed INFO: GPU available: False, used: False\n",
      "2022-10-02 11:16:51 pytorch_lightning.utilities.distributed INFO: TPU available: False, using: 0 TPU cores\n",
      "2022-10-02 11:16:51 pytorch_lightning.utilities.distributed INFO: IPU available: False, using: 0 IPUs\n",
      "[2022-10-02 11:16:51,239] WARNING | darts.models.forecasting.torch_forecasting_model | Attempting to retrain the model without resuming from a checkpoint. This is currently discouraged. Consider setting `save_checkpoints` to `True` and specifying `model_name` at model creation. Then call `model = TFTModel.load_from_checkpoint(model_name, best=False)`. Finally, train the model with `model.fit(..., epochs=new_epochs)` where `new_epochs` is the sum of (epochs already trained + some additional epochs).\n",
      "[2022-10-02 11:16:51,239] WARNING | darts.models.forecasting.torch_forecasting_model | Attempting to retrain the model without resuming from a checkpoint. This is currently discouraged. Consider setting `save_checkpoints` to `True` and specifying `model_name` at model creation. Then call `model = TFTModel.load_from_checkpoint(model_name, best=False)`. Finally, train the model with `model.fit(..., epochs=new_epochs)` where `new_epochs` is the sum of (epochs already trained + some additional epochs).\n",
      "2022-10-02 11:16:51 darts.models.forecasting.torch_forecasting_model WARNING: Attempting to retrain the model without resuming from a checkpoint. This is currently discouraged. Consider setting `save_checkpoints` to `True` and specifying `model_name` at model creation. Then call `model = TFTModel.load_from_checkpoint(model_name, best=False)`. Finally, train the model with `model.fit(..., epochs=new_epochs)` where `new_epochs` is the sum of (epochs already trained + some additional epochs).\n"
     ]
    },
    {
     "name": "stdout",
     "output_type": "stream",
     "text": [
      "118\n"
     ]
    },
    {
     "data": {
      "application/vnd.jupyter.widget-view+json": {
       "model_id": "3d23f486d2104782b861e6b4c3c92ec9",
       "version_major": 2,
       "version_minor": 0
      },
      "text/plain": [
       "Training: 0it [00:00, ?it/s]"
      ]
     },
     "metadata": {},
     "output_type": "display_data"
    },
    {
     "data": {
      "application/vnd.jupyter.widget-view+json": {
       "model_id": "ec81d3c5b64a4f6982d5ba7465c24527",
       "version_major": 2,
       "version_minor": 0
      },
      "text/plain": [
       "Predicting: 38it [00:00, ?it/s]"
      ]
     },
     "metadata": {},
     "output_type": "display_data"
    },
    {
     "name": "stderr",
     "output_type": "stream",
     "text": [
      "[2022-10-02 11:16:53,225] INFO | darts.models.forecasting.torch_forecasting_model | Train dataset contains 150 samples.\n",
      "[2022-10-02 11:16:53,225] INFO | darts.models.forecasting.torch_forecasting_model | Train dataset contains 150 samples.\n",
      "2022-10-02 11:16:53 darts.models.forecasting.torch_forecasting_model INFO: Train dataset contains 150 samples.\n",
      "2022-10-02 11:16:53 pytorch_lightning.utilities.distributed INFO: GPU available: False, used: False\n",
      "2022-10-02 11:16:53 pytorch_lightning.utilities.distributed INFO: TPU available: False, using: 0 TPU cores\n",
      "2022-10-02 11:16:53 pytorch_lightning.utilities.distributed INFO: IPU available: False, using: 0 IPUs\n",
      "[2022-10-02 11:16:53,233] WARNING | darts.models.forecasting.torch_forecasting_model | Attempting to retrain the model without resuming from a checkpoint. This is currently discouraged. Consider setting `save_checkpoints` to `True` and specifying `model_name` at model creation. Then call `model = TFTModel.load_from_checkpoint(model_name, best=False)`. Finally, train the model with `model.fit(..., epochs=new_epochs)` where `new_epochs` is the sum of (epochs already trained + some additional epochs).\n",
      "[2022-10-02 11:16:53,233] WARNING | darts.models.forecasting.torch_forecasting_model | Attempting to retrain the model without resuming from a checkpoint. This is currently discouraged. Consider setting `save_checkpoints` to `True` and specifying `model_name` at model creation. Then call `model = TFTModel.load_from_checkpoint(model_name, best=False)`. Finally, train the model with `model.fit(..., epochs=new_epochs)` where `new_epochs` is the sum of (epochs already trained + some additional epochs).\n",
      "2022-10-02 11:16:53 darts.models.forecasting.torch_forecasting_model WARNING: Attempting to retrain the model without resuming from a checkpoint. This is currently discouraged. Consider setting `save_checkpoints` to `True` and specifying `model_name` at model creation. Then call `model = TFTModel.load_from_checkpoint(model_name, best=False)`. Finally, train the model with `model.fit(..., epochs=new_epochs)` where `new_epochs` is the sum of (epochs already trained + some additional epochs).\n"
     ]
    },
    {
     "name": "stdout",
     "output_type": "stream",
     "text": [
      "119\n"
     ]
    },
    {
     "data": {
      "application/vnd.jupyter.widget-view+json": {
       "model_id": "d4071b614f78472ca861cea9f93e365d",
       "version_major": 2,
       "version_minor": 0
      },
      "text/plain": [
       "Training: 0it [00:00, ?it/s]"
      ]
     },
     "metadata": {},
     "output_type": "display_data"
    },
    {
     "data": {
      "application/vnd.jupyter.widget-view+json": {
       "model_id": "9d3d3f2032ff409c98ed67aa66dbfb19",
       "version_major": 2,
       "version_minor": 0
      },
      "text/plain": [
       "Predicting: 38it [00:00, ?it/s]"
      ]
     },
     "metadata": {},
     "output_type": "display_data"
    },
    {
     "name": "stderr",
     "output_type": "stream",
     "text": [
      "[2022-10-02 11:16:54,566] INFO | darts.models.forecasting.torch_forecasting_model | Train dataset contains 151 samples.\n",
      "[2022-10-02 11:16:54,566] INFO | darts.models.forecasting.torch_forecasting_model | Train dataset contains 151 samples.\n",
      "2022-10-02 11:16:54 darts.models.forecasting.torch_forecasting_model INFO: Train dataset contains 151 samples.\n",
      "2022-10-02 11:16:54 pytorch_lightning.utilities.distributed INFO: GPU available: False, used: False\n",
      "2022-10-02 11:16:54 pytorch_lightning.utilities.distributed INFO: TPU available: False, using: 0 TPU cores\n",
      "2022-10-02 11:16:54 pytorch_lightning.utilities.distributed INFO: IPU available: False, using: 0 IPUs\n",
      "[2022-10-02 11:16:54,576] WARNING | darts.models.forecasting.torch_forecasting_model | Attempting to retrain the model without resuming from a checkpoint. This is currently discouraged. Consider setting `save_checkpoints` to `True` and specifying `model_name` at model creation. Then call `model = TFTModel.load_from_checkpoint(model_name, best=False)`. Finally, train the model with `model.fit(..., epochs=new_epochs)` where `new_epochs` is the sum of (epochs already trained + some additional epochs).\n",
      "[2022-10-02 11:16:54,576] WARNING | darts.models.forecasting.torch_forecasting_model | Attempting to retrain the model without resuming from a checkpoint. This is currently discouraged. Consider setting `save_checkpoints` to `True` and specifying `model_name` at model creation. Then call `model = TFTModel.load_from_checkpoint(model_name, best=False)`. Finally, train the model with `model.fit(..., epochs=new_epochs)` where `new_epochs` is the sum of (epochs already trained + some additional epochs).\n",
      "2022-10-02 11:16:54 darts.models.forecasting.torch_forecasting_model WARNING: Attempting to retrain the model without resuming from a checkpoint. This is currently discouraged. Consider setting `save_checkpoints` to `True` and specifying `model_name` at model creation. Then call `model = TFTModel.load_from_checkpoint(model_name, best=False)`. Finally, train the model with `model.fit(..., epochs=new_epochs)` where `new_epochs` is the sum of (epochs already trained + some additional epochs).\n"
     ]
    },
    {
     "name": "stdout",
     "output_type": "stream",
     "text": [
      "120\n"
     ]
    },
    {
     "data": {
      "application/vnd.jupyter.widget-view+json": {
       "model_id": "0966436abe3c4582bac73fe9a1c60a7d",
       "version_major": 2,
       "version_minor": 0
      },
      "text/plain": [
       "Training: 0it [00:00, ?it/s]"
      ]
     },
     "metadata": {},
     "output_type": "display_data"
    },
    {
     "data": {
      "application/vnd.jupyter.widget-view+json": {
       "model_id": "7890b106125d4ec69f1cafa86bbd0e66",
       "version_major": 2,
       "version_minor": 0
      },
      "text/plain": [
       "Predicting: 38it [00:00, ?it/s]"
      ]
     },
     "metadata": {},
     "output_type": "display_data"
    },
    {
     "name": "stderr",
     "output_type": "stream",
     "text": [
      "[2022-10-02 11:16:55,995] INFO | darts.models.forecasting.torch_forecasting_model | Train dataset contains 152 samples.\n",
      "[2022-10-02 11:16:55,995] INFO | darts.models.forecasting.torch_forecasting_model | Train dataset contains 152 samples.\n",
      "2022-10-02 11:16:55 darts.models.forecasting.torch_forecasting_model INFO: Train dataset contains 152 samples.\n",
      "2022-10-02 11:16:56 pytorch_lightning.utilities.distributed INFO: GPU available: False, used: False\n",
      "2022-10-02 11:16:56 pytorch_lightning.utilities.distributed INFO: TPU available: False, using: 0 TPU cores\n",
      "2022-10-02 11:16:56 pytorch_lightning.utilities.distributed INFO: IPU available: False, using: 0 IPUs\n",
      "[2022-10-02 11:16:56,005] WARNING | darts.models.forecasting.torch_forecasting_model | Attempting to retrain the model without resuming from a checkpoint. This is currently discouraged. Consider setting `save_checkpoints` to `True` and specifying `model_name` at model creation. Then call `model = TFTModel.load_from_checkpoint(model_name, best=False)`. Finally, train the model with `model.fit(..., epochs=new_epochs)` where `new_epochs` is the sum of (epochs already trained + some additional epochs).\n",
      "[2022-10-02 11:16:56,005] WARNING | darts.models.forecasting.torch_forecasting_model | Attempting to retrain the model without resuming from a checkpoint. This is currently discouraged. Consider setting `save_checkpoints` to `True` and specifying `model_name` at model creation. Then call `model = TFTModel.load_from_checkpoint(model_name, best=False)`. Finally, train the model with `model.fit(..., epochs=new_epochs)` where `new_epochs` is the sum of (epochs already trained + some additional epochs).\n",
      "2022-10-02 11:16:56 darts.models.forecasting.torch_forecasting_model WARNING: Attempting to retrain the model without resuming from a checkpoint. This is currently discouraged. Consider setting `save_checkpoints` to `True` and specifying `model_name` at model creation. Then call `model = TFTModel.load_from_checkpoint(model_name, best=False)`. Finally, train the model with `model.fit(..., epochs=new_epochs)` where `new_epochs` is the sum of (epochs already trained + some additional epochs).\n"
     ]
    },
    {
     "name": "stdout",
     "output_type": "stream",
     "text": [
      "121\n"
     ]
    },
    {
     "data": {
      "application/vnd.jupyter.widget-view+json": {
       "model_id": "482254a4763148ffb5cb25b01b225241",
       "version_major": 2,
       "version_minor": 0
      },
      "text/plain": [
       "Training: 0it [00:00, ?it/s]"
      ]
     },
     "metadata": {},
     "output_type": "display_data"
    },
    {
     "data": {
      "application/vnd.jupyter.widget-view+json": {
       "model_id": "b3ad2ca22ea84d339aee2640efab9ce9",
       "version_major": 2,
       "version_minor": 0
      },
      "text/plain": [
       "Predicting: 38it [00:00, ?it/s]"
      ]
     },
     "metadata": {},
     "output_type": "display_data"
    },
    {
     "name": "stderr",
     "output_type": "stream",
     "text": [
      "[2022-10-02 11:16:57,413] INFO | darts.models.forecasting.torch_forecasting_model | Train dataset contains 153 samples.\n",
      "[2022-10-02 11:16:57,413] INFO | darts.models.forecasting.torch_forecasting_model | Train dataset contains 153 samples.\n",
      "2022-10-02 11:16:57 darts.models.forecasting.torch_forecasting_model INFO: Train dataset contains 153 samples.\n",
      "2022-10-02 11:16:57 pytorch_lightning.utilities.distributed INFO: GPU available: False, used: False\n",
      "2022-10-02 11:16:57 pytorch_lightning.utilities.distributed INFO: TPU available: False, using: 0 TPU cores\n",
      "2022-10-02 11:16:57 pytorch_lightning.utilities.distributed INFO: IPU available: False, using: 0 IPUs\n",
      "[2022-10-02 11:16:57,422] WARNING | darts.models.forecasting.torch_forecasting_model | Attempting to retrain the model without resuming from a checkpoint. This is currently discouraged. Consider setting `save_checkpoints` to `True` and specifying `model_name` at model creation. Then call `model = TFTModel.load_from_checkpoint(model_name, best=False)`. Finally, train the model with `model.fit(..., epochs=new_epochs)` where `new_epochs` is the sum of (epochs already trained + some additional epochs).\n",
      "[2022-10-02 11:16:57,422] WARNING | darts.models.forecasting.torch_forecasting_model | Attempting to retrain the model without resuming from a checkpoint. This is currently discouraged. Consider setting `save_checkpoints` to `True` and specifying `model_name` at model creation. Then call `model = TFTModel.load_from_checkpoint(model_name, best=False)`. Finally, train the model with `model.fit(..., epochs=new_epochs)` where `new_epochs` is the sum of (epochs already trained + some additional epochs).\n",
      "2022-10-02 11:16:57 darts.models.forecasting.torch_forecasting_model WARNING: Attempting to retrain the model without resuming from a checkpoint. This is currently discouraged. Consider setting `save_checkpoints` to `True` and specifying `model_name` at model creation. Then call `model = TFTModel.load_from_checkpoint(model_name, best=False)`. Finally, train the model with `model.fit(..., epochs=new_epochs)` where `new_epochs` is the sum of (epochs already trained + some additional epochs).\n"
     ]
    },
    {
     "name": "stdout",
     "output_type": "stream",
     "text": [
      "122\n"
     ]
    },
    {
     "data": {
      "application/vnd.jupyter.widget-view+json": {
       "model_id": "9e2bfb633e0e491a94b19095ca4b3601",
       "version_major": 2,
       "version_minor": 0
      },
      "text/plain": [
       "Training: 0it [00:00, ?it/s]"
      ]
     },
     "metadata": {},
     "output_type": "display_data"
    },
    {
     "data": {
      "application/vnd.jupyter.widget-view+json": {
       "model_id": "fd535c6a35bd4d6db4528a94c2227e03",
       "version_major": 2,
       "version_minor": 0
      },
      "text/plain": [
       "Predicting: 39it [00:00, ?it/s]"
      ]
     },
     "metadata": {},
     "output_type": "display_data"
    },
    {
     "name": "stderr",
     "output_type": "stream",
     "text": [
      "[2022-10-02 11:16:58,825] INFO | darts.models.forecasting.torch_forecasting_model | Train dataset contains 154 samples.\n",
      "[2022-10-02 11:16:58,825] INFO | darts.models.forecasting.torch_forecasting_model | Train dataset contains 154 samples.\n",
      "2022-10-02 11:16:58 darts.models.forecasting.torch_forecasting_model INFO: Train dataset contains 154 samples.\n",
      "2022-10-02 11:16:58 pytorch_lightning.utilities.distributed INFO: GPU available: False, used: False\n",
      "2022-10-02 11:16:58 pytorch_lightning.utilities.distributed INFO: TPU available: False, using: 0 TPU cores\n",
      "2022-10-02 11:16:58 pytorch_lightning.utilities.distributed INFO: IPU available: False, using: 0 IPUs\n",
      "[2022-10-02 11:16:58,834] WARNING | darts.models.forecasting.torch_forecasting_model | Attempting to retrain the model without resuming from a checkpoint. This is currently discouraged. Consider setting `save_checkpoints` to `True` and specifying `model_name` at model creation. Then call `model = TFTModel.load_from_checkpoint(model_name, best=False)`. Finally, train the model with `model.fit(..., epochs=new_epochs)` where `new_epochs` is the sum of (epochs already trained + some additional epochs).\n",
      "[2022-10-02 11:16:58,834] WARNING | darts.models.forecasting.torch_forecasting_model | Attempting to retrain the model without resuming from a checkpoint. This is currently discouraged. Consider setting `save_checkpoints` to `True` and specifying `model_name` at model creation. Then call `model = TFTModel.load_from_checkpoint(model_name, best=False)`. Finally, train the model with `model.fit(..., epochs=new_epochs)` where `new_epochs` is the sum of (epochs already trained + some additional epochs).\n",
      "2022-10-02 11:16:58 darts.models.forecasting.torch_forecasting_model WARNING: Attempting to retrain the model without resuming from a checkpoint. This is currently discouraged. Consider setting `save_checkpoints` to `True` and specifying `model_name` at model creation. Then call `model = TFTModel.load_from_checkpoint(model_name, best=False)`. Finally, train the model with `model.fit(..., epochs=new_epochs)` where `new_epochs` is the sum of (epochs already trained + some additional epochs).\n"
     ]
    },
    {
     "name": "stdout",
     "output_type": "stream",
     "text": [
      "123\n"
     ]
    },
    {
     "data": {
      "application/vnd.jupyter.widget-view+json": {
       "model_id": "9ba723ad91ef49ec80788aea4390111e",
       "version_major": 2,
       "version_minor": 0
      },
      "text/plain": [
       "Training: 0it [00:00, ?it/s]"
      ]
     },
     "metadata": {},
     "output_type": "display_data"
    },
    {
     "data": {
      "application/vnd.jupyter.widget-view+json": {
       "model_id": "5c0f8b285da74ef0af4b8158c4c5ee90",
       "version_major": 2,
       "version_minor": 0
      },
      "text/plain": [
       "Predicting: 39it [00:00, ?it/s]"
      ]
     },
     "metadata": {},
     "output_type": "display_data"
    },
    {
     "name": "stderr",
     "output_type": "stream",
     "text": [
      "[2022-10-02 11:17:00,220] INFO | darts.models.forecasting.torch_forecasting_model | Train dataset contains 155 samples.\n",
      "[2022-10-02 11:17:00,220] INFO | darts.models.forecasting.torch_forecasting_model | Train dataset contains 155 samples.\n",
      "2022-10-02 11:17:00 darts.models.forecasting.torch_forecasting_model INFO: Train dataset contains 155 samples.\n",
      "2022-10-02 11:17:00 pytorch_lightning.utilities.distributed INFO: GPU available: False, used: False\n",
      "2022-10-02 11:17:00 pytorch_lightning.utilities.distributed INFO: TPU available: False, using: 0 TPU cores\n",
      "2022-10-02 11:17:00 pytorch_lightning.utilities.distributed INFO: IPU available: False, using: 0 IPUs\n",
      "[2022-10-02 11:17:00,229] WARNING | darts.models.forecasting.torch_forecasting_model | Attempting to retrain the model without resuming from a checkpoint. This is currently discouraged. Consider setting `save_checkpoints` to `True` and specifying `model_name` at model creation. Then call `model = TFTModel.load_from_checkpoint(model_name, best=False)`. Finally, train the model with `model.fit(..., epochs=new_epochs)` where `new_epochs` is the sum of (epochs already trained + some additional epochs).\n",
      "[2022-10-02 11:17:00,229] WARNING | darts.models.forecasting.torch_forecasting_model | Attempting to retrain the model without resuming from a checkpoint. This is currently discouraged. Consider setting `save_checkpoints` to `True` and specifying `model_name` at model creation. Then call `model = TFTModel.load_from_checkpoint(model_name, best=False)`. Finally, train the model with `model.fit(..., epochs=new_epochs)` where `new_epochs` is the sum of (epochs already trained + some additional epochs).\n",
      "2022-10-02 11:17:00 darts.models.forecasting.torch_forecasting_model WARNING: Attempting to retrain the model without resuming from a checkpoint. This is currently discouraged. Consider setting `save_checkpoints` to `True` and specifying `model_name` at model creation. Then call `model = TFTModel.load_from_checkpoint(model_name, best=False)`. Finally, train the model with `model.fit(..., epochs=new_epochs)` where `new_epochs` is the sum of (epochs already trained + some additional epochs).\n"
     ]
    },
    {
     "name": "stdout",
     "output_type": "stream",
     "text": [
      "124\n"
     ]
    },
    {
     "data": {
      "application/vnd.jupyter.widget-view+json": {
       "model_id": "6b365cf99055446c986bd4915d099871",
       "version_major": 2,
       "version_minor": 0
      },
      "text/plain": [
       "Training: 0it [00:00, ?it/s]"
      ]
     },
     "metadata": {},
     "output_type": "display_data"
    },
    {
     "data": {
      "application/vnd.jupyter.widget-view+json": {
       "model_id": "030b38f856ef4653b2d3eee0e9c90c86",
       "version_major": 2,
       "version_minor": 0
      },
      "text/plain": [
       "Predicting: 39it [00:00, ?it/s]"
      ]
     },
     "metadata": {},
     "output_type": "display_data"
    },
    {
     "name": "stderr",
     "output_type": "stream",
     "text": [
      "[2022-10-02 11:17:01,605] INFO | darts.models.forecasting.torch_forecasting_model | Train dataset contains 156 samples.\n",
      "[2022-10-02 11:17:01,605] INFO | darts.models.forecasting.torch_forecasting_model | Train dataset contains 156 samples.\n",
      "2022-10-02 11:17:01 darts.models.forecasting.torch_forecasting_model INFO: Train dataset contains 156 samples.\n",
      "2022-10-02 11:17:01 pytorch_lightning.utilities.distributed INFO: GPU available: False, used: False\n",
      "2022-10-02 11:17:01 pytorch_lightning.utilities.distributed INFO: TPU available: False, using: 0 TPU cores\n",
      "2022-10-02 11:17:01 pytorch_lightning.utilities.distributed INFO: IPU available: False, using: 0 IPUs\n",
      "[2022-10-02 11:17:01,614] WARNING | darts.models.forecasting.torch_forecasting_model | Attempting to retrain the model without resuming from a checkpoint. This is currently discouraged. Consider setting `save_checkpoints` to `True` and specifying `model_name` at model creation. Then call `model = TFTModel.load_from_checkpoint(model_name, best=False)`. Finally, train the model with `model.fit(..., epochs=new_epochs)` where `new_epochs` is the sum of (epochs already trained + some additional epochs).\n",
      "[2022-10-02 11:17:01,614] WARNING | darts.models.forecasting.torch_forecasting_model | Attempting to retrain the model without resuming from a checkpoint. This is currently discouraged. Consider setting `save_checkpoints` to `True` and specifying `model_name` at model creation. Then call `model = TFTModel.load_from_checkpoint(model_name, best=False)`. Finally, train the model with `model.fit(..., epochs=new_epochs)` where `new_epochs` is the sum of (epochs already trained + some additional epochs).\n",
      "2022-10-02 11:17:01 darts.models.forecasting.torch_forecasting_model WARNING: Attempting to retrain the model without resuming from a checkpoint. This is currently discouraged. Consider setting `save_checkpoints` to `True` and specifying `model_name` at model creation. Then call `model = TFTModel.load_from_checkpoint(model_name, best=False)`. Finally, train the model with `model.fit(..., epochs=new_epochs)` where `new_epochs` is the sum of (epochs already trained + some additional epochs).\n"
     ]
    },
    {
     "name": "stdout",
     "output_type": "stream",
     "text": [
      "125\n"
     ]
    },
    {
     "data": {
      "application/vnd.jupyter.widget-view+json": {
       "model_id": "9c000c2bb375404dae887f73e978f721",
       "version_major": 2,
       "version_minor": 0
      },
      "text/plain": [
       "Training: 0it [00:00, ?it/s]"
      ]
     },
     "metadata": {},
     "output_type": "display_data"
    },
    {
     "data": {
      "application/vnd.jupyter.widget-view+json": {
       "model_id": "074b0137bd0b468a8322eddb124a1a31",
       "version_major": 2,
       "version_minor": 0
      },
      "text/plain": [
       "Predicting: 39it [00:00, ?it/s]"
      ]
     },
     "metadata": {},
     "output_type": "display_data"
    },
    {
     "name": "stderr",
     "output_type": "stream",
     "text": [
      "[2022-10-02 11:17:03,094] INFO | darts.models.forecasting.torch_forecasting_model | Train dataset contains 157 samples.\n",
      "[2022-10-02 11:17:03,094] INFO | darts.models.forecasting.torch_forecasting_model | Train dataset contains 157 samples.\n",
      "2022-10-02 11:17:03 darts.models.forecasting.torch_forecasting_model INFO: Train dataset contains 157 samples.\n",
      "2022-10-02 11:17:03 pytorch_lightning.utilities.distributed INFO: GPU available: False, used: False\n",
      "2022-10-02 11:17:03 pytorch_lightning.utilities.distributed INFO: TPU available: False, using: 0 TPU cores\n",
      "2022-10-02 11:17:03 pytorch_lightning.utilities.distributed INFO: IPU available: False, using: 0 IPUs\n",
      "[2022-10-02 11:17:03,103] WARNING | darts.models.forecasting.torch_forecasting_model | Attempting to retrain the model without resuming from a checkpoint. This is currently discouraged. Consider setting `save_checkpoints` to `True` and specifying `model_name` at model creation. Then call `model = TFTModel.load_from_checkpoint(model_name, best=False)`. Finally, train the model with `model.fit(..., epochs=new_epochs)` where `new_epochs` is the sum of (epochs already trained + some additional epochs).\n",
      "[2022-10-02 11:17:03,103] WARNING | darts.models.forecasting.torch_forecasting_model | Attempting to retrain the model without resuming from a checkpoint. This is currently discouraged. Consider setting `save_checkpoints` to `True` and specifying `model_name` at model creation. Then call `model = TFTModel.load_from_checkpoint(model_name, best=False)`. Finally, train the model with `model.fit(..., epochs=new_epochs)` where `new_epochs` is the sum of (epochs already trained + some additional epochs).\n",
      "2022-10-02 11:17:03 darts.models.forecasting.torch_forecasting_model WARNING: Attempting to retrain the model without resuming from a checkpoint. This is currently discouraged. Consider setting `save_checkpoints` to `True` and specifying `model_name` at model creation. Then call `model = TFTModel.load_from_checkpoint(model_name, best=False)`. Finally, train the model with `model.fit(..., epochs=new_epochs)` where `new_epochs` is the sum of (epochs already trained + some additional epochs).\n"
     ]
    },
    {
     "name": "stdout",
     "output_type": "stream",
     "text": [
      "126\n"
     ]
    },
    {
     "data": {
      "application/vnd.jupyter.widget-view+json": {
       "model_id": "c9b6c08a7abe48a88639bdc579517dc8",
       "version_major": 2,
       "version_minor": 0
      },
      "text/plain": [
       "Training: 0it [00:00, ?it/s]"
      ]
     },
     "metadata": {},
     "output_type": "display_data"
    },
    {
     "data": {
      "application/vnd.jupyter.widget-view+json": {
       "model_id": "7d4924713f2f4c528980de9974e18729",
       "version_major": 2,
       "version_minor": 0
      },
      "text/plain": [
       "Predicting: 40it [00:00, ?it/s]"
      ]
     },
     "metadata": {},
     "output_type": "display_data"
    },
    {
     "name": "stderr",
     "output_type": "stream",
     "text": [
      "[2022-10-02 11:17:04,502] INFO | darts.models.forecasting.torch_forecasting_model | Train dataset contains 158 samples.\n",
      "[2022-10-02 11:17:04,502] INFO | darts.models.forecasting.torch_forecasting_model | Train dataset contains 158 samples.\n",
      "2022-10-02 11:17:04 darts.models.forecasting.torch_forecasting_model INFO: Train dataset contains 158 samples.\n",
      "2022-10-02 11:17:04 pytorch_lightning.utilities.distributed INFO: GPU available: False, used: False\n",
      "2022-10-02 11:17:04 pytorch_lightning.utilities.distributed INFO: TPU available: False, using: 0 TPU cores\n",
      "2022-10-02 11:17:04 pytorch_lightning.utilities.distributed INFO: IPU available: False, using: 0 IPUs\n",
      "[2022-10-02 11:17:04,509] WARNING | darts.models.forecasting.torch_forecasting_model | Attempting to retrain the model without resuming from a checkpoint. This is currently discouraged. Consider setting `save_checkpoints` to `True` and specifying `model_name` at model creation. Then call `model = TFTModel.load_from_checkpoint(model_name, best=False)`. Finally, train the model with `model.fit(..., epochs=new_epochs)` where `new_epochs` is the sum of (epochs already trained + some additional epochs).\n",
      "[2022-10-02 11:17:04,509] WARNING | darts.models.forecasting.torch_forecasting_model | Attempting to retrain the model without resuming from a checkpoint. This is currently discouraged. Consider setting `save_checkpoints` to `True` and specifying `model_name` at model creation. Then call `model = TFTModel.load_from_checkpoint(model_name, best=False)`. Finally, train the model with `model.fit(..., epochs=new_epochs)` where `new_epochs` is the sum of (epochs already trained + some additional epochs).\n",
      "2022-10-02 11:17:04 darts.models.forecasting.torch_forecasting_model WARNING: Attempting to retrain the model without resuming from a checkpoint. This is currently discouraged. Consider setting `save_checkpoints` to `True` and specifying `model_name` at model creation. Then call `model = TFTModel.load_from_checkpoint(model_name, best=False)`. Finally, train the model with `model.fit(..., epochs=new_epochs)` where `new_epochs` is the sum of (epochs already trained + some additional epochs).\n"
     ]
    },
    {
     "name": "stdout",
     "output_type": "stream",
     "text": [
      "127\n"
     ]
    },
    {
     "data": {
      "application/vnd.jupyter.widget-view+json": {
       "model_id": "3489c0c4fe2846329d39cea538f6617b",
       "version_major": 2,
       "version_minor": 0
      },
      "text/plain": [
       "Training: 0it [00:00, ?it/s]"
      ]
     },
     "metadata": {},
     "output_type": "display_data"
    },
    {
     "data": {
      "application/vnd.jupyter.widget-view+json": {
       "model_id": "93ce6174256445e48339ee1146eb6d2b",
       "version_major": 2,
       "version_minor": 0
      },
      "text/plain": [
       "Predicting: 40it [00:00, ?it/s]"
      ]
     },
     "metadata": {},
     "output_type": "display_data"
    },
    {
     "name": "stderr",
     "output_type": "stream",
     "text": [
      "[2022-10-02 11:17:05,924] INFO | darts.models.forecasting.torch_forecasting_model | Train dataset contains 159 samples.\n",
      "[2022-10-02 11:17:05,924] INFO | darts.models.forecasting.torch_forecasting_model | Train dataset contains 159 samples.\n",
      "2022-10-02 11:17:05 darts.models.forecasting.torch_forecasting_model INFO: Train dataset contains 159 samples.\n",
      "2022-10-02 11:17:05 pytorch_lightning.utilities.distributed INFO: GPU available: False, used: False\n",
      "2022-10-02 11:17:05 pytorch_lightning.utilities.distributed INFO: TPU available: False, using: 0 TPU cores\n",
      "2022-10-02 11:17:05 pytorch_lightning.utilities.distributed INFO: IPU available: False, using: 0 IPUs\n",
      "[2022-10-02 11:17:05,936] WARNING | darts.models.forecasting.torch_forecasting_model | Attempting to retrain the model without resuming from a checkpoint. This is currently discouraged. Consider setting `save_checkpoints` to `True` and specifying `model_name` at model creation. Then call `model = TFTModel.load_from_checkpoint(model_name, best=False)`. Finally, train the model with `model.fit(..., epochs=new_epochs)` where `new_epochs` is the sum of (epochs already trained + some additional epochs).\n",
      "[2022-10-02 11:17:05,936] WARNING | darts.models.forecasting.torch_forecasting_model | Attempting to retrain the model without resuming from a checkpoint. This is currently discouraged. Consider setting `save_checkpoints` to `True` and specifying `model_name` at model creation. Then call `model = TFTModel.load_from_checkpoint(model_name, best=False)`. Finally, train the model with `model.fit(..., epochs=new_epochs)` where `new_epochs` is the sum of (epochs already trained + some additional epochs).\n",
      "2022-10-02 11:17:05 darts.models.forecasting.torch_forecasting_model WARNING: Attempting to retrain the model without resuming from a checkpoint. This is currently discouraged. Consider setting `save_checkpoints` to `True` and specifying `model_name` at model creation. Then call `model = TFTModel.load_from_checkpoint(model_name, best=False)`. Finally, train the model with `model.fit(..., epochs=new_epochs)` where `new_epochs` is the sum of (epochs already trained + some additional epochs).\n"
     ]
    },
    {
     "name": "stdout",
     "output_type": "stream",
     "text": [
      "128\n"
     ]
    },
    {
     "data": {
      "application/vnd.jupyter.widget-view+json": {
       "model_id": "0ceba8a18a9c43329e6c14adf16a4153",
       "version_major": 2,
       "version_minor": 0
      },
      "text/plain": [
       "Training: 0it [00:00, ?it/s]"
      ]
     },
     "metadata": {},
     "output_type": "display_data"
    },
    {
     "data": {
      "application/vnd.jupyter.widget-view+json": {
       "model_id": "e12c06e08e46496c9e563f8b7269f286",
       "version_major": 2,
       "version_minor": 0
      },
      "text/plain": [
       "Predicting: 40it [00:00, ?it/s]"
      ]
     },
     "metadata": {},
     "output_type": "display_data"
    },
    {
     "name": "stderr",
     "output_type": "stream",
     "text": [
      "[2022-10-02 11:17:07,460] INFO | darts.models.forecasting.torch_forecasting_model | Train dataset contains 160 samples.\n",
      "[2022-10-02 11:17:07,460] INFO | darts.models.forecasting.torch_forecasting_model | Train dataset contains 160 samples.\n",
      "2022-10-02 11:17:07 darts.models.forecasting.torch_forecasting_model INFO: Train dataset contains 160 samples.\n",
      "2022-10-02 11:17:07 pytorch_lightning.utilities.distributed INFO: GPU available: False, used: False\n",
      "2022-10-02 11:17:07 pytorch_lightning.utilities.distributed INFO: TPU available: False, using: 0 TPU cores\n",
      "2022-10-02 11:17:07 pytorch_lightning.utilities.distributed INFO: IPU available: False, using: 0 IPUs\n",
      "[2022-10-02 11:17:07,471] WARNING | darts.models.forecasting.torch_forecasting_model | Attempting to retrain the model without resuming from a checkpoint. This is currently discouraged. Consider setting `save_checkpoints` to `True` and specifying `model_name` at model creation. Then call `model = TFTModel.load_from_checkpoint(model_name, best=False)`. Finally, train the model with `model.fit(..., epochs=new_epochs)` where `new_epochs` is the sum of (epochs already trained + some additional epochs).\n",
      "[2022-10-02 11:17:07,471] WARNING | darts.models.forecasting.torch_forecasting_model | Attempting to retrain the model without resuming from a checkpoint. This is currently discouraged. Consider setting `save_checkpoints` to `True` and specifying `model_name` at model creation. Then call `model = TFTModel.load_from_checkpoint(model_name, best=False)`. Finally, train the model with `model.fit(..., epochs=new_epochs)` where `new_epochs` is the sum of (epochs already trained + some additional epochs).\n",
      "2022-10-02 11:17:07 darts.models.forecasting.torch_forecasting_model WARNING: Attempting to retrain the model without resuming from a checkpoint. This is currently discouraged. Consider setting `save_checkpoints` to `True` and specifying `model_name` at model creation. Then call `model = TFTModel.load_from_checkpoint(model_name, best=False)`. Finally, train the model with `model.fit(..., epochs=new_epochs)` where `new_epochs` is the sum of (epochs already trained + some additional epochs).\n"
     ]
    },
    {
     "name": "stdout",
     "output_type": "stream",
     "text": [
      "129\n"
     ]
    },
    {
     "data": {
      "application/vnd.jupyter.widget-view+json": {
       "model_id": "f962dbb5938b4e10998f112847ce967e",
       "version_major": 2,
       "version_minor": 0
      },
      "text/plain": [
       "Training: 0it [00:00, ?it/s]"
      ]
     },
     "metadata": {},
     "output_type": "display_data"
    },
    {
     "data": {
      "application/vnd.jupyter.widget-view+json": {
       "model_id": "7516e8050f1c4813beb9f2e2b682b154",
       "version_major": 2,
       "version_minor": 0
      },
      "text/plain": [
       "Predicting: 40it [00:00, ?it/s]"
      ]
     },
     "metadata": {},
     "output_type": "display_data"
    },
    {
     "name": "stderr",
     "output_type": "stream",
     "text": [
      "[2022-10-02 11:17:09,091] INFO | darts.models.forecasting.torch_forecasting_model | Train dataset contains 161 samples.\n",
      "[2022-10-02 11:17:09,091] INFO | darts.models.forecasting.torch_forecasting_model | Train dataset contains 161 samples.\n",
      "2022-10-02 11:17:09 darts.models.forecasting.torch_forecasting_model INFO: Train dataset contains 161 samples.\n",
      "2022-10-02 11:17:09 pytorch_lightning.utilities.distributed INFO: GPU available: False, used: False\n",
      "2022-10-02 11:17:09 pytorch_lightning.utilities.distributed INFO: TPU available: False, using: 0 TPU cores\n",
      "2022-10-02 11:17:09 pytorch_lightning.utilities.distributed INFO: IPU available: False, using: 0 IPUs\n",
      "[2022-10-02 11:17:09,101] WARNING | darts.models.forecasting.torch_forecasting_model | Attempting to retrain the model without resuming from a checkpoint. This is currently discouraged. Consider setting `save_checkpoints` to `True` and specifying `model_name` at model creation. Then call `model = TFTModel.load_from_checkpoint(model_name, best=False)`. Finally, train the model with `model.fit(..., epochs=new_epochs)` where `new_epochs` is the sum of (epochs already trained + some additional epochs).\n",
      "[2022-10-02 11:17:09,101] WARNING | darts.models.forecasting.torch_forecasting_model | Attempting to retrain the model without resuming from a checkpoint. This is currently discouraged. Consider setting `save_checkpoints` to `True` and specifying `model_name` at model creation. Then call `model = TFTModel.load_from_checkpoint(model_name, best=False)`. Finally, train the model with `model.fit(..., epochs=new_epochs)` where `new_epochs` is the sum of (epochs already trained + some additional epochs).\n",
      "2022-10-02 11:17:09 darts.models.forecasting.torch_forecasting_model WARNING: Attempting to retrain the model without resuming from a checkpoint. This is currently discouraged. Consider setting `save_checkpoints` to `True` and specifying `model_name` at model creation. Then call `model = TFTModel.load_from_checkpoint(model_name, best=False)`. Finally, train the model with `model.fit(..., epochs=new_epochs)` where `new_epochs` is the sum of (epochs already trained + some additional epochs).\n"
     ]
    },
    {
     "name": "stdout",
     "output_type": "stream",
     "text": [
      "130\n"
     ]
    },
    {
     "data": {
      "application/vnd.jupyter.widget-view+json": {
       "model_id": "9512064dd9e749a2a1e11b8132bada9f",
       "version_major": 2,
       "version_minor": 0
      },
      "text/plain": [
       "Training: 0it [00:00, ?it/s]"
      ]
     },
     "metadata": {},
     "output_type": "display_data"
    },
    {
     "data": {
      "application/vnd.jupyter.widget-view+json": {
       "model_id": "1d8876ccc523410e921d247aed1d0f1b",
       "version_major": 2,
       "version_minor": 0
      },
      "text/plain": [
       "Predicting: 41it [00:00, ?it/s]"
      ]
     },
     "metadata": {},
     "output_type": "display_data"
    },
    {
     "name": "stderr",
     "output_type": "stream",
     "text": [
      "[2022-10-02 11:17:10,614] INFO | darts.models.forecasting.torch_forecasting_model | Train dataset contains 162 samples.\n",
      "[2022-10-02 11:17:10,614] INFO | darts.models.forecasting.torch_forecasting_model | Train dataset contains 162 samples.\n",
      "2022-10-02 11:17:10 darts.models.forecasting.torch_forecasting_model INFO: Train dataset contains 162 samples.\n",
      "2022-10-02 11:17:10 pytorch_lightning.utilities.distributed INFO: GPU available: False, used: False\n",
      "2022-10-02 11:17:10 pytorch_lightning.utilities.distributed INFO: TPU available: False, using: 0 TPU cores\n",
      "2022-10-02 11:17:10 pytorch_lightning.utilities.distributed INFO: IPU available: False, using: 0 IPUs\n",
      "[2022-10-02 11:17:10,624] WARNING | darts.models.forecasting.torch_forecasting_model | Attempting to retrain the model without resuming from a checkpoint. This is currently discouraged. Consider setting `save_checkpoints` to `True` and specifying `model_name` at model creation. Then call `model = TFTModel.load_from_checkpoint(model_name, best=False)`. Finally, train the model with `model.fit(..., epochs=new_epochs)` where `new_epochs` is the sum of (epochs already trained + some additional epochs).\n",
      "[2022-10-02 11:17:10,624] WARNING | darts.models.forecasting.torch_forecasting_model | Attempting to retrain the model without resuming from a checkpoint. This is currently discouraged. Consider setting `save_checkpoints` to `True` and specifying `model_name` at model creation. Then call `model = TFTModel.load_from_checkpoint(model_name, best=False)`. Finally, train the model with `model.fit(..., epochs=new_epochs)` where `new_epochs` is the sum of (epochs already trained + some additional epochs).\n",
      "2022-10-02 11:17:10 darts.models.forecasting.torch_forecasting_model WARNING: Attempting to retrain the model without resuming from a checkpoint. This is currently discouraged. Consider setting `save_checkpoints` to `True` and specifying `model_name` at model creation. Then call `model = TFTModel.load_from_checkpoint(model_name, best=False)`. Finally, train the model with `model.fit(..., epochs=new_epochs)` where `new_epochs` is the sum of (epochs already trained + some additional epochs).\n"
     ]
    },
    {
     "name": "stdout",
     "output_type": "stream",
     "text": [
      "131\n"
     ]
    },
    {
     "data": {
      "application/vnd.jupyter.widget-view+json": {
       "model_id": "5ff95842cfea408a967f60ec693b6cf8",
       "version_major": 2,
       "version_minor": 0
      },
      "text/plain": [
       "Training: 0it [00:00, ?it/s]"
      ]
     },
     "metadata": {},
     "output_type": "display_data"
    },
    {
     "data": {
      "application/vnd.jupyter.widget-view+json": {
       "model_id": "4d3bd12c34164894b79d2745d303b1e0",
       "version_major": 2,
       "version_minor": 0
      },
      "text/plain": [
       "Predicting: 41it [00:00, ?it/s]"
      ]
     },
     "metadata": {},
     "output_type": "display_data"
    },
    {
     "name": "stderr",
     "output_type": "stream",
     "text": [
      "[2022-10-02 11:17:12,110] INFO | darts.models.forecasting.torch_forecasting_model | Train dataset contains 163 samples.\n",
      "[2022-10-02 11:17:12,110] INFO | darts.models.forecasting.torch_forecasting_model | Train dataset contains 163 samples.\n",
      "2022-10-02 11:17:12 darts.models.forecasting.torch_forecasting_model INFO: Train dataset contains 163 samples.\n",
      "2022-10-02 11:17:12 pytorch_lightning.utilities.distributed INFO: GPU available: False, used: False\n",
      "2022-10-02 11:17:12 pytorch_lightning.utilities.distributed INFO: TPU available: False, using: 0 TPU cores\n",
      "2022-10-02 11:17:12 pytorch_lightning.utilities.distributed INFO: IPU available: False, using: 0 IPUs\n",
      "[2022-10-02 11:17:12,118] WARNING | darts.models.forecasting.torch_forecasting_model | Attempting to retrain the model without resuming from a checkpoint. This is currently discouraged. Consider setting `save_checkpoints` to `True` and specifying `model_name` at model creation. Then call `model = TFTModel.load_from_checkpoint(model_name, best=False)`. Finally, train the model with `model.fit(..., epochs=new_epochs)` where `new_epochs` is the sum of (epochs already trained + some additional epochs).\n",
      "[2022-10-02 11:17:12,118] WARNING | darts.models.forecasting.torch_forecasting_model | Attempting to retrain the model without resuming from a checkpoint. This is currently discouraged. Consider setting `save_checkpoints` to `True` and specifying `model_name` at model creation. Then call `model = TFTModel.load_from_checkpoint(model_name, best=False)`. Finally, train the model with `model.fit(..., epochs=new_epochs)` where `new_epochs` is the sum of (epochs already trained + some additional epochs).\n",
      "2022-10-02 11:17:12 darts.models.forecasting.torch_forecasting_model WARNING: Attempting to retrain the model without resuming from a checkpoint. This is currently discouraged. Consider setting `save_checkpoints` to `True` and specifying `model_name` at model creation. Then call `model = TFTModel.load_from_checkpoint(model_name, best=False)`. Finally, train the model with `model.fit(..., epochs=new_epochs)` where `new_epochs` is the sum of (epochs already trained + some additional epochs).\n"
     ]
    },
    {
     "name": "stdout",
     "output_type": "stream",
     "text": [
      "132\n"
     ]
    },
    {
     "data": {
      "application/vnd.jupyter.widget-view+json": {
       "model_id": "46c549ca79fc49e79f3896b952ac457d",
       "version_major": 2,
       "version_minor": 0
      },
      "text/plain": [
       "Training: 0it [00:00, ?it/s]"
      ]
     },
     "metadata": {},
     "output_type": "display_data"
    },
    {
     "data": {
      "application/vnd.jupyter.widget-view+json": {
       "model_id": "c28a4af03ffa43a897031766ccbd300c",
       "version_major": 2,
       "version_minor": 0
      },
      "text/plain": [
       "Predicting: 41it [00:00, ?it/s]"
      ]
     },
     "metadata": {},
     "output_type": "display_data"
    },
    {
     "name": "stderr",
     "output_type": "stream",
     "text": [
      "[2022-10-02 11:17:13,600] INFO | darts.models.forecasting.torch_forecasting_model | Train dataset contains 164 samples.\n",
      "[2022-10-02 11:17:13,600] INFO | darts.models.forecasting.torch_forecasting_model | Train dataset contains 164 samples.\n",
      "2022-10-02 11:17:13 darts.models.forecasting.torch_forecasting_model INFO: Train dataset contains 164 samples.\n",
      "2022-10-02 11:17:13 pytorch_lightning.utilities.distributed INFO: GPU available: False, used: False\n",
      "2022-10-02 11:17:13 pytorch_lightning.utilities.distributed INFO: TPU available: False, using: 0 TPU cores\n",
      "2022-10-02 11:17:13 pytorch_lightning.utilities.distributed INFO: IPU available: False, using: 0 IPUs\n",
      "[2022-10-02 11:17:13,608] WARNING | darts.models.forecasting.torch_forecasting_model | Attempting to retrain the model without resuming from a checkpoint. This is currently discouraged. Consider setting `save_checkpoints` to `True` and specifying `model_name` at model creation. Then call `model = TFTModel.load_from_checkpoint(model_name, best=False)`. Finally, train the model with `model.fit(..., epochs=new_epochs)` where `new_epochs` is the sum of (epochs already trained + some additional epochs).\n",
      "[2022-10-02 11:17:13,608] WARNING | darts.models.forecasting.torch_forecasting_model | Attempting to retrain the model without resuming from a checkpoint. This is currently discouraged. Consider setting `save_checkpoints` to `True` and specifying `model_name` at model creation. Then call `model = TFTModel.load_from_checkpoint(model_name, best=False)`. Finally, train the model with `model.fit(..., epochs=new_epochs)` where `new_epochs` is the sum of (epochs already trained + some additional epochs).\n",
      "2022-10-02 11:17:13 darts.models.forecasting.torch_forecasting_model WARNING: Attempting to retrain the model without resuming from a checkpoint. This is currently discouraged. Consider setting `save_checkpoints` to `True` and specifying `model_name` at model creation. Then call `model = TFTModel.load_from_checkpoint(model_name, best=False)`. Finally, train the model with `model.fit(..., epochs=new_epochs)` where `new_epochs` is the sum of (epochs already trained + some additional epochs).\n"
     ]
    },
    {
     "name": "stdout",
     "output_type": "stream",
     "text": [
      "133\n"
     ]
    },
    {
     "data": {
      "application/vnd.jupyter.widget-view+json": {
       "model_id": "9460abbec4f44869a31a0f12de5e8e9d",
       "version_major": 2,
       "version_minor": 0
      },
      "text/plain": [
       "Training: 0it [00:00, ?it/s]"
      ]
     },
     "metadata": {},
     "output_type": "display_data"
    },
    {
     "data": {
      "application/vnd.jupyter.widget-view+json": {
       "model_id": "d4f8f50999e8418f94c156775953c158",
       "version_major": 2,
       "version_minor": 0
      },
      "text/plain": [
       "Predicting: 41it [00:00, ?it/s]"
      ]
     },
     "metadata": {},
     "output_type": "display_data"
    },
    {
     "name": "stderr",
     "output_type": "stream",
     "text": [
      "[2022-10-02 11:17:15,059] INFO | darts.models.forecasting.torch_forecasting_model | Train dataset contains 165 samples.\n",
      "[2022-10-02 11:17:15,059] INFO | darts.models.forecasting.torch_forecasting_model | Train dataset contains 165 samples.\n",
      "2022-10-02 11:17:15 darts.models.forecasting.torch_forecasting_model INFO: Train dataset contains 165 samples.\n",
      "2022-10-02 11:17:15 pytorch_lightning.utilities.distributed INFO: GPU available: False, used: False\n",
      "2022-10-02 11:17:15 pytorch_lightning.utilities.distributed INFO: TPU available: False, using: 0 TPU cores\n",
      "2022-10-02 11:17:15 pytorch_lightning.utilities.distributed INFO: IPU available: False, using: 0 IPUs\n",
      "[2022-10-02 11:17:15,068] WARNING | darts.models.forecasting.torch_forecasting_model | Attempting to retrain the model without resuming from a checkpoint. This is currently discouraged. Consider setting `save_checkpoints` to `True` and specifying `model_name` at model creation. Then call `model = TFTModel.load_from_checkpoint(model_name, best=False)`. Finally, train the model with `model.fit(..., epochs=new_epochs)` where `new_epochs` is the sum of (epochs already trained + some additional epochs).\n",
      "[2022-10-02 11:17:15,068] WARNING | darts.models.forecasting.torch_forecasting_model | Attempting to retrain the model without resuming from a checkpoint. This is currently discouraged. Consider setting `save_checkpoints` to `True` and specifying `model_name` at model creation. Then call `model = TFTModel.load_from_checkpoint(model_name, best=False)`. Finally, train the model with `model.fit(..., epochs=new_epochs)` where `new_epochs` is the sum of (epochs already trained + some additional epochs).\n",
      "2022-10-02 11:17:15 darts.models.forecasting.torch_forecasting_model WARNING: Attempting to retrain the model without resuming from a checkpoint. This is currently discouraged. Consider setting `save_checkpoints` to `True` and specifying `model_name` at model creation. Then call `model = TFTModel.load_from_checkpoint(model_name, best=False)`. Finally, train the model with `model.fit(..., epochs=new_epochs)` where `new_epochs` is the sum of (epochs already trained + some additional epochs).\n"
     ]
    },
    {
     "name": "stdout",
     "output_type": "stream",
     "text": [
      "134\n"
     ]
    },
    {
     "data": {
      "application/vnd.jupyter.widget-view+json": {
       "model_id": "ff6d430578494614b3fa91c431e94c39",
       "version_major": 2,
       "version_minor": 0
      },
      "text/plain": [
       "Training: 0it [00:00, ?it/s]"
      ]
     },
     "metadata": {},
     "output_type": "display_data"
    },
    {
     "data": {
      "application/vnd.jupyter.widget-view+json": {
       "model_id": "d1712b8cb4034042a80e070d5e03a9bb",
       "version_major": 2,
       "version_minor": 0
      },
      "text/plain": [
       "Predicting: 42it [00:00, ?it/s]"
      ]
     },
     "metadata": {},
     "output_type": "display_data"
    },
    {
     "name": "stderr",
     "output_type": "stream",
     "text": [
      "[2022-10-02 11:17:16,556] INFO | darts.models.forecasting.torch_forecasting_model | Train dataset contains 166 samples.\n",
      "[2022-10-02 11:17:16,556] INFO | darts.models.forecasting.torch_forecasting_model | Train dataset contains 166 samples.\n",
      "2022-10-02 11:17:16 darts.models.forecasting.torch_forecasting_model INFO: Train dataset contains 166 samples.\n",
      "2022-10-02 11:17:16 pytorch_lightning.utilities.distributed INFO: GPU available: False, used: False\n",
      "2022-10-02 11:17:16 pytorch_lightning.utilities.distributed INFO: TPU available: False, using: 0 TPU cores\n",
      "2022-10-02 11:17:16 pytorch_lightning.utilities.distributed INFO: IPU available: False, using: 0 IPUs\n",
      "[2022-10-02 11:17:16,566] WARNING | darts.models.forecasting.torch_forecasting_model | Attempting to retrain the model without resuming from a checkpoint. This is currently discouraged. Consider setting `save_checkpoints` to `True` and specifying `model_name` at model creation. Then call `model = TFTModel.load_from_checkpoint(model_name, best=False)`. Finally, train the model with `model.fit(..., epochs=new_epochs)` where `new_epochs` is the sum of (epochs already trained + some additional epochs).\n",
      "[2022-10-02 11:17:16,566] WARNING | darts.models.forecasting.torch_forecasting_model | Attempting to retrain the model without resuming from a checkpoint. This is currently discouraged. Consider setting `save_checkpoints` to `True` and specifying `model_name` at model creation. Then call `model = TFTModel.load_from_checkpoint(model_name, best=False)`. Finally, train the model with `model.fit(..., epochs=new_epochs)` where `new_epochs` is the sum of (epochs already trained + some additional epochs).\n",
      "2022-10-02 11:17:16 darts.models.forecasting.torch_forecasting_model WARNING: Attempting to retrain the model without resuming from a checkpoint. This is currently discouraged. Consider setting `save_checkpoints` to `True` and specifying `model_name` at model creation. Then call `model = TFTModel.load_from_checkpoint(model_name, best=False)`. Finally, train the model with `model.fit(..., epochs=new_epochs)` where `new_epochs` is the sum of (epochs already trained + some additional epochs).\n"
     ]
    },
    {
     "name": "stdout",
     "output_type": "stream",
     "text": [
      "135\n"
     ]
    },
    {
     "data": {
      "application/vnd.jupyter.widget-view+json": {
       "model_id": "09601b439aa84f21a56400b9a9094290",
       "version_major": 2,
       "version_minor": 0
      },
      "text/plain": [
       "Training: 0it [00:00, ?it/s]"
      ]
     },
     "metadata": {},
     "output_type": "display_data"
    },
    {
     "data": {
      "application/vnd.jupyter.widget-view+json": {
       "model_id": "68592938c31742d4b1b0f601b46e0c8a",
       "version_major": 2,
       "version_minor": 0
      },
      "text/plain": [
       "Predicting: 42it [00:00, ?it/s]"
      ]
     },
     "metadata": {},
     "output_type": "display_data"
    },
    {
     "name": "stderr",
     "output_type": "stream",
     "text": [
      "[2022-10-02 11:17:18,152] INFO | darts.models.forecasting.torch_forecasting_model | Train dataset contains 167 samples.\n",
      "[2022-10-02 11:17:18,152] INFO | darts.models.forecasting.torch_forecasting_model | Train dataset contains 167 samples.\n",
      "2022-10-02 11:17:18 darts.models.forecasting.torch_forecasting_model INFO: Train dataset contains 167 samples.\n",
      "2022-10-02 11:17:18 pytorch_lightning.utilities.distributed INFO: GPU available: False, used: False\n",
      "2022-10-02 11:17:18 pytorch_lightning.utilities.distributed INFO: TPU available: False, using: 0 TPU cores\n",
      "2022-10-02 11:17:18 pytorch_lightning.utilities.distributed INFO: IPU available: False, using: 0 IPUs\n",
      "[2022-10-02 11:17:18,162] WARNING | darts.models.forecasting.torch_forecasting_model | Attempting to retrain the model without resuming from a checkpoint. This is currently discouraged. Consider setting `save_checkpoints` to `True` and specifying `model_name` at model creation. Then call `model = TFTModel.load_from_checkpoint(model_name, best=False)`. Finally, train the model with `model.fit(..., epochs=new_epochs)` where `new_epochs` is the sum of (epochs already trained + some additional epochs).\n",
      "[2022-10-02 11:17:18,162] WARNING | darts.models.forecasting.torch_forecasting_model | Attempting to retrain the model without resuming from a checkpoint. This is currently discouraged. Consider setting `save_checkpoints` to `True` and specifying `model_name` at model creation. Then call `model = TFTModel.load_from_checkpoint(model_name, best=False)`. Finally, train the model with `model.fit(..., epochs=new_epochs)` where `new_epochs` is the sum of (epochs already trained + some additional epochs).\n",
      "2022-10-02 11:17:18 darts.models.forecasting.torch_forecasting_model WARNING: Attempting to retrain the model without resuming from a checkpoint. This is currently discouraged. Consider setting `save_checkpoints` to `True` and specifying `model_name` at model creation. Then call `model = TFTModel.load_from_checkpoint(model_name, best=False)`. Finally, train the model with `model.fit(..., epochs=new_epochs)` where `new_epochs` is the sum of (epochs already trained + some additional epochs).\n"
     ]
    },
    {
     "name": "stdout",
     "output_type": "stream",
     "text": [
      "136\n"
     ]
    },
    {
     "data": {
      "application/vnd.jupyter.widget-view+json": {
       "model_id": "cd14927c2a1d403697ff7ee9a28595ab",
       "version_major": 2,
       "version_minor": 0
      },
      "text/plain": [
       "Training: 0it [00:00, ?it/s]"
      ]
     },
     "metadata": {},
     "output_type": "display_data"
    },
    {
     "data": {
      "application/vnd.jupyter.widget-view+json": {
       "model_id": "197f4b507e0b4fce9858336d983da68e",
       "version_major": 2,
       "version_minor": 0
      },
      "text/plain": [
       "Predicting: 42it [00:00, ?it/s]"
      ]
     },
     "metadata": {},
     "output_type": "display_data"
    },
    {
     "name": "stderr",
     "output_type": "stream",
     "text": [
      "[2022-10-02 11:17:19,640] INFO | darts.models.forecasting.torch_forecasting_model | Train dataset contains 168 samples.\n",
      "[2022-10-02 11:17:19,640] INFO | darts.models.forecasting.torch_forecasting_model | Train dataset contains 168 samples.\n",
      "2022-10-02 11:17:19 darts.models.forecasting.torch_forecasting_model INFO: Train dataset contains 168 samples.\n",
      "2022-10-02 11:17:19 pytorch_lightning.utilities.distributed INFO: GPU available: False, used: False\n",
      "2022-10-02 11:17:19 pytorch_lightning.utilities.distributed INFO: TPU available: False, using: 0 TPU cores\n",
      "2022-10-02 11:17:19 pytorch_lightning.utilities.distributed INFO: IPU available: False, using: 0 IPUs\n",
      "[2022-10-02 11:17:19,648] WARNING | darts.models.forecasting.torch_forecasting_model | Attempting to retrain the model without resuming from a checkpoint. This is currently discouraged. Consider setting `save_checkpoints` to `True` and specifying `model_name` at model creation. Then call `model = TFTModel.load_from_checkpoint(model_name, best=False)`. Finally, train the model with `model.fit(..., epochs=new_epochs)` where `new_epochs` is the sum of (epochs already trained + some additional epochs).\n",
      "[2022-10-02 11:17:19,648] WARNING | darts.models.forecasting.torch_forecasting_model | Attempting to retrain the model without resuming from a checkpoint. This is currently discouraged. Consider setting `save_checkpoints` to `True` and specifying `model_name` at model creation. Then call `model = TFTModel.load_from_checkpoint(model_name, best=False)`. Finally, train the model with `model.fit(..., epochs=new_epochs)` where `new_epochs` is the sum of (epochs already trained + some additional epochs).\n",
      "2022-10-02 11:17:19 darts.models.forecasting.torch_forecasting_model WARNING: Attempting to retrain the model without resuming from a checkpoint. This is currently discouraged. Consider setting `save_checkpoints` to `True` and specifying `model_name` at model creation. Then call `model = TFTModel.load_from_checkpoint(model_name, best=False)`. Finally, train the model with `model.fit(..., epochs=new_epochs)` where `new_epochs` is the sum of (epochs already trained + some additional epochs).\n"
     ]
    },
    {
     "name": "stdout",
     "output_type": "stream",
     "text": [
      "137\n"
     ]
    },
    {
     "data": {
      "application/vnd.jupyter.widget-view+json": {
       "model_id": "0055263614f64a2d97e038b57f56d7dc",
       "version_major": 2,
       "version_minor": 0
      },
      "text/plain": [
       "Training: 0it [00:00, ?it/s]"
      ]
     },
     "metadata": {},
     "output_type": "display_data"
    },
    {
     "data": {
      "application/vnd.jupyter.widget-view+json": {
       "model_id": "9041fc791b0f48938337bd9c19e17229",
       "version_major": 2,
       "version_minor": 0
      },
      "text/plain": [
       "Predicting: 42it [00:00, ?it/s]"
      ]
     },
     "metadata": {},
     "output_type": "display_data"
    },
    {
     "name": "stderr",
     "output_type": "stream",
     "text": [
      "[2022-10-02 11:17:21,175] INFO | darts.models.forecasting.torch_forecasting_model | Train dataset contains 169 samples.\n",
      "[2022-10-02 11:17:21,175] INFO | darts.models.forecasting.torch_forecasting_model | Train dataset contains 169 samples.\n",
      "2022-10-02 11:17:21 darts.models.forecasting.torch_forecasting_model INFO: Train dataset contains 169 samples.\n",
      "2022-10-02 11:17:21 pytorch_lightning.utilities.distributed INFO: GPU available: False, used: False\n",
      "2022-10-02 11:17:21 pytorch_lightning.utilities.distributed INFO: TPU available: False, using: 0 TPU cores\n",
      "2022-10-02 11:17:21 pytorch_lightning.utilities.distributed INFO: IPU available: False, using: 0 IPUs\n",
      "[2022-10-02 11:17:21,182] WARNING | darts.models.forecasting.torch_forecasting_model | Attempting to retrain the model without resuming from a checkpoint. This is currently discouraged. Consider setting `save_checkpoints` to `True` and specifying `model_name` at model creation. Then call `model = TFTModel.load_from_checkpoint(model_name, best=False)`. Finally, train the model with `model.fit(..., epochs=new_epochs)` where `new_epochs` is the sum of (epochs already trained + some additional epochs).\n",
      "[2022-10-02 11:17:21,182] WARNING | darts.models.forecasting.torch_forecasting_model | Attempting to retrain the model without resuming from a checkpoint. This is currently discouraged. Consider setting `save_checkpoints` to `True` and specifying `model_name` at model creation. Then call `model = TFTModel.load_from_checkpoint(model_name, best=False)`. Finally, train the model with `model.fit(..., epochs=new_epochs)` where `new_epochs` is the sum of (epochs already trained + some additional epochs).\n",
      "2022-10-02 11:17:21 darts.models.forecasting.torch_forecasting_model WARNING: Attempting to retrain the model without resuming from a checkpoint. This is currently discouraged. Consider setting `save_checkpoints` to `True` and specifying `model_name` at model creation. Then call `model = TFTModel.load_from_checkpoint(model_name, best=False)`. Finally, train the model with `model.fit(..., epochs=new_epochs)` where `new_epochs` is the sum of (epochs already trained + some additional epochs).\n"
     ]
    },
    {
     "name": "stdout",
     "output_type": "stream",
     "text": [
      "138\n"
     ]
    },
    {
     "data": {
      "application/vnd.jupyter.widget-view+json": {
       "model_id": "4fa0d0bf5a3c4ade97b59ee00fc3f841",
       "version_major": 2,
       "version_minor": 0
      },
      "text/plain": [
       "Training: 0it [00:00, ?it/s]"
      ]
     },
     "metadata": {},
     "output_type": "display_data"
    },
    {
     "data": {
      "application/vnd.jupyter.widget-view+json": {
       "model_id": "56c071aec1844186bfdb15bf1c246f6a",
       "version_major": 2,
       "version_minor": 0
      },
      "text/plain": [
       "Predicting: 43it [00:00, ?it/s]"
      ]
     },
     "metadata": {},
     "output_type": "display_data"
    },
    {
     "name": "stderr",
     "output_type": "stream",
     "text": [
      "[2022-10-02 11:17:22,770] INFO | darts.models.forecasting.torch_forecasting_model | Train dataset contains 170 samples.\n",
      "[2022-10-02 11:17:22,770] INFO | darts.models.forecasting.torch_forecasting_model | Train dataset contains 170 samples.\n",
      "2022-10-02 11:17:22 darts.models.forecasting.torch_forecasting_model INFO: Train dataset contains 170 samples.\n",
      "2022-10-02 11:17:22 pytorch_lightning.utilities.distributed INFO: GPU available: False, used: False\n",
      "2022-10-02 11:17:22 pytorch_lightning.utilities.distributed INFO: TPU available: False, using: 0 TPU cores\n",
      "2022-10-02 11:17:22 pytorch_lightning.utilities.distributed INFO: IPU available: False, using: 0 IPUs\n",
      "[2022-10-02 11:17:22,778] WARNING | darts.models.forecasting.torch_forecasting_model | Attempting to retrain the model without resuming from a checkpoint. This is currently discouraged. Consider setting `save_checkpoints` to `True` and specifying `model_name` at model creation. Then call `model = TFTModel.load_from_checkpoint(model_name, best=False)`. Finally, train the model with `model.fit(..., epochs=new_epochs)` where `new_epochs` is the sum of (epochs already trained + some additional epochs).\n",
      "[2022-10-02 11:17:22,778] WARNING | darts.models.forecasting.torch_forecasting_model | Attempting to retrain the model without resuming from a checkpoint. This is currently discouraged. Consider setting `save_checkpoints` to `True` and specifying `model_name` at model creation. Then call `model = TFTModel.load_from_checkpoint(model_name, best=False)`. Finally, train the model with `model.fit(..., epochs=new_epochs)` where `new_epochs` is the sum of (epochs already trained + some additional epochs).\n",
      "2022-10-02 11:17:22 darts.models.forecasting.torch_forecasting_model WARNING: Attempting to retrain the model without resuming from a checkpoint. This is currently discouraged. Consider setting `save_checkpoints` to `True` and specifying `model_name` at model creation. Then call `model = TFTModel.load_from_checkpoint(model_name, best=False)`. Finally, train the model with `model.fit(..., epochs=new_epochs)` where `new_epochs` is the sum of (epochs already trained + some additional epochs).\n"
     ]
    },
    {
     "name": "stdout",
     "output_type": "stream",
     "text": [
      "139\n"
     ]
    },
    {
     "data": {
      "application/vnd.jupyter.widget-view+json": {
       "model_id": "c458a14d865143eaa51c7b08c5f81a34",
       "version_major": 2,
       "version_minor": 0
      },
      "text/plain": [
       "Training: 0it [00:00, ?it/s]"
      ]
     },
     "metadata": {},
     "output_type": "display_data"
    },
    {
     "data": {
      "application/vnd.jupyter.widget-view+json": {
       "model_id": "43aa8c378aa74f249088011d242f796d",
       "version_major": 2,
       "version_minor": 0
      },
      "text/plain": [
       "Predicting: 43it [00:00, ?it/s]"
      ]
     },
     "metadata": {},
     "output_type": "display_data"
    },
    {
     "name": "stderr",
     "output_type": "stream",
     "text": [
      "[2022-10-02 11:17:24,275] INFO | darts.models.forecasting.torch_forecasting_model | Train dataset contains 171 samples.\n",
      "[2022-10-02 11:17:24,275] INFO | darts.models.forecasting.torch_forecasting_model | Train dataset contains 171 samples.\n",
      "2022-10-02 11:17:24 darts.models.forecasting.torch_forecasting_model INFO: Train dataset contains 171 samples.\n",
      "2022-10-02 11:17:24 pytorch_lightning.utilities.distributed INFO: GPU available: False, used: False\n",
      "2022-10-02 11:17:24 pytorch_lightning.utilities.distributed INFO: TPU available: False, using: 0 TPU cores\n",
      "2022-10-02 11:17:24 pytorch_lightning.utilities.distributed INFO: IPU available: False, using: 0 IPUs\n",
      "[2022-10-02 11:17:24,284] WARNING | darts.models.forecasting.torch_forecasting_model | Attempting to retrain the model without resuming from a checkpoint. This is currently discouraged. Consider setting `save_checkpoints` to `True` and specifying `model_name` at model creation. Then call `model = TFTModel.load_from_checkpoint(model_name, best=False)`. Finally, train the model with `model.fit(..., epochs=new_epochs)` where `new_epochs` is the sum of (epochs already trained + some additional epochs).\n",
      "[2022-10-02 11:17:24,284] WARNING | darts.models.forecasting.torch_forecasting_model | Attempting to retrain the model without resuming from a checkpoint. This is currently discouraged. Consider setting `save_checkpoints` to `True` and specifying `model_name` at model creation. Then call `model = TFTModel.load_from_checkpoint(model_name, best=False)`. Finally, train the model with `model.fit(..., epochs=new_epochs)` where `new_epochs` is the sum of (epochs already trained + some additional epochs).\n",
      "2022-10-02 11:17:24 darts.models.forecasting.torch_forecasting_model WARNING: Attempting to retrain the model without resuming from a checkpoint. This is currently discouraged. Consider setting `save_checkpoints` to `True` and specifying `model_name` at model creation. Then call `model = TFTModel.load_from_checkpoint(model_name, best=False)`. Finally, train the model with `model.fit(..., epochs=new_epochs)` where `new_epochs` is the sum of (epochs already trained + some additional epochs).\n"
     ]
    },
    {
     "name": "stdout",
     "output_type": "stream",
     "text": [
      "140\n"
     ]
    },
    {
     "data": {
      "application/vnd.jupyter.widget-view+json": {
       "model_id": "658ebb93fb4649ccb9202a56a2b3a49e",
       "version_major": 2,
       "version_minor": 0
      },
      "text/plain": [
       "Training: 0it [00:00, ?it/s]"
      ]
     },
     "metadata": {},
     "output_type": "display_data"
    },
    {
     "data": {
      "application/vnd.jupyter.widget-view+json": {
       "model_id": "8b1cdf0a0a364b658e61d8538f1ff0a2",
       "version_major": 2,
       "version_minor": 0
      },
      "text/plain": [
       "Predicting: 43it [00:00, ?it/s]"
      ]
     },
     "metadata": {},
     "output_type": "display_data"
    },
    {
     "name": "stderr",
     "output_type": "stream",
     "text": [
      "[2022-10-02 11:17:25,801] INFO | darts.models.forecasting.torch_forecasting_model | Train dataset contains 172 samples.\n",
      "[2022-10-02 11:17:25,801] INFO | darts.models.forecasting.torch_forecasting_model | Train dataset contains 172 samples.\n",
      "2022-10-02 11:17:25 darts.models.forecasting.torch_forecasting_model INFO: Train dataset contains 172 samples.\n",
      "2022-10-02 11:17:25 pytorch_lightning.utilities.distributed INFO: GPU available: False, used: False\n",
      "2022-10-02 11:17:25 pytorch_lightning.utilities.distributed INFO: TPU available: False, using: 0 TPU cores\n",
      "2022-10-02 11:17:25 pytorch_lightning.utilities.distributed INFO: IPU available: False, using: 0 IPUs\n",
      "[2022-10-02 11:17:25,810] WARNING | darts.models.forecasting.torch_forecasting_model | Attempting to retrain the model without resuming from a checkpoint. This is currently discouraged. Consider setting `save_checkpoints` to `True` and specifying `model_name` at model creation. Then call `model = TFTModel.load_from_checkpoint(model_name, best=False)`. Finally, train the model with `model.fit(..., epochs=new_epochs)` where `new_epochs` is the sum of (epochs already trained + some additional epochs).\n",
      "[2022-10-02 11:17:25,810] WARNING | darts.models.forecasting.torch_forecasting_model | Attempting to retrain the model without resuming from a checkpoint. This is currently discouraged. Consider setting `save_checkpoints` to `True` and specifying `model_name` at model creation. Then call `model = TFTModel.load_from_checkpoint(model_name, best=False)`. Finally, train the model with `model.fit(..., epochs=new_epochs)` where `new_epochs` is the sum of (epochs already trained + some additional epochs).\n",
      "2022-10-02 11:17:25 darts.models.forecasting.torch_forecasting_model WARNING: Attempting to retrain the model without resuming from a checkpoint. This is currently discouraged. Consider setting `save_checkpoints` to `True` and specifying `model_name` at model creation. Then call `model = TFTModel.load_from_checkpoint(model_name, best=False)`. Finally, train the model with `model.fit(..., epochs=new_epochs)` where `new_epochs` is the sum of (epochs already trained + some additional epochs).\n"
     ]
    },
    {
     "name": "stdout",
     "output_type": "stream",
     "text": [
      "141\n"
     ]
    },
    {
     "data": {
      "application/vnd.jupyter.widget-view+json": {
       "model_id": "6043d4674f8940fc832a98e9349c9e41",
       "version_major": 2,
       "version_minor": 0
      },
      "text/plain": [
       "Training: 0it [00:00, ?it/s]"
      ]
     },
     "metadata": {},
     "output_type": "display_data"
    },
    {
     "data": {
      "application/vnd.jupyter.widget-view+json": {
       "model_id": "190f8f5cc79c4540a3438a0d66022c41",
       "version_major": 2,
       "version_minor": 0
      },
      "text/plain": [
       "Predicting: 43it [00:00, ?it/s]"
      ]
     },
     "metadata": {},
     "output_type": "display_data"
    },
    {
     "name": "stderr",
     "output_type": "stream",
     "text": [
      "[2022-10-02 11:17:27,421] INFO | darts.models.forecasting.torch_forecasting_model | Train dataset contains 173 samples.\n",
      "[2022-10-02 11:17:27,421] INFO | darts.models.forecasting.torch_forecasting_model | Train dataset contains 173 samples.\n",
      "2022-10-02 11:17:27 darts.models.forecasting.torch_forecasting_model INFO: Train dataset contains 173 samples.\n",
      "2022-10-02 11:17:27 pytorch_lightning.utilities.distributed INFO: GPU available: False, used: False\n",
      "2022-10-02 11:17:27 pytorch_lightning.utilities.distributed INFO: TPU available: False, using: 0 TPU cores\n",
      "2022-10-02 11:17:27 pytorch_lightning.utilities.distributed INFO: IPU available: False, using: 0 IPUs\n",
      "[2022-10-02 11:17:27,429] WARNING | darts.models.forecasting.torch_forecasting_model | Attempting to retrain the model without resuming from a checkpoint. This is currently discouraged. Consider setting `save_checkpoints` to `True` and specifying `model_name` at model creation. Then call `model = TFTModel.load_from_checkpoint(model_name, best=False)`. Finally, train the model with `model.fit(..., epochs=new_epochs)` where `new_epochs` is the sum of (epochs already trained + some additional epochs).\n",
      "[2022-10-02 11:17:27,429] WARNING | darts.models.forecasting.torch_forecasting_model | Attempting to retrain the model without resuming from a checkpoint. This is currently discouraged. Consider setting `save_checkpoints` to `True` and specifying `model_name` at model creation. Then call `model = TFTModel.load_from_checkpoint(model_name, best=False)`. Finally, train the model with `model.fit(..., epochs=new_epochs)` where `new_epochs` is the sum of (epochs already trained + some additional epochs).\n",
      "2022-10-02 11:17:27 darts.models.forecasting.torch_forecasting_model WARNING: Attempting to retrain the model without resuming from a checkpoint. This is currently discouraged. Consider setting `save_checkpoints` to `True` and specifying `model_name` at model creation. Then call `model = TFTModel.load_from_checkpoint(model_name, best=False)`. Finally, train the model with `model.fit(..., epochs=new_epochs)` where `new_epochs` is the sum of (epochs already trained + some additional epochs).\n"
     ]
    },
    {
     "name": "stdout",
     "output_type": "stream",
     "text": [
      "142\n"
     ]
    },
    {
     "data": {
      "application/vnd.jupyter.widget-view+json": {
       "model_id": "9c3f1ecf25fa41dbac3be7a44d6ec988",
       "version_major": 2,
       "version_minor": 0
      },
      "text/plain": [
       "Training: 0it [00:00, ?it/s]"
      ]
     },
     "metadata": {},
     "output_type": "display_data"
    },
    {
     "data": {
      "application/vnd.jupyter.widget-view+json": {
       "model_id": "01bd7e4a0d8243168acc73a4f4f484d0",
       "version_major": 2,
       "version_minor": 0
      },
      "text/plain": [
       "Predicting: 44it [00:00, ?it/s]"
      ]
     },
     "metadata": {},
     "output_type": "display_data"
    },
    {
     "name": "stderr",
     "output_type": "stream",
     "text": [
      "[2022-10-02 11:17:29,133] INFO | darts.models.forecasting.torch_forecasting_model | Train dataset contains 174 samples.\n",
      "[2022-10-02 11:17:29,133] INFO | darts.models.forecasting.torch_forecasting_model | Train dataset contains 174 samples.\n",
      "2022-10-02 11:17:29 darts.models.forecasting.torch_forecasting_model INFO: Train dataset contains 174 samples.\n",
      "2022-10-02 11:17:29 pytorch_lightning.utilities.distributed INFO: GPU available: False, used: False\n",
      "2022-10-02 11:17:29 pytorch_lightning.utilities.distributed INFO: TPU available: False, using: 0 TPU cores\n",
      "2022-10-02 11:17:29 pytorch_lightning.utilities.distributed INFO: IPU available: False, using: 0 IPUs\n",
      "[2022-10-02 11:17:29,141] WARNING | darts.models.forecasting.torch_forecasting_model | Attempting to retrain the model without resuming from a checkpoint. This is currently discouraged. Consider setting `save_checkpoints` to `True` and specifying `model_name` at model creation. Then call `model = TFTModel.load_from_checkpoint(model_name, best=False)`. Finally, train the model with `model.fit(..., epochs=new_epochs)` where `new_epochs` is the sum of (epochs already trained + some additional epochs).\n",
      "[2022-10-02 11:17:29,141] WARNING | darts.models.forecasting.torch_forecasting_model | Attempting to retrain the model without resuming from a checkpoint. This is currently discouraged. Consider setting `save_checkpoints` to `True` and specifying `model_name` at model creation. Then call `model = TFTModel.load_from_checkpoint(model_name, best=False)`. Finally, train the model with `model.fit(..., epochs=new_epochs)` where `new_epochs` is the sum of (epochs already trained + some additional epochs).\n",
      "2022-10-02 11:17:29 darts.models.forecasting.torch_forecasting_model WARNING: Attempting to retrain the model without resuming from a checkpoint. This is currently discouraged. Consider setting `save_checkpoints` to `True` and specifying `model_name` at model creation. Then call `model = TFTModel.load_from_checkpoint(model_name, best=False)`. Finally, train the model with `model.fit(..., epochs=new_epochs)` where `new_epochs` is the sum of (epochs already trained + some additional epochs).\n"
     ]
    },
    {
     "name": "stdout",
     "output_type": "stream",
     "text": [
      "143\n"
     ]
    },
    {
     "data": {
      "application/vnd.jupyter.widget-view+json": {
       "model_id": "42af5a93111d4ac89db54c4c06387844",
       "version_major": 2,
       "version_minor": 0
      },
      "text/plain": [
       "Training: 0it [00:00, ?it/s]"
      ]
     },
     "metadata": {},
     "output_type": "display_data"
    },
    {
     "data": {
      "application/vnd.jupyter.widget-view+json": {
       "model_id": "be2819c244cf4fec83f757adf0640f06",
       "version_major": 2,
       "version_minor": 0
      },
      "text/plain": [
       "Predicting: 44it [00:00, ?it/s]"
      ]
     },
     "metadata": {},
     "output_type": "display_data"
    },
    {
     "name": "stderr",
     "output_type": "stream",
     "text": [
      "[2022-10-02 11:17:30,769] INFO | darts.models.forecasting.torch_forecasting_model | Train dataset contains 175 samples.\n",
      "[2022-10-02 11:17:30,769] INFO | darts.models.forecasting.torch_forecasting_model | Train dataset contains 175 samples.\n",
      "2022-10-02 11:17:30 darts.models.forecasting.torch_forecasting_model INFO: Train dataset contains 175 samples.\n",
      "2022-10-02 11:17:30 pytorch_lightning.utilities.distributed INFO: GPU available: False, used: False\n",
      "2022-10-02 11:17:30 pytorch_lightning.utilities.distributed INFO: TPU available: False, using: 0 TPU cores\n",
      "2022-10-02 11:17:30 pytorch_lightning.utilities.distributed INFO: IPU available: False, using: 0 IPUs\n",
      "[2022-10-02 11:17:30,781] WARNING | darts.models.forecasting.torch_forecasting_model | Attempting to retrain the model without resuming from a checkpoint. This is currently discouraged. Consider setting `save_checkpoints` to `True` and specifying `model_name` at model creation. Then call `model = TFTModel.load_from_checkpoint(model_name, best=False)`. Finally, train the model with `model.fit(..., epochs=new_epochs)` where `new_epochs` is the sum of (epochs already trained + some additional epochs).\n",
      "[2022-10-02 11:17:30,781] WARNING | darts.models.forecasting.torch_forecasting_model | Attempting to retrain the model without resuming from a checkpoint. This is currently discouraged. Consider setting `save_checkpoints` to `True` and specifying `model_name` at model creation. Then call `model = TFTModel.load_from_checkpoint(model_name, best=False)`. Finally, train the model with `model.fit(..., epochs=new_epochs)` where `new_epochs` is the sum of (epochs already trained + some additional epochs).\n",
      "2022-10-02 11:17:30 darts.models.forecasting.torch_forecasting_model WARNING: Attempting to retrain the model without resuming from a checkpoint. This is currently discouraged. Consider setting `save_checkpoints` to `True` and specifying `model_name` at model creation. Then call `model = TFTModel.load_from_checkpoint(model_name, best=False)`. Finally, train the model with `model.fit(..., epochs=new_epochs)` where `new_epochs` is the sum of (epochs already trained + some additional epochs).\n"
     ]
    },
    {
     "name": "stdout",
     "output_type": "stream",
     "text": [
      "144\n"
     ]
    },
    {
     "data": {
      "application/vnd.jupyter.widget-view+json": {
       "model_id": "e2ecda51495f4effb31cb0511b41b947",
       "version_major": 2,
       "version_minor": 0
      },
      "text/plain": [
       "Training: 0it [00:00, ?it/s]"
      ]
     },
     "metadata": {},
     "output_type": "display_data"
    },
    {
     "data": {
      "application/vnd.jupyter.widget-view+json": {
       "model_id": "de03364429574ed19cec2dd55c8616ef",
       "version_major": 2,
       "version_minor": 0
      },
      "text/plain": [
       "Predicting: 44it [00:00, ?it/s]"
      ]
     },
     "metadata": {},
     "output_type": "display_data"
    },
    {
     "name": "stderr",
     "output_type": "stream",
     "text": [
      "[2022-10-02 11:17:32,486] INFO | darts.models.forecasting.torch_forecasting_model | Train dataset contains 176 samples.\n",
      "[2022-10-02 11:17:32,486] INFO | darts.models.forecasting.torch_forecasting_model | Train dataset contains 176 samples.\n",
      "2022-10-02 11:17:32 darts.models.forecasting.torch_forecasting_model INFO: Train dataset contains 176 samples.\n",
      "2022-10-02 11:17:32 pytorch_lightning.utilities.distributed INFO: GPU available: False, used: False\n",
      "2022-10-02 11:17:32 pytorch_lightning.utilities.distributed INFO: TPU available: False, using: 0 TPU cores\n",
      "2022-10-02 11:17:32 pytorch_lightning.utilities.distributed INFO: IPU available: False, using: 0 IPUs\n",
      "[2022-10-02 11:17:32,494] WARNING | darts.models.forecasting.torch_forecasting_model | Attempting to retrain the model without resuming from a checkpoint. This is currently discouraged. Consider setting `save_checkpoints` to `True` and specifying `model_name` at model creation. Then call `model = TFTModel.load_from_checkpoint(model_name, best=False)`. Finally, train the model with `model.fit(..., epochs=new_epochs)` where `new_epochs` is the sum of (epochs already trained + some additional epochs).\n",
      "[2022-10-02 11:17:32,494] WARNING | darts.models.forecasting.torch_forecasting_model | Attempting to retrain the model without resuming from a checkpoint. This is currently discouraged. Consider setting `save_checkpoints` to `True` and specifying `model_name` at model creation. Then call `model = TFTModel.load_from_checkpoint(model_name, best=False)`. Finally, train the model with `model.fit(..., epochs=new_epochs)` where `new_epochs` is the sum of (epochs already trained + some additional epochs).\n",
      "2022-10-02 11:17:32 darts.models.forecasting.torch_forecasting_model WARNING: Attempting to retrain the model without resuming from a checkpoint. This is currently discouraged. Consider setting `save_checkpoints` to `True` and specifying `model_name` at model creation. Then call `model = TFTModel.load_from_checkpoint(model_name, best=False)`. Finally, train the model with `model.fit(..., epochs=new_epochs)` where `new_epochs` is the sum of (epochs already trained + some additional epochs).\n"
     ]
    },
    {
     "name": "stdout",
     "output_type": "stream",
     "text": [
      "145\n"
     ]
    },
    {
     "data": {
      "application/vnd.jupyter.widget-view+json": {
       "model_id": "ccb285167b584f62bb1d51be17dd902c",
       "version_major": 2,
       "version_minor": 0
      },
      "text/plain": [
       "Training: 0it [00:00, ?it/s]"
      ]
     },
     "metadata": {},
     "output_type": "display_data"
    },
    {
     "data": {
      "application/vnd.jupyter.widget-view+json": {
       "model_id": "7d29b4fc86e54222b6cc3b7c5ade7a5b",
       "version_major": 2,
       "version_minor": 0
      },
      "text/plain": [
       "Predicting: 44it [00:00, ?it/s]"
      ]
     },
     "metadata": {},
     "output_type": "display_data"
    },
    {
     "name": "stderr",
     "output_type": "stream",
     "text": [
      "[2022-10-02 11:17:34,071] INFO | darts.models.forecasting.torch_forecasting_model | Train dataset contains 177 samples.\n",
      "[2022-10-02 11:17:34,071] INFO | darts.models.forecasting.torch_forecasting_model | Train dataset contains 177 samples.\n",
      "2022-10-02 11:17:34 darts.models.forecasting.torch_forecasting_model INFO: Train dataset contains 177 samples.\n",
      "2022-10-02 11:17:34 pytorch_lightning.utilities.distributed INFO: GPU available: False, used: False\n",
      "2022-10-02 11:17:34 pytorch_lightning.utilities.distributed INFO: TPU available: False, using: 0 TPU cores\n",
      "2022-10-02 11:17:34 pytorch_lightning.utilities.distributed INFO: IPU available: False, using: 0 IPUs\n",
      "[2022-10-02 11:17:34,080] WARNING | darts.models.forecasting.torch_forecasting_model | Attempting to retrain the model without resuming from a checkpoint. This is currently discouraged. Consider setting `save_checkpoints` to `True` and specifying `model_name` at model creation. Then call `model = TFTModel.load_from_checkpoint(model_name, best=False)`. Finally, train the model with `model.fit(..., epochs=new_epochs)` where `new_epochs` is the sum of (epochs already trained + some additional epochs).\n",
      "[2022-10-02 11:17:34,080] WARNING | darts.models.forecasting.torch_forecasting_model | Attempting to retrain the model without resuming from a checkpoint. This is currently discouraged. Consider setting `save_checkpoints` to `True` and specifying `model_name` at model creation. Then call `model = TFTModel.load_from_checkpoint(model_name, best=False)`. Finally, train the model with `model.fit(..., epochs=new_epochs)` where `new_epochs` is the sum of (epochs already trained + some additional epochs).\n",
      "2022-10-02 11:17:34 darts.models.forecasting.torch_forecasting_model WARNING: Attempting to retrain the model without resuming from a checkpoint. This is currently discouraged. Consider setting `save_checkpoints` to `True` and specifying `model_name` at model creation. Then call `model = TFTModel.load_from_checkpoint(model_name, best=False)`. Finally, train the model with `model.fit(..., epochs=new_epochs)` where `new_epochs` is the sum of (epochs already trained + some additional epochs).\n"
     ]
    },
    {
     "name": "stdout",
     "output_type": "stream",
     "text": [
      "146\n"
     ]
    },
    {
     "data": {
      "application/vnd.jupyter.widget-view+json": {
       "model_id": "3ee1b3d3c2ec4c1c9593aeab67483b45",
       "version_major": 2,
       "version_minor": 0
      },
      "text/plain": [
       "Training: 0it [00:00, ?it/s]"
      ]
     },
     "metadata": {},
     "output_type": "display_data"
    },
    {
     "data": {
      "application/vnd.jupyter.widget-view+json": {
       "model_id": "095fe7fe14794c879906e7de0b6dcb82",
       "version_major": 2,
       "version_minor": 0
      },
      "text/plain": [
       "Predicting: 45it [00:00, ?it/s]"
      ]
     },
     "metadata": {},
     "output_type": "display_data"
    },
    {
     "name": "stderr",
     "output_type": "stream",
     "text": [
      "[2022-10-02 11:17:35,720] INFO | darts.models.forecasting.torch_forecasting_model | Train dataset contains 178 samples.\n",
      "[2022-10-02 11:17:35,720] INFO | darts.models.forecasting.torch_forecasting_model | Train dataset contains 178 samples.\n",
      "2022-10-02 11:17:35 darts.models.forecasting.torch_forecasting_model INFO: Train dataset contains 178 samples.\n",
      "2022-10-02 11:17:35 pytorch_lightning.utilities.distributed INFO: GPU available: False, used: False\n",
      "2022-10-02 11:17:35 pytorch_lightning.utilities.distributed INFO: TPU available: False, using: 0 TPU cores\n",
      "2022-10-02 11:17:35 pytorch_lightning.utilities.distributed INFO: IPU available: False, using: 0 IPUs\n",
      "[2022-10-02 11:17:35,728] WARNING | darts.models.forecasting.torch_forecasting_model | Attempting to retrain the model without resuming from a checkpoint. This is currently discouraged. Consider setting `save_checkpoints` to `True` and specifying `model_name` at model creation. Then call `model = TFTModel.load_from_checkpoint(model_name, best=False)`. Finally, train the model with `model.fit(..., epochs=new_epochs)` where `new_epochs` is the sum of (epochs already trained + some additional epochs).\n",
      "[2022-10-02 11:17:35,728] WARNING | darts.models.forecasting.torch_forecasting_model | Attempting to retrain the model without resuming from a checkpoint. This is currently discouraged. Consider setting `save_checkpoints` to `True` and specifying `model_name` at model creation. Then call `model = TFTModel.load_from_checkpoint(model_name, best=False)`. Finally, train the model with `model.fit(..., epochs=new_epochs)` where `new_epochs` is the sum of (epochs already trained + some additional epochs).\n",
      "2022-10-02 11:17:35 darts.models.forecasting.torch_forecasting_model WARNING: Attempting to retrain the model without resuming from a checkpoint. This is currently discouraged. Consider setting `save_checkpoints` to `True` and specifying `model_name` at model creation. Then call `model = TFTModel.load_from_checkpoint(model_name, best=False)`. Finally, train the model with `model.fit(..., epochs=new_epochs)` where `new_epochs` is the sum of (epochs already trained + some additional epochs).\n"
     ]
    },
    {
     "name": "stdout",
     "output_type": "stream",
     "text": [
      "147\n"
     ]
    },
    {
     "data": {
      "application/vnd.jupyter.widget-view+json": {
       "model_id": "0d1f49d823cb4a089297e3f51c9de188",
       "version_major": 2,
       "version_minor": 0
      },
      "text/plain": [
       "Training: 0it [00:00, ?it/s]"
      ]
     },
     "metadata": {},
     "output_type": "display_data"
    },
    {
     "data": {
      "application/vnd.jupyter.widget-view+json": {
       "model_id": "64b0c91d3d93418d9048772cf0764cd3",
       "version_major": 2,
       "version_minor": 0
      },
      "text/plain": [
       "Predicting: 45it [00:00, ?it/s]"
      ]
     },
     "metadata": {},
     "output_type": "display_data"
    },
    {
     "name": "stderr",
     "output_type": "stream",
     "text": [
      "[2022-10-02 11:17:37,395] INFO | darts.models.forecasting.torch_forecasting_model | Train dataset contains 179 samples.\n",
      "[2022-10-02 11:17:37,395] INFO | darts.models.forecasting.torch_forecasting_model | Train dataset contains 179 samples.\n",
      "2022-10-02 11:17:37 darts.models.forecasting.torch_forecasting_model INFO: Train dataset contains 179 samples.\n",
      "2022-10-02 11:17:37 pytorch_lightning.utilities.distributed INFO: GPU available: False, used: False\n",
      "2022-10-02 11:17:37 pytorch_lightning.utilities.distributed INFO: TPU available: False, using: 0 TPU cores\n",
      "2022-10-02 11:17:37 pytorch_lightning.utilities.distributed INFO: IPU available: False, using: 0 IPUs\n",
      "[2022-10-02 11:17:37,401] WARNING | darts.models.forecasting.torch_forecasting_model | Attempting to retrain the model without resuming from a checkpoint. This is currently discouraged. Consider setting `save_checkpoints` to `True` and specifying `model_name` at model creation. Then call `model = TFTModel.load_from_checkpoint(model_name, best=False)`. Finally, train the model with `model.fit(..., epochs=new_epochs)` where `new_epochs` is the sum of (epochs already trained + some additional epochs).\n",
      "[2022-10-02 11:17:37,401] WARNING | darts.models.forecasting.torch_forecasting_model | Attempting to retrain the model without resuming from a checkpoint. This is currently discouraged. Consider setting `save_checkpoints` to `True` and specifying `model_name` at model creation. Then call `model = TFTModel.load_from_checkpoint(model_name, best=False)`. Finally, train the model with `model.fit(..., epochs=new_epochs)` where `new_epochs` is the sum of (epochs already trained + some additional epochs).\n",
      "2022-10-02 11:17:37 darts.models.forecasting.torch_forecasting_model WARNING: Attempting to retrain the model without resuming from a checkpoint. This is currently discouraged. Consider setting `save_checkpoints` to `True` and specifying `model_name` at model creation. Then call `model = TFTModel.load_from_checkpoint(model_name, best=False)`. Finally, train the model with `model.fit(..., epochs=new_epochs)` where `new_epochs` is the sum of (epochs already trained + some additional epochs).\n"
     ]
    },
    {
     "name": "stdout",
     "output_type": "stream",
     "text": [
      "148\n"
     ]
    },
    {
     "data": {
      "application/vnd.jupyter.widget-view+json": {
       "model_id": "14c812e9143d4908b40ec23840e002fe",
       "version_major": 2,
       "version_minor": 0
      },
      "text/plain": [
       "Training: 0it [00:00, ?it/s]"
      ]
     },
     "metadata": {},
     "output_type": "display_data"
    },
    {
     "data": {
      "application/vnd.jupyter.widget-view+json": {
       "model_id": "e37ba4a688be421b81b46f4dbd0cc632",
       "version_major": 2,
       "version_minor": 0
      },
      "text/plain": [
       "Predicting: 45it [00:00, ?it/s]"
      ]
     },
     "metadata": {},
     "output_type": "display_data"
    },
    {
     "name": "stderr",
     "output_type": "stream",
     "text": [
      "[2022-10-02 11:17:39,004] INFO | darts.models.forecasting.torch_forecasting_model | Train dataset contains 180 samples.\n",
      "[2022-10-02 11:17:39,004] INFO | darts.models.forecasting.torch_forecasting_model | Train dataset contains 180 samples.\n",
      "2022-10-02 11:17:39 darts.models.forecasting.torch_forecasting_model INFO: Train dataset contains 180 samples.\n",
      "2022-10-02 11:17:39 pytorch_lightning.utilities.distributed INFO: GPU available: False, used: False\n",
      "2022-10-02 11:17:39 pytorch_lightning.utilities.distributed INFO: TPU available: False, using: 0 TPU cores\n",
      "2022-10-02 11:17:39 pytorch_lightning.utilities.distributed INFO: IPU available: False, using: 0 IPUs\n",
      "[2022-10-02 11:17:39,016] WARNING | darts.models.forecasting.torch_forecasting_model | Attempting to retrain the model without resuming from a checkpoint. This is currently discouraged. Consider setting `save_checkpoints` to `True` and specifying `model_name` at model creation. Then call `model = TFTModel.load_from_checkpoint(model_name, best=False)`. Finally, train the model with `model.fit(..., epochs=new_epochs)` where `new_epochs` is the sum of (epochs already trained + some additional epochs).\n",
      "[2022-10-02 11:17:39,016] WARNING | darts.models.forecasting.torch_forecasting_model | Attempting to retrain the model without resuming from a checkpoint. This is currently discouraged. Consider setting `save_checkpoints` to `True` and specifying `model_name` at model creation. Then call `model = TFTModel.load_from_checkpoint(model_name, best=False)`. Finally, train the model with `model.fit(..., epochs=new_epochs)` where `new_epochs` is the sum of (epochs already trained + some additional epochs).\n",
      "2022-10-02 11:17:39 darts.models.forecasting.torch_forecasting_model WARNING: Attempting to retrain the model without resuming from a checkpoint. This is currently discouraged. Consider setting `save_checkpoints` to `True` and specifying `model_name` at model creation. Then call `model = TFTModel.load_from_checkpoint(model_name, best=False)`. Finally, train the model with `model.fit(..., epochs=new_epochs)` where `new_epochs` is the sum of (epochs already trained + some additional epochs).\n"
     ]
    },
    {
     "name": "stdout",
     "output_type": "stream",
     "text": [
      "149\n"
     ]
    },
    {
     "data": {
      "application/vnd.jupyter.widget-view+json": {
       "model_id": "1cc034e74d7d4aba9ad650873e0f0ff8",
       "version_major": 2,
       "version_minor": 0
      },
      "text/plain": [
       "Training: 0it [00:00, ?it/s]"
      ]
     },
     "metadata": {},
     "output_type": "display_data"
    },
    {
     "data": {
      "application/vnd.jupyter.widget-view+json": {
       "model_id": "2b8f01a7bc1d4e15a4be4958ea685d5b",
       "version_major": 2,
       "version_minor": 0
      },
      "text/plain": [
       "Predicting: 45it [00:00, ?it/s]"
      ]
     },
     "metadata": {},
     "output_type": "display_data"
    },
    {
     "name": "stderr",
     "output_type": "stream",
     "text": [
      "[2022-10-02 11:17:40,680] INFO | darts.models.forecasting.torch_forecasting_model | Train dataset contains 181 samples.\n",
      "[2022-10-02 11:17:40,680] INFO | darts.models.forecasting.torch_forecasting_model | Train dataset contains 181 samples.\n",
      "2022-10-02 11:17:40 darts.models.forecasting.torch_forecasting_model INFO: Train dataset contains 181 samples.\n",
      "2022-10-02 11:17:40 pytorch_lightning.utilities.distributed INFO: GPU available: False, used: False\n",
      "2022-10-02 11:17:40 pytorch_lightning.utilities.distributed INFO: TPU available: False, using: 0 TPU cores\n",
      "2022-10-02 11:17:40 pytorch_lightning.utilities.distributed INFO: IPU available: False, using: 0 IPUs\n",
      "[2022-10-02 11:17:40,690] WARNING | darts.models.forecasting.torch_forecasting_model | Attempting to retrain the model without resuming from a checkpoint. This is currently discouraged. Consider setting `save_checkpoints` to `True` and specifying `model_name` at model creation. Then call `model = TFTModel.load_from_checkpoint(model_name, best=False)`. Finally, train the model with `model.fit(..., epochs=new_epochs)` where `new_epochs` is the sum of (epochs already trained + some additional epochs).\n",
      "[2022-10-02 11:17:40,690] WARNING | darts.models.forecasting.torch_forecasting_model | Attempting to retrain the model without resuming from a checkpoint. This is currently discouraged. Consider setting `save_checkpoints` to `True` and specifying `model_name` at model creation. Then call `model = TFTModel.load_from_checkpoint(model_name, best=False)`. Finally, train the model with `model.fit(..., epochs=new_epochs)` where `new_epochs` is the sum of (epochs already trained + some additional epochs).\n",
      "2022-10-02 11:17:40 darts.models.forecasting.torch_forecasting_model WARNING: Attempting to retrain the model without resuming from a checkpoint. This is currently discouraged. Consider setting `save_checkpoints` to `True` and specifying `model_name` at model creation. Then call `model = TFTModel.load_from_checkpoint(model_name, best=False)`. Finally, train the model with `model.fit(..., epochs=new_epochs)` where `new_epochs` is the sum of (epochs already trained + some additional epochs).\n"
     ]
    },
    {
     "name": "stdout",
     "output_type": "stream",
     "text": [
      "150\n"
     ]
    },
    {
     "data": {
      "application/vnd.jupyter.widget-view+json": {
       "model_id": "67d6354f05304b9cac82db8fd72a0766",
       "version_major": 2,
       "version_minor": 0
      },
      "text/plain": [
       "Training: 0it [00:00, ?it/s]"
      ]
     },
     "metadata": {},
     "output_type": "display_data"
    },
    {
     "data": {
      "application/vnd.jupyter.widget-view+json": {
       "model_id": "7e329acee428440ca6c40cd84a0cec1b",
       "version_major": 2,
       "version_minor": 0
      },
      "text/plain": [
       "Predicting: 46it [00:00, ?it/s]"
      ]
     },
     "metadata": {},
     "output_type": "display_data"
    },
    {
     "name": "stderr",
     "output_type": "stream",
     "text": [
      "[2022-10-02 11:17:42,376] INFO | darts.models.forecasting.torch_forecasting_model | Train dataset contains 182 samples.\n",
      "[2022-10-02 11:17:42,376] INFO | darts.models.forecasting.torch_forecasting_model | Train dataset contains 182 samples.\n",
      "2022-10-02 11:17:42 darts.models.forecasting.torch_forecasting_model INFO: Train dataset contains 182 samples.\n",
      "2022-10-02 11:17:42 pytorch_lightning.utilities.distributed INFO: GPU available: False, used: False\n",
      "2022-10-02 11:17:42 pytorch_lightning.utilities.distributed INFO: TPU available: False, using: 0 TPU cores\n",
      "2022-10-02 11:17:42 pytorch_lightning.utilities.distributed INFO: IPU available: False, using: 0 IPUs\n",
      "[2022-10-02 11:17:42,385] WARNING | darts.models.forecasting.torch_forecasting_model | Attempting to retrain the model without resuming from a checkpoint. This is currently discouraged. Consider setting `save_checkpoints` to `True` and specifying `model_name` at model creation. Then call `model = TFTModel.load_from_checkpoint(model_name, best=False)`. Finally, train the model with `model.fit(..., epochs=new_epochs)` where `new_epochs` is the sum of (epochs already trained + some additional epochs).\n",
      "[2022-10-02 11:17:42,385] WARNING | darts.models.forecasting.torch_forecasting_model | Attempting to retrain the model without resuming from a checkpoint. This is currently discouraged. Consider setting `save_checkpoints` to `True` and specifying `model_name` at model creation. Then call `model = TFTModel.load_from_checkpoint(model_name, best=False)`. Finally, train the model with `model.fit(..., epochs=new_epochs)` where `new_epochs` is the sum of (epochs already trained + some additional epochs).\n",
      "2022-10-02 11:17:42 darts.models.forecasting.torch_forecasting_model WARNING: Attempting to retrain the model without resuming from a checkpoint. This is currently discouraged. Consider setting `save_checkpoints` to `True` and specifying `model_name` at model creation. Then call `model = TFTModel.load_from_checkpoint(model_name, best=False)`. Finally, train the model with `model.fit(..., epochs=new_epochs)` where `new_epochs` is the sum of (epochs already trained + some additional epochs).\n"
     ]
    },
    {
     "name": "stdout",
     "output_type": "stream",
     "text": [
      "151\n"
     ]
    },
    {
     "data": {
      "application/vnd.jupyter.widget-view+json": {
       "model_id": "be209ede3ef84b26a4d310c8dc41dfb4",
       "version_major": 2,
       "version_minor": 0
      },
      "text/plain": [
       "Training: 0it [00:00, ?it/s]"
      ]
     },
     "metadata": {},
     "output_type": "display_data"
    },
    {
     "data": {
      "application/vnd.jupyter.widget-view+json": {
       "model_id": "e4540e2362274f0fb3c759e24b673c70",
       "version_major": 2,
       "version_minor": 0
      },
      "text/plain": [
       "Predicting: 46it [00:00, ?it/s]"
      ]
     },
     "metadata": {},
     "output_type": "display_data"
    },
    {
     "name": "stderr",
     "output_type": "stream",
     "text": [
      "[2022-10-02 11:17:44,047] INFO | darts.models.forecasting.torch_forecasting_model | Train dataset contains 183 samples.\n",
      "[2022-10-02 11:17:44,047] INFO | darts.models.forecasting.torch_forecasting_model | Train dataset contains 183 samples.\n",
      "2022-10-02 11:17:44 darts.models.forecasting.torch_forecasting_model INFO: Train dataset contains 183 samples.\n",
      "2022-10-02 11:17:44 pytorch_lightning.utilities.distributed INFO: GPU available: False, used: False\n",
      "2022-10-02 11:17:44 pytorch_lightning.utilities.distributed INFO: TPU available: False, using: 0 TPU cores\n",
      "2022-10-02 11:17:44 pytorch_lightning.utilities.distributed INFO: IPU available: False, using: 0 IPUs\n",
      "[2022-10-02 11:17:44,056] WARNING | darts.models.forecasting.torch_forecasting_model | Attempting to retrain the model without resuming from a checkpoint. This is currently discouraged. Consider setting `save_checkpoints` to `True` and specifying `model_name` at model creation. Then call `model = TFTModel.load_from_checkpoint(model_name, best=False)`. Finally, train the model with `model.fit(..., epochs=new_epochs)` where `new_epochs` is the sum of (epochs already trained + some additional epochs).\n",
      "[2022-10-02 11:17:44,056] WARNING | darts.models.forecasting.torch_forecasting_model | Attempting to retrain the model without resuming from a checkpoint. This is currently discouraged. Consider setting `save_checkpoints` to `True` and specifying `model_name` at model creation. Then call `model = TFTModel.load_from_checkpoint(model_name, best=False)`. Finally, train the model with `model.fit(..., epochs=new_epochs)` where `new_epochs` is the sum of (epochs already trained + some additional epochs).\n",
      "2022-10-02 11:17:44 darts.models.forecasting.torch_forecasting_model WARNING: Attempting to retrain the model without resuming from a checkpoint. This is currently discouraged. Consider setting `save_checkpoints` to `True` and specifying `model_name` at model creation. Then call `model = TFTModel.load_from_checkpoint(model_name, best=False)`. Finally, train the model with `model.fit(..., epochs=new_epochs)` where `new_epochs` is the sum of (epochs already trained + some additional epochs).\n"
     ]
    },
    {
     "name": "stdout",
     "output_type": "stream",
     "text": [
      "152\n"
     ]
    },
    {
     "data": {
      "application/vnd.jupyter.widget-view+json": {
       "model_id": "ff2c0687537f45d190ee658c514aa7ab",
       "version_major": 2,
       "version_minor": 0
      },
      "text/plain": [
       "Training: 0it [00:00, ?it/s]"
      ]
     },
     "metadata": {},
     "output_type": "display_data"
    },
    {
     "data": {
      "application/vnd.jupyter.widget-view+json": {
       "model_id": "c9917fc70eec462c93d309c0e05afbdd",
       "version_major": 2,
       "version_minor": 0
      },
      "text/plain": [
       "Predicting: 46it [00:00, ?it/s]"
      ]
     },
     "metadata": {},
     "output_type": "display_data"
    },
    {
     "name": "stderr",
     "output_type": "stream",
     "text": [
      "[2022-10-02 11:17:45,693] INFO | darts.models.forecasting.torch_forecasting_model | Train dataset contains 184 samples.\n",
      "[2022-10-02 11:17:45,693] INFO | darts.models.forecasting.torch_forecasting_model | Train dataset contains 184 samples.\n",
      "2022-10-02 11:17:45 darts.models.forecasting.torch_forecasting_model INFO: Train dataset contains 184 samples.\n",
      "2022-10-02 11:17:45 pytorch_lightning.utilities.distributed INFO: GPU available: False, used: False\n",
      "2022-10-02 11:17:45 pytorch_lightning.utilities.distributed INFO: TPU available: False, using: 0 TPU cores\n",
      "2022-10-02 11:17:45 pytorch_lightning.utilities.distributed INFO: IPU available: False, using: 0 IPUs\n",
      "[2022-10-02 11:17:45,700] WARNING | darts.models.forecasting.torch_forecasting_model | Attempting to retrain the model without resuming from a checkpoint. This is currently discouraged. Consider setting `save_checkpoints` to `True` and specifying `model_name` at model creation. Then call `model = TFTModel.load_from_checkpoint(model_name, best=False)`. Finally, train the model with `model.fit(..., epochs=new_epochs)` where `new_epochs` is the sum of (epochs already trained + some additional epochs).\n",
      "[2022-10-02 11:17:45,700] WARNING | darts.models.forecasting.torch_forecasting_model | Attempting to retrain the model without resuming from a checkpoint. This is currently discouraged. Consider setting `save_checkpoints` to `True` and specifying `model_name` at model creation. Then call `model = TFTModel.load_from_checkpoint(model_name, best=False)`. Finally, train the model with `model.fit(..., epochs=new_epochs)` where `new_epochs` is the sum of (epochs already trained + some additional epochs).\n",
      "2022-10-02 11:17:45 darts.models.forecasting.torch_forecasting_model WARNING: Attempting to retrain the model without resuming from a checkpoint. This is currently discouraged. Consider setting `save_checkpoints` to `True` and specifying `model_name` at model creation. Then call `model = TFTModel.load_from_checkpoint(model_name, best=False)`. Finally, train the model with `model.fit(..., epochs=new_epochs)` where `new_epochs` is the sum of (epochs already trained + some additional epochs).\n"
     ]
    },
    {
     "name": "stdout",
     "output_type": "stream",
     "text": [
      "153\n"
     ]
    },
    {
     "data": {
      "application/vnd.jupyter.widget-view+json": {
       "model_id": "896672a5b37c424b9c270f2b5a272b97",
       "version_major": 2,
       "version_minor": 0
      },
      "text/plain": [
       "Training: 0it [00:00, ?it/s]"
      ]
     },
     "metadata": {},
     "output_type": "display_data"
    },
    {
     "data": {
      "application/vnd.jupyter.widget-view+json": {
       "model_id": "d96e1e0b98fe4efca9fa18e951c33629",
       "version_major": 2,
       "version_minor": 0
      },
      "text/plain": [
       "Predicting: 46it [00:00, ?it/s]"
      ]
     },
     "metadata": {},
     "output_type": "display_data"
    },
    {
     "name": "stderr",
     "output_type": "stream",
     "text": [
      "[2022-10-02 11:17:47,424] INFO | darts.models.forecasting.torch_forecasting_model | Train dataset contains 185 samples.\n",
      "[2022-10-02 11:17:47,424] INFO | darts.models.forecasting.torch_forecasting_model | Train dataset contains 185 samples.\n",
      "2022-10-02 11:17:47 darts.models.forecasting.torch_forecasting_model INFO: Train dataset contains 185 samples.\n",
      "2022-10-02 11:17:47 pytorch_lightning.utilities.distributed INFO: GPU available: False, used: False\n",
      "2022-10-02 11:17:47 pytorch_lightning.utilities.distributed INFO: TPU available: False, using: 0 TPU cores\n",
      "2022-10-02 11:17:47 pytorch_lightning.utilities.distributed INFO: IPU available: False, using: 0 IPUs\n",
      "[2022-10-02 11:17:47,434] WARNING | darts.models.forecasting.torch_forecasting_model | Attempting to retrain the model without resuming from a checkpoint. This is currently discouraged. Consider setting `save_checkpoints` to `True` and specifying `model_name` at model creation. Then call `model = TFTModel.load_from_checkpoint(model_name, best=False)`. Finally, train the model with `model.fit(..., epochs=new_epochs)` where `new_epochs` is the sum of (epochs already trained + some additional epochs).\n",
      "[2022-10-02 11:17:47,434] WARNING | darts.models.forecasting.torch_forecasting_model | Attempting to retrain the model without resuming from a checkpoint. This is currently discouraged. Consider setting `save_checkpoints` to `True` and specifying `model_name` at model creation. Then call `model = TFTModel.load_from_checkpoint(model_name, best=False)`. Finally, train the model with `model.fit(..., epochs=new_epochs)` where `new_epochs` is the sum of (epochs already trained + some additional epochs).\n",
      "2022-10-02 11:17:47 darts.models.forecasting.torch_forecasting_model WARNING: Attempting to retrain the model without resuming from a checkpoint. This is currently discouraged. Consider setting `save_checkpoints` to `True` and specifying `model_name` at model creation. Then call `model = TFTModel.load_from_checkpoint(model_name, best=False)`. Finally, train the model with `model.fit(..., epochs=new_epochs)` where `new_epochs` is the sum of (epochs already trained + some additional epochs).\n"
     ]
    },
    {
     "name": "stdout",
     "output_type": "stream",
     "text": [
      "154\n"
     ]
    },
    {
     "data": {
      "application/vnd.jupyter.widget-view+json": {
       "model_id": "d79b7e2f80a44c7dadbff666e9eaa035",
       "version_major": 2,
       "version_minor": 0
      },
      "text/plain": [
       "Training: 0it [00:00, ?it/s]"
      ]
     },
     "metadata": {},
     "output_type": "display_data"
    },
    {
     "data": {
      "application/vnd.jupyter.widget-view+json": {
       "model_id": "9ea450cd968248b6b684c8b26c7526f8",
       "version_major": 2,
       "version_minor": 0
      },
      "text/plain": [
       "Predicting: 47it [00:00, ?it/s]"
      ]
     },
     "metadata": {},
     "output_type": "display_data"
    },
    {
     "name": "stderr",
     "output_type": "stream",
     "text": [
      "[2022-10-02 11:17:49,133] INFO | darts.models.forecasting.torch_forecasting_model | Train dataset contains 186 samples.\n",
      "[2022-10-02 11:17:49,133] INFO | darts.models.forecasting.torch_forecasting_model | Train dataset contains 186 samples.\n",
      "2022-10-02 11:17:49 darts.models.forecasting.torch_forecasting_model INFO: Train dataset contains 186 samples.\n",
      "2022-10-02 11:17:49 pytorch_lightning.utilities.distributed INFO: GPU available: False, used: False\n",
      "2022-10-02 11:17:49 pytorch_lightning.utilities.distributed INFO: TPU available: False, using: 0 TPU cores\n",
      "2022-10-02 11:17:49 pytorch_lightning.utilities.distributed INFO: IPU available: False, using: 0 IPUs\n",
      "[2022-10-02 11:17:49,141] WARNING | darts.models.forecasting.torch_forecasting_model | Attempting to retrain the model without resuming from a checkpoint. This is currently discouraged. Consider setting `save_checkpoints` to `True` and specifying `model_name` at model creation. Then call `model = TFTModel.load_from_checkpoint(model_name, best=False)`. Finally, train the model with `model.fit(..., epochs=new_epochs)` where `new_epochs` is the sum of (epochs already trained + some additional epochs).\n",
      "[2022-10-02 11:17:49,141] WARNING | darts.models.forecasting.torch_forecasting_model | Attempting to retrain the model without resuming from a checkpoint. This is currently discouraged. Consider setting `save_checkpoints` to `True` and specifying `model_name` at model creation. Then call `model = TFTModel.load_from_checkpoint(model_name, best=False)`. Finally, train the model with `model.fit(..., epochs=new_epochs)` where `new_epochs` is the sum of (epochs already trained + some additional epochs).\n",
      "2022-10-02 11:17:49 darts.models.forecasting.torch_forecasting_model WARNING: Attempting to retrain the model without resuming from a checkpoint. This is currently discouraged. Consider setting `save_checkpoints` to `True` and specifying `model_name` at model creation. Then call `model = TFTModel.load_from_checkpoint(model_name, best=False)`. Finally, train the model with `model.fit(..., epochs=new_epochs)` where `new_epochs` is the sum of (epochs already trained + some additional epochs).\n"
     ]
    },
    {
     "name": "stdout",
     "output_type": "stream",
     "text": [
      "155\n"
     ]
    },
    {
     "data": {
      "application/vnd.jupyter.widget-view+json": {
       "model_id": "7d3c1829d3d0490284a9d7aa4004c565",
       "version_major": 2,
       "version_minor": 0
      },
      "text/plain": [
       "Training: 0it [00:00, ?it/s]"
      ]
     },
     "metadata": {},
     "output_type": "display_data"
    },
    {
     "data": {
      "application/vnd.jupyter.widget-view+json": {
       "model_id": "0ceaaa80eac941798a040a4b6f14192e",
       "version_major": 2,
       "version_minor": 0
      },
      "text/plain": [
       "Predicting: 47it [00:00, ?it/s]"
      ]
     },
     "metadata": {},
     "output_type": "display_data"
    },
    {
     "name": "stderr",
     "output_type": "stream",
     "text": [
      "[2022-10-02 11:17:50,840] INFO | darts.models.forecasting.torch_forecasting_model | Train dataset contains 187 samples.\n",
      "[2022-10-02 11:17:50,840] INFO | darts.models.forecasting.torch_forecasting_model | Train dataset contains 187 samples.\n",
      "2022-10-02 11:17:50 darts.models.forecasting.torch_forecasting_model INFO: Train dataset contains 187 samples.\n",
      "2022-10-02 11:17:50 pytorch_lightning.utilities.distributed INFO: GPU available: False, used: False\n",
      "2022-10-02 11:17:50 pytorch_lightning.utilities.distributed INFO: TPU available: False, using: 0 TPU cores\n",
      "2022-10-02 11:17:50 pytorch_lightning.utilities.distributed INFO: IPU available: False, using: 0 IPUs\n",
      "[2022-10-02 11:17:50,850] WARNING | darts.models.forecasting.torch_forecasting_model | Attempting to retrain the model without resuming from a checkpoint. This is currently discouraged. Consider setting `save_checkpoints` to `True` and specifying `model_name` at model creation. Then call `model = TFTModel.load_from_checkpoint(model_name, best=False)`. Finally, train the model with `model.fit(..., epochs=new_epochs)` where `new_epochs` is the sum of (epochs already trained + some additional epochs).\n",
      "[2022-10-02 11:17:50,850] WARNING | darts.models.forecasting.torch_forecasting_model | Attempting to retrain the model without resuming from a checkpoint. This is currently discouraged. Consider setting `save_checkpoints` to `True` and specifying `model_name` at model creation. Then call `model = TFTModel.load_from_checkpoint(model_name, best=False)`. Finally, train the model with `model.fit(..., epochs=new_epochs)` where `new_epochs` is the sum of (epochs already trained + some additional epochs).\n",
      "2022-10-02 11:17:50 darts.models.forecasting.torch_forecasting_model WARNING: Attempting to retrain the model without resuming from a checkpoint. This is currently discouraged. Consider setting `save_checkpoints` to `True` and specifying `model_name` at model creation. Then call `model = TFTModel.load_from_checkpoint(model_name, best=False)`. Finally, train the model with `model.fit(..., epochs=new_epochs)` where `new_epochs` is the sum of (epochs already trained + some additional epochs).\n"
     ]
    },
    {
     "name": "stdout",
     "output_type": "stream",
     "text": [
      "156\n"
     ]
    },
    {
     "data": {
      "application/vnd.jupyter.widget-view+json": {
       "model_id": "6eb080b2dab94cf7b6ba8aa7eef007e3",
       "version_major": 2,
       "version_minor": 0
      },
      "text/plain": [
       "Training: 0it [00:00, ?it/s]"
      ]
     },
     "metadata": {},
     "output_type": "display_data"
    },
    {
     "data": {
      "application/vnd.jupyter.widget-view+json": {
       "model_id": "945121e57a844462a7d1b9d89419cbc9",
       "version_major": 2,
       "version_minor": 0
      },
      "text/plain": [
       "Predicting: 47it [00:00, ?it/s]"
      ]
     },
     "metadata": {},
     "output_type": "display_data"
    },
    {
     "name": "stderr",
     "output_type": "stream",
     "text": [
      "[2022-10-02 11:17:52,531] INFO | darts.models.forecasting.torch_forecasting_model | Train dataset contains 188 samples.\n",
      "[2022-10-02 11:17:52,531] INFO | darts.models.forecasting.torch_forecasting_model | Train dataset contains 188 samples.\n",
      "2022-10-02 11:17:52 darts.models.forecasting.torch_forecasting_model INFO: Train dataset contains 188 samples.\n",
      "2022-10-02 11:17:52 pytorch_lightning.utilities.distributed INFO: GPU available: False, used: False\n",
      "2022-10-02 11:17:52 pytorch_lightning.utilities.distributed INFO: TPU available: False, using: 0 TPU cores\n",
      "2022-10-02 11:17:52 pytorch_lightning.utilities.distributed INFO: IPU available: False, using: 0 IPUs\n",
      "[2022-10-02 11:17:52,539] WARNING | darts.models.forecasting.torch_forecasting_model | Attempting to retrain the model without resuming from a checkpoint. This is currently discouraged. Consider setting `save_checkpoints` to `True` and specifying `model_name` at model creation. Then call `model = TFTModel.load_from_checkpoint(model_name, best=False)`. Finally, train the model with `model.fit(..., epochs=new_epochs)` where `new_epochs` is the sum of (epochs already trained + some additional epochs).\n",
      "[2022-10-02 11:17:52,539] WARNING | darts.models.forecasting.torch_forecasting_model | Attempting to retrain the model without resuming from a checkpoint. This is currently discouraged. Consider setting `save_checkpoints` to `True` and specifying `model_name` at model creation. Then call `model = TFTModel.load_from_checkpoint(model_name, best=False)`. Finally, train the model with `model.fit(..., epochs=new_epochs)` where `new_epochs` is the sum of (epochs already trained + some additional epochs).\n",
      "2022-10-02 11:17:52 darts.models.forecasting.torch_forecasting_model WARNING: Attempting to retrain the model without resuming from a checkpoint. This is currently discouraged. Consider setting `save_checkpoints` to `True` and specifying `model_name` at model creation. Then call `model = TFTModel.load_from_checkpoint(model_name, best=False)`. Finally, train the model with `model.fit(..., epochs=new_epochs)` where `new_epochs` is the sum of (epochs already trained + some additional epochs).\n"
     ]
    },
    {
     "name": "stdout",
     "output_type": "stream",
     "text": [
      "157\n"
     ]
    },
    {
     "data": {
      "application/vnd.jupyter.widget-view+json": {
       "model_id": "2c1b00c270a5403b85acfc2393401d8e",
       "version_major": 2,
       "version_minor": 0
      },
      "text/plain": [
       "Training: 0it [00:00, ?it/s]"
      ]
     },
     "metadata": {},
     "output_type": "display_data"
    },
    {
     "data": {
      "application/vnd.jupyter.widget-view+json": {
       "model_id": "044d0c9e1fa5456187f0f15e9127a578",
       "version_major": 2,
       "version_minor": 0
      },
      "text/plain": [
       "Predicting: 47it [00:00, ?it/s]"
      ]
     },
     "metadata": {},
     "output_type": "display_data"
    },
    {
     "name": "stderr",
     "output_type": "stream",
     "text": [
      "[2022-10-02 11:17:54,361] INFO | darts.models.forecasting.torch_forecasting_model | Train dataset contains 189 samples.\n",
      "[2022-10-02 11:17:54,361] INFO | darts.models.forecasting.torch_forecasting_model | Train dataset contains 189 samples.\n",
      "2022-10-02 11:17:54 darts.models.forecasting.torch_forecasting_model INFO: Train dataset contains 189 samples.\n",
      "2022-10-02 11:17:54 pytorch_lightning.utilities.distributed INFO: GPU available: False, used: False\n",
      "2022-10-02 11:17:54 pytorch_lightning.utilities.distributed INFO: TPU available: False, using: 0 TPU cores\n",
      "2022-10-02 11:17:54 pytorch_lightning.utilities.distributed INFO: IPU available: False, using: 0 IPUs\n",
      "[2022-10-02 11:17:54,370] WARNING | darts.models.forecasting.torch_forecasting_model | Attempting to retrain the model without resuming from a checkpoint. This is currently discouraged. Consider setting `save_checkpoints` to `True` and specifying `model_name` at model creation. Then call `model = TFTModel.load_from_checkpoint(model_name, best=False)`. Finally, train the model with `model.fit(..., epochs=new_epochs)` where `new_epochs` is the sum of (epochs already trained + some additional epochs).\n",
      "[2022-10-02 11:17:54,370] WARNING | darts.models.forecasting.torch_forecasting_model | Attempting to retrain the model without resuming from a checkpoint. This is currently discouraged. Consider setting `save_checkpoints` to `True` and specifying `model_name` at model creation. Then call `model = TFTModel.load_from_checkpoint(model_name, best=False)`. Finally, train the model with `model.fit(..., epochs=new_epochs)` where `new_epochs` is the sum of (epochs already trained + some additional epochs).\n",
      "2022-10-02 11:17:54 darts.models.forecasting.torch_forecasting_model WARNING: Attempting to retrain the model without resuming from a checkpoint. This is currently discouraged. Consider setting `save_checkpoints` to `True` and specifying `model_name` at model creation. Then call `model = TFTModel.load_from_checkpoint(model_name, best=False)`. Finally, train the model with `model.fit(..., epochs=new_epochs)` where `new_epochs` is the sum of (epochs already trained + some additional epochs).\n"
     ]
    },
    {
     "name": "stdout",
     "output_type": "stream",
     "text": [
      "158\n"
     ]
    },
    {
     "data": {
      "application/vnd.jupyter.widget-view+json": {
       "model_id": "0b0f0c2e414846feb45eccc7e921d2bc",
       "version_major": 2,
       "version_minor": 0
      },
      "text/plain": [
       "Training: 0it [00:00, ?it/s]"
      ]
     },
     "metadata": {},
     "output_type": "display_data"
    },
    {
     "data": {
      "application/vnd.jupyter.widget-view+json": {
       "model_id": "02824cf8a1f64c79889454b6fa50d889",
       "version_major": 2,
       "version_minor": 0
      },
      "text/plain": [
       "Predicting: 48it [00:00, ?it/s]"
      ]
     },
     "metadata": {},
     "output_type": "display_data"
    },
    {
     "name": "stderr",
     "output_type": "stream",
     "text": [
      "[2022-10-02 11:17:56,177] INFO | darts.models.forecasting.torch_forecasting_model | Train dataset contains 190 samples.\n",
      "[2022-10-02 11:17:56,177] INFO | darts.models.forecasting.torch_forecasting_model | Train dataset contains 190 samples.\n",
      "2022-10-02 11:17:56 darts.models.forecasting.torch_forecasting_model INFO: Train dataset contains 190 samples.\n",
      "2022-10-02 11:17:56 pytorch_lightning.utilities.distributed INFO: GPU available: False, used: False\n",
      "2022-10-02 11:17:56 pytorch_lightning.utilities.distributed INFO: TPU available: False, using: 0 TPU cores\n",
      "2022-10-02 11:17:56 pytorch_lightning.utilities.distributed INFO: IPU available: False, using: 0 IPUs\n",
      "[2022-10-02 11:17:56,186] WARNING | darts.models.forecasting.torch_forecasting_model | Attempting to retrain the model without resuming from a checkpoint. This is currently discouraged. Consider setting `save_checkpoints` to `True` and specifying `model_name` at model creation. Then call `model = TFTModel.load_from_checkpoint(model_name, best=False)`. Finally, train the model with `model.fit(..., epochs=new_epochs)` where `new_epochs` is the sum of (epochs already trained + some additional epochs).\n",
      "[2022-10-02 11:17:56,186] WARNING | darts.models.forecasting.torch_forecasting_model | Attempting to retrain the model without resuming from a checkpoint. This is currently discouraged. Consider setting `save_checkpoints` to `True` and specifying `model_name` at model creation. Then call `model = TFTModel.load_from_checkpoint(model_name, best=False)`. Finally, train the model with `model.fit(..., epochs=new_epochs)` where `new_epochs` is the sum of (epochs already trained + some additional epochs).\n",
      "2022-10-02 11:17:56 darts.models.forecasting.torch_forecasting_model WARNING: Attempting to retrain the model without resuming from a checkpoint. This is currently discouraged. Consider setting `save_checkpoints` to `True` and specifying `model_name` at model creation. Then call `model = TFTModel.load_from_checkpoint(model_name, best=False)`. Finally, train the model with `model.fit(..., epochs=new_epochs)` where `new_epochs` is the sum of (epochs already trained + some additional epochs).\n"
     ]
    },
    {
     "name": "stdout",
     "output_type": "stream",
     "text": [
      "159\n"
     ]
    },
    {
     "data": {
      "application/vnd.jupyter.widget-view+json": {
       "model_id": "09212d5d65004b249f3fa4e37cbed221",
       "version_major": 2,
       "version_minor": 0
      },
      "text/plain": [
       "Training: 0it [00:00, ?it/s]"
      ]
     },
     "metadata": {},
     "output_type": "display_data"
    },
    {
     "data": {
      "application/vnd.jupyter.widget-view+json": {
       "model_id": "6f16769182b3497fbd40bc32dc2fa728",
       "version_major": 2,
       "version_minor": 0
      },
      "text/plain": [
       "Predicting: 48it [00:00, ?it/s]"
      ]
     },
     "metadata": {},
     "output_type": "display_data"
    },
    {
     "name": "stderr",
     "output_type": "stream",
     "text": [
      "[2022-10-02 11:17:57,876] INFO | darts.models.forecasting.torch_forecasting_model | Train dataset contains 190 samples.\n",
      "[2022-10-02 11:17:57,876] INFO | darts.models.forecasting.torch_forecasting_model | Train dataset contains 190 samples.\n",
      "2022-10-02 11:17:57 darts.models.forecasting.torch_forecasting_model INFO: Train dataset contains 190 samples.\n",
      "2022-10-02 11:17:57 pytorch_lightning.utilities.distributed INFO: GPU available: False, used: False\n",
      "2022-10-02 11:17:57 pytorch_lightning.utilities.distributed INFO: TPU available: False, using: 0 TPU cores\n",
      "2022-10-02 11:17:57 pytorch_lightning.utilities.distributed INFO: IPU available: False, using: 0 IPUs\n",
      "[2022-10-02 11:17:57,883] WARNING | darts.models.forecasting.torch_forecasting_model | Attempting to retrain the model without resuming from a checkpoint. This is currently discouraged. Consider setting `save_checkpoints` to `True` and specifying `model_name` at model creation. Then call `model = TFTModel.load_from_checkpoint(model_name, best=False)`. Finally, train the model with `model.fit(..., epochs=new_epochs)` where `new_epochs` is the sum of (epochs already trained + some additional epochs).\n",
      "[2022-10-02 11:17:57,883] WARNING | darts.models.forecasting.torch_forecasting_model | Attempting to retrain the model without resuming from a checkpoint. This is currently discouraged. Consider setting `save_checkpoints` to `True` and specifying `model_name` at model creation. Then call `model = TFTModel.load_from_checkpoint(model_name, best=False)`. Finally, train the model with `model.fit(..., epochs=new_epochs)` where `new_epochs` is the sum of (epochs already trained + some additional epochs).\n",
      "2022-10-02 11:17:57 darts.models.forecasting.torch_forecasting_model WARNING: Attempting to retrain the model without resuming from a checkpoint. This is currently discouraged. Consider setting `save_checkpoints` to `True` and specifying `model_name` at model creation. Then call `model = TFTModel.load_from_checkpoint(model_name, best=False)`. Finally, train the model with `model.fit(..., epochs=new_epochs)` where `new_epochs` is the sum of (epochs already trained + some additional epochs).\n"
     ]
    },
    {
     "name": "stdout",
     "output_type": "stream",
     "text": [
      "160\n"
     ]
    },
    {
     "data": {
      "application/vnd.jupyter.widget-view+json": {
       "model_id": "b22e978256114c79a229549591bed934",
       "version_major": 2,
       "version_minor": 0
      },
      "text/plain": [
       "Training: 0it [00:00, ?it/s]"
      ]
     },
     "metadata": {},
     "output_type": "display_data"
    },
    {
     "data": {
      "application/vnd.jupyter.widget-view+json": {
       "model_id": "9c18ed9c789648959912c3206deb5c2b",
       "version_major": 2,
       "version_minor": 0
      },
      "text/plain": [
       "Predicting: 48it [00:00, ?it/s]"
      ]
     },
     "metadata": {},
     "output_type": "display_data"
    },
    {
     "name": "stderr",
     "output_type": "stream",
     "text": [
      "[2022-10-02 11:17:59,631] INFO | darts.models.forecasting.torch_forecasting_model | Train dataset contains 190 samples.\n",
      "[2022-10-02 11:17:59,631] INFO | darts.models.forecasting.torch_forecasting_model | Train dataset contains 190 samples.\n",
      "2022-10-02 11:17:59 darts.models.forecasting.torch_forecasting_model INFO: Train dataset contains 190 samples.\n",
      "2022-10-02 11:17:59 pytorch_lightning.utilities.distributed INFO: GPU available: False, used: False\n",
      "2022-10-02 11:17:59 pytorch_lightning.utilities.distributed INFO: TPU available: False, using: 0 TPU cores\n",
      "2022-10-02 11:17:59 pytorch_lightning.utilities.distributed INFO: IPU available: False, using: 0 IPUs\n",
      "[2022-10-02 11:17:59,640] WARNING | darts.models.forecasting.torch_forecasting_model | Attempting to retrain the model without resuming from a checkpoint. This is currently discouraged. Consider setting `save_checkpoints` to `True` and specifying `model_name` at model creation. Then call `model = TFTModel.load_from_checkpoint(model_name, best=False)`. Finally, train the model with `model.fit(..., epochs=new_epochs)` where `new_epochs` is the sum of (epochs already trained + some additional epochs).\n",
      "[2022-10-02 11:17:59,640] WARNING | darts.models.forecasting.torch_forecasting_model | Attempting to retrain the model without resuming from a checkpoint. This is currently discouraged. Consider setting `save_checkpoints` to `True` and specifying `model_name` at model creation. Then call `model = TFTModel.load_from_checkpoint(model_name, best=False)`. Finally, train the model with `model.fit(..., epochs=new_epochs)` where `new_epochs` is the sum of (epochs already trained + some additional epochs).\n",
      "2022-10-02 11:17:59 darts.models.forecasting.torch_forecasting_model WARNING: Attempting to retrain the model without resuming from a checkpoint. This is currently discouraged. Consider setting `save_checkpoints` to `True` and specifying `model_name` at model creation. Then call `model = TFTModel.load_from_checkpoint(model_name, best=False)`. Finally, train the model with `model.fit(..., epochs=new_epochs)` where `new_epochs` is the sum of (epochs already trained + some additional epochs).\n"
     ]
    },
    {
     "name": "stdout",
     "output_type": "stream",
     "text": [
      "161\n"
     ]
    },
    {
     "data": {
      "application/vnd.jupyter.widget-view+json": {
       "model_id": "40832450a7d1431587430bb5fe4f1e7c",
       "version_major": 2,
       "version_minor": 0
      },
      "text/plain": [
       "Training: 0it [00:00, ?it/s]"
      ]
     },
     "metadata": {},
     "output_type": "display_data"
    },
    {
     "data": {
      "application/vnd.jupyter.widget-view+json": {
       "model_id": "05da9a7cc9f942c0b317695f5c981573",
       "version_major": 2,
       "version_minor": 0
      },
      "text/plain": [
       "Predicting: 48it [00:00, ?it/s]"
      ]
     },
     "metadata": {},
     "output_type": "display_data"
    },
    {
     "name": "stderr",
     "output_type": "stream",
     "text": [
      "[2022-10-02 11:18:01,558] INFO | darts.models.forecasting.torch_forecasting_model | Train dataset contains 190 samples.\n",
      "[2022-10-02 11:18:01,558] INFO | darts.models.forecasting.torch_forecasting_model | Train dataset contains 190 samples.\n",
      "2022-10-02 11:18:01 darts.models.forecasting.torch_forecasting_model INFO: Train dataset contains 190 samples.\n",
      "2022-10-02 11:18:01 pytorch_lightning.utilities.distributed INFO: GPU available: False, used: False\n",
      "2022-10-02 11:18:01 pytorch_lightning.utilities.distributed INFO: TPU available: False, using: 0 TPU cores\n",
      "2022-10-02 11:18:01 pytorch_lightning.utilities.distributed INFO: IPU available: False, using: 0 IPUs\n",
      "[2022-10-02 11:18:01,566] WARNING | darts.models.forecasting.torch_forecasting_model | Attempting to retrain the model without resuming from a checkpoint. This is currently discouraged. Consider setting `save_checkpoints` to `True` and specifying `model_name` at model creation. Then call `model = TFTModel.load_from_checkpoint(model_name, best=False)`. Finally, train the model with `model.fit(..., epochs=new_epochs)` where `new_epochs` is the sum of (epochs already trained + some additional epochs).\n",
      "[2022-10-02 11:18:01,566] WARNING | darts.models.forecasting.torch_forecasting_model | Attempting to retrain the model without resuming from a checkpoint. This is currently discouraged. Consider setting `save_checkpoints` to `True` and specifying `model_name` at model creation. Then call `model = TFTModel.load_from_checkpoint(model_name, best=False)`. Finally, train the model with `model.fit(..., epochs=new_epochs)` where `new_epochs` is the sum of (epochs already trained + some additional epochs).\n",
      "2022-10-02 11:18:01 darts.models.forecasting.torch_forecasting_model WARNING: Attempting to retrain the model without resuming from a checkpoint. This is currently discouraged. Consider setting `save_checkpoints` to `True` and specifying `model_name` at model creation. Then call `model = TFTModel.load_from_checkpoint(model_name, best=False)`. Finally, train the model with `model.fit(..., epochs=new_epochs)` where `new_epochs` is the sum of (epochs already trained + some additional epochs).\n"
     ]
    },
    {
     "name": "stdout",
     "output_type": "stream",
     "text": [
      "162\n"
     ]
    },
    {
     "data": {
      "application/vnd.jupyter.widget-view+json": {
       "model_id": "5f585260b70645b2ae3e21cf347af0d6",
       "version_major": 2,
       "version_minor": 0
      },
      "text/plain": [
       "Training: 0it [00:00, ?it/s]"
      ]
     },
     "metadata": {},
     "output_type": "display_data"
    },
    {
     "data": {
      "application/vnd.jupyter.widget-view+json": {
       "model_id": "d228259162114a35824a5ddc334be312",
       "version_major": 2,
       "version_minor": 0
      },
      "text/plain": [
       "Predicting: 48it [00:00, ?it/s]"
      ]
     },
     "metadata": {},
     "output_type": "display_data"
    },
    {
     "name": "stderr",
     "output_type": "stream",
     "text": [
      "[2022-10-02 11:18:03,303] INFO | darts.models.forecasting.torch_forecasting_model | Train dataset contains 190 samples.\n",
      "[2022-10-02 11:18:03,303] INFO | darts.models.forecasting.torch_forecasting_model | Train dataset contains 190 samples.\n",
      "2022-10-02 11:18:03 darts.models.forecasting.torch_forecasting_model INFO: Train dataset contains 190 samples.\n",
      "2022-10-02 11:18:03 pytorch_lightning.utilities.distributed INFO: GPU available: False, used: False\n",
      "2022-10-02 11:18:03 pytorch_lightning.utilities.distributed INFO: TPU available: False, using: 0 TPU cores\n",
      "2022-10-02 11:18:03 pytorch_lightning.utilities.distributed INFO: IPU available: False, using: 0 IPUs\n",
      "[2022-10-02 11:18:03,313] WARNING | darts.models.forecasting.torch_forecasting_model | Attempting to retrain the model without resuming from a checkpoint. This is currently discouraged. Consider setting `save_checkpoints` to `True` and specifying `model_name` at model creation. Then call `model = TFTModel.load_from_checkpoint(model_name, best=False)`. Finally, train the model with `model.fit(..., epochs=new_epochs)` where `new_epochs` is the sum of (epochs already trained + some additional epochs).\n",
      "[2022-10-02 11:18:03,313] WARNING | darts.models.forecasting.torch_forecasting_model | Attempting to retrain the model without resuming from a checkpoint. This is currently discouraged. Consider setting `save_checkpoints` to `True` and specifying `model_name` at model creation. Then call `model = TFTModel.load_from_checkpoint(model_name, best=False)`. Finally, train the model with `model.fit(..., epochs=new_epochs)` where `new_epochs` is the sum of (epochs already trained + some additional epochs).\n",
      "2022-10-02 11:18:03 darts.models.forecasting.torch_forecasting_model WARNING: Attempting to retrain the model without resuming from a checkpoint. This is currently discouraged. Consider setting `save_checkpoints` to `True` and specifying `model_name` at model creation. Then call `model = TFTModel.load_from_checkpoint(model_name, best=False)`. Finally, train the model with `model.fit(..., epochs=new_epochs)` where `new_epochs` is the sum of (epochs already trained + some additional epochs).\n"
     ]
    },
    {
     "name": "stdout",
     "output_type": "stream",
     "text": [
      "163\n"
     ]
    },
    {
     "data": {
      "application/vnd.jupyter.widget-view+json": {
       "model_id": "95560ee00a92427bb76d1847c235adfc",
       "version_major": 2,
       "version_minor": 0
      },
      "text/plain": [
       "Training: 0it [00:00, ?it/s]"
      ]
     },
     "metadata": {},
     "output_type": "display_data"
    },
    {
     "data": {
      "application/vnd.jupyter.widget-view+json": {
       "model_id": "9595d5b0344b4b578f911f50f25eadcc",
       "version_major": 2,
       "version_minor": 0
      },
      "text/plain": [
       "Predicting: 48it [00:00, ?it/s]"
      ]
     },
     "metadata": {},
     "output_type": "display_data"
    },
    {
     "name": "stderr",
     "output_type": "stream",
     "text": [
      "[2022-10-02 11:18:05,121] INFO | darts.models.forecasting.torch_forecasting_model | Train dataset contains 190 samples.\n",
      "[2022-10-02 11:18:05,121] INFO | darts.models.forecasting.torch_forecasting_model | Train dataset contains 190 samples.\n",
      "2022-10-02 11:18:05 darts.models.forecasting.torch_forecasting_model INFO: Train dataset contains 190 samples.\n",
      "2022-10-02 11:18:05 pytorch_lightning.utilities.distributed INFO: GPU available: False, used: False\n",
      "2022-10-02 11:18:05 pytorch_lightning.utilities.distributed INFO: TPU available: False, using: 0 TPU cores\n",
      "2022-10-02 11:18:05 pytorch_lightning.utilities.distributed INFO: IPU available: False, using: 0 IPUs\n",
      "[2022-10-02 11:18:05,130] WARNING | darts.models.forecasting.torch_forecasting_model | Attempting to retrain the model without resuming from a checkpoint. This is currently discouraged. Consider setting `save_checkpoints` to `True` and specifying `model_name` at model creation. Then call `model = TFTModel.load_from_checkpoint(model_name, best=False)`. Finally, train the model with `model.fit(..., epochs=new_epochs)` where `new_epochs` is the sum of (epochs already trained + some additional epochs).\n",
      "[2022-10-02 11:18:05,130] WARNING | darts.models.forecasting.torch_forecasting_model | Attempting to retrain the model without resuming from a checkpoint. This is currently discouraged. Consider setting `save_checkpoints` to `True` and specifying `model_name` at model creation. Then call `model = TFTModel.load_from_checkpoint(model_name, best=False)`. Finally, train the model with `model.fit(..., epochs=new_epochs)` where `new_epochs` is the sum of (epochs already trained + some additional epochs).\n",
      "2022-10-02 11:18:05 darts.models.forecasting.torch_forecasting_model WARNING: Attempting to retrain the model without resuming from a checkpoint. This is currently discouraged. Consider setting `save_checkpoints` to `True` and specifying `model_name` at model creation. Then call `model = TFTModel.load_from_checkpoint(model_name, best=False)`. Finally, train the model with `model.fit(..., epochs=new_epochs)` where `new_epochs` is the sum of (epochs already trained + some additional epochs).\n"
     ]
    },
    {
     "name": "stdout",
     "output_type": "stream",
     "text": [
      "164\n"
     ]
    },
    {
     "data": {
      "application/vnd.jupyter.widget-view+json": {
       "model_id": "b8a486dd13eb4eac9e38f49252f75004",
       "version_major": 2,
       "version_minor": 0
      },
      "text/plain": [
       "Training: 0it [00:00, ?it/s]"
      ]
     },
     "metadata": {},
     "output_type": "display_data"
    },
    {
     "data": {
      "application/vnd.jupyter.widget-view+json": {
       "model_id": "48a99854c073477fb7838a5a6dede4b5",
       "version_major": 2,
       "version_minor": 0
      },
      "text/plain": [
       "Predicting: 48it [00:00, ?it/s]"
      ]
     },
     "metadata": {},
     "output_type": "display_data"
    },
    {
     "name": "stderr",
     "output_type": "stream",
     "text": [
      "[2022-10-02 11:18:06,824] INFO | darts.models.forecasting.torch_forecasting_model | Train dataset contains 190 samples.\n",
      "[2022-10-02 11:18:06,824] INFO | darts.models.forecasting.torch_forecasting_model | Train dataset contains 190 samples.\n",
      "2022-10-02 11:18:06 darts.models.forecasting.torch_forecasting_model INFO: Train dataset contains 190 samples.\n",
      "2022-10-02 11:18:06 pytorch_lightning.utilities.distributed INFO: GPU available: False, used: False\n",
      "2022-10-02 11:18:06 pytorch_lightning.utilities.distributed INFO: TPU available: False, using: 0 TPU cores\n",
      "2022-10-02 11:18:06 pytorch_lightning.utilities.distributed INFO: IPU available: False, using: 0 IPUs\n",
      "[2022-10-02 11:18:06,837] WARNING | darts.models.forecasting.torch_forecasting_model | Attempting to retrain the model without resuming from a checkpoint. This is currently discouraged. Consider setting `save_checkpoints` to `True` and specifying `model_name` at model creation. Then call `model = TFTModel.load_from_checkpoint(model_name, best=False)`. Finally, train the model with `model.fit(..., epochs=new_epochs)` where `new_epochs` is the sum of (epochs already trained + some additional epochs).\n",
      "[2022-10-02 11:18:06,837] WARNING | darts.models.forecasting.torch_forecasting_model | Attempting to retrain the model without resuming from a checkpoint. This is currently discouraged. Consider setting `save_checkpoints` to `True` and specifying `model_name` at model creation. Then call `model = TFTModel.load_from_checkpoint(model_name, best=False)`. Finally, train the model with `model.fit(..., epochs=new_epochs)` where `new_epochs` is the sum of (epochs already trained + some additional epochs).\n",
      "2022-10-02 11:18:06 darts.models.forecasting.torch_forecasting_model WARNING: Attempting to retrain the model without resuming from a checkpoint. This is currently discouraged. Consider setting `save_checkpoints` to `True` and specifying `model_name` at model creation. Then call `model = TFTModel.load_from_checkpoint(model_name, best=False)`. Finally, train the model with `model.fit(..., epochs=new_epochs)` where `new_epochs` is the sum of (epochs already trained + some additional epochs).\n"
     ]
    },
    {
     "name": "stdout",
     "output_type": "stream",
     "text": [
      "165\n"
     ]
    },
    {
     "data": {
      "application/vnd.jupyter.widget-view+json": {
       "model_id": "22f86b86ac534c43ad91d741ed8cd12c",
       "version_major": 2,
       "version_minor": 0
      },
      "text/plain": [
       "Training: 0it [00:00, ?it/s]"
      ]
     },
     "metadata": {},
     "output_type": "display_data"
    },
    {
     "data": {
      "application/vnd.jupyter.widget-view+json": {
       "model_id": "bed5c9a600da48378604e150db180465",
       "version_major": 2,
       "version_minor": 0
      },
      "text/plain": [
       "Predicting: 48it [00:00, ?it/s]"
      ]
     },
     "metadata": {},
     "output_type": "display_data"
    },
    {
     "name": "stderr",
     "output_type": "stream",
     "text": [
      "[2022-10-02 11:18:08,523] INFO | darts.models.forecasting.torch_forecasting_model | Train dataset contains 190 samples.\n",
      "[2022-10-02 11:18:08,523] INFO | darts.models.forecasting.torch_forecasting_model | Train dataset contains 190 samples.\n",
      "2022-10-02 11:18:08 darts.models.forecasting.torch_forecasting_model INFO: Train dataset contains 190 samples.\n",
      "2022-10-02 11:18:08 pytorch_lightning.utilities.distributed INFO: GPU available: False, used: False\n",
      "2022-10-02 11:18:08 pytorch_lightning.utilities.distributed INFO: TPU available: False, using: 0 TPU cores\n",
      "2022-10-02 11:18:08 pytorch_lightning.utilities.distributed INFO: IPU available: False, using: 0 IPUs\n",
      "[2022-10-02 11:18:08,531] WARNING | darts.models.forecasting.torch_forecasting_model | Attempting to retrain the model without resuming from a checkpoint. This is currently discouraged. Consider setting `save_checkpoints` to `True` and specifying `model_name` at model creation. Then call `model = TFTModel.load_from_checkpoint(model_name, best=False)`. Finally, train the model with `model.fit(..., epochs=new_epochs)` where `new_epochs` is the sum of (epochs already trained + some additional epochs).\n",
      "[2022-10-02 11:18:08,531] WARNING | darts.models.forecasting.torch_forecasting_model | Attempting to retrain the model without resuming from a checkpoint. This is currently discouraged. Consider setting `save_checkpoints` to `True` and specifying `model_name` at model creation. Then call `model = TFTModel.load_from_checkpoint(model_name, best=False)`. Finally, train the model with `model.fit(..., epochs=new_epochs)` where `new_epochs` is the sum of (epochs already trained + some additional epochs).\n",
      "2022-10-02 11:18:08 darts.models.forecasting.torch_forecasting_model WARNING: Attempting to retrain the model without resuming from a checkpoint. This is currently discouraged. Consider setting `save_checkpoints` to `True` and specifying `model_name` at model creation. Then call `model = TFTModel.load_from_checkpoint(model_name, best=False)`. Finally, train the model with `model.fit(..., epochs=new_epochs)` where `new_epochs` is the sum of (epochs already trained + some additional epochs).\n"
     ]
    },
    {
     "name": "stdout",
     "output_type": "stream",
     "text": [
      "166\n"
     ]
    },
    {
     "data": {
      "application/vnd.jupyter.widget-view+json": {
       "model_id": "7e8bd55def694e12a3d5efe96e826a69",
       "version_major": 2,
       "version_minor": 0
      },
      "text/plain": [
       "Training: 0it [00:00, ?it/s]"
      ]
     },
     "metadata": {},
     "output_type": "display_data"
    },
    {
     "data": {
      "application/vnd.jupyter.widget-view+json": {
       "model_id": "9266452c1fd84b56ab620e9dc541df62",
       "version_major": 2,
       "version_minor": 0
      },
      "text/plain": [
       "Predicting: 48it [00:00, ?it/s]"
      ]
     },
     "metadata": {},
     "output_type": "display_data"
    },
    {
     "name": "stderr",
     "output_type": "stream",
     "text": [
      "[2022-10-02 11:18:10,298] INFO | darts.models.forecasting.torch_forecasting_model | Train dataset contains 190 samples.\n",
      "[2022-10-02 11:18:10,298] INFO | darts.models.forecasting.torch_forecasting_model | Train dataset contains 190 samples.\n",
      "2022-10-02 11:18:10 darts.models.forecasting.torch_forecasting_model INFO: Train dataset contains 190 samples.\n",
      "2022-10-02 11:18:10 pytorch_lightning.utilities.distributed INFO: GPU available: False, used: False\n",
      "2022-10-02 11:18:10 pytorch_lightning.utilities.distributed INFO: TPU available: False, using: 0 TPU cores\n",
      "2022-10-02 11:18:10 pytorch_lightning.utilities.distributed INFO: IPU available: False, using: 0 IPUs\n",
      "[2022-10-02 11:18:10,309] WARNING | darts.models.forecasting.torch_forecasting_model | Attempting to retrain the model without resuming from a checkpoint. This is currently discouraged. Consider setting `save_checkpoints` to `True` and specifying `model_name` at model creation. Then call `model = TFTModel.load_from_checkpoint(model_name, best=False)`. Finally, train the model with `model.fit(..., epochs=new_epochs)` where `new_epochs` is the sum of (epochs already trained + some additional epochs).\n",
      "[2022-10-02 11:18:10,309] WARNING | darts.models.forecasting.torch_forecasting_model | Attempting to retrain the model without resuming from a checkpoint. This is currently discouraged. Consider setting `save_checkpoints` to `True` and specifying `model_name` at model creation. Then call `model = TFTModel.load_from_checkpoint(model_name, best=False)`. Finally, train the model with `model.fit(..., epochs=new_epochs)` where `new_epochs` is the sum of (epochs already trained + some additional epochs).\n",
      "2022-10-02 11:18:10 darts.models.forecasting.torch_forecasting_model WARNING: Attempting to retrain the model without resuming from a checkpoint. This is currently discouraged. Consider setting `save_checkpoints` to `True` and specifying `model_name` at model creation. Then call `model = TFTModel.load_from_checkpoint(model_name, best=False)`. Finally, train the model with `model.fit(..., epochs=new_epochs)` where `new_epochs` is the sum of (epochs already trained + some additional epochs).\n"
     ]
    },
    {
     "name": "stdout",
     "output_type": "stream",
     "text": [
      "167\n"
     ]
    },
    {
     "data": {
      "application/vnd.jupyter.widget-view+json": {
       "model_id": "8d42b3b8c52a4e329a57b67fe52d65dc",
       "version_major": 2,
       "version_minor": 0
      },
      "text/plain": [
       "Training: 0it [00:00, ?it/s]"
      ]
     },
     "metadata": {},
     "output_type": "display_data"
    },
    {
     "data": {
      "application/vnd.jupyter.widget-view+json": {
       "model_id": "a51a2bb562794aeeb558148f4918c898",
       "version_major": 2,
       "version_minor": 0
      },
      "text/plain": [
       "Predicting: 48it [00:00, ?it/s]"
      ]
     },
     "metadata": {},
     "output_type": "display_data"
    },
    {
     "name": "stderr",
     "output_type": "stream",
     "text": [
      "[2022-10-02 11:18:12,060] INFO | darts.models.forecasting.torch_forecasting_model | Train dataset contains 190 samples.\n",
      "[2022-10-02 11:18:12,060] INFO | darts.models.forecasting.torch_forecasting_model | Train dataset contains 190 samples.\n",
      "2022-10-02 11:18:12 darts.models.forecasting.torch_forecasting_model INFO: Train dataset contains 190 samples.\n",
      "2022-10-02 11:18:12 pytorch_lightning.utilities.distributed INFO: GPU available: False, used: False\n",
      "2022-10-02 11:18:12 pytorch_lightning.utilities.distributed INFO: TPU available: False, using: 0 TPU cores\n",
      "2022-10-02 11:18:12 pytorch_lightning.utilities.distributed INFO: IPU available: False, using: 0 IPUs\n",
      "[2022-10-02 11:18:12,071] WARNING | darts.models.forecasting.torch_forecasting_model | Attempting to retrain the model without resuming from a checkpoint. This is currently discouraged. Consider setting `save_checkpoints` to `True` and specifying `model_name` at model creation. Then call `model = TFTModel.load_from_checkpoint(model_name, best=False)`. Finally, train the model with `model.fit(..., epochs=new_epochs)` where `new_epochs` is the sum of (epochs already trained + some additional epochs).\n",
      "[2022-10-02 11:18:12,071] WARNING | darts.models.forecasting.torch_forecasting_model | Attempting to retrain the model without resuming from a checkpoint. This is currently discouraged. Consider setting `save_checkpoints` to `True` and specifying `model_name` at model creation. Then call `model = TFTModel.load_from_checkpoint(model_name, best=False)`. Finally, train the model with `model.fit(..., epochs=new_epochs)` where `new_epochs` is the sum of (epochs already trained + some additional epochs).\n",
      "2022-10-02 11:18:12 darts.models.forecasting.torch_forecasting_model WARNING: Attempting to retrain the model without resuming from a checkpoint. This is currently discouraged. Consider setting `save_checkpoints` to `True` and specifying `model_name` at model creation. Then call `model = TFTModel.load_from_checkpoint(model_name, best=False)`. Finally, train the model with `model.fit(..., epochs=new_epochs)` where `new_epochs` is the sum of (epochs already trained + some additional epochs).\n"
     ]
    },
    {
     "name": "stdout",
     "output_type": "stream",
     "text": [
      "168\n"
     ]
    },
    {
     "data": {
      "application/vnd.jupyter.widget-view+json": {
       "model_id": "f7af9385e7644e579737570b0d0e7e49",
       "version_major": 2,
       "version_minor": 0
      },
      "text/plain": [
       "Training: 0it [00:00, ?it/s]"
      ]
     },
     "metadata": {},
     "output_type": "display_data"
    },
    {
     "data": {
      "application/vnd.jupyter.widget-view+json": {
       "model_id": "05907e3b05434508957a16378c87d5d8",
       "version_major": 2,
       "version_minor": 0
      },
      "text/plain": [
       "Predicting: 48it [00:00, ?it/s]"
      ]
     },
     "metadata": {},
     "output_type": "display_data"
    },
    {
     "name": "stderr",
     "output_type": "stream",
     "text": [
      "[2022-10-02 11:18:13,970] INFO | darts.models.forecasting.torch_forecasting_model | Train dataset contains 190 samples.\n",
      "[2022-10-02 11:18:13,970] INFO | darts.models.forecasting.torch_forecasting_model | Train dataset contains 190 samples.\n",
      "2022-10-02 11:18:13 darts.models.forecasting.torch_forecasting_model INFO: Train dataset contains 190 samples.\n",
      "2022-10-02 11:18:13 pytorch_lightning.utilities.distributed INFO: GPU available: False, used: False\n",
      "2022-10-02 11:18:13 pytorch_lightning.utilities.distributed INFO: TPU available: False, using: 0 TPU cores\n",
      "2022-10-02 11:18:13 pytorch_lightning.utilities.distributed INFO: IPU available: False, using: 0 IPUs\n",
      "[2022-10-02 11:18:13,978] WARNING | darts.models.forecasting.torch_forecasting_model | Attempting to retrain the model without resuming from a checkpoint. This is currently discouraged. Consider setting `save_checkpoints` to `True` and specifying `model_name` at model creation. Then call `model = TFTModel.load_from_checkpoint(model_name, best=False)`. Finally, train the model with `model.fit(..., epochs=new_epochs)` where `new_epochs` is the sum of (epochs already trained + some additional epochs).\n",
      "[2022-10-02 11:18:13,978] WARNING | darts.models.forecasting.torch_forecasting_model | Attempting to retrain the model without resuming from a checkpoint. This is currently discouraged. Consider setting `save_checkpoints` to `True` and specifying `model_name` at model creation. Then call `model = TFTModel.load_from_checkpoint(model_name, best=False)`. Finally, train the model with `model.fit(..., epochs=new_epochs)` where `new_epochs` is the sum of (epochs already trained + some additional epochs).\n",
      "2022-10-02 11:18:13 darts.models.forecasting.torch_forecasting_model WARNING: Attempting to retrain the model without resuming from a checkpoint. This is currently discouraged. Consider setting `save_checkpoints` to `True` and specifying `model_name` at model creation. Then call `model = TFTModel.load_from_checkpoint(model_name, best=False)`. Finally, train the model with `model.fit(..., epochs=new_epochs)` where `new_epochs` is the sum of (epochs already trained + some additional epochs).\n"
     ]
    },
    {
     "name": "stdout",
     "output_type": "stream",
     "text": [
      "169\n"
     ]
    },
    {
     "data": {
      "application/vnd.jupyter.widget-view+json": {
       "model_id": "a6ea8d961c0d4b438ff7705ead409b24",
       "version_major": 2,
       "version_minor": 0
      },
      "text/plain": [
       "Training: 0it [00:00, ?it/s]"
      ]
     },
     "metadata": {},
     "output_type": "display_data"
    },
    {
     "data": {
      "application/vnd.jupyter.widget-view+json": {
       "model_id": "8bb620bfdd24491bb101a75b95e368fb",
       "version_major": 2,
       "version_minor": 0
      },
      "text/plain": [
       "Predicting: 48it [00:00, ?it/s]"
      ]
     },
     "metadata": {},
     "output_type": "display_data"
    },
    {
     "name": "stderr",
     "output_type": "stream",
     "text": [
      "[2022-10-02 11:18:15,693] INFO | darts.models.forecasting.torch_forecasting_model | Train dataset contains 190 samples.\n",
      "[2022-10-02 11:18:15,693] INFO | darts.models.forecasting.torch_forecasting_model | Train dataset contains 190 samples.\n",
      "2022-10-02 11:18:15 darts.models.forecasting.torch_forecasting_model INFO: Train dataset contains 190 samples.\n",
      "2022-10-02 11:18:15 pytorch_lightning.utilities.distributed INFO: GPU available: False, used: False\n",
      "2022-10-02 11:18:15 pytorch_lightning.utilities.distributed INFO: TPU available: False, using: 0 TPU cores\n",
      "2022-10-02 11:18:15 pytorch_lightning.utilities.distributed INFO: IPU available: False, using: 0 IPUs\n",
      "[2022-10-02 11:18:15,705] WARNING | darts.models.forecasting.torch_forecasting_model | Attempting to retrain the model without resuming from a checkpoint. This is currently discouraged. Consider setting `save_checkpoints` to `True` and specifying `model_name` at model creation. Then call `model = TFTModel.load_from_checkpoint(model_name, best=False)`. Finally, train the model with `model.fit(..., epochs=new_epochs)` where `new_epochs` is the sum of (epochs already trained + some additional epochs).\n",
      "[2022-10-02 11:18:15,705] WARNING | darts.models.forecasting.torch_forecasting_model | Attempting to retrain the model without resuming from a checkpoint. This is currently discouraged. Consider setting `save_checkpoints` to `True` and specifying `model_name` at model creation. Then call `model = TFTModel.load_from_checkpoint(model_name, best=False)`. Finally, train the model with `model.fit(..., epochs=new_epochs)` where `new_epochs` is the sum of (epochs already trained + some additional epochs).\n",
      "2022-10-02 11:18:15 darts.models.forecasting.torch_forecasting_model WARNING: Attempting to retrain the model without resuming from a checkpoint. This is currently discouraged. Consider setting `save_checkpoints` to `True` and specifying `model_name` at model creation. Then call `model = TFTModel.load_from_checkpoint(model_name, best=False)`. Finally, train the model with `model.fit(..., epochs=new_epochs)` where `new_epochs` is the sum of (epochs already trained + some additional epochs).\n"
     ]
    },
    {
     "name": "stdout",
     "output_type": "stream",
     "text": [
      "170\n"
     ]
    },
    {
     "data": {
      "application/vnd.jupyter.widget-view+json": {
       "model_id": "541ec0870afa4b7e91ec13362f565a7a",
       "version_major": 2,
       "version_minor": 0
      },
      "text/plain": [
       "Training: 0it [00:00, ?it/s]"
      ]
     },
     "metadata": {},
     "output_type": "display_data"
    },
    {
     "data": {
      "application/vnd.jupyter.widget-view+json": {
       "model_id": "f58c180d5c4343cba7b349e53194d89f",
       "version_major": 2,
       "version_minor": 0
      },
      "text/plain": [
       "Predicting: 48it [00:00, ?it/s]"
      ]
     },
     "metadata": {},
     "output_type": "display_data"
    },
    {
     "name": "stderr",
     "output_type": "stream",
     "text": [
      "[2022-10-02 11:18:17,410] INFO | darts.models.forecasting.torch_forecasting_model | Train dataset contains 190 samples.\n",
      "[2022-10-02 11:18:17,410] INFO | darts.models.forecasting.torch_forecasting_model | Train dataset contains 190 samples.\n",
      "2022-10-02 11:18:17 darts.models.forecasting.torch_forecasting_model INFO: Train dataset contains 190 samples.\n",
      "2022-10-02 11:18:17 pytorch_lightning.utilities.distributed INFO: GPU available: False, used: False\n",
      "2022-10-02 11:18:17 pytorch_lightning.utilities.distributed INFO: TPU available: False, using: 0 TPU cores\n",
      "2022-10-02 11:18:17 pytorch_lightning.utilities.distributed INFO: IPU available: False, using: 0 IPUs\n",
      "[2022-10-02 11:18:17,418] WARNING | darts.models.forecasting.torch_forecasting_model | Attempting to retrain the model without resuming from a checkpoint. This is currently discouraged. Consider setting `save_checkpoints` to `True` and specifying `model_name` at model creation. Then call `model = TFTModel.load_from_checkpoint(model_name, best=False)`. Finally, train the model with `model.fit(..., epochs=new_epochs)` where `new_epochs` is the sum of (epochs already trained + some additional epochs).\n",
      "[2022-10-02 11:18:17,418] WARNING | darts.models.forecasting.torch_forecasting_model | Attempting to retrain the model without resuming from a checkpoint. This is currently discouraged. Consider setting `save_checkpoints` to `True` and specifying `model_name` at model creation. Then call `model = TFTModel.load_from_checkpoint(model_name, best=False)`. Finally, train the model with `model.fit(..., epochs=new_epochs)` where `new_epochs` is the sum of (epochs already trained + some additional epochs).\n",
      "2022-10-02 11:18:17 darts.models.forecasting.torch_forecasting_model WARNING: Attempting to retrain the model without resuming from a checkpoint. This is currently discouraged. Consider setting `save_checkpoints` to `True` and specifying `model_name` at model creation. Then call `model = TFTModel.load_from_checkpoint(model_name, best=False)`. Finally, train the model with `model.fit(..., epochs=new_epochs)` where `new_epochs` is the sum of (epochs already trained + some additional epochs).\n"
     ]
    },
    {
     "name": "stdout",
     "output_type": "stream",
     "text": [
      "171\n"
     ]
    },
    {
     "data": {
      "application/vnd.jupyter.widget-view+json": {
       "model_id": "938940b84e02455dbe4d97e566ce6b5f",
       "version_major": 2,
       "version_minor": 0
      },
      "text/plain": [
       "Training: 0it [00:00, ?it/s]"
      ]
     },
     "metadata": {},
     "output_type": "display_data"
    },
    {
     "data": {
      "application/vnd.jupyter.widget-view+json": {
       "model_id": "fb1073e273d742e1af3d79e073b52b3b",
       "version_major": 2,
       "version_minor": 0
      },
      "text/plain": [
       "Predicting: 48it [00:00, ?it/s]"
      ]
     },
     "metadata": {},
     "output_type": "display_data"
    },
    {
     "name": "stderr",
     "output_type": "stream",
     "text": [
      "[2022-10-02 11:18:19,173] INFO | darts.models.forecasting.torch_forecasting_model | Train dataset contains 190 samples.\n",
      "[2022-10-02 11:18:19,173] INFO | darts.models.forecasting.torch_forecasting_model | Train dataset contains 190 samples.\n",
      "2022-10-02 11:18:19 darts.models.forecasting.torch_forecasting_model INFO: Train dataset contains 190 samples.\n",
      "2022-10-02 11:18:19 pytorch_lightning.utilities.distributed INFO: GPU available: False, used: False\n",
      "2022-10-02 11:18:19 pytorch_lightning.utilities.distributed INFO: TPU available: False, using: 0 TPU cores\n",
      "2022-10-02 11:18:19 pytorch_lightning.utilities.distributed INFO: IPU available: False, using: 0 IPUs\n",
      "[2022-10-02 11:18:19,180] WARNING | darts.models.forecasting.torch_forecasting_model | Attempting to retrain the model without resuming from a checkpoint. This is currently discouraged. Consider setting `save_checkpoints` to `True` and specifying `model_name` at model creation. Then call `model = TFTModel.load_from_checkpoint(model_name, best=False)`. Finally, train the model with `model.fit(..., epochs=new_epochs)` where `new_epochs` is the sum of (epochs already trained + some additional epochs).\n",
      "[2022-10-02 11:18:19,180] WARNING | darts.models.forecasting.torch_forecasting_model | Attempting to retrain the model without resuming from a checkpoint. This is currently discouraged. Consider setting `save_checkpoints` to `True` and specifying `model_name` at model creation. Then call `model = TFTModel.load_from_checkpoint(model_name, best=False)`. Finally, train the model with `model.fit(..., epochs=new_epochs)` where `new_epochs` is the sum of (epochs already trained + some additional epochs).\n",
      "2022-10-02 11:18:19 darts.models.forecasting.torch_forecasting_model WARNING: Attempting to retrain the model without resuming from a checkpoint. This is currently discouraged. Consider setting `save_checkpoints` to `True` and specifying `model_name` at model creation. Then call `model = TFTModel.load_from_checkpoint(model_name, best=False)`. Finally, train the model with `model.fit(..., epochs=new_epochs)` where `new_epochs` is the sum of (epochs already trained + some additional epochs).\n"
     ]
    },
    {
     "name": "stdout",
     "output_type": "stream",
     "text": [
      "172\n"
     ]
    },
    {
     "data": {
      "application/vnd.jupyter.widget-view+json": {
       "model_id": "614bcdc0d8ba4492af1f7e0e91750082",
       "version_major": 2,
       "version_minor": 0
      },
      "text/plain": [
       "Training: 0it [00:00, ?it/s]"
      ]
     },
     "metadata": {},
     "output_type": "display_data"
    },
    {
     "data": {
      "application/vnd.jupyter.widget-view+json": {
       "model_id": "d99b6d0743b64edf863a4d3b77e51722",
       "version_major": 2,
       "version_minor": 0
      },
      "text/plain": [
       "Predicting: 48it [00:00, ?it/s]"
      ]
     },
     "metadata": {},
     "output_type": "display_data"
    },
    {
     "name": "stderr",
     "output_type": "stream",
     "text": [
      "[2022-10-02 11:18:20,879] INFO | darts.models.forecasting.torch_forecasting_model | Train dataset contains 190 samples.\n",
      "[2022-10-02 11:18:20,879] INFO | darts.models.forecasting.torch_forecasting_model | Train dataset contains 190 samples.\n",
      "2022-10-02 11:18:20 darts.models.forecasting.torch_forecasting_model INFO: Train dataset contains 190 samples.\n",
      "2022-10-02 11:18:20 pytorch_lightning.utilities.distributed INFO: GPU available: False, used: False\n",
      "2022-10-02 11:18:20 pytorch_lightning.utilities.distributed INFO: TPU available: False, using: 0 TPU cores\n",
      "2022-10-02 11:18:20 pytorch_lightning.utilities.distributed INFO: IPU available: False, using: 0 IPUs\n",
      "[2022-10-02 11:18:20,887] WARNING | darts.models.forecasting.torch_forecasting_model | Attempting to retrain the model without resuming from a checkpoint. This is currently discouraged. Consider setting `save_checkpoints` to `True` and specifying `model_name` at model creation. Then call `model = TFTModel.load_from_checkpoint(model_name, best=False)`. Finally, train the model with `model.fit(..., epochs=new_epochs)` where `new_epochs` is the sum of (epochs already trained + some additional epochs).\n",
      "[2022-10-02 11:18:20,887] WARNING | darts.models.forecasting.torch_forecasting_model | Attempting to retrain the model without resuming from a checkpoint. This is currently discouraged. Consider setting `save_checkpoints` to `True` and specifying `model_name` at model creation. Then call `model = TFTModel.load_from_checkpoint(model_name, best=False)`. Finally, train the model with `model.fit(..., epochs=new_epochs)` where `new_epochs` is the sum of (epochs already trained + some additional epochs).\n",
      "2022-10-02 11:18:20 darts.models.forecasting.torch_forecasting_model WARNING: Attempting to retrain the model without resuming from a checkpoint. This is currently discouraged. Consider setting `save_checkpoints` to `True` and specifying `model_name` at model creation. Then call `model = TFTModel.load_from_checkpoint(model_name, best=False)`. Finally, train the model with `model.fit(..., epochs=new_epochs)` where `new_epochs` is the sum of (epochs already trained + some additional epochs).\n"
     ]
    },
    {
     "name": "stdout",
     "output_type": "stream",
     "text": [
      "173\n"
     ]
    },
    {
     "data": {
      "application/vnd.jupyter.widget-view+json": {
       "model_id": "31b9205381274498959d89f8ff3e75d4",
       "version_major": 2,
       "version_minor": 0
      },
      "text/plain": [
       "Training: 0it [00:00, ?it/s]"
      ]
     },
     "metadata": {},
     "output_type": "display_data"
    },
    {
     "data": {
      "application/vnd.jupyter.widget-view+json": {
       "model_id": "3ffc9b0cba484307a3c5bbc92bd44b0d",
       "version_major": 2,
       "version_minor": 0
      },
      "text/plain": [
       "Predicting: 48it [00:00, ?it/s]"
      ]
     },
     "metadata": {},
     "output_type": "display_data"
    },
    {
     "name": "stderr",
     "output_type": "stream",
     "text": [
      "[2022-10-02 11:18:22,636] INFO | darts.models.forecasting.torch_forecasting_model | Train dataset contains 190 samples.\n",
      "[2022-10-02 11:18:22,636] INFO | darts.models.forecasting.torch_forecasting_model | Train dataset contains 190 samples.\n",
      "2022-10-02 11:18:22 darts.models.forecasting.torch_forecasting_model INFO: Train dataset contains 190 samples.\n",
      "2022-10-02 11:18:22 pytorch_lightning.utilities.distributed INFO: GPU available: False, used: False\n",
      "2022-10-02 11:18:22 pytorch_lightning.utilities.distributed INFO: TPU available: False, using: 0 TPU cores\n",
      "2022-10-02 11:18:22 pytorch_lightning.utilities.distributed INFO: IPU available: False, using: 0 IPUs\n",
      "[2022-10-02 11:18:22,644] WARNING | darts.models.forecasting.torch_forecasting_model | Attempting to retrain the model without resuming from a checkpoint. This is currently discouraged. Consider setting `save_checkpoints` to `True` and specifying `model_name` at model creation. Then call `model = TFTModel.load_from_checkpoint(model_name, best=False)`. Finally, train the model with `model.fit(..., epochs=new_epochs)` where `new_epochs` is the sum of (epochs already trained + some additional epochs).\n",
      "[2022-10-02 11:18:22,644] WARNING | darts.models.forecasting.torch_forecasting_model | Attempting to retrain the model without resuming from a checkpoint. This is currently discouraged. Consider setting `save_checkpoints` to `True` and specifying `model_name` at model creation. Then call `model = TFTModel.load_from_checkpoint(model_name, best=False)`. Finally, train the model with `model.fit(..., epochs=new_epochs)` where `new_epochs` is the sum of (epochs already trained + some additional epochs).\n",
      "2022-10-02 11:18:22 darts.models.forecasting.torch_forecasting_model WARNING: Attempting to retrain the model without resuming from a checkpoint. This is currently discouraged. Consider setting `save_checkpoints` to `True` and specifying `model_name` at model creation. Then call `model = TFTModel.load_from_checkpoint(model_name, best=False)`. Finally, train the model with `model.fit(..., epochs=new_epochs)` where `new_epochs` is the sum of (epochs already trained + some additional epochs).\n"
     ]
    },
    {
     "name": "stdout",
     "output_type": "stream",
     "text": [
      "174\n"
     ]
    },
    {
     "data": {
      "application/vnd.jupyter.widget-view+json": {
       "model_id": "328b81f0a6ad4544badd7dfe9327d528",
       "version_major": 2,
       "version_minor": 0
      },
      "text/plain": [
       "Training: 0it [00:00, ?it/s]"
      ]
     },
     "metadata": {},
     "output_type": "display_data"
    },
    {
     "data": {
      "application/vnd.jupyter.widget-view+json": {
       "model_id": "97232e4698af4e06b2802e9f0c64c7c5",
       "version_major": 2,
       "version_minor": 0
      },
      "text/plain": [
       "Predicting: 48it [00:00, ?it/s]"
      ]
     },
     "metadata": {},
     "output_type": "display_data"
    },
    {
     "name": "stderr",
     "output_type": "stream",
     "text": [
      "[2022-10-02 11:18:24,314] INFO | darts.models.forecasting.torch_forecasting_model | Train dataset contains 190 samples.\n",
      "[2022-10-02 11:18:24,314] INFO | darts.models.forecasting.torch_forecasting_model | Train dataset contains 190 samples.\n",
      "2022-10-02 11:18:24 darts.models.forecasting.torch_forecasting_model INFO: Train dataset contains 190 samples.\n",
      "2022-10-02 11:18:24 pytorch_lightning.utilities.distributed INFO: GPU available: False, used: False\n",
      "2022-10-02 11:18:24 pytorch_lightning.utilities.distributed INFO: TPU available: False, using: 0 TPU cores\n",
      "2022-10-02 11:18:24 pytorch_lightning.utilities.distributed INFO: IPU available: False, using: 0 IPUs\n",
      "[2022-10-02 11:18:24,321] WARNING | darts.models.forecasting.torch_forecasting_model | Attempting to retrain the model without resuming from a checkpoint. This is currently discouraged. Consider setting `save_checkpoints` to `True` and specifying `model_name` at model creation. Then call `model = TFTModel.load_from_checkpoint(model_name, best=False)`. Finally, train the model with `model.fit(..., epochs=new_epochs)` where `new_epochs` is the sum of (epochs already trained + some additional epochs).\n",
      "[2022-10-02 11:18:24,321] WARNING | darts.models.forecasting.torch_forecasting_model | Attempting to retrain the model without resuming from a checkpoint. This is currently discouraged. Consider setting `save_checkpoints` to `True` and specifying `model_name` at model creation. Then call `model = TFTModel.load_from_checkpoint(model_name, best=False)`. Finally, train the model with `model.fit(..., epochs=new_epochs)` where `new_epochs` is the sum of (epochs already trained + some additional epochs).\n",
      "2022-10-02 11:18:24 darts.models.forecasting.torch_forecasting_model WARNING: Attempting to retrain the model without resuming from a checkpoint. This is currently discouraged. Consider setting `save_checkpoints` to `True` and specifying `model_name` at model creation. Then call `model = TFTModel.load_from_checkpoint(model_name, best=False)`. Finally, train the model with `model.fit(..., epochs=new_epochs)` where `new_epochs` is the sum of (epochs already trained + some additional epochs).\n"
     ]
    },
    {
     "name": "stdout",
     "output_type": "stream",
     "text": [
      "175\n"
     ]
    },
    {
     "data": {
      "application/vnd.jupyter.widget-view+json": {
       "model_id": "35f731c522f54b048250f841dae07171",
       "version_major": 2,
       "version_minor": 0
      },
      "text/plain": [
       "Training: 0it [00:00, ?it/s]"
      ]
     },
     "metadata": {},
     "output_type": "display_data"
    },
    {
     "data": {
      "application/vnd.jupyter.widget-view+json": {
       "model_id": "b0e446b5d5c54515a5bb1e4c241db594",
       "version_major": 2,
       "version_minor": 0
      },
      "text/plain": [
       "Predicting: 48it [00:00, ?it/s]"
      ]
     },
     "metadata": {},
     "output_type": "display_data"
    },
    {
     "name": "stderr",
     "output_type": "stream",
     "text": [
      "[2022-10-02 11:18:26,032] INFO | darts.models.forecasting.torch_forecasting_model | Train dataset contains 190 samples.\n",
      "[2022-10-02 11:18:26,032] INFO | darts.models.forecasting.torch_forecasting_model | Train dataset contains 190 samples.\n",
      "2022-10-02 11:18:26 darts.models.forecasting.torch_forecasting_model INFO: Train dataset contains 190 samples.\n",
      "2022-10-02 11:18:26 pytorch_lightning.utilities.distributed INFO: GPU available: False, used: False\n",
      "2022-10-02 11:18:26 pytorch_lightning.utilities.distributed INFO: TPU available: False, using: 0 TPU cores\n",
      "2022-10-02 11:18:26 pytorch_lightning.utilities.distributed INFO: IPU available: False, using: 0 IPUs\n",
      "[2022-10-02 11:18:26,041] WARNING | darts.models.forecasting.torch_forecasting_model | Attempting to retrain the model without resuming from a checkpoint. This is currently discouraged. Consider setting `save_checkpoints` to `True` and specifying `model_name` at model creation. Then call `model = TFTModel.load_from_checkpoint(model_name, best=False)`. Finally, train the model with `model.fit(..., epochs=new_epochs)` where `new_epochs` is the sum of (epochs already trained + some additional epochs).\n",
      "[2022-10-02 11:18:26,041] WARNING | darts.models.forecasting.torch_forecasting_model | Attempting to retrain the model without resuming from a checkpoint. This is currently discouraged. Consider setting `save_checkpoints` to `True` and specifying `model_name` at model creation. Then call `model = TFTModel.load_from_checkpoint(model_name, best=False)`. Finally, train the model with `model.fit(..., epochs=new_epochs)` where `new_epochs` is the sum of (epochs already trained + some additional epochs).\n",
      "2022-10-02 11:18:26 darts.models.forecasting.torch_forecasting_model WARNING: Attempting to retrain the model without resuming from a checkpoint. This is currently discouraged. Consider setting `save_checkpoints` to `True` and specifying `model_name` at model creation. Then call `model = TFTModel.load_from_checkpoint(model_name, best=False)`. Finally, train the model with `model.fit(..., epochs=new_epochs)` where `new_epochs` is the sum of (epochs already trained + some additional epochs).\n"
     ]
    },
    {
     "name": "stdout",
     "output_type": "stream",
     "text": [
      "176\n"
     ]
    },
    {
     "data": {
      "application/vnd.jupyter.widget-view+json": {
       "model_id": "28fcaf14375e490a8455dd9418b54131",
       "version_major": 2,
       "version_minor": 0
      },
      "text/plain": [
       "Training: 0it [00:00, ?it/s]"
      ]
     },
     "metadata": {},
     "output_type": "display_data"
    },
    {
     "data": {
      "application/vnd.jupyter.widget-view+json": {
       "model_id": "1dca6f53c58348f2bcf83fa16d17503f",
       "version_major": 2,
       "version_minor": 0
      },
      "text/plain": [
       "Predicting: 48it [00:00, ?it/s]"
      ]
     },
     "metadata": {},
     "output_type": "display_data"
    },
    {
     "name": "stderr",
     "output_type": "stream",
     "text": [
      "[2022-10-02 11:18:27,763] INFO | darts.models.forecasting.torch_forecasting_model | Train dataset contains 190 samples.\n",
      "[2022-10-02 11:18:27,763] INFO | darts.models.forecasting.torch_forecasting_model | Train dataset contains 190 samples.\n",
      "2022-10-02 11:18:27 darts.models.forecasting.torch_forecasting_model INFO: Train dataset contains 190 samples.\n",
      "2022-10-02 11:18:27 pytorch_lightning.utilities.distributed INFO: GPU available: False, used: False\n",
      "2022-10-02 11:18:27 pytorch_lightning.utilities.distributed INFO: TPU available: False, using: 0 TPU cores\n",
      "2022-10-02 11:18:27 pytorch_lightning.utilities.distributed INFO: IPU available: False, using: 0 IPUs\n",
      "[2022-10-02 11:18:27,772] WARNING | darts.models.forecasting.torch_forecasting_model | Attempting to retrain the model without resuming from a checkpoint. This is currently discouraged. Consider setting `save_checkpoints` to `True` and specifying `model_name` at model creation. Then call `model = TFTModel.load_from_checkpoint(model_name, best=False)`. Finally, train the model with `model.fit(..., epochs=new_epochs)` where `new_epochs` is the sum of (epochs already trained + some additional epochs).\n",
      "[2022-10-02 11:18:27,772] WARNING | darts.models.forecasting.torch_forecasting_model | Attempting to retrain the model without resuming from a checkpoint. This is currently discouraged. Consider setting `save_checkpoints` to `True` and specifying `model_name` at model creation. Then call `model = TFTModel.load_from_checkpoint(model_name, best=False)`. Finally, train the model with `model.fit(..., epochs=new_epochs)` where `new_epochs` is the sum of (epochs already trained + some additional epochs).\n",
      "2022-10-02 11:18:27 darts.models.forecasting.torch_forecasting_model WARNING: Attempting to retrain the model without resuming from a checkpoint. This is currently discouraged. Consider setting `save_checkpoints` to `True` and specifying `model_name` at model creation. Then call `model = TFTModel.load_from_checkpoint(model_name, best=False)`. Finally, train the model with `model.fit(..., epochs=new_epochs)` where `new_epochs` is the sum of (epochs already trained + some additional epochs).\n"
     ]
    },
    {
     "name": "stdout",
     "output_type": "stream",
     "text": [
      "177\n"
     ]
    },
    {
     "data": {
      "application/vnd.jupyter.widget-view+json": {
       "model_id": "45d3e75085684a81b6dc40f5c983a36f",
       "version_major": 2,
       "version_minor": 0
      },
      "text/plain": [
       "Training: 0it [00:00, ?it/s]"
      ]
     },
     "metadata": {},
     "output_type": "display_data"
    },
    {
     "data": {
      "application/vnd.jupyter.widget-view+json": {
       "model_id": "08603ea99e8e4b81bc4b780579169028",
       "version_major": 2,
       "version_minor": 0
      },
      "text/plain": [
       "Predicting: 48it [00:00, ?it/s]"
      ]
     },
     "metadata": {},
     "output_type": "display_data"
    },
    {
     "name": "stderr",
     "output_type": "stream",
     "text": [
      "[2022-10-02 11:18:29,449] INFO | darts.models.forecasting.torch_forecasting_model | Train dataset contains 190 samples.\n",
      "[2022-10-02 11:18:29,449] INFO | darts.models.forecasting.torch_forecasting_model | Train dataset contains 190 samples.\n",
      "2022-10-02 11:18:29 darts.models.forecasting.torch_forecasting_model INFO: Train dataset contains 190 samples.\n",
      "2022-10-02 11:18:29 pytorch_lightning.utilities.distributed INFO: GPU available: False, used: False\n",
      "2022-10-02 11:18:29 pytorch_lightning.utilities.distributed INFO: TPU available: False, using: 0 TPU cores\n",
      "2022-10-02 11:18:29 pytorch_lightning.utilities.distributed INFO: IPU available: False, using: 0 IPUs\n",
      "[2022-10-02 11:18:29,456] WARNING | darts.models.forecasting.torch_forecasting_model | Attempting to retrain the model without resuming from a checkpoint. This is currently discouraged. Consider setting `save_checkpoints` to `True` and specifying `model_name` at model creation. Then call `model = TFTModel.load_from_checkpoint(model_name, best=False)`. Finally, train the model with `model.fit(..., epochs=new_epochs)` where `new_epochs` is the sum of (epochs already trained + some additional epochs).\n",
      "[2022-10-02 11:18:29,456] WARNING | darts.models.forecasting.torch_forecasting_model | Attempting to retrain the model without resuming from a checkpoint. This is currently discouraged. Consider setting `save_checkpoints` to `True` and specifying `model_name` at model creation. Then call `model = TFTModel.load_from_checkpoint(model_name, best=False)`. Finally, train the model with `model.fit(..., epochs=new_epochs)` where `new_epochs` is the sum of (epochs already trained + some additional epochs).\n",
      "2022-10-02 11:18:29 darts.models.forecasting.torch_forecasting_model WARNING: Attempting to retrain the model without resuming from a checkpoint. This is currently discouraged. Consider setting `save_checkpoints` to `True` and specifying `model_name` at model creation. Then call `model = TFTModel.load_from_checkpoint(model_name, best=False)`. Finally, train the model with `model.fit(..., epochs=new_epochs)` where `new_epochs` is the sum of (epochs already trained + some additional epochs).\n"
     ]
    },
    {
     "name": "stdout",
     "output_type": "stream",
     "text": [
      "178\n"
     ]
    },
    {
     "data": {
      "application/vnd.jupyter.widget-view+json": {
       "model_id": "fbdebec8f1724bd9aeaf0d305a81ac1d",
       "version_major": 2,
       "version_minor": 0
      },
      "text/plain": [
       "Training: 0it [00:00, ?it/s]"
      ]
     },
     "metadata": {},
     "output_type": "display_data"
    },
    {
     "data": {
      "application/vnd.jupyter.widget-view+json": {
       "model_id": "cb2a01ac06974f8aa89edbc438669521",
       "version_major": 2,
       "version_minor": 0
      },
      "text/plain": [
       "Predicting: 48it [00:00, ?it/s]"
      ]
     },
     "metadata": {},
     "output_type": "display_data"
    },
    {
     "name": "stderr",
     "output_type": "stream",
     "text": [
      "[2022-10-02 11:18:31,215] INFO | darts.models.forecasting.torch_forecasting_model | Train dataset contains 190 samples.\n",
      "[2022-10-02 11:18:31,215] INFO | darts.models.forecasting.torch_forecasting_model | Train dataset contains 190 samples.\n",
      "2022-10-02 11:18:31 darts.models.forecasting.torch_forecasting_model INFO: Train dataset contains 190 samples.\n",
      "2022-10-02 11:18:31 pytorch_lightning.utilities.distributed INFO: GPU available: False, used: False\n",
      "2022-10-02 11:18:31 pytorch_lightning.utilities.distributed INFO: TPU available: False, using: 0 TPU cores\n",
      "2022-10-02 11:18:31 pytorch_lightning.utilities.distributed INFO: IPU available: False, using: 0 IPUs\n",
      "[2022-10-02 11:18:31,223] WARNING | darts.models.forecasting.torch_forecasting_model | Attempting to retrain the model without resuming from a checkpoint. This is currently discouraged. Consider setting `save_checkpoints` to `True` and specifying `model_name` at model creation. Then call `model = TFTModel.load_from_checkpoint(model_name, best=False)`. Finally, train the model with `model.fit(..., epochs=new_epochs)` where `new_epochs` is the sum of (epochs already trained + some additional epochs).\n",
      "[2022-10-02 11:18:31,223] WARNING | darts.models.forecasting.torch_forecasting_model | Attempting to retrain the model without resuming from a checkpoint. This is currently discouraged. Consider setting `save_checkpoints` to `True` and specifying `model_name` at model creation. Then call `model = TFTModel.load_from_checkpoint(model_name, best=False)`. Finally, train the model with `model.fit(..., epochs=new_epochs)` where `new_epochs` is the sum of (epochs already trained + some additional epochs).\n",
      "2022-10-02 11:18:31 darts.models.forecasting.torch_forecasting_model WARNING: Attempting to retrain the model without resuming from a checkpoint. This is currently discouraged. Consider setting `save_checkpoints` to `True` and specifying `model_name` at model creation. Then call `model = TFTModel.load_from_checkpoint(model_name, best=False)`. Finally, train the model with `model.fit(..., epochs=new_epochs)` where `new_epochs` is the sum of (epochs already trained + some additional epochs).\n"
     ]
    },
    {
     "name": "stdout",
     "output_type": "stream",
     "text": [
      "179\n"
     ]
    },
    {
     "data": {
      "application/vnd.jupyter.widget-view+json": {
       "model_id": "92484f62bf0343fca79531105ff41c9d",
       "version_major": 2,
       "version_minor": 0
      },
      "text/plain": [
       "Training: 0it [00:00, ?it/s]"
      ]
     },
     "metadata": {},
     "output_type": "display_data"
    },
    {
     "data": {
      "application/vnd.jupyter.widget-view+json": {
       "model_id": "b8f401c733474e6b9575dcaa03a5bb50",
       "version_major": 2,
       "version_minor": 0
      },
      "text/plain": [
       "Predicting: 48it [00:00, ?it/s]"
      ]
     },
     "metadata": {},
     "output_type": "display_data"
    },
    {
     "name": "stderr",
     "output_type": "stream",
     "text": [
      "[2022-10-02 11:18:32,973] INFO | darts.models.forecasting.torch_forecasting_model | Train dataset contains 190 samples.\n",
      "[2022-10-02 11:18:32,973] INFO | darts.models.forecasting.torch_forecasting_model | Train dataset contains 190 samples.\n",
      "2022-10-02 11:18:32 darts.models.forecasting.torch_forecasting_model INFO: Train dataset contains 190 samples.\n",
      "2022-10-02 11:18:32 pytorch_lightning.utilities.distributed INFO: GPU available: False, used: False\n",
      "2022-10-02 11:18:32 pytorch_lightning.utilities.distributed INFO: TPU available: False, using: 0 TPU cores\n",
      "2022-10-02 11:18:32 pytorch_lightning.utilities.distributed INFO: IPU available: False, using: 0 IPUs\n",
      "[2022-10-02 11:18:32,980] WARNING | darts.models.forecasting.torch_forecasting_model | Attempting to retrain the model without resuming from a checkpoint. This is currently discouraged. Consider setting `save_checkpoints` to `True` and specifying `model_name` at model creation. Then call `model = TFTModel.load_from_checkpoint(model_name, best=False)`. Finally, train the model with `model.fit(..., epochs=new_epochs)` where `new_epochs` is the sum of (epochs already trained + some additional epochs).\n",
      "[2022-10-02 11:18:32,980] WARNING | darts.models.forecasting.torch_forecasting_model | Attempting to retrain the model without resuming from a checkpoint. This is currently discouraged. Consider setting `save_checkpoints` to `True` and specifying `model_name` at model creation. Then call `model = TFTModel.load_from_checkpoint(model_name, best=False)`. Finally, train the model with `model.fit(..., epochs=new_epochs)` where `new_epochs` is the sum of (epochs already trained + some additional epochs).\n",
      "2022-10-02 11:18:32 darts.models.forecasting.torch_forecasting_model WARNING: Attempting to retrain the model without resuming from a checkpoint. This is currently discouraged. Consider setting `save_checkpoints` to `True` and specifying `model_name` at model creation. Then call `model = TFTModel.load_from_checkpoint(model_name, best=False)`. Finally, train the model with `model.fit(..., epochs=new_epochs)` where `new_epochs` is the sum of (epochs already trained + some additional epochs).\n"
     ]
    },
    {
     "name": "stdout",
     "output_type": "stream",
     "text": [
      "180\n"
     ]
    },
    {
     "data": {
      "application/vnd.jupyter.widget-view+json": {
       "model_id": "7abcbe452ecc4ec586524b0edfb9b0d4",
       "version_major": 2,
       "version_minor": 0
      },
      "text/plain": [
       "Training: 0it [00:00, ?it/s]"
      ]
     },
     "metadata": {},
     "output_type": "display_data"
    },
    {
     "data": {
      "application/vnd.jupyter.widget-view+json": {
       "model_id": "98f8539edbb6477a88d3b99398965fcd",
       "version_major": 2,
       "version_minor": 0
      },
      "text/plain": [
       "Predicting: 48it [00:00, ?it/s]"
      ]
     },
     "metadata": {},
     "output_type": "display_data"
    },
    {
     "name": "stderr",
     "output_type": "stream",
     "text": [
      "[2022-10-02 11:18:34,714] INFO | darts.models.forecasting.torch_forecasting_model | Train dataset contains 190 samples.\n",
      "[2022-10-02 11:18:34,714] INFO | darts.models.forecasting.torch_forecasting_model | Train dataset contains 190 samples.\n",
      "2022-10-02 11:18:34 darts.models.forecasting.torch_forecasting_model INFO: Train dataset contains 190 samples.\n",
      "2022-10-02 11:18:34 pytorch_lightning.utilities.distributed INFO: GPU available: False, used: False\n",
      "2022-10-02 11:18:34 pytorch_lightning.utilities.distributed INFO: TPU available: False, using: 0 TPU cores\n",
      "2022-10-02 11:18:34 pytorch_lightning.utilities.distributed INFO: IPU available: False, using: 0 IPUs\n",
      "[2022-10-02 11:18:34,722] WARNING | darts.models.forecasting.torch_forecasting_model | Attempting to retrain the model without resuming from a checkpoint. This is currently discouraged. Consider setting `save_checkpoints` to `True` and specifying `model_name` at model creation. Then call `model = TFTModel.load_from_checkpoint(model_name, best=False)`. Finally, train the model with `model.fit(..., epochs=new_epochs)` where `new_epochs` is the sum of (epochs already trained + some additional epochs).\n",
      "[2022-10-02 11:18:34,722] WARNING | darts.models.forecasting.torch_forecasting_model | Attempting to retrain the model without resuming from a checkpoint. This is currently discouraged. Consider setting `save_checkpoints` to `True` and specifying `model_name` at model creation. Then call `model = TFTModel.load_from_checkpoint(model_name, best=False)`. Finally, train the model with `model.fit(..., epochs=new_epochs)` where `new_epochs` is the sum of (epochs already trained + some additional epochs).\n",
      "2022-10-02 11:18:34 darts.models.forecasting.torch_forecasting_model WARNING: Attempting to retrain the model without resuming from a checkpoint. This is currently discouraged. Consider setting `save_checkpoints` to `True` and specifying `model_name` at model creation. Then call `model = TFTModel.load_from_checkpoint(model_name, best=False)`. Finally, train the model with `model.fit(..., epochs=new_epochs)` where `new_epochs` is the sum of (epochs already trained + some additional epochs).\n"
     ]
    },
    {
     "name": "stdout",
     "output_type": "stream",
     "text": [
      "181\n"
     ]
    },
    {
     "data": {
      "application/vnd.jupyter.widget-view+json": {
       "model_id": "044427f133ce4cf392929b03b92ed250",
       "version_major": 2,
       "version_minor": 0
      },
      "text/plain": [
       "Training: 0it [00:00, ?it/s]"
      ]
     },
     "metadata": {},
     "output_type": "display_data"
    },
    {
     "data": {
      "application/vnd.jupyter.widget-view+json": {
       "model_id": "4ab91d91adb74c82b44237adea2321ee",
       "version_major": 2,
       "version_minor": 0
      },
      "text/plain": [
       "Predicting: 48it [00:00, ?it/s]"
      ]
     },
     "metadata": {},
     "output_type": "display_data"
    },
    {
     "name": "stderr",
     "output_type": "stream",
     "text": [
      "[2022-10-02 11:18:36,553] INFO | darts.models.forecasting.torch_forecasting_model | Train dataset contains 190 samples.\n",
      "[2022-10-02 11:18:36,553] INFO | darts.models.forecasting.torch_forecasting_model | Train dataset contains 190 samples.\n",
      "2022-10-02 11:18:36 darts.models.forecasting.torch_forecasting_model INFO: Train dataset contains 190 samples.\n",
      "2022-10-02 11:18:36 pytorch_lightning.utilities.distributed INFO: GPU available: False, used: False\n",
      "2022-10-02 11:18:36 pytorch_lightning.utilities.distributed INFO: TPU available: False, using: 0 TPU cores\n",
      "2022-10-02 11:18:36 pytorch_lightning.utilities.distributed INFO: IPU available: False, using: 0 IPUs\n",
      "[2022-10-02 11:18:36,563] WARNING | darts.models.forecasting.torch_forecasting_model | Attempting to retrain the model without resuming from a checkpoint. This is currently discouraged. Consider setting `save_checkpoints` to `True` and specifying `model_name` at model creation. Then call `model = TFTModel.load_from_checkpoint(model_name, best=False)`. Finally, train the model with `model.fit(..., epochs=new_epochs)` where `new_epochs` is the sum of (epochs already trained + some additional epochs).\n",
      "[2022-10-02 11:18:36,563] WARNING | darts.models.forecasting.torch_forecasting_model | Attempting to retrain the model without resuming from a checkpoint. This is currently discouraged. Consider setting `save_checkpoints` to `True` and specifying `model_name` at model creation. Then call `model = TFTModel.load_from_checkpoint(model_name, best=False)`. Finally, train the model with `model.fit(..., epochs=new_epochs)` where `new_epochs` is the sum of (epochs already trained + some additional epochs).\n",
      "2022-10-02 11:18:36 darts.models.forecasting.torch_forecasting_model WARNING: Attempting to retrain the model without resuming from a checkpoint. This is currently discouraged. Consider setting `save_checkpoints` to `True` and specifying `model_name` at model creation. Then call `model = TFTModel.load_from_checkpoint(model_name, best=False)`. Finally, train the model with `model.fit(..., epochs=new_epochs)` where `new_epochs` is the sum of (epochs already trained + some additional epochs).\n"
     ]
    },
    {
     "name": "stdout",
     "output_type": "stream",
     "text": [
      "182\n"
     ]
    },
    {
     "data": {
      "application/vnd.jupyter.widget-view+json": {
       "model_id": "612234f386c646ffbb64be4ae75b96db",
       "version_major": 2,
       "version_minor": 0
      },
      "text/plain": [
       "Training: 0it [00:00, ?it/s]"
      ]
     },
     "metadata": {},
     "output_type": "display_data"
    },
    {
     "data": {
      "application/vnd.jupyter.widget-view+json": {
       "model_id": "dc8cafdbdbb04633a9ee8599e44390a3",
       "version_major": 2,
       "version_minor": 0
      },
      "text/plain": [
       "Predicting: 48it [00:00, ?it/s]"
      ]
     },
     "metadata": {},
     "output_type": "display_data"
    },
    {
     "name": "stderr",
     "output_type": "stream",
     "text": [
      "[2022-10-02 11:18:38,272] INFO | darts.models.forecasting.torch_forecasting_model | Train dataset contains 190 samples.\n",
      "[2022-10-02 11:18:38,272] INFO | darts.models.forecasting.torch_forecasting_model | Train dataset contains 190 samples.\n",
      "2022-10-02 11:18:38 darts.models.forecasting.torch_forecasting_model INFO: Train dataset contains 190 samples.\n",
      "2022-10-02 11:18:38 pytorch_lightning.utilities.distributed INFO: GPU available: False, used: False\n",
      "2022-10-02 11:18:38 pytorch_lightning.utilities.distributed INFO: TPU available: False, using: 0 TPU cores\n",
      "2022-10-02 11:18:38 pytorch_lightning.utilities.distributed INFO: IPU available: False, using: 0 IPUs\n",
      "[2022-10-02 11:18:38,281] WARNING | darts.models.forecasting.torch_forecasting_model | Attempting to retrain the model without resuming from a checkpoint. This is currently discouraged. Consider setting `save_checkpoints` to `True` and specifying `model_name` at model creation. Then call `model = TFTModel.load_from_checkpoint(model_name, best=False)`. Finally, train the model with `model.fit(..., epochs=new_epochs)` where `new_epochs` is the sum of (epochs already trained + some additional epochs).\n",
      "[2022-10-02 11:18:38,281] WARNING | darts.models.forecasting.torch_forecasting_model | Attempting to retrain the model without resuming from a checkpoint. This is currently discouraged. Consider setting `save_checkpoints` to `True` and specifying `model_name` at model creation. Then call `model = TFTModel.load_from_checkpoint(model_name, best=False)`. Finally, train the model with `model.fit(..., epochs=new_epochs)` where `new_epochs` is the sum of (epochs already trained + some additional epochs).\n",
      "2022-10-02 11:18:38 darts.models.forecasting.torch_forecasting_model WARNING: Attempting to retrain the model without resuming from a checkpoint. This is currently discouraged. Consider setting `save_checkpoints` to `True` and specifying `model_name` at model creation. Then call `model = TFTModel.load_from_checkpoint(model_name, best=False)`. Finally, train the model with `model.fit(..., epochs=new_epochs)` where `new_epochs` is the sum of (epochs already trained + some additional epochs).\n"
     ]
    },
    {
     "name": "stdout",
     "output_type": "stream",
     "text": [
      "183\n"
     ]
    },
    {
     "data": {
      "application/vnd.jupyter.widget-view+json": {
       "model_id": "3f8dbff65bac443ba304d18a546462f3",
       "version_major": 2,
       "version_minor": 0
      },
      "text/plain": [
       "Training: 0it [00:00, ?it/s]"
      ]
     },
     "metadata": {},
     "output_type": "display_data"
    },
    {
     "data": {
      "application/vnd.jupyter.widget-view+json": {
       "model_id": "2c38e153fd8b4c7686e6b191937d339f",
       "version_major": 2,
       "version_minor": 0
      },
      "text/plain": [
       "Predicting: 48it [00:00, ?it/s]"
      ]
     },
     "metadata": {},
     "output_type": "display_data"
    },
    {
     "name": "stderr",
     "output_type": "stream",
     "text": [
      "[2022-10-02 11:18:40,058] INFO | darts.models.forecasting.torch_forecasting_model | Train dataset contains 190 samples.\n",
      "[2022-10-02 11:18:40,058] INFO | darts.models.forecasting.torch_forecasting_model | Train dataset contains 190 samples.\n",
      "2022-10-02 11:18:40 darts.models.forecasting.torch_forecasting_model INFO: Train dataset contains 190 samples.\n",
      "2022-10-02 11:18:40 pytorch_lightning.utilities.distributed INFO: GPU available: False, used: False\n",
      "2022-10-02 11:18:40 pytorch_lightning.utilities.distributed INFO: TPU available: False, using: 0 TPU cores\n",
      "2022-10-02 11:18:40 pytorch_lightning.utilities.distributed INFO: IPU available: False, using: 0 IPUs\n",
      "[2022-10-02 11:18:40,066] WARNING | darts.models.forecasting.torch_forecasting_model | Attempting to retrain the model without resuming from a checkpoint. This is currently discouraged. Consider setting `save_checkpoints` to `True` and specifying `model_name` at model creation. Then call `model = TFTModel.load_from_checkpoint(model_name, best=False)`. Finally, train the model with `model.fit(..., epochs=new_epochs)` where `new_epochs` is the sum of (epochs already trained + some additional epochs).\n",
      "[2022-10-02 11:18:40,066] WARNING | darts.models.forecasting.torch_forecasting_model | Attempting to retrain the model without resuming from a checkpoint. This is currently discouraged. Consider setting `save_checkpoints` to `True` and specifying `model_name` at model creation. Then call `model = TFTModel.load_from_checkpoint(model_name, best=False)`. Finally, train the model with `model.fit(..., epochs=new_epochs)` where `new_epochs` is the sum of (epochs already trained + some additional epochs).\n",
      "2022-10-02 11:18:40 darts.models.forecasting.torch_forecasting_model WARNING: Attempting to retrain the model without resuming from a checkpoint. This is currently discouraged. Consider setting `save_checkpoints` to `True` and specifying `model_name` at model creation. Then call `model = TFTModel.load_from_checkpoint(model_name, best=False)`. Finally, train the model with `model.fit(..., epochs=new_epochs)` where `new_epochs` is the sum of (epochs already trained + some additional epochs).\n"
     ]
    },
    {
     "name": "stdout",
     "output_type": "stream",
     "text": [
      "184\n"
     ]
    },
    {
     "data": {
      "application/vnd.jupyter.widget-view+json": {
       "model_id": "62e242cc16b4494e8c9e690b614203d3",
       "version_major": 2,
       "version_minor": 0
      },
      "text/plain": [
       "Training: 0it [00:00, ?it/s]"
      ]
     },
     "metadata": {},
     "output_type": "display_data"
    },
    {
     "data": {
      "application/vnd.jupyter.widget-view+json": {
       "model_id": "f1c41e79dcaa45bcbcbf3221d484c331",
       "version_major": 2,
       "version_minor": 0
      },
      "text/plain": [
       "Predicting: 48it [00:00, ?it/s]"
      ]
     },
     "metadata": {},
     "output_type": "display_data"
    },
    {
     "name": "stderr",
     "output_type": "stream",
     "text": [
      "[2022-10-02 11:18:41,760] INFO | darts.models.forecasting.torch_forecasting_model | Train dataset contains 190 samples.\n",
      "[2022-10-02 11:18:41,760] INFO | darts.models.forecasting.torch_forecasting_model | Train dataset contains 190 samples.\n",
      "2022-10-02 11:18:41 darts.models.forecasting.torch_forecasting_model INFO: Train dataset contains 190 samples.\n",
      "2022-10-02 11:18:41 pytorch_lightning.utilities.distributed INFO: GPU available: False, used: False\n",
      "2022-10-02 11:18:41 pytorch_lightning.utilities.distributed INFO: TPU available: False, using: 0 TPU cores\n",
      "2022-10-02 11:18:41 pytorch_lightning.utilities.distributed INFO: IPU available: False, using: 0 IPUs\n",
      "[2022-10-02 11:18:41,769] WARNING | darts.models.forecasting.torch_forecasting_model | Attempting to retrain the model without resuming from a checkpoint. This is currently discouraged. Consider setting `save_checkpoints` to `True` and specifying `model_name` at model creation. Then call `model = TFTModel.load_from_checkpoint(model_name, best=False)`. Finally, train the model with `model.fit(..., epochs=new_epochs)` where `new_epochs` is the sum of (epochs already trained + some additional epochs).\n",
      "[2022-10-02 11:18:41,769] WARNING | darts.models.forecasting.torch_forecasting_model | Attempting to retrain the model without resuming from a checkpoint. This is currently discouraged. Consider setting `save_checkpoints` to `True` and specifying `model_name` at model creation. Then call `model = TFTModel.load_from_checkpoint(model_name, best=False)`. Finally, train the model with `model.fit(..., epochs=new_epochs)` where `new_epochs` is the sum of (epochs already trained + some additional epochs).\n",
      "2022-10-02 11:18:41 darts.models.forecasting.torch_forecasting_model WARNING: Attempting to retrain the model without resuming from a checkpoint. This is currently discouraged. Consider setting `save_checkpoints` to `True` and specifying `model_name` at model creation. Then call `model = TFTModel.load_from_checkpoint(model_name, best=False)`. Finally, train the model with `model.fit(..., epochs=new_epochs)` where `new_epochs` is the sum of (epochs already trained + some additional epochs).\n"
     ]
    },
    {
     "name": "stdout",
     "output_type": "stream",
     "text": [
      "185\n"
     ]
    },
    {
     "data": {
      "application/vnd.jupyter.widget-view+json": {
       "model_id": "0a115ed2df87425f84a9701551b1bcbd",
       "version_major": 2,
       "version_minor": 0
      },
      "text/plain": [
       "Training: 0it [00:00, ?it/s]"
      ]
     },
     "metadata": {},
     "output_type": "display_data"
    },
    {
     "data": {
      "application/vnd.jupyter.widget-view+json": {
       "model_id": "4dcf39d6040345b4b1b84a2543dfb0b5",
       "version_major": 2,
       "version_minor": 0
      },
      "text/plain": [
       "Predicting: 48it [00:00, ?it/s]"
      ]
     },
     "metadata": {},
     "output_type": "display_data"
    },
    {
     "name": "stderr",
     "output_type": "stream",
     "text": [
      "[2022-10-02 11:18:43,546] INFO | darts.models.forecasting.torch_forecasting_model | Train dataset contains 190 samples.\n",
      "[2022-10-02 11:18:43,546] INFO | darts.models.forecasting.torch_forecasting_model | Train dataset contains 190 samples.\n",
      "2022-10-02 11:18:43 darts.models.forecasting.torch_forecasting_model INFO: Train dataset contains 190 samples.\n",
      "2022-10-02 11:18:43 pytorch_lightning.utilities.distributed INFO: GPU available: False, used: False\n",
      "2022-10-02 11:18:43 pytorch_lightning.utilities.distributed INFO: TPU available: False, using: 0 TPU cores\n",
      "2022-10-02 11:18:43 pytorch_lightning.utilities.distributed INFO: IPU available: False, using: 0 IPUs\n",
      "[2022-10-02 11:18:43,559] WARNING | darts.models.forecasting.torch_forecasting_model | Attempting to retrain the model without resuming from a checkpoint. This is currently discouraged. Consider setting `save_checkpoints` to `True` and specifying `model_name` at model creation. Then call `model = TFTModel.load_from_checkpoint(model_name, best=False)`. Finally, train the model with `model.fit(..., epochs=new_epochs)` where `new_epochs` is the sum of (epochs already trained + some additional epochs).\n",
      "[2022-10-02 11:18:43,559] WARNING | darts.models.forecasting.torch_forecasting_model | Attempting to retrain the model without resuming from a checkpoint. This is currently discouraged. Consider setting `save_checkpoints` to `True` and specifying `model_name` at model creation. Then call `model = TFTModel.load_from_checkpoint(model_name, best=False)`. Finally, train the model with `model.fit(..., epochs=new_epochs)` where `new_epochs` is the sum of (epochs already trained + some additional epochs).\n",
      "2022-10-02 11:18:43 darts.models.forecasting.torch_forecasting_model WARNING: Attempting to retrain the model without resuming from a checkpoint. This is currently discouraged. Consider setting `save_checkpoints` to `True` and specifying `model_name` at model creation. Then call `model = TFTModel.load_from_checkpoint(model_name, best=False)`. Finally, train the model with `model.fit(..., epochs=new_epochs)` where `new_epochs` is the sum of (epochs already trained + some additional epochs).\n"
     ]
    },
    {
     "name": "stdout",
     "output_type": "stream",
     "text": [
      "186\n"
     ]
    },
    {
     "data": {
      "application/vnd.jupyter.widget-view+json": {
       "model_id": "17f94dcd611c4c2b971aba456e3cc23a",
       "version_major": 2,
       "version_minor": 0
      },
      "text/plain": [
       "Training: 0it [00:00, ?it/s]"
      ]
     },
     "metadata": {},
     "output_type": "display_data"
    },
    {
     "data": {
      "application/vnd.jupyter.widget-view+json": {
       "model_id": "1f6fbc1448804d9baefaebad4ed90354",
       "version_major": 2,
       "version_minor": 0
      },
      "text/plain": [
       "Predicting: 48it [00:00, ?it/s]"
      ]
     },
     "metadata": {},
     "output_type": "display_data"
    },
    {
     "name": "stderr",
     "output_type": "stream",
     "text": [
      "[2022-10-02 11:18:45,206] INFO | darts.models.forecasting.torch_forecasting_model | Train dataset contains 190 samples.\n",
      "[2022-10-02 11:18:45,206] INFO | darts.models.forecasting.torch_forecasting_model | Train dataset contains 190 samples.\n",
      "2022-10-02 11:18:45 darts.models.forecasting.torch_forecasting_model INFO: Train dataset contains 190 samples.\n",
      "2022-10-02 11:18:45 pytorch_lightning.utilities.distributed INFO: GPU available: False, used: False\n",
      "2022-10-02 11:18:45 pytorch_lightning.utilities.distributed INFO: TPU available: False, using: 0 TPU cores\n",
      "2022-10-02 11:18:45 pytorch_lightning.utilities.distributed INFO: IPU available: False, using: 0 IPUs\n",
      "[2022-10-02 11:18:45,215] WARNING | darts.models.forecasting.torch_forecasting_model | Attempting to retrain the model without resuming from a checkpoint. This is currently discouraged. Consider setting `save_checkpoints` to `True` and specifying `model_name` at model creation. Then call `model = TFTModel.load_from_checkpoint(model_name, best=False)`. Finally, train the model with `model.fit(..., epochs=new_epochs)` where `new_epochs` is the sum of (epochs already trained + some additional epochs).\n",
      "[2022-10-02 11:18:45,215] WARNING | darts.models.forecasting.torch_forecasting_model | Attempting to retrain the model without resuming from a checkpoint. This is currently discouraged. Consider setting `save_checkpoints` to `True` and specifying `model_name` at model creation. Then call `model = TFTModel.load_from_checkpoint(model_name, best=False)`. Finally, train the model with `model.fit(..., epochs=new_epochs)` where `new_epochs` is the sum of (epochs already trained + some additional epochs).\n",
      "2022-10-02 11:18:45 darts.models.forecasting.torch_forecasting_model WARNING: Attempting to retrain the model without resuming from a checkpoint. This is currently discouraged. Consider setting `save_checkpoints` to `True` and specifying `model_name` at model creation. Then call `model = TFTModel.load_from_checkpoint(model_name, best=False)`. Finally, train the model with `model.fit(..., epochs=new_epochs)` where `new_epochs` is the sum of (epochs already trained + some additional epochs).\n"
     ]
    },
    {
     "name": "stdout",
     "output_type": "stream",
     "text": [
      "187\n"
     ]
    },
    {
     "data": {
      "application/vnd.jupyter.widget-view+json": {
       "model_id": "7249876b6fb34e3b9c6264dd833a0f57",
       "version_major": 2,
       "version_minor": 0
      },
      "text/plain": [
       "Training: 0it [00:00, ?it/s]"
      ]
     },
     "metadata": {},
     "output_type": "display_data"
    },
    {
     "data": {
      "application/vnd.jupyter.widget-view+json": {
       "model_id": "040bf82be5604918aa888d1da06492bd",
       "version_major": 2,
       "version_minor": 0
      },
      "text/plain": [
       "Predicting: 48it [00:00, ?it/s]"
      ]
     },
     "metadata": {},
     "output_type": "display_data"
    },
    {
     "name": "stderr",
     "output_type": "stream",
     "text": [
      "[2022-10-02 11:18:46,963] INFO | darts.models.forecasting.torch_forecasting_model | Train dataset contains 190 samples.\n",
      "[2022-10-02 11:18:46,963] INFO | darts.models.forecasting.torch_forecasting_model | Train dataset contains 190 samples.\n",
      "2022-10-02 11:18:46 darts.models.forecasting.torch_forecasting_model INFO: Train dataset contains 190 samples.\n",
      "2022-10-02 11:18:46 pytorch_lightning.utilities.distributed INFO: GPU available: False, used: False\n",
      "2022-10-02 11:18:46 pytorch_lightning.utilities.distributed INFO: TPU available: False, using: 0 TPU cores\n",
      "2022-10-02 11:18:46 pytorch_lightning.utilities.distributed INFO: IPU available: False, using: 0 IPUs\n",
      "[2022-10-02 11:18:46,974] WARNING | darts.models.forecasting.torch_forecasting_model | Attempting to retrain the model without resuming from a checkpoint. This is currently discouraged. Consider setting `save_checkpoints` to `True` and specifying `model_name` at model creation. Then call `model = TFTModel.load_from_checkpoint(model_name, best=False)`. Finally, train the model with `model.fit(..., epochs=new_epochs)` where `new_epochs` is the sum of (epochs already trained + some additional epochs).\n",
      "[2022-10-02 11:18:46,974] WARNING | darts.models.forecasting.torch_forecasting_model | Attempting to retrain the model without resuming from a checkpoint. This is currently discouraged. Consider setting `save_checkpoints` to `True` and specifying `model_name` at model creation. Then call `model = TFTModel.load_from_checkpoint(model_name, best=False)`. Finally, train the model with `model.fit(..., epochs=new_epochs)` where `new_epochs` is the sum of (epochs already trained + some additional epochs).\n",
      "2022-10-02 11:18:46 darts.models.forecasting.torch_forecasting_model WARNING: Attempting to retrain the model without resuming from a checkpoint. This is currently discouraged. Consider setting `save_checkpoints` to `True` and specifying `model_name` at model creation. Then call `model = TFTModel.load_from_checkpoint(model_name, best=False)`. Finally, train the model with `model.fit(..., epochs=new_epochs)` where `new_epochs` is the sum of (epochs already trained + some additional epochs).\n"
     ]
    },
    {
     "name": "stdout",
     "output_type": "stream",
     "text": [
      "188\n"
     ]
    },
    {
     "data": {
      "application/vnd.jupyter.widget-view+json": {
       "model_id": "9f5aecc7ddfb4be8b7bc6fd51d94a740",
       "version_major": 2,
       "version_minor": 0
      },
      "text/plain": [
       "Training: 0it [00:00, ?it/s]"
      ]
     },
     "metadata": {},
     "output_type": "display_data"
    },
    {
     "data": {
      "application/vnd.jupyter.widget-view+json": {
       "model_id": "de58d75027be4b61858bd2f14d5b55f5",
       "version_major": 2,
       "version_minor": 0
      },
      "text/plain": [
       "Predicting: 48it [00:00, ?it/s]"
      ]
     },
     "metadata": {},
     "output_type": "display_data"
    },
    {
     "name": "stderr",
     "output_type": "stream",
     "text": [
      "[2022-10-02 11:18:48,640] INFO | darts.models.forecasting.torch_forecasting_model | Train dataset contains 190 samples.\n",
      "[2022-10-02 11:18:48,640] INFO | darts.models.forecasting.torch_forecasting_model | Train dataset contains 190 samples.\n",
      "2022-10-02 11:18:48 darts.models.forecasting.torch_forecasting_model INFO: Train dataset contains 190 samples.\n",
      "2022-10-02 11:18:48 pytorch_lightning.utilities.distributed INFO: GPU available: False, used: False\n",
      "2022-10-02 11:18:48 pytorch_lightning.utilities.distributed INFO: TPU available: False, using: 0 TPU cores\n",
      "2022-10-02 11:18:48 pytorch_lightning.utilities.distributed INFO: IPU available: False, using: 0 IPUs\n",
      "[2022-10-02 11:18:48,650] WARNING | darts.models.forecasting.torch_forecasting_model | Attempting to retrain the model without resuming from a checkpoint. This is currently discouraged. Consider setting `save_checkpoints` to `True` and specifying `model_name` at model creation. Then call `model = TFTModel.load_from_checkpoint(model_name, best=False)`. Finally, train the model with `model.fit(..., epochs=new_epochs)` where `new_epochs` is the sum of (epochs already trained + some additional epochs).\n",
      "[2022-10-02 11:18:48,650] WARNING | darts.models.forecasting.torch_forecasting_model | Attempting to retrain the model without resuming from a checkpoint. This is currently discouraged. Consider setting `save_checkpoints` to `True` and specifying `model_name` at model creation. Then call `model = TFTModel.load_from_checkpoint(model_name, best=False)`. Finally, train the model with `model.fit(..., epochs=new_epochs)` where `new_epochs` is the sum of (epochs already trained + some additional epochs).\n",
      "2022-10-02 11:18:48 darts.models.forecasting.torch_forecasting_model WARNING: Attempting to retrain the model without resuming from a checkpoint. This is currently discouraged. Consider setting `save_checkpoints` to `True` and specifying `model_name` at model creation. Then call `model = TFTModel.load_from_checkpoint(model_name, best=False)`. Finally, train the model with `model.fit(..., epochs=new_epochs)` where `new_epochs` is the sum of (epochs already trained + some additional epochs).\n"
     ]
    },
    {
     "name": "stdout",
     "output_type": "stream",
     "text": [
      "189\n"
     ]
    },
    {
     "data": {
      "application/vnd.jupyter.widget-view+json": {
       "model_id": "bda704a239004821b943347fd8811aed",
       "version_major": 2,
       "version_minor": 0
      },
      "text/plain": [
       "Training: 0it [00:00, ?it/s]"
      ]
     },
     "metadata": {},
     "output_type": "display_data"
    },
    {
     "data": {
      "application/vnd.jupyter.widget-view+json": {
       "model_id": "81b97fad0d6d48768e21a45f2a2b3a67",
       "version_major": 2,
       "version_minor": 0
      },
      "text/plain": [
       "Predicting: 48it [00:00, ?it/s]"
      ]
     },
     "metadata": {},
     "output_type": "display_data"
    },
    {
     "name": "stderr",
     "output_type": "stream",
     "text": [
      "[2022-10-02 11:18:50,369] INFO | darts.models.forecasting.torch_forecasting_model | Train dataset contains 190 samples.\n",
      "[2022-10-02 11:18:50,369] INFO | darts.models.forecasting.torch_forecasting_model | Train dataset contains 190 samples.\n",
      "2022-10-02 11:18:50 darts.models.forecasting.torch_forecasting_model INFO: Train dataset contains 190 samples.\n",
      "2022-10-02 11:18:50 pytorch_lightning.utilities.distributed INFO: GPU available: False, used: False\n",
      "2022-10-02 11:18:50 pytorch_lightning.utilities.distributed INFO: TPU available: False, using: 0 TPU cores\n",
      "2022-10-02 11:18:50 pytorch_lightning.utilities.distributed INFO: IPU available: False, using: 0 IPUs\n",
      "[2022-10-02 11:18:50,377] WARNING | darts.models.forecasting.torch_forecasting_model | Attempting to retrain the model without resuming from a checkpoint. This is currently discouraged. Consider setting `save_checkpoints` to `True` and specifying `model_name` at model creation. Then call `model = TFTModel.load_from_checkpoint(model_name, best=False)`. Finally, train the model with `model.fit(..., epochs=new_epochs)` where `new_epochs` is the sum of (epochs already trained + some additional epochs).\n",
      "[2022-10-02 11:18:50,377] WARNING | darts.models.forecasting.torch_forecasting_model | Attempting to retrain the model without resuming from a checkpoint. This is currently discouraged. Consider setting `save_checkpoints` to `True` and specifying `model_name` at model creation. Then call `model = TFTModel.load_from_checkpoint(model_name, best=False)`. Finally, train the model with `model.fit(..., epochs=new_epochs)` where `new_epochs` is the sum of (epochs already trained + some additional epochs).\n",
      "2022-10-02 11:18:50 darts.models.forecasting.torch_forecasting_model WARNING: Attempting to retrain the model without resuming from a checkpoint. This is currently discouraged. Consider setting `save_checkpoints` to `True` and specifying `model_name` at model creation. Then call `model = TFTModel.load_from_checkpoint(model_name, best=False)`. Finally, train the model with `model.fit(..., epochs=new_epochs)` where `new_epochs` is the sum of (epochs already trained + some additional epochs).\n"
     ]
    },
    {
     "name": "stdout",
     "output_type": "stream",
     "text": [
      "190\n"
     ]
    },
    {
     "data": {
      "application/vnd.jupyter.widget-view+json": {
       "model_id": "13365ff7c21e4bb48d4b6b04b733eac2",
       "version_major": 2,
       "version_minor": 0
      },
      "text/plain": [
       "Training: 0it [00:00, ?it/s]"
      ]
     },
     "metadata": {},
     "output_type": "display_data"
    },
    {
     "data": {
      "application/vnd.jupyter.widget-view+json": {
       "model_id": "2504f04060b146fbaf20fcd78b2d5405",
       "version_major": 2,
       "version_minor": 0
      },
      "text/plain": [
       "Predicting: 48it [00:00, ?it/s]"
      ]
     },
     "metadata": {},
     "output_type": "display_data"
    },
    {
     "name": "stderr",
     "output_type": "stream",
     "text": [
      "[2022-10-02 11:18:52,143] INFO | darts.models.forecasting.torch_forecasting_model | Train dataset contains 190 samples.\n",
      "[2022-10-02 11:18:52,143] INFO | darts.models.forecasting.torch_forecasting_model | Train dataset contains 190 samples.\n",
      "2022-10-02 11:18:52 darts.models.forecasting.torch_forecasting_model INFO: Train dataset contains 190 samples.\n",
      "2022-10-02 11:18:52 pytorch_lightning.utilities.distributed INFO: GPU available: False, used: False\n",
      "2022-10-02 11:18:52 pytorch_lightning.utilities.distributed INFO: TPU available: False, using: 0 TPU cores\n",
      "2022-10-02 11:18:52 pytorch_lightning.utilities.distributed INFO: IPU available: False, using: 0 IPUs\n",
      "[2022-10-02 11:18:52,153] WARNING | darts.models.forecasting.torch_forecasting_model | Attempting to retrain the model without resuming from a checkpoint. This is currently discouraged. Consider setting `save_checkpoints` to `True` and specifying `model_name` at model creation. Then call `model = TFTModel.load_from_checkpoint(model_name, best=False)`. Finally, train the model with `model.fit(..., epochs=new_epochs)` where `new_epochs` is the sum of (epochs already trained + some additional epochs).\n",
      "[2022-10-02 11:18:52,153] WARNING | darts.models.forecasting.torch_forecasting_model | Attempting to retrain the model without resuming from a checkpoint. This is currently discouraged. Consider setting `save_checkpoints` to `True` and specifying `model_name` at model creation. Then call `model = TFTModel.load_from_checkpoint(model_name, best=False)`. Finally, train the model with `model.fit(..., epochs=new_epochs)` where `new_epochs` is the sum of (epochs already trained + some additional epochs).\n",
      "2022-10-02 11:18:52 darts.models.forecasting.torch_forecasting_model WARNING: Attempting to retrain the model without resuming from a checkpoint. This is currently discouraged. Consider setting `save_checkpoints` to `True` and specifying `model_name` at model creation. Then call `model = TFTModel.load_from_checkpoint(model_name, best=False)`. Finally, train the model with `model.fit(..., epochs=new_epochs)` where `new_epochs` is the sum of (epochs already trained + some additional epochs).\n"
     ]
    },
    {
     "name": "stdout",
     "output_type": "stream",
     "text": [
      "191\n"
     ]
    },
    {
     "data": {
      "application/vnd.jupyter.widget-view+json": {
       "model_id": "bb1bdae7822f4ac9a9e0e05312c03ae0",
       "version_major": 2,
       "version_minor": 0
      },
      "text/plain": [
       "Training: 0it [00:00, ?it/s]"
      ]
     },
     "metadata": {},
     "output_type": "display_data"
    },
    {
     "data": {
      "application/vnd.jupyter.widget-view+json": {
       "model_id": "aea909492d7646028c47b36f55db15c3",
       "version_major": 2,
       "version_minor": 0
      },
      "text/plain": [
       "Predicting: 48it [00:00, ?it/s]"
      ]
     },
     "metadata": {},
     "output_type": "display_data"
    },
    {
     "name": "stderr",
     "output_type": "stream",
     "text": [
      "[2022-10-02 11:18:53,844] INFO | darts.models.forecasting.torch_forecasting_model | Train dataset contains 190 samples.\n",
      "[2022-10-02 11:18:53,844] INFO | darts.models.forecasting.torch_forecasting_model | Train dataset contains 190 samples.\n",
      "2022-10-02 11:18:53 darts.models.forecasting.torch_forecasting_model INFO: Train dataset contains 190 samples.\n",
      "2022-10-02 11:18:53 pytorch_lightning.utilities.distributed INFO: GPU available: False, used: False\n",
      "2022-10-02 11:18:53 pytorch_lightning.utilities.distributed INFO: TPU available: False, using: 0 TPU cores\n",
      "2022-10-02 11:18:53 pytorch_lightning.utilities.distributed INFO: IPU available: False, using: 0 IPUs\n",
      "[2022-10-02 11:18:53,853] WARNING | darts.models.forecasting.torch_forecasting_model | Attempting to retrain the model without resuming from a checkpoint. This is currently discouraged. Consider setting `save_checkpoints` to `True` and specifying `model_name` at model creation. Then call `model = TFTModel.load_from_checkpoint(model_name, best=False)`. Finally, train the model with `model.fit(..., epochs=new_epochs)` where `new_epochs` is the sum of (epochs already trained + some additional epochs).\n",
      "[2022-10-02 11:18:53,853] WARNING | darts.models.forecasting.torch_forecasting_model | Attempting to retrain the model without resuming from a checkpoint. This is currently discouraged. Consider setting `save_checkpoints` to `True` and specifying `model_name` at model creation. Then call `model = TFTModel.load_from_checkpoint(model_name, best=False)`. Finally, train the model with `model.fit(..., epochs=new_epochs)` where `new_epochs` is the sum of (epochs already trained + some additional epochs).\n",
      "2022-10-02 11:18:53 darts.models.forecasting.torch_forecasting_model WARNING: Attempting to retrain the model without resuming from a checkpoint. This is currently discouraged. Consider setting `save_checkpoints` to `True` and specifying `model_name` at model creation. Then call `model = TFTModel.load_from_checkpoint(model_name, best=False)`. Finally, train the model with `model.fit(..., epochs=new_epochs)` where `new_epochs` is the sum of (epochs already trained + some additional epochs).\n"
     ]
    },
    {
     "name": "stdout",
     "output_type": "stream",
     "text": [
      "192\n"
     ]
    },
    {
     "data": {
      "application/vnd.jupyter.widget-view+json": {
       "model_id": "a6c3f58b0b434072a42b2dc5375397ea",
       "version_major": 2,
       "version_minor": 0
      },
      "text/plain": [
       "Training: 0it [00:00, ?it/s]"
      ]
     },
     "metadata": {},
     "output_type": "display_data"
    },
    {
     "data": {
      "application/vnd.jupyter.widget-view+json": {
       "model_id": "e4acb1e3e5724831b2da45a9152e43e6",
       "version_major": 2,
       "version_minor": 0
      },
      "text/plain": [
       "Predicting: 48it [00:00, ?it/s]"
      ]
     },
     "metadata": {},
     "output_type": "display_data"
    },
    {
     "name": "stderr",
     "output_type": "stream",
     "text": [
      "[2022-10-02 11:18:55,566] INFO | darts.models.forecasting.torch_forecasting_model | Train dataset contains 190 samples.\n",
      "[2022-10-02 11:18:55,566] INFO | darts.models.forecasting.torch_forecasting_model | Train dataset contains 190 samples.\n",
      "2022-10-02 11:18:55 darts.models.forecasting.torch_forecasting_model INFO: Train dataset contains 190 samples.\n",
      "2022-10-02 11:18:55 pytorch_lightning.utilities.distributed INFO: GPU available: False, used: False\n",
      "2022-10-02 11:18:55 pytorch_lightning.utilities.distributed INFO: TPU available: False, using: 0 TPU cores\n",
      "2022-10-02 11:18:55 pytorch_lightning.utilities.distributed INFO: IPU available: False, using: 0 IPUs\n",
      "[2022-10-02 11:18:55,577] WARNING | darts.models.forecasting.torch_forecasting_model | Attempting to retrain the model without resuming from a checkpoint. This is currently discouraged. Consider setting `save_checkpoints` to `True` and specifying `model_name` at model creation. Then call `model = TFTModel.load_from_checkpoint(model_name, best=False)`. Finally, train the model with `model.fit(..., epochs=new_epochs)` where `new_epochs` is the sum of (epochs already trained + some additional epochs).\n",
      "[2022-10-02 11:18:55,577] WARNING | darts.models.forecasting.torch_forecasting_model | Attempting to retrain the model without resuming from a checkpoint. This is currently discouraged. Consider setting `save_checkpoints` to `True` and specifying `model_name` at model creation. Then call `model = TFTModel.load_from_checkpoint(model_name, best=False)`. Finally, train the model with `model.fit(..., epochs=new_epochs)` where `new_epochs` is the sum of (epochs already trained + some additional epochs).\n",
      "2022-10-02 11:18:55 darts.models.forecasting.torch_forecasting_model WARNING: Attempting to retrain the model without resuming from a checkpoint. This is currently discouraged. Consider setting `save_checkpoints` to `True` and specifying `model_name` at model creation. Then call `model = TFTModel.load_from_checkpoint(model_name, best=False)`. Finally, train the model with `model.fit(..., epochs=new_epochs)` where `new_epochs` is the sum of (epochs already trained + some additional epochs).\n"
     ]
    },
    {
     "name": "stdout",
     "output_type": "stream",
     "text": [
      "193\n"
     ]
    },
    {
     "data": {
      "application/vnd.jupyter.widget-view+json": {
       "model_id": "df4a22a31c3947179cda96cfa2bfd6a0",
       "version_major": 2,
       "version_minor": 0
      },
      "text/plain": [
       "Training: 0it [00:00, ?it/s]"
      ]
     },
     "metadata": {},
     "output_type": "display_data"
    },
    {
     "data": {
      "application/vnd.jupyter.widget-view+json": {
       "model_id": "ba2b7a8ee19f42ee8073a3b32d555ac1",
       "version_major": 2,
       "version_minor": 0
      },
      "text/plain": [
       "Predicting: 48it [00:00, ?it/s]"
      ]
     },
     "metadata": {},
     "output_type": "display_data"
    },
    {
     "name": "stderr",
     "output_type": "stream",
     "text": [
      "[2022-10-02 11:18:57,282] INFO | darts.models.forecasting.torch_forecasting_model | Train dataset contains 190 samples.\n",
      "[2022-10-02 11:18:57,282] INFO | darts.models.forecasting.torch_forecasting_model | Train dataset contains 190 samples.\n",
      "2022-10-02 11:18:57 darts.models.forecasting.torch_forecasting_model INFO: Train dataset contains 190 samples.\n",
      "2022-10-02 11:18:57 pytorch_lightning.utilities.distributed INFO: GPU available: False, used: False\n",
      "2022-10-02 11:18:57 pytorch_lightning.utilities.distributed INFO: TPU available: False, using: 0 TPU cores\n",
      "2022-10-02 11:18:57 pytorch_lightning.utilities.distributed INFO: IPU available: False, using: 0 IPUs\n",
      "[2022-10-02 11:18:57,291] WARNING | darts.models.forecasting.torch_forecasting_model | Attempting to retrain the model without resuming from a checkpoint. This is currently discouraged. Consider setting `save_checkpoints` to `True` and specifying `model_name` at model creation. Then call `model = TFTModel.load_from_checkpoint(model_name, best=False)`. Finally, train the model with `model.fit(..., epochs=new_epochs)` where `new_epochs` is the sum of (epochs already trained + some additional epochs).\n",
      "[2022-10-02 11:18:57,291] WARNING | darts.models.forecasting.torch_forecasting_model | Attempting to retrain the model without resuming from a checkpoint. This is currently discouraged. Consider setting `save_checkpoints` to `True` and specifying `model_name` at model creation. Then call `model = TFTModel.load_from_checkpoint(model_name, best=False)`. Finally, train the model with `model.fit(..., epochs=new_epochs)` where `new_epochs` is the sum of (epochs already trained + some additional epochs).\n",
      "2022-10-02 11:18:57 darts.models.forecasting.torch_forecasting_model WARNING: Attempting to retrain the model without resuming from a checkpoint. This is currently discouraged. Consider setting `save_checkpoints` to `True` and specifying `model_name` at model creation. Then call `model = TFTModel.load_from_checkpoint(model_name, best=False)`. Finally, train the model with `model.fit(..., epochs=new_epochs)` where `new_epochs` is the sum of (epochs already trained + some additional epochs).\n"
     ]
    },
    {
     "name": "stdout",
     "output_type": "stream",
     "text": [
      "194\n"
     ]
    },
    {
     "data": {
      "application/vnd.jupyter.widget-view+json": {
       "model_id": "c8cfe36ac94047e0890773cd541979f7",
       "version_major": 2,
       "version_minor": 0
      },
      "text/plain": [
       "Training: 0it [00:00, ?it/s]"
      ]
     },
     "metadata": {},
     "output_type": "display_data"
    },
    {
     "data": {
      "application/vnd.jupyter.widget-view+json": {
       "model_id": "0e68f3d7928341a8886c95bd7e1e4ece",
       "version_major": 2,
       "version_minor": 0
      },
      "text/plain": [
       "Predicting: 48it [00:00, ?it/s]"
      ]
     },
     "metadata": {},
     "output_type": "display_data"
    },
    {
     "name": "stderr",
     "output_type": "stream",
     "text": [
      "[2022-10-02 11:18:59,033] INFO | darts.models.forecasting.torch_forecasting_model | Train dataset contains 190 samples.\n",
      "[2022-10-02 11:18:59,033] INFO | darts.models.forecasting.torch_forecasting_model | Train dataset contains 190 samples.\n",
      "2022-10-02 11:18:59 darts.models.forecasting.torch_forecasting_model INFO: Train dataset contains 190 samples.\n",
      "2022-10-02 11:18:59 pytorch_lightning.utilities.distributed INFO: GPU available: False, used: False\n",
      "2022-10-02 11:18:59 pytorch_lightning.utilities.distributed INFO: TPU available: False, using: 0 TPU cores\n",
      "2022-10-02 11:18:59 pytorch_lightning.utilities.distributed INFO: IPU available: False, using: 0 IPUs\n",
      "[2022-10-02 11:18:59,042] WARNING | darts.models.forecasting.torch_forecasting_model | Attempting to retrain the model without resuming from a checkpoint. This is currently discouraged. Consider setting `save_checkpoints` to `True` and specifying `model_name` at model creation. Then call `model = TFTModel.load_from_checkpoint(model_name, best=False)`. Finally, train the model with `model.fit(..., epochs=new_epochs)` where `new_epochs` is the sum of (epochs already trained + some additional epochs).\n",
      "[2022-10-02 11:18:59,042] WARNING | darts.models.forecasting.torch_forecasting_model | Attempting to retrain the model without resuming from a checkpoint. This is currently discouraged. Consider setting `save_checkpoints` to `True` and specifying `model_name` at model creation. Then call `model = TFTModel.load_from_checkpoint(model_name, best=False)`. Finally, train the model with `model.fit(..., epochs=new_epochs)` where `new_epochs` is the sum of (epochs already trained + some additional epochs).\n",
      "2022-10-02 11:18:59 darts.models.forecasting.torch_forecasting_model WARNING: Attempting to retrain the model without resuming from a checkpoint. This is currently discouraged. Consider setting `save_checkpoints` to `True` and specifying `model_name` at model creation. Then call `model = TFTModel.load_from_checkpoint(model_name, best=False)`. Finally, train the model with `model.fit(..., epochs=new_epochs)` where `new_epochs` is the sum of (epochs already trained + some additional epochs).\n"
     ]
    },
    {
     "name": "stdout",
     "output_type": "stream",
     "text": [
      "195\n"
     ]
    },
    {
     "data": {
      "application/vnd.jupyter.widget-view+json": {
       "model_id": "44773e5943e547a0992d7bc0b233c002",
       "version_major": 2,
       "version_minor": 0
      },
      "text/plain": [
       "Training: 0it [00:00, ?it/s]"
      ]
     },
     "metadata": {},
     "output_type": "display_data"
    },
    {
     "data": {
      "application/vnd.jupyter.widget-view+json": {
       "model_id": "908a95d5eaf34f988a25b05c29936959",
       "version_major": 2,
       "version_minor": 0
      },
      "text/plain": [
       "Predicting: 48it [00:00, ?it/s]"
      ]
     },
     "metadata": {},
     "output_type": "display_data"
    },
    {
     "name": "stderr",
     "output_type": "stream",
     "text": [
      "[2022-10-02 11:19:00,735] INFO | darts.models.forecasting.torch_forecasting_model | Train dataset contains 190 samples.\n",
      "[2022-10-02 11:19:00,735] INFO | darts.models.forecasting.torch_forecasting_model | Train dataset contains 190 samples.\n",
      "2022-10-02 11:19:00 darts.models.forecasting.torch_forecasting_model INFO: Train dataset contains 190 samples.\n",
      "2022-10-02 11:19:00 pytorch_lightning.utilities.distributed INFO: GPU available: False, used: False\n",
      "2022-10-02 11:19:00 pytorch_lightning.utilities.distributed INFO: TPU available: False, using: 0 TPU cores\n",
      "2022-10-02 11:19:00 pytorch_lightning.utilities.distributed INFO: IPU available: False, using: 0 IPUs\n",
      "[2022-10-02 11:19:00,742] WARNING | darts.models.forecasting.torch_forecasting_model | Attempting to retrain the model without resuming from a checkpoint. This is currently discouraged. Consider setting `save_checkpoints` to `True` and specifying `model_name` at model creation. Then call `model = TFTModel.load_from_checkpoint(model_name, best=False)`. Finally, train the model with `model.fit(..., epochs=new_epochs)` where `new_epochs` is the sum of (epochs already trained + some additional epochs).\n",
      "[2022-10-02 11:19:00,742] WARNING | darts.models.forecasting.torch_forecasting_model | Attempting to retrain the model without resuming from a checkpoint. This is currently discouraged. Consider setting `save_checkpoints` to `True` and specifying `model_name` at model creation. Then call `model = TFTModel.load_from_checkpoint(model_name, best=False)`. Finally, train the model with `model.fit(..., epochs=new_epochs)` where `new_epochs` is the sum of (epochs already trained + some additional epochs).\n",
      "2022-10-02 11:19:00 darts.models.forecasting.torch_forecasting_model WARNING: Attempting to retrain the model without resuming from a checkpoint. This is currently discouraged. Consider setting `save_checkpoints` to `True` and specifying `model_name` at model creation. Then call `model = TFTModel.load_from_checkpoint(model_name, best=False)`. Finally, train the model with `model.fit(..., epochs=new_epochs)` where `new_epochs` is the sum of (epochs already trained + some additional epochs).\n"
     ]
    },
    {
     "name": "stdout",
     "output_type": "stream",
     "text": [
      "196\n"
     ]
    },
    {
     "data": {
      "application/vnd.jupyter.widget-view+json": {
       "model_id": "4df2171b2b8e4142aa6c7bd3a22b925f",
       "version_major": 2,
       "version_minor": 0
      },
      "text/plain": [
       "Training: 0it [00:00, ?it/s]"
      ]
     },
     "metadata": {},
     "output_type": "display_data"
    },
    {
     "data": {
      "application/vnd.jupyter.widget-view+json": {
       "model_id": "9555c3ae8c804c0bb0b3ad5cb6d1f084",
       "version_major": 2,
       "version_minor": 0
      },
      "text/plain": [
       "Predicting: 48it [00:00, ?it/s]"
      ]
     },
     "metadata": {},
     "output_type": "display_data"
    },
    {
     "name": "stderr",
     "output_type": "stream",
     "text": [
      "[2022-10-02 11:19:02,507] INFO | darts.models.forecasting.torch_forecasting_model | Train dataset contains 190 samples.\n",
      "[2022-10-02 11:19:02,507] INFO | darts.models.forecasting.torch_forecasting_model | Train dataset contains 190 samples.\n",
      "2022-10-02 11:19:02 darts.models.forecasting.torch_forecasting_model INFO: Train dataset contains 190 samples.\n",
      "2022-10-02 11:19:02 pytorch_lightning.utilities.distributed INFO: GPU available: False, used: False\n",
      "2022-10-02 11:19:02 pytorch_lightning.utilities.distributed INFO: TPU available: False, using: 0 TPU cores\n",
      "2022-10-02 11:19:02 pytorch_lightning.utilities.distributed INFO: IPU available: False, using: 0 IPUs\n",
      "[2022-10-02 11:19:02,516] WARNING | darts.models.forecasting.torch_forecasting_model | Attempting to retrain the model without resuming from a checkpoint. This is currently discouraged. Consider setting `save_checkpoints` to `True` and specifying `model_name` at model creation. Then call `model = TFTModel.load_from_checkpoint(model_name, best=False)`. Finally, train the model with `model.fit(..., epochs=new_epochs)` where `new_epochs` is the sum of (epochs already trained + some additional epochs).\n",
      "[2022-10-02 11:19:02,516] WARNING | darts.models.forecasting.torch_forecasting_model | Attempting to retrain the model without resuming from a checkpoint. This is currently discouraged. Consider setting `save_checkpoints` to `True` and specifying `model_name` at model creation. Then call `model = TFTModel.load_from_checkpoint(model_name, best=False)`. Finally, train the model with `model.fit(..., epochs=new_epochs)` where `new_epochs` is the sum of (epochs already trained + some additional epochs).\n",
      "2022-10-02 11:19:02 darts.models.forecasting.torch_forecasting_model WARNING: Attempting to retrain the model without resuming from a checkpoint. This is currently discouraged. Consider setting `save_checkpoints` to `True` and specifying `model_name` at model creation. Then call `model = TFTModel.load_from_checkpoint(model_name, best=False)`. Finally, train the model with `model.fit(..., epochs=new_epochs)` where `new_epochs` is the sum of (epochs already trained + some additional epochs).\n"
     ]
    },
    {
     "name": "stdout",
     "output_type": "stream",
     "text": [
      "197\n"
     ]
    },
    {
     "data": {
      "application/vnd.jupyter.widget-view+json": {
       "model_id": "956881696c4048ceb3451e3c77d5fef2",
       "version_major": 2,
       "version_minor": 0
      },
      "text/plain": [
       "Training: 0it [00:00, ?it/s]"
      ]
     },
     "metadata": {},
     "output_type": "display_data"
    },
    {
     "data": {
      "application/vnd.jupyter.widget-view+json": {
       "model_id": "0beb412769e543ceab864662613a60a6",
       "version_major": 2,
       "version_minor": 0
      },
      "text/plain": [
       "Predicting: 48it [00:00, ?it/s]"
      ]
     },
     "metadata": {},
     "output_type": "display_data"
    },
    {
     "name": "stderr",
     "output_type": "stream",
     "text": [
      "[2022-10-02 11:19:04,248] INFO | darts.models.forecasting.torch_forecasting_model | Train dataset contains 190 samples.\n",
      "[2022-10-02 11:19:04,248] INFO | darts.models.forecasting.torch_forecasting_model | Train dataset contains 190 samples.\n",
      "2022-10-02 11:19:04 darts.models.forecasting.torch_forecasting_model INFO: Train dataset contains 190 samples.\n",
      "2022-10-02 11:19:04 pytorch_lightning.utilities.distributed INFO: GPU available: False, used: False\n",
      "2022-10-02 11:19:04 pytorch_lightning.utilities.distributed INFO: TPU available: False, using: 0 TPU cores\n",
      "2022-10-02 11:19:04 pytorch_lightning.utilities.distributed INFO: IPU available: False, using: 0 IPUs\n",
      "[2022-10-02 11:19:04,257] WARNING | darts.models.forecasting.torch_forecasting_model | Attempting to retrain the model without resuming from a checkpoint. This is currently discouraged. Consider setting `save_checkpoints` to `True` and specifying `model_name` at model creation. Then call `model = TFTModel.load_from_checkpoint(model_name, best=False)`. Finally, train the model with `model.fit(..., epochs=new_epochs)` where `new_epochs` is the sum of (epochs already trained + some additional epochs).\n",
      "[2022-10-02 11:19:04,257] WARNING | darts.models.forecasting.torch_forecasting_model | Attempting to retrain the model without resuming from a checkpoint. This is currently discouraged. Consider setting `save_checkpoints` to `True` and specifying `model_name` at model creation. Then call `model = TFTModel.load_from_checkpoint(model_name, best=False)`. Finally, train the model with `model.fit(..., epochs=new_epochs)` where `new_epochs` is the sum of (epochs already trained + some additional epochs).\n",
      "2022-10-02 11:19:04 darts.models.forecasting.torch_forecasting_model WARNING: Attempting to retrain the model without resuming from a checkpoint. This is currently discouraged. Consider setting `save_checkpoints` to `True` and specifying `model_name` at model creation. Then call `model = TFTModel.load_from_checkpoint(model_name, best=False)`. Finally, train the model with `model.fit(..., epochs=new_epochs)` where `new_epochs` is the sum of (epochs already trained + some additional epochs).\n"
     ]
    },
    {
     "name": "stdout",
     "output_type": "stream",
     "text": [
      "198\n"
     ]
    },
    {
     "data": {
      "application/vnd.jupyter.widget-view+json": {
       "model_id": "5489abed6e3e485fb62339647f363f01",
       "version_major": 2,
       "version_minor": 0
      },
      "text/plain": [
       "Training: 0it [00:00, ?it/s]"
      ]
     },
     "metadata": {},
     "output_type": "display_data"
    },
    {
     "data": {
      "application/vnd.jupyter.widget-view+json": {
       "model_id": "9cccc9b2a2d14800be18f4d2273882e9",
       "version_major": 2,
       "version_minor": 0
      },
      "text/plain": [
       "Predicting: 48it [00:00, ?it/s]"
      ]
     },
     "metadata": {},
     "output_type": "display_data"
    },
    {
     "name": "stderr",
     "output_type": "stream",
     "text": [
      "[2022-10-02 11:19:05,991] INFO | darts.models.forecasting.torch_forecasting_model | Train dataset contains 190 samples.\n",
      "[2022-10-02 11:19:05,991] INFO | darts.models.forecasting.torch_forecasting_model | Train dataset contains 190 samples.\n",
      "2022-10-02 11:19:05 darts.models.forecasting.torch_forecasting_model INFO: Train dataset contains 190 samples.\n",
      "2022-10-02 11:19:05 pytorch_lightning.utilities.distributed INFO: GPU available: False, used: False\n",
      "2022-10-02 11:19:05 pytorch_lightning.utilities.distributed INFO: TPU available: False, using: 0 TPU cores\n",
      "2022-10-02 11:19:05 pytorch_lightning.utilities.distributed INFO: IPU available: False, using: 0 IPUs\n",
      "[2022-10-02 11:19:05,999] WARNING | darts.models.forecasting.torch_forecasting_model | Attempting to retrain the model without resuming from a checkpoint. This is currently discouraged. Consider setting `save_checkpoints` to `True` and specifying `model_name` at model creation. Then call `model = TFTModel.load_from_checkpoint(model_name, best=False)`. Finally, train the model with `model.fit(..., epochs=new_epochs)` where `new_epochs` is the sum of (epochs already trained + some additional epochs).\n",
      "[2022-10-02 11:19:05,999] WARNING | darts.models.forecasting.torch_forecasting_model | Attempting to retrain the model without resuming from a checkpoint. This is currently discouraged. Consider setting `save_checkpoints` to `True` and specifying `model_name` at model creation. Then call `model = TFTModel.load_from_checkpoint(model_name, best=False)`. Finally, train the model with `model.fit(..., epochs=new_epochs)` where `new_epochs` is the sum of (epochs already trained + some additional epochs).\n",
      "2022-10-02 11:19:05 darts.models.forecasting.torch_forecasting_model WARNING: Attempting to retrain the model without resuming from a checkpoint. This is currently discouraged. Consider setting `save_checkpoints` to `True` and specifying `model_name` at model creation. Then call `model = TFTModel.load_from_checkpoint(model_name, best=False)`. Finally, train the model with `model.fit(..., epochs=new_epochs)` where `new_epochs` is the sum of (epochs already trained + some additional epochs).\n"
     ]
    },
    {
     "name": "stdout",
     "output_type": "stream",
     "text": [
      "199\n"
     ]
    },
    {
     "data": {
      "application/vnd.jupyter.widget-view+json": {
       "model_id": "187860002d764da08080c1ab8c96a38d",
       "version_major": 2,
       "version_minor": 0
      },
      "text/plain": [
       "Training: 0it [00:00, ?it/s]"
      ]
     },
     "metadata": {},
     "output_type": "display_data"
    },
    {
     "data": {
      "application/vnd.jupyter.widget-view+json": {
       "model_id": "6b1fb3d0f12449e78fef318d9eaa899a",
       "version_major": 2,
       "version_minor": 0
      },
      "text/plain": [
       "Predicting: 48it [00:00, ?it/s]"
      ]
     },
     "metadata": {},
     "output_type": "display_data"
    },
    {
     "name": "stderr",
     "output_type": "stream",
     "text": [
      "[2022-10-02 11:19:07,706] INFO | darts.models.forecasting.torch_forecasting_model | Train dataset contains 190 samples.\n",
      "[2022-10-02 11:19:07,706] INFO | darts.models.forecasting.torch_forecasting_model | Train dataset contains 190 samples.\n",
      "2022-10-02 11:19:07 darts.models.forecasting.torch_forecasting_model INFO: Train dataset contains 190 samples.\n",
      "2022-10-02 11:19:07 pytorch_lightning.utilities.distributed INFO: GPU available: False, used: False\n",
      "2022-10-02 11:19:07 pytorch_lightning.utilities.distributed INFO: TPU available: False, using: 0 TPU cores\n",
      "2022-10-02 11:19:07 pytorch_lightning.utilities.distributed INFO: IPU available: False, using: 0 IPUs\n",
      "[2022-10-02 11:19:07,716] WARNING | darts.models.forecasting.torch_forecasting_model | Attempting to retrain the model without resuming from a checkpoint. This is currently discouraged. Consider setting `save_checkpoints` to `True` and specifying `model_name` at model creation. Then call `model = TFTModel.load_from_checkpoint(model_name, best=False)`. Finally, train the model with `model.fit(..., epochs=new_epochs)` where `new_epochs` is the sum of (epochs already trained + some additional epochs).\n",
      "[2022-10-02 11:19:07,716] WARNING | darts.models.forecasting.torch_forecasting_model | Attempting to retrain the model without resuming from a checkpoint. This is currently discouraged. Consider setting `save_checkpoints` to `True` and specifying `model_name` at model creation. Then call `model = TFTModel.load_from_checkpoint(model_name, best=False)`. Finally, train the model with `model.fit(..., epochs=new_epochs)` where `new_epochs` is the sum of (epochs already trained + some additional epochs).\n",
      "2022-10-02 11:19:07 darts.models.forecasting.torch_forecasting_model WARNING: Attempting to retrain the model without resuming from a checkpoint. This is currently discouraged. Consider setting `save_checkpoints` to `True` and specifying `model_name` at model creation. Then call `model = TFTModel.load_from_checkpoint(model_name, best=False)`. Finally, train the model with `model.fit(..., epochs=new_epochs)` where `new_epochs` is the sum of (epochs already trained + some additional epochs).\n"
     ]
    },
    {
     "name": "stdout",
     "output_type": "stream",
     "text": [
      "200\n"
     ]
    },
    {
     "data": {
      "application/vnd.jupyter.widget-view+json": {
       "model_id": "5192fce6ee6c4511be7a538afaa12d75",
       "version_major": 2,
       "version_minor": 0
      },
      "text/plain": [
       "Training: 0it [00:00, ?it/s]"
      ]
     },
     "metadata": {},
     "output_type": "display_data"
    },
    {
     "data": {
      "application/vnd.jupyter.widget-view+json": {
       "model_id": "fccee1dca7f0474fbd1335cecd4dff74",
       "version_major": 2,
       "version_minor": 0
      },
      "text/plain": [
       "Predicting: 48it [00:00, ?it/s]"
      ]
     },
     "metadata": {},
     "output_type": "display_data"
    },
    {
     "name": "stderr",
     "output_type": "stream",
     "text": [
      "[2022-10-02 11:19:09,491] INFO | darts.models.forecasting.torch_forecasting_model | Train dataset contains 190 samples.\n",
      "[2022-10-02 11:19:09,491] INFO | darts.models.forecasting.torch_forecasting_model | Train dataset contains 190 samples.\n",
      "2022-10-02 11:19:09 darts.models.forecasting.torch_forecasting_model INFO: Train dataset contains 190 samples.\n",
      "2022-10-02 11:19:09 pytorch_lightning.utilities.distributed INFO: GPU available: False, used: False\n",
      "2022-10-02 11:19:09 pytorch_lightning.utilities.distributed INFO: TPU available: False, using: 0 TPU cores\n",
      "2022-10-02 11:19:09 pytorch_lightning.utilities.distributed INFO: IPU available: False, using: 0 IPUs\n",
      "[2022-10-02 11:19:09,502] WARNING | darts.models.forecasting.torch_forecasting_model | Attempting to retrain the model without resuming from a checkpoint. This is currently discouraged. Consider setting `save_checkpoints` to `True` and specifying `model_name` at model creation. Then call `model = TFTModel.load_from_checkpoint(model_name, best=False)`. Finally, train the model with `model.fit(..., epochs=new_epochs)` where `new_epochs` is the sum of (epochs already trained + some additional epochs).\n",
      "[2022-10-02 11:19:09,502] WARNING | darts.models.forecasting.torch_forecasting_model | Attempting to retrain the model without resuming from a checkpoint. This is currently discouraged. Consider setting `save_checkpoints` to `True` and specifying `model_name` at model creation. Then call `model = TFTModel.load_from_checkpoint(model_name, best=False)`. Finally, train the model with `model.fit(..., epochs=new_epochs)` where `new_epochs` is the sum of (epochs already trained + some additional epochs).\n",
      "2022-10-02 11:19:09 darts.models.forecasting.torch_forecasting_model WARNING: Attempting to retrain the model without resuming from a checkpoint. This is currently discouraged. Consider setting `save_checkpoints` to `True` and specifying `model_name` at model creation. Then call `model = TFTModel.load_from_checkpoint(model_name, best=False)`. Finally, train the model with `model.fit(..., epochs=new_epochs)` where `new_epochs` is the sum of (epochs already trained + some additional epochs).\n"
     ]
    },
    {
     "name": "stdout",
     "output_type": "stream",
     "text": [
      "201\n"
     ]
    },
    {
     "data": {
      "application/vnd.jupyter.widget-view+json": {
       "model_id": "e09ebb9cb56147c1a9e5949d8b9ba8ca",
       "version_major": 2,
       "version_minor": 0
      },
      "text/plain": [
       "Training: 0it [00:00, ?it/s]"
      ]
     },
     "metadata": {},
     "output_type": "display_data"
    },
    {
     "data": {
      "application/vnd.jupyter.widget-view+json": {
       "model_id": "3f789f188c064682afd66df92b54eec2",
       "version_major": 2,
       "version_minor": 0
      },
      "text/plain": [
       "Predicting: 48it [00:00, ?it/s]"
      ]
     },
     "metadata": {},
     "output_type": "display_data"
    },
    {
     "name": "stderr",
     "output_type": "stream",
     "text": [
      "[2022-10-02 11:19:11,219] INFO | darts.models.forecasting.torch_forecasting_model | Train dataset contains 190 samples.\n",
      "[2022-10-02 11:19:11,219] INFO | darts.models.forecasting.torch_forecasting_model | Train dataset contains 190 samples.\n",
      "2022-10-02 11:19:11 darts.models.forecasting.torch_forecasting_model INFO: Train dataset contains 190 samples.\n",
      "2022-10-02 11:19:11 pytorch_lightning.utilities.distributed INFO: GPU available: False, used: False\n",
      "2022-10-02 11:19:11 pytorch_lightning.utilities.distributed INFO: TPU available: False, using: 0 TPU cores\n",
      "2022-10-02 11:19:11 pytorch_lightning.utilities.distributed INFO: IPU available: False, using: 0 IPUs\n",
      "[2022-10-02 11:19:11,227] WARNING | darts.models.forecasting.torch_forecasting_model | Attempting to retrain the model without resuming from a checkpoint. This is currently discouraged. Consider setting `save_checkpoints` to `True` and specifying `model_name` at model creation. Then call `model = TFTModel.load_from_checkpoint(model_name, best=False)`. Finally, train the model with `model.fit(..., epochs=new_epochs)` where `new_epochs` is the sum of (epochs already trained + some additional epochs).\n",
      "[2022-10-02 11:19:11,227] WARNING | darts.models.forecasting.torch_forecasting_model | Attempting to retrain the model without resuming from a checkpoint. This is currently discouraged. Consider setting `save_checkpoints` to `True` and specifying `model_name` at model creation. Then call `model = TFTModel.load_from_checkpoint(model_name, best=False)`. Finally, train the model with `model.fit(..., epochs=new_epochs)` where `new_epochs` is the sum of (epochs already trained + some additional epochs).\n",
      "2022-10-02 11:19:11 darts.models.forecasting.torch_forecasting_model WARNING: Attempting to retrain the model without resuming from a checkpoint. This is currently discouraged. Consider setting `save_checkpoints` to `True` and specifying `model_name` at model creation. Then call `model = TFTModel.load_from_checkpoint(model_name, best=False)`. Finally, train the model with `model.fit(..., epochs=new_epochs)` where `new_epochs` is the sum of (epochs already trained + some additional epochs).\n"
     ]
    },
    {
     "name": "stdout",
     "output_type": "stream",
     "text": [
      "202\n"
     ]
    },
    {
     "data": {
      "application/vnd.jupyter.widget-view+json": {
       "model_id": "299263032be04b728190b241ecc829d9",
       "version_major": 2,
       "version_minor": 0
      },
      "text/plain": [
       "Training: 0it [00:00, ?it/s]"
      ]
     },
     "metadata": {},
     "output_type": "display_data"
    },
    {
     "data": {
      "application/vnd.jupyter.widget-view+json": {
       "model_id": "8cec0a97013349f3923d7d15a37749fb",
       "version_major": 2,
       "version_minor": 0
      },
      "text/plain": [
       "Predicting: 48it [00:00, ?it/s]"
      ]
     },
     "metadata": {},
     "output_type": "display_data"
    },
    {
     "name": "stderr",
     "output_type": "stream",
     "text": [
      "[2022-10-02 11:19:12,954] INFO | darts.models.forecasting.torch_forecasting_model | Train dataset contains 190 samples.\n",
      "[2022-10-02 11:19:12,954] INFO | darts.models.forecasting.torch_forecasting_model | Train dataset contains 190 samples.\n",
      "2022-10-02 11:19:12 darts.models.forecasting.torch_forecasting_model INFO: Train dataset contains 190 samples.\n",
      "2022-10-02 11:19:12 pytorch_lightning.utilities.distributed INFO: GPU available: False, used: False\n",
      "2022-10-02 11:19:12 pytorch_lightning.utilities.distributed INFO: TPU available: False, using: 0 TPU cores\n",
      "2022-10-02 11:19:12 pytorch_lightning.utilities.distributed INFO: IPU available: False, using: 0 IPUs\n",
      "[2022-10-02 11:19:12,962] WARNING | darts.models.forecasting.torch_forecasting_model | Attempting to retrain the model without resuming from a checkpoint. This is currently discouraged. Consider setting `save_checkpoints` to `True` and specifying `model_name` at model creation. Then call `model = TFTModel.load_from_checkpoint(model_name, best=False)`. Finally, train the model with `model.fit(..., epochs=new_epochs)` where `new_epochs` is the sum of (epochs already trained + some additional epochs).\n",
      "[2022-10-02 11:19:12,962] WARNING | darts.models.forecasting.torch_forecasting_model | Attempting to retrain the model without resuming from a checkpoint. This is currently discouraged. Consider setting `save_checkpoints` to `True` and specifying `model_name` at model creation. Then call `model = TFTModel.load_from_checkpoint(model_name, best=False)`. Finally, train the model with `model.fit(..., epochs=new_epochs)` where `new_epochs` is the sum of (epochs already trained + some additional epochs).\n",
      "2022-10-02 11:19:12 darts.models.forecasting.torch_forecasting_model WARNING: Attempting to retrain the model without resuming from a checkpoint. This is currently discouraged. Consider setting `save_checkpoints` to `True` and specifying `model_name` at model creation. Then call `model = TFTModel.load_from_checkpoint(model_name, best=False)`. Finally, train the model with `model.fit(..., epochs=new_epochs)` where `new_epochs` is the sum of (epochs already trained + some additional epochs).\n"
     ]
    },
    {
     "name": "stdout",
     "output_type": "stream",
     "text": [
      "203\n"
     ]
    },
    {
     "data": {
      "application/vnd.jupyter.widget-view+json": {
       "model_id": "6f76990f32ea4a86959c7703f804b336",
       "version_major": 2,
       "version_minor": 0
      },
      "text/plain": [
       "Training: 0it [00:00, ?it/s]"
      ]
     },
     "metadata": {},
     "output_type": "display_data"
    },
    {
     "data": {
      "application/vnd.jupyter.widget-view+json": {
       "model_id": "4367e2b038ba4317895c76b0a83a0bcf",
       "version_major": 2,
       "version_minor": 0
      },
      "text/plain": [
       "Predicting: 48it [00:00, ?it/s]"
      ]
     },
     "metadata": {},
     "output_type": "display_data"
    },
    {
     "name": "stderr",
     "output_type": "stream",
     "text": [
      "[2022-10-02 11:19:14,684] INFO | darts.models.forecasting.torch_forecasting_model | Train dataset contains 190 samples.\n",
      "[2022-10-02 11:19:14,684] INFO | darts.models.forecasting.torch_forecasting_model | Train dataset contains 190 samples.\n",
      "2022-10-02 11:19:14 darts.models.forecasting.torch_forecasting_model INFO: Train dataset contains 190 samples.\n",
      "2022-10-02 11:19:14 pytorch_lightning.utilities.distributed INFO: GPU available: False, used: False\n",
      "2022-10-02 11:19:14 pytorch_lightning.utilities.distributed INFO: TPU available: False, using: 0 TPU cores\n",
      "2022-10-02 11:19:14 pytorch_lightning.utilities.distributed INFO: IPU available: False, using: 0 IPUs\n",
      "[2022-10-02 11:19:14,694] WARNING | darts.models.forecasting.torch_forecasting_model | Attempting to retrain the model without resuming from a checkpoint. This is currently discouraged. Consider setting `save_checkpoints` to `True` and specifying `model_name` at model creation. Then call `model = TFTModel.load_from_checkpoint(model_name, best=False)`. Finally, train the model with `model.fit(..., epochs=new_epochs)` where `new_epochs` is the sum of (epochs already trained + some additional epochs).\n",
      "[2022-10-02 11:19:14,694] WARNING | darts.models.forecasting.torch_forecasting_model | Attempting to retrain the model without resuming from a checkpoint. This is currently discouraged. Consider setting `save_checkpoints` to `True` and specifying `model_name` at model creation. Then call `model = TFTModel.load_from_checkpoint(model_name, best=False)`. Finally, train the model with `model.fit(..., epochs=new_epochs)` where `new_epochs` is the sum of (epochs already trained + some additional epochs).\n",
      "2022-10-02 11:19:14 darts.models.forecasting.torch_forecasting_model WARNING: Attempting to retrain the model without resuming from a checkpoint. This is currently discouraged. Consider setting `save_checkpoints` to `True` and specifying `model_name` at model creation. Then call `model = TFTModel.load_from_checkpoint(model_name, best=False)`. Finally, train the model with `model.fit(..., epochs=new_epochs)` where `new_epochs` is the sum of (epochs already trained + some additional epochs).\n"
     ]
    },
    {
     "name": "stdout",
     "output_type": "stream",
     "text": [
      "204\n"
     ]
    },
    {
     "data": {
      "application/vnd.jupyter.widget-view+json": {
       "model_id": "50fea0fdd8d6442bbcb20dce6af6ecf8",
       "version_major": 2,
       "version_minor": 0
      },
      "text/plain": [
       "Training: 0it [00:00, ?it/s]"
      ]
     },
     "metadata": {},
     "output_type": "display_data"
    },
    {
     "data": {
      "application/vnd.jupyter.widget-view+json": {
       "model_id": "4e0d6f91c85a4b40a3f5d6b2fe469cd1",
       "version_major": 2,
       "version_minor": 0
      },
      "text/plain": [
       "Predicting: 48it [00:00, ?it/s]"
      ]
     },
     "metadata": {},
     "output_type": "display_data"
    },
    {
     "name": "stderr",
     "output_type": "stream",
     "text": [
      "[2022-10-02 11:19:16,482] INFO | darts.models.forecasting.torch_forecasting_model | Train dataset contains 190 samples.\n",
      "[2022-10-02 11:19:16,482] INFO | darts.models.forecasting.torch_forecasting_model | Train dataset contains 190 samples.\n",
      "2022-10-02 11:19:16 darts.models.forecasting.torch_forecasting_model INFO: Train dataset contains 190 samples.\n",
      "2022-10-02 11:19:16 pytorch_lightning.utilities.distributed INFO: GPU available: False, used: False\n",
      "2022-10-02 11:19:16 pytorch_lightning.utilities.distributed INFO: TPU available: False, using: 0 TPU cores\n",
      "2022-10-02 11:19:16 pytorch_lightning.utilities.distributed INFO: IPU available: False, using: 0 IPUs\n",
      "[2022-10-02 11:19:16,492] WARNING | darts.models.forecasting.torch_forecasting_model | Attempting to retrain the model without resuming from a checkpoint. This is currently discouraged. Consider setting `save_checkpoints` to `True` and specifying `model_name` at model creation. Then call `model = TFTModel.load_from_checkpoint(model_name, best=False)`. Finally, train the model with `model.fit(..., epochs=new_epochs)` where `new_epochs` is the sum of (epochs already trained + some additional epochs).\n",
      "[2022-10-02 11:19:16,492] WARNING | darts.models.forecasting.torch_forecasting_model | Attempting to retrain the model without resuming from a checkpoint. This is currently discouraged. Consider setting `save_checkpoints` to `True` and specifying `model_name` at model creation. Then call `model = TFTModel.load_from_checkpoint(model_name, best=False)`. Finally, train the model with `model.fit(..., epochs=new_epochs)` where `new_epochs` is the sum of (epochs already trained + some additional epochs).\n",
      "2022-10-02 11:19:16 darts.models.forecasting.torch_forecasting_model WARNING: Attempting to retrain the model without resuming from a checkpoint. This is currently discouraged. Consider setting `save_checkpoints` to `True` and specifying `model_name` at model creation. Then call `model = TFTModel.load_from_checkpoint(model_name, best=False)`. Finally, train the model with `model.fit(..., epochs=new_epochs)` where `new_epochs` is the sum of (epochs already trained + some additional epochs).\n"
     ]
    },
    {
     "name": "stdout",
     "output_type": "stream",
     "text": [
      "205\n"
     ]
    },
    {
     "data": {
      "application/vnd.jupyter.widget-view+json": {
       "model_id": "6efa75e023054be9a055156cb856eb0c",
       "version_major": 2,
       "version_minor": 0
      },
      "text/plain": [
       "Training: 0it [00:00, ?it/s]"
      ]
     },
     "metadata": {},
     "output_type": "display_data"
    },
    {
     "data": {
      "application/vnd.jupyter.widget-view+json": {
       "model_id": "18c7ca534ae344d2b60ec45f98a0aaeb",
       "version_major": 2,
       "version_minor": 0
      },
      "text/plain": [
       "Predicting: 48it [00:00, ?it/s]"
      ]
     },
     "metadata": {},
     "output_type": "display_data"
    },
    {
     "name": "stderr",
     "output_type": "stream",
     "text": [
      "[2022-10-02 11:19:18,280] INFO | darts.models.forecasting.torch_forecasting_model | Train dataset contains 190 samples.\n",
      "[2022-10-02 11:19:18,280] INFO | darts.models.forecasting.torch_forecasting_model | Train dataset contains 190 samples.\n",
      "2022-10-02 11:19:18 darts.models.forecasting.torch_forecasting_model INFO: Train dataset contains 190 samples.\n",
      "2022-10-02 11:19:18 pytorch_lightning.utilities.distributed INFO: GPU available: False, used: False\n",
      "2022-10-02 11:19:18 pytorch_lightning.utilities.distributed INFO: TPU available: False, using: 0 TPU cores\n",
      "2022-10-02 11:19:18 pytorch_lightning.utilities.distributed INFO: IPU available: False, using: 0 IPUs\n",
      "[2022-10-02 11:19:18,289] WARNING | darts.models.forecasting.torch_forecasting_model | Attempting to retrain the model without resuming from a checkpoint. This is currently discouraged. Consider setting `save_checkpoints` to `True` and specifying `model_name` at model creation. Then call `model = TFTModel.load_from_checkpoint(model_name, best=False)`. Finally, train the model with `model.fit(..., epochs=new_epochs)` where `new_epochs` is the sum of (epochs already trained + some additional epochs).\n",
      "[2022-10-02 11:19:18,289] WARNING | darts.models.forecasting.torch_forecasting_model | Attempting to retrain the model without resuming from a checkpoint. This is currently discouraged. Consider setting `save_checkpoints` to `True` and specifying `model_name` at model creation. Then call `model = TFTModel.load_from_checkpoint(model_name, best=False)`. Finally, train the model with `model.fit(..., epochs=new_epochs)` where `new_epochs` is the sum of (epochs already trained + some additional epochs).\n",
      "2022-10-02 11:19:18 darts.models.forecasting.torch_forecasting_model WARNING: Attempting to retrain the model without resuming from a checkpoint. This is currently discouraged. Consider setting `save_checkpoints` to `True` and specifying `model_name` at model creation. Then call `model = TFTModel.load_from_checkpoint(model_name, best=False)`. Finally, train the model with `model.fit(..., epochs=new_epochs)` where `new_epochs` is the sum of (epochs already trained + some additional epochs).\n"
     ]
    },
    {
     "name": "stdout",
     "output_type": "stream",
     "text": [
      "206\n"
     ]
    },
    {
     "data": {
      "application/vnd.jupyter.widget-view+json": {
       "model_id": "7623b2793b034a0794c0b76f99e8e2f1",
       "version_major": 2,
       "version_minor": 0
      },
      "text/plain": [
       "Training: 0it [00:00, ?it/s]"
      ]
     },
     "metadata": {},
     "output_type": "display_data"
    },
    {
     "data": {
      "application/vnd.jupyter.widget-view+json": {
       "model_id": "6333e502a607462facd9d1eb7fc6b6ce",
       "version_major": 2,
       "version_minor": 0
      },
      "text/plain": [
       "Predicting: 48it [00:00, ?it/s]"
      ]
     },
     "metadata": {},
     "output_type": "display_data"
    },
    {
     "name": "stderr",
     "output_type": "stream",
     "text": [
      "[2022-10-02 11:19:20,036] INFO | darts.models.forecasting.torch_forecasting_model | Train dataset contains 190 samples.\n",
      "[2022-10-02 11:19:20,036] INFO | darts.models.forecasting.torch_forecasting_model | Train dataset contains 190 samples.\n",
      "2022-10-02 11:19:20 darts.models.forecasting.torch_forecasting_model INFO: Train dataset contains 190 samples.\n",
      "2022-10-02 11:19:20 pytorch_lightning.utilities.distributed INFO: GPU available: False, used: False\n",
      "2022-10-02 11:19:20 pytorch_lightning.utilities.distributed INFO: TPU available: False, using: 0 TPU cores\n",
      "2022-10-02 11:19:20 pytorch_lightning.utilities.distributed INFO: IPU available: False, using: 0 IPUs\n",
      "[2022-10-02 11:19:20,046] WARNING | darts.models.forecasting.torch_forecasting_model | Attempting to retrain the model without resuming from a checkpoint. This is currently discouraged. Consider setting `save_checkpoints` to `True` and specifying `model_name` at model creation. Then call `model = TFTModel.load_from_checkpoint(model_name, best=False)`. Finally, train the model with `model.fit(..., epochs=new_epochs)` where `new_epochs` is the sum of (epochs already trained + some additional epochs).\n",
      "[2022-10-02 11:19:20,046] WARNING | darts.models.forecasting.torch_forecasting_model | Attempting to retrain the model without resuming from a checkpoint. This is currently discouraged. Consider setting `save_checkpoints` to `True` and specifying `model_name` at model creation. Then call `model = TFTModel.load_from_checkpoint(model_name, best=False)`. Finally, train the model with `model.fit(..., epochs=new_epochs)` where `new_epochs` is the sum of (epochs already trained + some additional epochs).\n",
      "2022-10-02 11:19:20 darts.models.forecasting.torch_forecasting_model WARNING: Attempting to retrain the model without resuming from a checkpoint. This is currently discouraged. Consider setting `save_checkpoints` to `True` and specifying `model_name` at model creation. Then call `model = TFTModel.load_from_checkpoint(model_name, best=False)`. Finally, train the model with `model.fit(..., epochs=new_epochs)` where `new_epochs` is the sum of (epochs already trained + some additional epochs).\n"
     ]
    },
    {
     "name": "stdout",
     "output_type": "stream",
     "text": [
      "207\n"
     ]
    },
    {
     "data": {
      "application/vnd.jupyter.widget-view+json": {
       "model_id": "2014eca7d9c14743884083cb47c6ddc8",
       "version_major": 2,
       "version_minor": 0
      },
      "text/plain": [
       "Training: 0it [00:00, ?it/s]"
      ]
     },
     "metadata": {},
     "output_type": "display_data"
    },
    {
     "data": {
      "application/vnd.jupyter.widget-view+json": {
       "model_id": "630f7d81b4e24c4dac512035678d2ac0",
       "version_major": 2,
       "version_minor": 0
      },
      "text/plain": [
       "Predicting: 48it [00:00, ?it/s]"
      ]
     },
     "metadata": {},
     "output_type": "display_data"
    },
    {
     "name": "stderr",
     "output_type": "stream",
     "text": [
      "[2022-10-02 11:19:21,830] INFO | darts.models.forecasting.torch_forecasting_model | Train dataset contains 190 samples.\n",
      "[2022-10-02 11:19:21,830] INFO | darts.models.forecasting.torch_forecasting_model | Train dataset contains 190 samples.\n",
      "2022-10-02 11:19:21 darts.models.forecasting.torch_forecasting_model INFO: Train dataset contains 190 samples.\n",
      "2022-10-02 11:19:21 pytorch_lightning.utilities.distributed INFO: GPU available: False, used: False\n",
      "2022-10-02 11:19:21 pytorch_lightning.utilities.distributed INFO: TPU available: False, using: 0 TPU cores\n",
      "2022-10-02 11:19:21 pytorch_lightning.utilities.distributed INFO: IPU available: False, using: 0 IPUs\n",
      "[2022-10-02 11:19:21,838] WARNING | darts.models.forecasting.torch_forecasting_model | Attempting to retrain the model without resuming from a checkpoint. This is currently discouraged. Consider setting `save_checkpoints` to `True` and specifying `model_name` at model creation. Then call `model = TFTModel.load_from_checkpoint(model_name, best=False)`. Finally, train the model with `model.fit(..., epochs=new_epochs)` where `new_epochs` is the sum of (epochs already trained + some additional epochs).\n",
      "[2022-10-02 11:19:21,838] WARNING | darts.models.forecasting.torch_forecasting_model | Attempting to retrain the model without resuming from a checkpoint. This is currently discouraged. Consider setting `save_checkpoints` to `True` and specifying `model_name` at model creation. Then call `model = TFTModel.load_from_checkpoint(model_name, best=False)`. Finally, train the model with `model.fit(..., epochs=new_epochs)` where `new_epochs` is the sum of (epochs already trained + some additional epochs).\n",
      "2022-10-02 11:19:21 darts.models.forecasting.torch_forecasting_model WARNING: Attempting to retrain the model without resuming from a checkpoint. This is currently discouraged. Consider setting `save_checkpoints` to `True` and specifying `model_name` at model creation. Then call `model = TFTModel.load_from_checkpoint(model_name, best=False)`. Finally, train the model with `model.fit(..., epochs=new_epochs)` where `new_epochs` is the sum of (epochs already trained + some additional epochs).\n"
     ]
    },
    {
     "name": "stdout",
     "output_type": "stream",
     "text": [
      "208\n"
     ]
    },
    {
     "data": {
      "application/vnd.jupyter.widget-view+json": {
       "model_id": "c899f956b3644d36a1674185efdaf1b8",
       "version_major": 2,
       "version_minor": 0
      },
      "text/plain": [
       "Training: 0it [00:00, ?it/s]"
      ]
     },
     "metadata": {},
     "output_type": "display_data"
    },
    {
     "data": {
      "application/vnd.jupyter.widget-view+json": {
       "model_id": "4be897b351f3493b852f7c315e7d6ec3",
       "version_major": 2,
       "version_minor": 0
      },
      "text/plain": [
       "Predicting: 48it [00:00, ?it/s]"
      ]
     },
     "metadata": {},
     "output_type": "display_data"
    },
    {
     "name": "stderr",
     "output_type": "stream",
     "text": [
      "[2022-10-02 11:19:23,545] INFO | darts.models.forecasting.torch_forecasting_model | Train dataset contains 190 samples.\n",
      "[2022-10-02 11:19:23,545] INFO | darts.models.forecasting.torch_forecasting_model | Train dataset contains 190 samples.\n",
      "2022-10-02 11:19:23 darts.models.forecasting.torch_forecasting_model INFO: Train dataset contains 190 samples.\n",
      "2022-10-02 11:19:23 pytorch_lightning.utilities.distributed INFO: GPU available: False, used: False\n",
      "2022-10-02 11:19:23 pytorch_lightning.utilities.distributed INFO: TPU available: False, using: 0 TPU cores\n",
      "2022-10-02 11:19:23 pytorch_lightning.utilities.distributed INFO: IPU available: False, using: 0 IPUs\n",
      "[2022-10-02 11:19:23,554] WARNING | darts.models.forecasting.torch_forecasting_model | Attempting to retrain the model without resuming from a checkpoint. This is currently discouraged. Consider setting `save_checkpoints` to `True` and specifying `model_name` at model creation. Then call `model = TFTModel.load_from_checkpoint(model_name, best=False)`. Finally, train the model with `model.fit(..., epochs=new_epochs)` where `new_epochs` is the sum of (epochs already trained + some additional epochs).\n",
      "[2022-10-02 11:19:23,554] WARNING | darts.models.forecasting.torch_forecasting_model | Attempting to retrain the model without resuming from a checkpoint. This is currently discouraged. Consider setting `save_checkpoints` to `True` and specifying `model_name` at model creation. Then call `model = TFTModel.load_from_checkpoint(model_name, best=False)`. Finally, train the model with `model.fit(..., epochs=new_epochs)` where `new_epochs` is the sum of (epochs already trained + some additional epochs).\n",
      "2022-10-02 11:19:23 darts.models.forecasting.torch_forecasting_model WARNING: Attempting to retrain the model without resuming from a checkpoint. This is currently discouraged. Consider setting `save_checkpoints` to `True` and specifying `model_name` at model creation. Then call `model = TFTModel.load_from_checkpoint(model_name, best=False)`. Finally, train the model with `model.fit(..., epochs=new_epochs)` where `new_epochs` is the sum of (epochs already trained + some additional epochs).\n"
     ]
    },
    {
     "name": "stdout",
     "output_type": "stream",
     "text": [
      "209\n"
     ]
    },
    {
     "data": {
      "application/vnd.jupyter.widget-view+json": {
       "model_id": "fff516fff0394247b0dadc351349b306",
       "version_major": 2,
       "version_minor": 0
      },
      "text/plain": [
       "Training: 0it [00:00, ?it/s]"
      ]
     },
     "metadata": {},
     "output_type": "display_data"
    },
    {
     "data": {
      "application/vnd.jupyter.widget-view+json": {
       "model_id": "c2fe3cf7abb04aff822e90b5fec4e21a",
       "version_major": 2,
       "version_minor": 0
      },
      "text/plain": [
       "Predicting: 48it [00:00, ?it/s]"
      ]
     },
     "metadata": {},
     "output_type": "display_data"
    },
    {
     "name": "stderr",
     "output_type": "stream",
     "text": [
      "[2022-10-02 11:19:25,334] INFO | darts.models.forecasting.torch_forecasting_model | Train dataset contains 190 samples.\n",
      "[2022-10-02 11:19:25,334] INFO | darts.models.forecasting.torch_forecasting_model | Train dataset contains 190 samples.\n",
      "2022-10-02 11:19:25 darts.models.forecasting.torch_forecasting_model INFO: Train dataset contains 190 samples.\n",
      "2022-10-02 11:19:25 pytorch_lightning.utilities.distributed INFO: GPU available: False, used: False\n",
      "2022-10-02 11:19:25 pytorch_lightning.utilities.distributed INFO: TPU available: False, using: 0 TPU cores\n",
      "2022-10-02 11:19:25 pytorch_lightning.utilities.distributed INFO: IPU available: False, using: 0 IPUs\n",
      "[2022-10-02 11:19:25,343] WARNING | darts.models.forecasting.torch_forecasting_model | Attempting to retrain the model without resuming from a checkpoint. This is currently discouraged. Consider setting `save_checkpoints` to `True` and specifying `model_name` at model creation. Then call `model = TFTModel.load_from_checkpoint(model_name, best=False)`. Finally, train the model with `model.fit(..., epochs=new_epochs)` where `new_epochs` is the sum of (epochs already trained + some additional epochs).\n",
      "[2022-10-02 11:19:25,343] WARNING | darts.models.forecasting.torch_forecasting_model | Attempting to retrain the model without resuming from a checkpoint. This is currently discouraged. Consider setting `save_checkpoints` to `True` and specifying `model_name` at model creation. Then call `model = TFTModel.load_from_checkpoint(model_name, best=False)`. Finally, train the model with `model.fit(..., epochs=new_epochs)` where `new_epochs` is the sum of (epochs already trained + some additional epochs).\n",
      "2022-10-02 11:19:25 darts.models.forecasting.torch_forecasting_model WARNING: Attempting to retrain the model without resuming from a checkpoint. This is currently discouraged. Consider setting `save_checkpoints` to `True` and specifying `model_name` at model creation. Then call `model = TFTModel.load_from_checkpoint(model_name, best=False)`. Finally, train the model with `model.fit(..., epochs=new_epochs)` where `new_epochs` is the sum of (epochs already trained + some additional epochs).\n"
     ]
    },
    {
     "name": "stdout",
     "output_type": "stream",
     "text": [
      "210\n"
     ]
    },
    {
     "data": {
      "application/vnd.jupyter.widget-view+json": {
       "model_id": "423acdbfddac4211acf0a23a933e266c",
       "version_major": 2,
       "version_minor": 0
      },
      "text/plain": [
       "Training: 0it [00:00, ?it/s]"
      ]
     },
     "metadata": {},
     "output_type": "display_data"
    },
    {
     "data": {
      "application/vnd.jupyter.widget-view+json": {
       "model_id": "6f7df88de52144ef9633032d3dc95239",
       "version_major": 2,
       "version_minor": 0
      },
      "text/plain": [
       "Predicting: 48it [00:00, ?it/s]"
      ]
     },
     "metadata": {},
     "output_type": "display_data"
    },
    {
     "name": "stderr",
     "output_type": "stream",
     "text": [
      "[2022-10-02 11:19:27,132] INFO | darts.models.forecasting.torch_forecasting_model | Train dataset contains 190 samples.\n",
      "[2022-10-02 11:19:27,132] INFO | darts.models.forecasting.torch_forecasting_model | Train dataset contains 190 samples.\n",
      "2022-10-02 11:19:27 darts.models.forecasting.torch_forecasting_model INFO: Train dataset contains 190 samples.\n",
      "2022-10-02 11:19:27 pytorch_lightning.utilities.distributed INFO: GPU available: False, used: False\n",
      "2022-10-02 11:19:27 pytorch_lightning.utilities.distributed INFO: TPU available: False, using: 0 TPU cores\n",
      "2022-10-02 11:19:27 pytorch_lightning.utilities.distributed INFO: IPU available: False, using: 0 IPUs\n",
      "[2022-10-02 11:19:27,141] WARNING | darts.models.forecasting.torch_forecasting_model | Attempting to retrain the model without resuming from a checkpoint. This is currently discouraged. Consider setting `save_checkpoints` to `True` and specifying `model_name` at model creation. Then call `model = TFTModel.load_from_checkpoint(model_name, best=False)`. Finally, train the model with `model.fit(..., epochs=new_epochs)` where `new_epochs` is the sum of (epochs already trained + some additional epochs).\n",
      "[2022-10-02 11:19:27,141] WARNING | darts.models.forecasting.torch_forecasting_model | Attempting to retrain the model without resuming from a checkpoint. This is currently discouraged. Consider setting `save_checkpoints` to `True` and specifying `model_name` at model creation. Then call `model = TFTModel.load_from_checkpoint(model_name, best=False)`. Finally, train the model with `model.fit(..., epochs=new_epochs)` where `new_epochs` is the sum of (epochs already trained + some additional epochs).\n",
      "2022-10-02 11:19:27 darts.models.forecasting.torch_forecasting_model WARNING: Attempting to retrain the model without resuming from a checkpoint. This is currently discouraged. Consider setting `save_checkpoints` to `True` and specifying `model_name` at model creation. Then call `model = TFTModel.load_from_checkpoint(model_name, best=False)`. Finally, train the model with `model.fit(..., epochs=new_epochs)` where `new_epochs` is the sum of (epochs already trained + some additional epochs).\n"
     ]
    },
    {
     "name": "stdout",
     "output_type": "stream",
     "text": [
      "211\n"
     ]
    },
    {
     "data": {
      "application/vnd.jupyter.widget-view+json": {
       "model_id": "fc4cbdbd2e214aa8b254921f102335f4",
       "version_major": 2,
       "version_minor": 0
      },
      "text/plain": [
       "Training: 0it [00:00, ?it/s]"
      ]
     },
     "metadata": {},
     "output_type": "display_data"
    },
    {
     "data": {
      "application/vnd.jupyter.widget-view+json": {
       "model_id": "54d025c50f1d411a931547061b47dbd2",
       "version_major": 2,
       "version_minor": 0
      },
      "text/plain": [
       "Predicting: 48it [00:00, ?it/s]"
      ]
     },
     "metadata": {},
     "output_type": "display_data"
    },
    {
     "name": "stderr",
     "output_type": "stream",
     "text": [
      "[2022-10-02 11:19:28,884] INFO | darts.models.forecasting.torch_forecasting_model | Train dataset contains 190 samples.\n",
      "[2022-10-02 11:19:28,884] INFO | darts.models.forecasting.torch_forecasting_model | Train dataset contains 190 samples.\n",
      "2022-10-02 11:19:28 darts.models.forecasting.torch_forecasting_model INFO: Train dataset contains 190 samples.\n",
      "2022-10-02 11:19:28 pytorch_lightning.utilities.distributed INFO: GPU available: False, used: False\n",
      "2022-10-02 11:19:28 pytorch_lightning.utilities.distributed INFO: TPU available: False, using: 0 TPU cores\n",
      "2022-10-02 11:19:28 pytorch_lightning.utilities.distributed INFO: IPU available: False, using: 0 IPUs\n",
      "[2022-10-02 11:19:28,892] WARNING | darts.models.forecasting.torch_forecasting_model | Attempting to retrain the model without resuming from a checkpoint. This is currently discouraged. Consider setting `save_checkpoints` to `True` and specifying `model_name` at model creation. Then call `model = TFTModel.load_from_checkpoint(model_name, best=False)`. Finally, train the model with `model.fit(..., epochs=new_epochs)` where `new_epochs` is the sum of (epochs already trained + some additional epochs).\n",
      "[2022-10-02 11:19:28,892] WARNING | darts.models.forecasting.torch_forecasting_model | Attempting to retrain the model without resuming from a checkpoint. This is currently discouraged. Consider setting `save_checkpoints` to `True` and specifying `model_name` at model creation. Then call `model = TFTModel.load_from_checkpoint(model_name, best=False)`. Finally, train the model with `model.fit(..., epochs=new_epochs)` where `new_epochs` is the sum of (epochs already trained + some additional epochs).\n",
      "2022-10-02 11:19:28 darts.models.forecasting.torch_forecasting_model WARNING: Attempting to retrain the model without resuming from a checkpoint. This is currently discouraged. Consider setting `save_checkpoints` to `True` and specifying `model_name` at model creation. Then call `model = TFTModel.load_from_checkpoint(model_name, best=False)`. Finally, train the model with `model.fit(..., epochs=new_epochs)` where `new_epochs` is the sum of (epochs already trained + some additional epochs).\n"
     ]
    },
    {
     "name": "stdout",
     "output_type": "stream",
     "text": [
      "212\n"
     ]
    },
    {
     "data": {
      "application/vnd.jupyter.widget-view+json": {
       "model_id": "70f69c78e7574e07b54f8e886e087834",
       "version_major": 2,
       "version_minor": 0
      },
      "text/plain": [
       "Training: 0it [00:00, ?it/s]"
      ]
     },
     "metadata": {},
     "output_type": "display_data"
    },
    {
     "data": {
      "application/vnd.jupyter.widget-view+json": {
       "model_id": "f22615c724314bf5be75ef48153b6c28",
       "version_major": 2,
       "version_minor": 0
      },
      "text/plain": [
       "Predicting: 48it [00:00, ?it/s]"
      ]
     },
     "metadata": {},
     "output_type": "display_data"
    },
    {
     "name": "stderr",
     "output_type": "stream",
     "text": [
      "[2022-10-02 11:19:30,642] INFO | darts.models.forecasting.torch_forecasting_model | Train dataset contains 190 samples.\n",
      "[2022-10-02 11:19:30,642] INFO | darts.models.forecasting.torch_forecasting_model | Train dataset contains 190 samples.\n",
      "2022-10-02 11:19:30 darts.models.forecasting.torch_forecasting_model INFO: Train dataset contains 190 samples.\n",
      "2022-10-02 11:19:30 pytorch_lightning.utilities.distributed INFO: GPU available: False, used: False\n",
      "2022-10-02 11:19:30 pytorch_lightning.utilities.distributed INFO: TPU available: False, using: 0 TPU cores\n",
      "2022-10-02 11:19:30 pytorch_lightning.utilities.distributed INFO: IPU available: False, using: 0 IPUs\n",
      "[2022-10-02 11:19:30,654] WARNING | darts.models.forecasting.torch_forecasting_model | Attempting to retrain the model without resuming from a checkpoint. This is currently discouraged. Consider setting `save_checkpoints` to `True` and specifying `model_name` at model creation. Then call `model = TFTModel.load_from_checkpoint(model_name, best=False)`. Finally, train the model with `model.fit(..., epochs=new_epochs)` where `new_epochs` is the sum of (epochs already trained + some additional epochs).\n",
      "[2022-10-02 11:19:30,654] WARNING | darts.models.forecasting.torch_forecasting_model | Attempting to retrain the model without resuming from a checkpoint. This is currently discouraged. Consider setting `save_checkpoints` to `True` and specifying `model_name` at model creation. Then call `model = TFTModel.load_from_checkpoint(model_name, best=False)`. Finally, train the model with `model.fit(..., epochs=new_epochs)` where `new_epochs` is the sum of (epochs already trained + some additional epochs).\n",
      "2022-10-02 11:19:30 darts.models.forecasting.torch_forecasting_model WARNING: Attempting to retrain the model without resuming from a checkpoint. This is currently discouraged. Consider setting `save_checkpoints` to `True` and specifying `model_name` at model creation. Then call `model = TFTModel.load_from_checkpoint(model_name, best=False)`. Finally, train the model with `model.fit(..., epochs=new_epochs)` where `new_epochs` is the sum of (epochs already trained + some additional epochs).\n"
     ]
    },
    {
     "name": "stdout",
     "output_type": "stream",
     "text": [
      "213\n"
     ]
    },
    {
     "data": {
      "application/vnd.jupyter.widget-view+json": {
       "model_id": "3b7539767bc64c5fa36a091869590be0",
       "version_major": 2,
       "version_minor": 0
      },
      "text/plain": [
       "Training: 0it [00:00, ?it/s]"
      ]
     },
     "metadata": {},
     "output_type": "display_data"
    },
    {
     "data": {
      "application/vnd.jupyter.widget-view+json": {
       "model_id": "7f50d56557d14ae89609a92a87b6ac98",
       "version_major": 2,
       "version_minor": 0
      },
      "text/plain": [
       "Predicting: 48it [00:00, ?it/s]"
      ]
     },
     "metadata": {},
     "output_type": "display_data"
    },
    {
     "name": "stderr",
     "output_type": "stream",
     "text": [
      "[2022-10-02 11:19:32,462] INFO | darts.models.forecasting.torch_forecasting_model | Train dataset contains 190 samples.\n",
      "[2022-10-02 11:19:32,462] INFO | darts.models.forecasting.torch_forecasting_model | Train dataset contains 190 samples.\n",
      "2022-10-02 11:19:32 darts.models.forecasting.torch_forecasting_model INFO: Train dataset contains 190 samples.\n",
      "2022-10-02 11:19:32 pytorch_lightning.utilities.distributed INFO: GPU available: False, used: False\n",
      "2022-10-02 11:19:32 pytorch_lightning.utilities.distributed INFO: TPU available: False, using: 0 TPU cores\n",
      "2022-10-02 11:19:32 pytorch_lightning.utilities.distributed INFO: IPU available: False, using: 0 IPUs\n",
      "[2022-10-02 11:19:32,472] WARNING | darts.models.forecasting.torch_forecasting_model | Attempting to retrain the model without resuming from a checkpoint. This is currently discouraged. Consider setting `save_checkpoints` to `True` and specifying `model_name` at model creation. Then call `model = TFTModel.load_from_checkpoint(model_name, best=False)`. Finally, train the model with `model.fit(..., epochs=new_epochs)` where `new_epochs` is the sum of (epochs already trained + some additional epochs).\n",
      "[2022-10-02 11:19:32,472] WARNING | darts.models.forecasting.torch_forecasting_model | Attempting to retrain the model without resuming from a checkpoint. This is currently discouraged. Consider setting `save_checkpoints` to `True` and specifying `model_name` at model creation. Then call `model = TFTModel.load_from_checkpoint(model_name, best=False)`. Finally, train the model with `model.fit(..., epochs=new_epochs)` where `new_epochs` is the sum of (epochs already trained + some additional epochs).\n",
      "2022-10-02 11:19:32 darts.models.forecasting.torch_forecasting_model WARNING: Attempting to retrain the model without resuming from a checkpoint. This is currently discouraged. Consider setting `save_checkpoints` to `True` and specifying `model_name` at model creation. Then call `model = TFTModel.load_from_checkpoint(model_name, best=False)`. Finally, train the model with `model.fit(..., epochs=new_epochs)` where `new_epochs` is the sum of (epochs already trained + some additional epochs).\n"
     ]
    },
    {
     "name": "stdout",
     "output_type": "stream",
     "text": [
      "214\n"
     ]
    },
    {
     "data": {
      "application/vnd.jupyter.widget-view+json": {
       "model_id": "5791a48beae84313b93c8d428dfcc09d",
       "version_major": 2,
       "version_minor": 0
      },
      "text/plain": [
       "Training: 0it [00:00, ?it/s]"
      ]
     },
     "metadata": {},
     "output_type": "display_data"
    },
    {
     "data": {
      "application/vnd.jupyter.widget-view+json": {
       "model_id": "b1b094f722714f03ab8a7bc8fbc26098",
       "version_major": 2,
       "version_minor": 0
      },
      "text/plain": [
       "Predicting: 48it [00:00, ?it/s]"
      ]
     },
     "metadata": {},
     "output_type": "display_data"
    },
    {
     "name": "stderr",
     "output_type": "stream",
     "text": [
      "[2022-10-02 11:19:34,165] INFO | darts.models.forecasting.torch_forecasting_model | Train dataset contains 190 samples.\n",
      "[2022-10-02 11:19:34,165] INFO | darts.models.forecasting.torch_forecasting_model | Train dataset contains 190 samples.\n",
      "2022-10-02 11:19:34 darts.models.forecasting.torch_forecasting_model INFO: Train dataset contains 190 samples.\n",
      "2022-10-02 11:19:34 pytorch_lightning.utilities.distributed INFO: GPU available: False, used: False\n",
      "2022-10-02 11:19:34 pytorch_lightning.utilities.distributed INFO: TPU available: False, using: 0 TPU cores\n",
      "2022-10-02 11:19:34 pytorch_lightning.utilities.distributed INFO: IPU available: False, using: 0 IPUs\n",
      "[2022-10-02 11:19:34,175] WARNING | darts.models.forecasting.torch_forecasting_model | Attempting to retrain the model without resuming from a checkpoint. This is currently discouraged. Consider setting `save_checkpoints` to `True` and specifying `model_name` at model creation. Then call `model = TFTModel.load_from_checkpoint(model_name, best=False)`. Finally, train the model with `model.fit(..., epochs=new_epochs)` where `new_epochs` is the sum of (epochs already trained + some additional epochs).\n",
      "[2022-10-02 11:19:34,175] WARNING | darts.models.forecasting.torch_forecasting_model | Attempting to retrain the model without resuming from a checkpoint. This is currently discouraged. Consider setting `save_checkpoints` to `True` and specifying `model_name` at model creation. Then call `model = TFTModel.load_from_checkpoint(model_name, best=False)`. Finally, train the model with `model.fit(..., epochs=new_epochs)` where `new_epochs` is the sum of (epochs already trained + some additional epochs).\n",
      "2022-10-02 11:19:34 darts.models.forecasting.torch_forecasting_model WARNING: Attempting to retrain the model without resuming from a checkpoint. This is currently discouraged. Consider setting `save_checkpoints` to `True` and specifying `model_name` at model creation. Then call `model = TFTModel.load_from_checkpoint(model_name, best=False)`. Finally, train the model with `model.fit(..., epochs=new_epochs)` where `new_epochs` is the sum of (epochs already trained + some additional epochs).\n"
     ]
    },
    {
     "name": "stdout",
     "output_type": "stream",
     "text": [
      "215\n"
     ]
    },
    {
     "data": {
      "application/vnd.jupyter.widget-view+json": {
       "model_id": "08b89d1800c24c468dfcee9192b4533c",
       "version_major": 2,
       "version_minor": 0
      },
      "text/plain": [
       "Training: 0it [00:00, ?it/s]"
      ]
     },
     "metadata": {},
     "output_type": "display_data"
    },
    {
     "data": {
      "application/vnd.jupyter.widget-view+json": {
       "model_id": "36f9364ad0e8442fb3471d9aea4941d8",
       "version_major": 2,
       "version_minor": 0
      },
      "text/plain": [
       "Predicting: 48it [00:00, ?it/s]"
      ]
     },
     "metadata": {},
     "output_type": "display_data"
    },
    {
     "name": "stderr",
     "output_type": "stream",
     "text": [
      "[2022-10-02 11:19:35,931] INFO | darts.models.forecasting.torch_forecasting_model | Train dataset contains 190 samples.\n",
      "[2022-10-02 11:19:35,931] INFO | darts.models.forecasting.torch_forecasting_model | Train dataset contains 190 samples.\n",
      "2022-10-02 11:19:35 darts.models.forecasting.torch_forecasting_model INFO: Train dataset contains 190 samples.\n",
      "2022-10-02 11:19:35 pytorch_lightning.utilities.distributed INFO: GPU available: False, used: False\n",
      "2022-10-02 11:19:35 pytorch_lightning.utilities.distributed INFO: TPU available: False, using: 0 TPU cores\n",
      "2022-10-02 11:19:35 pytorch_lightning.utilities.distributed INFO: IPU available: False, using: 0 IPUs\n",
      "[2022-10-02 11:19:35,939] WARNING | darts.models.forecasting.torch_forecasting_model | Attempting to retrain the model without resuming from a checkpoint. This is currently discouraged. Consider setting `save_checkpoints` to `True` and specifying `model_name` at model creation. Then call `model = TFTModel.load_from_checkpoint(model_name, best=False)`. Finally, train the model with `model.fit(..., epochs=new_epochs)` where `new_epochs` is the sum of (epochs already trained + some additional epochs).\n",
      "[2022-10-02 11:19:35,939] WARNING | darts.models.forecasting.torch_forecasting_model | Attempting to retrain the model without resuming from a checkpoint. This is currently discouraged. Consider setting `save_checkpoints` to `True` and specifying `model_name` at model creation. Then call `model = TFTModel.load_from_checkpoint(model_name, best=False)`. Finally, train the model with `model.fit(..., epochs=new_epochs)` where `new_epochs` is the sum of (epochs already trained + some additional epochs).\n",
      "2022-10-02 11:19:35 darts.models.forecasting.torch_forecasting_model WARNING: Attempting to retrain the model without resuming from a checkpoint. This is currently discouraged. Consider setting `save_checkpoints` to `True` and specifying `model_name` at model creation. Then call `model = TFTModel.load_from_checkpoint(model_name, best=False)`. Finally, train the model with `model.fit(..., epochs=new_epochs)` where `new_epochs` is the sum of (epochs already trained + some additional epochs).\n"
     ]
    },
    {
     "name": "stdout",
     "output_type": "stream",
     "text": [
      "216\n"
     ]
    },
    {
     "data": {
      "application/vnd.jupyter.widget-view+json": {
       "model_id": "10bd0aa375b249c2a65a76c02df6d9f1",
       "version_major": 2,
       "version_minor": 0
      },
      "text/plain": [
       "Training: 0it [00:00, ?it/s]"
      ]
     },
     "metadata": {},
     "output_type": "display_data"
    },
    {
     "data": {
      "application/vnd.jupyter.widget-view+json": {
       "model_id": "abce261e38304bc99b6bbe2635b3e255",
       "version_major": 2,
       "version_minor": 0
      },
      "text/plain": [
       "Predicting: 48it [00:00, ?it/s]"
      ]
     },
     "metadata": {},
     "output_type": "display_data"
    },
    {
     "name": "stderr",
     "output_type": "stream",
     "text": [
      "[2022-10-02 11:19:37,643] INFO | darts.models.forecasting.torch_forecasting_model | Train dataset contains 190 samples.\n",
      "[2022-10-02 11:19:37,643] INFO | darts.models.forecasting.torch_forecasting_model | Train dataset contains 190 samples.\n",
      "2022-10-02 11:19:37 darts.models.forecasting.torch_forecasting_model INFO: Train dataset contains 190 samples.\n",
      "2022-10-02 11:19:37 pytorch_lightning.utilities.distributed INFO: GPU available: False, used: False\n",
      "2022-10-02 11:19:37 pytorch_lightning.utilities.distributed INFO: TPU available: False, using: 0 TPU cores\n",
      "2022-10-02 11:19:37 pytorch_lightning.utilities.distributed INFO: IPU available: False, using: 0 IPUs\n",
      "[2022-10-02 11:19:37,651] WARNING | darts.models.forecasting.torch_forecasting_model | Attempting to retrain the model without resuming from a checkpoint. This is currently discouraged. Consider setting `save_checkpoints` to `True` and specifying `model_name` at model creation. Then call `model = TFTModel.load_from_checkpoint(model_name, best=False)`. Finally, train the model with `model.fit(..., epochs=new_epochs)` where `new_epochs` is the sum of (epochs already trained + some additional epochs).\n",
      "[2022-10-02 11:19:37,651] WARNING | darts.models.forecasting.torch_forecasting_model | Attempting to retrain the model without resuming from a checkpoint. This is currently discouraged. Consider setting `save_checkpoints` to `True` and specifying `model_name` at model creation. Then call `model = TFTModel.load_from_checkpoint(model_name, best=False)`. Finally, train the model with `model.fit(..., epochs=new_epochs)` where `new_epochs` is the sum of (epochs already trained + some additional epochs).\n",
      "2022-10-02 11:19:37 darts.models.forecasting.torch_forecasting_model WARNING: Attempting to retrain the model without resuming from a checkpoint. This is currently discouraged. Consider setting `save_checkpoints` to `True` and specifying `model_name` at model creation. Then call `model = TFTModel.load_from_checkpoint(model_name, best=False)`. Finally, train the model with `model.fit(..., epochs=new_epochs)` where `new_epochs` is the sum of (epochs already trained + some additional epochs).\n"
     ]
    },
    {
     "name": "stdout",
     "output_type": "stream",
     "text": [
      "217\n"
     ]
    },
    {
     "data": {
      "application/vnd.jupyter.widget-view+json": {
       "model_id": "e21745439ef74c03aa532d9d89a99aa1",
       "version_major": 2,
       "version_minor": 0
      },
      "text/plain": [
       "Training: 0it [00:00, ?it/s]"
      ]
     },
     "metadata": {},
     "output_type": "display_data"
    },
    {
     "data": {
      "application/vnd.jupyter.widget-view+json": {
       "model_id": "6d2c9af59e0b436c975f035821682f13",
       "version_major": 2,
       "version_minor": 0
      },
      "text/plain": [
       "Predicting: 48it [00:00, ?it/s]"
      ]
     },
     "metadata": {},
     "output_type": "display_data"
    },
    {
     "name": "stderr",
     "output_type": "stream",
     "text": [
      "[2022-10-02 11:19:39,366] INFO | darts.models.forecasting.torch_forecasting_model | Train dataset contains 190 samples.\n",
      "[2022-10-02 11:19:39,366] INFO | darts.models.forecasting.torch_forecasting_model | Train dataset contains 190 samples.\n",
      "2022-10-02 11:19:39 darts.models.forecasting.torch_forecasting_model INFO: Train dataset contains 190 samples.\n",
      "2022-10-02 11:19:39 pytorch_lightning.utilities.distributed INFO: GPU available: False, used: False\n",
      "2022-10-02 11:19:39 pytorch_lightning.utilities.distributed INFO: TPU available: False, using: 0 TPU cores\n",
      "2022-10-02 11:19:39 pytorch_lightning.utilities.distributed INFO: IPU available: False, using: 0 IPUs\n",
      "[2022-10-02 11:19:39,375] WARNING | darts.models.forecasting.torch_forecasting_model | Attempting to retrain the model without resuming from a checkpoint. This is currently discouraged. Consider setting `save_checkpoints` to `True` and specifying `model_name` at model creation. Then call `model = TFTModel.load_from_checkpoint(model_name, best=False)`. Finally, train the model with `model.fit(..., epochs=new_epochs)` where `new_epochs` is the sum of (epochs already trained + some additional epochs).\n",
      "[2022-10-02 11:19:39,375] WARNING | darts.models.forecasting.torch_forecasting_model | Attempting to retrain the model without resuming from a checkpoint. This is currently discouraged. Consider setting `save_checkpoints` to `True` and specifying `model_name` at model creation. Then call `model = TFTModel.load_from_checkpoint(model_name, best=False)`. Finally, train the model with `model.fit(..., epochs=new_epochs)` where `new_epochs` is the sum of (epochs already trained + some additional epochs).\n",
      "2022-10-02 11:19:39 darts.models.forecasting.torch_forecasting_model WARNING: Attempting to retrain the model without resuming from a checkpoint. This is currently discouraged. Consider setting `save_checkpoints` to `True` and specifying `model_name` at model creation. Then call `model = TFTModel.load_from_checkpoint(model_name, best=False)`. Finally, train the model with `model.fit(..., epochs=new_epochs)` where `new_epochs` is the sum of (epochs already trained + some additional epochs).\n"
     ]
    },
    {
     "name": "stdout",
     "output_type": "stream",
     "text": [
      "218\n"
     ]
    },
    {
     "data": {
      "application/vnd.jupyter.widget-view+json": {
       "model_id": "74ea295969964eee84be83ca50c1673b",
       "version_major": 2,
       "version_minor": 0
      },
      "text/plain": [
       "Training: 0it [00:00, ?it/s]"
      ]
     },
     "metadata": {},
     "output_type": "display_data"
    },
    {
     "data": {
      "application/vnd.jupyter.widget-view+json": {
       "model_id": "d073d5617d0a44bda53d7629ddc28e11",
       "version_major": 2,
       "version_minor": 0
      },
      "text/plain": [
       "Predicting: 48it [00:00, ?it/s]"
      ]
     },
     "metadata": {},
     "output_type": "display_data"
    },
    {
     "name": "stderr",
     "output_type": "stream",
     "text": [
      "[2022-10-02 11:19:41,069] INFO | darts.models.forecasting.torch_forecasting_model | Train dataset contains 190 samples.\n",
      "[2022-10-02 11:19:41,069] INFO | darts.models.forecasting.torch_forecasting_model | Train dataset contains 190 samples.\n",
      "2022-10-02 11:19:41 darts.models.forecasting.torch_forecasting_model INFO: Train dataset contains 190 samples.\n",
      "2022-10-02 11:19:41 pytorch_lightning.utilities.distributed INFO: GPU available: False, used: False\n",
      "2022-10-02 11:19:41 pytorch_lightning.utilities.distributed INFO: TPU available: False, using: 0 TPU cores\n",
      "2022-10-02 11:19:41 pytorch_lightning.utilities.distributed INFO: IPU available: False, using: 0 IPUs\n",
      "[2022-10-02 11:19:41,077] WARNING | darts.models.forecasting.torch_forecasting_model | Attempting to retrain the model without resuming from a checkpoint. This is currently discouraged. Consider setting `save_checkpoints` to `True` and specifying `model_name` at model creation. Then call `model = TFTModel.load_from_checkpoint(model_name, best=False)`. Finally, train the model with `model.fit(..., epochs=new_epochs)` where `new_epochs` is the sum of (epochs already trained + some additional epochs).\n",
      "[2022-10-02 11:19:41,077] WARNING | darts.models.forecasting.torch_forecasting_model | Attempting to retrain the model without resuming from a checkpoint. This is currently discouraged. Consider setting `save_checkpoints` to `True` and specifying `model_name` at model creation. Then call `model = TFTModel.load_from_checkpoint(model_name, best=False)`. Finally, train the model with `model.fit(..., epochs=new_epochs)` where `new_epochs` is the sum of (epochs already trained + some additional epochs).\n",
      "2022-10-02 11:19:41 darts.models.forecasting.torch_forecasting_model WARNING: Attempting to retrain the model without resuming from a checkpoint. This is currently discouraged. Consider setting `save_checkpoints` to `True` and specifying `model_name` at model creation. Then call `model = TFTModel.load_from_checkpoint(model_name, best=False)`. Finally, train the model with `model.fit(..., epochs=new_epochs)` where `new_epochs` is the sum of (epochs already trained + some additional epochs).\n"
     ]
    },
    {
     "name": "stdout",
     "output_type": "stream",
     "text": [
      "219\n"
     ]
    },
    {
     "data": {
      "application/vnd.jupyter.widget-view+json": {
       "model_id": "d85b9f2f21cc46d38d84e3d9a0018b92",
       "version_major": 2,
       "version_minor": 0
      },
      "text/plain": [
       "Training: 0it [00:00, ?it/s]"
      ]
     },
     "metadata": {},
     "output_type": "display_data"
    },
    {
     "data": {
      "application/vnd.jupyter.widget-view+json": {
       "model_id": "a108bae09d164a179892cae9677e05e8",
       "version_major": 2,
       "version_minor": 0
      },
      "text/plain": [
       "Predicting: 48it [00:00, ?it/s]"
      ]
     },
     "metadata": {},
     "output_type": "display_data"
    },
    {
     "name": "stderr",
     "output_type": "stream",
     "text": [
      "[2022-10-02 11:19:42,805] INFO | darts.models.forecasting.torch_forecasting_model | Train dataset contains 190 samples.\n",
      "[2022-10-02 11:19:42,805] INFO | darts.models.forecasting.torch_forecasting_model | Train dataset contains 190 samples.\n",
      "2022-10-02 11:19:42 darts.models.forecasting.torch_forecasting_model INFO: Train dataset contains 190 samples.\n",
      "2022-10-02 11:19:42 pytorch_lightning.utilities.distributed INFO: GPU available: False, used: False\n",
      "2022-10-02 11:19:42 pytorch_lightning.utilities.distributed INFO: TPU available: False, using: 0 TPU cores\n",
      "2022-10-02 11:19:42 pytorch_lightning.utilities.distributed INFO: IPU available: False, using: 0 IPUs\n",
      "[2022-10-02 11:19:42,813] WARNING | darts.models.forecasting.torch_forecasting_model | Attempting to retrain the model without resuming from a checkpoint. This is currently discouraged. Consider setting `save_checkpoints` to `True` and specifying `model_name` at model creation. Then call `model = TFTModel.load_from_checkpoint(model_name, best=False)`. Finally, train the model with `model.fit(..., epochs=new_epochs)` where `new_epochs` is the sum of (epochs already trained + some additional epochs).\n",
      "[2022-10-02 11:19:42,813] WARNING | darts.models.forecasting.torch_forecasting_model | Attempting to retrain the model without resuming from a checkpoint. This is currently discouraged. Consider setting `save_checkpoints` to `True` and specifying `model_name` at model creation. Then call `model = TFTModel.load_from_checkpoint(model_name, best=False)`. Finally, train the model with `model.fit(..., epochs=new_epochs)` where `new_epochs` is the sum of (epochs already trained + some additional epochs).\n",
      "2022-10-02 11:19:42 darts.models.forecasting.torch_forecasting_model WARNING: Attempting to retrain the model without resuming from a checkpoint. This is currently discouraged. Consider setting `save_checkpoints` to `True` and specifying `model_name` at model creation. Then call `model = TFTModel.load_from_checkpoint(model_name, best=False)`. Finally, train the model with `model.fit(..., epochs=new_epochs)` where `new_epochs` is the sum of (epochs already trained + some additional epochs).\n"
     ]
    },
    {
     "name": "stdout",
     "output_type": "stream",
     "text": [
      "220\n"
     ]
    },
    {
     "data": {
      "application/vnd.jupyter.widget-view+json": {
       "model_id": "ba68dbb0b87b417b9f3c0a54be70e7bb",
       "version_major": 2,
       "version_minor": 0
      },
      "text/plain": [
       "Training: 0it [00:00, ?it/s]"
      ]
     },
     "metadata": {},
     "output_type": "display_data"
    },
    {
     "data": {
      "application/vnd.jupyter.widget-view+json": {
       "model_id": "e7cfcd7d7cc04810a4f22252749f75db",
       "version_major": 2,
       "version_minor": 0
      },
      "text/plain": [
       "Predicting: 48it [00:00, ?it/s]"
      ]
     },
     "metadata": {},
     "output_type": "display_data"
    },
    {
     "name": "stderr",
     "output_type": "stream",
     "text": [
      "[2022-10-02 11:19:44,536] INFO | darts.models.forecasting.torch_forecasting_model | Train dataset contains 190 samples.\n",
      "[2022-10-02 11:19:44,536] INFO | darts.models.forecasting.torch_forecasting_model | Train dataset contains 190 samples.\n",
      "2022-10-02 11:19:44 darts.models.forecasting.torch_forecasting_model INFO: Train dataset contains 190 samples.\n",
      "2022-10-02 11:19:44 pytorch_lightning.utilities.distributed INFO: GPU available: False, used: False\n",
      "2022-10-02 11:19:44 pytorch_lightning.utilities.distributed INFO: TPU available: False, using: 0 TPU cores\n",
      "2022-10-02 11:19:44 pytorch_lightning.utilities.distributed INFO: IPU available: False, using: 0 IPUs\n",
      "[2022-10-02 11:19:44,544] WARNING | darts.models.forecasting.torch_forecasting_model | Attempting to retrain the model without resuming from a checkpoint. This is currently discouraged. Consider setting `save_checkpoints` to `True` and specifying `model_name` at model creation. Then call `model = TFTModel.load_from_checkpoint(model_name, best=False)`. Finally, train the model with `model.fit(..., epochs=new_epochs)` where `new_epochs` is the sum of (epochs already trained + some additional epochs).\n",
      "[2022-10-02 11:19:44,544] WARNING | darts.models.forecasting.torch_forecasting_model | Attempting to retrain the model without resuming from a checkpoint. This is currently discouraged. Consider setting `save_checkpoints` to `True` and specifying `model_name` at model creation. Then call `model = TFTModel.load_from_checkpoint(model_name, best=False)`. Finally, train the model with `model.fit(..., epochs=new_epochs)` where `new_epochs` is the sum of (epochs already trained + some additional epochs).\n",
      "2022-10-02 11:19:44 darts.models.forecasting.torch_forecasting_model WARNING: Attempting to retrain the model without resuming from a checkpoint. This is currently discouraged. Consider setting `save_checkpoints` to `True` and specifying `model_name` at model creation. Then call `model = TFTModel.load_from_checkpoint(model_name, best=False)`. Finally, train the model with `model.fit(..., epochs=new_epochs)` where `new_epochs` is the sum of (epochs already trained + some additional epochs).\n"
     ]
    },
    {
     "name": "stdout",
     "output_type": "stream",
     "text": [
      "221\n"
     ]
    },
    {
     "data": {
      "application/vnd.jupyter.widget-view+json": {
       "model_id": "020263201f3748b485e63c96353a22ac",
       "version_major": 2,
       "version_minor": 0
      },
      "text/plain": [
       "Training: 0it [00:00, ?it/s]"
      ]
     },
     "metadata": {},
     "output_type": "display_data"
    },
    {
     "data": {
      "application/vnd.jupyter.widget-view+json": {
       "model_id": "330735e3566f49c28c6db40ab86f0622",
       "version_major": 2,
       "version_minor": 0
      },
      "text/plain": [
       "Predicting: 48it [00:00, ?it/s]"
      ]
     },
     "metadata": {},
     "output_type": "display_data"
    },
    {
     "name": "stderr",
     "output_type": "stream",
     "text": [
      "[2022-10-02 11:19:46,263] INFO | darts.models.forecasting.torch_forecasting_model | Train dataset contains 190 samples.\n",
      "[2022-10-02 11:19:46,263] INFO | darts.models.forecasting.torch_forecasting_model | Train dataset contains 190 samples.\n",
      "2022-10-02 11:19:46 darts.models.forecasting.torch_forecasting_model INFO: Train dataset contains 190 samples.\n",
      "2022-10-02 11:19:46 pytorch_lightning.utilities.distributed INFO: GPU available: False, used: False\n",
      "2022-10-02 11:19:46 pytorch_lightning.utilities.distributed INFO: TPU available: False, using: 0 TPU cores\n",
      "2022-10-02 11:19:46 pytorch_lightning.utilities.distributed INFO: IPU available: False, using: 0 IPUs\n",
      "[2022-10-02 11:19:46,272] WARNING | darts.models.forecasting.torch_forecasting_model | Attempting to retrain the model without resuming from a checkpoint. This is currently discouraged. Consider setting `save_checkpoints` to `True` and specifying `model_name` at model creation. Then call `model = TFTModel.load_from_checkpoint(model_name, best=False)`. Finally, train the model with `model.fit(..., epochs=new_epochs)` where `new_epochs` is the sum of (epochs already trained + some additional epochs).\n",
      "[2022-10-02 11:19:46,272] WARNING | darts.models.forecasting.torch_forecasting_model | Attempting to retrain the model without resuming from a checkpoint. This is currently discouraged. Consider setting `save_checkpoints` to `True` and specifying `model_name` at model creation. Then call `model = TFTModel.load_from_checkpoint(model_name, best=False)`. Finally, train the model with `model.fit(..., epochs=new_epochs)` where `new_epochs` is the sum of (epochs already trained + some additional epochs).\n",
      "2022-10-02 11:19:46 darts.models.forecasting.torch_forecasting_model WARNING: Attempting to retrain the model without resuming from a checkpoint. This is currently discouraged. Consider setting `save_checkpoints` to `True` and specifying `model_name` at model creation. Then call `model = TFTModel.load_from_checkpoint(model_name, best=False)`. Finally, train the model with `model.fit(..., epochs=new_epochs)` where `new_epochs` is the sum of (epochs already trained + some additional epochs).\n"
     ]
    },
    {
     "name": "stdout",
     "output_type": "stream",
     "text": [
      "222\n"
     ]
    },
    {
     "data": {
      "application/vnd.jupyter.widget-view+json": {
       "model_id": "665bde7c59e94fc7bbee6a9907e8e4ca",
       "version_major": 2,
       "version_minor": 0
      },
      "text/plain": [
       "Training: 0it [00:00, ?it/s]"
      ]
     },
     "metadata": {},
     "output_type": "display_data"
    }
   ],
   "source": [
    "test_prediction = []\n",
    "for i, data in enumerate(test_time_series):\n",
    "    # predict    \n",
    "    y_approx = best_model.predict(1)\n",
    "    test_prediction.append(y_approx)\n",
    "    print(i)\n",
    "    # use test set prior to this step to retrain model\n",
    "    best_model.fit(test_time_series[:i+best_model.input_chunk_length+best_model.input_chunk_length], epochs=1)"
   ]
  },
  {
   "cell_type": "code",
   "execution_count": 133,
   "id": "dd6c11a6-57e8-43b2-9eb1-f4190f992174",
   "metadata": {
    "execution": {
     "iopub.execute_input": "2022-10-02T10:19:47.911839Z",
     "iopub.status.busy": "2022-10-02T10:19:47.911610Z",
     "iopub.status.idle": "2022-10-02T10:19:47.916501Z",
     "shell.execute_reply": "2022-10-02T10:19:47.915544Z",
     "shell.execute_reply.started": "2022-10-02T10:19:47.911808Z"
    },
    "tags": []
   },
   "outputs": [
    {
     "data": {
      "text/plain": [
       "223"
      ]
     },
     "execution_count": 133,
     "metadata": {},
     "output_type": "execute_result"
    }
   ],
   "source": [
    "len(test_prediction)"
   ]
  },
  {
   "cell_type": "code",
   "execution_count": 137,
   "id": "9931ecb9-c56c-4628-8184-198b5eadda3b",
   "metadata": {
    "execution": {
     "iopub.execute_input": "2022-10-02T11:00:02.209862Z",
     "iopub.status.busy": "2022-10-02T11:00:02.209379Z",
     "iopub.status.idle": "2022-10-02T11:00:02.242056Z",
     "shell.execute_reply": "2022-10-02T11:00:02.240973Z",
     "shell.execute_reply.started": "2022-10-02T11:00:02.209801Z"
    },
    "tags": []
   },
   "outputs": [],
   "source": [
    "test_prediction_ls = [pred.values() for pred in test_prediction]"
   ]
  },
  {
   "cell_type": "code",
   "execution_count": 143,
   "id": "0b4f3540-c0ed-4660-be93-e3346468e647",
   "metadata": {
    "execution": {
     "iopub.execute_input": "2022-10-02T11:09:33.273403Z",
     "iopub.status.busy": "2022-10-02T11:09:33.273123Z",
     "iopub.status.idle": "2022-10-02T11:09:33.278960Z",
     "shell.execute_reply": "2022-10-02T11:09:33.277415Z",
     "shell.execute_reply.started": "2022-10-02T11:09:33.273372Z"
    },
    "tags": []
   },
   "outputs": [],
   "source": [
    "predictions = mm_scaler.inverse_transform(np.array(test_prediction_ls).squeeze())"
   ]
  },
  {
   "cell_type": "code",
   "execution_count": 147,
   "id": "8ec871b3-105f-4dcb-a290-c0e290349580",
   "metadata": {
    "execution": {
     "iopub.execute_input": "2022-10-02T12:16:21.788949Z",
     "iopub.status.busy": "2022-10-02T12:16:21.788589Z",
     "iopub.status.idle": "2022-10-02T12:16:22.487191Z",
     "shell.execute_reply": "2022-10-02T12:16:22.486450Z",
     "shell.execute_reply.started": "2022-10-02T12:16:21.788918Z"
    },
    "tags": []
   },
   "outputs": [
    {
     "data": {
      "image/png": "[encoded data removed]",
      "text/plain": [
       "<Figure size 432x288 with 1 Axes>"
      ]
     },
     "metadata": {
      "needs_background": "light"
     },
     "output_type": "display_data"
    }
   ],
   "source": [
    "import matplotlib.pyplot as plt\n",
    "\n",
    "# copy from Sidarthe model\n",
    "input_steps=1\n",
    "output_steps=2\n",
    "\n",
    "start_index = VAL_IDX+input_steps+output_steps\n",
    "x = last_update_pydatetime[start_index:]\n",
    "\n",
    "plt.plot(x, predictions[input_steps+output_steps:,0], label ='predict infected', color=confirmed_color )\n",
    "plt.plot(x, canada[start_index:][:,0], '-.', label ='actual infected', color=confirmed_color )\n",
    "plt.plot(x, predictions[input_steps+output_steps:,1], label ='predict recovered', color=healed_color)\n",
    "plt.plot(x, canada[start_index:][:,1], '-.', label ='actual recovered', color=healed_color)\n",
    "plt.plot(x, predictions[input_steps+output_steps:,2], label ='predict death', color=death_color)\n",
    "plt.plot(x, canada[start_index:][:,2], '-.', label ='actual death', color=death_color)\n",
    "plt.yscale('log')\n",
    "plt.xlabel(\"date\")\n",
    "plt.ylabel(\"number of infected\")\n",
    "plt.legend()\n",
    "plt.xticks(rotation=10)\n",
    "tikzplotlib.save(\"tft.tikz\")\n",
    "plt.legend()\n",
    "plt.show()"
   ]
  },
  {
   "cell_type": "code",
   "execution_count": 149,
   "id": "ecbcb59d-40c2-406c-98a8-2d1deb074935",
   "metadata": {
    "execution": {
     "iopub.execute_input": "2022-10-02T19:50:28.508513Z",
     "iopub.status.busy": "2022-10-02T19:50:28.508019Z",
     "iopub.status.idle": "2022-10-02T19:50:28.519340Z",
     "shell.execute_reply": "2022-10-02T19:50:28.516297Z",
     "shell.execute_reply.started": "2022-10-02T19:50:28.508471Z"
    },
    "tags": []
   },
   "outputs": [
    {
     "data": {
      "text/plain": [
       "46690140.86441061"
      ]
     },
     "execution_count": 149,
     "metadata": {},
     "output_type": "execute_result"
    }
   ],
   "source": [
    "mean_squared_error(predictions[3:,0], canada[VAL_IDX:][3:,0], squared=False)"
   ]
  },
  {
   "cell_type": "code",
   "execution_count": 150,
   "id": "7190a25d-e938-4ab0-b8a8-25ed5b1cb9e9",
   "metadata": {
    "execution": {
     "iopub.execute_input": "2022-10-02T19:50:29.261475Z",
     "iopub.status.busy": "2022-10-02T19:50:29.261009Z",
     "iopub.status.idle": "2022-10-02T19:50:29.271941Z",
     "shell.execute_reply": "2022-10-02T19:50:29.270031Z",
     "shell.execute_reply.started": "2022-10-02T19:50:29.261430Z"
    },
    "tags": []
   },
   "outputs": [
    {
     "data": {
      "text/plain": [
       "41675153.81865376"
      ]
     },
     "execution_count": 150,
     "metadata": {},
     "output_type": "execute_result"
    }
   ],
   "source": [
    "mean_squared_error(predictions[3:,1], canada[VAL_IDX:][3:,1], squared=False)"
   ]
  },
  {
   "cell_type": "code",
   "execution_count": 148,
   "id": "c0702d34-2df4-412c-9494-e6b3e38d8caa",
   "metadata": {
    "execution": {
     "iopub.execute_input": "2022-10-02T19:48:53.371360Z",
     "iopub.status.busy": "2022-10-02T19:48:53.369517Z",
     "iopub.status.idle": "2022-10-02T19:48:53.407365Z",
     "shell.execute_reply": "2022-10-02T19:48:53.405876Z",
     "shell.execute_reply.started": "2022-10-02T19:48:53.371244Z"
    },
    "tags": []
   },
   "outputs": [
    {
     "data": {
      "text/plain": [
       "2958386.1495794775"
      ]
     },
     "execution_count": 148,
     "metadata": {},
     "output_type": "execute_result"
    }
   ],
   "source": [
    "mean_squared_error(predictions[3:,2], canada[VAL_IDX:][3:,2], squared=False)"
   ]
  },
  {
   "cell_type": "markdown",
   "id": "a3a43e45-e508-4578-84a6-8ee7b30b3875",
   "metadata": {
    "execution": {
     "iopub.execute_input": "2022-09-24T14:23:57.930434Z",
     "iopub.status.busy": "2022-09-24T14:23:57.930120Z",
     "iopub.status.idle": "2022-09-24T14:23:57.940456Z",
     "shell.execute_reply": "2022-09-24T14:23:57.937208Z",
     "shell.execute_reply.started": "2022-09-24T14:23:57.930389Z"
    },
    "tags": []
   },
   "source": [
    "---"
   ]
  },
  {
   "cell_type": "markdown",
   "id": "eb3c73fd-5fd7-41b1-aa50-55a012ed3e6d",
   "metadata": {
    "execution": {
     "iopub.execute_input": "2022-09-24T14:26:04.779507Z",
     "iopub.status.busy": "2022-09-24T14:26:04.779188Z",
     "iopub.status.idle": "2022-09-24T14:26:04.792199Z",
     "shell.execute_reply": "2022-09-24T14:26:04.790738Z",
     "shell.execute_reply.started": "2022-09-24T14:26:04.779471Z"
    },
    "tags": []
   },
   "source": [
    "### ARIMA"
   ]
  },
  {
   "cell_type": "code",
   "execution_count": 78,
   "id": "2c9922e4-5d68-4058-bda3-266c42cb5e8e",
   "metadata": {
    "execution": {
     "iopub.execute_input": "2022-10-01T23:35:05.751680Z",
     "iopub.status.busy": "2022-10-01T23:35:05.751240Z",
     "iopub.status.idle": "2022-10-01T23:35:05.758462Z",
     "shell.execute_reply": "2022-10-01T23:35:05.757564Z",
     "shell.execute_reply.started": "2022-10-01T23:35:05.751639Z"
    },
    "tags": []
   },
   "outputs": [],
   "source": [
    "from statsmodels.tsa.arima.model import ARIMA\n",
    "from matplotlib import pyplot\n",
    "\n",
    "\n",
    "def arima_prediction(column):\n",
    "    model = ARIMA(canada[:TRAIN_IDX, column], order=(32,0,0))\n",
    "    model_fit = model.fit(method='burg')\n",
    "    predictions = []\n",
    "    for t in range(VAL_IDX, len(canada)):\n",
    "        output = model_fit.forecast()\n",
    "        yhat = output[0]\n",
    "        predictions.append(yhat)\n",
    "        model = ARIMA(canada[TRAIN_IDX:t,column], order=(32,0,0))\n",
    "        model_fit = model.fit(method='burg')\n",
    "    return predictions"
   ]
  },
  {
   "cell_type": "code",
   "execution_count": 79,
   "id": "f2075dd5-283d-4f26-bc78-8b7b6dc3efea",
   "metadata": {
    "execution": {
     "iopub.execute_input": "2022-10-01T23:35:07.565586Z",
     "iopub.status.busy": "2022-10-01T23:35:07.565171Z",
     "iopub.status.idle": "2022-10-01T23:36:07.934386Z",
     "shell.execute_reply": "2022-10-01T23:36:07.933692Z",
     "shell.execute_reply.started": "2022-10-01T23:35:07.565539Z"
    },
    "tags": []
   },
   "outputs": [],
   "source": [
    "infected = arima_prediction(0)"
   ]
  },
  {
   "cell_type": "code",
   "execution_count": 80,
   "id": "85a7b14d-42f7-4578-847d-e686e2ac0705",
   "metadata": {
    "execution": {
     "iopub.execute_input": "2022-10-01T23:36:07.936169Z",
     "iopub.status.busy": "2022-10-01T23:36:07.935946Z",
     "iopub.status.idle": "2022-10-01T23:37:06.760704Z",
     "shell.execute_reply": "2022-10-01T23:37:06.759989Z",
     "shell.execute_reply.started": "2022-10-01T23:36:07.936137Z"
    },
    "tags": []
   },
   "outputs": [],
   "source": [
    "healed = arima_prediction(1)"
   ]
  },
  {
   "cell_type": "code",
   "execution_count": 81,
   "id": "2c0944f6-6a63-4d11-9cea-d5fbb7f6cf6d",
   "metadata": {
    "execution": {
     "iopub.execute_input": "2022-10-01T23:37:06.763023Z",
     "iopub.status.busy": "2022-10-01T23:37:06.762799Z",
     "iopub.status.idle": "2022-10-01T23:38:04.674044Z",
     "shell.execute_reply": "2022-10-01T23:38:04.673231Z",
     "shell.execute_reply.started": "2022-10-01T23:37:06.762998Z"
    },
    "tags": []
   },
   "outputs": [],
   "source": [
    "death = arima_prediction(2)"
   ]
  },
  {
   "cell_type": "code",
   "execution_count": 82,
   "id": "002f3225-7ce5-4c73-b646-75434829fde0",
   "metadata": {
    "execution": {
     "iopub.execute_input": "2022-10-01T23:38:04.675882Z",
     "iopub.status.busy": "2022-10-01T23:38:04.675533Z",
     "iopub.status.idle": "2022-10-01T23:38:04.680164Z",
     "shell.execute_reply": "2022-10-01T23:38:04.679235Z",
     "shell.execute_reply.started": "2022-10-01T23:38:04.675847Z"
    },
    "tags": []
   },
   "outputs": [],
   "source": [
    "predictions = np.stack([infected, healed, death], axis=1)"
   ]
  },
  {
   "cell_type": "code",
   "execution_count": 85,
   "id": "847d7206-e36a-4081-a21b-196260bb6821",
   "metadata": {
    "execution": {
     "iopub.execute_input": "2022-10-01T23:48:16.549058Z",
     "iopub.status.busy": "2022-10-01T23:48:16.548750Z",
     "iopub.status.idle": "2022-10-01T23:48:16.553502Z",
     "shell.execute_reply": "2022-10-01T23:48:16.552473Z",
     "shell.execute_reply.started": "2022-10-01T23:48:16.549025Z"
    },
    "tags": []
   },
   "outputs": [],
   "source": [
    "inversed_predict_arima = mm_scaler.inverse_transform(predictions)"
   ]
  },
  {
   "cell_type": "code",
   "execution_count": 83,
   "id": "57ec055d-9519-4b18-bf36-815d15fc0e30",
   "metadata": {
    "execution": {
     "iopub.execute_input": "2022-10-01T23:38:04.682337Z",
     "iopub.status.busy": "2022-10-01T23:38:04.681945Z",
     "iopub.status.idle": "2022-10-01T23:38:04.827726Z",
     "shell.execute_reply": "2022-10-01T23:38:04.826477Z",
     "shell.execute_reply.started": "2022-10-01T23:38:04.682289Z"
    },
    "tags": []
   },
   "outputs": [],
   "source": [
    "import tikzplotlib\n",
    "\n",
    "confirmed_color=(217/256,95/256,2/256)\n",
    "healed_color=(27/256,158/256,119/256)\n",
    "death_color=(117/256,112/236,179/256)"
   ]
  },
  {
   "cell_type": "code",
   "execution_count": 95,
   "id": "1d27b447-326a-4ae2-b1bb-5a0bebfd387b",
   "metadata": {
    "execution": {
     "iopub.execute_input": "2022-10-02T00:46:00.836552Z",
     "iopub.status.busy": "2022-10-02T00:46:00.834676Z",
     "iopub.status.idle": "2022-10-02T00:46:00.879309Z",
     "shell.execute_reply": "2022-10-02T00:46:00.878324Z",
     "shell.execute_reply.started": "2022-10-02T00:46:00.836390Z"
    },
    "tags": []
   },
   "outputs": [],
   "source": [
    "from datetime import datetime\n",
    "\n",
    "canada_csv = pd.read_csv('canada.csv')\n",
    "date_series = pd.to_datetime(canada_csv['Last_Update'])\n",
    "last_update_pydatetime = [datetime(year=x.year, month=x.month, day=x.day, hour=x.hour, minute=x.minute, second=x.second)\n",
    "                          for x in date_series]"
   ]
  },
  {
   "cell_type": "code",
   "execution_count": 102,
   "id": "a0bb10a3-b46e-4439-a21d-4f9a3d5a4880",
   "metadata": {
    "execution": {
     "iopub.execute_input": "2022-10-02T00:56:31.561245Z",
     "iopub.status.busy": "2022-10-02T00:56:31.560869Z",
     "iopub.status.idle": "2022-10-02T00:56:32.127337Z",
     "shell.execute_reply": "2022-10-02T00:56:32.126314Z",
     "shell.execute_reply.started": "2022-10-02T00:56:31.561197Z"
    },
    "tags": []
   },
   "outputs": [
    {
     "data": {
      "image/png": "[encoded data removed]",
      "text/plain": [
       "<Figure size 432x288 with 1 Axes>"
      ]
     },
     "metadata": {
      "needs_background": "light"
     },
     "output_type": "display_data"
    }
   ],
   "source": [
    "import matplotlib.pyplot as plt\n",
    "\n",
    "# copy from Sidarthe model\n",
    "input_steps=1\n",
    "output_steps=2\n",
    "\n",
    "start_index = VAL_IDX+input_steps+output_steps\n",
    "x = last_update_pydatetime[start_index:]\n",
    "\n",
    "plt.plot(x, predictions[input_steps+output_steps:,0], label ='predict infected', color=confirmed_color )\n",
    "plt.plot(x, canada[start_index:][:,0], '-.', label ='actual infected', color=confirmed_color )\n",
    "plt.plot(x, predictions[input_steps+output_steps:,1], label ='predict recovered', color=healed_color)\n",
    "plt.plot(x, canada[start_index:][:,1], '-.', label ='actual recovered', color=healed_color)\n",
    "plt.plot(x, predictions[input_steps+output_steps:,2], label ='predict death', color=death_color)\n",
    "plt.plot(x, canada[start_index:][:,2], '-.', label ='actual death', color=death_color)\n",
    "plt.yscale('log')\n",
    "plt.xlabel(\"date\")\n",
    "plt.ylabel(\"number of infected\")\n",
    "plt.legend()\n",
    "plt.xticks(rotation=10)\n",
    "tikzplotlib.save(\"arima.tikz\")\n",
    "plt.legend()\n",
    "plt.show()"
   ]
  },
  {
   "cell_type": "code",
   "execution_count": 103,
   "id": "4c2c2b6f-f582-4652-aae6-14ccfc5de988",
   "metadata": {
    "execution": {
     "iopub.execute_input": "2022-10-02T00:56:46.675880Z",
     "iopub.status.busy": "2022-10-02T00:56:46.675646Z",
     "iopub.status.idle": "2022-10-02T00:56:46.682909Z",
     "shell.execute_reply": "2022-10-02T00:56:46.681763Z",
     "shell.execute_reply.started": "2022-10-02T00:56:46.675856Z"
    },
    "tags": []
   },
   "outputs": [
    {
     "data": {
      "text/plain": [
       "32189.883983899264"
      ]
     },
     "execution_count": 103,
     "metadata": {},
     "output_type": "execute_result"
    }
   ],
   "source": [
    "mean_squared_error(predictions[3:,0], canada[VAL_IDX:][3:,0], squared=False)"
   ]
  },
  {
   "cell_type": "code",
   "execution_count": 92,
   "id": "411d99e3-b2bf-4fd3-bcf9-ba63dcbf522d",
   "metadata": {
    "execution": {
     "iopub.execute_input": "2022-10-01T23:51:27.854962Z",
     "iopub.status.busy": "2022-10-01T23:51:27.854637Z",
     "iopub.status.idle": "2022-10-01T23:51:27.862512Z",
     "shell.execute_reply": "2022-10-01T23:51:27.860754Z",
     "shell.execute_reply.started": "2022-10-01T23:51:27.854924Z"
    },
    "tags": []
   },
   "outputs": [
    {
     "data": {
      "text/plain": [
       "28208.251824218773"
      ]
     },
     "execution_count": 92,
     "metadata": {},
     "output_type": "execute_result"
    }
   ],
   "source": [
    "mean_squared_error(predictions[3:,1], canada[VAL_IDX:][3:,1], squared=False)"
   ]
  },
  {
   "cell_type": "code",
   "execution_count": 94,
   "id": "cc324267-d802-488c-8cd3-0a39204df8cb",
   "metadata": {
    "execution": {
     "iopub.execute_input": "2022-10-01T23:51:35.999814Z",
     "iopub.status.busy": "2022-10-01T23:51:35.999513Z",
     "iopub.status.idle": "2022-10-01T23:51:36.006960Z",
     "shell.execute_reply": "2022-10-01T23:51:36.005564Z",
     "shell.execute_reply.started": "2022-10-01T23:51:35.999780Z"
    },
    "tags": []
   },
   "outputs": [
    {
     "data": {
      "text/plain": [
       "809.9104266812906"
      ]
     },
     "execution_count": 94,
     "metadata": {},
     "output_type": "execute_result"
    }
   ],
   "source": [
    "mean_squared_error(predictions[3:,2], canada[VAL_IDX:][3:,2], squared=False)"
   ]
  }
 ],
 "metadata": {
  "jupytext": {
   "cell_metadata_filter": "-all",
   "encoding": "# coding: utf-8",
   "executable": "/usr/bin/env python",
   "main_language": "python",
   "notebook_metadata_filter": "-all"
  },
  "kernelspec": {
   "display_name": "Python 3",
   "language": "python",
   "name": "python3"
  },
  "language_info": {
   "codemirror_mode": {
    "name": "ipython",
    "version": 3
   },
   "file_extension": ".py",
   "mimetype": "text/x-python",
   "name": "python",
   "nbconvert_exporter": "python",
   "pygments_lexer": "ipython3",
   "version": "3.7.9"
  }
 },
 "nbformat": 4,
 "nbformat_minor": 5
}
