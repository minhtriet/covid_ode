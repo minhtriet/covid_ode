{
 "cells": [
  {
   "cell_type": "code",
   "execution_count": 1,
   "id": "8e98e3d6",
   "metadata": {
    "execution": {
     "iopub.execute_input": "2022-09-23T09:02:46.254839Z",
     "iopub.status.busy": "2022-09-23T09:02:46.254548Z",
     "iopub.status.idle": "2022-09-23T09:02:55.669190Z",
     "shell.execute_reply": "2022-09-23T09:02:55.668513Z",
     "shell.execute_reply.started": "2022-09-23T09:02:46.254768Z"
    },
    "lines_to_next_cell": 2,
    "tags": []
   },
   "outputs": [],
   "source": [
    "import pickle\n",
    "import pandas as pd\n",
    "from sklearn.preprocessing import StandardScaler\n",
    "import numpy as np\n",
    "\n",
    "import warnings\n",
    "warnings.filterwarnings('ignore')\n",
    "\n",
    "import torch\n",
    "from darts import TimeSeries\n",
    "from darts.metrics import rmse\n",
    "from sklearn.metrics import mean_squared_error\n",
    "\n",
    "torch.manual_seed(3407)\n",
    "device = torch.device(\"cuda\" if torch.cuda.is_available() else \"cpu\")\n",
    "import matplotlib.pyplot as plt\n",
    "\n",
    "from darts.models import TFTModel "
   ]
  },
  {
   "cell_type": "code",
   "execution_count": 2,
   "id": "74e26893-4f57-4a88-9015-882791bdffb1",
   "metadata": {
    "execution": {
     "iopub.execute_input": "2022-09-23T09:02:55.671942Z",
     "iopub.status.busy": "2022-09-23T09:02:55.671579Z",
     "iopub.status.idle": "2022-09-23T09:02:59.374474Z",
     "shell.execute_reply": "2022-09-23T09:02:59.372443Z",
     "shell.execute_reply.started": "2022-09-23T09:02:55.671901Z"
    },
    "tags": []
   },
   "outputs": [
    {
     "name": "stdout",
     "output_type": "stream",
     "text": [
      "[jupytext] Reading TFT_Covid_2.ipynb in format ipynb\n",
      "[jupytext] Updating notebook metadata with '{\"jupytext\": {\"formats\": \"ipynb,py\"}}'\n",
      "[jupytext] Updating TFT_Covid_2.ipynb\n",
      "[jupytext] Updating TFT_Covid_2.py\n",
      "[jupytext] Reading TFT_Covid_2.ipynb in format ipynb\n",
      "[jupytext] Loading TFT_Covid_2.py\n",
      "[jupytext] Updating TFT_Covid_2.ipynb\n",
      "[jupytext] Updating the timestamp of TFT_Covid_2.py\n"
     ]
    }
   ],
   "source": [
    "!jupytext --set-formats ipynb,py TFT_Covid_2.ipynb\n",
    "!jupytext --sync TFT_Covid_2.ipynb"
   ]
  },
  {
   "cell_type": "code",
   "execution_count": 3,
   "id": "bcb867e2-a37b-46b1-9c78-5d7918f90768",
   "metadata": {
    "execution": {
     "iopub.execute_input": "2022-09-23T09:02:59.379665Z",
     "iopub.status.busy": "2022-09-23T09:02:59.379060Z",
     "iopub.status.idle": "2022-09-23T09:02:59.387619Z",
     "shell.execute_reply": "2022-09-23T09:02:59.386138Z",
     "shell.execute_reply.started": "2022-09-23T09:02:59.379602Z"
    },
    "tags": []
   },
   "outputs": [],
   "source": [
    "mm_scaler = StandardScaler()"
   ]
  },
  {
   "cell_type": "code",
   "execution_count": 4,
   "id": "d77b3b7d",
   "metadata": {
    "execution": {
     "iopub.execute_input": "2022-09-23T09:02:59.391501Z",
     "iopub.status.busy": "2022-09-23T09:02:59.390862Z",
     "iopub.status.idle": "2022-09-23T09:02:59.413362Z",
     "shell.execute_reply": "2022-09-23T09:02:59.412246Z",
     "shell.execute_reply.started": "2022-09-23T09:02:59.391442Z"
    },
    "lines_to_next_cell": 2,
    "tags": []
   },
   "outputs": [],
   "source": [
    "canada = pd.read_csv('canada.csv')\n",
    "canada = canada.values[:, 0:3].astype(float)\n",
    "\n",
    "TRAIN_IDX = int(canada.shape[0]*.5)\n",
    "VAL_IDX = TRAIN_IDX + int(canada.shape[0]*.1)\n",
    "\n"
   ]
  },
  {
   "cell_type": "code",
   "execution_count": 5,
   "id": "bb4a4153-511c-4dfd-b4e7-14ebed1e4311",
   "metadata": {
    "execution": {
     "iopub.execute_input": "2022-09-23T09:02:59.415293Z",
     "iopub.status.busy": "2022-09-23T09:02:59.414834Z",
     "iopub.status.idle": "2022-09-23T09:02:59.424926Z",
     "shell.execute_reply": "2022-09-23T09:02:59.423835Z",
     "shell.execute_reply.started": "2022-09-23T09:02:59.415205Z"
    },
    "tags": []
   },
   "outputs": [],
   "source": [
    "canada[:TRAIN_IDX] = mm_scaler.fit_transform(canada[:TRAIN_IDX])\n",
    "canada[TRAIN_IDX:VAL_IDX] = mm_scaler.transform(canada[TRAIN_IDX:VAL_IDX])\n",
    "canada_train_val = canada[:VAL_IDX]\n",
    "\n",
    "time_series = TimeSeries.from_values(canada_train_val)"
   ]
  },
  {
   "cell_type": "code",
   "execution_count": 6,
   "id": "70e1e818",
   "metadata": {
    "execution": {
     "iopub.execute_input": "2022-09-23T09:02:59.429783Z",
     "iopub.status.busy": "2022-09-23T09:02:59.429360Z",
     "iopub.status.idle": "2022-09-23T10:23:08.072709Z",
     "shell.execute_reply": "2022-09-23T10:23:08.068692Z",
     "shell.execute_reply.started": "2022-09-23T09:02:59.429670Z"
    },
    "lines_to_next_cell": 2,
    "tags": []
   },
   "outputs": [
    {
     "data": {
      "application/vnd.jupyter.widget-view+json": {
       "model_id": "f95af847c7b047f1839efacb38b17e84",
       "version_major": 2,
       "version_minor": 0
      },
      "text/plain": [
       "  0%|          | 0/216 [00:00<?, ?it/s]"
      ]
     },
     "metadata": {},
     "output_type": "display_data"
    },
    {
     "name": "stderr",
     "output_type": "stream",
     "text": [
      "[2022-09-23 11:23:07,807] INFO | darts.models.forecasting.forecasting_model | Chosen parameters: {'hidden_continuous_size': 8, 'lstm_layers': 2, 'dropout': 0.1, 'batch_size': 2, 'input_chunk_length': 64, 'output_chunk_length': 2, 'n_epochs': 24, 'num_attention_heads': 2, 'add_relative_index': True}\n",
      "[2022-09-23 11:23:07,807] INFO | darts.models.forecasting.forecasting_model | Chosen parameters: {'hidden_continuous_size': 8, 'lstm_layers': 2, 'dropout': 0.1, 'batch_size': 2, 'input_chunk_length': 64, 'output_chunk_length': 2, 'n_epochs': 24, 'num_attention_heads': 2, 'add_relative_index': True}\n",
      "2022-09-23 11:23:07 darts.models.forecasting.forecasting_model INFO: Chosen parameters: {'hidden_continuous_size': 8, 'lstm_layers': 2, 'dropout': 0.1, 'batch_size': 2, 'input_chunk_length': 64, 'output_chunk_length': 2, 'n_epochs': 24, 'num_attention_heads': 2, 'add_relative_index': True}\n"
     ]
    }
   ],
   "source": [
    "OUTPUT_STEP = 2  # predict |OUTPUT_STEP| steps as output\n",
    "\n",
    "parameters = {\n",
    "    \"hidden_continuous_size\": [2, 4, 8],\n",
    "    \"lstm_layers\": [2, 4],\n",
    "    \"dropout\": [0.1, 0.3],   \n",
    "    \"batch_size\": [2,4],\n",
    "    \"input_chunk_length\": [16,32,64],\n",
    "    \"output_chunk_length\": [OUTPUT_STEP],\n",
    "    \"n_epochs\": [24],\n",
    "    \"num_attention_heads\": [2, 4, 8],   # divisible by number of features\n",
    "    \"add_relative_index\": [True]\n",
    "}\n",
    "\n",
    "best_model, _, _ = TFTModel.gridsearch(\n",
    "    parameters = parameters,\n",
    "    series = time_series[:TRAIN_IDX],\n",
    "    val_series = time_series[TRAIN_IDX:VAL_IDX],\n",
    "    metric = rmse,\n",
    "    n_jobs=16,\n",
    "    verbose=True)"
   ]
  },
  {
   "cell_type": "code",
   "execution_count": 8,
   "id": "992b43ce",
   "metadata": {
    "execution": {
     "iopub.execute_input": "2022-09-23T12:44:46.502092Z",
     "iopub.status.busy": "2022-09-23T12:44:46.500857Z",
     "iopub.status.idle": "2022-09-23T12:46:28.962819Z",
     "shell.execute_reply": "2022-09-23T12:46:28.961632Z",
     "shell.execute_reply.started": "2022-09-23T12:44:46.501985Z"
    },
    "lines_to_next_cell": 2,
    "tags": []
   },
   "outputs": [
    {
     "name": "stderr",
     "output_type": "stream",
     "text": [
      "[2022-09-23 13:44:46,557] INFO | darts.models.forecasting.torch_forecasting_model | Train dataset contains 212 samples.\n",
      "[2022-09-23 13:44:46,557] INFO | darts.models.forecasting.torch_forecasting_model | Train dataset contains 212 samples.\n",
      "2022-09-23 13:44:46 darts.models.forecasting.torch_forecasting_model INFO: Train dataset contains 212 samples.\n",
      "[2022-09-23 13:44:46,893] INFO | darts.models.forecasting.torch_forecasting_model | Time series values are 64-bits; casting model to float64.\n",
      "[2022-09-23 13:44:46,893] INFO | darts.models.forecasting.torch_forecasting_model | Time series values are 64-bits; casting model to float64.\n",
      "2022-09-23 13:44:46 darts.models.forecasting.torch_forecasting_model INFO: Time series values are 64-bits; casting model to float64.\n",
      "2022-09-23 13:44:46 pytorch_lightning.utilities.distributed INFO: GPU available: False, used: False\n",
      "2022-09-23 13:44:46 pytorch_lightning.utilities.distributed INFO: TPU available: False, using: 0 TPU cores\n",
      "2022-09-23 13:44:46 pytorch_lightning.utilities.distributed INFO: IPU available: False, using: 0 IPUs\n",
      "2022-09-23 13:44:47 pytorch_lightning.callbacks.model_summary INFO: \n",
      "   | Name                              | Type                             | Params\n",
      "----------------------------------------------------------------------------------------\n",
      "0  | static_covariates_vsn             | _VariableSelectionNetwork        | 0     \n",
      "1  | encoder_vsn                       | _VariableSelectionNetwork        | 2.4 K \n",
      "2  | decoder_vsn                       | _VariableSelectionNetwork        | 528   \n",
      "3  | static_context_grn                | _GatedResidualNetwork            | 1.1 K \n",
      "4  | static_context_hidden_encoder_grn | _GatedResidualNetwork            | 1.1 K \n",
      "5  | static_context_cell_encoder_grn   | _GatedResidualNetwork            | 1.1 K \n",
      "6  | static_context_enrichment         | _GatedResidualNetwork            | 1.1 K \n",
      "7  | lstm_encoder                      | LSTM                             | 4.4 K \n",
      "8  | lstm_decoder                      | LSTM                             | 4.4 K \n",
      "9  | post_lstm_gan                     | _GateAddNorm                     | 576   \n",
      "10 | static_enrichment_grn             | _GatedResidualNetwork            | 1.4 K \n",
      "11 | multihead_attn                    | _InterpretableMultiHeadAttention | 808   \n",
      "12 | post_attn_gan                     | _GateAddNorm                     | 576   \n",
      "13 | positionwise_feedforward_grn      | _GatedResidualNetwork            | 1.1 K \n",
      "14 | pre_output_gan                    | _GateAddNorm                     | 576   \n",
      "15 | output_layer                      | Linear                           | 867   \n",
      "----------------------------------------------------------------------------------------\n",
      "22.0 K    Trainable params\n",
      "0         Non-trainable params\n",
      "22.0 K    Total params\n",
      "0.176     Total estimated model params size (MB)\n"
     ]
    },
    {
     "data": {
      "application/vnd.jupyter.widget-view+json": {
       "model_id": "b5b5ecd2024e48889ffc111fb92019c7",
       "version_major": 2,
       "version_minor": 0
      },
      "text/plain": [
       "Training: 0it [00:00, ?it/s]"
      ]
     },
     "metadata": {},
     "output_type": "display_data"
    },
    {
     "data": {
      "text/plain": [
       "<darts.models.forecasting.tft_model.TFTModel at 0x7fdae33d3090>"
      ]
     },
     "execution_count": 8,
     "metadata": {},
     "output_type": "execute_result"
    }
   ],
   "source": [
    "best_model.fit(time_series[:TRAIN_IDX]) "
   ]
  },
  {
   "cell_type": "code",
   "execution_count": 9,
   "id": "4e03b28e-77f6-4117-b295-d47699bd49d5",
   "metadata": {
    "execution": {
     "iopub.execute_input": "2022-09-23T12:46:28.965102Z",
     "iopub.status.busy": "2022-09-23T12:46:28.964777Z",
     "iopub.status.idle": "2022-09-23T12:46:29.273873Z",
     "shell.execute_reply": "2022-09-23T12:46:29.273123Z",
     "shell.execute_reply.started": "2022-09-23T12:46:28.965073Z"
    },
    "tags": []
   },
   "outputs": [],
   "source": [
    "best_model.save_model('tft_train_val.pth.tar')"
   ]
  },
  {
   "cell_type": "code",
   "execution_count": 10,
   "id": "6e42e4c3-ec78-40c0-bc52-5f16452f5dcc",
   "metadata": {
    "execution": {
     "iopub.execute_input": "2022-09-23T12:46:29.276508Z",
     "iopub.status.busy": "2022-09-23T12:46:29.276201Z",
     "iopub.status.idle": "2022-09-23T12:46:31.132248Z",
     "shell.execute_reply": "2022-09-23T12:46:31.131408Z",
     "shell.execute_reply.started": "2022-09-23T12:46:29.276475Z"
    },
    "tags": []
   },
   "outputs": [],
   "source": [
    "best_model = TFTModel.load_model('tft_train_val.pth.tar')"
   ]
  },
  {
   "cell_type": "code",
   "execution_count": 11,
   "id": "b4f8f2ae-4d11-48bc-a968-aaef41fde05d",
   "metadata": {
    "execution": {
     "iopub.execute_input": "2022-09-23T12:46:31.134451Z",
     "iopub.status.busy": "2022-09-23T12:46:31.134100Z",
     "iopub.status.idle": "2022-09-23T12:46:31.467000Z",
     "shell.execute_reply": "2022-09-23T12:46:31.466284Z",
     "shell.execute_reply.started": "2022-09-23T12:46:31.134407Z"
    },
    "tags": []
   },
   "outputs": [
    {
     "name": "stderr",
     "output_type": "stream",
     "text": [
      "2022-09-23 13:46:31 pytorch_lightning.utilities.distributed INFO: GPU available: False, used: False\n",
      "2022-09-23 13:46:31 pytorch_lightning.utilities.distributed INFO: TPU available: False, using: 0 TPU cores\n",
      "2022-09-23 13:46:31 pytorch_lightning.utilities.distributed INFO: IPU available: False, using: 0 IPUs\n"
     ]
    },
    {
     "data": {
      "application/vnd.jupyter.widget-view+json": {
       "model_id": "67766b27f6bb477b8138d30f153479d3",
       "version_major": 2,
       "version_minor": 0
      },
      "text/plain": [
       "Predicting: 0it [00:00, ?it/s]"
      ]
     },
     "metadata": {},
     "output_type": "display_data"
    },
    {
     "name": "stdout",
     "output_type": "stream",
     "text": [
      "1.9371964889489082\n"
     ]
    }
   ],
   "source": [
    "predict = best_model.predict(VAL_IDX-TRAIN_IDX)\n",
    "print(rmse(predict, time_series[TRAIN_IDX:VAL_IDX]))"
   ]
  },
  {
   "cell_type": "code",
   "execution_count": 12,
   "id": "6e475d11-a18d-4a15-8b60-bda48d5627f4",
   "metadata": {
    "execution": {
     "iopub.execute_input": "2022-09-23T12:46:31.468742Z",
     "iopub.status.busy": "2022-09-23T12:46:31.468517Z",
     "iopub.status.idle": "2022-09-23T12:46:31.475439Z",
     "shell.execute_reply": "2022-09-23T12:46:31.474507Z",
     "shell.execute_reply.started": "2022-09-23T12:46:31.468716Z"
    },
    "tags": []
   },
   "outputs": [],
   "source": [
    "inversed_predict=mm_scaler.inverse_transform(predict.values())"
   ]
  },
  {
   "cell_type": "code",
   "execution_count": 13,
   "id": "7faf8be9-be97-4a7a-bbfa-7851970758d4",
   "metadata": {
    "execution": {
     "iopub.execute_input": "2022-09-23T12:46:31.477000Z",
     "iopub.status.busy": "2022-09-23T12:46:31.476570Z",
     "iopub.status.idle": "2022-09-23T12:46:31.481677Z",
     "shell.execute_reply": "2022-09-23T12:46:31.480652Z",
     "shell.execute_reply.started": "2022-09-23T12:46:31.476969Z"
    },
    "tags": []
   },
   "outputs": [],
   "source": [
    "true_value=mm_scaler.inverse_transform(time_series[TRAIN_IDX:VAL_IDX].values())"
   ]
  },
  {
   "cell_type": "code",
   "execution_count": 14,
   "id": "0f66db1a-b6b2-4b04-b84f-05db964bda7e",
   "metadata": {
    "execution": {
     "iopub.execute_input": "2022-09-23T12:46:31.483702Z",
     "iopub.status.busy": "2022-09-23T12:46:31.483237Z",
     "iopub.status.idle": "2022-09-23T12:46:31.790395Z",
     "shell.execute_reply": "2022-09-23T12:46:31.789566Z",
     "shell.execute_reply.started": "2022-09-23T12:46:31.483660Z"
    },
    "tags": []
   },
   "outputs": [
    {
     "data": {
      "image/png": "[encoded data removed]",
      "text/plain": [
       "<Figure size 432x288 with 1 Axes>"
      ]
     },
     "metadata": {
      "needs_background": "light"
     },
     "output_type": "display_data"
    }
   ],
   "source": [
    "import matplotlib.pyplot as plt\n",
    "\n",
    "x = range(len(inversed_predict))\n",
    "\n",
    "plt.plot(x, inversed_predict[:,0], label ='predict infected')\n",
    "plt.plot(x, true_value[:,0], '-.', label ='actual infected')\n",
    "plt.plot(x, inversed_predict[:,1], label ='predict recovered')\n",
    "plt.plot(x, true_value[:,1], '-.', label ='actual recovered')\n",
    "\n",
    "plt.xlabel(\"date\")\n",
    "plt.ylabel(\"number of infected\")\n",
    "plt.legend()\n",
    "plt.show()"
   ]
  },
  {
   "cell_type": "code",
   "execution_count": 15,
   "id": "d95da207-0841-4a4f-9059-21b59d998a63",
   "metadata": {
    "execution": {
     "iopub.execute_input": "2022-09-23T15:28:24.122221Z",
     "iopub.status.busy": "2022-09-23T15:28:24.119417Z",
     "iopub.status.idle": "2022-09-23T15:28:24.215198Z",
     "shell.execute_reply": "2022-09-23T15:28:24.214423Z",
     "shell.execute_reply.started": "2022-09-23T15:28:24.122067Z"
    },
    "tags": []
   },
   "outputs": [
    {
     "data": {
      "text/plain": [
       "30204504402.57199"
      ]
     },
     "execution_count": 15,
     "metadata": {},
     "output_type": "execute_result"
    }
   ],
   "source": [
    "mean_squared_error(inversed_predict[:,0], true_value[:,0])"
   ]
  }
 ],
 "metadata": {
  "jupytext": {
   "cell_metadata_filter": "-all",
   "encoding": "# coding: utf-8",
   "executable": "/usr/bin/env python",
   "main_language": "python",
   "notebook_metadata_filter": "-all"
  },
  "kernelspec": {
   "display_name": "Python 3",
   "language": "python",
   "name": "python3"
  },
  "language_info": {
   "codemirror_mode": {
    "name": "ipython",
    "version": 3
   },
   "file_extension": ".py",
   "mimetype": "text/x-python",
   "name": "python",
   "nbconvert_exporter": "python",
   "pygments_lexer": "ipython3",
   "version": "3.7.9"
  }
 },
 "nbformat": 4,
 "nbformat_minor": 5
}
