{
 "cells": [
  {
   "cell_type": "code",
   "execution_count": 69,
   "id": "2bb3e3b8-442c-4b75-8c1f-863f02bde29a",
   "metadata": {
    "execution": {
     "iopub.execute_input": "2022-10-02T21:32:06.734017Z",
     "iopub.status.busy": "2022-10-02T21:32:06.733681Z",
     "iopub.status.idle": "2022-10-02T21:32:06.751620Z",
     "shell.execute_reply": "2022-10-02T21:32:06.750526Z",
     "shell.execute_reply.started": "2022-10-02T21:32:06.733979Z"
    },
    "tags": []
   },
   "outputs": [],
   "source": [
    "import torch\n",
    "from covid_ode import sidartha_ode, covid_dataset\n",
    "import pandas as pd\n",
    "from torch.utils.data import DataLoader\n",
    "from tqdm.notebook import tqdm\n",
    "import numpy as np\n",
    "from sklearn.metrics import mean_squared_error\n",
    "device = torch.device(\"cuda\" if torch.cuda.is_available() else \"cpu\")"
   ]
  },
  {
   "cell_type": "code",
   "execution_count": 70,
   "id": "92f384c5-3b0b-41ce-8688-bf9ad652fbc1",
   "metadata": {
    "execution": {
     "iopub.execute_input": "2022-10-02T21:32:06.753867Z",
     "iopub.status.busy": "2022-10-02T21:32:06.753393Z",
     "iopub.status.idle": "2022-10-02T21:32:06.819507Z",
     "shell.execute_reply": "2022-10-02T21:32:06.818695Z",
     "shell.execute_reply.started": "2022-10-02T21:32:06.753809Z"
    },
    "tags": []
   },
   "outputs": [],
   "source": [
    "canada = pd.read_csv('canada.csv')\n",
    "canada = canada.values[:, 0:3].astype(float)"
   ]
  },
  {
   "cell_type": "code",
   "execution_count": 71,
   "id": "ed7cdb24-fa5d-4b71-a723-841fd3f5e7c5",
   "metadata": {
    "execution": {
     "iopub.execute_input": "2022-10-02T21:32:06.822722Z",
     "iopub.status.busy": "2022-10-02T21:32:06.822409Z",
     "iopub.status.idle": "2022-10-02T21:32:06.827354Z",
     "shell.execute_reply": "2022-10-02T21:32:06.826276Z",
     "shell.execute_reply.started": "2022-10-02T21:32:06.822670Z"
    },
    "tags": []
   },
   "outputs": [],
   "source": [
    "from sklearn.preprocessing import MinMaxScaler"
   ]
  },
  {
   "cell_type": "code",
   "execution_count": 72,
   "id": "920e90ef-5f1a-4091-bbfd-7e546d8793f8",
   "metadata": {
    "execution": {
     "iopub.execute_input": "2022-10-02T21:32:06.830381Z",
     "iopub.status.busy": "2022-10-02T21:32:06.830146Z",
     "iopub.status.idle": "2022-10-02T21:32:06.835501Z",
     "shell.execute_reply": "2022-10-02T21:32:06.834132Z",
     "shell.execute_reply.started": "2022-10-02T21:32:06.830356Z"
    },
    "tags": []
   },
   "outputs": [
    {
     "data": {
      "text/plain": [
       "(555, 3)"
      ]
     },
     "execution_count": 72,
     "metadata": {},
     "output_type": "execute_result"
    }
   ],
   "source": [
    "canada.shape"
   ]
  },
  {
   "cell_type": "code",
   "execution_count": 73,
   "id": "0489017c-94f1-41a5-b54b-5c4629f0110d",
   "metadata": {
    "execution": {
     "iopub.execute_input": "2022-10-02T21:32:06.837889Z",
     "iopub.status.busy": "2022-10-02T21:32:06.837649Z",
     "iopub.status.idle": "2022-10-02T21:32:06.844544Z",
     "shell.execute_reply": "2022-10-02T21:32:06.843580Z",
     "shell.execute_reply.started": "2022-10-02T21:32:06.837862Z"
    },
    "tags": []
   },
   "outputs": [
    {
     "data": {
      "text/plain": [
       "array([[4.000000e+00, 0.000000e+00, 0.000000e+00],\n",
       "       [4.000000e+00, 0.000000e+00, 0.000000e+00],\n",
       "       [4.000000e+00, 0.000000e+00, 0.000000e+00],\n",
       "       ...,\n",
       "       [1.435683e+06, 1.404327e+06, 2.660200e+04],\n",
       "       [1.437713e+06, 1.405529e+06, 2.660800e+04],\n",
       "       [1.438806e+06, 1.405971e+06, 2.661900e+04]])"
      ]
     },
     "execution_count": 73,
     "metadata": {},
     "output_type": "execute_result"
    }
   ],
   "source": [
    "canada"
   ]
  },
  {
   "cell_type": "code",
   "execution_count": 74,
   "id": "5f80af06-d168-45c8-b41b-eb584131862b",
   "metadata": {
    "execution": {
     "iopub.execute_input": "2022-10-02T21:32:06.846980Z",
     "iopub.status.busy": "2022-10-02T21:32:06.846669Z",
     "iopub.status.idle": "2022-10-02T21:32:06.863154Z",
     "shell.execute_reply": "2022-10-02T21:32:06.862431Z",
     "shell.execute_reply.started": "2022-10-02T21:32:06.846951Z"
    },
    "tags": []
   },
   "outputs": [
    {
     "data": {
      "text/plain": [
       "MinMaxScaler()"
      ]
     },
     "execution_count": 74,
     "metadata": {},
     "output_type": "execute_result"
    }
   ],
   "source": [
    "TRAIN_IDX = int(canada.shape[0]*.5)\n",
    "VAL_IDX = TRAIN_IDX + int(canada.shape[0]*.1)\n",
    "\n",
    "min_max_scaler = MinMaxScaler()\n",
    "min_max_scaler.fit(canada[:TRAIN_IDX])"
   ]
  },
  {
   "cell_type": "code",
   "execution_count": 75,
   "id": "2258e7da-b747-4cfc-a5b2-056e2603fd11",
   "metadata": {
    "execution": {
     "iopub.execute_input": "2022-10-02T21:32:06.864671Z",
     "iopub.status.busy": "2022-10-02T21:32:06.864232Z",
     "iopub.status.idle": "2022-10-02T21:32:06.870172Z",
     "shell.execute_reply": "2022-10-02T21:32:06.868968Z",
     "shell.execute_reply.started": "2022-10-02T21:32:06.864626Z"
    },
    "tags": []
   },
   "outputs": [],
   "source": [
    "canada_train = min_max_scaler.transform(canada[:TRAIN_IDX])\n",
    "canada_val = min_max_scaler.transform(canada[TRAIN_IDX:VAL_IDX])\n",
    "canada_test = min_max_scaler.transform(canada[VAL_IDX:])"
   ]
  },
  {
   "cell_type": "code",
   "execution_count": 76,
   "id": "7190f0b0-abf6-4a22-aa60-3a92d6e3ec64",
   "metadata": {
    "execution": {
     "iopub.execute_input": "2022-10-02T21:32:06.873792Z",
     "iopub.status.busy": "2022-10-02T21:32:06.873567Z",
     "iopub.status.idle": "2022-10-02T21:32:06.880808Z",
     "shell.execute_reply": "2022-10-02T21:32:06.879169Z",
     "shell.execute_reply.started": "2022-10-02T21:32:06.873769Z"
    },
    "tags": []
   },
   "outputs": [],
   "source": [
    "# Learning Rate\n",
    "lr = 0.0001\n",
    "\n",
    "# number of historic data points for fitting\n",
    "input_steps = 1\n",
    "\n",
    "# forecasting horizon\n",
    "output_steps = 2\n",
    "\n",
    "# number of epochs for training\n",
    "num_epochs = 50\n",
    "num_epochs_for_test = 3"
   ]
  },
  {
   "cell_type": "code",
   "execution_count": 77,
   "id": "962d427e-5aee-4bb5-b63d-5710493a938f",
   "metadata": {
    "execution": {
     "iopub.execute_input": "2022-10-02T21:32:06.884110Z",
     "iopub.status.busy": "2022-10-02T21:32:06.883821Z",
     "iopub.status.idle": "2022-10-02T21:32:06.889262Z",
     "shell.execute_reply": "2022-10-02T21:32:06.887780Z",
     "shell.execute_reply.started": "2022-10-02T21:32:06.884079Z"
    },
    "tags": []
   },
   "outputs": [
    {
     "data": {
      "text/plain": [
       "55"
      ]
     },
     "execution_count": 77,
     "metadata": {},
     "output_type": "execute_result"
    }
   ],
   "source": [
    "VAL_IDX-TRAIN_IDX"
   ]
  },
  {
   "cell_type": "code",
   "execution_count": 78,
   "id": "e474c655-0acf-4fbe-b182-8c67fef6a5b9",
   "metadata": {
    "execution": {
     "iopub.execute_input": "2022-10-02T21:32:06.891407Z",
     "iopub.status.busy": "2022-10-02T21:32:06.891133Z",
     "iopub.status.idle": "2022-10-02T21:32:06.900584Z",
     "shell.execute_reply": "2022-10-02T21:32:06.899466Z",
     "shell.execute_reply.started": "2022-10-02T21:32:06.891377Z"
    },
    "tags": []
   },
   "outputs": [],
   "source": [
    "training_data = covid_dataset.CovidDataset(canada_train, input_steps, output_steps)\n",
    "train_dataloader = DataLoader(training_data, batch_size=1, shuffle=False)\n",
    "\n",
    "val_data = covid_dataset.CovidDataset(canada_val, input_steps, output_steps)\n",
    "val_dataloader = DataLoader(val_data, batch_size=1, shuffle=False)\n",
    "\n",
    "test_data = covid_dataset.CovidDataset(canada_test, input_steps, output_steps)\n",
    "test_dataloader = DataLoader(test_data, batch_size=1, shuffle=False)"
   ]
  },
  {
   "cell_type": "code",
   "execution_count": 79,
   "id": "1e335d20-9338-4a4e-8c41-9bd69d7748dd",
   "metadata": {
    "execution": {
     "iopub.execute_input": "2022-10-02T21:32:06.902550Z",
     "iopub.status.busy": "2022-10-02T21:32:06.902245Z",
     "iopub.status.idle": "2022-10-02T21:32:06.913263Z",
     "shell.execute_reply": "2022-10-02T21:32:06.912291Z",
     "shell.execute_reply.started": "2022-10-02T21:32:06.902514Z"
    },
    "tags": []
   },
   "outputs": [],
   "source": [
    "def train(dataloader, limit=None):\n",
    "    for i, data_with_exact in tqdm(enumerate(dataloader), total=limit if limit else len(train_dataloader)):\n",
    "        losses = 0\n",
    "        data, y_exact = data_with_exact\n",
    "        optimizer.zero_grad()    \n",
    "        y_approx = model(D0=data[0,0,0], H0=data[0,0,1], E0=data[0,0,2])\n",
    "        loss = loss_fun(y_approx[1:, \n",
    "                                 [model.pos_dict['D'], model.pos_dict['H'], model.pos_dict['E']]], # D, H, E\n",
    "                        y_exact.squeeze())\n",
    "        loss.backward()\n",
    "        losses += loss\n",
    "        optimizer.step()\n",
    "        scheduler.step()\n",
    "        with torch.no_grad():\n",
    "            state_dict = model.state_dict()\n",
    "            for k in state_dict.keys():\n",
    "                state_dict[k] = torch.clamp(state_dict[k], min=1e-2)\n",
    "            model.load_state_dict(state_dict)\n",
    "        if limit and i == limit:\n",
    "            break\n",
    "    print(\"Train losses:\", losses/i)"
   ]
  },
  {
   "cell_type": "code",
   "execution_count": 80,
   "id": "5980097f-9a1d-412d-8365-6d7fd2429dac",
   "metadata": {
    "execution": {
     "iopub.execute_input": "2022-10-02T21:32:06.915869Z",
     "iopub.status.busy": "2022-10-02T21:32:06.915579Z",
     "iopub.status.idle": "2022-10-02T21:33:51.920619Z",
     "shell.execute_reply": "2022-10-02T21:33:51.919690Z",
     "shell.execute_reply.started": "2022-10-02T21:32:06.915831Z"
    },
    "tags": []
   },
   "outputs": [
    {
     "data": {
      "application/vnd.jupyter.widget-view+json": {
       "model_id": "1016751170f0497e9ef03ba008445876",
       "version_major": 2,
       "version_minor": 0
      },
      "text/plain": [
       "  0%|          | 0/274 [00:00<?, ?it/s]"
      ]
     },
     "metadata": {},
     "output_type": "display_data"
    },
    {
     "name": "stdout",
     "output_type": "stream",
     "text": [
      "Train losses: tensor(1.0114e-05, grad_fn=<DivBackward0>)\n",
      "Val losses:  tensor(0.0179)\n"
     ]
    },
    {
     "data": {
      "application/vnd.jupyter.widget-view+json": {
       "model_id": "abc2533efb264cd8bc586e35ffed88fc",
       "version_major": 2,
       "version_minor": 0
      },
      "text/plain": [
       "  0%|          | 0/274 [00:00<?, ?it/s]"
      ]
     },
     "metadata": {},
     "output_type": "display_data"
    },
    {
     "name": "stdout",
     "output_type": "stream",
     "text": [
      "Train losses: tensor(1.2045e-05, grad_fn=<DivBackward0>)\n"
     ]
    },
    {
     "data": {
      "application/vnd.jupyter.widget-view+json": {
       "model_id": "8d433616ae4e4945bfa5d8b1eed67e31",
       "version_major": 2,
       "version_minor": 0
      },
      "text/plain": [
       "  0%|          | 0/274 [00:00<?, ?it/s]"
      ]
     },
     "metadata": {},
     "output_type": "display_data"
    },
    {
     "name": "stdout",
     "output_type": "stream",
     "text": [
      "Train losses: tensor(1.2431e-05, grad_fn=<DivBackward0>)\n"
     ]
    },
    {
     "data": {
      "application/vnd.jupyter.widget-view+json": {
       "model_id": "9e8d76c036b24055ac6805dfcc896bc6",
       "version_major": 2,
       "version_minor": 0
      },
      "text/plain": [
       "  0%|          | 0/274 [00:00<?, ?it/s]"
      ]
     },
     "metadata": {},
     "output_type": "display_data"
    },
    {
     "name": "stdout",
     "output_type": "stream",
     "text": [
      "Train losses: tensor(1.2294e-05, grad_fn=<DivBackward0>)\n"
     ]
    },
    {
     "data": {
      "application/vnd.jupyter.widget-view+json": {
       "model_id": "9a63d05a6ff3429db99174c54826a1d4",
       "version_major": 2,
       "version_minor": 0
      },
      "text/plain": [
       "  0%|          | 0/274 [00:00<?, ?it/s]"
      ]
     },
     "metadata": {},
     "output_type": "display_data"
    },
    {
     "name": "stdout",
     "output_type": "stream",
     "text": [
      "Train losses: tensor(1.1483e-05, grad_fn=<DivBackward0>)\n"
     ]
    },
    {
     "data": {
      "application/vnd.jupyter.widget-view+json": {
       "model_id": "21279bb81cee40fb8d0f8a35248b42c3",
       "version_major": 2,
       "version_minor": 0
      },
      "text/plain": [
       "  0%|          | 0/274 [00:00<?, ?it/s]"
      ]
     },
     "metadata": {},
     "output_type": "display_data"
    },
    {
     "name": "stdout",
     "output_type": "stream",
     "text": [
      "Train losses: tensor(1.0538e-05, grad_fn=<DivBackward0>)\n"
     ]
    },
    {
     "data": {
      "application/vnd.jupyter.widget-view+json": {
       "model_id": "12a034eaec0145fb85274127e59038f1",
       "version_major": 2,
       "version_minor": 0
      },
      "text/plain": [
       "  0%|          | 0/274 [00:00<?, ?it/s]"
      ]
     },
     "metadata": {},
     "output_type": "display_data"
    },
    {
     "name": "stdout",
     "output_type": "stream",
     "text": [
      "Train losses: tensor(9.5467e-06, grad_fn=<DivBackward0>)\n"
     ]
    },
    {
     "data": {
      "application/vnd.jupyter.widget-view+json": {
       "model_id": "85b72aa85b704ce19d8957ab664d7e7c",
       "version_major": 2,
       "version_minor": 0
      },
      "text/plain": [
       "  0%|          | 0/274 [00:00<?, ?it/s]"
      ]
     },
     "metadata": {},
     "output_type": "display_data"
    },
    {
     "name": "stdout",
     "output_type": "stream",
     "text": [
      "Train losses: tensor(8.7583e-06, grad_fn=<DivBackward0>)\n"
     ]
    },
    {
     "data": {
      "application/vnd.jupyter.widget-view+json": {
       "model_id": "1070450b3932477a9437c7b99f64d00a",
       "version_major": 2,
       "version_minor": 0
      },
      "text/plain": [
       "  0%|          | 0/274 [00:00<?, ?it/s]"
      ]
     },
     "metadata": {},
     "output_type": "display_data"
    },
    {
     "name": "stdout",
     "output_type": "stream",
     "text": [
      "Train losses: tensor(7.8915e-06, grad_fn=<DivBackward0>)\n"
     ]
    },
    {
     "data": {
      "application/vnd.jupyter.widget-view+json": {
       "model_id": "a580870adb7d4fafb8d04784143ca145",
       "version_major": 2,
       "version_minor": 0
      },
      "text/plain": [
       "  0%|          | 0/274 [00:00<?, ?it/s]"
      ]
     },
     "metadata": {},
     "output_type": "display_data"
    },
    {
     "name": "stdout",
     "output_type": "stream",
     "text": [
      "Train losses: tensor(7.0654e-06, grad_fn=<DivBackward0>)\n"
     ]
    },
    {
     "data": {
      "application/vnd.jupyter.widget-view+json": {
       "model_id": "018c9b4f6c70474eb2a913f4d7dd3628",
       "version_major": 2,
       "version_minor": 0
      },
      "text/plain": [
       "  0%|          | 0/274 [00:00<?, ?it/s]"
      ]
     },
     "metadata": {},
     "output_type": "display_data"
    },
    {
     "name": "stdout",
     "output_type": "stream",
     "text": [
      "Train losses: tensor(6.3586e-06, grad_fn=<DivBackward0>)\n",
      "Val losses:  tensor(0.0090)\n"
     ]
    },
    {
     "data": {
      "application/vnd.jupyter.widget-view+json": {
       "model_id": "9fab788d3ef348248830a7da5e498cc6",
       "version_major": 2,
       "version_minor": 0
      },
      "text/plain": [
       "  0%|          | 0/274 [00:00<?, ?it/s]"
      ]
     },
     "metadata": {},
     "output_type": "display_data"
    },
    {
     "name": "stdout",
     "output_type": "stream",
     "text": [
      "Train losses: tensor(5.7203e-06, grad_fn=<DivBackward0>)\n"
     ]
    },
    {
     "data": {
      "application/vnd.jupyter.widget-view+json": {
       "model_id": "0dc956a8f37e4bfea07b97ba3d040002",
       "version_major": 2,
       "version_minor": 0
      },
      "text/plain": [
       "  0%|          | 0/274 [00:00<?, ?it/s]"
      ]
     },
     "metadata": {},
     "output_type": "display_data"
    },
    {
     "name": "stdout",
     "output_type": "stream",
     "text": [
      "Train losses: tensor(5.1115e-06, grad_fn=<DivBackward0>)\n"
     ]
    },
    {
     "data": {
      "application/vnd.jupyter.widget-view+json": {
       "model_id": "97d498d9387c4db3bdb42c25c0789fba",
       "version_major": 2,
       "version_minor": 0
      },
      "text/plain": [
       "  0%|          | 0/274 [00:00<?, ?it/s]"
      ]
     },
     "metadata": {},
     "output_type": "display_data"
    },
    {
     "name": "stdout",
     "output_type": "stream",
     "text": [
      "Train losses: tensor(4.5398e-06, grad_fn=<DivBackward0>)\n"
     ]
    },
    {
     "data": {
      "application/vnd.jupyter.widget-view+json": {
       "model_id": "45d8baaddcaf42fd9774f18090e00ff3",
       "version_major": 2,
       "version_minor": 0
      },
      "text/plain": [
       "  0%|          | 0/274 [00:00<?, ?it/s]"
      ]
     },
     "metadata": {},
     "output_type": "display_data"
    },
    {
     "name": "stdout",
     "output_type": "stream",
     "text": [
      "Train losses: tensor(4.1204e-06, grad_fn=<DivBackward0>)\n"
     ]
    },
    {
     "data": {
      "application/vnd.jupyter.widget-view+json": {
       "model_id": "1029f46b38654b5ab8f32ccd2e5e724e",
       "version_major": 2,
       "version_minor": 0
      },
      "text/plain": [
       "  0%|          | 0/274 [00:00<?, ?it/s]"
      ]
     },
     "metadata": {},
     "output_type": "display_data"
    },
    {
     "name": "stdout",
     "output_type": "stream",
     "text": [
      "Train losses: tensor(3.6593e-06, grad_fn=<DivBackward0>)\n"
     ]
    },
    {
     "data": {
      "application/vnd.jupyter.widget-view+json": {
       "model_id": "74fa4abdf7964078a09311f463cd0584",
       "version_major": 2,
       "version_minor": 0
      },
      "text/plain": [
       "  0%|          | 0/274 [00:00<?, ?it/s]"
      ]
     },
     "metadata": {},
     "output_type": "display_data"
    },
    {
     "name": "stdout",
     "output_type": "stream",
     "text": [
      "Train losses: tensor(3.2375e-06, grad_fn=<DivBackward0>)\n"
     ]
    },
    {
     "data": {
      "application/vnd.jupyter.widget-view+json": {
       "model_id": "06b693bd31af4dfca34f72f950390d7d",
       "version_major": 2,
       "version_minor": 0
      },
      "text/plain": [
       "  0%|          | 0/274 [00:00<?, ?it/s]"
      ]
     },
     "metadata": {},
     "output_type": "display_data"
    },
    {
     "name": "stdout",
     "output_type": "stream",
     "text": [
      "Train losses: tensor(2.8517e-06, grad_fn=<DivBackward0>)\n"
     ]
    },
    {
     "data": {
      "application/vnd.jupyter.widget-view+json": {
       "model_id": "0cb41732136840358de786b116f14c05",
       "version_major": 2,
       "version_minor": 0
      },
      "text/plain": [
       "  0%|          | 0/274 [00:00<?, ?it/s]"
      ]
     },
     "metadata": {},
     "output_type": "display_data"
    },
    {
     "name": "stdout",
     "output_type": "stream",
     "text": [
      "Train losses: tensor(2.5537e-06, grad_fn=<DivBackward0>)\n"
     ]
    },
    {
     "data": {
      "application/vnd.jupyter.widget-view+json": {
       "model_id": "1857b52b80e940e4a0f711527b7c7320",
       "version_major": 2,
       "version_minor": 0
      },
      "text/plain": [
       "  0%|          | 0/274 [00:00<?, ?it/s]"
      ]
     },
     "metadata": {},
     "output_type": "display_data"
    },
    {
     "name": "stdout",
     "output_type": "stream",
     "text": [
      "Train losses: tensor(2.2656e-06, grad_fn=<DivBackward0>)\n"
     ]
    },
    {
     "data": {
      "application/vnd.jupyter.widget-view+json": {
       "model_id": "475404c732644c8c8c225ac280505804",
       "version_major": 2,
       "version_minor": 0
      },
      "text/plain": [
       "  0%|          | 0/274 [00:00<?, ?it/s]"
      ]
     },
     "metadata": {},
     "output_type": "display_data"
    },
    {
     "name": "stdout",
     "output_type": "stream",
     "text": [
      "Train losses: tensor(1.9986e-06, grad_fn=<DivBackward0>)\n",
      "Val losses:  tensor(0.0029)\n"
     ]
    },
    {
     "data": {
      "application/vnd.jupyter.widget-view+json": {
       "model_id": "3465ed6a38654c818cb6e69f37d4d360",
       "version_major": 2,
       "version_minor": 0
      },
      "text/plain": [
       "  0%|          | 0/274 [00:00<?, ?it/s]"
      ]
     },
     "metadata": {},
     "output_type": "display_data"
    },
    {
     "name": "stdout",
     "output_type": "stream",
     "text": [
      "Train losses: tensor(1.7945e-06, grad_fn=<DivBackward0>)\n"
     ]
    },
    {
     "data": {
      "application/vnd.jupyter.widget-view+json": {
       "model_id": "27d21272d4964a61951774e8098870ba",
       "version_major": 2,
       "version_minor": 0
      },
      "text/plain": [
       "  0%|          | 0/274 [00:00<?, ?it/s]"
      ]
     },
     "metadata": {},
     "output_type": "display_data"
    },
    {
     "name": "stdout",
     "output_type": "stream",
     "text": [
      "Train losses: tensor(1.5885e-06, grad_fn=<DivBackward0>)\n"
     ]
    },
    {
     "data": {
      "application/vnd.jupyter.widget-view+json": {
       "model_id": "b79b2220899441ebbb3b7a52d31de5a1",
       "version_major": 2,
       "version_minor": 0
      },
      "text/plain": [
       "  0%|          | 0/274 [00:00<?, ?it/s]"
      ]
     },
     "metadata": {},
     "output_type": "display_data"
    },
    {
     "name": "stdout",
     "output_type": "stream",
     "text": [
      "Train losses: tensor(1.3999e-06, grad_fn=<DivBackward0>)\n"
     ]
    },
    {
     "data": {
      "application/vnd.jupyter.widget-view+json": {
       "model_id": "47829a53d5ad4fe3aa66af5d1e444dae",
       "version_major": 2,
       "version_minor": 0
      },
      "text/plain": [
       "  0%|          | 0/274 [00:00<?, ?it/s]"
      ]
     },
     "metadata": {},
     "output_type": "display_data"
    },
    {
     "name": "stdout",
     "output_type": "stream",
     "text": [
      "Train losses: tensor(1.2282e-06, grad_fn=<DivBackward0>)\n"
     ]
    },
    {
     "data": {
      "application/vnd.jupyter.widget-view+json": {
       "model_id": "734e7d234bde4d42a9ecfc83d87ce94f",
       "version_major": 2,
       "version_minor": 0
      },
      "text/plain": [
       "  0%|          | 0/274 [00:00<?, ?it/s]"
      ]
     },
     "metadata": {},
     "output_type": "display_data"
    },
    {
     "name": "stdout",
     "output_type": "stream",
     "text": [
      "Train losses: tensor(1.1018e-06, grad_fn=<DivBackward0>)\n"
     ]
    },
    {
     "data": {
      "application/vnd.jupyter.widget-view+json": {
       "model_id": "a885b4a77f024c8b831f771cb1dcfedb",
       "version_major": 2,
       "version_minor": 0
      },
      "text/plain": [
       "  0%|          | 0/274 [00:00<?, ?it/s]"
      ]
     },
     "metadata": {},
     "output_type": "display_data"
    },
    {
     "name": "stdout",
     "output_type": "stream",
     "text": [
      "Train losses: tensor(9.7107e-07, grad_fn=<DivBackward0>)\n"
     ]
    },
    {
     "data": {
      "application/vnd.jupyter.widget-view+json": {
       "model_id": "3cac7cabceec4b8f917c0c9faf621f2b",
       "version_major": 2,
       "version_minor": 0
      },
      "text/plain": [
       "  0%|          | 0/274 [00:00<?, ?it/s]"
      ]
     },
     "metadata": {},
     "output_type": "display_data"
    },
    {
     "name": "stdout",
     "output_type": "stream",
     "text": [
      "Train losses: tensor(9.4974e-07, grad_fn=<DivBackward0>)\n"
     ]
    },
    {
     "data": {
      "application/vnd.jupyter.widget-view+json": {
       "model_id": "6d4fb29ef0cb4f0a8d717427637cea41",
       "version_major": 2,
       "version_minor": 0
      },
      "text/plain": [
       "  0%|          | 0/274 [00:00<?, ?it/s]"
      ]
     },
     "metadata": {},
     "output_type": "display_data"
    },
    {
     "name": "stdout",
     "output_type": "stream",
     "text": [
      "Train losses: tensor(1.0256e-06, grad_fn=<DivBackward0>)\n"
     ]
    },
    {
     "data": {
      "application/vnd.jupyter.widget-view+json": {
       "model_id": "3092da41d7a34f35b292443671ccb2b3",
       "version_major": 2,
       "version_minor": 0
      },
      "text/plain": [
       "  0%|          | 0/274 [00:00<?, ?it/s]"
      ]
     },
     "metadata": {},
     "output_type": "display_data"
    },
    {
     "name": "stdout",
     "output_type": "stream",
     "text": [
      "Train losses: tensor(1.0804e-06, grad_fn=<DivBackward0>)\n"
     ]
    },
    {
     "data": {
      "application/vnd.jupyter.widget-view+json": {
       "model_id": "e202be4ac00049dc80544100029a70fb",
       "version_major": 2,
       "version_minor": 0
      },
      "text/plain": [
       "  0%|          | 0/274 [00:00<?, ?it/s]"
      ]
     },
     "metadata": {},
     "output_type": "display_data"
    },
    {
     "name": "stdout",
     "output_type": "stream",
     "text": [
      "Train losses: tensor(1.1122e-06, grad_fn=<DivBackward0>)\n",
      "Val losses:  tensor(0.0016)\n"
     ]
    },
    {
     "data": {
      "application/vnd.jupyter.widget-view+json": {
       "model_id": "b16dd4644ae44c31b0c281487c650d49",
       "version_major": 2,
       "version_minor": 0
      },
      "text/plain": [
       "  0%|          | 0/274 [00:00<?, ?it/s]"
      ]
     },
     "metadata": {},
     "output_type": "display_data"
    },
    {
     "name": "stdout",
     "output_type": "stream",
     "text": [
      "Train losses: tensor(1.1315e-06, grad_fn=<DivBackward0>)\n"
     ]
    },
    {
     "data": {
      "application/vnd.jupyter.widget-view+json": {
       "model_id": "d1463a8278c44ae9a97bf5a989ee9c84",
       "version_major": 2,
       "version_minor": 0
      },
      "text/plain": [
       "  0%|          | 0/274 [00:00<?, ?it/s]"
      ]
     },
     "metadata": {},
     "output_type": "display_data"
    },
    {
     "name": "stdout",
     "output_type": "stream",
     "text": [
      "Train losses: tensor(1.1500e-06, grad_fn=<DivBackward0>)\n"
     ]
    },
    {
     "data": {
      "application/vnd.jupyter.widget-view+json": {
       "model_id": "77595b6ceb7e493c9ae12de054bb731d",
       "version_major": 2,
       "version_minor": 0
      },
      "text/plain": [
       "  0%|          | 0/274 [00:00<?, ?it/s]"
      ]
     },
     "metadata": {},
     "output_type": "display_data"
    },
    {
     "name": "stdout",
     "output_type": "stream",
     "text": [
      "Train losses: tensor(1.1535e-06, grad_fn=<DivBackward0>)\n"
     ]
    },
    {
     "data": {
      "application/vnd.jupyter.widget-view+json": {
       "model_id": "65372561aa39491ba05ae4c42b329746",
       "version_major": 2,
       "version_minor": 0
      },
      "text/plain": [
       "  0%|          | 0/274 [00:00<?, ?it/s]"
      ]
     },
     "metadata": {},
     "output_type": "display_data"
    },
    {
     "name": "stdout",
     "output_type": "stream",
     "text": [
      "Train losses: tensor(1.1534e-06, grad_fn=<DivBackward0>)\n"
     ]
    },
    {
     "data": {
      "application/vnd.jupyter.widget-view+json": {
       "model_id": "6f180d8d9da64dc69f55756aba114c03",
       "version_major": 2,
       "version_minor": 0
      },
      "text/plain": [
       "  0%|          | 0/274 [00:00<?, ?it/s]"
      ]
     },
     "metadata": {},
     "output_type": "display_data"
    },
    {
     "name": "stdout",
     "output_type": "stream",
     "text": [
      "Train losses: tensor(1.1511e-06, grad_fn=<DivBackward0>)\n"
     ]
    },
    {
     "data": {
      "application/vnd.jupyter.widget-view+json": {
       "model_id": "58955172069f4e3a820fe6697232be82",
       "version_major": 2,
       "version_minor": 0
      },
      "text/plain": [
       "  0%|          | 0/274 [00:00<?, ?it/s]"
      ]
     },
     "metadata": {},
     "output_type": "display_data"
    },
    {
     "name": "stdout",
     "output_type": "stream",
     "text": [
      "Train losses: tensor(1.1563e-06, grad_fn=<DivBackward0>)\n"
     ]
    },
    {
     "data": {
      "application/vnd.jupyter.widget-view+json": {
       "model_id": "7958bd4eb9f743ef9264c524edbe56a4",
       "version_major": 2,
       "version_minor": 0
      },
      "text/plain": [
       "  0%|          | 0/274 [00:00<?, ?it/s]"
      ]
     },
     "metadata": {},
     "output_type": "display_data"
    },
    {
     "name": "stdout",
     "output_type": "stream",
     "text": [
      "Train losses: tensor(1.1514e-06, grad_fn=<DivBackward0>)\n"
     ]
    },
    {
     "data": {
      "application/vnd.jupyter.widget-view+json": {
       "model_id": "ef192d1902904725bc8945935e88bf67",
       "version_major": 2,
       "version_minor": 0
      },
      "text/plain": [
       "  0%|          | 0/274 [00:00<?, ?it/s]"
      ]
     },
     "metadata": {},
     "output_type": "display_data"
    },
    {
     "name": "stdout",
     "output_type": "stream",
     "text": [
      "Train losses: tensor(1.1463e-06, grad_fn=<DivBackward0>)\n"
     ]
    },
    {
     "data": {
      "application/vnd.jupyter.widget-view+json": {
       "model_id": "08edde36d32f4767885b95991040537e",
       "version_major": 2,
       "version_minor": 0
      },
      "text/plain": [
       "  0%|          | 0/274 [00:00<?, ?it/s]"
      ]
     },
     "metadata": {},
     "output_type": "display_data"
    },
    {
     "name": "stdout",
     "output_type": "stream",
     "text": [
      "Train losses: tensor(1.1417e-06, grad_fn=<DivBackward0>)\n"
     ]
    },
    {
     "data": {
      "application/vnd.jupyter.widget-view+json": {
       "model_id": "163e46545a3a4d9fb6f538e43012a549",
       "version_major": 2,
       "version_minor": 0
      },
      "text/plain": [
       "  0%|          | 0/274 [00:00<?, ?it/s]"
      ]
     },
     "metadata": {},
     "output_type": "display_data"
    },
    {
     "name": "stdout",
     "output_type": "stream",
     "text": [
      "Train losses: tensor(1.1419e-06, grad_fn=<DivBackward0>)\n",
      "Val losses:  tensor(0.0016)\n"
     ]
    },
    {
     "data": {
      "application/vnd.jupyter.widget-view+json": {
       "model_id": "121b0b545f2b40a6b0e02b21b9fee72d",
       "version_major": 2,
       "version_minor": 0
      },
      "text/plain": [
       "  0%|          | 0/274 [00:00<?, ?it/s]"
      ]
     },
     "metadata": {},
     "output_type": "display_data"
    },
    {
     "name": "stdout",
     "output_type": "stream",
     "text": [
      "Train losses: tensor(1.1387e-06, grad_fn=<DivBackward0>)\n"
     ]
    },
    {
     "data": {
      "application/vnd.jupyter.widget-view+json": {
       "model_id": "3cc96b13566b4edeb3728dc388291e29",
       "version_major": 2,
       "version_minor": 0
      },
      "text/plain": [
       "  0%|          | 0/274 [00:00<?, ?it/s]"
      ]
     },
     "metadata": {},
     "output_type": "display_data"
    },
    {
     "name": "stdout",
     "output_type": "stream",
     "text": [
      "Train losses: tensor(1.1353e-06, grad_fn=<DivBackward0>)\n"
     ]
    },
    {
     "data": {
      "application/vnd.jupyter.widget-view+json": {
       "model_id": "4c686ea9e176411c8ce649245aa79992",
       "version_major": 2,
       "version_minor": 0
      },
      "text/plain": [
       "  0%|          | 0/274 [00:00<?, ?it/s]"
      ]
     },
     "metadata": {},
     "output_type": "display_data"
    },
    {
     "name": "stdout",
     "output_type": "stream",
     "text": [
      "Train losses: tensor(1.1394e-06, grad_fn=<DivBackward0>)\n"
     ]
    },
    {
     "data": {
      "application/vnd.jupyter.widget-view+json": {
       "model_id": "72e61309969e44f48f976212f91afadb",
       "version_major": 2,
       "version_minor": 0
      },
      "text/plain": [
       "  0%|          | 0/274 [00:00<?, ?it/s]"
      ]
     },
     "metadata": {},
     "output_type": "display_data"
    },
    {
     "name": "stdout",
     "output_type": "stream",
     "text": [
      "Train losses: tensor(1.1356e-06, grad_fn=<DivBackward0>)\n"
     ]
    },
    {
     "data": {
      "application/vnd.jupyter.widget-view+json": {
       "model_id": "f3018da95d1445ce938aa1a60f04cfd6",
       "version_major": 2,
       "version_minor": 0
      },
      "text/plain": [
       "  0%|          | 0/274 [00:00<?, ?it/s]"
      ]
     },
     "metadata": {},
     "output_type": "display_data"
    },
    {
     "name": "stdout",
     "output_type": "stream",
     "text": [
      "Train losses: tensor(1.1319e-06, grad_fn=<DivBackward0>)\n"
     ]
    },
    {
     "data": {
      "application/vnd.jupyter.widget-view+json": {
       "model_id": "0fe145b591a44c5b85724e83a12b5e39",
       "version_major": 2,
       "version_minor": 0
      },
      "text/plain": [
       "  0%|          | 0/274 [00:00<?, ?it/s]"
      ]
     },
     "metadata": {},
     "output_type": "display_data"
    },
    {
     "name": "stdout",
     "output_type": "stream",
     "text": [
      "Train losses: tensor(1.1282e-06, grad_fn=<DivBackward0>)\n"
     ]
    },
    {
     "data": {
      "application/vnd.jupyter.widget-view+json": {
       "model_id": "748b9dbad3c2487a88d4baf697c3b26f",
       "version_major": 2,
       "version_minor": 0
      },
      "text/plain": [
       "  0%|          | 0/274 [00:00<?, ?it/s]"
      ]
     },
     "metadata": {},
     "output_type": "display_data"
    },
    {
     "name": "stdout",
     "output_type": "stream",
     "text": [
      "Train losses: tensor(1.1312e-06, grad_fn=<DivBackward0>)\n"
     ]
    },
    {
     "data": {
      "application/vnd.jupyter.widget-view+json": {
       "model_id": "8fb9046b9868485fbb63ff5884da5b29",
       "version_major": 2,
       "version_minor": 0
      },
      "text/plain": [
       "  0%|          | 0/274 [00:00<?, ?it/s]"
      ]
     },
     "metadata": {},
     "output_type": "display_data"
    },
    {
     "name": "stdout",
     "output_type": "stream",
     "text": [
      "Train losses: tensor(1.1276e-06, grad_fn=<DivBackward0>)\n"
     ]
    },
    {
     "data": {
      "application/vnd.jupyter.widget-view+json": {
       "model_id": "06b19797c5c04a7bb272f3ea959f5a7e",
       "version_major": 2,
       "version_minor": 0
      },
      "text/plain": [
       "  0%|          | 0/274 [00:00<?, ?it/s]"
      ]
     },
     "metadata": {},
     "output_type": "display_data"
    },
    {
     "name": "stdout",
     "output_type": "stream",
     "text": [
      "Train losses: tensor(1.1240e-06, grad_fn=<DivBackward0>)\n"
     ]
    }
   ],
   "source": [
    "model = sidartha_ode.SIDARTHEOde(len_data = output_steps).to(device)\n",
    "\n",
    "torch.manual_seed(3407)\n",
    "optimizer = torch.optim.Adam(model.parameters(), lr)\n",
    "scheduler = torch.optim.lr_scheduler.StepLR(optimizer, step_size= 1000, gamma=0.9)\n",
    "loss_fun = torch.nn.MSELoss()\n",
    "\n",
    "for _ in range(num_epochs):\n",
    "    train(train_dataloader)\n",
    "    if (_ % 10) == 0:\n",
    "        validation_prediction = []\n",
    "        with torch.no_grad():\n",
    "            val_losses = 0\n",
    "            for data, y_exact in val_dataloader:\n",
    "                y_approx = model(D0=data[0,0,0], H0=data[0,0,1], E0=data[0,0,2])\n",
    "                validation_prediction.append(y_approx.numpy())\n",
    "                loss = loss_fun(y_approx[1:, \n",
    "                                     [model.pos_dict['D'], model.pos_dict['H'], model.pos_dict['E']]], # I, H, E\n",
    "                            y_exact.squeeze())\n",
    "                val_losses += loss\n",
    "            print(\"Val losses: \", val_losses/len(val_data))"
   ]
  },
  {
   "cell_type": "code",
   "execution_count": 81,
   "id": "339f5a67-fed4-4d49-a3b5-7fe3371c69f4",
   "metadata": {
    "execution": {
     "iopub.execute_input": "2022-10-02T21:33:51.922375Z",
     "iopub.status.busy": "2022-10-02T21:33:51.921999Z",
     "iopub.status.idle": "2022-10-02T21:33:51.926591Z",
     "shell.execute_reply": "2022-10-02T21:33:51.925702Z",
     "shell.execute_reply.started": "2022-10-02T21:33:51.922329Z"
    },
    "tags": []
   },
   "outputs": [],
   "source": [
    "# predict, confirmed, recovered, death\n",
    "validation_prediction = np.array(validation_prediction)\n",
    "observerable=[validation_prediction[:, :, [model.pos_dict['D'], model.pos_dict['H'], model.pos_dict['E']]]]"
   ]
  },
  {
   "cell_type": "code",
   "execution_count": 82,
   "id": "f6dd5928-b7a3-489c-b8e6-6c6ad9a9c631",
   "metadata": {
    "execution": {
     "iopub.execute_input": "2022-10-02T21:33:51.929170Z",
     "iopub.status.busy": "2022-10-02T21:33:51.928823Z",
     "iopub.status.idle": "2022-10-02T21:33:51.937165Z",
     "shell.execute_reply": "2022-10-02T21:33:51.936186Z",
     "shell.execute_reply.started": "2022-10-02T21:33:51.929113Z"
    },
    "tags": []
   },
   "outputs": [],
   "source": [
    "inversed_predict = [min_max_scaler.inverse_transform(i) for i in observerable[0]]"
   ]
  },
  {
   "cell_type": "code",
   "execution_count": 83,
   "id": "0e1b993d-8696-469d-b7b7-adab503fff07",
   "metadata": {
    "execution": {
     "iopub.execute_input": "2022-10-02T21:33:51.938738Z",
     "iopub.status.busy": "2022-10-02T21:33:51.938354Z",
     "iopub.status.idle": "2022-10-02T21:33:51.943526Z",
     "shell.execute_reply": "2022-10-02T21:33:51.942246Z",
     "shell.execute_reply.started": "2022-10-02T21:33:51.938691Z"
    },
    "tags": []
   },
   "outputs": [],
   "source": [
    "inversed_predict = np.array(inversed_predict)"
   ]
  },
  {
   "cell_type": "code",
   "execution_count": 84,
   "id": "956a1b7e-4d30-45b0-870c-0f0210b18145",
   "metadata": {
    "execution": {
     "iopub.execute_input": "2022-10-02T21:33:51.945514Z",
     "iopub.status.busy": "2022-10-02T21:33:51.945240Z",
     "iopub.status.idle": "2022-10-02T21:33:51.949754Z",
     "shell.execute_reply": "2022-10-02T21:33:51.948561Z",
     "shell.execute_reply.started": "2022-10-02T21:33:51.945488Z"
    },
    "tags": []
   },
   "outputs": [],
   "source": [
    "predict_1_ahead = inversed_predict[:,1]\n",
    "predict_2_ahead = inversed_predict[:,2]"
   ]
  },
  {
   "cell_type": "code",
   "execution_count": 85,
   "id": "abfe8c27-62ee-42c5-9f8b-56bb05394e0f",
   "metadata": {
    "execution": {
     "iopub.execute_input": "2022-10-02T21:33:51.952003Z",
     "iopub.status.busy": "2022-10-02T21:33:51.951712Z",
     "iopub.status.idle": "2022-10-02T21:33:51.956181Z",
     "shell.execute_reply": "2022-10-02T21:33:51.954986Z",
     "shell.execute_reply.started": "2022-10-02T21:33:51.951972Z"
    },
    "tags": []
   },
   "outputs": [],
   "source": [
    "true_value=min_max_scaler.inverse_transform(canada_val)"
   ]
  },
  {
   "cell_type": "code",
   "execution_count": 86,
   "id": "2839523b-190a-43c7-bfc2-ee93b68c0a3d",
   "metadata": {
    "execution": {
     "iopub.execute_input": "2022-10-02T21:33:51.958688Z",
     "iopub.status.busy": "2022-10-02T21:33:51.958090Z",
     "iopub.status.idle": "2022-10-02T21:33:52.117519Z",
     "shell.execute_reply": "2022-10-02T21:33:52.116426Z",
     "shell.execute_reply.started": "2022-10-02T21:33:51.958638Z"
    },
    "tags": []
   },
   "outputs": [
    {
     "data": {
      "image/png": "[encoded data removed]",
      "text/plain": [
       "<Figure size 432x288 with 1 Axes>"
      ]
     },
     "metadata": {
      "needs_background": "light"
     },
     "output_type": "display_data"
    }
   ],
   "source": [
    "import matplotlib.pyplot as plt\n",
    "\n",
    "x = range(len(true_value))\n",
    "\n",
    "plt.plot(x[3:], predict_1_ahead[:,0], label ='predict infected 1')\n",
    "plt.plot(x, true_value[:,0], '-.', label ='actual infected')\n",
    "plt.plot(x[3:], predict_1_ahead[:,1], label ='predict recovered')\n",
    "plt.plot(x, true_value[:,1], '-.', label ='actual recovered')\n",
    "\n",
    "plt.xlabel(\"date\")\n",
    "plt.ylabel(\"number of people\")\n",
    "plt.legend()\n",
    "plt.show()"
   ]
  },
  {
   "cell_type": "code",
   "execution_count": 87,
   "id": "d732d879-c924-4a65-802c-f76c8a12ad2d",
   "metadata": {
    "execution": {
     "iopub.execute_input": "2022-10-02T21:33:52.119077Z",
     "iopub.status.busy": "2022-10-02T21:33:52.118843Z",
     "iopub.status.idle": "2022-10-02T21:33:52.244794Z",
     "shell.execute_reply": "2022-10-02T21:33:52.244134Z",
     "shell.execute_reply.started": "2022-10-02T21:33:52.119050Z"
    },
    "tags": []
   },
   "outputs": [
    {
     "data": {
      "image/png": "[encoded data removed]",
      "text/plain": [
       "<Figure size 432x288 with 1 Axes>"
      ]
     },
     "metadata": {
      "needs_background": "light"
     },
     "output_type": "display_data"
    }
   ],
   "source": [
    "plt.plot(x[3:], predict_1_ahead[:,2], label ='predict death')\n",
    "plt.plot(x, true_value[:,2], '-.', label ='actual death')\n",
    "plt.xlabel(\"date\")\n",
    "plt.ylabel(\"number of people\")\n",
    "plt.legend()\n",
    "plt.show()"
   ]
  },
  {
   "cell_type": "code",
   "execution_count": 88,
   "id": "efbccded-7151-4596-9458-4b16e9e32a83",
   "metadata": {
    "execution": {
     "iopub.execute_input": "2022-10-02T21:33:52.246398Z",
     "iopub.status.busy": "2022-10-02T21:33:52.246167Z",
     "iopub.status.idle": "2022-10-02T21:33:52.252138Z",
     "shell.execute_reply": "2022-10-02T21:33:52.251261Z",
     "shell.execute_reply.started": "2022-10-02T21:33:52.246371Z"
    },
    "tags": []
   },
   "outputs": [
    {
     "data": {
      "text/plain": [
       "21788.12751024525"
      ]
     },
     "execution_count": 88,
     "metadata": {},
     "output_type": "execute_result"
    }
   ],
   "source": [
    "mean_squared_error(predict_1_ahead[:,0], true_value[3:,0], squared=False)"
   ]
  },
  {
   "cell_type": "code",
   "execution_count": 89,
   "id": "6d3887a8-b04e-489d-9db5-2e0bf3d9d568",
   "metadata": {
    "execution": {
     "iopub.execute_input": "2022-10-02T21:33:52.254586Z",
     "iopub.status.busy": "2022-10-02T21:33:52.254054Z",
     "iopub.status.idle": "2022-10-02T21:33:52.261297Z",
     "shell.execute_reply": "2022-10-02T21:33:52.260424Z",
     "shell.execute_reply.started": "2022-10-02T21:33:52.254520Z"
    },
    "tags": []
   },
   "outputs": [
    {
     "data": {
      "text/plain": [
       "10498.449974516981"
      ]
     },
     "execution_count": 89,
     "metadata": {},
     "output_type": "execute_result"
    }
   ],
   "source": [
    "mean_squared_error(predict_1_ahead[:,1], true_value[3:,1], squared=False)"
   ]
  },
  {
   "cell_type": "code",
   "execution_count": 90,
   "id": "25ca5b5f-0f27-46da-9361-5f2b492de7a8",
   "metadata": {
    "execution": {
     "iopub.execute_input": "2022-10-02T21:33:52.263298Z",
     "iopub.status.busy": "2022-10-02T21:33:52.262660Z",
     "iopub.status.idle": "2022-10-02T21:33:52.269439Z",
     "shell.execute_reply": "2022-10-02T21:33:52.268472Z",
     "shell.execute_reply.started": "2022-10-02T21:33:52.263257Z"
    },
    "tags": []
   },
   "outputs": [
    {
     "data": {
      "text/plain": [
       "241.75379541962772"
      ]
     },
     "execution_count": 90,
     "metadata": {},
     "output_type": "execute_result"
    }
   ],
   "source": [
    "mean_squared_error(predict_1_ahead[:,2], true_value[3:,2], squared=False)"
   ]
  },
  {
   "cell_type": "markdown",
   "id": "efeeba88-9b7b-41b6-a556-1edd9403ccf4",
   "metadata": {},
   "source": [
    "### Predict whole test set"
   ]
  },
  {
   "cell_type": "code",
   "execution_count": 92,
   "id": "8a348aef-bee7-478f-b7b8-417737651488",
   "metadata": {
    "execution": {
     "iopub.execute_input": "2022-10-02T23:27:14.391016Z",
     "iopub.status.busy": "2022-10-02T23:27:14.390628Z",
     "iopub.status.idle": "2022-10-02T23:27:14.882909Z",
     "shell.execute_reply": "2022-10-02T23:27:14.881859Z",
     "shell.execute_reply.started": "2022-10-02T23:27:14.390960Z"
    },
    "tags": []
   },
   "outputs": [
    {
     "data": {
      "application/vnd.jupyter.widget-view+json": {
       "model_id": "ec15c7727b504a5db5c16cbb1e1ab2dd",
       "version_major": 2,
       "version_minor": 0
      },
      "text/plain": [
       "  0%|          | 0/52 [00:00<?, ?it/s]"
      ]
     },
     "metadata": {},
     "output_type": "display_data"
    },
    {
     "name": "stdout",
     "output_type": "stream",
     "text": [
      "Train losses: tensor(5.3822e-05, grad_fn=<DivBackward0>)\n"
     ]
    }
   ],
   "source": [
    "train(val_dataloader, limit=len(val_dataloader))"
   ]
  },
  {
   "cell_type": "code",
   "execution_count": 93,
   "id": "3dfaadfe-6d89-4d00-9475-e0bc48645d23",
   "metadata": {
    "execution": {
     "iopub.execute_input": "2022-10-02T23:27:15.513393Z",
     "iopub.status.busy": "2022-10-02T23:27:15.513031Z",
     "iopub.status.idle": "2022-10-02T23:30:42.615816Z",
     "shell.execute_reply": "2022-10-02T23:30:42.615252Z",
     "shell.execute_reply.started": "2022-10-02T23:27:15.513350Z"
    },
    "tags": []
   },
   "outputs": [
    {
     "data": {
      "application/vnd.jupyter.widget-view+json": {
       "model_id": "9be9f992d1724a19a3984fea622631ce",
       "version_major": 2,
       "version_minor": 0
      },
      "text/plain": [
       "  0%|          | 0/220 [00:00<?, ?it/s]"
      ]
     },
     "metadata": {},
     "output_type": "display_data"
    },
    {
     "name": "stdout",
     "output_type": "stream",
     "text": [
      "Retrain on past test\n"
     ]
    },
    {
     "data": {
      "application/vnd.jupyter.widget-view+json": {
       "model_id": "701c6ebc99654241ad7d2cf7f0a55580",
       "version_major": 2,
       "version_minor": 0
      },
      "text/plain": [
       "  0%|          | 0/274 [00:00<?, ?it/s]"
      ]
     },
     "metadata": {},
     "output_type": "display_data"
    },
    {
     "name": "stdout",
     "output_type": "stream",
     "text": [
      "Train losses: tensor(4.9180e-05, grad_fn=<DivBackward0>)\n"
     ]
    },
    {
     "data": {
      "application/vnd.jupyter.widget-view+json": {
       "model_id": "6dd21216c56a4551b71832ad95c1cc3b",
       "version_major": 2,
       "version_minor": 0
      },
      "text/plain": [
       "  0%|          | 0/274 [00:00<?, ?it/s]"
      ]
     },
     "metadata": {},
     "output_type": "display_data"
    },
    {
     "name": "stdout",
     "output_type": "stream",
     "text": [
      "Train losses: tensor(4.5368e-05, grad_fn=<DivBackward0>)\n"
     ]
    },
    {
     "data": {
      "application/vnd.jupyter.widget-view+json": {
       "model_id": "66025b3670bc427da88e870c4085de8c",
       "version_major": 2,
       "version_minor": 0
      },
      "text/plain": [
       "  0%|          | 0/274 [00:00<?, ?it/s]"
      ]
     },
     "metadata": {},
     "output_type": "display_data"
    },
    {
     "name": "stdout",
     "output_type": "stream",
     "text": [
      "Train losses: tensor(4.2393e-05, grad_fn=<DivBackward0>)\n",
      "Retrain on past test\n"
     ]
    },
    {
     "data": {
      "application/vnd.jupyter.widget-view+json": {
       "model_id": "2a4cce46092145b2968321f4eeff2d72",
       "version_major": 2,
       "version_minor": 0
      },
      "text/plain": [
       "  0%|          | 0/3 [00:00<?, ?it/s]"
      ]
     },
     "metadata": {},
     "output_type": "display_data"
    },
    {
     "name": "stdout",
     "output_type": "stream",
     "text": [
      "Train losses: tensor(0.0008, grad_fn=<DivBackward0>)\n"
     ]
    },
    {
     "data": {
      "application/vnd.jupyter.widget-view+json": {
       "model_id": "d15bf5a5c2d94c9d9fd63a14c95b24e6",
       "version_major": 2,
       "version_minor": 0
      },
      "text/plain": [
       "  0%|          | 0/3 [00:00<?, ?it/s]"
      ]
     },
     "metadata": {},
     "output_type": "display_data"
    },
    {
     "name": "stdout",
     "output_type": "stream",
     "text": [
      "Train losses: tensor(0.0008, grad_fn=<DivBackward0>)\n"
     ]
    },
    {
     "data": {
      "application/vnd.jupyter.widget-view+json": {
       "model_id": "4c4192f014d84d4fba0297f37395b77b",
       "version_major": 2,
       "version_minor": 0
      },
      "text/plain": [
       "  0%|          | 0/3 [00:00<?, ?it/s]"
      ]
     },
     "metadata": {},
     "output_type": "display_data"
    },
    {
     "name": "stdout",
     "output_type": "stream",
     "text": [
      "Train losses: tensor(0.0008, grad_fn=<DivBackward0>)\n",
      "Retrain on past test\n"
     ]
    },
    {
     "data": {
      "application/vnd.jupyter.widget-view+json": {
       "model_id": "606587bc6f54482285b6a19e9c5d11c5",
       "version_major": 2,
       "version_minor": 0
      },
      "text/plain": [
       "  0%|          | 0/6 [00:00<?, ?it/s]"
      ]
     },
     "metadata": {},
     "output_type": "display_data"
    },
    {
     "name": "stdout",
     "output_type": "stream",
     "text": [
      "Train losses: tensor(0.0003, grad_fn=<DivBackward0>)\n"
     ]
    },
    {
     "data": {
      "application/vnd.jupyter.widget-view+json": {
       "model_id": "5e02601935c64288befcf3d78440cd80",
       "version_major": 2,
       "version_minor": 0
      },
      "text/plain": [
       "  0%|          | 0/6 [00:00<?, ?it/s]"
      ]
     },
     "metadata": {},
     "output_type": "display_data"
    },
    {
     "name": "stdout",
     "output_type": "stream",
     "text": [
      "Train losses: tensor(0.0003, grad_fn=<DivBackward0>)\n"
     ]
    },
    {
     "data": {
      "application/vnd.jupyter.widget-view+json": {
       "model_id": "bd6dc2126a9e49089370b82691b7f071",
       "version_major": 2,
       "version_minor": 0
      },
      "text/plain": [
       "  0%|          | 0/6 [00:00<?, ?it/s]"
      ]
     },
     "metadata": {},
     "output_type": "display_data"
    },
    {
     "name": "stdout",
     "output_type": "stream",
     "text": [
      "Train losses: tensor(0.0003, grad_fn=<DivBackward0>)\n",
      "Retrain on past test\n"
     ]
    },
    {
     "data": {
      "application/vnd.jupyter.widget-view+json": {
       "model_id": "7ef7fa0c966045e6922c99bb8638eea0",
       "version_major": 2,
       "version_minor": 0
      },
      "text/plain": [
       "  0%|          | 0/9 [00:00<?, ?it/s]"
      ]
     },
     "metadata": {},
     "output_type": "display_data"
    },
    {
     "name": "stdout",
     "output_type": "stream",
     "text": [
      "Train losses: tensor(0.0003, grad_fn=<DivBackward0>)\n"
     ]
    },
    {
     "data": {
      "application/vnd.jupyter.widget-view+json": {
       "model_id": "eae6e0484fc14ed8874a636deb7212fa",
       "version_major": 2,
       "version_minor": 0
      },
      "text/plain": [
       "  0%|          | 0/9 [00:00<?, ?it/s]"
      ]
     },
     "metadata": {},
     "output_type": "display_data"
    },
    {
     "name": "stdout",
     "output_type": "stream",
     "text": [
      "Train losses: tensor(0.0003, grad_fn=<DivBackward0>)\n"
     ]
    },
    {
     "data": {
      "application/vnd.jupyter.widget-view+json": {
       "model_id": "81759ec8a38c40e981857cb22af36f93",
       "version_major": 2,
       "version_minor": 0
      },
      "text/plain": [
       "  0%|          | 0/9 [00:00<?, ?it/s]"
      ]
     },
     "metadata": {},
     "output_type": "display_data"
    },
    {
     "name": "stdout",
     "output_type": "stream",
     "text": [
      "Train losses: tensor(0.0003, grad_fn=<DivBackward0>)\n",
      "Retrain on past test\n"
     ]
    },
    {
     "data": {
      "application/vnd.jupyter.widget-view+json": {
       "model_id": "4662214f142d4fc9baf73c9c7400f28a",
       "version_major": 2,
       "version_minor": 0
      },
      "text/plain": [
       "  0%|          | 0/12 [00:00<?, ?it/s]"
      ]
     },
     "metadata": {},
     "output_type": "display_data"
    },
    {
     "name": "stdout",
     "output_type": "stream",
     "text": [
      "Train losses: tensor(0.0002, grad_fn=<DivBackward0>)\n"
     ]
    },
    {
     "data": {
      "application/vnd.jupyter.widget-view+json": {
       "model_id": "e1f62d0e589349769a6220a89210d944",
       "version_major": 2,
       "version_minor": 0
      },
      "text/plain": [
       "  0%|          | 0/12 [00:00<?, ?it/s]"
      ]
     },
     "metadata": {},
     "output_type": "display_data"
    },
    {
     "name": "stdout",
     "output_type": "stream",
     "text": [
      "Train losses: tensor(0.0002, grad_fn=<DivBackward0>)\n"
     ]
    },
    {
     "data": {
      "application/vnd.jupyter.widget-view+json": {
       "model_id": "9e62a8de9ac845dabe61e338fb294c57",
       "version_major": 2,
       "version_minor": 0
      },
      "text/plain": [
       "  0%|          | 0/12 [00:00<?, ?it/s]"
      ]
     },
     "metadata": {},
     "output_type": "display_data"
    },
    {
     "name": "stdout",
     "output_type": "stream",
     "text": [
      "Train losses: tensor(0.0002, grad_fn=<DivBackward0>)\n",
      "Retrain on past test\n"
     ]
    },
    {
     "data": {
      "application/vnd.jupyter.widget-view+json": {
       "model_id": "156577850c984248b67489101c26035e",
       "version_major": 2,
       "version_minor": 0
      },
      "text/plain": [
       "  0%|          | 0/15 [00:00<?, ?it/s]"
      ]
     },
     "metadata": {},
     "output_type": "display_data"
    },
    {
     "name": "stdout",
     "output_type": "stream",
     "text": [
      "Train losses: tensor(0.0001, grad_fn=<DivBackward0>)\n"
     ]
    },
    {
     "data": {
      "application/vnd.jupyter.widget-view+json": {
       "model_id": "4e62f64316b34ed3a5cf4b24d15b5f4e",
       "version_major": 2,
       "version_minor": 0
      },
      "text/plain": [
       "  0%|          | 0/15 [00:00<?, ?it/s]"
      ]
     },
     "metadata": {},
     "output_type": "display_data"
    },
    {
     "name": "stdout",
     "output_type": "stream",
     "text": [
      "Train losses: tensor(0.0001, grad_fn=<DivBackward0>)\n"
     ]
    },
    {
     "data": {
      "application/vnd.jupyter.widget-view+json": {
       "model_id": "8bdb719607934a018b66349436b288ab",
       "version_major": 2,
       "version_minor": 0
      },
      "text/plain": [
       "  0%|          | 0/15 [00:00<?, ?it/s]"
      ]
     },
     "metadata": {},
     "output_type": "display_data"
    },
    {
     "name": "stdout",
     "output_type": "stream",
     "text": [
      "Train losses: tensor(0.0001, grad_fn=<DivBackward0>)\n",
      "Retrain on past test\n"
     ]
    },
    {
     "data": {
      "application/vnd.jupyter.widget-view+json": {
       "model_id": "c1e4d2ba53d246069e2378b6c45da753",
       "version_major": 2,
       "version_minor": 0
      },
      "text/plain": [
       "  0%|          | 0/18 [00:00<?, ?it/s]"
      ]
     },
     "metadata": {},
     "output_type": "display_data"
    },
    {
     "name": "stdout",
     "output_type": "stream",
     "text": [
      "Train losses: tensor(0.0001, grad_fn=<DivBackward0>)\n"
     ]
    },
    {
     "data": {
      "application/vnd.jupyter.widget-view+json": {
       "model_id": "652a8539a2f14e6b91f4fd5f23853444",
       "version_major": 2,
       "version_minor": 0
      },
      "text/plain": [
       "  0%|          | 0/18 [00:00<?, ?it/s]"
      ]
     },
     "metadata": {},
     "output_type": "display_data"
    },
    {
     "name": "stdout",
     "output_type": "stream",
     "text": [
      "Train losses: tensor(0.0001, grad_fn=<DivBackward0>)\n"
     ]
    },
    {
     "data": {
      "application/vnd.jupyter.widget-view+json": {
       "model_id": "ba1afa06f8644790b7f2bb66774f2939",
       "version_major": 2,
       "version_minor": 0
      },
      "text/plain": [
       "  0%|          | 0/18 [00:00<?, ?it/s]"
      ]
     },
     "metadata": {},
     "output_type": "display_data"
    },
    {
     "name": "stdout",
     "output_type": "stream",
     "text": [
      "Train losses: tensor(0.0001, grad_fn=<DivBackward0>)\n",
      "Retrain on past test\n"
     ]
    },
    {
     "data": {
      "application/vnd.jupyter.widget-view+json": {
       "model_id": "d120a5e6415e483e8ae94888525ee638",
       "version_major": 2,
       "version_minor": 0
      },
      "text/plain": [
       "  0%|          | 0/21 [00:00<?, ?it/s]"
      ]
     },
     "metadata": {},
     "output_type": "display_data"
    },
    {
     "name": "stdout",
     "output_type": "stream",
     "text": [
      "Train losses: tensor(7.7996e-05, grad_fn=<DivBackward0>)\n"
     ]
    },
    {
     "data": {
      "application/vnd.jupyter.widget-view+json": {
       "model_id": "f5ed5b677b1646a2a5e1844940b1935c",
       "version_major": 2,
       "version_minor": 0
      },
      "text/plain": [
       "  0%|          | 0/21 [00:00<?, ?it/s]"
      ]
     },
     "metadata": {},
     "output_type": "display_data"
    },
    {
     "name": "stdout",
     "output_type": "stream",
     "text": [
      "Train losses: tensor(7.7059e-05, grad_fn=<DivBackward0>)\n"
     ]
    },
    {
     "data": {
      "application/vnd.jupyter.widget-view+json": {
       "model_id": "55fccea63c8e4b5791d5a36ce8e4248a",
       "version_major": 2,
       "version_minor": 0
      },
      "text/plain": [
       "  0%|          | 0/21 [00:00<?, ?it/s]"
      ]
     },
     "metadata": {},
     "output_type": "display_data"
    },
    {
     "name": "stdout",
     "output_type": "stream",
     "text": [
      "Train losses: tensor(7.6127e-05, grad_fn=<DivBackward0>)\n",
      "Retrain on past test\n"
     ]
    },
    {
     "data": {
      "application/vnd.jupyter.widget-view+json": {
       "model_id": "ff498692bc8744109d9efa3105279304",
       "version_major": 2,
       "version_minor": 0
      },
      "text/plain": [
       "  0%|          | 0/24 [00:00<?, ?it/s]"
      ]
     },
     "metadata": {},
     "output_type": "display_data"
    },
    {
     "name": "stdout",
     "output_type": "stream",
     "text": [
      "Train losses: tensor(7.2465e-05, grad_fn=<DivBackward0>)\n"
     ]
    },
    {
     "data": {
      "application/vnd.jupyter.widget-view+json": {
       "model_id": "e8ae1ec717b44f50aa4380c3be2f44e8",
       "version_major": 2,
       "version_minor": 0
      },
      "text/plain": [
       "  0%|          | 0/24 [00:00<?, ?it/s]"
      ]
     },
     "metadata": {},
     "output_type": "display_data"
    },
    {
     "name": "stdout",
     "output_type": "stream",
     "text": [
      "Train losses: tensor(7.1467e-05, grad_fn=<DivBackward0>)\n"
     ]
    },
    {
     "data": {
      "application/vnd.jupyter.widget-view+json": {
       "model_id": "d908aa17909547cb94dd7e7e37bcc677",
       "version_major": 2,
       "version_minor": 0
      },
      "text/plain": [
       "  0%|          | 0/24 [00:00<?, ?it/s]"
      ]
     },
     "metadata": {},
     "output_type": "display_data"
    },
    {
     "name": "stdout",
     "output_type": "stream",
     "text": [
      "Train losses: tensor(7.0474e-05, grad_fn=<DivBackward0>)\n",
      "Retrain on past test\n"
     ]
    },
    {
     "data": {
      "application/vnd.jupyter.widget-view+json": {
       "model_id": "8adfa150bb0746758ceccde920d13019",
       "version_major": 2,
       "version_minor": 0
      },
      "text/plain": [
       "  0%|          | 0/27 [00:00<?, ?it/s]"
      ]
     },
     "metadata": {},
     "output_type": "display_data"
    },
    {
     "name": "stdout",
     "output_type": "stream",
     "text": [
      "Train losses: tensor(6.2610e-05, grad_fn=<DivBackward0>)\n"
     ]
    },
    {
     "data": {
      "application/vnd.jupyter.widget-view+json": {
       "model_id": "9ff22ecf69ff44b0956c351a1d38ee6d",
       "version_major": 2,
       "version_minor": 0
      },
      "text/plain": [
       "  0%|          | 0/27 [00:00<?, ?it/s]"
      ]
     },
     "metadata": {},
     "output_type": "display_data"
    },
    {
     "name": "stdout",
     "output_type": "stream",
     "text": [
      "Train losses: tensor(6.1676e-05, grad_fn=<DivBackward0>)\n"
     ]
    },
    {
     "data": {
      "application/vnd.jupyter.widget-view+json": {
       "model_id": "62f44242028c4a67861ae8ecb9968fb1",
       "version_major": 2,
       "version_minor": 0
      },
      "text/plain": [
       "  0%|          | 0/27 [00:00<?, ?it/s]"
      ]
     },
     "metadata": {},
     "output_type": "display_data"
    },
    {
     "name": "stdout",
     "output_type": "stream",
     "text": [
      "Train losses: tensor(6.0749e-05, grad_fn=<DivBackward0>)\n",
      "Retrain on past test\n"
     ]
    },
    {
     "data": {
      "application/vnd.jupyter.widget-view+json": {
       "model_id": "404ae15063c644b291b7bf2b43f0e965",
       "version_major": 2,
       "version_minor": 0
      },
      "text/plain": [
       "  0%|          | 0/30 [00:00<?, ?it/s]"
      ]
     },
     "metadata": {},
     "output_type": "display_data"
    },
    {
     "name": "stdout",
     "output_type": "stream",
     "text": [
      "Train losses: tensor(5.1653e-05, grad_fn=<DivBackward0>)\n"
     ]
    },
    {
     "data": {
      "application/vnd.jupyter.widget-view+json": {
       "model_id": "99c2776f3494414c9f7a12956d8642fd",
       "version_major": 2,
       "version_minor": 0
      },
      "text/plain": [
       "  0%|          | 0/30 [00:00<?, ?it/s]"
      ]
     },
     "metadata": {},
     "output_type": "display_data"
    },
    {
     "name": "stdout",
     "output_type": "stream",
     "text": [
      "Train losses: tensor(5.0730e-05, grad_fn=<DivBackward0>)\n"
     ]
    },
    {
     "data": {
      "application/vnd.jupyter.widget-view+json": {
       "model_id": "202b735844f942dc85f256a79d2d6fd9",
       "version_major": 2,
       "version_minor": 0
      },
      "text/plain": [
       "  0%|          | 0/30 [00:00<?, ?it/s]"
      ]
     },
     "metadata": {},
     "output_type": "display_data"
    },
    {
     "name": "stdout",
     "output_type": "stream",
     "text": [
      "Train losses: tensor(4.9814e-05, grad_fn=<DivBackward0>)\n",
      "Retrain on past test\n"
     ]
    },
    {
     "data": {
      "application/vnd.jupyter.widget-view+json": {
       "model_id": "224e5c00f9d74fdfab13b69049cfc1a0",
       "version_major": 2,
       "version_minor": 0
      },
      "text/plain": [
       "  0%|          | 0/33 [00:00<?, ?it/s]"
      ]
     },
     "metadata": {},
     "output_type": "display_data"
    },
    {
     "name": "stdout",
     "output_type": "stream",
     "text": [
      "Train losses: tensor(4.9408e-05, grad_fn=<DivBackward0>)\n"
     ]
    },
    {
     "data": {
      "application/vnd.jupyter.widget-view+json": {
       "model_id": "04f4c662635b4c3897c5b6ff71b55e88",
       "version_major": 2,
       "version_minor": 0
      },
      "text/plain": [
       "  0%|          | 0/33 [00:00<?, ?it/s]"
      ]
     },
     "metadata": {},
     "output_type": "display_data"
    },
    {
     "name": "stdout",
     "output_type": "stream",
     "text": [
      "Train losses: tensor(4.8498e-05, grad_fn=<DivBackward0>)\n"
     ]
    },
    {
     "data": {
      "application/vnd.jupyter.widget-view+json": {
       "model_id": "f84e0abd60e546ba9f807d92acfa2e3d",
       "version_major": 2,
       "version_minor": 0
      },
      "text/plain": [
       "  0%|          | 0/33 [00:00<?, ?it/s]"
      ]
     },
     "metadata": {},
     "output_type": "display_data"
    },
    {
     "name": "stdout",
     "output_type": "stream",
     "text": [
      "Train losses: tensor(4.7675e-05, grad_fn=<DivBackward0>)\n",
      "Retrain on past test\n"
     ]
    },
    {
     "data": {
      "application/vnd.jupyter.widget-view+json": {
       "model_id": "38454c5cd83c44b7a6f72d9b71871688",
       "version_major": 2,
       "version_minor": 0
      },
      "text/plain": [
       "  0%|          | 0/36 [00:00<?, ?it/s]"
      ]
     },
     "metadata": {},
     "output_type": "display_data"
    },
    {
     "name": "stdout",
     "output_type": "stream",
     "text": [
      "Train losses: tensor(3.3376e-05, grad_fn=<DivBackward0>)\n"
     ]
    },
    {
     "data": {
      "application/vnd.jupyter.widget-view+json": {
       "model_id": "894f7aa0f959483eaf97187d34fe046c",
       "version_major": 2,
       "version_minor": 0
      },
      "text/plain": [
       "  0%|          | 0/36 [00:00<?, ?it/s]"
      ]
     },
     "metadata": {},
     "output_type": "display_data"
    },
    {
     "name": "stdout",
     "output_type": "stream",
     "text": [
      "Train losses: tensor(3.2675e-05, grad_fn=<DivBackward0>)\n"
     ]
    },
    {
     "data": {
      "application/vnd.jupyter.widget-view+json": {
       "model_id": "9176f59483f641b1bce8cae7e15a884a",
       "version_major": 2,
       "version_minor": 0
      },
      "text/plain": [
       "  0%|          | 0/36 [00:00<?, ?it/s]"
      ]
     },
     "metadata": {},
     "output_type": "display_data"
    },
    {
     "name": "stdout",
     "output_type": "stream",
     "text": [
      "Train losses: tensor(3.1980e-05, grad_fn=<DivBackward0>)\n",
      "Retrain on past test\n"
     ]
    },
    {
     "data": {
      "application/vnd.jupyter.widget-view+json": {
       "model_id": "c5c84d1500114d7daf244e254446e4fb",
       "version_major": 2,
       "version_minor": 0
      },
      "text/plain": [
       "  0%|          | 0/39 [00:00<?, ?it/s]"
      ]
     },
     "metadata": {},
     "output_type": "display_data"
    },
    {
     "name": "stdout",
     "output_type": "stream",
     "text": [
      "Train losses: tensor(3.8688e-05, grad_fn=<DivBackward0>)\n"
     ]
    },
    {
     "data": {
      "application/vnd.jupyter.widget-view+json": {
       "model_id": "abade4affd264358b6e340da1dde2fff",
       "version_major": 2,
       "version_minor": 0
      },
      "text/plain": [
       "  0%|          | 0/39 [00:00<?, ?it/s]"
      ]
     },
     "metadata": {},
     "output_type": "display_data"
    },
    {
     "name": "stdout",
     "output_type": "stream",
     "text": [
      "Train losses: tensor(3.7911e-05, grad_fn=<DivBackward0>)\n"
     ]
    },
    {
     "data": {
      "application/vnd.jupyter.widget-view+json": {
       "model_id": "696f0e31b79a4eb99aa22f897b4b08ee",
       "version_major": 2,
       "version_minor": 0
      },
      "text/plain": [
       "  0%|          | 0/39 [00:00<?, ?it/s]"
      ]
     },
     "metadata": {},
     "output_type": "display_data"
    },
    {
     "name": "stdout",
     "output_type": "stream",
     "text": [
      "Train losses: tensor(3.7140e-05, grad_fn=<DivBackward0>)\n",
      "Retrain on past test\n"
     ]
    },
    {
     "data": {
      "application/vnd.jupyter.widget-view+json": {
       "model_id": "1595bb4ae4d148bca7ef774c3551b6f2",
       "version_major": 2,
       "version_minor": 0
      },
      "text/plain": [
       "  0%|          | 0/42 [00:00<?, ?it/s]"
      ]
     },
     "metadata": {},
     "output_type": "display_data"
    },
    {
     "name": "stdout",
     "output_type": "stream",
     "text": [
      "Train losses: tensor(3.2038e-05, grad_fn=<DivBackward0>)\n"
     ]
    },
    {
     "data": {
      "application/vnd.jupyter.widget-view+json": {
       "model_id": "6b5fb9278ab24214b2db514a820c3e78",
       "version_major": 2,
       "version_minor": 0
      },
      "text/plain": [
       "  0%|          | 0/42 [00:00<?, ?it/s]"
      ]
     },
     "metadata": {},
     "output_type": "display_data"
    },
    {
     "name": "stdout",
     "output_type": "stream",
     "text": [
      "Train losses: tensor(3.1430e-05, grad_fn=<DivBackward0>)\n"
     ]
    },
    {
     "data": {
      "application/vnd.jupyter.widget-view+json": {
       "model_id": "8859c5d8911a4a6e8eb3c1058110fcc7",
       "version_major": 2,
       "version_minor": 0
      },
      "text/plain": [
       "  0%|          | 0/42 [00:00<?, ?it/s]"
      ]
     },
     "metadata": {},
     "output_type": "display_data"
    },
    {
     "name": "stdout",
     "output_type": "stream",
     "text": [
      "Train losses: tensor(3.0829e-05, grad_fn=<DivBackward0>)\n",
      "Retrain on past test\n"
     ]
    },
    {
     "data": {
      "application/vnd.jupyter.widget-view+json": {
       "model_id": "01a28bf49b304cf8b3473fd2c4b08536",
       "version_major": 2,
       "version_minor": 0
      },
      "text/plain": [
       "  0%|          | 0/45 [00:00<?, ?it/s]"
      ]
     },
     "metadata": {},
     "output_type": "display_data"
    },
    {
     "name": "stdout",
     "output_type": "stream",
     "text": [
      "Train losses: tensor(2.7854e-05, grad_fn=<DivBackward0>)\n"
     ]
    },
    {
     "data": {
      "application/vnd.jupyter.widget-view+json": {
       "model_id": "e2430d1ced2f42059b8f02bdbc2d7f69",
       "version_major": 2,
       "version_minor": 0
      },
      "text/plain": [
       "  0%|          | 0/45 [00:00<?, ?it/s]"
      ]
     },
     "metadata": {},
     "output_type": "display_data"
    },
    {
     "name": "stdout",
     "output_type": "stream",
     "text": [
      "Train losses: tensor(2.7233e-05, grad_fn=<DivBackward0>)\n"
     ]
    },
    {
     "data": {
      "application/vnd.jupyter.widget-view+json": {
       "model_id": "d5de5ac45da248d5bcd42866a9648570",
       "version_major": 2,
       "version_minor": 0
      },
      "text/plain": [
       "  0%|          | 0/45 [00:00<?, ?it/s]"
      ]
     },
     "metadata": {},
     "output_type": "display_data"
    },
    {
     "name": "stdout",
     "output_type": "stream",
     "text": [
      "Train losses: tensor(2.6622e-05, grad_fn=<DivBackward0>)\n",
      "Retrain on past test\n"
     ]
    },
    {
     "data": {
      "application/vnd.jupyter.widget-view+json": {
       "model_id": "c8135ecab3f7440bb4cd74682bd1f4f2",
       "version_major": 2,
       "version_minor": 0
      },
      "text/plain": [
       "  0%|          | 0/48 [00:00<?, ?it/s]"
      ]
     },
     "metadata": {},
     "output_type": "display_data"
    },
    {
     "name": "stdout",
     "output_type": "stream",
     "text": [
      "Train losses: tensor(3.0832e-05, grad_fn=<DivBackward0>)\n"
     ]
    },
    {
     "data": {
      "application/vnd.jupyter.widget-view+json": {
       "model_id": "b9d9c538c35c4279a769113ed357a915",
       "version_major": 2,
       "version_minor": 0
      },
      "text/plain": [
       "  0%|          | 0/48 [00:00<?, ?it/s]"
      ]
     },
     "metadata": {},
     "output_type": "display_data"
    },
    {
     "name": "stdout",
     "output_type": "stream",
     "text": [
      "Train losses: tensor(3.0228e-05, grad_fn=<DivBackward0>)\n"
     ]
    },
    {
     "data": {
      "application/vnd.jupyter.widget-view+json": {
       "model_id": "9210e80ba2f840049da00b95ba77f97f",
       "version_major": 2,
       "version_minor": 0
      },
      "text/plain": [
       "  0%|          | 0/48 [00:00<?, ?it/s]"
      ]
     },
     "metadata": {},
     "output_type": "display_data"
    },
    {
     "name": "stdout",
     "output_type": "stream",
     "text": [
      "Train losses: tensor(2.9635e-05, grad_fn=<DivBackward0>)\n",
      "Retrain on past test\n"
     ]
    },
    {
     "data": {
      "application/vnd.jupyter.widget-view+json": {
       "model_id": "63a5164d3f8f4a06aa196d71d8c5b801",
       "version_major": 2,
       "version_minor": 0
      },
      "text/plain": [
       "  0%|          | 0/51 [00:00<?, ?it/s]"
      ]
     },
     "metadata": {},
     "output_type": "display_data"
    },
    {
     "name": "stdout",
     "output_type": "stream",
     "text": [
      "Train losses: tensor(1.9879e-05, grad_fn=<DivBackward0>)\n"
     ]
    },
    {
     "data": {
      "application/vnd.jupyter.widget-view+json": {
       "model_id": "26a5b038ee924227be0ad4e2c6ecd363",
       "version_major": 2,
       "version_minor": 0
      },
      "text/plain": [
       "  0%|          | 0/51 [00:00<?, ?it/s]"
      ]
     },
     "metadata": {},
     "output_type": "display_data"
    },
    {
     "name": "stdout",
     "output_type": "stream",
     "text": [
      "Train losses: tensor(1.9365e-05, grad_fn=<DivBackward0>)\n"
     ]
    },
    {
     "data": {
      "application/vnd.jupyter.widget-view+json": {
       "model_id": "ac0fc89dc5834d7c92a7070bdc2ae505",
       "version_major": 2,
       "version_minor": 0
      },
      "text/plain": [
       "  0%|          | 0/51 [00:00<?, ?it/s]"
      ]
     },
     "metadata": {},
     "output_type": "display_data"
    },
    {
     "name": "stdout",
     "output_type": "stream",
     "text": [
      "Train losses: tensor(1.8871e-05, grad_fn=<DivBackward0>)\n",
      "Retrain on past test\n"
     ]
    },
    {
     "data": {
      "application/vnd.jupyter.widget-view+json": {
       "model_id": "e42e79d5aeea47a8ac9af693b61d32d6",
       "version_major": 2,
       "version_minor": 0
      },
      "text/plain": [
       "  0%|          | 0/54 [00:00<?, ?it/s]"
      ]
     },
     "metadata": {},
     "output_type": "display_data"
    },
    {
     "name": "stdout",
     "output_type": "stream",
     "text": [
      "Train losses: tensor(2.3664e-05, grad_fn=<DivBackward0>)\n"
     ]
    },
    {
     "data": {
      "application/vnd.jupyter.widget-view+json": {
       "model_id": "aae96e6f964d4922a62a636da500132f",
       "version_major": 2,
       "version_minor": 0
      },
      "text/plain": [
       "  0%|          | 0/54 [00:00<?, ?it/s]"
      ]
     },
     "metadata": {},
     "output_type": "display_data"
    },
    {
     "name": "stdout",
     "output_type": "stream",
     "text": [
      "Train losses: tensor(2.3132e-05, grad_fn=<DivBackward0>)\n"
     ]
    },
    {
     "data": {
      "application/vnd.jupyter.widget-view+json": {
       "model_id": "1a3c9629f08c4db8ae8048f656a458dc",
       "version_major": 2,
       "version_minor": 0
      },
      "text/plain": [
       "  0%|          | 0/54 [00:00<?, ?it/s]"
      ]
     },
     "metadata": {},
     "output_type": "display_data"
    },
    {
     "name": "stdout",
     "output_type": "stream",
     "text": [
      "Train losses: tensor(2.2615e-05, grad_fn=<DivBackward0>)\n",
      "Retrain on past test\n"
     ]
    },
    {
     "data": {
      "application/vnd.jupyter.widget-view+json": {
       "model_id": "bbace26da3764a9987742be23bc9e3f1",
       "version_major": 2,
       "version_minor": 0
      },
      "text/plain": [
       "  0%|          | 0/57 [00:00<?, ?it/s]"
      ]
     },
     "metadata": {},
     "output_type": "display_data"
    },
    {
     "name": "stdout",
     "output_type": "stream",
     "text": [
      "Train losses: tensor(2.2307e-05, grad_fn=<DivBackward0>)\n"
     ]
    },
    {
     "data": {
      "application/vnd.jupyter.widget-view+json": {
       "model_id": "023e6dcbd24b4288a09d2abcb55e8bc3",
       "version_major": 2,
       "version_minor": 0
      },
      "text/plain": [
       "  0%|          | 0/57 [00:00<?, ?it/s]"
      ]
     },
     "metadata": {},
     "output_type": "display_data"
    },
    {
     "name": "stdout",
     "output_type": "stream",
     "text": [
      "Train losses: tensor(2.1886e-05, grad_fn=<DivBackward0>)\n"
     ]
    },
    {
     "data": {
      "application/vnd.jupyter.widget-view+json": {
       "model_id": "5744f27e9cce4e00b207e6fe9ff7b8a2",
       "version_major": 2,
       "version_minor": 0
      },
      "text/plain": [
       "  0%|          | 0/57 [00:00<?, ?it/s]"
      ]
     },
     "metadata": {},
     "output_type": "display_data"
    },
    {
     "name": "stdout",
     "output_type": "stream",
     "text": [
      "Train losses: tensor(2.1475e-05, grad_fn=<DivBackward0>)\n",
      "Retrain on past test\n"
     ]
    },
    {
     "data": {
      "application/vnd.jupyter.widget-view+json": {
       "model_id": "730329e29bd04b1493bad76da8bad985",
       "version_major": 2,
       "version_minor": 0
      },
      "text/plain": [
       "  0%|          | 0/60 [00:00<?, ?it/s]"
      ]
     },
     "metadata": {},
     "output_type": "display_data"
    },
    {
     "name": "stdout",
     "output_type": "stream",
     "text": [
      "Train losses: tensor(2.1294e-05, grad_fn=<DivBackward0>)\n"
     ]
    },
    {
     "data": {
      "application/vnd.jupyter.widget-view+json": {
       "model_id": "f2867890bd964cb2b05de8e1e563cc32",
       "version_major": 2,
       "version_minor": 0
      },
      "text/plain": [
       "  0%|          | 0/60 [00:00<?, ?it/s]"
      ]
     },
     "metadata": {},
     "output_type": "display_data"
    },
    {
     "name": "stdout",
     "output_type": "stream",
     "text": [
      "Train losses: tensor(2.0872e-05, grad_fn=<DivBackward0>)\n"
     ]
    },
    {
     "data": {
      "application/vnd.jupyter.widget-view+json": {
       "model_id": "f8c94303fac6446d8f5088a850eb4039",
       "version_major": 2,
       "version_minor": 0
      },
      "text/plain": [
       "  0%|          | 0/60 [00:00<?, ?it/s]"
      ]
     },
     "metadata": {},
     "output_type": "display_data"
    },
    {
     "name": "stdout",
     "output_type": "stream",
     "text": [
      "Train losses: tensor(2.0461e-05, grad_fn=<DivBackward0>)\n",
      "Retrain on past test\n"
     ]
    },
    {
     "data": {
      "application/vnd.jupyter.widget-view+json": {
       "model_id": "cab13d5f8e594f47bed3d501ca740103",
       "version_major": 2,
       "version_minor": 0
      },
      "text/plain": [
       "  0%|          | 0/63 [00:00<?, ?it/s]"
      ]
     },
     "metadata": {},
     "output_type": "display_data"
    },
    {
     "name": "stdout",
     "output_type": "stream",
     "text": [
      "Train losses: tensor(2.0523e-05, grad_fn=<DivBackward0>)\n"
     ]
    },
    {
     "data": {
      "application/vnd.jupyter.widget-view+json": {
       "model_id": "7580c537428b48b5b87a47321c943126",
       "version_major": 2,
       "version_minor": 0
      },
      "text/plain": [
       "  0%|          | 0/63 [00:00<?, ?it/s]"
      ]
     },
     "metadata": {},
     "output_type": "display_data"
    },
    {
     "name": "stdout",
     "output_type": "stream",
     "text": [
      "Train losses: tensor(2.0175e-05, grad_fn=<DivBackward0>)\n"
     ]
    },
    {
     "data": {
      "application/vnd.jupyter.widget-view+json": {
       "model_id": "ea7e087e7b024c389126758ff699caa8",
       "version_major": 2,
       "version_minor": 0
      },
      "text/plain": [
       "  0%|          | 0/63 [00:00<?, ?it/s]"
      ]
     },
     "metadata": {},
     "output_type": "display_data"
    },
    {
     "name": "stdout",
     "output_type": "stream",
     "text": [
      "Train losses: tensor(1.9838e-05, grad_fn=<DivBackward0>)\n",
      "Retrain on past test\n"
     ]
    },
    {
     "data": {
      "application/vnd.jupyter.widget-view+json": {
       "model_id": "b49e16f3752641ea855f32dffb662455",
       "version_major": 2,
       "version_minor": 0
      },
      "text/plain": [
       "  0%|          | 0/66 [00:00<?, ?it/s]"
      ]
     },
     "metadata": {},
     "output_type": "display_data"
    },
    {
     "name": "stdout",
     "output_type": "stream",
     "text": [
      "Train losses: tensor(1.8504e-05, grad_fn=<DivBackward0>)\n"
     ]
    },
    {
     "data": {
      "application/vnd.jupyter.widget-view+json": {
       "model_id": "68cffba9c82a4455b0dea1097084cd01",
       "version_major": 2,
       "version_minor": 0
      },
      "text/plain": [
       "  0%|          | 0/66 [00:00<?, ?it/s]"
      ]
     },
     "metadata": {},
     "output_type": "display_data"
    },
    {
     "name": "stdout",
     "output_type": "stream",
     "text": [
      "Train losses: tensor(1.8130e-05, grad_fn=<DivBackward0>)\n"
     ]
    },
    {
     "data": {
      "application/vnd.jupyter.widget-view+json": {
       "model_id": "d5c00e1b08a644c8bf1fdf3efb242111",
       "version_major": 2,
       "version_minor": 0
      },
      "text/plain": [
       "  0%|          | 0/66 [00:00<?, ?it/s]"
      ]
     },
     "metadata": {},
     "output_type": "display_data"
    },
    {
     "name": "stdout",
     "output_type": "stream",
     "text": [
      "Train losses: tensor(1.7767e-05, grad_fn=<DivBackward0>)\n",
      "Retrain on past test\n"
     ]
    },
    {
     "data": {
      "application/vnd.jupyter.widget-view+json": {
       "model_id": "e3e6ec43173a420f9e3541014b22600c",
       "version_major": 2,
       "version_minor": 0
      },
      "text/plain": [
       "  0%|          | 0/69 [00:00<?, ?it/s]"
      ]
     },
     "metadata": {},
     "output_type": "display_data"
    },
    {
     "name": "stdout",
     "output_type": "stream",
     "text": [
      "Train losses: tensor(1.8173e-05, grad_fn=<DivBackward0>)\n"
     ]
    },
    {
     "data": {
      "application/vnd.jupyter.widget-view+json": {
       "model_id": "7f1ecd7624e8438eaba5193c667ffbd8",
       "version_major": 2,
       "version_minor": 0
      },
      "text/plain": [
       "  0%|          | 0/69 [00:00<?, ?it/s]"
      ]
     },
     "metadata": {},
     "output_type": "display_data"
    },
    {
     "name": "stdout",
     "output_type": "stream",
     "text": [
      "Train losses: tensor(1.7819e-05, grad_fn=<DivBackward0>)\n"
     ]
    },
    {
     "data": {
      "application/vnd.jupyter.widget-view+json": {
       "model_id": "3fee6fdca8154c1f87bfbca8ced7fcd8",
       "version_major": 2,
       "version_minor": 0
      },
      "text/plain": [
       "  0%|          | 0/69 [00:00<?, ?it/s]"
      ]
     },
     "metadata": {},
     "output_type": "display_data"
    },
    {
     "name": "stdout",
     "output_type": "stream",
     "text": [
      "Train losses: tensor(1.7478e-05, grad_fn=<DivBackward0>)\n",
      "Retrain on past test\n"
     ]
    },
    {
     "data": {
      "application/vnd.jupyter.widget-view+json": {
       "model_id": "093bac701fff487da0795440447d44a7",
       "version_major": 2,
       "version_minor": 0
      },
      "text/plain": [
       "  0%|          | 0/72 [00:00<?, ?it/s]"
      ]
     },
     "metadata": {},
     "output_type": "display_data"
    },
    {
     "name": "stdout",
     "output_type": "stream",
     "text": [
      "Train losses: tensor(1.5027e-05, grad_fn=<DivBackward0>)\n"
     ]
    },
    {
     "data": {
      "application/vnd.jupyter.widget-view+json": {
       "model_id": "b752bc3df39b42019c83ddee8baf84f6",
       "version_major": 2,
       "version_minor": 0
      },
      "text/plain": [
       "  0%|          | 0/72 [00:00<?, ?it/s]"
      ]
     },
     "metadata": {},
     "output_type": "display_data"
    },
    {
     "name": "stdout",
     "output_type": "stream",
     "text": [
      "Train losses: tensor(1.4702e-05, grad_fn=<DivBackward0>)\n"
     ]
    },
    {
     "data": {
      "application/vnd.jupyter.widget-view+json": {
       "model_id": "85e473ad935a4105847426a2f6b7633e",
       "version_major": 2,
       "version_minor": 0
      },
      "text/plain": [
       "  0%|          | 0/72 [00:00<?, ?it/s]"
      ]
     },
     "metadata": {},
     "output_type": "display_data"
    },
    {
     "name": "stdout",
     "output_type": "stream",
     "text": [
      "Train losses: tensor(1.4389e-05, grad_fn=<DivBackward0>)\n",
      "Retrain on past test\n"
     ]
    },
    {
     "data": {
      "application/vnd.jupyter.widget-view+json": {
       "model_id": "2867f423a26347ee9d89c7f3ad8aedfd",
       "version_major": 2,
       "version_minor": 0
      },
      "text/plain": [
       "  0%|          | 0/75 [00:00<?, ?it/s]"
      ]
     },
     "metadata": {},
     "output_type": "display_data"
    },
    {
     "name": "stdout",
     "output_type": "stream",
     "text": [
      "Train losses: tensor(1.6585e-05, grad_fn=<DivBackward0>)\n"
     ]
    },
    {
     "data": {
      "application/vnd.jupyter.widget-view+json": {
       "model_id": "2899b707ac354578b054170e45f19fdf",
       "version_major": 2,
       "version_minor": 0
      },
      "text/plain": [
       "  0%|          | 0/75 [00:00<?, ?it/s]"
      ]
     },
     "metadata": {},
     "output_type": "display_data"
    },
    {
     "name": "stdout",
     "output_type": "stream",
     "text": [
      "Train losses: tensor(1.6278e-05, grad_fn=<DivBackward0>)\n"
     ]
    },
    {
     "data": {
      "application/vnd.jupyter.widget-view+json": {
       "model_id": "4a60f42d61914750b521c6b3c116338a",
       "version_major": 2,
       "version_minor": 0
      },
      "text/plain": [
       "  0%|          | 0/75 [00:00<?, ?it/s]"
      ]
     },
     "metadata": {},
     "output_type": "display_data"
    },
    {
     "name": "stdout",
     "output_type": "stream",
     "text": [
      "Train losses: tensor(1.5983e-05, grad_fn=<DivBackward0>)\n",
      "Retrain on past test\n"
     ]
    },
    {
     "data": {
      "application/vnd.jupyter.widget-view+json": {
       "model_id": "79095f6515c04b72aec9ef9f9cfb08f9",
       "version_major": 2,
       "version_minor": 0
      },
      "text/plain": [
       "  0%|          | 0/78 [00:00<?, ?it/s]"
      ]
     },
     "metadata": {},
     "output_type": "display_data"
    },
    {
     "name": "stdout",
     "output_type": "stream",
     "text": [
      "Train losses: tensor(1.4557e-05, grad_fn=<DivBackward0>)\n"
     ]
    },
    {
     "data": {
      "application/vnd.jupyter.widget-view+json": {
       "model_id": "f1116912e5a04572b9e7085b38225dd4",
       "version_major": 2,
       "version_minor": 0
      },
      "text/plain": [
       "  0%|          | 0/78 [00:00<?, ?it/s]"
      ]
     },
     "metadata": {},
     "output_type": "display_data"
    },
    {
     "name": "stdout",
     "output_type": "stream",
     "text": [
      "Train losses: tensor(1.4306e-05, grad_fn=<DivBackward0>)\n"
     ]
    },
    {
     "data": {
      "application/vnd.jupyter.widget-view+json": {
       "model_id": "f4e722fcfc4943eca0d0d93ed2e88f2d",
       "version_major": 2,
       "version_minor": 0
      },
      "text/plain": [
       "  0%|          | 0/78 [00:00<?, ?it/s]"
      ]
     },
     "metadata": {},
     "output_type": "display_data"
    },
    {
     "name": "stdout",
     "output_type": "stream",
     "text": [
      "Train losses: tensor(1.4068e-05, grad_fn=<DivBackward0>)\n",
      "Retrain on past test\n"
     ]
    },
    {
     "data": {
      "application/vnd.jupyter.widget-view+json": {
       "model_id": "8926aec35abf4dea917f2fa8af529f68",
       "version_major": 2,
       "version_minor": 0
      },
      "text/plain": [
       "  0%|          | 0/81 [00:00<?, ?it/s]"
      ]
     },
     "metadata": {},
     "output_type": "display_data"
    },
    {
     "name": "stdout",
     "output_type": "stream",
     "text": [
      "Train losses: tensor(1.4809e-05, grad_fn=<DivBackward0>)\n"
     ]
    },
    {
     "data": {
      "application/vnd.jupyter.widget-view+json": {
       "model_id": "d8637cb14fea487b84b294c1d4c2d2d9",
       "version_major": 2,
       "version_minor": 0
      },
      "text/plain": [
       "  0%|          | 0/81 [00:00<?, ?it/s]"
      ]
     },
     "metadata": {},
     "output_type": "display_data"
    },
    {
     "name": "stdout",
     "output_type": "stream",
     "text": [
      "Train losses: tensor(1.4538e-05, grad_fn=<DivBackward0>)\n"
     ]
    },
    {
     "data": {
      "application/vnd.jupyter.widget-view+json": {
       "model_id": "485a29090224456a83d3310828fe50ff",
       "version_major": 2,
       "version_minor": 0
      },
      "text/plain": [
       "  0%|          | 0/81 [00:00<?, ?it/s]"
      ]
     },
     "metadata": {},
     "output_type": "display_data"
    },
    {
     "name": "stdout",
     "output_type": "stream",
     "text": [
      "Train losses: tensor(1.4279e-05, grad_fn=<DivBackward0>)\n",
      "Retrain on past test\n"
     ]
    },
    {
     "data": {
      "application/vnd.jupyter.widget-view+json": {
       "model_id": "87b9a11fbbd6463683a2386f50635d2c",
       "version_major": 2,
       "version_minor": 0
      },
      "text/plain": [
       "  0%|          | 0/84 [00:00<?, ?it/s]"
      ]
     },
     "metadata": {},
     "output_type": "display_data"
    },
    {
     "name": "stdout",
     "output_type": "stream",
     "text": [
      "Train losses: tensor(1.5159e-05, grad_fn=<DivBackward0>)\n"
     ]
    },
    {
     "data": {
      "application/vnd.jupyter.widget-view+json": {
       "model_id": "47cd0cb42475470dbaafb23c17d29f27",
       "version_major": 2,
       "version_minor": 0
      },
      "text/plain": [
       "  0%|          | 0/84 [00:00<?, ?it/s]"
      ]
     },
     "metadata": {},
     "output_type": "display_data"
    },
    {
     "name": "stdout",
     "output_type": "stream",
     "text": [
      "Train losses: tensor(1.4953e-05, grad_fn=<DivBackward0>)\n"
     ]
    },
    {
     "data": {
      "application/vnd.jupyter.widget-view+json": {
       "model_id": "38b7793023d547c2834f26a1eb6114f9",
       "version_major": 2,
       "version_minor": 0
      },
      "text/plain": [
       "  0%|          | 0/84 [00:00<?, ?it/s]"
      ]
     },
     "metadata": {},
     "output_type": "display_data"
    },
    {
     "name": "stdout",
     "output_type": "stream",
     "text": [
      "Train losses: tensor(1.4765e-05, grad_fn=<DivBackward0>)\n",
      "Retrain on past test\n"
     ]
    },
    {
     "data": {
      "application/vnd.jupyter.widget-view+json": {
       "model_id": "65697da57ee041db94e70d29abb1d01b",
       "version_major": 2,
       "version_minor": 0
      },
      "text/plain": [
       "  0%|          | 0/87 [00:00<?, ?it/s]"
      ]
     },
     "metadata": {},
     "output_type": "display_data"
    },
    {
     "name": "stdout",
     "output_type": "stream",
     "text": [
      "Train losses: tensor(1.4891e-05, grad_fn=<DivBackward0>)\n"
     ]
    },
    {
     "data": {
      "application/vnd.jupyter.widget-view+json": {
       "model_id": "613088a38691459b9135127e43b4325b",
       "version_major": 2,
       "version_minor": 0
      },
      "text/plain": [
       "  0%|          | 0/87 [00:00<?, ?it/s]"
      ]
     },
     "metadata": {},
     "output_type": "display_data"
    },
    {
     "name": "stdout",
     "output_type": "stream",
     "text": [
      "Train losses: tensor(1.4648e-05, grad_fn=<DivBackward0>)\n"
     ]
    },
    {
     "data": {
      "application/vnd.jupyter.widget-view+json": {
       "model_id": "515dd6561a5f46e18ec29cd8db20706e",
       "version_major": 2,
       "version_minor": 0
      },
      "text/plain": [
       "  0%|          | 0/87 [00:00<?, ?it/s]"
      ]
     },
     "metadata": {},
     "output_type": "display_data"
    },
    {
     "name": "stdout",
     "output_type": "stream",
     "text": [
      "Train losses: tensor(1.4418e-05, grad_fn=<DivBackward0>)\n",
      "Retrain on past test\n"
     ]
    },
    {
     "data": {
      "application/vnd.jupyter.widget-view+json": {
       "model_id": "07106738725344d8a7f27e81c848cfe0",
       "version_major": 2,
       "version_minor": 0
      },
      "text/plain": [
       "  0%|          | 0/90 [00:00<?, ?it/s]"
      ]
     },
     "metadata": {},
     "output_type": "display_data"
    },
    {
     "name": "stdout",
     "output_type": "stream",
     "text": [
      "Train losses: tensor(1.4685e-05, grad_fn=<DivBackward0>)\n"
     ]
    },
    {
     "data": {
      "application/vnd.jupyter.widget-view+json": {
       "model_id": "8fe7d1fe1d544881abdc73a04cbb43f1",
       "version_major": 2,
       "version_minor": 0
      },
      "text/plain": [
       "  0%|          | 0/90 [00:00<?, ?it/s]"
      ]
     },
     "metadata": {},
     "output_type": "display_data"
    },
    {
     "name": "stdout",
     "output_type": "stream",
     "text": [
      "Train losses: tensor(1.4430e-05, grad_fn=<DivBackward0>)\n"
     ]
    },
    {
     "data": {
      "application/vnd.jupyter.widget-view+json": {
       "model_id": "d00ff549a2104c20a80c1ed726a4f668",
       "version_major": 2,
       "version_minor": 0
      },
      "text/plain": [
       "  0%|          | 0/90 [00:00<?, ?it/s]"
      ]
     },
     "metadata": {},
     "output_type": "display_data"
    },
    {
     "name": "stdout",
     "output_type": "stream",
     "text": [
      "Train losses: tensor(1.4189e-05, grad_fn=<DivBackward0>)\n",
      "Retrain on past test\n"
     ]
    },
    {
     "data": {
      "application/vnd.jupyter.widget-view+json": {
       "model_id": "b9a03f68e29c46ed8554b83d7ac2ff8f",
       "version_major": 2,
       "version_minor": 0
      },
      "text/plain": [
       "  0%|          | 0/93 [00:00<?, ?it/s]"
      ]
     },
     "metadata": {},
     "output_type": "display_data"
    },
    {
     "name": "stdout",
     "output_type": "stream",
     "text": [
      "Train losses: tensor(1.4190e-05, grad_fn=<DivBackward0>)\n"
     ]
    },
    {
     "data": {
      "application/vnd.jupyter.widget-view+json": {
       "model_id": "e0ad132a681944afaba6f966bce436f6",
       "version_major": 2,
       "version_minor": 0
      },
      "text/plain": [
       "  0%|          | 0/93 [00:00<?, ?it/s]"
      ]
     },
     "metadata": {},
     "output_type": "display_data"
    },
    {
     "name": "stdout",
     "output_type": "stream",
     "text": [
      "Train losses: tensor(1.3907e-05, grad_fn=<DivBackward0>)\n"
     ]
    },
    {
     "data": {
      "application/vnd.jupyter.widget-view+json": {
       "model_id": "d8598fc090f8472a9edc6a0b83d826e3",
       "version_major": 2,
       "version_minor": 0
      },
      "text/plain": [
       "  0%|          | 0/93 [00:00<?, ?it/s]"
      ]
     },
     "metadata": {},
     "output_type": "display_data"
    },
    {
     "name": "stdout",
     "output_type": "stream",
     "text": [
      "Train losses: tensor(1.3641e-05, grad_fn=<DivBackward0>)\n",
      "Retrain on past test\n"
     ]
    },
    {
     "data": {
      "application/vnd.jupyter.widget-view+json": {
       "model_id": "873da57c24d547afbe26657d037ac8e0",
       "version_major": 2,
       "version_minor": 0
      },
      "text/plain": [
       "  0%|          | 0/96 [00:00<?, ?it/s]"
      ]
     },
     "metadata": {},
     "output_type": "display_data"
    },
    {
     "name": "stdout",
     "output_type": "stream",
     "text": [
      "Train losses: tensor(1.5942e-05, grad_fn=<DivBackward0>)\n"
     ]
    },
    {
     "data": {
      "application/vnd.jupyter.widget-view+json": {
       "model_id": "9096f4b1a2dd429282ccad7c4a4f2039",
       "version_major": 2,
       "version_minor": 0
      },
      "text/plain": [
       "  0%|          | 0/96 [00:00<?, ?it/s]"
      ]
     },
     "metadata": {},
     "output_type": "display_data"
    },
    {
     "name": "stdout",
     "output_type": "stream",
     "text": [
      "Train losses: tensor(1.5718e-05, grad_fn=<DivBackward0>)\n"
     ]
    },
    {
     "data": {
      "application/vnd.jupyter.widget-view+json": {
       "model_id": "b2249d4947bc4bbd983a06ea55ee2727",
       "version_major": 2,
       "version_minor": 0
      },
      "text/plain": [
       "  0%|          | 0/96 [00:00<?, ?it/s]"
      ]
     },
     "metadata": {},
     "output_type": "display_data"
    },
    {
     "name": "stdout",
     "output_type": "stream",
     "text": [
      "Train losses: tensor(1.5509e-05, grad_fn=<DivBackward0>)\n",
      "Retrain on past test\n"
     ]
    },
    {
     "data": {
      "application/vnd.jupyter.widget-view+json": {
       "model_id": "e566b1a2fdf74c6fa8d9acd3d1f830a8",
       "version_major": 2,
       "version_minor": 0
      },
      "text/plain": [
       "  0%|          | 0/99 [00:00<?, ?it/s]"
      ]
     },
     "metadata": {},
     "output_type": "display_data"
    },
    {
     "name": "stdout",
     "output_type": "stream",
     "text": [
      "Train losses: tensor(1.4208e-05, grad_fn=<DivBackward0>)\n"
     ]
    },
    {
     "data": {
      "application/vnd.jupyter.widget-view+json": {
       "model_id": "0f06b6b1950a48e0a4f04a6a72746155",
       "version_major": 2,
       "version_minor": 0
      },
      "text/plain": [
       "  0%|          | 0/99 [00:00<?, ?it/s]"
      ]
     },
     "metadata": {},
     "output_type": "display_data"
    },
    {
     "name": "stdout",
     "output_type": "stream",
     "text": [
      "Train losses: tensor(1.4001e-05, grad_fn=<DivBackward0>)\n"
     ]
    },
    {
     "data": {
      "application/vnd.jupyter.widget-view+json": {
       "model_id": "cb63efa8ca054259a1cbd55e5af33f0f",
       "version_major": 2,
       "version_minor": 0
      },
      "text/plain": [
       "  0%|          | 0/99 [00:00<?, ?it/s]"
      ]
     },
     "metadata": {},
     "output_type": "display_data"
    },
    {
     "name": "stdout",
     "output_type": "stream",
     "text": [
      "Train losses: tensor(1.3809e-05, grad_fn=<DivBackward0>)\n",
      "Retrain on past test\n"
     ]
    },
    {
     "data": {
      "application/vnd.jupyter.widget-view+json": {
       "model_id": "68f59eb888ad43f7aeaeff809e8e6353",
       "version_major": 2,
       "version_minor": 0
      },
      "text/plain": [
       "  0%|          | 0/102 [00:00<?, ?it/s]"
      ]
     },
     "metadata": {},
     "output_type": "display_data"
    },
    {
     "name": "stdout",
     "output_type": "stream",
     "text": [
      "Train losses: tensor(1.5485e-05, grad_fn=<DivBackward0>)\n"
     ]
    },
    {
     "data": {
      "application/vnd.jupyter.widget-view+json": {
       "model_id": "f60dba5d7972481f95f43753dc5d0512",
       "version_major": 2,
       "version_minor": 0
      },
      "text/plain": [
       "  0%|          | 0/102 [00:00<?, ?it/s]"
      ]
     },
     "metadata": {},
     "output_type": "display_data"
    },
    {
     "name": "stdout",
     "output_type": "stream",
     "text": [
      "Train losses: tensor(1.5178e-05, grad_fn=<DivBackward0>)\n"
     ]
    },
    {
     "data": {
      "application/vnd.jupyter.widget-view+json": {
       "model_id": "d69d6c40878f4ba996a0a2fa248ff9ce",
       "version_major": 2,
       "version_minor": 0
      },
      "text/plain": [
       "  0%|          | 0/102 [00:00<?, ?it/s]"
      ]
     },
     "metadata": {},
     "output_type": "display_data"
    },
    {
     "name": "stdout",
     "output_type": "stream",
     "text": [
      "Train losses: tensor(1.4899e-05, grad_fn=<DivBackward0>)\n",
      "Retrain on past test\n"
     ]
    },
    {
     "data": {
      "application/vnd.jupyter.widget-view+json": {
       "model_id": "d002d56c0a8946a5b6ab6e54c90ec4c3",
       "version_major": 2,
       "version_minor": 0
      },
      "text/plain": [
       "  0%|          | 0/105 [00:00<?, ?it/s]"
      ]
     },
     "metadata": {},
     "output_type": "display_data"
    },
    {
     "name": "stdout",
     "output_type": "stream",
     "text": [
      "Train losses: tensor(1.5244e-05, grad_fn=<DivBackward0>)\n"
     ]
    },
    {
     "data": {
      "application/vnd.jupyter.widget-view+json": {
       "model_id": "39ecd460853a4eb79087b11b43f178b2",
       "version_major": 2,
       "version_minor": 0
      },
      "text/plain": [
       "  0%|          | 0/105 [00:00<?, ?it/s]"
      ]
     },
     "metadata": {},
     "output_type": "display_data"
    },
    {
     "name": "stdout",
     "output_type": "stream",
     "text": [
      "Train losses: tensor(1.4991e-05, grad_fn=<DivBackward0>)\n"
     ]
    },
    {
     "data": {
      "application/vnd.jupyter.widget-view+json": {
       "model_id": "ce8d0350cb6e446892b9ab117887394d",
       "version_major": 2,
       "version_minor": 0
      },
      "text/plain": [
       "  0%|          | 0/105 [00:00<?, ?it/s]"
      ]
     },
     "metadata": {},
     "output_type": "display_data"
    },
    {
     "name": "stdout",
     "output_type": "stream",
     "text": [
      "Train losses: tensor(1.4775e-05, grad_fn=<DivBackward0>)\n",
      "Retrain on past test\n"
     ]
    },
    {
     "data": {
      "application/vnd.jupyter.widget-view+json": {
       "model_id": "a16c8260c4b0484daac34990b46c36fb",
       "version_major": 2,
       "version_minor": 0
      },
      "text/plain": [
       "  0%|          | 0/108 [00:00<?, ?it/s]"
      ]
     },
     "metadata": {},
     "output_type": "display_data"
    },
    {
     "name": "stdout",
     "output_type": "stream",
     "text": [
      "Train losses: tensor(1.4780e-05, grad_fn=<DivBackward0>)\n"
     ]
    },
    {
     "data": {
      "application/vnd.jupyter.widget-view+json": {
       "model_id": "6cb11d75ac32429c86782998c9fee471",
       "version_major": 2,
       "version_minor": 0
      },
      "text/plain": [
       "  0%|          | 0/108 [00:00<?, ?it/s]"
      ]
     },
     "metadata": {},
     "output_type": "display_data"
    },
    {
     "name": "stdout",
     "output_type": "stream",
     "text": [
      "Train losses: tensor(1.4521e-05, grad_fn=<DivBackward0>)\n"
     ]
    },
    {
     "data": {
      "application/vnd.jupyter.widget-view+json": {
       "model_id": "38827f2cd10c497e80e0bf3f036660f7",
       "version_major": 2,
       "version_minor": 0
      },
      "text/plain": [
       "  0%|          | 0/108 [00:00<?, ?it/s]"
      ]
     },
     "metadata": {},
     "output_type": "display_data"
    },
    {
     "name": "stdout",
     "output_type": "stream",
     "text": [
      "Train losses: tensor(1.4289e-05, grad_fn=<DivBackward0>)\n",
      "Retrain on past test\n"
     ]
    },
    {
     "data": {
      "application/vnd.jupyter.widget-view+json": {
       "model_id": "ec57020242bf41d387d98c5ff3a1cbba",
       "version_major": 2,
       "version_minor": 0
      },
      "text/plain": [
       "  0%|          | 0/111 [00:00<?, ?it/s]"
      ]
     },
     "metadata": {},
     "output_type": "display_data"
    },
    {
     "name": "stdout",
     "output_type": "stream",
     "text": [
      "Train losses: tensor(1.2594e-05, grad_fn=<DivBackward0>)\n"
     ]
    },
    {
     "data": {
      "application/vnd.jupyter.widget-view+json": {
       "model_id": "f374cefebe9d4257b5dc3bb5bdfb8c4a",
       "version_major": 2,
       "version_minor": 0
      },
      "text/plain": [
       "  0%|          | 0/111 [00:00<?, ?it/s]"
      ]
     },
     "metadata": {},
     "output_type": "display_data"
    },
    {
     "name": "stdout",
     "output_type": "stream",
     "text": [
      "Train losses: tensor(1.2363e-05, grad_fn=<DivBackward0>)\n"
     ]
    },
    {
     "data": {
      "application/vnd.jupyter.widget-view+json": {
       "model_id": "905c4d236bc6421280bb5368f91aab8d",
       "version_major": 2,
       "version_minor": 0
      },
      "text/plain": [
       "  0%|          | 0/111 [00:00<?, ?it/s]"
      ]
     },
     "metadata": {},
     "output_type": "display_data"
    },
    {
     "name": "stdout",
     "output_type": "stream",
     "text": [
      "Train losses: tensor(1.2156e-05, grad_fn=<DivBackward0>)\n",
      "Retrain on past test\n"
     ]
    },
    {
     "data": {
      "application/vnd.jupyter.widget-view+json": {
       "model_id": "e4b661d12f594393b438e87e59c5a28c",
       "version_major": 2,
       "version_minor": 0
      },
      "text/plain": [
       "  0%|          | 0/114 [00:00<?, ?it/s]"
      ]
     },
     "metadata": {},
     "output_type": "display_data"
    },
    {
     "name": "stdout",
     "output_type": "stream",
     "text": [
      "Train losses: tensor(1.2492e-05, grad_fn=<DivBackward0>)\n"
     ]
    },
    {
     "data": {
      "application/vnd.jupyter.widget-view+json": {
       "model_id": "de2f4f971d8045ec866cb865eea5edd9",
       "version_major": 2,
       "version_minor": 0
      },
      "text/plain": [
       "  0%|          | 0/114 [00:00<?, ?it/s]"
      ]
     },
     "metadata": {},
     "output_type": "display_data"
    },
    {
     "name": "stdout",
     "output_type": "stream",
     "text": [
      "Train losses: tensor(1.2269e-05, grad_fn=<DivBackward0>)\n"
     ]
    },
    {
     "data": {
      "application/vnd.jupyter.widget-view+json": {
       "model_id": "c0e07193aab7470ab477673602029250",
       "version_major": 2,
       "version_minor": 0
      },
      "text/plain": [
       "  0%|          | 0/114 [00:00<?, ?it/s]"
      ]
     },
     "metadata": {},
     "output_type": "display_data"
    },
    {
     "name": "stdout",
     "output_type": "stream",
     "text": [
      "Train losses: tensor(1.2080e-05, grad_fn=<DivBackward0>)\n",
      "Retrain on past test\n"
     ]
    },
    {
     "data": {
      "application/vnd.jupyter.widget-view+json": {
       "model_id": "6964e51553624ba090730357c2239ac9",
       "version_major": 2,
       "version_minor": 0
      },
      "text/plain": [
       "  0%|          | 0/117 [00:00<?, ?it/s]"
      ]
     },
     "metadata": {},
     "output_type": "display_data"
    },
    {
     "name": "stdout",
     "output_type": "stream",
     "text": [
      "Train losses: tensor(1.1720e-05, grad_fn=<DivBackward0>)\n"
     ]
    },
    {
     "data": {
      "application/vnd.jupyter.widget-view+json": {
       "model_id": "1bcb9f89334a497b8293912b5b8540da",
       "version_major": 2,
       "version_minor": 0
      },
      "text/plain": [
       "  0%|          | 0/117 [00:00<?, ?it/s]"
      ]
     },
     "metadata": {},
     "output_type": "display_data"
    },
    {
     "name": "stdout",
     "output_type": "stream",
     "text": [
      "Train losses: tensor(1.1523e-05, grad_fn=<DivBackward0>)\n"
     ]
    },
    {
     "data": {
      "application/vnd.jupyter.widget-view+json": {
       "model_id": "3f5b89e39b4a4829bae75b3033ed5623",
       "version_major": 2,
       "version_minor": 0
      },
      "text/plain": [
       "  0%|          | 0/117 [00:00<?, ?it/s]"
      ]
     },
     "metadata": {},
     "output_type": "display_data"
    },
    {
     "name": "stdout",
     "output_type": "stream",
     "text": [
      "Train losses: tensor(1.1344e-05, grad_fn=<DivBackward0>)\n",
      "Retrain on past test\n"
     ]
    },
    {
     "data": {
      "application/vnd.jupyter.widget-view+json": {
       "model_id": "4c5a2309fc0c46e19c8c5abec4a67978",
       "version_major": 2,
       "version_minor": 0
      },
      "text/plain": [
       "  0%|          | 0/120 [00:00<?, ?it/s]"
      ]
     },
     "metadata": {},
     "output_type": "display_data"
    },
    {
     "name": "stdout",
     "output_type": "stream",
     "text": [
      "Train losses: tensor(1.0778e-05, grad_fn=<DivBackward0>)\n"
     ]
    },
    {
     "data": {
      "application/vnd.jupyter.widget-view+json": {
       "model_id": "ee4f1e056fee4ba4898b961448ad8195",
       "version_major": 2,
       "version_minor": 0
      },
      "text/plain": [
       "  0%|          | 0/120 [00:00<?, ?it/s]"
      ]
     },
     "metadata": {},
     "output_type": "display_data"
    },
    {
     "name": "stdout",
     "output_type": "stream",
     "text": [
      "Train losses: tensor(1.0617e-05, grad_fn=<DivBackward0>)\n"
     ]
    },
    {
     "data": {
      "application/vnd.jupyter.widget-view+json": {
       "model_id": "db1ea5e069454f09bea4e80982510028",
       "version_major": 2,
       "version_minor": 0
      },
      "text/plain": [
       "  0%|          | 0/120 [00:00<?, ?it/s]"
      ]
     },
     "metadata": {},
     "output_type": "display_data"
    },
    {
     "name": "stdout",
     "output_type": "stream",
     "text": [
      "Train losses: tensor(1.0471e-05, grad_fn=<DivBackward0>)\n",
      "Retrain on past test\n"
     ]
    },
    {
     "data": {
      "application/vnd.jupyter.widget-view+json": {
       "model_id": "f740d17fc17f415194fdb4dfa71db13e",
       "version_major": 2,
       "version_minor": 0
      },
      "text/plain": [
       "  0%|          | 0/123 [00:00<?, ?it/s]"
      ]
     },
     "metadata": {},
     "output_type": "display_data"
    },
    {
     "name": "stdout",
     "output_type": "stream",
     "text": [
      "Train losses: tensor(1.2202e-05, grad_fn=<DivBackward0>)\n"
     ]
    },
    {
     "data": {
      "application/vnd.jupyter.widget-view+json": {
       "model_id": "7169d3ea7af947a4aabddf98455ebcad",
       "version_major": 2,
       "version_minor": 0
      },
      "text/plain": [
       "  0%|          | 0/123 [00:00<?, ?it/s]"
      ]
     },
     "metadata": {},
     "output_type": "display_data"
    },
    {
     "name": "stdout",
     "output_type": "stream",
     "text": [
      "Train losses: tensor(1.2045e-05, grad_fn=<DivBackward0>)\n"
     ]
    },
    {
     "data": {
      "application/vnd.jupyter.widget-view+json": {
       "model_id": "6ec50e4a73ea4fb5b1cdf589d76cc642",
       "version_major": 2,
       "version_minor": 0
      },
      "text/plain": [
       "  0%|          | 0/123 [00:00<?, ?it/s]"
      ]
     },
     "metadata": {},
     "output_type": "display_data"
    },
    {
     "name": "stdout",
     "output_type": "stream",
     "text": [
      "Train losses: tensor(1.1901e-05, grad_fn=<DivBackward0>)\n",
      "Retrain on past test\n"
     ]
    },
    {
     "data": {
      "application/vnd.jupyter.widget-view+json": {
       "model_id": "da92f15163d048ab879ca549dd4e3657",
       "version_major": 2,
       "version_minor": 0
      },
      "text/plain": [
       "  0%|          | 0/126 [00:00<?, ?it/s]"
      ]
     },
     "metadata": {},
     "output_type": "display_data"
    },
    {
     "name": "stdout",
     "output_type": "stream",
     "text": [
      "Train losses: tensor(1.4352e-05, grad_fn=<DivBackward0>)\n"
     ]
    },
    {
     "data": {
      "application/vnd.jupyter.widget-view+json": {
       "model_id": "195261fb0d834e16949cc19201a34637",
       "version_major": 2,
       "version_minor": 0
      },
      "text/plain": [
       "  0%|          | 0/126 [00:00<?, ?it/s]"
      ]
     },
     "metadata": {},
     "output_type": "display_data"
    },
    {
     "name": "stdout",
     "output_type": "stream",
     "text": [
      "Train losses: tensor(1.4215e-05, grad_fn=<DivBackward0>)\n"
     ]
    },
    {
     "data": {
      "application/vnd.jupyter.widget-view+json": {
       "model_id": "09c20b811bb94cadb3c611aa01be7a9d",
       "version_major": 2,
       "version_minor": 0
      },
      "text/plain": [
       "  0%|          | 0/126 [00:00<?, ?it/s]"
      ]
     },
     "metadata": {},
     "output_type": "display_data"
    },
    {
     "name": "stdout",
     "output_type": "stream",
     "text": [
      "Train losses: tensor(1.4089e-05, grad_fn=<DivBackward0>)\n",
      "Retrain on past test\n"
     ]
    },
    {
     "data": {
      "application/vnd.jupyter.widget-view+json": {
       "model_id": "ab590ff9719c410b8169f108af1fd798",
       "version_major": 2,
       "version_minor": 0
      },
      "text/plain": [
       "  0%|          | 0/129 [00:00<?, ?it/s]"
      ]
     },
     "metadata": {},
     "output_type": "display_data"
    },
    {
     "name": "stdout",
     "output_type": "stream",
     "text": [
      "Train losses: tensor(1.1608e-05, grad_fn=<DivBackward0>)\n"
     ]
    },
    {
     "data": {
      "application/vnd.jupyter.widget-view+json": {
       "model_id": "f47698be2acf4d909f938adad36754de",
       "version_major": 2,
       "version_minor": 0
      },
      "text/plain": [
       "  0%|          | 0/129 [00:00<?, ?it/s]"
      ]
     },
     "metadata": {},
     "output_type": "display_data"
    },
    {
     "name": "stdout",
     "output_type": "stream",
     "text": [
      "Train losses: tensor(1.1472e-05, grad_fn=<DivBackward0>)\n"
     ]
    },
    {
     "data": {
      "application/vnd.jupyter.widget-view+json": {
       "model_id": "f5a7ec73c5b147e7838dc43f77dac0b7",
       "version_major": 2,
       "version_minor": 0
      },
      "text/plain": [
       "  0%|          | 0/129 [00:00<?, ?it/s]"
      ]
     },
     "metadata": {},
     "output_type": "display_data"
    },
    {
     "name": "stdout",
     "output_type": "stream",
     "text": [
      "Train losses: tensor(1.1364e-05, grad_fn=<DivBackward0>)\n",
      "Retrain on past test\n"
     ]
    },
    {
     "data": {
      "application/vnd.jupyter.widget-view+json": {
       "model_id": "6e831bc51d404a9880e378160d1d708d",
       "version_major": 2,
       "version_minor": 0
      },
      "text/plain": [
       "  0%|          | 0/132 [00:00<?, ?it/s]"
      ]
     },
     "metadata": {},
     "output_type": "display_data"
    },
    {
     "name": "stdout",
     "output_type": "stream",
     "text": [
      "Train losses: tensor(1.3640e-05, grad_fn=<DivBackward0>)\n"
     ]
    },
    {
     "data": {
      "application/vnd.jupyter.widget-view+json": {
       "model_id": "a5ecef01c52647f79850f87919d7f7d7",
       "version_major": 2,
       "version_minor": 0
      },
      "text/plain": [
       "  0%|          | 0/132 [00:00<?, ?it/s]"
      ]
     },
     "metadata": {},
     "output_type": "display_data"
    },
    {
     "name": "stdout",
     "output_type": "stream",
     "text": [
      "Train losses: tensor(1.3515e-05, grad_fn=<DivBackward0>)\n"
     ]
    },
    {
     "data": {
      "application/vnd.jupyter.widget-view+json": {
       "model_id": "e89c1496566b4920a9c71da803ce2f82",
       "version_major": 2,
       "version_minor": 0
      },
      "text/plain": [
       "  0%|          | 0/132 [00:00<?, ?it/s]"
      ]
     },
     "metadata": {},
     "output_type": "display_data"
    },
    {
     "name": "stdout",
     "output_type": "stream",
     "text": [
      "Train losses: tensor(1.3400e-05, grad_fn=<DivBackward0>)\n",
      "Retrain on past test\n"
     ]
    },
    {
     "data": {
      "application/vnd.jupyter.widget-view+json": {
       "model_id": "1d8b22c10c894a31a4f240aabfe4f951",
       "version_major": 2,
       "version_minor": 0
      },
      "text/plain": [
       "  0%|          | 0/135 [00:00<?, ?it/s]"
      ]
     },
     "metadata": {},
     "output_type": "display_data"
    },
    {
     "name": "stdout",
     "output_type": "stream",
     "text": [
      "Train losses: tensor(9.4914e-06, grad_fn=<DivBackward0>)\n"
     ]
    },
    {
     "data": {
      "application/vnd.jupyter.widget-view+json": {
       "model_id": "cd0f621cc8ba4e8987c1a7369f0fa19a",
       "version_major": 2,
       "version_minor": 0
      },
      "text/plain": [
       "  0%|          | 0/135 [00:00<?, ?it/s]"
      ]
     },
     "metadata": {},
     "output_type": "display_data"
    },
    {
     "name": "stdout",
     "output_type": "stream",
     "text": [
      "Train losses: tensor(9.3779e-06, grad_fn=<DivBackward0>)\n"
     ]
    },
    {
     "data": {
      "application/vnd.jupyter.widget-view+json": {
       "model_id": "4ba4ffe04de54a5ea14a1e517b9929e2",
       "version_major": 2,
       "version_minor": 0
      },
      "text/plain": [
       "  0%|          | 0/135 [00:00<?, ?it/s]"
      ]
     },
     "metadata": {},
     "output_type": "display_data"
    },
    {
     "name": "stdout",
     "output_type": "stream",
     "text": [
      "Train losses: tensor(9.2722e-06, grad_fn=<DivBackward0>)\n",
      "Retrain on past test\n"
     ]
    },
    {
     "data": {
      "application/vnd.jupyter.widget-view+json": {
       "model_id": "8fabe40bc90a46e48abc5358c0e092e5",
       "version_major": 2,
       "version_minor": 0
      },
      "text/plain": [
       "  0%|          | 0/138 [00:00<?, ?it/s]"
      ]
     },
     "metadata": {},
     "output_type": "display_data"
    },
    {
     "name": "stdout",
     "output_type": "stream",
     "text": [
      "Train losses: tensor(1.1346e-05, grad_fn=<DivBackward0>)\n"
     ]
    },
    {
     "data": {
      "application/vnd.jupyter.widget-view+json": {
       "model_id": "768df887f79c44c4af0ea97ecf1c99bc",
       "version_major": 2,
       "version_minor": 0
      },
      "text/plain": [
       "  0%|          | 0/138 [00:00<?, ?it/s]"
      ]
     },
     "metadata": {},
     "output_type": "display_data"
    },
    {
     "name": "stdout",
     "output_type": "stream",
     "text": [
      "Train losses: tensor(1.1250e-05, grad_fn=<DivBackward0>)\n"
     ]
    },
    {
     "data": {
      "application/vnd.jupyter.widget-view+json": {
       "model_id": "66629c48f8064d2a9621bd440eeaaca4",
       "version_major": 2,
       "version_minor": 0
      },
      "text/plain": [
       "  0%|          | 0/138 [00:00<?, ?it/s]"
      ]
     },
     "metadata": {},
     "output_type": "display_data"
    },
    {
     "name": "stdout",
     "output_type": "stream",
     "text": [
      "Train losses: tensor(1.1161e-05, grad_fn=<DivBackward0>)\n",
      "Retrain on past test\n"
     ]
    },
    {
     "data": {
      "application/vnd.jupyter.widget-view+json": {
       "model_id": "0f2cc5adef9b416ca86e3121db89bfe1",
       "version_major": 2,
       "version_minor": 0
      },
      "text/plain": [
       "  0%|          | 0/141 [00:00<?, ?it/s]"
      ]
     },
     "metadata": {},
     "output_type": "display_data"
    },
    {
     "name": "stdout",
     "output_type": "stream",
     "text": [
      "Train losses: tensor(9.5966e-06, grad_fn=<DivBackward0>)\n"
     ]
    },
    {
     "data": {
      "application/vnd.jupyter.widget-view+json": {
       "model_id": "93c76a78b117474dace3474c7b91c3da",
       "version_major": 2,
       "version_minor": 0
      },
      "text/plain": [
       "  0%|          | 0/141 [00:00<?, ?it/s]"
      ]
     },
     "metadata": {},
     "output_type": "display_data"
    },
    {
     "name": "stdout",
     "output_type": "stream",
     "text": [
      "Train losses: tensor(9.5214e-06, grad_fn=<DivBackward0>)\n"
     ]
    },
    {
     "data": {
      "application/vnd.jupyter.widget-view+json": {
       "model_id": "4033020cfb8746f2b47450b92c42f40c",
       "version_major": 2,
       "version_minor": 0
      },
      "text/plain": [
       "  0%|          | 0/141 [00:00<?, ?it/s]"
      ]
     },
     "metadata": {},
     "output_type": "display_data"
    },
    {
     "name": "stdout",
     "output_type": "stream",
     "text": [
      "Train losses: tensor(9.4508e-06, grad_fn=<DivBackward0>)\n",
      "Retrain on past test\n"
     ]
    },
    {
     "data": {
      "application/vnd.jupyter.widget-view+json": {
       "model_id": "1c2675ac29674aa2bd21cc85f4387139",
       "version_major": 2,
       "version_minor": 0
      },
      "text/plain": [
       "  0%|          | 0/144 [00:00<?, ?it/s]"
      ]
     },
     "metadata": {},
     "output_type": "display_data"
    },
    {
     "name": "stdout",
     "output_type": "stream",
     "text": [
      "Train losses: tensor(1.0567e-05, grad_fn=<DivBackward0>)\n"
     ]
    },
    {
     "data": {
      "application/vnd.jupyter.widget-view+json": {
       "model_id": "f9138558f95d49e9afbd6d2dae1e4494",
       "version_major": 2,
       "version_minor": 0
      },
      "text/plain": [
       "  0%|          | 0/144 [00:00<?, ?it/s]"
      ]
     },
     "metadata": {},
     "output_type": "display_data"
    },
    {
     "name": "stdout",
     "output_type": "stream",
     "text": [
      "Train losses: tensor(1.0490e-05, grad_fn=<DivBackward0>)\n"
     ]
    },
    {
     "data": {
      "application/vnd.jupyter.widget-view+json": {
       "model_id": "85cc9e5b62304462a9b2b0d9b75ecd0b",
       "version_major": 2,
       "version_minor": 0
      },
      "text/plain": [
       "  0%|          | 0/144 [00:00<?, ?it/s]"
      ]
     },
     "metadata": {},
     "output_type": "display_data"
    },
    {
     "name": "stdout",
     "output_type": "stream",
     "text": [
      "Train losses: tensor(1.0425e-05, grad_fn=<DivBackward0>)\n",
      "Retrain on past test\n"
     ]
    },
    {
     "data": {
      "application/vnd.jupyter.widget-view+json": {
       "model_id": "51506ad8ea9a4a8786786b44d3e2ef42",
       "version_major": 2,
       "version_minor": 0
      },
      "text/plain": [
       "  0%|          | 0/147 [00:00<?, ?it/s]"
      ]
     },
     "metadata": {},
     "output_type": "display_data"
    },
    {
     "name": "stdout",
     "output_type": "stream",
     "text": [
      "Train losses: tensor(1.4806e-05, grad_fn=<DivBackward0>)\n"
     ]
    },
    {
     "data": {
      "application/vnd.jupyter.widget-view+json": {
       "model_id": "543104fbb0c9480fa21c71e8ea6d0000",
       "version_major": 2,
       "version_minor": 0
      },
      "text/plain": [
       "  0%|          | 0/147 [00:00<?, ?it/s]"
      ]
     },
     "metadata": {},
     "output_type": "display_data"
    },
    {
     "name": "stdout",
     "output_type": "stream",
     "text": [
      "Train losses: tensor(1.4755e-05, grad_fn=<DivBackward0>)\n"
     ]
    },
    {
     "data": {
      "application/vnd.jupyter.widget-view+json": {
       "model_id": "f971e04f9bd244ddb8096789558006cd",
       "version_major": 2,
       "version_minor": 0
      },
      "text/plain": [
       "  0%|          | 0/147 [00:00<?, ?it/s]"
      ]
     },
     "metadata": {},
     "output_type": "display_data"
    },
    {
     "name": "stdout",
     "output_type": "stream",
     "text": [
      "Train losses: tensor(1.4706e-05, grad_fn=<DivBackward0>)\n",
      "Retrain on past test\n"
     ]
    },
    {
     "data": {
      "application/vnd.jupyter.widget-view+json": {
       "model_id": "8127c606d5d54a77833e130dda1773de",
       "version_major": 2,
       "version_minor": 0
      },
      "text/plain": [
       "  0%|          | 0/150 [00:00<?, ?it/s]"
      ]
     },
     "metadata": {},
     "output_type": "display_data"
    },
    {
     "name": "stdout",
     "output_type": "stream",
     "text": [
      "Train losses: tensor(9.4454e-06, grad_fn=<DivBackward0>)\n"
     ]
    },
    {
     "data": {
      "application/vnd.jupyter.widget-view+json": {
       "model_id": "c08c63a2b7a34c30b56cb3558139f6ce",
       "version_major": 2,
       "version_minor": 0
      },
      "text/plain": [
       "  0%|          | 0/150 [00:00<?, ?it/s]"
      ]
     },
     "metadata": {},
     "output_type": "display_data"
    },
    {
     "name": "stdout",
     "output_type": "stream",
     "text": [
      "Train losses: tensor(9.3962e-06, grad_fn=<DivBackward0>)\n"
     ]
    },
    {
     "data": {
      "application/vnd.jupyter.widget-view+json": {
       "model_id": "c24577068dfd452f98d71379bff72a29",
       "version_major": 2,
       "version_minor": 0
      },
      "text/plain": [
       "  0%|          | 0/150 [00:00<?, ?it/s]"
      ]
     },
     "metadata": {},
     "output_type": "display_data"
    },
    {
     "name": "stdout",
     "output_type": "stream",
     "text": [
      "Train losses: tensor(9.3581e-06, grad_fn=<DivBackward0>)\n",
      "Retrain on past test\n"
     ]
    },
    {
     "data": {
      "application/vnd.jupyter.widget-view+json": {
       "model_id": "811136ebd4744e07a916d7e0aaed63f5",
       "version_major": 2,
       "version_minor": 0
      },
      "text/plain": [
       "  0%|          | 0/153 [00:00<?, ?it/s]"
      ]
     },
     "metadata": {},
     "output_type": "display_data"
    },
    {
     "name": "stdout",
     "output_type": "stream",
     "text": [
      "Train losses: tensor(1.2616e-05, grad_fn=<DivBackward0>)\n"
     ]
    },
    {
     "data": {
      "application/vnd.jupyter.widget-view+json": {
       "model_id": "6c727c5fc55f4833be1018a14a750664",
       "version_major": 2,
       "version_minor": 0
      },
      "text/plain": [
       "  0%|          | 0/153 [00:00<?, ?it/s]"
      ]
     },
     "metadata": {},
     "output_type": "display_data"
    },
    {
     "name": "stdout",
     "output_type": "stream",
     "text": [
      "Train losses: tensor(1.2577e-05, grad_fn=<DivBackward0>)\n"
     ]
    },
    {
     "data": {
      "application/vnd.jupyter.widget-view+json": {
       "model_id": "ca73de8c45134aafb07209f5c60a7bcf",
       "version_major": 2,
       "version_minor": 0
      },
      "text/plain": [
       "  0%|          | 0/153 [00:00<?, ?it/s]"
      ]
     },
     "metadata": {},
     "output_type": "display_data"
    },
    {
     "name": "stdout",
     "output_type": "stream",
     "text": [
      "Train losses: tensor(1.2539e-05, grad_fn=<DivBackward0>)\n",
      "Retrain on past test\n"
     ]
    },
    {
     "data": {
      "application/vnd.jupyter.widget-view+json": {
       "model_id": "ca45a39fd95945d2a77d94b26cc2c90a",
       "version_major": 2,
       "version_minor": 0
      },
      "text/plain": [
       "  0%|          | 0/156 [00:00<?, ?it/s]"
      ]
     },
     "metadata": {},
     "output_type": "display_data"
    },
    {
     "name": "stdout",
     "output_type": "stream",
     "text": [
      "Train losses: tensor(1.1039e-05, grad_fn=<DivBackward0>)\n"
     ]
    },
    {
     "data": {
      "application/vnd.jupyter.widget-view+json": {
       "model_id": "6fee062022e1489aacd582f3846c6151",
       "version_major": 2,
       "version_minor": 0
      },
      "text/plain": [
       "  0%|          | 0/156 [00:00<?, ?it/s]"
      ]
     },
     "metadata": {},
     "output_type": "display_data"
    },
    {
     "name": "stdout",
     "output_type": "stream",
     "text": [
      "Train losses: tensor(1.1006e-05, grad_fn=<DivBackward0>)\n"
     ]
    },
    {
     "data": {
      "application/vnd.jupyter.widget-view+json": {
       "model_id": "2c3e1a765215487c896a79883434a89d",
       "version_major": 2,
       "version_minor": 0
      },
      "text/plain": [
       "  0%|          | 0/156 [00:00<?, ?it/s]"
      ]
     },
     "metadata": {},
     "output_type": "display_data"
    },
    {
     "name": "stdout",
     "output_type": "stream",
     "text": [
      "Train losses: tensor(1.0974e-05, grad_fn=<DivBackward0>)\n",
      "Retrain on past test\n"
     ]
    },
    {
     "data": {
      "application/vnd.jupyter.widget-view+json": {
       "model_id": "41a97d6074ca4a638b4ba2f1431dd739",
       "version_major": 2,
       "version_minor": 0
      },
      "text/plain": [
       "  0%|          | 0/159 [00:00<?, ?it/s]"
      ]
     },
     "metadata": {},
     "output_type": "display_data"
    },
    {
     "name": "stdout",
     "output_type": "stream",
     "text": [
      "Train losses: tensor(1.5389e-05, grad_fn=<DivBackward0>)\n"
     ]
    },
    {
     "data": {
      "application/vnd.jupyter.widget-view+json": {
       "model_id": "4ce4ab55229b441783448a2b3499f45d",
       "version_major": 2,
       "version_minor": 0
      },
      "text/plain": [
       "  0%|          | 0/159 [00:00<?, ?it/s]"
      ]
     },
     "metadata": {},
     "output_type": "display_data"
    },
    {
     "name": "stdout",
     "output_type": "stream",
     "text": [
      "Train losses: tensor(1.5361e-05, grad_fn=<DivBackward0>)\n"
     ]
    },
    {
     "data": {
      "application/vnd.jupyter.widget-view+json": {
       "model_id": "4576c547a6b0465785cf79d053a6cec4",
       "version_major": 2,
       "version_minor": 0
      },
      "text/plain": [
       "  0%|          | 0/159 [00:00<?, ?it/s]"
      ]
     },
     "metadata": {},
     "output_type": "display_data"
    },
    {
     "name": "stdout",
     "output_type": "stream",
     "text": [
      "Train losses: tensor(1.5335e-05, grad_fn=<DivBackward0>)\n",
      "Retrain on past test\n"
     ]
    },
    {
     "data": {
      "application/vnd.jupyter.widget-view+json": {
       "model_id": "339b446817b34788bb83c32d658d1132",
       "version_major": 2,
       "version_minor": 0
      },
      "text/plain": [
       "  0%|          | 0/162 [00:00<?, ?it/s]"
      ]
     },
     "metadata": {},
     "output_type": "display_data"
    },
    {
     "name": "stdout",
     "output_type": "stream",
     "text": [
      "Train losses: tensor(1.6094e-05, grad_fn=<DivBackward0>)\n"
     ]
    },
    {
     "data": {
      "application/vnd.jupyter.widget-view+json": {
       "model_id": "da9c3f174e6147f5893d40a05f63c5a1",
       "version_major": 2,
       "version_minor": 0
      },
      "text/plain": [
       "  0%|          | 0/162 [00:00<?, ?it/s]"
      ]
     },
     "metadata": {},
     "output_type": "display_data"
    },
    {
     "name": "stdout",
     "output_type": "stream",
     "text": [
      "Train losses: tensor(1.6072e-05, grad_fn=<DivBackward0>)\n"
     ]
    },
    {
     "data": {
      "application/vnd.jupyter.widget-view+json": {
       "model_id": "7cd61d604fde42d7a53ef438321e1a67",
       "version_major": 2,
       "version_minor": 0
      },
      "text/plain": [
       "  0%|          | 0/162 [00:00<?, ?it/s]"
      ]
     },
     "metadata": {},
     "output_type": "display_data"
    },
    {
     "name": "stdout",
     "output_type": "stream",
     "text": [
      "Train losses: tensor(1.6050e-05, grad_fn=<DivBackward0>)\n",
      "Retrain on past test\n"
     ]
    },
    {
     "data": {
      "application/vnd.jupyter.widget-view+json": {
       "model_id": "2375352ab16f4b5c9fa1408d80ffa6cd",
       "version_major": 2,
       "version_minor": 0
      },
      "text/plain": [
       "  0%|          | 0/165 [00:00<?, ?it/s]"
      ]
     },
     "metadata": {},
     "output_type": "display_data"
    },
    {
     "name": "stdout",
     "output_type": "stream",
     "text": [
      "Train losses: tensor(1.6661e-05, grad_fn=<DivBackward0>)\n"
     ]
    },
    {
     "data": {
      "application/vnd.jupyter.widget-view+json": {
       "model_id": "5b07cbf3374240fabd4602abeabaa5be",
       "version_major": 2,
       "version_minor": 0
      },
      "text/plain": [
       "  0%|          | 0/165 [00:00<?, ?it/s]"
      ]
     },
     "metadata": {},
     "output_type": "display_data"
    },
    {
     "name": "stdout",
     "output_type": "stream",
     "text": [
      "Train losses: tensor(1.6641e-05, grad_fn=<DivBackward0>)\n"
     ]
    },
    {
     "data": {
      "application/vnd.jupyter.widget-view+json": {
       "model_id": "e7624744a6164838bf32e6dd838b0c64",
       "version_major": 2,
       "version_minor": 0
      },
      "text/plain": [
       "  0%|          | 0/165 [00:00<?, ?it/s]"
      ]
     },
     "metadata": {},
     "output_type": "display_data"
    },
    {
     "name": "stdout",
     "output_type": "stream",
     "text": [
      "Train losses: tensor(1.6622e-05, grad_fn=<DivBackward0>)\n",
      "Retrain on past test\n"
     ]
    },
    {
     "data": {
      "application/vnd.jupyter.widget-view+json": {
       "model_id": "913d40126b864194b6783d24f1fe2cb1",
       "version_major": 2,
       "version_minor": 0
      },
      "text/plain": [
       "  0%|          | 0/168 [00:00<?, ?it/s]"
      ]
     },
     "metadata": {},
     "output_type": "display_data"
    },
    {
     "name": "stdout",
     "output_type": "stream",
     "text": [
      "Train losses: tensor(1.8521e-05, grad_fn=<DivBackward0>)\n"
     ]
    },
    {
     "data": {
      "application/vnd.jupyter.widget-view+json": {
       "model_id": "2e0b36fe84c64d92b1c696001367beb1",
       "version_major": 2,
       "version_minor": 0
      },
      "text/plain": [
       "  0%|          | 0/168 [00:00<?, ?it/s]"
      ]
     },
     "metadata": {},
     "output_type": "display_data"
    },
    {
     "name": "stdout",
     "output_type": "stream",
     "text": [
      "Train losses: tensor(1.8504e-05, grad_fn=<DivBackward0>)\n"
     ]
    },
    {
     "data": {
      "application/vnd.jupyter.widget-view+json": {
       "model_id": "65e06eb31d214171985a1cf8d19eb0a9",
       "version_major": 2,
       "version_minor": 0
      },
      "text/plain": [
       "  0%|          | 0/168 [00:00<?, ?it/s]"
      ]
     },
     "metadata": {},
     "output_type": "display_data"
    },
    {
     "name": "stdout",
     "output_type": "stream",
     "text": [
      "Train losses: tensor(1.8487e-05, grad_fn=<DivBackward0>)\n",
      "Retrain on past test\n"
     ]
    },
    {
     "data": {
      "application/vnd.jupyter.widget-view+json": {
       "model_id": "2a16a2c611d74933b579518229569124",
       "version_major": 2,
       "version_minor": 0
      },
      "text/plain": [
       "  0%|          | 0/171 [00:00<?, ?it/s]"
      ]
     },
     "metadata": {},
     "output_type": "display_data"
    },
    {
     "name": "stdout",
     "output_type": "stream",
     "text": [
      "Train losses: tensor(1.7813e-05, grad_fn=<DivBackward0>)\n"
     ]
    },
    {
     "data": {
      "application/vnd.jupyter.widget-view+json": {
       "model_id": "de1087a40f294899b2cd1be6aaf7f3a2",
       "version_major": 2,
       "version_minor": 0
      },
      "text/plain": [
       "  0%|          | 0/171 [00:00<?, ?it/s]"
      ]
     },
     "metadata": {},
     "output_type": "display_data"
    },
    {
     "name": "stdout",
     "output_type": "stream",
     "text": [
      "Train losses: tensor(1.7799e-05, grad_fn=<DivBackward0>)\n"
     ]
    },
    {
     "data": {
      "application/vnd.jupyter.widget-view+json": {
       "model_id": "d7f49b9fbec3478a9c82c3030bcbdd67",
       "version_major": 2,
       "version_minor": 0
      },
      "text/plain": [
       "  0%|          | 0/171 [00:00<?, ?it/s]"
      ]
     },
     "metadata": {},
     "output_type": "display_data"
    },
    {
     "name": "stdout",
     "output_type": "stream",
     "text": [
      "Train losses: tensor(1.7785e-05, grad_fn=<DivBackward0>)\n",
      "Retrain on past test\n"
     ]
    },
    {
     "data": {
      "application/vnd.jupyter.widget-view+json": {
       "model_id": "f6940fc359ae4604a08ba1a145307209",
       "version_major": 2,
       "version_minor": 0
      },
      "text/plain": [
       "  0%|          | 0/174 [00:00<?, ?it/s]"
      ]
     },
     "metadata": {},
     "output_type": "display_data"
    },
    {
     "name": "stdout",
     "output_type": "stream",
     "text": [
      "Train losses: tensor(1.8832e-05, grad_fn=<DivBackward0>)\n"
     ]
    },
    {
     "data": {
      "application/vnd.jupyter.widget-view+json": {
       "model_id": "656a797bcfbb4683b97ef0756c1c6d15",
       "version_major": 2,
       "version_minor": 0
      },
      "text/plain": [
       "  0%|          | 0/174 [00:00<?, ?it/s]"
      ]
     },
     "metadata": {},
     "output_type": "display_data"
    },
    {
     "name": "stdout",
     "output_type": "stream",
     "text": [
      "Train losses: tensor(1.8818e-05, grad_fn=<DivBackward0>)\n"
     ]
    },
    {
     "data": {
      "application/vnd.jupyter.widget-view+json": {
       "model_id": "02a1b45d5dc848e7b959b530f477a85d",
       "version_major": 2,
       "version_minor": 0
      },
      "text/plain": [
       "  0%|          | 0/174 [00:00<?, ?it/s]"
      ]
     },
     "metadata": {},
     "output_type": "display_data"
    },
    {
     "name": "stdout",
     "output_type": "stream",
     "text": [
      "Train losses: tensor(1.8805e-05, grad_fn=<DivBackward0>)\n",
      "Retrain on past test\n"
     ]
    },
    {
     "data": {
      "application/vnd.jupyter.widget-view+json": {
       "model_id": "eae6f0c287744f698a73879ea9fb4bc7",
       "version_major": 2,
       "version_minor": 0
      },
      "text/plain": [
       "  0%|          | 0/177 [00:00<?, ?it/s]"
      ]
     },
     "metadata": {},
     "output_type": "display_data"
    },
    {
     "name": "stdout",
     "output_type": "stream",
     "text": [
      "Train losses: tensor(1.7471e-05, grad_fn=<DivBackward0>)\n"
     ]
    },
    {
     "data": {
      "application/vnd.jupyter.widget-view+json": {
       "model_id": "6e53995ea5734770bd9a8e7d29601e42",
       "version_major": 2,
       "version_minor": 0
      },
      "text/plain": [
       "  0%|          | 0/177 [00:00<?, ?it/s]"
      ]
     },
     "metadata": {},
     "output_type": "display_data"
    },
    {
     "name": "stdout",
     "output_type": "stream",
     "text": [
      "Train losses: tensor(1.7461e-05, grad_fn=<DivBackward0>)\n"
     ]
    },
    {
     "data": {
      "application/vnd.jupyter.widget-view+json": {
       "model_id": "db0e06db7253430f8f75dd1a4292a246",
       "version_major": 2,
       "version_minor": 0
      },
      "text/plain": [
       "  0%|          | 0/177 [00:00<?, ?it/s]"
      ]
     },
     "metadata": {},
     "output_type": "display_data"
    },
    {
     "name": "stdout",
     "output_type": "stream",
     "text": [
      "Train losses: tensor(1.7450e-05, grad_fn=<DivBackward0>)\n",
      "Retrain on past test\n"
     ]
    },
    {
     "data": {
      "application/vnd.jupyter.widget-view+json": {
       "model_id": "c9aabc63c22248eba3bce209b49c3c59",
       "version_major": 2,
       "version_minor": 0
      },
      "text/plain": [
       "  0%|          | 0/180 [00:00<?, ?it/s]"
      ]
     },
     "metadata": {},
     "output_type": "display_data"
    },
    {
     "name": "stdout",
     "output_type": "stream",
     "text": [
      "Train losses: tensor(1.9512e-05, grad_fn=<DivBackward0>)\n"
     ]
    },
    {
     "data": {
      "application/vnd.jupyter.widget-view+json": {
       "model_id": "755c9ab61c15466cb3d2ac2d4bcc1bff",
       "version_major": 2,
       "version_minor": 0
      },
      "text/plain": [
       "  0%|          | 0/180 [00:00<?, ?it/s]"
      ]
     },
     "metadata": {},
     "output_type": "display_data"
    },
    {
     "name": "stdout",
     "output_type": "stream",
     "text": [
      "Train losses: tensor(1.9501e-05, grad_fn=<DivBackward0>)\n"
     ]
    },
    {
     "data": {
      "application/vnd.jupyter.widget-view+json": {
       "model_id": "61cfc3d00f34433197386d206db878a0",
       "version_major": 2,
       "version_minor": 0
      },
      "text/plain": [
       "  0%|          | 0/180 [00:00<?, ?it/s]"
      ]
     },
     "metadata": {},
     "output_type": "display_data"
    },
    {
     "name": "stdout",
     "output_type": "stream",
     "text": [
      "Train losses: tensor(1.9493e-05, grad_fn=<DivBackward0>)\n",
      "Retrain on past test\n"
     ]
    },
    {
     "data": {
      "application/vnd.jupyter.widget-view+json": {
       "model_id": "3e61d06892d64952b9e0240bf23e2782",
       "version_major": 2,
       "version_minor": 0
      },
      "text/plain": [
       "  0%|          | 0/183 [00:00<?, ?it/s]"
      ]
     },
     "metadata": {},
     "output_type": "display_data"
    },
    {
     "name": "stdout",
     "output_type": "stream",
     "text": [
      "Train losses: tensor(1.8552e-05, grad_fn=<DivBackward0>)\n"
     ]
    },
    {
     "data": {
      "application/vnd.jupyter.widget-view+json": {
       "model_id": "e560d6cc000a44cbb6724af46e9ef28c",
       "version_major": 2,
       "version_minor": 0
      },
      "text/plain": [
       "  0%|          | 0/183 [00:00<?, ?it/s]"
      ]
     },
     "metadata": {},
     "output_type": "display_data"
    },
    {
     "name": "stdout",
     "output_type": "stream",
     "text": [
      "Train losses: tensor(1.8543e-05, grad_fn=<DivBackward0>)\n"
     ]
    },
    {
     "data": {
      "application/vnd.jupyter.widget-view+json": {
       "model_id": "898d34f7d10444e9922b0c790b505c1b",
       "version_major": 2,
       "version_minor": 0
      },
      "text/plain": [
       "  0%|          | 0/183 [00:00<?, ?it/s]"
      ]
     },
     "metadata": {},
     "output_type": "display_data"
    },
    {
     "name": "stdout",
     "output_type": "stream",
     "text": [
      "Train losses: tensor(1.8534e-05, grad_fn=<DivBackward0>)\n",
      "Retrain on past test\n"
     ]
    },
    {
     "data": {
      "application/vnd.jupyter.widget-view+json": {
       "model_id": "2cd916d0b712485890895f13462d4f46",
       "version_major": 2,
       "version_minor": 0
      },
      "text/plain": [
       "  0%|          | 0/186 [00:00<?, ?it/s]"
      ]
     },
     "metadata": {},
     "output_type": "display_data"
    },
    {
     "name": "stdout",
     "output_type": "stream",
     "text": [
      "Train losses: tensor(1.9746e-05, grad_fn=<DivBackward0>)\n"
     ]
    },
    {
     "data": {
      "application/vnd.jupyter.widget-view+json": {
       "model_id": "6a8df1fc4d8a4818a86e1c7ed5103ae4",
       "version_major": 2,
       "version_minor": 0
      },
      "text/plain": [
       "  0%|          | 0/186 [00:00<?, ?it/s]"
      ]
     },
     "metadata": {},
     "output_type": "display_data"
    },
    {
     "name": "stdout",
     "output_type": "stream",
     "text": [
      "Train losses: tensor(1.9737e-05, grad_fn=<DivBackward0>)\n"
     ]
    },
    {
     "data": {
      "application/vnd.jupyter.widget-view+json": {
       "model_id": "4e401879f25d427eb1ef4ee93b7aad6b",
       "version_major": 2,
       "version_minor": 0
      },
      "text/plain": [
       "  0%|          | 0/186 [00:00<?, ?it/s]"
      ]
     },
     "metadata": {},
     "output_type": "display_data"
    },
    {
     "name": "stdout",
     "output_type": "stream",
     "text": [
      "Train losses: tensor(1.9730e-05, grad_fn=<DivBackward0>)\n",
      "Retrain on past test\n"
     ]
    },
    {
     "data": {
      "application/vnd.jupyter.widget-view+json": {
       "model_id": "5474ae49150646f895db8d91f1396b97",
       "version_major": 2,
       "version_minor": 0
      },
      "text/plain": [
       "  0%|          | 0/189 [00:00<?, ?it/s]"
      ]
     },
     "metadata": {},
     "output_type": "display_data"
    },
    {
     "name": "stdout",
     "output_type": "stream",
     "text": [
      "Train losses: tensor(2.0220e-05, grad_fn=<DivBackward0>)\n"
     ]
    },
    {
     "data": {
      "application/vnd.jupyter.widget-view+json": {
       "model_id": "06b4f9b543e744369966a60932756adb",
       "version_major": 2,
       "version_minor": 0
      },
      "text/plain": [
       "  0%|          | 0/189 [00:00<?, ?it/s]"
      ]
     },
     "metadata": {},
     "output_type": "display_data"
    },
    {
     "name": "stdout",
     "output_type": "stream",
     "text": [
      "Train losses: tensor(2.0212e-05, grad_fn=<DivBackward0>)\n"
     ]
    },
    {
     "data": {
      "application/vnd.jupyter.widget-view+json": {
       "model_id": "42b2a7fbc6ff4ffebafd414f4b80fd93",
       "version_major": 2,
       "version_minor": 0
      },
      "text/plain": [
       "  0%|          | 0/189 [00:00<?, ?it/s]"
      ]
     },
     "metadata": {},
     "output_type": "display_data"
    },
    {
     "name": "stdout",
     "output_type": "stream",
     "text": [
      "Train losses: tensor(2.0205e-05, grad_fn=<DivBackward0>)\n",
      "Retrain on past test\n"
     ]
    },
    {
     "data": {
      "application/vnd.jupyter.widget-view+json": {
       "model_id": "43f8ea4d22d046a197397c19ae1a2b4a",
       "version_major": 2,
       "version_minor": 0
      },
      "text/plain": [
       "  0%|          | 0/192 [00:00<?, ?it/s]"
      ]
     },
     "metadata": {},
     "output_type": "display_data"
    },
    {
     "name": "stdout",
     "output_type": "stream",
     "text": [
      "Train losses: tensor(1.9225e-05, grad_fn=<DivBackward0>)\n"
     ]
    },
    {
     "data": {
      "application/vnd.jupyter.widget-view+json": {
       "model_id": "32495c88daad4b5795a41e2212862058",
       "version_major": 2,
       "version_minor": 0
      },
      "text/plain": [
       "  0%|          | 0/192 [00:00<?, ?it/s]"
      ]
     },
     "metadata": {},
     "output_type": "display_data"
    },
    {
     "name": "stdout",
     "output_type": "stream",
     "text": [
      "Train losses: tensor(1.9219e-05, grad_fn=<DivBackward0>)\n"
     ]
    },
    {
     "data": {
      "application/vnd.jupyter.widget-view+json": {
       "model_id": "e067b7c3afe24bc395bb4f5f5b6d905c",
       "version_major": 2,
       "version_minor": 0
      },
      "text/plain": [
       "  0%|          | 0/192 [00:00<?, ?it/s]"
      ]
     },
     "metadata": {},
     "output_type": "display_data"
    },
    {
     "name": "stdout",
     "output_type": "stream",
     "text": [
      "Train losses: tensor(1.9213e-05, grad_fn=<DivBackward0>)\n",
      "Retrain on past test\n"
     ]
    },
    {
     "data": {
      "application/vnd.jupyter.widget-view+json": {
       "model_id": "be8159f14c7a48bab1d5dab944706c63",
       "version_major": 2,
       "version_minor": 0
      },
      "text/plain": [
       "  0%|          | 0/195 [00:00<?, ?it/s]"
      ]
     },
     "metadata": {},
     "output_type": "display_data"
    },
    {
     "name": "stdout",
     "output_type": "stream",
     "text": [
      "Train losses: tensor(1.8930e-05, grad_fn=<DivBackward0>)\n"
     ]
    },
    {
     "data": {
      "application/vnd.jupyter.widget-view+json": {
       "model_id": "3ca0c3a99e7f4ee89e9007cdc66d51e6",
       "version_major": 2,
       "version_minor": 0
      },
      "text/plain": [
       "  0%|          | 0/195 [00:00<?, ?it/s]"
      ]
     },
     "metadata": {},
     "output_type": "display_data"
    },
    {
     "name": "stdout",
     "output_type": "stream",
     "text": [
      "Train losses: tensor(1.8923e-05, grad_fn=<DivBackward0>)\n"
     ]
    },
    {
     "data": {
      "application/vnd.jupyter.widget-view+json": {
       "model_id": "6dd727d6b9bf47b2b89671bbfdef56b8",
       "version_major": 2,
       "version_minor": 0
      },
      "text/plain": [
       "  0%|          | 0/195 [00:00<?, ?it/s]"
      ]
     },
     "metadata": {},
     "output_type": "display_data"
    },
    {
     "name": "stdout",
     "output_type": "stream",
     "text": [
      "Train losses: tensor(1.8917e-05, grad_fn=<DivBackward0>)\n",
      "Retrain on past test\n"
     ]
    },
    {
     "data": {
      "application/vnd.jupyter.widget-view+json": {
       "model_id": "c811e7ac62a1432ebbb741dd31a7d1e1",
       "version_major": 2,
       "version_minor": 0
      },
      "text/plain": [
       "  0%|          | 0/198 [00:00<?, ?it/s]"
      ]
     },
     "metadata": {},
     "output_type": "display_data"
    },
    {
     "name": "stdout",
     "output_type": "stream",
     "text": [
      "Train losses: tensor(1.8353e-05, grad_fn=<DivBackward0>)\n"
     ]
    },
    {
     "data": {
      "application/vnd.jupyter.widget-view+json": {
       "model_id": "c42cb2e743f947b2a8152eaaba1da354",
       "version_major": 2,
       "version_minor": 0
      },
      "text/plain": [
       "  0%|          | 0/198 [00:00<?, ?it/s]"
      ]
     },
     "metadata": {},
     "output_type": "display_data"
    },
    {
     "name": "stdout",
     "output_type": "stream",
     "text": [
      "Train losses: tensor(1.8347e-05, grad_fn=<DivBackward0>)\n"
     ]
    },
    {
     "data": {
      "application/vnd.jupyter.widget-view+json": {
       "model_id": "90e14e3ad0e8417ba5bd28afd06fcec5",
       "version_major": 2,
       "version_minor": 0
      },
      "text/plain": [
       "  0%|          | 0/198 [00:00<?, ?it/s]"
      ]
     },
     "metadata": {},
     "output_type": "display_data"
    },
    {
     "name": "stdout",
     "output_type": "stream",
     "text": [
      "Train losses: tensor(1.8342e-05, grad_fn=<DivBackward0>)\n",
      "Retrain on past test\n"
     ]
    },
    {
     "data": {
      "application/vnd.jupyter.widget-view+json": {
       "model_id": "c7dc5369c851471cb4e16d247eaacc05",
       "version_major": 2,
       "version_minor": 0
      },
      "text/plain": [
       "  0%|          | 0/201 [00:00<?, ?it/s]"
      ]
     },
     "metadata": {},
     "output_type": "display_data"
    },
    {
     "name": "stdout",
     "output_type": "stream",
     "text": [
      "Train losses: tensor(1.9150e-05, grad_fn=<DivBackward0>)\n"
     ]
    },
    {
     "data": {
      "application/vnd.jupyter.widget-view+json": {
       "model_id": "66d6e1dad904463dad6253f2641898fa",
       "version_major": 2,
       "version_minor": 0
      },
      "text/plain": [
       "  0%|          | 0/201 [00:00<?, ?it/s]"
      ]
     },
     "metadata": {},
     "output_type": "display_data"
    },
    {
     "name": "stdout",
     "output_type": "stream",
     "text": [
      "Train losses: tensor(1.9144e-05, grad_fn=<DivBackward0>)\n"
     ]
    },
    {
     "data": {
      "application/vnd.jupyter.widget-view+json": {
       "model_id": "af5bf7a636a84ff2afcff5697eb9f832",
       "version_major": 2,
       "version_minor": 0
      },
      "text/plain": [
       "  0%|          | 0/201 [00:00<?, ?it/s]"
      ]
     },
     "metadata": {},
     "output_type": "display_data"
    },
    {
     "name": "stdout",
     "output_type": "stream",
     "text": [
      "Train losses: tensor(1.9140e-05, grad_fn=<DivBackward0>)\n",
      "Retrain on past test\n"
     ]
    },
    {
     "data": {
      "application/vnd.jupyter.widget-view+json": {
       "model_id": "8d76f40b0bac4745a534147f5cd0ecdf",
       "version_major": 2,
       "version_minor": 0
      },
      "text/plain": [
       "  0%|          | 0/204 [00:00<?, ?it/s]"
      ]
     },
     "metadata": {},
     "output_type": "display_data"
    },
    {
     "name": "stdout",
     "output_type": "stream",
     "text": [
      "Train losses: tensor(1.8706e-05, grad_fn=<DivBackward0>)\n"
     ]
    },
    {
     "data": {
      "application/vnd.jupyter.widget-view+json": {
       "model_id": "38264cc28c774c52974c721704885dd4",
       "version_major": 2,
       "version_minor": 0
      },
      "text/plain": [
       "  0%|          | 0/204 [00:00<?, ?it/s]"
      ]
     },
     "metadata": {},
     "output_type": "display_data"
    },
    {
     "name": "stdout",
     "output_type": "stream",
     "text": [
      "Train losses: tensor(1.8701e-05, grad_fn=<DivBackward0>)\n"
     ]
    },
    {
     "data": {
      "application/vnd.jupyter.widget-view+json": {
       "model_id": "146f651eb4cf42b0b0ccf42f1bac06df",
       "version_major": 2,
       "version_minor": 0
      },
      "text/plain": [
       "  0%|          | 0/204 [00:00<?, ?it/s]"
      ]
     },
     "metadata": {},
     "output_type": "display_data"
    },
    {
     "name": "stdout",
     "output_type": "stream",
     "text": [
      "Train losses: tensor(1.8696e-05, grad_fn=<DivBackward0>)\n",
      "Retrain on past test\n"
     ]
    },
    {
     "data": {
      "application/vnd.jupyter.widget-view+json": {
       "model_id": "71bbb1e0588a4368a67b3ffffb5979a9",
       "version_major": 2,
       "version_minor": 0
      },
      "text/plain": [
       "  0%|          | 0/207 [00:00<?, ?it/s]"
      ]
     },
     "metadata": {},
     "output_type": "display_data"
    },
    {
     "name": "stdout",
     "output_type": "stream",
     "text": [
      "Train losses: tensor(1.8348e-05, grad_fn=<DivBackward0>)\n"
     ]
    },
    {
     "data": {
      "application/vnd.jupyter.widget-view+json": {
       "model_id": "5a9e51b8436248ffbc4d3e5c8d04dc2a",
       "version_major": 2,
       "version_minor": 0
      },
      "text/plain": [
       "  0%|          | 0/207 [00:00<?, ?it/s]"
      ]
     },
     "metadata": {},
     "output_type": "display_data"
    },
    {
     "name": "stdout",
     "output_type": "stream",
     "text": [
      "Train losses: tensor(1.8344e-05, grad_fn=<DivBackward0>)\n"
     ]
    },
    {
     "data": {
      "application/vnd.jupyter.widget-view+json": {
       "model_id": "ea3d7682321247e5bd3e8ac45856a249",
       "version_major": 2,
       "version_minor": 0
      },
      "text/plain": [
       "  0%|          | 0/207 [00:00<?, ?it/s]"
      ]
     },
     "metadata": {},
     "output_type": "display_data"
    },
    {
     "name": "stdout",
     "output_type": "stream",
     "text": [
      "Train losses: tensor(1.8339e-05, grad_fn=<DivBackward0>)\n",
      "Retrain on past test\n"
     ]
    },
    {
     "data": {
      "application/vnd.jupyter.widget-view+json": {
       "model_id": "3c3b7253d2b2498797b940b60a59bb4a",
       "version_major": 2,
       "version_minor": 0
      },
      "text/plain": [
       "  0%|          | 0/210 [00:00<?, ?it/s]"
      ]
     },
     "metadata": {},
     "output_type": "display_data"
    },
    {
     "name": "stdout",
     "output_type": "stream",
     "text": [
      "Train losses: tensor(1.8868e-05, grad_fn=<DivBackward0>)\n"
     ]
    },
    {
     "data": {
      "application/vnd.jupyter.widget-view+json": {
       "model_id": "5f6e0e4e1f6c488ca3379ed9ea1c1fc2",
       "version_major": 2,
       "version_minor": 0
      },
      "text/plain": [
       "  0%|          | 0/210 [00:00<?, ?it/s]"
      ]
     },
     "metadata": {},
     "output_type": "display_data"
    },
    {
     "name": "stdout",
     "output_type": "stream",
     "text": [
      "Train losses: tensor(1.8864e-05, grad_fn=<DivBackward0>)\n"
     ]
    },
    {
     "data": {
      "application/vnd.jupyter.widget-view+json": {
       "model_id": "c06d378ee6634672a6b78e046db00562",
       "version_major": 2,
       "version_minor": 0
      },
      "text/plain": [
       "  0%|          | 0/210 [00:00<?, ?it/s]"
      ]
     },
     "metadata": {},
     "output_type": "display_data"
    },
    {
     "name": "stdout",
     "output_type": "stream",
     "text": [
      "Train losses: tensor(1.8859e-05, grad_fn=<DivBackward0>)\n",
      "Retrain on past test\n"
     ]
    },
    {
     "data": {
      "application/vnd.jupyter.widget-view+json": {
       "model_id": "559cc32895fc4a85be337e0a44409dfe",
       "version_major": 2,
       "version_minor": 0
      },
      "text/plain": [
       "  0%|          | 0/213 [00:00<?, ?it/s]"
      ]
     },
     "metadata": {},
     "output_type": "display_data"
    },
    {
     "name": "stdout",
     "output_type": "stream",
     "text": [
      "Train losses: tensor(1.8177e-05, grad_fn=<DivBackward0>)\n"
     ]
    },
    {
     "data": {
      "application/vnd.jupyter.widget-view+json": {
       "model_id": "3c9d27124dff4556b5c2686ac2ead6b8",
       "version_major": 2,
       "version_minor": 0
      },
      "text/plain": [
       "  0%|          | 0/213 [00:00<?, ?it/s]"
      ]
     },
     "metadata": {},
     "output_type": "display_data"
    },
    {
     "name": "stdout",
     "output_type": "stream",
     "text": [
      "Train losses: tensor(1.8172e-05, grad_fn=<DivBackward0>)\n"
     ]
    },
    {
     "data": {
      "application/vnd.jupyter.widget-view+json": {
       "model_id": "7efa1bf10be04a3a8553d9fccf65b732",
       "version_major": 2,
       "version_minor": 0
      },
      "text/plain": [
       "  0%|          | 0/213 [00:00<?, ?it/s]"
      ]
     },
     "metadata": {},
     "output_type": "display_data"
    },
    {
     "name": "stdout",
     "output_type": "stream",
     "text": [
      "Train losses: tensor(1.8168e-05, grad_fn=<DivBackward0>)\n",
      "Retrain on past test\n"
     ]
    },
    {
     "data": {
      "application/vnd.jupyter.widget-view+json": {
       "model_id": "1c898a3d1c0740f6a3ed16498a424e29",
       "version_major": 2,
       "version_minor": 0
      },
      "text/plain": [
       "  0%|          | 0/216 [00:00<?, ?it/s]"
      ]
     },
     "metadata": {},
     "output_type": "display_data"
    },
    {
     "name": "stdout",
     "output_type": "stream",
     "text": [
      "Train losses: tensor(1.8251e-05, grad_fn=<DivBackward0>)\n"
     ]
    },
    {
     "data": {
      "application/vnd.jupyter.widget-view+json": {
       "model_id": "2757230281594e61b75f2777157f658c",
       "version_major": 2,
       "version_minor": 0
      },
      "text/plain": [
       "  0%|          | 0/216 [00:00<?, ?it/s]"
      ]
     },
     "metadata": {},
     "output_type": "display_data"
    },
    {
     "name": "stdout",
     "output_type": "stream",
     "text": [
      "Train losses: tensor(1.8247e-05, grad_fn=<DivBackward0>)\n"
     ]
    },
    {
     "data": {
      "application/vnd.jupyter.widget-view+json": {
       "model_id": "b5bf8c3fe6ae4d43a9dc883267a808d2",
       "version_major": 2,
       "version_minor": 0
      },
      "text/plain": [
       "  0%|          | 0/216 [00:00<?, ?it/s]"
      ]
     },
     "metadata": {},
     "output_type": "display_data"
    },
    {
     "name": "stdout",
     "output_type": "stream",
     "text": [
      "Train losses: tensor(1.8242e-05, grad_fn=<DivBackward0>)\n"
     ]
    }
   ],
   "source": [
    "test_prediction = []\n",
    "model_params = []\n",
    "for i, data_and_output in tqdm(enumerate(test_dataloader), total=len(test_dataloader)):\n",
    "    data, _ = data_and_output\n",
    "    # use test set prior to this step to retrain model\n",
    "    if i % (output_steps+input_steps) == 0 and i > 0:\n",
    "        print(\"Retrain on past test\")\n",
    "        for epoch in range(num_epochs_for_test):\n",
    "            train(test_dataloader, limit=i-output_steps-1)  # only train on 1-output_steps-1 sample\n",
    "    # predict\n",
    "    with torch.no_grad():\n",
    "        y_approx = model(D0=data[0,0,0], H0=data[0,0,1], E0=data[0,0,2])\n",
    "        test_prediction.append(y_approx[1:,\n",
    "                                        [model.pos_dict['D'], model.pos_dict['H'], model.pos_dict['E']]].detach().numpy())\n",
    "        \n",
    "    model_params.append([x.data for x in list(model.parameters())])"
   ]
  },
  {
   "cell_type": "code",
   "execution_count": 94,
   "id": "f6afcc3a-8eec-4bf6-bf04-db92db870996",
   "metadata": {
    "execution": {
     "iopub.execute_input": "2022-10-02T23:30:42.617415Z",
     "iopub.status.busy": "2022-10-02T23:30:42.617195Z",
     "iopub.status.idle": "2022-10-02T23:30:42.620337Z",
     "shell.execute_reply": "2022-10-02T23:30:42.619542Z",
     "shell.execute_reply.started": "2022-10-02T23:30:42.617391Z"
    },
    "tags": []
   },
   "outputs": [],
   "source": [
    "# test_prediction"
   ]
  },
  {
   "cell_type": "code",
   "execution_count": 95,
   "id": "efb8754f-c84d-412e-b74e-88fe55d08022",
   "metadata": {
    "execution": {
     "iopub.execute_input": "2022-10-02T23:30:42.623763Z",
     "iopub.status.busy": "2022-10-02T23:30:42.623175Z",
     "iopub.status.idle": "2022-10-02T23:30:42.628823Z",
     "shell.execute_reply": "2022-10-02T23:30:42.627647Z",
     "shell.execute_reply.started": "2022-10-02T23:30:42.623730Z"
    },
    "tags": []
   },
   "outputs": [],
   "source": [
    "test_prediction = np.array(test_prediction)"
   ]
  },
  {
   "cell_type": "code",
   "execution_count": 96,
   "id": "f74b6e54-7c4c-4bbb-ae02-e54edfbdff09",
   "metadata": {
    "execution": {
     "iopub.execute_input": "2022-10-02T23:30:42.631353Z",
     "iopub.status.busy": "2022-10-02T23:30:42.630899Z",
     "iopub.status.idle": "2022-10-02T23:30:42.635299Z",
     "shell.execute_reply": "2022-10-02T23:30:42.634372Z",
     "shell.execute_reply.started": "2022-10-02T23:30:42.631305Z"
    },
    "tags": []
   },
   "outputs": [],
   "source": [
    "predict_1_day_ahead = test_prediction[:,0]"
   ]
  },
  {
   "cell_type": "code",
   "execution_count": 97,
   "id": "8603e019-04da-4162-bb06-f7b4d595187d",
   "metadata": {
    "execution": {
     "iopub.execute_input": "2022-10-02T23:30:42.637409Z",
     "iopub.status.busy": "2022-10-02T23:30:42.637154Z",
     "iopub.status.idle": "2022-10-02T23:30:42.642204Z",
     "shell.execute_reply": "2022-10-02T23:30:42.640856Z",
     "shell.execute_reply.started": "2022-10-02T23:30:42.637375Z"
    },
    "tags": []
   },
   "outputs": [],
   "source": [
    "predict_1_day_ahead_observable=min_max_scaler.inverse_transform(predict_1_day_ahead)"
   ]
  },
  {
   "cell_type": "code",
   "execution_count": 98,
   "id": "0919f670-b413-4084-b1df-be4c8e990180",
   "metadata": {
    "execution": {
     "iopub.execute_input": "2022-10-02T23:30:42.644491Z",
     "iopub.status.busy": "2022-10-02T23:30:42.644163Z",
     "iopub.status.idle": "2022-10-02T23:30:42.648934Z",
     "shell.execute_reply": "2022-10-02T23:30:42.647827Z",
     "shell.execute_reply.started": "2022-10-02T23:30:42.644438Z"
    },
    "tags": []
   },
   "outputs": [],
   "source": [
    "true_test_value = min_max_scaler.inverse_transform(canada_test)"
   ]
  },
  {
   "cell_type": "code",
   "execution_count": 99,
   "id": "51425000-a949-43a0-ad13-16a8330052f1",
   "metadata": {
    "execution": {
     "iopub.execute_input": "2022-10-02T23:30:42.650795Z",
     "iopub.status.busy": "2022-10-02T23:30:42.650570Z",
     "iopub.status.idle": "2022-10-02T23:30:42.664780Z",
     "shell.execute_reply": "2022-10-02T23:30:42.663753Z",
     "shell.execute_reply.started": "2022-10-02T23:30:42.650771Z"
    },
    "tags": []
   },
   "outputs": [],
   "source": [
    "from datetime import datetime\n",
    "\n",
    "canada_csv = pd.read_csv('canada.csv')\n",
    "date_series = pd.to_datetime(canada_csv['Last_Update'])\n",
    "last_update_pydatetime = [datetime(year=x.year, month=x.month, day=x.day, hour=x.hour, minute=x.minute, second=x.second)\n",
    "                          for x in date_series]"
   ]
  },
  {
   "cell_type": "code",
   "execution_count": 100,
   "id": "4693cc05-0d87-4f80-8ea9-43701242f7ef",
   "metadata": {
    "execution": {
     "iopub.execute_input": "2022-10-02T23:30:42.668469Z",
     "iopub.status.busy": "2022-10-02T23:30:42.668179Z",
     "iopub.status.idle": "2022-10-02T23:30:43.071053Z",
     "shell.execute_reply": "2022-10-02T23:30:43.070442Z",
     "shell.execute_reply.started": "2022-10-02T23:30:42.668448Z"
    },
    "tags": []
   },
   "outputs": [
    {
     "data": {
      "image/png": "[encoded data removed]",
      "text/plain": [
       "<Figure size 432x288 with 1 Axes>"
      ]
     },
     "metadata": {
      "needs_background": "light"
     },
     "output_type": "display_data"
    }
   ],
   "source": [
    "import tikzplotlib\n",
    "\n",
    "x = last_update_pydatetime[VAL_IDX+input_steps+output_steps:]\n",
    "\n",
    "confirmed_color=(217/256,95/256,2/256)\n",
    "plt.plot(x, predict_1_day_ahead_observable[:,0], label ='predict infected', color=confirmed_color )\n",
    "plt.plot(x, true_test_value[3:,0], '-.', label ='actual infected', color =confirmed_color)\n",
    "healed_color=(27/256,158/256,119/256)\n",
    "plt.plot(x, predict_1_day_ahead_observable[:,1], label ='predict healed', color=healed_color)\n",
    "plt.plot(x, true_test_value[3:,1], '-.', label ='actual healed', color=healed_color)\n",
    "plt.xlabel(\"date\")\n",
    "plt.ylabel(\"number of people\")\n",
    "death_color=(117/256,112/236,179/256)\n",
    "plt.plot(x, predict_1_day_ahead_observable[:,2], label ='predict death', color=death_color)\n",
    "plt.plot(x, true_test_value[3:,2], '-.', label ='actual death', color=death_color)\n",
    "plt.yscale('log')\n",
    "plt.legend()\n",
    "plt.xticks(rotation=10)\n",
    "tikzplotlib.save(\"sidarthe.tikz\")\n",
    "plt.show()"
   ]
  },
  {
   "cell_type": "code",
   "execution_count": 101,
   "id": "48d3cce7-f8b3-4d09-9908-c296f68a7581",
   "metadata": {
    "execution": {
     "iopub.execute_input": "2022-10-02T23:30:43.073031Z",
     "iopub.status.busy": "2022-10-02T23:30:43.072818Z",
     "iopub.status.idle": "2022-10-02T23:30:43.078976Z",
     "shell.execute_reply": "2022-10-02T23:30:43.077816Z",
     "shell.execute_reply.started": "2022-10-02T23:30:43.073008Z"
    },
    "tags": []
   },
   "outputs": [
    {
     "data": {
      "text/plain": [
       "16410.667439629255"
      ]
     },
     "execution_count": 101,
     "metadata": {},
     "output_type": "execute_result"
    }
   ],
   "source": [
    "mean_squared_error(predict_1_day_ahead_observable[:,0], true_test_value[3:,0], squared=False)"
   ]
  },
  {
   "cell_type": "code",
   "execution_count": 102,
   "id": "36b7ec71-3aa4-4321-9311-e31407c6b231",
   "metadata": {
    "execution": {
     "iopub.execute_input": "2022-10-02T23:30:43.080739Z",
     "iopub.status.busy": "2022-10-02T23:30:43.080423Z",
     "iopub.status.idle": "2022-10-02T23:30:43.087479Z",
     "shell.execute_reply": "2022-10-02T23:30:43.086106Z",
     "shell.execute_reply.started": "2022-10-02T23:30:43.080712Z"
    },
    "tags": []
   },
   "outputs": [
    {
     "data": {
      "text/plain": [
       "10267.87672877038"
      ]
     },
     "execution_count": 102,
     "metadata": {},
     "output_type": "execute_result"
    }
   ],
   "source": [
    "mean_squared_error(predict_1_day_ahead_observable[:,1], true_test_value[3:,1], squared=False)"
   ]
  },
  {
   "cell_type": "code",
   "execution_count": 103,
   "id": "754aaf44-0ac1-40c0-91f1-d41c9d8a1db8",
   "metadata": {
    "execution": {
     "iopub.execute_input": "2022-10-02T23:30:43.089866Z",
     "iopub.status.busy": "2022-10-02T23:30:43.089408Z",
     "iopub.status.idle": "2022-10-02T23:30:43.096587Z",
     "shell.execute_reply": "2022-10-02T23:30:43.095173Z",
     "shell.execute_reply.started": "2022-10-02T23:30:43.089822Z"
    },
    "tags": []
   },
   "outputs": [
    {
     "data": {
      "text/plain": [
       "168.56754911020718"
      ]
     },
     "execution_count": 103,
     "metadata": {},
     "output_type": "execute_result"
    }
   ],
   "source": [
    "mean_squared_error(predict_1_day_ahead_observable[:,2], true_test_value[3:,2], squared=False)"
   ]
  },
  {
   "cell_type": "code",
   "execution_count": 118,
   "id": "8b211522-42eb-45dc-8fb3-abb3f29aa4af",
   "metadata": {
    "execution": {
     "iopub.execute_input": "2022-10-03T00:21:49.209653Z",
     "iopub.status.busy": "2022-10-03T00:21:49.209316Z",
     "iopub.status.idle": "2022-10-03T00:21:49.221732Z",
     "shell.execute_reply": "2022-10-03T00:21:49.220608Z",
     "shell.execute_reply.started": "2022-10-03T00:21:49.209616Z"
    },
    "tags": []
   },
   "outputs": [
    {
     "data": {
      "text/plain": [
       "[('y0',\n",
       "  Parameter containing:\n",
       "  tensor([0.5062, 0.4243, 0.0100, 0.0100, 0.0455], requires_grad=True)),\n",
       " ('α',\n",
       "  Parameter containing:\n",
       "  tensor([0.4497], requires_grad=True)),\n",
       " ('β',\n",
       "  Parameter containing:\n",
       "  tensor([0.3382], requires_grad=True)),\n",
       " ('γ',\n",
       "  Parameter containing:\n",
       "  tensor([0.4148], requires_grad=True)),\n",
       " ('δ',\n",
       "  Parameter containing:\n",
       "  tensor([0.1402], requires_grad=True)),\n",
       " ('ε',\n",
       "  Parameter containing:\n",
       "  tensor([0.1708], requires_grad=True)),\n",
       " ('θ',\n",
       "  Parameter containing:\n",
       "  tensor([0.4218], requires_grad=True)),\n",
       " ('ζ',\n",
       "  Parameter containing:\n",
       "  tensor([0.0863], requires_grad=True)),\n",
       " ('η',\n",
       "  Parameter containing:\n",
       "  tensor([0.0100], requires_grad=True)),\n",
       " ('μ',\n",
       "  Parameter containing:\n",
       "  tensor([0.1974], requires_grad=True)),\n",
       " ('ν',\n",
       "  Parameter containing:\n",
       "  tensor([0.1000], requires_grad=True)),\n",
       " ('τ',\n",
       "  Parameter containing:\n",
       "  tensor([0.1013], requires_grad=True)),\n",
       " ('λ',\n",
       "  Parameter containing:\n",
       "  tensor([0.0100], requires_grad=True)),\n",
       " ('κ',\n",
       "  Parameter containing:\n",
       "  tensor([0.0100], requires_grad=True)),\n",
       " ('ξ',\n",
       "  Parameter containing:\n",
       "  tensor([0.0100], requires_grad=True)),\n",
       " ('ρ',\n",
       "  Parameter containing:\n",
       "  tensor([0.0100], requires_grad=True)),\n",
       " ('σ',\n",
       "  Parameter containing:\n",
       "  tensor([0.0100], requires_grad=True))]"
      ]
     },
     "execution_count": 118,
     "metadata": {},
     "output_type": "execute_result"
    }
   ],
   "source": [
    "list(model.named_parameters())"
   ]
  }
 ],
 "metadata": {
  "kernelspec": {
   "display_name": "Python 3",
   "language": "python",
   "name": "python3"
  },
  "language_info": {
   "codemirror_mode": {
    "name": "ipython",
    "version": 3
   },
   "file_extension": ".py",
   "mimetype": "text/x-python",
   "name": "python",
   "nbconvert_exporter": "python",
   "pygments_lexer": "ipython3",
   "version": "3.7.9"
  }
 },
 "nbformat": 4,
 "nbformat_minor": 5
}
