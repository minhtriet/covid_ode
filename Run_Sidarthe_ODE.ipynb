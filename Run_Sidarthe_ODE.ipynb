{
 "cells": [
  {
   "cell_type": "code",
   "execution_count": 80,
   "id": "2bb3e3b8-442c-4b75-8c1f-863f02bde29a",
   "metadata": {
    "execution": {
     "iopub.execute_input": "2022-09-22T23:18:42.414881Z",
     "iopub.status.busy": "2022-09-22T23:18:42.414547Z",
     "iopub.status.idle": "2022-09-22T23:18:42.431881Z",
     "shell.execute_reply": "2022-09-22T23:18:42.431124Z",
     "shell.execute_reply.started": "2022-09-22T23:18:42.414855Z"
    },
    "tags": []
   },
   "outputs": [],
   "source": [
    "import torch\n",
    "from covid_ode import sidartha_ode, covid_dataset\n",
    "import pandas as pd\n",
    "from torch.utils.data import DataLoader\n",
    "from tqdm.notebook import tqdm\n",
    "import numpy as np\n",
    "from sklearn.metrics import mean_squared_error\n",
    "device = torch.device(\"cuda\" if torch.cuda.is_available() else \"cpu\")"
   ]
  },
  {
   "cell_type": "code",
   "execution_count": 2,
   "id": "92f384c5-3b0b-41ce-8688-bf9ad652fbc1",
   "metadata": {
    "execution": {
     "iopub.execute_input": "2022-09-21T11:44:28.226794Z",
     "iopub.status.busy": "2022-09-21T11:44:28.226591Z",
     "iopub.status.idle": "2022-09-21T11:44:28.235505Z",
     "shell.execute_reply": "2022-09-21T11:44:28.234680Z",
     "shell.execute_reply.started": "2022-09-21T11:44:28.226771Z"
    },
    "tags": []
   },
   "outputs": [],
   "source": [
    "canada = pd.read_csv('canada.csv')\n",
    "canada = canada.values[:, 0:3].astype(float)"
   ]
  },
  {
   "cell_type": "code",
   "execution_count": 3,
   "id": "ed7cdb24-fa5d-4b71-a723-841fd3f5e7c5",
   "metadata": {
    "execution": {
     "iopub.execute_input": "2022-09-21T11:44:28.236916Z",
     "iopub.status.busy": "2022-09-21T11:44:28.236713Z",
     "iopub.status.idle": "2022-09-21T11:44:28.669662Z",
     "shell.execute_reply": "2022-09-21T11:44:28.668950Z",
     "shell.execute_reply.started": "2022-09-21T11:44:28.236895Z"
    },
    "tags": []
   },
   "outputs": [],
   "source": [
    "from sklearn.preprocessing import MinMaxScaler"
   ]
  },
  {
   "cell_type": "code",
   "execution_count": 4,
   "id": "920e90ef-5f1a-4091-bbfd-7e546d8793f8",
   "metadata": {
    "execution": {
     "iopub.execute_input": "2022-09-21T11:44:28.670826Z",
     "iopub.status.busy": "2022-09-21T11:44:28.670646Z",
     "iopub.status.idle": "2022-09-21T11:44:28.681144Z",
     "shell.execute_reply": "2022-09-21T11:44:28.680097Z",
     "shell.execute_reply.started": "2022-09-21T11:44:28.670805Z"
    },
    "tags": []
   },
   "outputs": [
    {
     "data": {
      "text/plain": [
       "(555, 4)"
      ]
     },
     "execution_count": 4,
     "metadata": {},
     "output_type": "execute_result"
    }
   ],
   "source": [
    "canada.shape"
   ]
  },
  {
   "cell_type": "code",
   "execution_count": 7,
   "id": "0489017c-94f1-41a5-b54b-5c4629f0110d",
   "metadata": {
    "execution": {
     "iopub.execute_input": "2022-09-21T11:44:28.697816Z",
     "iopub.status.busy": "2022-09-21T11:44:28.697489Z",
     "iopub.status.idle": "2022-09-21T11:44:28.721293Z",
     "shell.execute_reply": "2022-09-21T11:44:28.720770Z",
     "shell.execute_reply.started": "2022-09-21T11:44:28.697770Z"
    },
    "tags": []
   },
   "outputs": [
    {
     "data": {
      "text/html": [
       "<div>\n",
       "<style scoped>\n",
       "    .dataframe tbody tr th:only-of-type {\n",
       "        vertical-align: middle;\n",
       "    }\n",
       "\n",
       "    .dataframe tbody tr th {\n",
       "        vertical-align: top;\n",
       "    }\n",
       "\n",
       "    .dataframe thead th {\n",
       "        text-align: right;\n",
       "    }\n",
       "</style>\n",
       "<table border=\"1\" class=\"dataframe\">\n",
       "  <thead>\n",
       "    <tr style=\"text-align: right;\">\n",
       "      <th></th>\n",
       "      <th>Confirmed</th>\n",
       "      <th>Recovered</th>\n",
       "      <th>Deaths</th>\n",
       "      <th>Last_Update</th>\n",
       "    </tr>\n",
       "  </thead>\n",
       "  <tbody>\n",
       "    <tr>\n",
       "      <th>0</th>\n",
       "      <td>4.0</td>\n",
       "      <td>0.0</td>\n",
       "      <td>0.0</td>\n",
       "      <td>2020-01-28 23:00:00</td>\n",
       "    </tr>\n",
       "    <tr>\n",
       "      <th>1</th>\n",
       "      <td>4.0</td>\n",
       "      <td>0.0</td>\n",
       "      <td>0.0</td>\n",
       "      <td>2020-01-29 19:30:00</td>\n",
       "    </tr>\n",
       "    <tr>\n",
       "      <th>2</th>\n",
       "      <td>4.0</td>\n",
       "      <td>0.0</td>\n",
       "      <td>0.0</td>\n",
       "      <td>2020-01-30 16:00:00</td>\n",
       "    </tr>\n",
       "    <tr>\n",
       "      <th>3</th>\n",
       "      <td>4.0</td>\n",
       "      <td>0.0</td>\n",
       "      <td>0.0</td>\n",
       "      <td>2020-01-31 23:59:00</td>\n",
       "    </tr>\n",
       "    <tr>\n",
       "      <th>4</th>\n",
       "      <td>4.0</td>\n",
       "      <td>0.0</td>\n",
       "      <td>0.0</td>\n",
       "      <td>2020-02-01 18:12:00</td>\n",
       "    </tr>\n",
       "    <tr>\n",
       "      <th>...</th>\n",
       "      <td>...</td>\n",
       "      <td>...</td>\n",
       "      <td>...</td>\n",
       "      <td>...</td>\n",
       "    </tr>\n",
       "    <tr>\n",
       "      <th>550</th>\n",
       "      <td>1434967.0</td>\n",
       "      <td>1404107.0</td>\n",
       "      <td>26599.0</td>\n",
       "      <td>2021-08-01 04:21:50</td>\n",
       "    </tr>\n",
       "    <tr>\n",
       "      <th>551</th>\n",
       "      <td>1435347.0</td>\n",
       "      <td>1404244.0</td>\n",
       "      <td>26601.0</td>\n",
       "      <td>2021-08-02 04:21:36</td>\n",
       "    </tr>\n",
       "    <tr>\n",
       "      <th>552</th>\n",
       "      <td>1435683.0</td>\n",
       "      <td>1404327.0</td>\n",
       "      <td>26602.0</td>\n",
       "      <td>2021-08-03 04:21:39</td>\n",
       "    </tr>\n",
       "    <tr>\n",
       "      <th>553</th>\n",
       "      <td>1437713.0</td>\n",
       "      <td>1405529.0</td>\n",
       "      <td>26608.0</td>\n",
       "      <td>2021-08-04 04:21:25</td>\n",
       "    </tr>\n",
       "    <tr>\n",
       "      <th>554</th>\n",
       "      <td>1438806.0</td>\n",
       "      <td>1405971.0</td>\n",
       "      <td>26619.0</td>\n",
       "      <td>2021-08-05 04:21:51</td>\n",
       "    </tr>\n",
       "  </tbody>\n",
       "</table>\n",
       "<p>555 rows × 4 columns</p>\n",
       "</div>"
      ],
      "text/plain": [
       "     Confirmed  Recovered   Deaths          Last_Update\n",
       "0          4.0        0.0      0.0  2020-01-28 23:00:00\n",
       "1          4.0        0.0      0.0  2020-01-29 19:30:00\n",
       "2          4.0        0.0      0.0  2020-01-30 16:00:00\n",
       "3          4.0        0.0      0.0  2020-01-31 23:59:00\n",
       "4          4.0        0.0      0.0  2020-02-01 18:12:00\n",
       "..         ...        ...      ...                  ...\n",
       "550  1434967.0  1404107.0  26599.0  2021-08-01 04:21:50\n",
       "551  1435347.0  1404244.0  26601.0  2021-08-02 04:21:36\n",
       "552  1435683.0  1404327.0  26602.0  2021-08-03 04:21:39\n",
       "553  1437713.0  1405529.0  26608.0  2021-08-04 04:21:25\n",
       "554  1438806.0  1405971.0  26619.0  2021-08-05 04:21:51\n",
       "\n",
       "[555 rows x 4 columns]"
      ]
     },
     "execution_count": 7,
     "metadata": {},
     "output_type": "execute_result"
    }
   ],
   "source": [
    "canada"
   ]
  },
  {
   "cell_type": "code",
   "execution_count": 8,
   "id": "8c17ba45-64fe-452c-8df4-04067291913d",
   "metadata": {
    "execution": {
     "iopub.execute_input": "2022-09-21T11:44:28.724261Z",
     "iopub.status.busy": "2022-09-21T11:44:28.723669Z",
     "iopub.status.idle": "2022-09-21T11:44:28.729335Z",
     "shell.execute_reply": "2022-09-21T11:44:28.728187Z",
     "shell.execute_reply.started": "2022-09-21T11:44:28.724211Z"
    },
    "tags": []
   },
   "outputs": [],
   "source": []
  },
  {
   "cell_type": "code",
   "execution_count": 9,
   "id": "5f80af06-d168-45c8-b41b-eb584131862b",
   "metadata": {
    "execution": {
     "iopub.execute_input": "2022-09-21T11:44:28.731763Z",
     "iopub.status.busy": "2022-09-21T11:44:28.731273Z",
     "iopub.status.idle": "2022-09-21T11:44:28.741602Z",
     "shell.execute_reply": "2022-09-21T11:44:28.740580Z",
     "shell.execute_reply.started": "2022-09-21T11:44:28.731715Z"
    },
    "tags": []
   },
   "outputs": [
    {
     "data": {
      "text/plain": [
       "MinMaxScaler()"
      ]
     },
     "execution_count": 9,
     "metadata": {},
     "output_type": "execute_result"
    }
   ],
   "source": [
    "TRAIN_IDX = int(canada.shape[0]*.5)\n",
    "VAL_IDX = TRAIN_IDX + int(canada.shape[0]*.1)\n",
    "\n",
    "min_max_scaler = MinMaxScaler()\n",
    "min_max_scaler.fit(canada[:TRAIN_IDX])"
   ]
  },
  {
   "cell_type": "code",
   "execution_count": 10,
   "id": "2258e7da-b747-4cfc-a5b2-056e2603fd11",
   "metadata": {
    "execution": {
     "iopub.execute_input": "2022-09-21T11:44:28.743725Z",
     "iopub.status.busy": "2022-09-21T11:44:28.743362Z",
     "iopub.status.idle": "2022-09-21T11:44:28.749590Z",
     "shell.execute_reply": "2022-09-21T11:44:28.748323Z",
     "shell.execute_reply.started": "2022-09-21T11:44:28.743678Z"
    },
    "tags": []
   },
   "outputs": [],
   "source": [
    "canada_train = min_max_scaler.transform(canada[:TRAIN_IDX])\n",
    "canada_val = min_max_scaler.transform(canada[TRAIN_IDX:VAL_IDX])\n",
    "canada_test = min_max_scaler.transform(canada[VAL_IDX:])"
   ]
  },
  {
   "cell_type": "code",
   "execution_count": 11,
   "id": "7190f0b0-abf6-4a22-aa60-3a92d6e3ec64",
   "metadata": {
    "execution": {
     "iopub.execute_input": "2022-09-21T11:44:28.751566Z",
     "iopub.status.busy": "2022-09-21T11:44:28.750885Z",
     "iopub.status.idle": "2022-09-21T11:44:28.755647Z",
     "shell.execute_reply": "2022-09-21T11:44:28.754698Z",
     "shell.execute_reply.started": "2022-09-21T11:44:28.751529Z"
    },
    "tags": []
   },
   "outputs": [],
   "source": [
    "# Learning Rate\n",
    "lr = 0.01\n",
    "\n",
    "# number of historic data points for fitting\n",
    "input_steps = 1\n",
    "\n",
    "# forecasting horizon\n",
    "output_steps = 2\n",
    "\n",
    "# number of epochs for training\n",
    "num_epochs = 20000"
   ]
  },
  {
   "cell_type": "code",
   "execution_count": 12,
   "id": "962d427e-5aee-4bb5-b63d-5710493a938f",
   "metadata": {
    "execution": {
     "iopub.execute_input": "2022-09-21T11:44:28.757718Z",
     "iopub.status.busy": "2022-09-21T11:44:28.757288Z",
     "iopub.status.idle": "2022-09-21T11:44:28.763999Z",
     "shell.execute_reply": "2022-09-21T11:44:28.762732Z",
     "shell.execute_reply.started": "2022-09-21T11:44:28.757661Z"
    },
    "tags": []
   },
   "outputs": [
    {
     "data": {
      "text/plain": [
       "55"
      ]
     },
     "execution_count": 12,
     "metadata": {},
     "output_type": "execute_result"
    }
   ],
   "source": [
    "VAL_IDX-TRAIN_IDX"
   ]
  },
  {
   "cell_type": "code",
   "execution_count": 13,
   "id": "e474c655-0acf-4fbe-b182-8c67fef6a5b9",
   "metadata": {
    "execution": {
     "iopub.execute_input": "2022-09-21T11:44:28.766195Z",
     "iopub.status.busy": "2022-09-21T11:44:28.765708Z",
     "iopub.status.idle": "2022-09-21T11:44:28.771894Z",
     "shell.execute_reply": "2022-09-21T11:44:28.770924Z",
     "shell.execute_reply.started": "2022-09-21T11:44:28.766141Z"
    },
    "tags": []
   },
   "outputs": [],
   "source": [
    "training_data = covid_dataset.CovidDataset(canada_train, input_steps, output_steps)\n",
    "train_dataloader = DataLoader(training_data, batch_size=1, shuffle=False)\n",
    "\n",
    "val_data = covid_dataset.CovidDataset(canada_val, input_steps, output_steps)\n",
    "val_dataloader = DataLoader(val_data, batch_size=1, shuffle=False)\n",
    "\n",
    "test_data = covid_dataset.CovidDataset(canada_test, input_steps, output_steps)\n",
    "test_dataloader = DataLoader(test_data, batch_size=1, shuffle=False)"
   ]
  },
  {
   "cell_type": "code",
   "execution_count": 14,
   "id": "5980097f-9a1d-412d-8365-6d7fd2429dac",
   "metadata": {
    "execution": {
     "iopub.execute_input": "2022-09-21T11:44:28.773434Z",
     "iopub.status.busy": "2022-09-21T11:44:28.773081Z",
     "iopub.status.idle": "2022-09-21T11:44:31.461966Z",
     "shell.execute_reply": "2022-09-21T11:44:31.461157Z",
     "shell.execute_reply.started": "2022-09-21T11:44:28.773405Z"
    },
    "tags": []
   },
   "outputs": [
    {
     "data": {
      "application/vnd.jupyter.widget-view+json": {
       "model_id": "b999aa9f2269449283fcbdaf6e02883b",
       "version_major": 2,
       "version_minor": 0
      },
      "text/plain": [
       "  0%|          | 0/274 [00:00<?, ?it/s]"
      ]
     },
     "metadata": {},
     "output_type": "display_data"
    },
    {
     "data": {
      "application/vnd.jupyter.widget-view+json": {
       "model_id": "16788027b0674a4480496e3e2d631929",
       "version_major": 2,
       "version_minor": 0
      },
      "text/plain": [
       "  0%|          | 0/52 [00:00<?, ?it/s]"
      ]
     },
     "metadata": {},
     "output_type": "display_data"
    },
    {
     "name": "stdout",
     "output_type": "stream",
     "text": [
      "tensor(0.0003)\n",
      "tensor(0.0003)\n",
      "tensor(0.0004)\n",
      "tensor(0.0003)\n",
      "tensor(0.0004)\n",
      "tensor(0.0005)\n",
      "tensor(0.0005)\n",
      "tensor(0.0005)\n",
      "tensor(0.0006)\n",
      "tensor(0.0007)\n",
      "tensor(0.0007)\n",
      "tensor(0.0009)\n",
      "tensor(0.0011)\n",
      "tensor(0.0013)\n",
      "tensor(0.0014)\n",
      "tensor(0.0017)\n",
      "tensor(0.0020)\n",
      "tensor(0.0022)\n",
      "tensor(0.0025)\n",
      "tensor(0.0029)\n",
      "tensor(0.0034)\n",
      "tensor(0.0035)\n",
      "tensor(0.0040)\n",
      "tensor(0.0049)\n",
      "tensor(0.0056)\n",
      "tensor(0.0065)\n",
      "tensor(0.0076)\n",
      "tensor(0.0088)\n",
      "tensor(0.0094)\n",
      "tensor(0.0108)\n",
      "tensor(0.0132)\n",
      "tensor(0.0147)\n",
      "tensor(0.0168)\n",
      "tensor(0.0195)\n",
      "tensor(0.0229)\n",
      "tensor(0.0254)\n",
      "tensor(0.0288)\n",
      "tensor(0.0340)\n",
      "tensor(0.0382)\n",
      "tensor(0.0427)\n",
      "tensor(0.0487)\n",
      "tensor(0.0561)\n",
      "tensor(0.0607)\n",
      "tensor(0.0676)\n",
      "tensor(0.0804)\n",
      "tensor(0.0888)\n",
      "tensor(0.0997)\n",
      "tensor(0.1146)\n",
      "tensor(0.1306)\n",
      "tensor(0.1428)\n",
      "tensor(0.1576)\n",
      "tensor(0.1801)\n"
     ]
    }
   ],
   "source": [
    "model = sidartha_ode.SIDARTHEOde(len_data = output_steps).to(device)\n",
    "\n",
    "optimizer = torch.optim.Adam(model.parameters(), lr)\n",
    "scheduler = torch.optim.lr_scheduler.StepLR(optimizer, step_size= 1000, gamma=0.9)\n",
    "loss_fun = torch.nn.MSELoss()\n",
    "min_loss = 1\n",
    "validation_prediction = [] \n",
    "\n",
    "for data, y_exact in tqdm(train_dataloader):\n",
    "    optimizer.zero_grad()    \n",
    "    y_approx = model(I0=data[0,0,0], H0=data[0,0,1], E0=data[0,0,2])\n",
    "    loss = loss_fun(y_approx[1:, \n",
    "                             [model.pos_dict['I'], model.pos_dict['H'], model.pos_dict['E']]], # I, H, E\n",
    "                    y_exact.squeeze())    \n",
    "    loss.backward()\n",
    "    optimizer.step()\n",
    "    scheduler.step()    \n",
    "with torch.no_grad():\n",
    "    for data, y_exact in tqdm(val_dataloader):\n",
    "        y_approx = model(I0=data[0,0,0], H0=data[0,0,1], E0=data[0,0,2])\n",
    "        validation_prediction.append(y_approx.numpy())\n",
    "        loss = loss_fun(y_approx[1:, \n",
    "                             [model.pos_dict['I'], model.pos_dict['H'], model.pos_dict['E']]], # I, H, E\n",
    "                    y_exact.squeeze())\n",
    "        print(loss)"
   ]
  },
  {
   "cell_type": "code",
   "execution_count": 15,
   "id": "febc21de-97c1-4c44-b27b-cf83cdf1af9c",
   "metadata": {
    "execution": {
     "iopub.execute_input": "2022-09-21T11:44:31.463380Z",
     "iopub.status.busy": "2022-09-21T11:44:31.463091Z",
     "iopub.status.idle": "2022-09-21T11:44:31.469487Z",
     "shell.execute_reply": "2022-09-21T11:44:31.468497Z",
     "shell.execute_reply.started": "2022-09-21T11:44:31.463339Z"
    },
    "tags": []
   },
   "outputs": [
    {
     "data": {
      "text/plain": [
       "tensor([[[2.2502, 2.2213, 1.4323],\n",
       "         [2.2786, 2.2554, 1.4465]]])"
      ]
     },
     "execution_count": 15,
     "metadata": {},
     "output_type": "execute_result"
    }
   ],
   "source": [
    "y_exact"
   ]
  },
  {
   "cell_type": "code",
   "execution_count": 16,
   "id": "9442f273-3ad5-4e6e-a0cd-9a81f42891a8",
   "metadata": {
    "execution": {
     "iopub.execute_input": "2022-09-21T11:44:31.470818Z",
     "iopub.status.busy": "2022-09-21T11:44:31.470619Z",
     "iopub.status.idle": "2022-09-21T11:44:31.478018Z",
     "shell.execute_reply": "2022-09-21T11:44:31.476874Z",
     "shell.execute_reply.started": "2022-09-21T11:44:31.470795Z"
    },
    "tags": []
   },
   "outputs": [
    {
     "data": {
      "text/plain": [
       "tensor([[2.2530, 2.1904, 1.4341],\n",
       "        [3.3165, 2.2070, 1.4335]])"
      ]
     },
     "execution_count": 16,
     "metadata": {},
     "output_type": "execute_result"
    }
   ],
   "source": [
    "y_approx[1:, [model.pos_dict['I'], model.pos_dict['H'], model.pos_dict['E']]]"
   ]
  },
  {
   "cell_type": "code",
   "execution_count": 17,
   "id": "97f7f076-8ad5-436b-a7d2-7a0372d0cf76",
   "metadata": {
    "execution": {
     "iopub.execute_input": "2022-09-21T11:44:31.479716Z",
     "iopub.status.busy": "2022-09-21T11:44:31.479494Z",
     "iopub.status.idle": "2022-09-21T11:44:31.484501Z",
     "shell.execute_reply": "2022-09-21T11:44:31.483531Z",
     "shell.execute_reply.started": "2022-09-21T11:44:31.479692Z"
    },
    "tags": []
   },
   "outputs": [
    {
     "data": {
      "text/plain": [
       "tensor([[[2.2225, 2.1803, 1.4204]]])"
      ]
     },
     "execution_count": 17,
     "metadata": {},
     "output_type": "execute_result"
    }
   ],
   "source": [
    "data"
   ]
  },
  {
   "cell_type": "code",
   "execution_count": 18,
   "id": "9557ec0f-2c3e-428e-b302-d10ae137b2fe",
   "metadata": {
    "execution": {
     "iopub.execute_input": "2022-09-21T11:44:31.486166Z",
     "iopub.status.busy": "2022-09-21T11:44:31.485862Z",
     "iopub.status.idle": "2022-09-21T11:44:31.492988Z",
     "shell.execute_reply": "2022-09-21T11:44:31.491978Z",
     "shell.execute_reply.started": "2022-09-21T11:44:31.486131Z"
    },
    "tags": []
   },
   "outputs": [
    {
     "data": {
      "text/plain": [
       "tensor([[0.3753, 0.3533, 0.3791, 0.3455, 0.1400, 2.2225, 1.4204, 2.1803],\n",
       "        [0.9355, 0.5496, 0.2764, 0.6478, 0.2501, 2.2530, 1.4341, 2.1904],\n",
       "        [2.6265, 0.7440, 0.2466, 0.9558, 0.3888, 3.3165, 1.4335, 2.2070]])"
      ]
     },
     "execution_count": 18,
     "metadata": {},
     "output_type": "execute_result"
    }
   ],
   "source": [
    "y_approx"
   ]
  },
  {
   "cell_type": "code",
   "execution_count": 25,
   "id": "a00e96b2-b3c2-4adc-acd8-31be767d3665",
   "metadata": {
    "execution": {
     "iopub.execute_input": "2022-09-21T11:46:55.037632Z",
     "iopub.status.busy": "2022-09-21T11:46:55.037173Z",
     "iopub.status.idle": "2022-09-21T11:46:55.043501Z",
     "shell.execute_reply": "2022-09-21T11:46:55.041636Z",
     "shell.execute_reply.started": "2022-09-21T11:46:55.037586Z"
    },
    "tags": []
   },
   "outputs": [],
   "source": [
    "validation_prediction = np.array(validation_prediction)"
   ]
  },
  {
   "cell_type": "code",
   "execution_count": 28,
   "id": "2cb9bfb6-5309-4d23-a2aa-bb7161605020",
   "metadata": {
    "execution": {
     "iopub.execute_input": "2022-09-21T11:47:12.360905Z",
     "iopub.status.busy": "2022-09-21T11:47:12.360523Z",
     "iopub.status.idle": "2022-09-21T11:47:12.368589Z",
     "shell.execute_reply": "2022-09-21T11:47:12.366931Z",
     "shell.execute_reply.started": "2022-09-21T11:47:12.360866Z"
    },
    "tags": []
   },
   "outputs": [
    {
     "data": {
      "text/plain": [
       "(52, 3, 8)"
      ]
     },
     "execution_count": 28,
     "metadata": {},
     "output_type": "execute_result"
    }
   ],
   "source": [
    "validation_prediction.shape"
   ]
  },
  {
   "cell_type": "code",
   "execution_count": 29,
   "id": "339f5a67-fed4-4d49-a3b5-7fe3371c69f4",
   "metadata": {
    "execution": {
     "iopub.execute_input": "2022-09-21T11:47:25.327841Z",
     "iopub.status.busy": "2022-09-21T11:47:25.327456Z",
     "iopub.status.idle": "2022-09-21T11:47:25.337589Z",
     "shell.execute_reply": "2022-09-21T11:47:25.336048Z",
     "shell.execute_reply.started": "2022-09-21T11:47:25.327797Z"
    },
    "tags": []
   },
   "outputs": [
    {
     "data": {
      "text/plain": [
       "array([[1.00985912, 1.01024196, 1.00402553],\n",
       "       [1.0205462 , 1.01946327, 1.00765832],\n",
       "       [1.03457485, 1.03144692, 1.01050565],\n",
       "       [1.05462003, 1.04953919, 1.01610211],\n",
       "       [1.06675923, 1.06032447, 1.02022582],\n",
       "       [1.08391291, 1.06852007, 1.02444772],\n",
       "       [1.10433173, 1.08889227, 1.029946  ],\n",
       "       [1.12229214, 1.09852489, 1.03456063],\n",
       "       [1.13907217, 1.10838094, 1.03966618],\n",
       "       [1.15983916, 1.12604667, 1.04536082],\n",
       "       [1.17954466, 1.1420621 , 1.05144821],\n",
       "       [1.19703802, 1.15178104, 1.05743741],\n",
       "       [1.22035258, 1.17007642, 1.06489936],\n",
       "       [1.24100493, 1.19026075, 1.06971036],\n",
       "       [1.25919887, 1.20278264, 1.07589593],\n",
       "       [1.27662854, 1.22087999, 1.08306333],\n",
       "       [1.30133153, 1.24253688, 1.09032892],\n",
       "       [1.32011141, 1.2636606 , 1.09680903],\n",
       "       [1.34012687, 1.28513977, 1.10682376],\n",
       "       [1.36142036, 1.30657323, 1.11399116],\n",
       "       [1.38296011, 1.32913906, 1.1203731 ],\n",
       "       [1.40346385, 1.34850585, 1.12704958],\n",
       "       [1.42313963, 1.36662858, 1.13274423],\n",
       "       [1.45189327, 1.39292152, 1.14030437],\n",
       "       [1.47494884, 1.41260314, 1.14923908],\n",
       "       [1.49891728, 1.43135045, 1.15837015],\n",
       "       [1.5238071 , 1.4505903 , 1.16681394],\n",
       "       [1.54872664, 1.47876711, 1.17496318],\n",
       "       [1.57243608, 1.50036814, 1.18213058],\n",
       "       [1.5955893 , 1.51874984, 1.18969072],\n",
       "       [1.62817279, 1.54667784, 1.20009818],\n",
       "       [1.65279936, 1.57187397, 1.20765832],\n",
       "       [1.67983763, 1.59712088, 1.21816397],\n",
       "       [1.70755951, 1.62109325, 1.22709867],\n",
       "       [1.73652969, 1.6492853 , 1.2365243 ],\n",
       "       [1.76278246, 1.67403458, 1.24428081],\n",
       "       [1.78796525, 1.69789524, 1.25213549],\n",
       "       [1.82114743, 1.74694188, 1.26440844],\n",
       "       [1.84773138, 1.77535227, 1.27383407],\n",
       "       [1.87475267, 1.80466144, 1.28463427],\n",
       "       [1.90262315, 1.83319369, 1.29671085],\n",
       "       [1.9324213 , 1.86780918, 1.30976927],\n",
       "       [1.9586401 , 1.89858583, 1.31929308],\n",
       "       [1.9840819 , 1.92273085, 1.32724595],\n",
       "       [2.02036362, 1.95506639, 1.34128621],\n",
       "       [2.04732972, 1.98763551, 1.35179185],\n",
       "       [2.07627867, 2.01699546, 1.36435935],\n",
       "       [2.10763509, 2.04974738, 1.37889053],\n",
       "       [2.13818052, 2.08692208, 1.39086892],\n",
       "       [2.16439083, 2.11694722, 1.40088365],\n",
       "       [2.19015956, 2.14372763, 1.40962199],\n",
       "       [2.22254775, 2.18027268, 1.42042219],\n",
       "       [2.25024839, 2.22133191, 1.43230241],\n",
       "       [2.27864961, 2.25539391, 1.44653903],\n",
       "       [2.3056242 , 2.27546652, 1.46067747]])"
      ]
     },
     "execution_count": 29,
     "metadata": {},
     "output_type": "execute_result"
    }
   ],
   "source": [
    "# predict, confirmed, recovered, death\n",
    "observerable=[validation_prediction[:, :, [model.pos_dict['I'], model.pos_dict['H'], model.pos_dict['E']]]]\n",
    "\n",
    "canada_val"
   ]
  },
  {
   "cell_type": "code",
   "execution_count": 56,
   "id": "f6dd5928-b7a3-489c-b8e6-6c6ad9a9c631",
   "metadata": {
    "execution": {
     "iopub.execute_input": "2022-09-22T22:32:59.710974Z",
     "iopub.status.busy": "2022-09-22T22:32:59.710682Z",
     "iopub.status.idle": "2022-09-22T22:32:59.721378Z",
     "shell.execute_reply": "2022-09-22T22:32:59.720436Z",
     "shell.execute_reply.started": "2022-09-22T22:32:59.710915Z"
    },
    "tags": []
   },
   "outputs": [],
   "source": [
    "inversed_predict = [min_max_scaler.inverse_transform(i) for i in observerable[0]]"
   ]
  },
  {
   "cell_type": "code",
   "execution_count": 57,
   "id": "0e1b993d-8696-469d-b7b7-adab503fff07",
   "metadata": {
    "execution": {
     "iopub.execute_input": "2022-09-22T22:33:00.497794Z",
     "iopub.status.busy": "2022-09-22T22:33:00.497494Z",
     "iopub.status.idle": "2022-09-22T22:33:00.503724Z",
     "shell.execute_reply": "2022-09-22T22:33:00.501829Z",
     "shell.execute_reply.started": "2022-09-22T22:33:00.497760Z"
    },
    "tags": []
   },
   "outputs": [],
   "source": [
    "inversed_predict = np.array(inversed_predict)"
   ]
  },
  {
   "cell_type": "code",
   "execution_count": 83,
   "id": "cf7b3fc9-3935-4b2a-b416-5b5dccd0677d",
   "metadata": {
    "execution": {
     "iopub.execute_input": "2022-09-22T23:20:05.565509Z",
     "iopub.status.busy": "2022-09-22T23:20:05.565174Z",
     "iopub.status.idle": "2022-09-22T23:20:05.572758Z",
     "shell.execute_reply": "2022-09-22T23:20:05.570963Z",
     "shell.execute_reply.started": "2022-09-22T23:20:05.565471Z"
    },
    "tags": []
   },
   "outputs": [
    {
     "data": {
      "text/plain": [
       "(52, 3, 3)"
      ]
     },
     "execution_count": 83,
     "metadata": {},
     "output_type": "execute_result"
    }
   ],
   "source": [
    "inversed_predict.shape"
   ]
  },
  {
   "cell_type": "code",
   "execution_count": 60,
   "id": "956a1b7e-4d30-45b0-870c-0f0210b18145",
   "metadata": {
    "execution": {
     "iopub.execute_input": "2022-09-22T22:33:26.884759Z",
     "iopub.status.busy": "2022-09-22T22:33:26.884371Z",
     "iopub.status.idle": "2022-09-22T22:33:26.889684Z",
     "shell.execute_reply": "2022-09-22T22:33:26.888435Z",
     "shell.execute_reply.started": "2022-09-22T22:33:26.884714Z"
    },
    "tags": []
   },
   "outputs": [],
   "source": [
    "predict_1_ahead = inversed_predict[:,1]\n",
    "predict_2_ahead = inversed_predict[:,2]"
   ]
  },
  {
   "cell_type": "code",
   "execution_count": 63,
   "id": "2ff59515-dd90-4631-bff9-65f84bb47243",
   "metadata": {
    "execution": {
     "iopub.execute_input": "2022-09-22T22:34:04.964959Z",
     "iopub.status.busy": "2022-09-22T22:34:04.964624Z",
     "iopub.status.idle": "2022-09-22T22:34:04.973635Z",
     "shell.execute_reply": "2022-09-22T22:34:04.972087Z",
     "shell.execute_reply.started": "2022-09-22T22:34:04.964924Z"
    },
    "tags": []
   },
   "outputs": [
    {
     "data": {
      "text/plain": [
       "array([232774.20633877, 235253.8317928 , 238512.07851951, 243174.25856274,\n",
       "       246001.41175703, 250001.29696119, 254770.06011402, 258971.47090241,\n",
       "       262902.55819544, 267775.49127144, 272407.4044686 , 276525.96441943,\n",
       "       282024.81533578, 286905.17389926, 291211.96813128, 295344.3835366 ,\n",
       "       301212.2881465 , 305681.9689846 , 310454.10694441, 315540.53552632,\n",
       "       320695.9242542 , 325612.90196237, 330340.16136045, 337264.15735896,\n",
       "       342829.64075945, 348628.46334228, 354664.33692363, 360721.99517226,\n",
       "       366499.16971896, 372153.81109911, 380133.57566188, 386181.92380728,\n",
       "       392839.89610319, 399685.20802676, 406859.5647196 , 413379.53435183,\n",
       "       419650.54449764, 427938.93079697, 434600.24064198, 441390.55938071,\n",
       "       448415.01861768, 455948.89393134, 462598.17605854, 469068.83699965,\n",
       "       478328.22559934, 485234.68857765, 492672.53870938, 500756.76584792,\n",
       "       508660.07836646, 515464.14925912, 522174.00677461, 530636.52884265])"
      ]
     },
     "execution_count": 63,
     "metadata": {},
     "output_type": "execute_result"
    }
   ],
   "source": [
    "predict_1_ahead[:,0]"
   ]
  },
  {
   "cell_type": "code",
   "execution_count": 67,
   "id": "abfe8c27-62ee-42c5-9f8b-56bb05394e0f",
   "metadata": {
    "execution": {
     "iopub.execute_input": "2022-09-22T22:35:25.494396Z",
     "iopub.status.busy": "2022-09-22T22:35:25.493862Z",
     "iopub.status.idle": "2022-09-22T22:35:25.499118Z",
     "shell.execute_reply": "2022-09-22T22:35:25.497739Z",
     "shell.execute_reply.started": "2022-09-22T22:35:25.494352Z"
    },
    "tags": []
   },
   "outputs": [],
   "source": [
    "true_value=min_max_scaler.inverse_transform(canada_val)"
   ]
  },
  {
   "cell_type": "code",
   "execution_count": null,
   "id": "5177ffd6-03db-459d-b1f9-c7d150f86fc7",
   "metadata": {},
   "outputs": [],
   "source": []
  },
  {
   "cell_type": "code",
   "execution_count": 71,
   "id": "aad3b3a0-6396-4183-8b4c-3fe0e51f1552",
   "metadata": {
    "execution": {
     "iopub.execute_input": "2022-09-22T22:36:15.249580Z",
     "iopub.status.busy": "2022-09-22T22:36:15.249185Z",
     "iopub.status.idle": "2022-09-22T22:36:15.255844Z",
     "shell.execute_reply": "2022-09-22T22:36:15.254450Z",
     "shell.execute_reply.started": "2022-09-22T22:36:15.249538Z"
    },
    "tags": []
   },
   "outputs": [
    {
     "data": {
      "text/plain": [
       "range(2, 52)"
      ]
     },
     "execution_count": 71,
     "metadata": {},
     "output_type": "execute_result"
    }
   ],
   "source": [
    "x[2:]"
   ]
  },
  {
   "cell_type": "code",
   "execution_count": 85,
   "id": "2839523b-190a-43c7-bfc2-ee93b68c0a3d",
   "metadata": {
    "execution": {
     "iopub.execute_input": "2022-09-23T01:11:18.544694Z",
     "iopub.status.busy": "2022-09-23T01:11:18.534065Z",
     "iopub.status.idle": "2022-09-23T01:11:18.929947Z",
     "shell.execute_reply": "2022-09-23T01:11:18.928439Z",
     "shell.execute_reply.started": "2022-09-23T01:11:18.543038Z"
    },
    "tags": []
   },
   "outputs": [
    {
     "data": {
      "image/png": "[encoded data removed]",
      "text/plain": [
       "<Figure size 432x288 with 1 Axes>"
      ]
     },
     "metadata": {
      "needs_background": "light"
     },
     "output_type": "display_data"
    }
   ],
   "source": [
    "import matplotlib.pyplot as plt\n",
    "\n",
    "x = range(len(true_value))\n",
    "\n",
    "plt.plot(x[3:], predict_1_ahead[:,0], label ='predict infected 1')\n",
    "plt.plot(x, true_value[:,0], '-.', label ='actual infected')\n",
    "plt.plot(x[3:], predict_1_ahead[:,1], label ='predict recovered')\n",
    "plt.plot(x, true_value[:,1], '-.', label ='actual recovered')\n",
    "\n",
    "plt.xlabel(\"date\")\n",
    "plt.ylabel(\"number of people\")\n",
    "plt.legend()\n",
    "plt.show()"
   ]
  },
  {
   "cell_type": "code",
   "execution_count": 86,
   "id": "d732d879-c924-4a65-802c-f76c8a12ad2d",
   "metadata": {
    "execution": {
     "iopub.execute_input": "2022-09-23T01:11:51.164433Z",
     "iopub.status.busy": "2022-09-23T01:11:51.163965Z",
     "iopub.status.idle": "2022-09-23T01:11:51.322109Z",
     "shell.execute_reply": "2022-09-23T01:11:51.321206Z",
     "shell.execute_reply.started": "2022-09-23T01:11:51.164380Z"
    },
    "tags": []
   },
   "outputs": [
    {
     "data": {
      "image/png": "[encoded data removed]",
      "text/plain": [
       "<Figure size 432x288 with 1 Axes>"
      ]
     },
     "metadata": {
      "needs_background": "light"
     },
     "output_type": "display_data"
    }
   ],
   "source": [
    "plt.plot(x[3:], predict_1_ahead[:,2], label ='predict death')\n",
    "plt.plot(x, true_value[:,2], '-.', label ='actual death')\n",
    "plt.xlabel(\"date\")\n",
    "plt.ylabel(\"number of people\")\n",
    "plt.legend()\n",
    "plt.show()"
   ]
  },
  {
   "cell_type": "code",
   "execution_count": 84,
   "id": "efbccded-7151-4596-9458-4b16e9e32a83",
   "metadata": {
    "execution": {
     "iopub.execute_input": "2022-09-22T23:20:35.788335Z",
     "iopub.status.busy": "2022-09-22T23:20:35.788051Z",
     "iopub.status.idle": "2022-09-22T23:20:35.798859Z",
     "shell.execute_reply": "2022-09-22T23:20:35.797255Z",
     "shell.execute_reply.started": "2022-09-22T23:20:35.788304Z"
    },
    "tags": []
   },
   "outputs": [
    {
     "data": {
      "text/plain": [
       "19662.229484811858"
      ]
     },
     "execution_count": 84,
     "metadata": {},
     "output_type": "execute_result"
    }
   ],
   "source": [
    "mean_squared_error(predict_1_ahead[:,0], true_value[3:,0], squared=False)"
   ]
  }
 ],
 "metadata": {
  "kernelspec": {
   "display_name": "Python 3",
   "language": "python",
   "name": "python3"
  },
  "language_info": {
   "codemirror_mode": {
    "name": "ipython",
    "version": 3
   },
   "file_extension": ".py",
   "mimetype": "text/x-python",
   "name": "python",
   "nbconvert_exporter": "python",
   "pygments_lexer": "ipython3",
   "version": "3.7.9"
  }
 },
 "nbformat": 4,
 "nbformat_minor": 5
}
